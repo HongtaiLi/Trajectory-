{
 "metadata": {
  "name": ""
 },
 "nbformat": 3,
 "nbformat_minor": 0,
 "worksheets": [
  {
   "cells": [
    {
     "cell_type": "code",
     "collapsed": false,
     "input": [
      "import pandas as pd\n",
      "import sys\n",
      "import os\n",
      "\n",
      "\n",
      "def import_user(path,user_id=0):\n",
      "    df_list = []\n",
      "    #print 'xxx'\n",
      "    for root, dirs, files in os.walk(path):\n",
      "        t_no = 0\n",
      "        for name in files:\n",
      "            file_path =  os.path.join(root, name)\n",
      "            df_temp = pd.read_csv(file_path,skiprows=6,sep=',',header=None,names=['lat','lon','zero','altitude','num','date','time'])\n",
      "            df_temp['t_no'] = t_no\n",
      "            t_no += 1\n",
      "            df_list.append(df_temp)\n",
      "            \n",
      "    \n",
      "    df_merge = pd.concat(df_list,axis=0)\n",
      "    df_merge = df_merge.drop(['altitude','zero','num'],axis=1)\n",
      "    df_merge['user_id'] = user_id\n",
      "    print df_merge.shape\n",
      "    return df_merge\n",
      "\n",
      "# def import_all():\n",
      "#     for i\n",
      "\n",
      "\n",
      "path = '/Users/dingmia/Google Drive/project/movingObject/dataset/Geolife Trajectories 1.3/Data/000/Trajectory/'\n",
      "df = import_user(path)\n",
      "df.head()\n",
      "#print df.head()\n",
      "#print df['t_no'].max()\n",
      "#print df['t_no'].min()\n",
      "\n"
     ],
     "language": "python",
     "metadata": {},
     "outputs": [
      {
       "output_type": "stream",
       "stream": "stdout",
       "text": [
        "(173870, 6)\n"
       ]
      },
      {
       "html": [
        "<div style=\"max-height:1000px;max-width:1500px;overflow:auto;\">\n",
        "<table border=\"1\" class=\"dataframe\">\n",
        "  <thead>\n",
        "    <tr style=\"text-align: right;\">\n",
        "      <th></th>\n",
        "      <th>lat</th>\n",
        "      <th>lon</th>\n",
        "      <th>date</th>\n",
        "      <th>time</th>\n",
        "      <th>t_no</th>\n",
        "      <th>user_id</th>\n",
        "    </tr>\n",
        "  </thead>\n",
        "  <tbody>\n",
        "    <tr>\n",
        "      <th>0</th>\n",
        "      <td> 39.984702</td>\n",
        "      <td> 116.318417</td>\n",
        "      <td> 2008-10-23</td>\n",
        "      <td> 02:53:04</td>\n",
        "      <td> 0</td>\n",
        "      <td> 0</td>\n",
        "    </tr>\n",
        "    <tr>\n",
        "      <th>1</th>\n",
        "      <td> 39.984683</td>\n",
        "      <td> 116.318450</td>\n",
        "      <td> 2008-10-23</td>\n",
        "      <td> 02:53:10</td>\n",
        "      <td> 0</td>\n",
        "      <td> 0</td>\n",
        "    </tr>\n",
        "    <tr>\n",
        "      <th>2</th>\n",
        "      <td> 39.984686</td>\n",
        "      <td> 116.318417</td>\n",
        "      <td> 2008-10-23</td>\n",
        "      <td> 02:53:15</td>\n",
        "      <td> 0</td>\n",
        "      <td> 0</td>\n",
        "    </tr>\n",
        "    <tr>\n",
        "      <th>3</th>\n",
        "      <td> 39.984688</td>\n",
        "      <td> 116.318385</td>\n",
        "      <td> 2008-10-23</td>\n",
        "      <td> 02:53:20</td>\n",
        "      <td> 0</td>\n",
        "      <td> 0</td>\n",
        "    </tr>\n",
        "    <tr>\n",
        "      <th>4</th>\n",
        "      <td> 39.984655</td>\n",
        "      <td> 116.318263</td>\n",
        "      <td> 2008-10-23</td>\n",
        "      <td> 02:53:25</td>\n",
        "      <td> 0</td>\n",
        "      <td> 0</td>\n",
        "    </tr>\n",
        "  </tbody>\n",
        "</table>\n",
        "</div>"
       ],
       "metadata": {},
       "output_type": "pyout",
       "prompt_number": 2,
       "text": [
        "         lat         lon        date      time  t_no  user_id\n",
        "0  39.984702  116.318417  2008-10-23  02:53:04     0        0\n",
        "1  39.984683  116.318450  2008-10-23  02:53:10     0        0\n",
        "2  39.984686  116.318417  2008-10-23  02:53:15     0        0\n",
        "3  39.984688  116.318385  2008-10-23  02:53:20     0        0\n",
        "4  39.984655  116.318263  2008-10-23  02:53:25     0        0"
       ]
      }
     ],
     "prompt_number": 2
    },
    {
     "cell_type": "code",
     "collapsed": false,
     "input": [],
     "language": "python",
     "metadata": {},
     "outputs": [],
     "prompt_number": 2
    },
    {
     "cell_type": "code",
     "collapsed": false,
     "input": [
      "import numpy as np\n",
      "import pygmaps\n",
      "import random\n",
      "#df_a_user = df[df.t_no==0]\n",
      "\n",
      "#data = df_a_user[['lat','lon']].values\n",
      "#print data\n",
      "#path = data[:, :2]\n",
      "#data_rate = data[:, -1]\n",
      "gmap = pygmaps.gmap(df['lat'].mean(), df['lon'].mean(), zoom=9)\n",
      "#gmap.add_path(path)\n",
      "\n",
      "def add_trajectory(g):\n",
      "    r = lambda: random.randint(0,255)\n",
      "    color = '#%02X%02X%02X' % (r(),r(),r())\n",
      "    #print color \n",
      "    if g['t_no'][0]>=2:\n",
      "        return\n",
      "    df_path =  g[['lat','lon']]\n",
      "    path = df_path.values[:,:2]\n",
      "    gmap.add_path(path,color)\n",
      "        \n",
      "grouped = df.groupby('t_no')['lat','lon']\n",
      "\n",
      "grouped.apply(add_trajectory)\n",
      "\n",
      "\n",
      "\n",
      "gmap.draw(\"trajectory.html\")\n"
     ],
     "language": "python",
     "metadata": {},
     "outputs": [],
     "prompt_number": 7
    },
    {
     "cell_type": "code",
     "collapsed": false,
     "input": [
      "df.head()"
     ],
     "language": "python",
     "metadata": {},
     "outputs": [
      {
       "html": [
        "<div style=\"max-height:1000px;max-width:1500px;overflow:auto;\">\n",
        "<table border=\"1\" class=\"dataframe\">\n",
        "  <thead>\n",
        "    <tr style=\"text-align: right;\">\n",
        "      <th></th>\n",
        "      <th>lat</th>\n",
        "      <th>lon</th>\n",
        "      <th>date</th>\n",
        "      <th>time</th>\n",
        "      <th>t_no</th>\n",
        "      <th>user_id</th>\n",
        "    </tr>\n",
        "  </thead>\n",
        "  <tbody>\n",
        "    <tr>\n",
        "      <th>0</th>\n",
        "      <td> 39.984702</td>\n",
        "      <td> 116.318417</td>\n",
        "      <td> 2008-10-23</td>\n",
        "      <td> 02:53:04</td>\n",
        "      <td> 0</td>\n",
        "      <td> 0</td>\n",
        "    </tr>\n",
        "    <tr>\n",
        "      <th>1</th>\n",
        "      <td> 39.984683</td>\n",
        "      <td> 116.318450</td>\n",
        "      <td> 2008-10-23</td>\n",
        "      <td> 02:53:10</td>\n",
        "      <td> 0</td>\n",
        "      <td> 0</td>\n",
        "    </tr>\n",
        "    <tr>\n",
        "      <th>2</th>\n",
        "      <td> 39.984686</td>\n",
        "      <td> 116.318417</td>\n",
        "      <td> 2008-10-23</td>\n",
        "      <td> 02:53:15</td>\n",
        "      <td> 0</td>\n",
        "      <td> 0</td>\n",
        "    </tr>\n",
        "    <tr>\n",
        "      <th>3</th>\n",
        "      <td> 39.984688</td>\n",
        "      <td> 116.318385</td>\n",
        "      <td> 2008-10-23</td>\n",
        "      <td> 02:53:20</td>\n",
        "      <td> 0</td>\n",
        "      <td> 0</td>\n",
        "    </tr>\n",
        "    <tr>\n",
        "      <th>4</th>\n",
        "      <td> 39.984655</td>\n",
        "      <td> 116.318263</td>\n",
        "      <td> 2008-10-23</td>\n",
        "      <td> 02:53:25</td>\n",
        "      <td> 0</td>\n",
        "      <td> 0</td>\n",
        "    </tr>\n",
        "  </tbody>\n",
        "</table>\n",
        "</div>"
       ],
       "metadata": {},
       "output_type": "pyout",
       "prompt_number": 72,
       "text": [
        "         lat         lon        date      time  t_no  user_id\n",
        "0  39.984702  116.318417  2008-10-23  02:53:04     0        0\n",
        "1  39.984683  116.318450  2008-10-23  02:53:10     0        0\n",
        "2  39.984686  116.318417  2008-10-23  02:53:15     0        0\n",
        "3  39.984688  116.318385  2008-10-23  02:53:20     0        0\n",
        "4  39.984655  116.318263  2008-10-23  02:53:25     0        0"
       ]
      }
     ],
     "prompt_number": 72
    },
    {
     "cell_type": "code",
     "collapsed": false,
     "input": [
      "df.groupby('t_no').size().min()"
     ],
     "language": "python",
     "metadata": {},
     "outputs": [
      {
       "metadata": {},
       "output_type": "pyout",
       "prompt_number": 14,
       "text": [
        "5"
       ]
      }
     ],
     "prompt_number": 14
    },
    {
     "cell_type": "code",
     "collapsed": false,
     "input": [
      "import mpl_toolkits.basemap.pyproj as pyproj\n",
      "def _vec2d_dist(p1, p2):\n",
      "    return (p1[0] - p2[0])**2 + (p1[1] - p2[1])**2\n",
      "\n",
      "\n",
      "def _vec2d_sub(p1, p2):\n",
      "    return (p1[0]-p2[0], p1[1]-p2[1])\n",
      "\n",
      "\n",
      "def _vec2d_mult(p1, p2):\n",
      "    return p1[0]*p2[0] + p1[1]*p2[1]\n",
      "\n",
      "\n",
      "def ramerdouglas(line, dist):\n",
      "    \"\"\"Does Ramer-Douglas-Peucker simplification of a line with `dist`\n",
      "    threshold.\n",
      "\n",
      "    `line` is a list-of-tuples, where each tuple is a 2D coordinate\n",
      "\n",
      "    Usage is like so:\n",
      "\n",
      "    >>> myline = [(0.0, 0.0), (1.0, 2.0), (2.0, 1.0)]\n",
      "    >>> simplified = (myline, dist = 1.0)\n",
      "    \"\"\"\n",
      "\n",
      "    if len(line) < 3:\n",
      "        return line\n",
      "\n",
      "    begin, end = line[0], line[-1]\n",
      "\n",
      "    distSq = []\n",
      "    for curr in line[1:-1]:\n",
      "        tmp = (\n",
      "            _vec2d_dist(begin, curr) - _vec2d_mult(_vec2d_sub(end, begin), _vec2d_sub(curr, begin)) ** 2 / _vec2d_dist(begin, end))\n",
      "        distSq.append(tmp)\n",
      "\n",
      "    maxdist = max(distSq)\n",
      "    if maxdist < dist ** 2:\n",
      "        return [begin, end]\n",
      "\n",
      "    pos = distSq.index(maxdist)\n",
      "    return (ramerdouglas(line[:pos + 2], dist) + \n",
      "            ramerdouglas(line[pos + 1:], dist)[1:])\n"
     ],
     "language": "python",
     "metadata": {},
     "outputs": [
      {
       "ename": "ImportError",
       "evalue": "No module named basemap.pyproj",
       "output_type": "pyerr",
       "traceback": [
        "\u001b[0;31m---------------------------------------------------------------------------\u001b[0m\n\u001b[0;31mImportError\u001b[0m                               Traceback (most recent call last)",
        "\u001b[0;32m<ipython-input-15-fdd3a21eef71>\u001b[0m in \u001b[0;36m<module>\u001b[0;34m()\u001b[0m\n\u001b[0;32m----> 1\u001b[0;31m \u001b[0;32mimport\u001b[0m \u001b[0mmpl_toolkits\u001b[0m\u001b[0;34m.\u001b[0m\u001b[0mbasemap\u001b[0m\u001b[0;34m.\u001b[0m\u001b[0mpyproj\u001b[0m \u001b[0;32mas\u001b[0m \u001b[0mpyproj\u001b[0m\u001b[0;34m\u001b[0m\u001b[0m\n\u001b[0m\u001b[1;32m      2\u001b[0m \u001b[0;32mdef\u001b[0m \u001b[0m_vec2d_dist\u001b[0m\u001b[0;34m(\u001b[0m\u001b[0mp1\u001b[0m\u001b[0;34m,\u001b[0m \u001b[0mp2\u001b[0m\u001b[0;34m)\u001b[0m\u001b[0;34m:\u001b[0m\u001b[0;34m\u001b[0m\u001b[0m\n\u001b[1;32m      3\u001b[0m     \u001b[0;32mreturn\u001b[0m \u001b[0;34m(\u001b[0m\u001b[0mp1\u001b[0m\u001b[0;34m[\u001b[0m\u001b[0;36m0\u001b[0m\u001b[0;34m]\u001b[0m \u001b[0;34m-\u001b[0m \u001b[0mp2\u001b[0m\u001b[0;34m[\u001b[0m\u001b[0;36m0\u001b[0m\u001b[0;34m]\u001b[0m\u001b[0;34m)\u001b[0m\u001b[0;34m**\u001b[0m\u001b[0;36m2\u001b[0m \u001b[0;34m+\u001b[0m \u001b[0;34m(\u001b[0m\u001b[0mp1\u001b[0m\u001b[0;34m[\u001b[0m\u001b[0;36m1\u001b[0m\u001b[0;34m]\u001b[0m \u001b[0;34m-\u001b[0m \u001b[0mp2\u001b[0m\u001b[0;34m[\u001b[0m\u001b[0;36m1\u001b[0m\u001b[0;34m]\u001b[0m\u001b[0;34m)\u001b[0m\u001b[0;34m**\u001b[0m\u001b[0;36m2\u001b[0m\u001b[0;34m\u001b[0m\u001b[0m\n\u001b[1;32m      4\u001b[0m \u001b[0;34m\u001b[0m\u001b[0m\n\u001b[1;32m      5\u001b[0m \u001b[0;34m\u001b[0m\u001b[0m\n",
        "\u001b[0;31mImportError\u001b[0m: No module named basemap.pyproj"
       ]
      }
     ],
     "prompt_number": 15
    },
    {
     "cell_type": "code",
     "collapsed": false,
     "input": [
      "!pip install basemap"
     ],
     "language": "python",
     "metadata": {},
     "outputs": [
      {
       "output_type": "stream",
       "stream": "stdout",
       "text": [
        "Downloading/unpacking basemap\r\n"
       ]
      },
      {
       "output_type": "stream",
       "stream": "stdout",
       "text": [
        "  You are installing an externally hosted file. Future versions of pip will default to disallowing externally hosted files.\r\n",
        "  You are installing a potentially insecure and unverifiable file. Future versions of pip will default to disallowing insecure files.\r\n"
       ]
      },
      {
       "output_type": "stream",
       "stream": "stdout",
       "text": [
        "  Downloading basemap-1.0.7.tar.gz (129.7MB): \r",
        "  Downloading basemap-1.0.7.tar.gz (129.7MB):   0%  4.1kB"
       ]
      },
      {
       "output_type": "stream",
       "stream": "stdout",
       "text": [
        "\r",
        "  Downloading basemap-1.0.7.tar.gz (129.7MB):   0%  8.2kB"
       ]
      },
      {
       "output_type": "stream",
       "stream": "stdout",
       "text": [
        "\r",
        "  Downloading basemap-1.0.7.tar.gz (129.7MB):   0%  12kB \r",
        "  Downloading basemap-1.0.7.tar.gz (129.7MB):   0%  16kB\r",
        "  Downloading basemap-1.0.7.tar.gz (129.7MB):   0%  20kB"
       ]
      },
      {
       "output_type": "stream",
       "stream": "stdout",
       "text": [
        "\r",
        "  Downloading basemap-1.0.7.tar.gz (129.7MB):   0%  24kB\r",
        "  Downloading basemap-1.0.7.tar.gz (129.7MB):   0%  28kB\r",
        "  Downloading basemap-1.0.7.tar.gz (129.7MB):   0%  32kB\r",
        "  Downloading basemap-1.0.7.tar.gz (129.7MB):   0%  36kB\r",
        "  Downloading basemap-1.0.7.tar.gz (129.7MB):   0%  40kB"
       ]
      },
      {
       "output_type": "stream",
       "stream": "stdout",
       "text": [
        "\r",
        "  Downloading basemap-1.0.7.tar.gz (129.7MB):   0%  45kB\r",
        "  Downloading basemap-1.0.7.tar.gz (129.7MB):   0%  49kB\r",
        "  Downloading basemap-1.0.7.tar.gz (129.7MB):   0%  53kB\r",
        "  Downloading basemap-1.0.7.tar.gz (129.7MB):   0%  57kB\r",
        "  Downloading basemap-1.0.7.tar.gz (129.7MB):   0%  61kB\r",
        "  Downloading basemap-1.0.7.tar.gz (129.7MB):   0%  65kB\r",
        "  Downloading basemap-1.0.7.tar.gz (129.7MB):   0%  69kB"
       ]
      },
      {
       "output_type": "stream",
       "stream": "stdout",
       "text": [
        "\r",
        "  Downloading basemap-1.0.7.tar.gz (129.7MB):   0%  73kB\r",
        "  Downloading basemap-1.0.7.tar.gz (129.7MB):   0%  77kB\r",
        "  Downloading basemap-1.0.7.tar.gz (129.7MB):   0%  81kB\r",
        "  Downloading basemap-1.0.7.tar.gz (129.7MB):   0%  86kB\r",
        "  Downloading basemap-1.0.7.tar.gz (129.7MB):   0%  90kB\r",
        "  Downloading basemap-1.0.7.tar.gz (129.7MB):   0%  94kB\r",
        "  Downloading basemap-1.0.7.tar.gz (129.7MB):   0%  98kB\r",
        "  Downloading basemap-1.0.7.tar.gz (129.7MB):   0%  102kB\r",
        "  Downloading basemap-1.0.7.tar.gz (129.7MB):   0%  106kB\r",
        "  Downloading basemap-1.0.7.tar.gz (129.7MB):   0%  110kB\r",
        "  Downloading basemap-1.0.7.tar.gz (129.7MB):   0%  114kB"
       ]
      },
      {
       "output_type": "stream",
       "stream": "stdout",
       "text": [
        "\r",
        "  Downloading basemap-1.0.7.tar.gz (129.7MB):   0%  118kB\r",
        "  Downloading basemap-1.0.7.tar.gz (129.7MB):   0%  122kB\r",
        "  Downloading basemap-1.0.7.tar.gz (129.7MB):   0%  126kB\r",
        "  Downloading basemap-1.0.7.tar.gz (129.7MB):   0%  131kB\r",
        "  Downloading basemap-1.0.7.tar.gz (129.7MB):   0%  135kB\r",
        "  Downloading basemap-1.0.7.tar.gz (129.7MB):   0%  139kB\r",
        "  Downloading basemap-1.0.7.tar.gz (129.7MB):   0%  143kB\r",
        "  Downloading basemap-1.0.7.tar.gz (129.7MB):   0%  147kB\r",
        "  Downloading basemap-1.0.7.tar.gz (129.7MB):   0%  151kB\r",
        "  Downloading basemap-1.0.7.tar.gz (129.7MB):   0%  155kB\r",
        "  Downloading basemap-1.0.7.tar.gz (129.7MB):   0%  159kB\r",
        "  Downloading basemap-1.0.7.tar.gz (129.7MB):   0%  163kB\r",
        "  Downloading basemap-1.0.7.tar.gz (129.7MB):   0%  167kB\r",
        "  Downloading basemap-1.0.7.tar.gz (129.7MB):   0%  172kB\r",
        "  Downloading basemap-1.0.7.tar.gz (129.7MB):   0%  176kB\r",
        "  Downloading basemap-1.0.7.tar.gz (129.7MB):   0%  180kB"
       ]
      },
      {
       "output_type": "stream",
       "stream": "stdout",
       "text": [
        "\r",
        "  Downloading basemap-1.0.7.tar.gz (129.7MB):   0%  184kB\r",
        "  Downloading basemap-1.0.7.tar.gz (129.7MB):   0%  188kB\r",
        "  Downloading basemap-1.0.7.tar.gz (129.7MB):   0%  192kB\r",
        "  Downloading basemap-1.0.7.tar.gz (129.7MB):   0%  196kB\r",
        "  Downloading basemap-1.0.7.tar.gz (129.7MB):   0%  200kB"
       ]
      },
      {
       "output_type": "stream",
       "stream": "stdout",
       "text": [
        "\r",
        "  Downloading basemap-1.0.7.tar.gz (129.7MB):   0%  204kB\r",
        "  Downloading basemap-1.0.7.tar.gz (129.7MB):   0%  208kB\r",
        "  Downloading basemap-1.0.7.tar.gz (129.7MB):   0%  212kB\r",
        "  Downloading basemap-1.0.7.tar.gz (129.7MB):   0%  217kB\r",
        "  Downloading basemap-1.0.7.tar.gz (129.7MB):   0%  221kB\r",
        "  Downloading basemap-1.0.7.tar.gz (129.7MB):   0%  225kB\r",
        "  Downloading basemap-1.0.7.tar.gz (129.7MB):   0%  229kB\r",
        "  Downloading basemap-1.0.7.tar.gz (129.7MB):   0%  233kB\r",
        "  Downloading basemap-1.0.7.tar.gz (129.7MB):   0%  237kB\r",
        "  Downloading basemap-1.0.7.tar.gz (129.7MB):   0%  241kB\r",
        "  Downloading basemap-1.0.7.tar.gz (129.7MB):   0%  245kB\r",
        "  Downloading basemap-1.0.7.tar.gz (129.7MB):   0%  249kB\r",
        "  Downloading basemap-1.0.7.tar.gz (129.7MB):   0%  253kB\r",
        "  Downloading basemap-1.0.7.tar.gz (129.7MB):   0%  258kB\r",
        "  Downloading basemap-1.0.7.tar.gz (129.7MB):   0%  262kB\r",
        "  Downloading basemap-1.0.7.tar.gz (129.7MB):   0%  266kB\r",
        "  Downloading basemap-1.0.7.tar.gz (129.7MB):   0%  270kB\r",
        "  Downloading basemap-1.0.7.tar.gz (129.7MB):   0%  274kB\r",
        "  Downloading basemap-1.0.7.tar.gz (129.7MB):   0%  278kB\r",
        "  Downloading basemap-1.0.7.tar.gz (129.7MB):   0%  282kB\r",
        "  Downloading basemap-1.0.7.tar.gz (129.7MB):   0%  286kB"
       ]
      },
      {
       "output_type": "stream",
       "stream": "stdout",
       "text": [
        "\r",
        "  Downloading basemap-1.0.7.tar.gz (129.7MB):   0%  290kB\r",
        "  Downloading basemap-1.0.7.tar.gz (129.7MB):   0%  294kB\r",
        "  Downloading basemap-1.0.7.tar.gz (129.7MB):   0%  299kB\r",
        "  Downloading basemap-1.0.7.tar.gz (129.7MB):   0%  303kB\r",
        "  Downloading basemap-1.0.7.tar.gz (129.7MB):   0%  307kB\r",
        "  Downloading basemap-1.0.7.tar.gz (129.7MB):   0%  311kB\r",
        "  Downloading basemap-1.0.7.tar.gz (129.7MB):   0%  315kB\r",
        "  Downloading basemap-1.0.7.tar.gz (129.7MB):   0%  319kB\r",
        "  Downloading basemap-1.0.7.tar.gz (129.7MB):   0%  323kB\r",
        "  Downloading basemap-1.0.7.tar.gz (129.7MB):   0%  327kB\r",
        "  Downloading basemap-1.0.7.tar.gz (129.7MB):   0%  331kB\r",
        "  Downloading basemap-1.0.7.tar.gz (129.7MB):   0%  335kB\r",
        "  Downloading basemap-1.0.7.tar.gz (129.7MB):   0%  339kB\r",
        "  Downloading basemap-1.0.7.tar.gz (129.7MB):   0%  344kB\r",
        "  Downloading basemap-1.0.7.tar.gz (129.7MB):   0%  348kB\r",
        "  Downloading basemap-1.0.7.tar.gz (129.7MB):   0%  352kB\r",
        "  Downloading basemap-1.0.7.tar.gz (129.7MB):   0%  356kB\r",
        "  Downloading basemap-1.0.7.tar.gz (129.7MB):   0%  360kB\r",
        "  Downloading basemap-1.0.7.tar.gz (129.7MB):   0%  364kB\r",
        "  Downloading basemap-1.0.7.tar.gz (129.7MB):   0%  368kB\r",
        "  Downloading basemap-1.0.7.tar.gz (129.7MB):   0%  372kB\r",
        "  Downloading basemap-1.0.7.tar.gz (129.7MB):   0%  376kB\r",
        "  Downloading basemap-1.0.7.tar.gz (129.7MB):   0%  380kB\r",
        "  Downloading basemap-1.0.7.tar.gz (129.7MB):   0%  385kB\r",
        "  Downloading basemap-1.0.7.tar.gz (129.7MB):   0%  389kB\r",
        "  Downloading basemap-1.0.7.tar.gz (129.7MB):   0%  393kB\r",
        "  Downloading basemap-1.0.7.tar.gz (129.7MB):   0%  397kB\r",
        "  Downloading basemap-1.0.7.tar.gz (129.7MB):   0%  401kB\r",
        "  Downloading basemap-1.0.7.tar.gz (129.7MB):   0%  405kB\r",
        "  Downloading basemap-1.0.7.tar.gz (129.7MB):   0%  409kB\r",
        "  Downloading basemap-1.0.7.tar.gz (129.7MB):   0%  413kB\r",
        "  Downloading basemap-1.0.7.tar.gz (129.7MB):   0%  417kB"
       ]
      },
      {
       "output_type": "stream",
       "stream": "stdout",
       "text": [
        "\r",
        "  Downloading basemap-1.0.7.tar.gz (129.7MB):   0%  421kB\r",
        "  Downloading basemap-1.0.7.tar.gz (129.7MB):   0%  425kB\r",
        "  Downloading basemap-1.0.7.tar.gz (129.7MB):   0%  430kB\r",
        "  Downloading basemap-1.0.7.tar.gz (129.7MB):   0%  434kB\r",
        "  Downloading basemap-1.0.7.tar.gz (129.7MB):   0%  438kB\r",
        "  Downloading basemap-1.0.7.tar.gz (129.7MB):   0%  442kB\r",
        "  Downloading basemap-1.0.7.tar.gz (129.7MB):   0%  446kB\r",
        "  Downloading basemap-1.0.7.tar.gz (129.7MB):   0%  450kB\r",
        "  Downloading basemap-1.0.7.tar.gz (129.7MB):   0%  454kB\r",
        "  Downloading basemap-1.0.7.tar.gz (129.7MB):   0%  458kB\r",
        "  Downloading basemap-1.0.7.tar.gz (129.7MB):   0%  462kB\r",
        "  Downloading basemap-1.0.7.tar.gz (129.7MB):   0%  466kB\r",
        "  Downloading basemap-1.0.7.tar.gz (129.7MB):   0%  471kB\r",
        "  Downloading basemap-1.0.7.tar.gz (129.7MB):   0%  475kB\r",
        "  Downloading basemap-1.0.7.tar.gz (129.7MB):   0%  479kB"
       ]
      },
      {
       "output_type": "stream",
       "stream": "stdout",
       "text": [
        "\r",
        "  Downloading basemap-1.0.7.tar.gz (129.7MB):   0%  483kB\r",
        "  Downloading basemap-1.0.7.tar.gz (129.7MB):   0%  487kB\r",
        "  Downloading basemap-1.0.7.tar.gz (129.7MB):   0%  491kB\r",
        "  Downloading basemap-1.0.7.tar.gz (129.7MB):   0%  495kB\r",
        "  Downloading basemap-1.0.7.tar.gz (129.7MB):   0%  499kB\r",
        "  Downloading basemap-1.0.7.tar.gz (129.7MB):   0%  503kB\r",
        "  Downloading basemap-1.0.7.tar.gz (129.7MB):   0%  507kB\r",
        "  Downloading basemap-1.0.7.tar.gz (129.7MB):   0%  512kB\r",
        "  Downloading basemap-1.0.7.tar.gz (129.7MB):   0%  516kB\r",
        "  Downloading basemap-1.0.7.tar.gz (129.7MB):   0%  520kB\r",
        "  Downloading basemap-1.0.7.tar.gz (129.7MB):   0%  524kB\r",
        "  Downloading basemap-1.0.7.tar.gz (129.7MB):   0%  528kB\r",
        "  Downloading basemap-1.0.7.tar.gz (129.7MB):   0%  532kB\r",
        "  Downloading basemap-1.0.7.tar.gz (129.7MB):   0%  536kB\r",
        "  Downloading basemap-1.0.7.tar.gz (129.7MB):   0%  540kB\r",
        "  Downloading basemap-1.0.7.tar.gz (129.7MB):   0%  544kB\r",
        "  Downloading basemap-1.0.7.tar.gz (129.7MB):   0%  548kB\r",
        "  Downloading basemap-1.0.7.tar.gz (129.7MB):   0%  552kB\r",
        "  Downloading basemap-1.0.7.tar.gz (129.7MB):   0%  557kB\r",
        "  Downloading basemap-1.0.7.tar.gz (129.7MB):   0%  561kB"
       ]
      },
      {
       "output_type": "stream",
       "stream": "stdout",
       "text": [
        "\r",
        "  Downloading basemap-1.0.7.tar.gz (129.7MB):   0%  565kB\r",
        "  Downloading basemap-1.0.7.tar.gz (129.7MB):   0%  569kB\r",
        "  Downloading basemap-1.0.7.tar.gz (129.7MB):   0%  573kB\r",
        "  Downloading basemap-1.0.7.tar.gz (129.7MB):   0%  577kB\r",
        "  Downloading basemap-1.0.7.tar.gz (129.7MB):   0%  581kB\r",
        "  Downloading basemap-1.0.7.tar.gz (129.7MB):   0%  585kB\r",
        "  Downloading basemap-1.0.7.tar.gz (129.7MB):   0%  589kB\r",
        "  Downloading basemap-1.0.7.tar.gz (129.7MB):   0%  593kB\r",
        "  Downloading basemap-1.0.7.tar.gz (129.7MB):   0%  598kB\r",
        "  Downloading basemap-1.0.7.tar.gz (129.7MB):   0%  602kB\r",
        "  Downloading basemap-1.0.7.tar.gz (129.7MB):   0%  606kB\r",
        "  Downloading basemap-1.0.7.tar.gz (129.7MB):   0%  610kB"
       ]
      },
      {
       "output_type": "stream",
       "stream": "stdout",
       "text": [
        "\r",
        "  Downloading basemap-1.0.7.tar.gz (129.7MB):   0%  614kB\r",
        "  Downloading basemap-1.0.7.tar.gz (129.7MB):   0%  618kB\r",
        "  Downloading basemap-1.0.7.tar.gz (129.7MB):   0%  622kB\r",
        "  Downloading basemap-1.0.7.tar.gz (129.7MB):   0%  626kB\r",
        "  Downloading basemap-1.0.7.tar.gz (129.7MB):   0%  630kB\r",
        "  Downloading basemap-1.0.7.tar.gz (129.7MB):   0%  634kB\r",
        "  Downloading basemap-1.0.7.tar.gz (129.7MB):   0%  638kB\r",
        "  Downloading basemap-1.0.7.tar.gz (129.7MB):   0%  643kB\r",
        "  Downloading basemap-1.0.7.tar.gz (129.7MB):   0%  647kB\r",
        "  Downloading basemap-1.0.7.tar.gz (129.7MB):   0%  651kB\r",
        "  Downloading basemap-1.0.7.tar.gz (129.7MB):   0%  655kB\r",
        "  Downloading basemap-1.0.7.tar.gz (129.7MB):   0%  659kB\r",
        "  Downloading basemap-1.0.7.tar.gz (129.7MB):   0%  663kB\r",
        "  Downloading basemap-1.0.7.tar.gz (129.7MB):   0%  667kB\r",
        "  Downloading basemap-1.0.7.tar.gz (129.7MB):   0%  671kB\r",
        "  Downloading basemap-1.0.7.tar.gz (129.7MB):   0%  675kB\r",
        "  Downloading basemap-1.0.7.tar.gz (129.7MB):   0%  679kB\r",
        "  Downloading basemap-1.0.7.tar.gz (129.7MB):   0%  684kB\r",
        "  Downloading basemap-1.0.7.tar.gz (129.7MB):   0%  688kB\r",
        "  Downloading basemap-1.0.7.tar.gz (129.7MB):   0%  692kB\r",
        "  Downloading basemap-1.0.7.tar.gz (129.7MB):   0%  696kB\r",
        "  Downloading basemap-1.0.7.tar.gz (129.7MB):   0%  700kB\r",
        "  Downloading basemap-1.0.7.tar.gz (129.7MB):   0%  704kB\r",
        "  Downloading basemap-1.0.7.tar.gz (129.7MB):   0%  708kB\r",
        "  Downloading basemap-1.0.7.tar.gz (129.7MB):   0%  712kB"
       ]
      },
      {
       "output_type": "stream",
       "stream": "stdout",
       "text": [
        "\r",
        "  Downloading basemap-1.0.7.tar.gz (129.7MB):   0%  716kB\r",
        "  Downloading basemap-1.0.7.tar.gz (129.7MB):   0%  720kB\r",
        "  Downloading basemap-1.0.7.tar.gz (129.7MB):   0%  724kB\r",
        "  Downloading basemap-1.0.7.tar.gz (129.7MB):   0%  729kB\r",
        "  Downloading basemap-1.0.7.tar.gz (129.7MB):   0%  733kB\r",
        "  Downloading basemap-1.0.7.tar.gz (129.7MB):   0%  737kB\r",
        "  Downloading basemap-1.0.7.tar.gz (129.7MB):   0%  741kB\r",
        "  Downloading basemap-1.0.7.tar.gz (129.7MB):   0%  745kB\r",
        "  Downloading basemap-1.0.7.tar.gz (129.7MB):   0%  749kB\r",
        "  Downloading basemap-1.0.7.tar.gz (129.7MB):   0%  753kB\r",
        "  Downloading basemap-1.0.7.tar.gz (129.7MB):   0%  757kB\r",
        "  Downloading basemap-1.0.7.tar.gz (129.7MB):   0%  761kB\r",
        "  Downloading basemap-1.0.7.tar.gz (129.7MB):   0%  765kB\r",
        "  Downloading basemap-1.0.7.tar.gz (129.7MB):   0%  770kB\r",
        "  Downloading basemap-1.0.7.tar.gz (129.7MB):   0%  774kB\r",
        "  Downloading basemap-1.0.7.tar.gz (129.7MB):   0%  778kB\r",
        "  Downloading basemap-1.0.7.tar.gz (129.7MB):   0%  782kB\r",
        "  Downloading basemap-1.0.7.tar.gz (129.7MB):   0%  786kB\r",
        "  Downloading basemap-1.0.7.tar.gz (129.7MB):   0%  790kB\r",
        "  Downloading basemap-1.0.7.tar.gz (129.7MB):   0%  794kB\r",
        "  Downloading basemap-1.0.7.tar.gz (129.7MB):   0%  798kB\r",
        "  Downloading basemap-1.0.7.tar.gz (129.7MB):   0%  802kB\r",
        "  Downloading basemap-1.0.7.tar.gz (129.7MB):   0%  806kB\r",
        "  Downloading basemap-1.0.7.tar.gz (129.7MB):   0%  811kB\r",
        "  Downloading basemap-1.0.7.tar.gz (129.7MB):   0%  815kB\r",
        "  Downloading basemap-1.0.7.tar.gz (129.7MB):   0%  819kB\r",
        "  Downloading basemap-1.0.7.tar.gz (129.7MB):   0%  823kB\r",
        "  Downloading basemap-1.0.7.tar.gz (129.7MB):   0%  827kB\r",
        "  Downloading basemap-1.0.7.tar.gz (129.7MB):   0%  831kB"
       ]
      },
      {
       "output_type": "stream",
       "stream": "stdout",
       "text": [
        "\r",
        "  Downloading basemap-1.0.7.tar.gz (129.7MB):   0%  835kB\r",
        "  Downloading basemap-1.0.7.tar.gz (129.7MB):   0%  839kB\r",
        "  Downloading basemap-1.0.7.tar.gz (129.7MB):   0%  843kB\r",
        "  Downloading basemap-1.0.7.tar.gz (129.7MB):   0%  847kB\r",
        "  Downloading basemap-1.0.7.tar.gz (129.7MB):   0%  851kB\r",
        "  Downloading basemap-1.0.7.tar.gz (129.7MB):   0%  856kB\r",
        "  Downloading basemap-1.0.7.tar.gz (129.7MB):   0%  860kB\r",
        "  Downloading basemap-1.0.7.tar.gz (129.7MB):   0%  864kB"
       ]
      },
      {
       "output_type": "stream",
       "stream": "stdout",
       "text": [
        "\r",
        "  Downloading basemap-1.0.7.tar.gz (129.7MB):   0%  868kB\r",
        "  Downloading basemap-1.0.7.tar.gz (129.7MB):   0%  872kB\r",
        "  Downloading basemap-1.0.7.tar.gz (129.7MB):   0%  876kB"
       ]
      },
      {
       "output_type": "stream",
       "stream": "stdout",
       "text": [
        "\r",
        "  Downloading basemap-1.0.7.tar.gz (129.7MB):   0%  880kB\r",
        "  Downloading basemap-1.0.7.tar.gz (129.7MB):   0%  884kB\r",
        "  Downloading basemap-1.0.7.tar.gz (129.7MB):   0%  888kB\r",
        "  Downloading basemap-1.0.7.tar.gz (129.7MB):   0%  892kB\r",
        "  Downloading basemap-1.0.7.tar.gz (129.7MB):   0%  897kB\r",
        "  Downloading basemap-1.0.7.tar.gz (129.7MB):   0%  901kB\r",
        "  Downloading basemap-1.0.7.tar.gz (129.7MB):   0%  905kB\r",
        "  Downloading basemap-1.0.7.tar.gz (129.7MB):   0%  909kB\r",
        "  Downloading basemap-1.0.7.tar.gz (129.7MB):   0%  913kB\r",
        "  Downloading basemap-1.0.7.tar.gz (129.7MB):   0%  917kB\r",
        "  Downloading basemap-1.0.7.tar.gz (129.7MB):   0%  921kB\r",
        "  Downloading basemap-1.0.7.tar.gz (129.7MB):   0%  925kB\r",
        "  Downloading basemap-1.0.7.tar.gz (129.7MB):   0%  929kB\r",
        "  Downloading basemap-1.0.7.tar.gz (129.7MB):   0%  933kB\r",
        "  Downloading basemap-1.0.7.tar.gz (129.7MB):   0%  937kB\r",
        "  Downloading basemap-1.0.7.tar.gz (129.7MB):   0%  942kB\r",
        "  Downloading basemap-1.0.7.tar.gz (129.7MB):   0%  946kB\r",
        "  Downloading basemap-1.0.7.tar.gz (129.7MB):   0%  950kB\r",
        "  Downloading basemap-1.0.7.tar.gz (129.7MB):   0%  954kB\r",
        "  Downloading basemap-1.0.7.tar.gz (129.7MB):   0%  958kB\r",
        "  Downloading basemap-1.0.7.tar.gz (129.7MB):   0%  962kB\r",
        "  Downloading basemap-1.0.7.tar.gz (129.7MB):   0%  966kB\r",
        "  Downloading basemap-1.0.7.tar.gz (129.7MB):   0%  970kB\r",
        "  Downloading basemap-1.0.7.tar.gz (129.7MB):   0%  974kB\r",
        "  Downloading basemap-1.0.7.tar.gz (129.7MB):   0%  978kB\r",
        "  Downloading basemap-1.0.7.tar.gz (129.7MB):   0%  983kB\r",
        "  Downloading basemap-1.0.7.tar.gz (129.7MB):   0%  987kB\r",
        "  Downloading basemap-1.0.7.tar.gz (129.7MB):   0%  991kB\r",
        "  Downloading basemap-1.0.7.tar.gz (129.7MB):   0%  995kB\r",
        "  Downloading basemap-1.0.7.tar.gz (129.7MB):   0%  999kB\r",
        "  Downloading basemap-1.0.7.tar.gz (129.7MB):   0%  1.0MB\r",
        "  Downloading basemap-1.0.7.tar.gz (129.7MB):   0%  1.0MB\r",
        "  Downloading basemap-1.0.7.tar.gz (129.7MB):   0%  1.0MB\r",
        "  Downloading basemap-1.0.7.tar.gz (129.7MB):   0%  1.0MB\r",
        "  Downloading basemap-1.0.7.tar.gz (129.7MB):   0%  1.0MB\r",
        "  Downloading basemap-1.0.7.tar.gz (129.7MB):   0%  1.0MB\r",
        "  Downloading basemap-1.0.7.tar.gz (129.7MB):   0%  1.0MB\r",
        "  Downloading basemap-1.0.7.tar.gz (129.7MB):   0%  1.0MB\r",
        "  Downloading basemap-1.0.7.tar.gz (129.7MB):   0%  1.0MB\r",
        "  Downloading basemap-1.0.7.tar.gz (129.7MB):   0%  1.0MB\r",
        "  Downloading basemap-1.0.7.tar.gz (129.7MB):   0%  1.0MB"
       ]
      },
      {
       "output_type": "stream",
       "stream": "stdout",
       "text": [
        "\r",
        "  Downloading basemap-1.0.7.tar.gz (129.7MB):   0%  1.0MB\r",
        "  Downloading basemap-1.0.7.tar.gz (129.7MB):   0%  1.1MB\r",
        "  Downloading basemap-1.0.7.tar.gz (129.7MB):   0%  1.1MB\r",
        "  Downloading basemap-1.0.7.tar.gz (129.7MB):   0%  1.1MB\r",
        "  Downloading basemap-1.0.7.tar.gz (129.7MB):   0%  1.1MB\r",
        "  Downloading basemap-1.0.7.tar.gz (129.7MB):   0%  1.1MB\r",
        "  Downloading basemap-1.0.7.tar.gz (129.7MB):   0%  1.1MB\r",
        "  Downloading basemap-1.0.7.tar.gz (129.7MB):   0%  1.1MB\r",
        "  Downloading basemap-1.0.7.tar.gz (129.7MB):   0%  1.1MB\r",
        "  Downloading basemap-1.0.7.tar.gz (129.7MB):   0%  1.1MB\r",
        "  Downloading basemap-1.0.7.tar.gz (129.7MB):   0%  1.1MB\r",
        "  Downloading basemap-1.0.7.tar.gz (129.7MB):   0%  1.1MB\r",
        "  Downloading basemap-1.0.7.tar.gz (129.7MB):   0%  1.1MB\r",
        "  Downloading basemap-1.0.7.tar.gz (129.7MB):   0%  1.1MB\r",
        "  Downloading basemap-1.0.7.tar.gz (129.7MB):   0%  1.1MB\r",
        "  Downloading basemap-1.0.7.tar.gz (129.7MB):   0%  1.1MB\r",
        "  Downloading basemap-1.0.7.tar.gz (129.7MB):   0%  1.1MB\r",
        "  Downloading basemap-1.0.7.tar.gz (129.7MB):   0%  1.1MB\r",
        "  Downloading basemap-1.0.7.tar.gz (129.7MB):   0%  1.1MB\r",
        "  Downloading basemap-1.0.7.tar.gz (129.7MB):   0%  1.1MB\r",
        "  Downloading basemap-1.0.7.tar.gz (129.7MB):   0%  1.1MB\r",
        "  Downloading basemap-1.0.7.tar.gz (129.7MB):   0%  1.1MB\r",
        "  Downloading basemap-1.0.7.tar.gz (129.7MB):   0%  1.1MB"
       ]
      },
      {
       "output_type": "stream",
       "stream": "stdout",
       "text": [
        "\r",
        "  Downloading basemap-1.0.7.tar.gz (129.7MB):   0%  1.1MB\r",
        "  Downloading basemap-1.0.7.tar.gz (129.7MB):   0%  1.1MB\r",
        "  Downloading basemap-1.0.7.tar.gz (129.7MB):   0%  1.2MB\r",
        "  Downloading basemap-1.0.7.tar.gz (129.7MB):   0%  1.2MB\r",
        "  Downloading basemap-1.0.7.tar.gz (129.7MB):   0%  1.2MB\r",
        "  Downloading basemap-1.0.7.tar.gz (129.7MB):   0%  1.2MB\r",
        "  Downloading basemap-1.0.7.tar.gz (129.7MB):   0%  1.2MB\r",
        "  Downloading basemap-1.0.7.tar.gz (129.7MB):   0%  1.2MB\r",
        "  Downloading basemap-1.0.7.tar.gz (129.7MB):   0%  1.2MB\r",
        "  Downloading basemap-1.0.7.tar.gz (129.7MB):   0%  1.2MB\r",
        "  Downloading basemap-1.0.7.tar.gz (129.7MB):   0%  1.2MB\r",
        "  Downloading basemap-1.0.7.tar.gz (129.7MB):   0%  1.2MB\r",
        "  Downloading basemap-1.0.7.tar.gz (129.7MB):   0%  1.2MB\r",
        "  Downloading basemap-1.0.7.tar.gz (129.7MB):   0%  1.2MB\r",
        "  Downloading basemap-1.0.7.tar.gz (129.7MB):   0%  1.2MB\r",
        "  Downloading basemap-1.0.7.tar.gz (129.7MB):   0%  1.2MB\r",
        "  Downloading basemap-1.0.7.tar.gz (129.7MB):   0%  1.2MB\r",
        "  Downloading basemap-1.0.7.tar.gz (129.7MB):   0%  1.2MB\r",
        "  Downloading basemap-1.0.7.tar.gz (129.7MB):   0%  1.2MB\r",
        "  Downloading basemap-1.0.7.tar.gz (129.7MB):   0%  1.2MB\r",
        "  Downloading basemap-1.0.7.tar.gz (129.7MB):   0%  1.2MB\r",
        "  Downloading basemap-1.0.7.tar.gz (129.7MB):   0%  1.2MB\r",
        "  Downloading basemap-1.0.7.tar.gz (129.7MB):   0%  1.2MB"
       ]
      },
      {
       "output_type": "stream",
       "stream": "stdout",
       "text": [
        "\r",
        "  Downloading basemap-1.0.7.tar.gz (129.7MB):   0%  1.2MB\r",
        "  Downloading basemap-1.0.7.tar.gz (129.7MB):   0%  1.2MB\r",
        "  Downloading basemap-1.0.7.tar.gz (129.7MB):   0%  1.2MB\r",
        "  Downloading basemap-1.0.7.tar.gz (129.7MB):   0%  1.2MB"
       ]
      },
      {
       "output_type": "stream",
       "stream": "stdout",
       "text": [
        "\r",
        "  Downloading basemap-1.0.7.tar.gz (129.7MB):   0%  1.3MB\r",
        "  Downloading basemap-1.0.7.tar.gz (129.7MB):   0%  1.3MB\r",
        "  Downloading basemap-1.0.7.tar.gz (129.7MB):   0%  1.3MB\r",
        "  Downloading basemap-1.0.7.tar.gz (129.7MB):   0%  1.3MB\r",
        "  Downloading basemap-1.0.7.tar.gz (129.7MB):   0%  1.3MB\r",
        "  Downloading basemap-1.0.7.tar.gz (129.7MB):   0%  1.3MB\r",
        "  Downloading basemap-1.0.7.tar.gz (129.7MB):   0%  1.3MB\r",
        "  Downloading basemap-1.0.7.tar.gz (129.7MB):   0%  1.3MB\r",
        "  Downloading basemap-1.0.7.tar.gz (129.7MB):   0%  1.3MB\r",
        "  Downloading basemap-1.0.7.tar.gz (129.7MB):   0%  1.3MB\r",
        "  Downloading basemap-1.0.7.tar.gz (129.7MB):   0%  1.3MB\r",
        "  Downloading basemap-1.0.7.tar.gz (129.7MB):   1%  1.3MB\r",
        "  Downloading basemap-1.0.7.tar.gz (129.7MB):   1%  1.3MB\r",
        "  Downloading basemap-1.0.7.tar.gz (129.7MB):   1%  1.3MB\r",
        "  Downloading basemap-1.0.7.tar.gz (129.7MB):   1%  1.3MB\r",
        "  Downloading basemap-1.0.7.tar.gz (129.7MB):   1%  1.3MB\r",
        "  Downloading basemap-1.0.7.tar.gz (129.7MB):   1%  1.3MB\r",
        "  Downloading basemap-1.0.7.tar.gz (129.7MB):   1%  1.3MB\r",
        "  Downloading basemap-1.0.7.tar.gz (129.7MB):   1%  1.3MB\r",
        "  Downloading basemap-1.0.7.tar.gz (129.7MB):   1%  1.3MB\r",
        "  Downloading basemap-1.0.7.tar.gz (129.7MB):   1%  1.3MB\r",
        "  Downloading basemap-1.0.7.tar.gz (129.7MB):   1%  1.3MB\r",
        "  Downloading basemap-1.0.7.tar.gz (129.7MB):   1%  1.3MB\r",
        "  Downloading basemap-1.0.7.tar.gz (129.7MB):   1%  1.3MB\r",
        "  Downloading basemap-1.0.7.tar.gz (129.7MB):   1%  1.4MB\r",
        "  Downloading basemap-1.0.7.tar.gz (129.7MB):   1%  1.4MB\r",
        "  Downloading basemap-1.0.7.tar.gz (129.7MB):   1%  1.4MB\r",
        "  Downloading basemap-1.0.7.tar.gz (129.7MB):   1%  1.4MB\r",
        "  Downloading basemap-1.0.7.tar.gz (129.7MB):   1%  1.4MB\r",
        "  Downloading basemap-1.0.7.tar.gz (129.7MB):   1%  1.4MB\r",
        "  Downloading basemap-1.0.7.tar.gz (129.7MB):   1%  1.4MB\r",
        "  Downloading basemap-1.0.7.tar.gz (129.7MB):   1%  1.4MB\r",
        "  Downloading basemap-1.0.7.tar.gz (129.7MB):   1%  1.4MB\r",
        "  Downloading basemap-1.0.7.tar.gz (129.7MB):   1%  1.4MB\r",
        "  Downloading basemap-1.0.7.tar.gz (129.7MB):   1%  1.4MB\r",
        "  Downloading basemap-1.0.7.tar.gz (129.7MB):   1%  1.4MB\r",
        "  Downloading basemap-1.0.7.tar.gz (129.7MB):   1%  1.4MB\r",
        "  Downloading basemap-1.0.7.tar.gz (129.7MB):   1%  1.4MB\r",
        "  Downloading basemap-1.0.7.tar.gz (129.7MB):   1%  1.4MB\r",
        "  Downloading basemap-1.0.7.tar.gz (129.7MB):   1%  1.4MB\r",
        "  Downloading basemap-1.0.7.tar.gz (129.7MB):   1%  1.4MB\r",
        "  Downloading basemap-1.0.7.tar.gz (129.7MB):   1%  1.4MB\r",
        "  Downloading basemap-1.0.7.tar.gz (129.7MB):   1%  1.4MB\r",
        "  Downloading basemap-1.0.7.tar.gz (129.7MB):   1%  1.4MB\r",
        "  Downloading basemap-1.0.7.tar.gz (129.7MB):   1%  1.4MB"
       ]
      },
      {
       "output_type": "stream",
       "stream": "stdout",
       "text": [
        "\r",
        "  Downloading basemap-1.0.7.tar.gz (129.7MB):   1%  1.4MB\r",
        "  Downloading basemap-1.0.7.tar.gz (129.7MB):   1%  1.4MB\r",
        "  Downloading basemap-1.0.7.tar.gz (129.7MB):   1%  1.4MB\r",
        "  Downloading basemap-1.0.7.tar.gz (129.7MB):   1%  1.4MB"
       ]
      },
      {
       "output_type": "stream",
       "stream": "stdout",
       "text": [
        "\r",
        "  Downloading basemap-1.0.7.tar.gz (129.7MB):   1%  1.5MB\r",
        "  Downloading basemap-1.0.7.tar.gz (129.7MB):   1%  1.5MB\r",
        "  Downloading basemap-1.0.7.tar.gz (129.7MB):   1%  1.5MB\r",
        "  Downloading basemap-1.0.7.tar.gz (129.7MB):   1%  1.5MB\r",
        "  Downloading basemap-1.0.7.tar.gz (129.7MB):   1%  1.5MB\r",
        "  Downloading basemap-1.0.7.tar.gz (129.7MB):   1%  1.5MB\r",
        "  Downloading basemap-1.0.7.tar.gz (129.7MB):   1%  1.5MB\r",
        "  Downloading basemap-1.0.7.tar.gz (129.7MB):   1%  1.5MB\r",
        "  Downloading basemap-1.0.7.tar.gz (129.7MB):   1%  1.5MB\r",
        "  Downloading basemap-1.0.7.tar.gz (129.7MB):   1%  1.5MB\r",
        "  Downloading basemap-1.0.7.tar.gz (129.7MB):   1%  1.5MB\r",
        "  Downloading basemap-1.0.7.tar.gz (129.7MB):   1%  1.5MB\r",
        "  Downloading basemap-1.0.7.tar.gz (129.7MB):   1%  1.5MB\r",
        "  Downloading basemap-1.0.7.tar.gz (129.7MB):   1%  1.5MB"
       ]
      },
      {
       "output_type": "stream",
       "stream": "stdout",
       "text": [
        "\r",
        "  Downloading basemap-1.0.7.tar.gz (129.7MB):   1%  1.5MB"
       ]
      },
      {
       "output_type": "stream",
       "stream": "stdout",
       "text": [
        "\r",
        "  Downloading basemap-1.0.7.tar.gz (129.7MB):   1%  1.5MB"
       ]
      },
      {
       "output_type": "stream",
       "stream": "stdout",
       "text": [
        "\r",
        "  Downloading basemap-1.0.7.tar.gz (129.7MB):   1%  1.5MB\r",
        "  Downloading basemap-1.0.7.tar.gz (129.7MB):   1%  1.5MB\r",
        "  Downloading basemap-1.0.7.tar.gz (129.7MB):   1%  1.5MB"
       ]
      },
      {
       "output_type": "stream",
       "stream": "stdout",
       "text": [
        "\r",
        "  Downloading basemap-1.0.7.tar.gz (129.7MB):   1%  1.5MB\r",
        "  Downloading basemap-1.0.7.tar.gz (129.7MB):   1%  1.5MB\r",
        "  Downloading basemap-1.0.7.tar.gz (129.7MB):   1%  1.5MB\r",
        "  Downloading basemap-1.0.7.tar.gz (129.7MB):   1%  1.5MB\r",
        "  Downloading basemap-1.0.7.tar.gz (129.7MB):   1%  1.5MB"
       ]
      },
      {
       "output_type": "stream",
       "stream": "stdout",
       "text": [
        "\r",
        "  Downloading basemap-1.0.7.tar.gz (129.7MB):   1%  1.6MB\r",
        "  Downloading basemap-1.0.7.tar.gz (129.7MB):   1%  1.6MB\r",
        "  Downloading basemap-1.0.7.tar.gz (129.7MB):   1%  1.6MB\r",
        "  Downloading basemap-1.0.7.tar.gz (129.7MB):   1%  1.6MB\r",
        "  Downloading basemap-1.0.7.tar.gz (129.7MB):   1%  1.6MB\r",
        "  Downloading basemap-1.0.7.tar.gz (129.7MB):   1%  1.6MB\r",
        "  Downloading basemap-1.0.7.tar.gz (129.7MB):   1%  1.6MB\r",
        "  Downloading basemap-1.0.7.tar.gz (129.7MB):   1%  1.6MB"
       ]
      },
      {
       "output_type": "stream",
       "stream": "stdout",
       "text": [
        "\r",
        "  Downloading basemap-1.0.7.tar.gz (129.7MB):   1%  1.6MB\r",
        "  Downloading basemap-1.0.7.tar.gz (129.7MB):   1%  1.6MB\r",
        "  Downloading basemap-1.0.7.tar.gz (129.7MB):   1%  1.6MB\r",
        "  Downloading basemap-1.0.7.tar.gz (129.7MB):   1%  1.6MB\r",
        "  Downloading basemap-1.0.7.tar.gz (129.7MB):   1%  1.6MB\r",
        "  Downloading basemap-1.0.7.tar.gz (129.7MB):   1%  1.6MB\r",
        "  Downloading basemap-1.0.7.tar.gz (129.7MB):   1%  1.6MB\r",
        "  Downloading basemap-1.0.7.tar.gz (129.7MB):   1%  1.6MB\r",
        "  Downloading basemap-1.0.7.tar.gz (129.7MB):   1%  1.6MB\r",
        "  Downloading basemap-1.0.7.tar.gz (129.7MB):   1%  1.6MB"
       ]
      },
      {
       "output_type": "stream",
       "stream": "stdout",
       "text": [
        "\r",
        "  Downloading basemap-1.0.7.tar.gz (129.7MB):   1%  1.6MB\r",
        "  Downloading basemap-1.0.7.tar.gz (129.7MB):   1%  1.6MB\r",
        "  Downloading basemap-1.0.7.tar.gz (129.7MB):   1%  1.6MB\r",
        "  Downloading basemap-1.0.7.tar.gz (129.7MB):   1%  1.6MB"
       ]
      },
      {
       "output_type": "stream",
       "stream": "stdout",
       "text": [
        "\r",
        "  Downloading basemap-1.0.7.tar.gz (129.7MB):   1%  1.6MB\r",
        "  Downloading basemap-1.0.7.tar.gz (129.7MB):   1%  1.6MB\r",
        "  Downloading basemap-1.0.7.tar.gz (129.7MB):   1%  1.7MB\r",
        "  Downloading basemap-1.0.7.tar.gz (129.7MB):   1%  1.7MB\r",
        "  Downloading basemap-1.0.7.tar.gz (129.7MB):   1%  1.7MB\r",
        "  Downloading basemap-1.0.7.tar.gz (129.7MB):   1%  1.7MB\r",
        "  Downloading basemap-1.0.7.tar.gz (129.7MB):   1%  1.7MB\r",
        "  Downloading basemap-1.0.7.tar.gz (129.7MB):   1%  1.7MB\r",
        "  Downloading basemap-1.0.7.tar.gz (129.7MB):   1%  1.7MB\r",
        "  Downloading basemap-1.0.7.tar.gz (129.7MB):   1%  1.7MB\r",
        "  Downloading basemap-1.0.7.tar.gz (129.7MB):   1%  1.7MB\r",
        "  Downloading basemap-1.0.7.tar.gz (129.7MB):   1%  1.7MB\r",
        "  Downloading basemap-1.0.7.tar.gz (129.7MB):   1%  1.7MB\r",
        "  Downloading basemap-1.0.7.tar.gz (129.7MB):   1%  1.7MB\r",
        "  Downloading basemap-1.0.7.tar.gz (129.7MB):   1%  1.7MB\r",
        "  Downloading basemap-1.0.7.tar.gz (129.7MB):   1%  1.7MB\r",
        "  Downloading basemap-1.0.7.tar.gz (129.7MB):   1%  1.7MB\r",
        "  Downloading basemap-1.0.7.tar.gz (129.7MB):   1%  1.7MB\r",
        "  Downloading basemap-1.0.7.tar.gz (129.7MB):   1%  1.7MB\r",
        "  Downloading basemap-1.0.7.tar.gz (129.7MB):   1%  1.7MB\r",
        "  Downloading basemap-1.0.7.tar.gz (129.7MB):   1%  1.7MB\r",
        "  Downloading basemap-1.0.7.tar.gz (129.7MB):   1%  1.7MB\r",
        "  Downloading basemap-1.0.7.tar.gz (129.7MB):   1%  1.7MB"
       ]
      },
      {
       "output_type": "stream",
       "stream": "stdout",
       "text": [
        "\r",
        "  Downloading basemap-1.0.7.tar.gz (129.7MB):   1%  1.7MB\r",
        "  Downloading basemap-1.0.7.tar.gz (129.7MB):   1%  1.7MB\r",
        "  Downloading basemap-1.0.7.tar.gz (129.7MB):   1%  1.7MB\r",
        "  Downloading basemap-1.0.7.tar.gz (129.7MB):   1%  1.7MB\r",
        "  Downloading basemap-1.0.7.tar.gz (129.7MB):   1%  1.8MB\r",
        "  Downloading basemap-1.0.7.tar.gz (129.7MB):   1%  1.8MB\r",
        "  Downloading basemap-1.0.7.tar.gz (129.7MB):   1%  1.8MB\r",
        "  Downloading basemap-1.0.7.tar.gz (129.7MB):   1%  1.8MB\r",
        "  Downloading basemap-1.0.7.tar.gz (129.7MB):   1%  1.8MB\r",
        "  Downloading basemap-1.0.7.tar.gz (129.7MB):   1%  1.8MB\r",
        "  Downloading basemap-1.0.7.tar.gz (129.7MB):   1%  1.8MB\r",
        "  Downloading basemap-1.0.7.tar.gz (129.7MB):   1%  1.8MB\r",
        "  Downloading basemap-1.0.7.tar.gz (129.7MB):   1%  1.8MB\r",
        "  Downloading basemap-1.0.7.tar.gz (129.7MB):   1%  1.8MB\r",
        "  Downloading basemap-1.0.7.tar.gz (129.7MB):   1%  1.8MB\r",
        "  Downloading basemap-1.0.7.tar.gz (129.7MB):   1%  1.8MB\r",
        "  Downloading basemap-1.0.7.tar.gz (129.7MB):   1%  1.8MB\r",
        "  Downloading basemap-1.0.7.tar.gz (129.7MB):   1%  1.8MB\r",
        "  Downloading basemap-1.0.7.tar.gz (129.7MB):   1%  1.8MB\r",
        "  Downloading basemap-1.0.7.tar.gz (129.7MB):   1%  1.8MB\r",
        "  Downloading basemap-1.0.7.tar.gz (129.7MB):   1%  1.8MB\r",
        "  Downloading basemap-1.0.7.tar.gz (129.7MB):   1%  1.8MB\r",
        "  Downloading basemap-1.0.7.tar.gz (129.7MB):   1%  1.8MB\r",
        "  Downloading basemap-1.0.7.tar.gz (129.7MB):   1%  1.8MB\r",
        "  Downloading basemap-1.0.7.tar.gz (129.7MB):   1%  1.8MB\r",
        "  Downloading basemap-1.0.7.tar.gz (129.7MB):   1%  1.8MB\r",
        "  Downloading basemap-1.0.7.tar.gz (129.7MB):   1%  1.8MB"
       ]
      },
      {
       "output_type": "stream",
       "stream": "stdout",
       "text": [
        "\r",
        "  Downloading basemap-1.0.7.tar.gz (129.7MB):   1%  1.8MB\r",
        "  Downloading basemap-1.0.7.tar.gz (129.7MB):   1%  1.9MB\r",
        "  Downloading basemap-1.0.7.tar.gz (129.7MB):   1%  1.9MB\r",
        "  Downloading basemap-1.0.7.tar.gz (129.7MB):   1%  1.9MB\r",
        "  Downloading basemap-1.0.7.tar.gz (129.7MB):   1%  1.9MB\r",
        "  Downloading basemap-1.0.7.tar.gz (129.7MB):   1%  1.9MB\r",
        "  Downloading basemap-1.0.7.tar.gz (129.7MB):   1%  1.9MB\r",
        "  Downloading basemap-1.0.7.tar.gz (129.7MB):   1%  1.9MB\r",
        "  Downloading basemap-1.0.7.tar.gz (129.7MB):   1%  1.9MB\r",
        "  Downloading basemap-1.0.7.tar.gz (129.7MB):   1%  1.9MB\r",
        "  Downloading basemap-1.0.7.tar.gz (129.7MB):   1%  1.9MB"
       ]
      },
      {
       "output_type": "stream",
       "stream": "stdout",
       "text": [
        "\r",
        "  Downloading basemap-1.0.7.tar.gz (129.7MB):   1%  1.9MB\r",
        "  Downloading basemap-1.0.7.tar.gz (129.7MB):   1%  1.9MB\r",
        "  Downloading basemap-1.0.7.tar.gz (129.7MB):   1%  1.9MB\r",
        "  Downloading basemap-1.0.7.tar.gz (129.7MB):   1%  1.9MB\r",
        "  Downloading basemap-1.0.7.tar.gz (129.7MB):   1%  1.9MB\r",
        "  Downloading basemap-1.0.7.tar.gz (129.7MB):   1%  1.9MB\r",
        "  Downloading basemap-1.0.7.tar.gz (129.7MB):   1%  1.9MB\r",
        "  Downloading basemap-1.0.7.tar.gz (129.7MB):   1%  1.9MB\r",
        "  Downloading basemap-1.0.7.tar.gz (129.7MB):   1%  1.9MB\r",
        "  Downloading basemap-1.0.7.tar.gz (129.7MB):   1%  1.9MB\r",
        "  Downloading basemap-1.0.7.tar.gz (129.7MB):   1%  1.9MB\r",
        "  Downloading basemap-1.0.7.tar.gz (129.7MB):   1%  1.9MB\r",
        "  Downloading basemap-1.0.7.tar.gz (129.7MB):   1%  1.9MB\r",
        "  Downloading basemap-1.0.7.tar.gz (129.7MB):   1%  1.9MB\r",
        "  Downloading basemap-1.0.7.tar.gz (129.7MB):   1%  1.9MB\r",
        "  Downloading basemap-1.0.7.tar.gz (129.7MB):   1%  2.0MB"
       ]
      },
      {
       "output_type": "stream",
       "stream": "stdout",
       "text": [
        "\r",
        "  Downloading basemap-1.0.7.tar.gz (129.7MB):   1%  2.0MB\r",
        "  Downloading basemap-1.0.7.tar.gz (129.7MB):   1%  2.0MB\r",
        "  Downloading basemap-1.0.7.tar.gz (129.7MB):   1%  2.0MB\r",
        "  Downloading basemap-1.0.7.tar.gz (129.7MB):   1%  2.0MB\r",
        "  Downloading basemap-1.0.7.tar.gz (129.7MB):   1%  2.0MB\r",
        "  Downloading basemap-1.0.7.tar.gz (129.7MB):   1%  2.0MB\r",
        "  Downloading basemap-1.0.7.tar.gz (129.7MB):   1%  2.0MB\r",
        "  Downloading basemap-1.0.7.tar.gz (129.7MB):   1%  2.0MB\r",
        "  Downloading basemap-1.0.7.tar.gz (129.7MB):   1%  2.0MB\r",
        "  Downloading basemap-1.0.7.tar.gz (129.7MB):   1%  2.0MB\r",
        "  Downloading basemap-1.0.7.tar.gz (129.7MB):   1%  2.0MB\r",
        "  Downloading basemap-1.0.7.tar.gz (129.7MB):   1%  2.0MB\r",
        "  Downloading basemap-1.0.7.tar.gz (129.7MB):   1%  2.0MB\r",
        "  Downloading basemap-1.0.7.tar.gz (129.7MB):   1%  2.0MB\r",
        "  Downloading basemap-1.0.7.tar.gz (129.7MB):   1%  2.0MB\r",
        "  Downloading basemap-1.0.7.tar.gz (129.7MB):   1%  2.0MB\r",
        "  Downloading basemap-1.0.7.tar.gz (129.7MB):   1%  2.0MB\r",
        "  Downloading basemap-1.0.7.tar.gz (129.7MB):   1%  2.0MB\r",
        "  Downloading basemap-1.0.7.tar.gz (129.7MB):   1%  2.0MB\r",
        "  Downloading basemap-1.0.7.tar.gz (129.7MB):   1%  2.0MB\r",
        "  Downloading basemap-1.0.7.tar.gz (129.7MB):   1%  2.0MB\r",
        "  Downloading basemap-1.0.7.tar.gz (129.7MB):   1%  2.0MB\r",
        "  Downloading basemap-1.0.7.tar.gz (129.7MB):   1%  2.0MB\r",
        "  Downloading basemap-1.0.7.tar.gz (129.7MB):   1%  2.1MB\r",
        "  Downloading basemap-1.0.7.tar.gz (129.7MB):   1%  2.1MB\r",
        "  Downloading basemap-1.0.7.tar.gz (129.7MB):   1%  2.1MB\r",
        "  Downloading basemap-1.0.7.tar.gz (129.7MB):   1%  2.1MB"
       ]
      },
      {
       "output_type": "stream",
       "stream": "stdout",
       "text": [
        "\r",
        "  Downloading basemap-1.0.7.tar.gz (129.7MB):   1%  2.1MB\r",
        "  Downloading basemap-1.0.7.tar.gz (129.7MB):   1%  2.1MB\r",
        "  Downloading basemap-1.0.7.tar.gz (129.7MB):   1%  2.1MB\r",
        "  Downloading basemap-1.0.7.tar.gz (129.7MB):   1%  2.1MB\r",
        "  Downloading basemap-1.0.7.tar.gz (129.7MB):   1%  2.1MB\r",
        "  Downloading basemap-1.0.7.tar.gz (129.7MB):   1%  2.1MB\r",
        "  Downloading basemap-1.0.7.tar.gz (129.7MB):   1%  2.1MB\r",
        "  Downloading basemap-1.0.7.tar.gz (129.7MB):   1%  2.1MB\r",
        "  Downloading basemap-1.0.7.tar.gz (129.7MB):   1%  2.1MB\r",
        "  Downloading basemap-1.0.7.tar.gz (129.7MB):   1%  2.1MB\r",
        "  Downloading basemap-1.0.7.tar.gz (129.7MB):   1%  2.1MB\r",
        "  Downloading basemap-1.0.7.tar.gz (129.7MB):   1%  2.1MB\r",
        "  Downloading basemap-1.0.7.tar.gz (129.7MB):   1%  2.1MB\r",
        "  Downloading basemap-1.0.7.tar.gz (129.7MB):   1%  2.1MB\r",
        "  Downloading basemap-1.0.7.tar.gz (129.7MB):   1%  2.1MB\r",
        "  Downloading basemap-1.0.7.tar.gz (129.7MB):   1%  2.1MB\r",
        "  Downloading basemap-1.0.7.tar.gz (129.7MB):   1%  2.1MB\r",
        "  Downloading basemap-1.0.7.tar.gz (129.7MB):   1%  2.1MB\r",
        "  Downloading basemap-1.0.7.tar.gz (129.7MB):   1%  2.1MB\r",
        "  Downloading basemap-1.0.7.tar.gz (129.7MB):   1%  2.1MB\r",
        "  Downloading basemap-1.0.7.tar.gz (129.7MB):   1%  2.2MB\r",
        "  Downloading basemap-1.0.7.tar.gz (129.7MB):   1%  2.2MB\r",
        "  Downloading basemap-1.0.7.tar.gz (129.7MB):   1%  2.2MB\r",
        "  Downloading basemap-1.0.7.tar.gz (129.7MB):   1%  2.2MB\r",
        "  Downloading basemap-1.0.7.tar.gz (129.7MB):   1%  2.2MB\r",
        "  Downloading basemap-1.0.7.tar.gz (129.7MB):   1%  2.2MB\r",
        "  Downloading basemap-1.0.7.tar.gz (129.7MB):   1%  2.2MB\r",
        "  Downloading basemap-1.0.7.tar.gz (129.7MB):   1%  2.2MB"
       ]
      },
      {
       "output_type": "stream",
       "stream": "stdout",
       "text": [
        "\r",
        "  Downloading basemap-1.0.7.tar.gz (129.7MB):   1%  2.2MB\r",
        "  Downloading basemap-1.0.7.tar.gz (129.7MB):   1%  2.2MB\r",
        "  Downloading basemap-1.0.7.tar.gz (129.7MB):   1%  2.2MB\r",
        "  Downloading basemap-1.0.7.tar.gz (129.7MB):   1%  2.2MB\r",
        "  Downloading basemap-1.0.7.tar.gz (129.7MB):   1%  2.2MB\r",
        "  Downloading basemap-1.0.7.tar.gz (129.7MB):   1%  2.2MB"
       ]
      },
      {
       "output_type": "stream",
       "stream": "stdout",
       "text": [
        "\r",
        "  Downloading basemap-1.0.7.tar.gz (129.7MB):   1%  2.2MB\r",
        "  Downloading basemap-1.0.7.tar.gz (129.7MB):   1%  2.2MB\r",
        "  Downloading basemap-1.0.7.tar.gz (129.7MB):   1%  2.2MB\r",
        "  Downloading basemap-1.0.7.tar.gz (129.7MB):   1%  2.2MB\r",
        "  Downloading basemap-1.0.7.tar.gz (129.7MB):   1%  2.2MB\r",
        "  Downloading basemap-1.0.7.tar.gz (129.7MB):   1%  2.2MB\r",
        "  Downloading basemap-1.0.7.tar.gz (129.7MB):   1%  2.2MB\r",
        "  Downloading basemap-1.0.7.tar.gz (129.7MB):   1%  2.2MB\r",
        "  Downloading basemap-1.0.7.tar.gz (129.7MB):   1%  2.2MB\r",
        "  Downloading basemap-1.0.7.tar.gz (129.7MB):   1%  2.2MB\r",
        "  Downloading basemap-1.0.7.tar.gz (129.7MB):   1%  2.2MB\r",
        "  Downloading basemap-1.0.7.tar.gz (129.7MB):   1%  2.3MB\r",
        "  Downloading basemap-1.0.7.tar.gz (129.7MB):   1%  2.3MB\r",
        "  Downloading basemap-1.0.7.tar.gz (129.7MB):   1%  2.3MB\r",
        "  Downloading basemap-1.0.7.tar.gz (129.7MB):   1%  2.3MB\r",
        "  Downloading basemap-1.0.7.tar.gz (129.7MB):   1%  2.3MB\r",
        "  Downloading basemap-1.0.7.tar.gz (129.7MB):   1%  2.3MB\r",
        "  Downloading basemap-1.0.7.tar.gz (129.7MB):   1%  2.3MB\r",
        "  Downloading basemap-1.0.7.tar.gz (129.7MB):   1%  2.3MB\r",
        "  Downloading basemap-1.0.7.tar.gz (129.7MB):   1%  2.3MB\r",
        "  Downloading basemap-1.0.7.tar.gz (129.7MB):   1%  2.3MB"
       ]
      },
      {
       "output_type": "stream",
       "stream": "stdout",
       "text": [
        "\r",
        "  Downloading basemap-1.0.7.tar.gz (129.7MB):   1%  2.3MB\r",
        "  Downloading basemap-1.0.7.tar.gz (129.7MB):   1%  2.3MB"
       ]
      },
      {
       "output_type": "stream",
       "stream": "stdout",
       "text": [
        "\r",
        "  Downloading basemap-1.0.7.tar.gz (129.7MB):   1%  2.3MB\r",
        "  Downloading basemap-1.0.7.tar.gz (129.7MB):   1%  2.3MB\r",
        "  Downloading basemap-1.0.7.tar.gz (129.7MB):   1%  2.3MB\r",
        "  Downloading basemap-1.0.7.tar.gz (129.7MB):   1%  2.3MB\r",
        "  Downloading basemap-1.0.7.tar.gz (129.7MB):   1%  2.3MB\r",
        "  Downloading basemap-1.0.7.tar.gz (129.7MB):   1%  2.3MB\r",
        "  Downloading basemap-1.0.7.tar.gz (129.7MB):   1%  2.3MB\r",
        "  Downloading basemap-1.0.7.tar.gz (129.7MB):   1%  2.3MB\r",
        "  Downloading basemap-1.0.7.tar.gz (129.7MB):   1%  2.3MB\r",
        "  Downloading basemap-1.0.7.tar.gz (129.7MB):   1%  2.3MB\r",
        "  Downloading basemap-1.0.7.tar.gz (129.7MB):   1%  2.3MB\r",
        "  Downloading basemap-1.0.7.tar.gz (129.7MB):   1%  2.3MB\r",
        "  Downloading basemap-1.0.7.tar.gz (129.7MB):   1%  2.4MB\r",
        "  Downloading basemap-1.0.7.tar.gz (129.7MB):   1%  2.4MB\r",
        "  Downloading basemap-1.0.7.tar.gz (129.7MB):   1%  2.4MB\r",
        "  Downloading basemap-1.0.7.tar.gz (129.7MB):   1%  2.4MB\r",
        "  Downloading basemap-1.0.7.tar.gz (129.7MB):   1%  2.4MB\r",
        "  Downloading basemap-1.0.7.tar.gz (129.7MB):   1%  2.4MB\r",
        "  Downloading basemap-1.0.7.tar.gz (129.7MB):   1%  2.4MB\r",
        "  Downloading basemap-1.0.7.tar.gz (129.7MB):   1%  2.4MB\r",
        "  Downloading basemap-1.0.7.tar.gz (129.7MB):   1%  2.4MB\r",
        "  Downloading basemap-1.0.7.tar.gz (129.7MB):   1%  2.4MB\r",
        "  Downloading basemap-1.0.7.tar.gz (129.7MB):   1%  2.4MB\r",
        "  Downloading basemap-1.0.7.tar.gz (129.7MB):   1%  2.4MB\r",
        "  Downloading basemap-1.0.7.tar.gz (129.7MB):   1%  2.4MB\r",
        "  Downloading basemap-1.0.7.tar.gz (129.7MB):   1%  2.4MB"
       ]
      },
      {
       "output_type": "stream",
       "stream": "stdout",
       "text": [
        "\r",
        "  Downloading basemap-1.0.7.tar.gz (129.7MB):   1%  2.4MB\r",
        "  Downloading basemap-1.0.7.tar.gz (129.7MB):   1%  2.4MB\r",
        "  Downloading basemap-1.0.7.tar.gz (129.7MB):   1%  2.4MB\r",
        "  Downloading basemap-1.0.7.tar.gz (129.7MB):   1%  2.4MB\r",
        "  Downloading basemap-1.0.7.tar.gz (129.7MB):   1%  2.4MB\r",
        "  Downloading basemap-1.0.7.tar.gz (129.7MB):   1%  2.4MB\r",
        "  Downloading basemap-1.0.7.tar.gz (129.7MB):   1%  2.4MB\r",
        "  Downloading basemap-1.0.7.tar.gz (129.7MB):   1%  2.4MB\r",
        "  Downloading basemap-1.0.7.tar.gz (129.7MB):   1%  2.4MB\r",
        "  Downloading basemap-1.0.7.tar.gz (129.7MB):   1%  2.4MB\r",
        "  Downloading basemap-1.0.7.tar.gz (129.7MB):   1%  2.4MB\r",
        "  Downloading basemap-1.0.7.tar.gz (129.7MB):   1%  2.5MB\r",
        "  Downloading basemap-1.0.7.tar.gz (129.7MB):   1%  2.5MB\r",
        "  Downloading basemap-1.0.7.tar.gz (129.7MB):   1%  2.5MB\r",
        "  Downloading basemap-1.0.7.tar.gz (129.7MB):   1%  2.5MB\r",
        "  Downloading basemap-1.0.7.tar.gz (129.7MB):   1%  2.5MB\r",
        "  Downloading basemap-1.0.7.tar.gz (129.7MB):   1%  2.5MB\r",
        "  Downloading basemap-1.0.7.tar.gz (129.7MB):   1%  2.5MB\r",
        "  Downloading basemap-1.0.7.tar.gz (129.7MB):   1%  2.5MB"
       ]
      },
      {
       "output_type": "stream",
       "stream": "stdout",
       "text": [
        "\r",
        "  Downloading basemap-1.0.7.tar.gz (129.7MB):   1%  2.5MB\r",
        "  Downloading basemap-1.0.7.tar.gz (129.7MB):   1%  2.5MB\r",
        "  Downloading basemap-1.0.7.tar.gz (129.7MB):   1%  2.5MB\r",
        "  Downloading basemap-1.0.7.tar.gz (129.7MB):   1%  2.5MB\r",
        "  Downloading basemap-1.0.7.tar.gz (129.7MB):   1%  2.5MB\r",
        "  Downloading basemap-1.0.7.tar.gz (129.7MB):   1%  2.5MB\r",
        "  Downloading basemap-1.0.7.tar.gz (129.7MB):   1%  2.5MB\r",
        "  Downloading basemap-1.0.7.tar.gz (129.7MB):   1%  2.5MB\r",
        "  Downloading basemap-1.0.7.tar.gz (129.7MB):   1%  2.5MB"
       ]
      },
      {
       "output_type": "stream",
       "stream": "stdout",
       "text": [
        "\r",
        "  Downloading basemap-1.0.7.tar.gz (129.7MB):   1%  2.5MB\r",
        "  Downloading basemap-1.0.7.tar.gz (129.7MB):   1%  2.5MB\r",
        "  Downloading basemap-1.0.7.tar.gz (129.7MB):   1%  2.5MB\r",
        "  Downloading basemap-1.0.7.tar.gz (129.7MB):   1%  2.5MB\r",
        "  Downloading basemap-1.0.7.tar.gz (129.7MB):   1%  2.5MB\r",
        "  Downloading basemap-1.0.7.tar.gz (129.7MB):   1%  2.5MB\r",
        "  Downloading basemap-1.0.7.tar.gz (129.7MB):   1%  2.5MB\r",
        "  Downloading basemap-1.0.7.tar.gz (129.7MB):   1%  2.6MB"
       ]
      },
      {
       "output_type": "stream",
       "stream": "stdout",
       "text": [
        "\r",
        "  Downloading basemap-1.0.7.tar.gz (129.7MB):   1%  2.6MB\r",
        "  Downloading basemap-1.0.7.tar.gz (129.7MB):   1%  2.6MB\r",
        "  Downloading basemap-1.0.7.tar.gz (129.7MB):   1%  2.6MB\r",
        "  Downloading basemap-1.0.7.tar.gz (129.7MB):   1%  2.6MB\r",
        "  Downloading basemap-1.0.7.tar.gz (129.7MB):   1%  2.6MB\r",
        "  Downloading basemap-1.0.7.tar.gz (129.7MB):   1%  2.6MB\r",
        "  Downloading basemap-1.0.7.tar.gz (129.7MB):   1%  2.6MB\r",
        "  Downloading basemap-1.0.7.tar.gz (129.7MB):   1%  2.6MB\r",
        "  Downloading basemap-1.0.7.tar.gz (129.7MB):   1%  2.6MB\r",
        "  Downloading basemap-1.0.7.tar.gz (129.7MB):   1%  2.6MB\r",
        "  Downloading basemap-1.0.7.tar.gz (129.7MB):   2%  2.6MB\r",
        "  Downloading basemap-1.0.7.tar.gz (129.7MB):   2%  2.6MB\r",
        "  Downloading basemap-1.0.7.tar.gz (129.7MB):   2%  2.6MB\r",
        "  Downloading basemap-1.0.7.tar.gz (129.7MB):   2%  2.6MB\r",
        "  Downloading basemap-1.0.7.tar.gz (129.7MB):   2%  2.6MB\r",
        "  Downloading basemap-1.0.7.tar.gz (129.7MB):   2%  2.6MB\r",
        "  Downloading basemap-1.0.7.tar.gz (129.7MB):   2%  2.6MB\r",
        "  Downloading basemap-1.0.7.tar.gz (129.7MB):   2%  2.6MB\r",
        "  Downloading basemap-1.0.7.tar.gz (129.7MB):   2%  2.6MB\r",
        "  Downloading basemap-1.0.7.tar.gz (129.7MB):   2%  2.6MB"
       ]
      },
      {
       "output_type": "stream",
       "stream": "stdout",
       "text": [
        "\r",
        "  Downloading basemap-1.0.7.tar.gz (129.7MB):   2%  2.6MB\r",
        "  Downloading basemap-1.0.7.tar.gz (129.7MB):   2%  2.6MB\r",
        "  Downloading basemap-1.0.7.tar.gz (129.7MB):   2%  2.6MB"
       ]
      },
      {
       "output_type": "stream",
       "stream": "stdout",
       "text": [
        "\r",
        "  Downloading basemap-1.0.7.tar.gz (129.7MB):   2%  2.7MB\r",
        "  Downloading basemap-1.0.7.tar.gz (129.7MB):   2%  2.7MB\r",
        "  Downloading basemap-1.0.7.tar.gz (129.7MB):   2%  2.7MB\r",
        "  Downloading basemap-1.0.7.tar.gz (129.7MB):   2%  2.7MB\r",
        "  Downloading basemap-1.0.7.tar.gz (129.7MB):   2%  2.7MB\r",
        "  Downloading basemap-1.0.7.tar.gz (129.7MB):   2%  2.7MB\r",
        "  Downloading basemap-1.0.7.tar.gz (129.7MB):   2%  2.7MB\r",
        "  Downloading basemap-1.0.7.tar.gz (129.7MB):   2%  2.7MB\r",
        "  Downloading basemap-1.0.7.tar.gz (129.7MB):   2%  2.7MB\r",
        "  Downloading basemap-1.0.7.tar.gz (129.7MB):   2%  2.7MB\r",
        "  Downloading basemap-1.0.7.tar.gz (129.7MB):   2%  2.7MB\r",
        "  Downloading basemap-1.0.7.tar.gz (129.7MB):   2%  2.7MB\r",
        "  Downloading basemap-1.0.7.tar.gz (129.7MB):   2%  2.7MB\r",
        "  Downloading basemap-1.0.7.tar.gz (129.7MB):   2%  2.7MB\r",
        "  Downloading basemap-1.0.7.tar.gz (129.7MB):   2%  2.7MB\r",
        "  Downloading basemap-1.0.7.tar.gz (129.7MB):   2%  2.7MB\r",
        "  Downloading basemap-1.0.7.tar.gz (129.7MB):   2%  2.7MB\r",
        "  Downloading basemap-1.0.7.tar.gz (129.7MB):   2%  2.7MB\r",
        "  Downloading basemap-1.0.7.tar.gz (129.7MB):   2%  2.7MB\r",
        "  Downloading basemap-1.0.7.tar.gz (129.7MB):   2%  2.7MB\r",
        "  Downloading basemap-1.0.7.tar.gz (129.7MB):   2%  2.7MB\r",
        "  Downloading basemap-1.0.7.tar.gz (129.7MB):   2%  2.7MB\r",
        "  Downloading basemap-1.0.7.tar.gz (129.7MB):   2%  2.7MB\r",
        "  Downloading basemap-1.0.7.tar.gz (129.7MB):   2%  2.7MB\r",
        "  Downloading basemap-1.0.7.tar.gz (129.7MB):   2%  2.7MB\r",
        "  Downloading basemap-1.0.7.tar.gz (129.7MB):   2%  2.8MB"
       ]
      },
      {
       "output_type": "stream",
       "stream": "stdout",
       "text": [
        "\r",
        "  Downloading basemap-1.0.7.tar.gz (129.7MB):   2%  2.8MB\r",
        "  Downloading basemap-1.0.7.tar.gz (129.7MB):   2%  2.8MB\r",
        "  Downloading basemap-1.0.7.tar.gz (129.7MB):   2%  2.8MB\r",
        "  Downloading basemap-1.0.7.tar.gz (129.7MB):   2%  2.8MB\r",
        "  Downloading basemap-1.0.7.tar.gz (129.7MB):   2%  2.8MB\r",
        "  Downloading basemap-1.0.7.tar.gz (129.7MB):   2%  2.8MB\r",
        "  Downloading basemap-1.0.7.tar.gz (129.7MB):   2%  2.8MB\r",
        "  Downloading basemap-1.0.7.tar.gz (129.7MB):   2%  2.8MB\r",
        "  Downloading basemap-1.0.7.tar.gz (129.7MB):   2%  2.8MB\r",
        "  Downloading basemap-1.0.7.tar.gz (129.7MB):   2%  2.8MB\r",
        "  Downloading basemap-1.0.7.tar.gz (129.7MB):   2%  2.8MB\r",
        "  Downloading basemap-1.0.7.tar.gz (129.7MB):   2%  2.8MB\r",
        "  Downloading basemap-1.0.7.tar.gz (129.7MB):   2%  2.8MB\r",
        "  Downloading basemap-1.0.7.tar.gz (129.7MB):   2%  2.8MB\r",
        "  Downloading basemap-1.0.7.tar.gz (129.7MB):   2%  2.8MB\r",
        "  Downloading basemap-1.0.7.tar.gz (129.7MB):   2%  2.8MB\r",
        "  Downloading basemap-1.0.7.tar.gz (129.7MB):   2%  2.8MB\r",
        "  Downloading basemap-1.0.7.tar.gz (129.7MB):   2%  2.8MB\r",
        "  Downloading basemap-1.0.7.tar.gz (129.7MB):   2%  2.8MB"
       ]
      },
      {
       "output_type": "stream",
       "stream": "stdout",
       "text": [
        "\r",
        "  Downloading basemap-1.0.7.tar.gz (129.7MB):   2%  2.8MB\r",
        "  Downloading basemap-1.0.7.tar.gz (129.7MB):   2%  2.8MB\r",
        "  Downloading basemap-1.0.7.tar.gz (129.7MB):   2%  2.8MB\r",
        "  Downloading basemap-1.0.7.tar.gz (129.7MB):   2%  2.8MB\r",
        "  Downloading basemap-1.0.7.tar.gz (129.7MB):   2%  2.9MB\r",
        "  Downloading basemap-1.0.7.tar.gz (129.7MB):   2%  2.9MB\r",
        "  Downloading basemap-1.0.7.tar.gz (129.7MB):   2%  2.9MB\r",
        "  Downloading basemap-1.0.7.tar.gz (129.7MB):   2%  2.9MB\r",
        "  Downloading basemap-1.0.7.tar.gz (129.7MB):   2%  2.9MB\r",
        "  Downloading basemap-1.0.7.tar.gz (129.7MB):   2%  2.9MB"
       ]
      },
      {
       "output_type": "stream",
       "stream": "stdout",
       "text": [
        "\r",
        "  Downloading basemap-1.0.7.tar.gz (129.7MB):   2%  2.9MB\r",
        "  Downloading basemap-1.0.7.tar.gz (129.7MB):   2%  2.9MB\r",
        "  Downloading basemap-1.0.7.tar.gz (129.7MB):   2%  2.9MB\r",
        "  Downloading basemap-1.0.7.tar.gz (129.7MB):   2%  2.9MB\r",
        "  Downloading basemap-1.0.7.tar.gz (129.7MB):   2%  2.9MB\r",
        "  Downloading basemap-1.0.7.tar.gz (129.7MB):   2%  2.9MB\r",
        "  Downloading basemap-1.0.7.tar.gz (129.7MB):   2%  2.9MB\r",
        "  Downloading basemap-1.0.7.tar.gz (129.7MB):   2%  2.9MB\r",
        "  Downloading basemap-1.0.7.tar.gz (129.7MB):   2%  2.9MB"
       ]
      },
      {
       "output_type": "stream",
       "stream": "stdout",
       "text": [
        "\r",
        "  Downloading basemap-1.0.7.tar.gz (129.7MB):   2%  2.9MB\r",
        "  Downloading basemap-1.0.7.tar.gz (129.7MB):   2%  2.9MB\r",
        "  Downloading basemap-1.0.7.tar.gz (129.7MB):   2%  2.9MB\r",
        "  Downloading basemap-1.0.7.tar.gz (129.7MB):   2%  2.9MB\r",
        "  Downloading basemap-1.0.7.tar.gz (129.7MB):   2%  2.9MB\r",
        "  Downloading basemap-1.0.7.tar.gz (129.7MB):   2%  2.9MB\r",
        "  Downloading basemap-1.0.7.tar.gz (129.7MB):   2%  2.9MB\r",
        "  Downloading basemap-1.0.7.tar.gz (129.7MB):   2%  2.9MB\r",
        "  Downloading basemap-1.0.7.tar.gz (129.7MB):   2%  2.9MB\r",
        "  Downloading basemap-1.0.7.tar.gz (129.7MB):   2%  2.9MB\r",
        "  Downloading basemap-1.0.7.tar.gz (129.7MB):   2%  3.0MB\r",
        "  Downloading basemap-1.0.7.tar.gz (129.7MB):   2%  3.0MB\r",
        "  Downloading basemap-1.0.7.tar.gz (129.7MB):   2%  3.0MB\r",
        "  Downloading basemap-1.0.7.tar.gz (129.7MB):   2%  3.0MB\r",
        "  Downloading basemap-1.0.7.tar.gz (129.7MB):   2%  3.0MB\r",
        "  Downloading basemap-1.0.7.tar.gz (129.7MB):   2%  3.0MB\r",
        "  Downloading basemap-1.0.7.tar.gz (129.7MB):   2%  3.0MB\r",
        "  Downloading basemap-1.0.7.tar.gz (129.7MB):   2%  3.0MB\r",
        "  Downloading basemap-1.0.7.tar.gz (129.7MB):   2%  3.0MB\r",
        "  Downloading basemap-1.0.7.tar.gz (129.7MB):   2%  3.0MB"
       ]
      },
      {
       "output_type": "stream",
       "stream": "stdout",
       "text": [
        "\r",
        "  Downloading basemap-1.0.7.tar.gz (129.7MB):   2%  3.0MB\r",
        "  Downloading basemap-1.0.7.tar.gz (129.7MB):   2%  3.0MB\r",
        "  Downloading basemap-1.0.7.tar.gz (129.7MB):   2%  3.0MB"
       ]
      },
      {
       "output_type": "stream",
       "stream": "stdout",
       "text": [
        "\r",
        "  Downloading basemap-1.0.7.tar.gz (129.7MB):   2%  3.0MB\r",
        "  Downloading basemap-1.0.7.tar.gz (129.7MB):   2%  3.0MB\r",
        "  Downloading basemap-1.0.7.tar.gz (129.7MB):   2%  3.0MB\r",
        "  Downloading basemap-1.0.7.tar.gz (129.7MB):   2%  3.0MB\r",
        "  Downloading basemap-1.0.7.tar.gz (129.7MB):   2%  3.0MB\r",
        "  Downloading basemap-1.0.7.tar.gz (129.7MB):   2%  3.0MB\r",
        "  Downloading basemap-1.0.7.tar.gz (129.7MB):   2%  3.0MB\r",
        "  Downloading basemap-1.0.7.tar.gz (129.7MB):   2%  3.0MB\r",
        "  Downloading basemap-1.0.7.tar.gz (129.7MB):   2%  3.0MB\r",
        "  Downloading basemap-1.0.7.tar.gz (129.7MB):   2%  3.0MB\r",
        "  Downloading basemap-1.0.7.tar.gz (129.7MB):   2%  3.0MB\r",
        "  Downloading basemap-1.0.7.tar.gz (129.7MB):   2%  3.1MB\r",
        "  Downloading basemap-1.0.7.tar.gz (129.7MB):   2%  3.1MB\r",
        "  Downloading basemap-1.0.7.tar.gz (129.7MB):   2%  3.1MB\r",
        "  Downloading basemap-1.0.7.tar.gz (129.7MB):   2%  3.1MB\r",
        "  Downloading basemap-1.0.7.tar.gz (129.7MB):   2%  3.1MB\r",
        "  Downloading basemap-1.0.7.tar.gz (129.7MB):   2%  3.1MB\r",
        "  Downloading basemap-1.0.7.tar.gz (129.7MB):   2%  3.1MB\r",
        "  Downloading basemap-1.0.7.tar.gz (129.7MB):   2%  3.1MB\r",
        "  Downloading basemap-1.0.7.tar.gz (129.7MB):   2%  3.1MB\r",
        "  Downloading basemap-1.0.7.tar.gz (129.7MB):   2%  3.1MB\r",
        "  Downloading basemap-1.0.7.tar.gz (129.7MB):   2%  3.1MB\r",
        "  Downloading basemap-1.0.7.tar.gz (129.7MB):   2%  3.1MB\r",
        "  Downloading basemap-1.0.7.tar.gz (129.7MB):   2%  3.1MB\r",
        "  Downloading basemap-1.0.7.tar.gz (129.7MB):   2%  3.1MB\r",
        "  Downloading basemap-1.0.7.tar.gz (129.7MB):   2%  3.1MB"
       ]
      },
      {
       "output_type": "stream",
       "stream": "stdout",
       "text": [
        "\r",
        "  Downloading basemap-1.0.7.tar.gz (129.7MB):   2%  3.1MB\r",
        "  Downloading basemap-1.0.7.tar.gz (129.7MB):   2%  3.1MB\r",
        "  Downloading basemap-1.0.7.tar.gz (129.7MB):   2%  3.1MB\r",
        "  Downloading basemap-1.0.7.tar.gz (129.7MB):   2%  3.1MB\r",
        "  Downloading basemap-1.0.7.tar.gz (129.7MB):   2%  3.1MB\r",
        "  Downloading basemap-1.0.7.tar.gz (129.7MB):   2%  3.1MB\r",
        "  Downloading basemap-1.0.7.tar.gz (129.7MB):   2%  3.1MB\r",
        "  Downloading basemap-1.0.7.tar.gz (129.7MB):   2%  3.1MB\r",
        "  Downloading basemap-1.0.7.tar.gz (129.7MB):   2%  3.1MB\r",
        "  Downloading basemap-1.0.7.tar.gz (129.7MB):   2%  3.1MB\r",
        "  Downloading basemap-1.0.7.tar.gz (129.7MB):   2%  3.2MB\r",
        "  Downloading basemap-1.0.7.tar.gz (129.7MB):   2%  3.2MB\r",
        "  Downloading basemap-1.0.7.tar.gz (129.7MB):   2%  3.2MB\r",
        "  Downloading basemap-1.0.7.tar.gz (129.7MB):   2%  3.2MB\r",
        "  Downloading basemap-1.0.7.tar.gz (129.7MB):   2%  3.2MB\r",
        "  Downloading basemap-1.0.7.tar.gz (129.7MB):   2%  3.2MB\r",
        "  Downloading basemap-1.0.7.tar.gz (129.7MB):   2%  3.2MB\r",
        "  Downloading basemap-1.0.7.tar.gz (129.7MB):   2%  3.2MB\r",
        "  Downloading basemap-1.0.7.tar.gz (129.7MB):   2%  3.2MB\r",
        "  Downloading basemap-1.0.7.tar.gz (129.7MB):   2%  3.2MB\r",
        "  Downloading basemap-1.0.7.tar.gz (129.7MB):   2%  3.2MB"
       ]
      },
      {
       "output_type": "stream",
       "stream": "stdout",
       "text": [
        "\r",
        "  Downloading basemap-1.0.7.tar.gz (129.7MB):   2%  3.2MB\r",
        "  Downloading basemap-1.0.7.tar.gz (129.7MB):   2%  3.2MB\r",
        "  Downloading basemap-1.0.7.tar.gz (129.7MB):   2%  3.2MB\r",
        "  Downloading basemap-1.0.7.tar.gz (129.7MB):   2%  3.2MB\r",
        "  Downloading basemap-1.0.7.tar.gz (129.7MB):   2%  3.2MB\r",
        "  Downloading basemap-1.0.7.tar.gz (129.7MB):   2%  3.2MB\r",
        "  Downloading basemap-1.0.7.tar.gz (129.7MB):   2%  3.2MB\r",
        "  Downloading basemap-1.0.7.tar.gz (129.7MB):   2%  3.2MB"
       ]
      },
      {
       "output_type": "stream",
       "stream": "stdout",
       "text": [
        "\r",
        "  Downloading basemap-1.0.7.tar.gz (129.7MB):   2%  3.2MB\r",
        "  Downloading basemap-1.0.7.tar.gz (129.7MB):   2%  3.2MB\r",
        "  Downloading basemap-1.0.7.tar.gz (129.7MB):   2%  3.2MB\r",
        "  Downloading basemap-1.0.7.tar.gz (129.7MB):   2%  3.2MB\r",
        "  Downloading basemap-1.0.7.tar.gz (129.7MB):   2%  3.2MB\r",
        "  Downloading basemap-1.0.7.tar.gz (129.7MB):   2%  3.3MB\r",
        "  Downloading basemap-1.0.7.tar.gz (129.7MB):   2%  3.3MB\r",
        "  Downloading basemap-1.0.7.tar.gz (129.7MB):   2%  3.3MB\r",
        "  Downloading basemap-1.0.7.tar.gz (129.7MB):   2%  3.3MB\r",
        "  Downloading basemap-1.0.7.tar.gz (129.7MB):   2%  3.3MB\r",
        "  Downloading basemap-1.0.7.tar.gz (129.7MB):   2%  3.3MB"
       ]
      },
      {
       "output_type": "stream",
       "stream": "stdout",
       "text": [
        "\r",
        "  Downloading basemap-1.0.7.tar.gz (129.7MB):   2%  3.3MB\r",
        "  Downloading basemap-1.0.7.tar.gz (129.7MB):   2%  3.3MB\r",
        "  Downloading basemap-1.0.7.tar.gz (129.7MB):   2%  3.3MB\r",
        "  Downloading basemap-1.0.7.tar.gz (129.7MB):   2%  3.3MB\r",
        "  Downloading basemap-1.0.7.tar.gz (129.7MB):   2%  3.3MB\r",
        "  Downloading basemap-1.0.7.tar.gz (129.7MB):   2%  3.3MB\r",
        "  Downloading basemap-1.0.7.tar.gz (129.7MB):   2%  3.3MB\r",
        "  Downloading basemap-1.0.7.tar.gz (129.7MB):   2%  3.3MB\r",
        "  Downloading basemap-1.0.7.tar.gz (129.7MB):   2%  3.3MB\r",
        "  Downloading basemap-1.0.7.tar.gz (129.7MB):   2%  3.3MB\r",
        "  Downloading basemap-1.0.7.tar.gz (129.7MB):   2%  3.3MB\r",
        "  Downloading basemap-1.0.7.tar.gz (129.7MB):   2%  3.3MB\r",
        "  Downloading basemap-1.0.7.tar.gz (129.7MB):   2%  3.3MB\r",
        "  Downloading basemap-1.0.7.tar.gz (129.7MB):   2%  3.3MB\r",
        "  Downloading basemap-1.0.7.tar.gz (129.7MB):   2%  3.3MB\r",
        "  Downloading basemap-1.0.7.tar.gz (129.7MB):   2%  3.3MB\r",
        "  Downloading basemap-1.0.7.tar.gz (129.7MB):   2%  3.3MB\r",
        "  Downloading basemap-1.0.7.tar.gz (129.7MB):   2%  3.3MB\r",
        "  Downloading basemap-1.0.7.tar.gz (129.7MB):   2%  3.4MB"
       ]
      },
      {
       "output_type": "stream",
       "stream": "stdout",
       "text": [
        "\r",
        "  Downloading basemap-1.0.7.tar.gz (129.7MB):   2%  3.4MB\r",
        "  Downloading basemap-1.0.7.tar.gz (129.7MB):   2%  3.4MB\r",
        "  Downloading basemap-1.0.7.tar.gz (129.7MB):   2%  3.4MB"
       ]
      },
      {
       "output_type": "stream",
       "stream": "stdout",
       "text": [
        "\r",
        "  Downloading basemap-1.0.7.tar.gz (129.7MB):   2%  3.4MB\r",
        "  Downloading basemap-1.0.7.tar.gz (129.7MB):   2%  3.4MB\r",
        "  Downloading basemap-1.0.7.tar.gz (129.7MB):   2%  3.4MB\r",
        "  Downloading basemap-1.0.7.tar.gz (129.7MB):   2%  3.4MB\r",
        "  Downloading basemap-1.0.7.tar.gz (129.7MB):   2%  3.4MB\r",
        "  Downloading basemap-1.0.7.tar.gz (129.7MB):   2%  3.4MB\r",
        "  Downloading basemap-1.0.7.tar.gz (129.7MB):   2%  3.4MB\r",
        "  Downloading basemap-1.0.7.tar.gz (129.7MB):   2%  3.4MB\r",
        "  Downloading basemap-1.0.7.tar.gz (129.7MB):   2%  3.4MB\r",
        "  Downloading basemap-1.0.7.tar.gz (129.7MB):   2%  3.4MB\r",
        "  Downloading basemap-1.0.7.tar.gz (129.7MB):   2%  3.4MB\r",
        "  Downloading basemap-1.0.7.tar.gz (129.7MB):   2%  3.4MB\r",
        "  Downloading basemap-1.0.7.tar.gz (129.7MB):   2%  3.4MB\r",
        "  Downloading basemap-1.0.7.tar.gz (129.7MB):   2%  3.4MB\r",
        "  Downloading basemap-1.0.7.tar.gz (129.7MB):   2%  3.4MB\r",
        "  Downloading basemap-1.0.7.tar.gz (129.7MB):   2%  3.4MB\r",
        "  Downloading basemap-1.0.7.tar.gz (129.7MB):   2%  3.4MB\r",
        "  Downloading basemap-1.0.7.tar.gz (129.7MB):   2%  3.4MB\r",
        "  Downloading basemap-1.0.7.tar.gz (129.7MB):   2%  3.4MB\r",
        "  Downloading basemap-1.0.7.tar.gz (129.7MB):   2%  3.4MB\r",
        "  Downloading basemap-1.0.7.tar.gz (129.7MB):   2%  3.4MB\r",
        "  Downloading basemap-1.0.7.tar.gz (129.7MB):   2%  3.5MB\r",
        "  Downloading basemap-1.0.7.tar.gz (129.7MB):   2%  3.5MB\r",
        "  Downloading basemap-1.0.7.tar.gz (129.7MB):   2%  3.5MB\r",
        "  Downloading basemap-1.0.7.tar.gz (129.7MB):   2%  3.5MB\r",
        "  Downloading basemap-1.0.7.tar.gz (129.7MB):   2%  3.5MB\r",
        "  Downloading basemap-1.0.7.tar.gz (129.7MB):   2%  3.5MB"
       ]
      },
      {
       "output_type": "stream",
       "stream": "stdout",
       "text": [
        "\r",
        "  Downloading basemap-1.0.7.tar.gz (129.7MB):   2%  3.5MB\r",
        "  Downloading basemap-1.0.7.tar.gz (129.7MB):   2%  3.5MB\r",
        "  Downloading basemap-1.0.7.tar.gz (129.7MB):   2%  3.5MB\r",
        "  Downloading basemap-1.0.7.tar.gz (129.7MB):   2%  3.5MB\r",
        "  Downloading basemap-1.0.7.tar.gz (129.7MB):   2%  3.5MB\r",
        "  Downloading basemap-1.0.7.tar.gz (129.7MB):   2%  3.5MB\r",
        "  Downloading basemap-1.0.7.tar.gz (129.7MB):   2%  3.5MB\r",
        "  Downloading basemap-1.0.7.tar.gz (129.7MB):   2%  3.5MB\r",
        "  Downloading basemap-1.0.7.tar.gz (129.7MB):   2%  3.5MB\r",
        "  Downloading basemap-1.0.7.tar.gz (129.7MB):   2%  3.5MB\r",
        "  Downloading basemap-1.0.7.tar.gz (129.7MB):   2%  3.5MB\r",
        "  Downloading basemap-1.0.7.tar.gz (129.7MB):   2%  3.5MB\r",
        "  Downloading basemap-1.0.7.tar.gz (129.7MB):   2%  3.5MB\r",
        "  Downloading basemap-1.0.7.tar.gz (129.7MB):   2%  3.5MB\r",
        "  Downloading basemap-1.0.7.tar.gz (129.7MB):   2%  3.5MB\r",
        "  Downloading basemap-1.0.7.tar.gz (129.7MB):   2%  3.5MB\r",
        "  Downloading basemap-1.0.7.tar.gz (129.7MB):   2%  3.5MB\r",
        "  Downloading basemap-1.0.7.tar.gz (129.7MB):   2%  3.5MB\r",
        "  Downloading basemap-1.0.7.tar.gz (129.7MB):   2%  3.6MB\r",
        "  Downloading basemap-1.0.7.tar.gz (129.7MB):   2%  3.6MB\r",
        "  Downloading basemap-1.0.7.tar.gz (129.7MB):   2%  3.6MB\r",
        "  Downloading basemap-1.0.7.tar.gz (129.7MB):   2%  3.6MB\r",
        "  Downloading basemap-1.0.7.tar.gz (129.7MB):   2%  3.6MB"
       ]
      },
      {
       "output_type": "stream",
       "stream": "stdout",
       "text": [
        "\r",
        "  Downloading basemap-1.0.7.tar.gz (129.7MB):   2%  3.6MB\r",
        "  Downloading basemap-1.0.7.tar.gz (129.7MB):   2%  3.6MB\r",
        "  Downloading basemap-1.0.7.tar.gz (129.7MB):   2%  3.6MB\r",
        "  Downloading basemap-1.0.7.tar.gz (129.7MB):   2%  3.6MB\r",
        "  Downloading basemap-1.0.7.tar.gz (129.7MB):   2%  3.6MB\r",
        "  Downloading basemap-1.0.7.tar.gz (129.7MB):   2%  3.6MB\r",
        "  Downloading basemap-1.0.7.tar.gz (129.7MB):   2%  3.6MB\r",
        "  Downloading basemap-1.0.7.tar.gz (129.7MB):   2%  3.6MB"
       ]
      },
      {
       "output_type": "stream",
       "stream": "stdout",
       "text": [
        "\r",
        "  Downloading basemap-1.0.7.tar.gz (129.7MB):   2%  3.6MB\r",
        "  Downloading basemap-1.0.7.tar.gz (129.7MB):   2%  3.6MB\r",
        "  Downloading basemap-1.0.7.tar.gz (129.7MB):   2%  3.6MB\r",
        "  Downloading basemap-1.0.7.tar.gz (129.7MB):   2%  3.6MB\r",
        "  Downloading basemap-1.0.7.tar.gz (129.7MB):   2%  3.6MB\r",
        "  Downloading basemap-1.0.7.tar.gz (129.7MB):   2%  3.6MB\r",
        "  Downloading basemap-1.0.7.tar.gz (129.7MB):   2%  3.6MB\r",
        "  Downloading basemap-1.0.7.tar.gz (129.7MB):   2%  3.6MB\r",
        "  Downloading basemap-1.0.7.tar.gz (129.7MB):   2%  3.6MB\r",
        "  Downloading basemap-1.0.7.tar.gz (129.7MB):   2%  3.6MB\r",
        "  Downloading basemap-1.0.7.tar.gz (129.7MB):   2%  3.6MB\r",
        "  Downloading basemap-1.0.7.tar.gz (129.7MB):   2%  3.6MB\r",
        "  Downloading basemap-1.0.7.tar.gz (129.7MB):   2%  3.7MB"
       ]
      },
      {
       "output_type": "stream",
       "stream": "stdout",
       "text": [
        "\r",
        "  Downloading basemap-1.0.7.tar.gz (129.7MB):   2%  3.7MB\r",
        "  Downloading basemap-1.0.7.tar.gz (129.7MB):   2%  3.7MB\r",
        "  Downloading basemap-1.0.7.tar.gz (129.7MB):   2%  3.7MB\r",
        "  Downloading basemap-1.0.7.tar.gz (129.7MB):   2%  3.7MB\r",
        "  Downloading basemap-1.0.7.tar.gz (129.7MB):   2%  3.7MB\r",
        "  Downloading basemap-1.0.7.tar.gz (129.7MB):   2%  3.7MB\r",
        "  Downloading basemap-1.0.7.tar.gz (129.7MB):   2%  3.7MB\r",
        "  Downloading basemap-1.0.7.tar.gz (129.7MB):   2%  3.7MB\r",
        "  Downloading basemap-1.0.7.tar.gz (129.7MB):   2%  3.7MB\r",
        "  Downloading basemap-1.0.7.tar.gz (129.7MB):   2%  3.7MB\r",
        "  Downloading basemap-1.0.7.tar.gz (129.7MB):   2%  3.7MB\r",
        "  Downloading basemap-1.0.7.tar.gz (129.7MB):   2%  3.7MB\r",
        "  Downloading basemap-1.0.7.tar.gz (129.7MB):   2%  3.7MB\r",
        "  Downloading basemap-1.0.7.tar.gz (129.7MB):   2%  3.7MB\r",
        "  Downloading basemap-1.0.7.tar.gz (129.7MB):   2%  3.7MB\r",
        "  Downloading basemap-1.0.7.tar.gz (129.7MB):   2%  3.7MB\r",
        "  Downloading basemap-1.0.7.tar.gz (129.7MB):   2%  3.7MB\r",
        "  Downloading basemap-1.0.7.tar.gz (129.7MB):   2%  3.7MB"
       ]
      },
      {
       "output_type": "stream",
       "stream": "stdout",
       "text": [
        "\r",
        "  Downloading basemap-1.0.7.tar.gz (129.7MB):   2%  3.7MB\r",
        "  Downloading basemap-1.0.7.tar.gz (129.7MB):   2%  3.7MB\r",
        "  Downloading basemap-1.0.7.tar.gz (129.7MB):   2%  3.7MB\r",
        "  Downloading basemap-1.0.7.tar.gz (129.7MB):   2%  3.7MB\r",
        "  Downloading basemap-1.0.7.tar.gz (129.7MB):   2%  3.7MB"
       ]
      },
      {
       "output_type": "stream",
       "stream": "stdout",
       "text": [
        "\r",
        "  Downloading basemap-1.0.7.tar.gz (129.7MB):   2%  3.8MB\r",
        "  Downloading basemap-1.0.7.tar.gz (129.7MB):   2%  3.8MB\r",
        "  Downloading basemap-1.0.7.tar.gz (129.7MB):   2%  3.8MB\r",
        "  Downloading basemap-1.0.7.tar.gz (129.7MB):   2%  3.8MB\r",
        "  Downloading basemap-1.0.7.tar.gz (129.7MB):   2%  3.8MB\r",
        "  Downloading basemap-1.0.7.tar.gz (129.7MB):   2%  3.8MB\r",
        "  Downloading basemap-1.0.7.tar.gz (129.7MB):   2%  3.8MB\r",
        "  Downloading basemap-1.0.7.tar.gz (129.7MB):   2%  3.8MB\r",
        "  Downloading basemap-1.0.7.tar.gz (129.7MB):   2%  3.8MB\r",
        "  Downloading basemap-1.0.7.tar.gz (129.7MB):   2%  3.8MB\r",
        "  Downloading basemap-1.0.7.tar.gz (129.7MB):   2%  3.8MB\r",
        "  Downloading basemap-1.0.7.tar.gz (129.7MB):   2%  3.8MB\r",
        "  Downloading basemap-1.0.7.tar.gz (129.7MB):   2%  3.8MB\r",
        "  Downloading basemap-1.0.7.tar.gz (129.7MB):   2%  3.8MB\r",
        "  Downloading basemap-1.0.7.tar.gz (129.7MB):   2%  3.8MB\r",
        "  Downloading basemap-1.0.7.tar.gz (129.7MB):   2%  3.8MB\r",
        "  Downloading basemap-1.0.7.tar.gz (129.7MB):   2%  3.8MB\r",
        "  Downloading basemap-1.0.7.tar.gz (129.7MB):   2%  3.8MB\r",
        "  Downloading basemap-1.0.7.tar.gz (129.7MB):   2%  3.8MB\r",
        "  Downloading basemap-1.0.7.tar.gz (129.7MB):   2%  3.8MB\r",
        "  Downloading basemap-1.0.7.tar.gz (129.7MB):   2%  3.8MB\r",
        "  Downloading basemap-1.0.7.tar.gz (129.7MB):   2%  3.8MB\r",
        "  Downloading basemap-1.0.7.tar.gz (129.7MB):   2%  3.8MB\r",
        "  Downloading basemap-1.0.7.tar.gz (129.7MB):   2%  3.8MB\r",
        "  Downloading basemap-1.0.7.tar.gz (129.7MB):   2%  3.9MB\r",
        "  Downloading basemap-1.0.7.tar.gz (129.7MB):   2%  3.9MB"
       ]
      },
      {
       "output_type": "stream",
       "stream": "stdout",
       "text": [
        "\r",
        "  Downloading basemap-1.0.7.tar.gz (129.7MB):   2%  3.9MB\r",
        "  Downloading basemap-1.0.7.tar.gz (129.7MB):   2%  3.9MB\r",
        "  Downloading basemap-1.0.7.tar.gz (129.7MB):   2%  3.9MB"
       ]
      },
      {
       "output_type": "stream",
       "stream": "stdout",
       "text": [
        "\r",
        "  Downloading basemap-1.0.7.tar.gz (129.7MB):   2%  3.9MB\r",
        "  Downloading basemap-1.0.7.tar.gz (129.7MB):   2%  3.9MB\r",
        "  Downloading basemap-1.0.7.tar.gz (129.7MB):   2%  3.9MB\r",
        "  Downloading basemap-1.0.7.tar.gz (129.7MB):   2%  3.9MB\r",
        "  Downloading basemap-1.0.7.tar.gz (129.7MB):   2%  3.9MB\r",
        "  Downloading basemap-1.0.7.tar.gz (129.7MB):   3%  3.9MB\r",
        "  Downloading basemap-1.0.7.tar.gz (129.7MB):   3%  3.9MB\r",
        "  Downloading basemap-1.0.7.tar.gz (129.7MB):   3%  3.9MB\r",
        "  Downloading basemap-1.0.7.tar.gz (129.7MB):   3%  3.9MB\r",
        "  Downloading basemap-1.0.7.tar.gz (129.7MB):   3%  3.9MB\r",
        "  Downloading basemap-1.0.7.tar.gz (129.7MB):   3%  3.9MB\r",
        "  Downloading basemap-1.0.7.tar.gz (129.7MB):   3%  3.9MB\r",
        "  Downloading basemap-1.0.7.tar.gz (129.7MB):   3%  3.9MB\r",
        "  Downloading basemap-1.0.7.tar.gz (129.7MB):   3%  3.9MB\r",
        "  Downloading basemap-1.0.7.tar.gz (129.7MB):   3%  3.9MB\r",
        "  Downloading basemap-1.0.7.tar.gz (129.7MB):   3%  3.9MB\r",
        "  Downloading basemap-1.0.7.tar.gz (129.7MB):   3%  3.9MB\r",
        "  Downloading basemap-1.0.7.tar.gz (129.7MB):   3%  3.9MB\r",
        "  Downloading basemap-1.0.7.tar.gz (129.7MB):   3%  3.9MB\r",
        "  Downloading basemap-1.0.7.tar.gz (129.7MB):   3%  3.9MB\r",
        "  Downloading basemap-1.0.7.tar.gz (129.7MB):   3%  4.0MB\r",
        "  Downloading basemap-1.0.7.tar.gz (129.7MB):   3%  4.0MB"
       ]
      },
      {
       "output_type": "stream",
       "stream": "stdout",
       "text": [
        "\r",
        "  Downloading basemap-1.0.7.tar.gz (129.7MB):   3%  4.0MB\r",
        "  Downloading basemap-1.0.7.tar.gz (129.7MB):   3%  4.0MB\r",
        "  Downloading basemap-1.0.7.tar.gz (129.7MB):   3%  4.0MB\r",
        "  Downloading basemap-1.0.7.tar.gz (129.7MB):   3%  4.0MB\r",
        "  Downloading basemap-1.0.7.tar.gz (129.7MB):   3%  4.0MB\r",
        "  Downloading basemap-1.0.7.tar.gz (129.7MB):   3%  4.0MB"
       ]
      },
      {
       "output_type": "stream",
       "stream": "stdout",
       "text": [
        "\r",
        "  Downloading basemap-1.0.7.tar.gz (129.7MB):   3%  4.0MB\r",
        "  Downloading basemap-1.0.7.tar.gz (129.7MB):   3%  4.0MB\r",
        "  Downloading basemap-1.0.7.tar.gz (129.7MB):   3%  4.0MB\r",
        "  Downloading basemap-1.0.7.tar.gz (129.7MB):   3%  4.0MB\r",
        "  Downloading basemap-1.0.7.tar.gz (129.7MB):   3%  4.0MB\r",
        "  Downloading basemap-1.0.7.tar.gz (129.7MB):   3%  4.0MB\r",
        "  Downloading basemap-1.0.7.tar.gz (129.7MB):   3%  4.0MB\r",
        "  Downloading basemap-1.0.7.tar.gz (129.7MB):   3%  4.0MB\r",
        "  Downloading basemap-1.0.7.tar.gz (129.7MB):   3%  4.0MB\r",
        "  Downloading basemap-1.0.7.tar.gz (129.7MB):   3%  4.0MB\r",
        "  Downloading basemap-1.0.7.tar.gz (129.7MB):   3%  4.0MB\r",
        "  Downloading basemap-1.0.7.tar.gz (129.7MB):   3%  4.0MB\r",
        "  Downloading basemap-1.0.7.tar.gz (129.7MB):   3%  4.0MB\r",
        "  Downloading basemap-1.0.7.tar.gz (129.7MB):   3%  4.0MB\r",
        "  Downloading basemap-1.0.7.tar.gz (129.7MB):   3%  4.0MB\r",
        "  Downloading basemap-1.0.7.tar.gz (129.7MB):   3%  4.0MB"
       ]
      },
      {
       "output_type": "stream",
       "stream": "stdout",
       "text": [
        "\r",
        "  Downloading basemap-1.0.7.tar.gz (129.7MB):   3%  4.1MB\r",
        "  Downloading basemap-1.0.7.tar.gz (129.7MB):   3%  4.1MB\r",
        "  Downloading basemap-1.0.7.tar.gz (129.7MB):   3%  4.1MB\r",
        "  Downloading basemap-1.0.7.tar.gz (129.7MB):   3%  4.1MB\r",
        "  Downloading basemap-1.0.7.tar.gz (129.7MB):   3%  4.1MB\r",
        "  Downloading basemap-1.0.7.tar.gz (129.7MB):   3%  4.1MB\r",
        "  Downloading basemap-1.0.7.tar.gz (129.7MB):   3%  4.1MB\r",
        "  Downloading basemap-1.0.7.tar.gz (129.7MB):   3%  4.1MB\r",
        "  Downloading basemap-1.0.7.tar.gz (129.7MB):   3%  4.1MB\r",
        "  Downloading basemap-1.0.7.tar.gz (129.7MB):   3%  4.1MB\r",
        "  Downloading basemap-1.0.7.tar.gz (129.7MB):   3%  4.1MB\r",
        "  Downloading basemap-1.0.7.tar.gz (129.7MB):   3%  4.1MB\r",
        "  Downloading basemap-1.0.7.tar.gz (129.7MB):   3%  4.1MB\r",
        "  Downloading basemap-1.0.7.tar.gz (129.7MB):   3%  4.1MB\r",
        "  Downloading basemap-1.0.7.tar.gz (129.7MB):   3%  4.1MB"
       ]
      },
      {
       "output_type": "stream",
       "stream": "stdout",
       "text": [
        "\r",
        "  Downloading basemap-1.0.7.tar.gz (129.7MB):   3%  4.1MB\r",
        "  Downloading basemap-1.0.7.tar.gz (129.7MB):   3%  4.1MB\r",
        "  Downloading basemap-1.0.7.tar.gz (129.7MB):   3%  4.1MB\r",
        "  Downloading basemap-1.0.7.tar.gz (129.7MB):   3%  4.1MB\r",
        "  Downloading basemap-1.0.7.tar.gz (129.7MB):   3%  4.1MB\r",
        "  Downloading basemap-1.0.7.tar.gz (129.7MB):   3%  4.1MB\r",
        "  Downloading basemap-1.0.7.tar.gz (129.7MB):   3%  4.1MB\r",
        "  Downloading basemap-1.0.7.tar.gz (129.7MB):   3%  4.1MB\r",
        "  Downloading basemap-1.0.7.tar.gz (129.7MB):   3%  4.1MB\r",
        "  Downloading basemap-1.0.7.tar.gz (129.7MB):   3%  4.1MB\r",
        "  Downloading basemap-1.0.7.tar.gz (129.7MB):   3%  4.2MB\r",
        "  Downloading basemap-1.0.7.tar.gz (129.7MB):   3%  4.2MB\r",
        "  Downloading basemap-1.0.7.tar.gz (129.7MB):   3%  4.2MB\r",
        "  Downloading basemap-1.0.7.tar.gz (129.7MB):   3%  4.2MB\r",
        "  Downloading basemap-1.0.7.tar.gz (129.7MB):   3%  4.2MB\r",
        "  Downloading basemap-1.0.7.tar.gz (129.7MB):   3%  4.2MB\r",
        "  Downloading basemap-1.0.7.tar.gz (129.7MB):   3%  4.2MB\r",
        "  Downloading basemap-1.0.7.tar.gz (129.7MB):   3%  4.2MB\r",
        "  Downloading basemap-1.0.7.tar.gz (129.7MB):   3%  4.2MB\r",
        "  Downloading basemap-1.0.7.tar.gz (129.7MB):   3%  4.2MB\r",
        "  Downloading basemap-1.0.7.tar.gz (129.7MB):   3%  4.2MB\r",
        "  Downloading basemap-1.0.7.tar.gz (129.7MB):   3%  4.2MB\r",
        "  Downloading basemap-1.0.7.tar.gz (129.7MB):   3%  4.2MB\r",
        "  Downloading basemap-1.0.7.tar.gz (129.7MB):   3%  4.2MB\r",
        "  Downloading basemap-1.0.7.tar.gz (129.7MB):   3%  4.2MB\r",
        "  Downloading basemap-1.0.7.tar.gz (129.7MB):   3%  4.2MB\r",
        "  Downloading basemap-1.0.7.tar.gz (129.7MB):   3%  4.2MB\r",
        "  Downloading basemap-1.0.7.tar.gz (129.7MB):   3%  4.2MB\r",
        "  Downloading basemap-1.0.7.tar.gz (129.7MB):   3%  4.2MB\r",
        "  Downloading basemap-1.0.7.tar.gz (129.7MB):   3%  4.2MB\r",
        "  Downloading basemap-1.0.7.tar.gz (129.7MB):   3%  4.2MB"
       ]
      },
      {
       "output_type": "stream",
       "stream": "stdout",
       "text": [
        "\r",
        "  Downloading basemap-1.0.7.tar.gz (129.7MB):   3%  4.2MB\r",
        "  Downloading basemap-1.0.7.tar.gz (129.7MB):   3%  4.2MB"
       ]
      },
      {
       "output_type": "stream",
       "stream": "stdout",
       "text": [
        "\r",
        "  Downloading basemap-1.0.7.tar.gz (129.7MB):   3%  4.2MB\r",
        "  Downloading basemap-1.0.7.tar.gz (129.7MB):   3%  4.3MB\r",
        "  Downloading basemap-1.0.7.tar.gz (129.7MB):   3%  4.3MB\r",
        "  Downloading basemap-1.0.7.tar.gz (129.7MB):   3%  4.3MB\r",
        "  Downloading basemap-1.0.7.tar.gz (129.7MB):   3%  4.3MB\r",
        "  Downloading basemap-1.0.7.tar.gz (129.7MB):   3%  4.3MB\r",
        "  Downloading basemap-1.0.7.tar.gz (129.7MB):   3%  4.3MB\r",
        "  Downloading basemap-1.0.7.tar.gz (129.7MB):   3%  4.3MB\r",
        "  Downloading basemap-1.0.7.tar.gz (129.7MB):   3%  4.3MB\r",
        "  Downloading basemap-1.0.7.tar.gz (129.7MB):   3%  4.3MB\r",
        "  Downloading basemap-1.0.7.tar.gz (129.7MB):   3%  4.3MB\r",
        "  Downloading basemap-1.0.7.tar.gz (129.7MB):   3%  4.3MB\r",
        "  Downloading basemap-1.0.7.tar.gz (129.7MB):   3%  4.3MB\r",
        "  Downloading basemap-1.0.7.tar.gz (129.7MB):   3%  4.3MB\r",
        "  Downloading basemap-1.0.7.tar.gz (129.7MB):   3%  4.3MB\r",
        "  Downloading basemap-1.0.7.tar.gz (129.7MB):   3%  4.3MB\r",
        "  Downloading basemap-1.0.7.tar.gz (129.7MB):   3%  4.3MB\r",
        "  Downloading basemap-1.0.7.tar.gz (129.7MB):   3%  4.3MB\r",
        "  Downloading basemap-1.0.7.tar.gz (129.7MB):   3%  4.3MB\r",
        "  Downloading basemap-1.0.7.tar.gz (129.7MB):   3%  4.3MB\r",
        "  Downloading basemap-1.0.7.tar.gz (129.7MB):   3%  4.3MB\r",
        "  Downloading basemap-1.0.7.tar.gz (129.7MB):   3%  4.3MB\r",
        "  Downloading basemap-1.0.7.tar.gz (129.7MB):   3%  4.3MB\r",
        "  Downloading basemap-1.0.7.tar.gz (129.7MB):   3%  4.3MB\r",
        "  Downloading basemap-1.0.7.tar.gz (129.7MB):   3%  4.3MB\r",
        "  Downloading basemap-1.0.7.tar.gz (129.7MB):   3%  4.3MB\r",
        "  Downloading basemap-1.0.7.tar.gz (129.7MB):   3%  4.4MB\r",
        "  Downloading basemap-1.0.7.tar.gz (129.7MB):   3%  4.4MB\r",
        "  Downloading basemap-1.0.7.tar.gz (129.7MB):   3%  4.4MB\r",
        "  Downloading basemap-1.0.7.tar.gz (129.7MB):   3%  4.4MB\r",
        "  Downloading basemap-1.0.7.tar.gz (129.7MB):   3%  4.4MB\r",
        "  Downloading basemap-1.0.7.tar.gz (129.7MB):   3%  4.4MB"
       ]
      },
      {
       "output_type": "stream",
       "stream": "stdout",
       "text": [
        "\r",
        "  Downloading basemap-1.0.7.tar.gz (129.7MB):   3%  4.4MB"
       ]
      },
      {
       "output_type": "stream",
       "stream": "stdout",
       "text": [
        "\r",
        "  Downloading basemap-1.0.7.tar.gz (129.7MB):   3%  4.4MB"
       ]
      },
      {
       "output_type": "stream",
       "stream": "stdout",
       "text": [
        "\r",
        "  Downloading basemap-1.0.7.tar.gz (129.7MB):   3%  4.4MB\r",
        "  Downloading basemap-1.0.7.tar.gz (129.7MB):   3%  4.4MB"
       ]
      },
      {
       "output_type": "stream",
       "stream": "stdout",
       "text": [
        "\r",
        "  Downloading basemap-1.0.7.tar.gz (129.7MB):   3%  4.4MB\r",
        "  Downloading basemap-1.0.7.tar.gz (129.7MB):   3%  4.4MB\r",
        "  Downloading basemap-1.0.7.tar.gz (129.7MB):   3%  4.4MB\r",
        "  Downloading basemap-1.0.7.tar.gz (129.7MB):   3%  4.4MB"
       ]
      },
      {
       "output_type": "stream",
       "stream": "stdout",
       "text": [
        "\r",
        "  Downloading basemap-1.0.7.tar.gz (129.7MB):   3%  4.4MB\r",
        "  Downloading basemap-1.0.7.tar.gz (129.7MB):   3%  4.4MB\r",
        "  Downloading basemap-1.0.7.tar.gz (129.7MB):   3%  4.4MB\r",
        "  Downloading basemap-1.0.7.tar.gz (129.7MB):   3%  4.4MB\r",
        "  Downloading basemap-1.0.7.tar.gz (129.7MB):   3%  4.4MB\r",
        "  Downloading basemap-1.0.7.tar.gz (129.7MB):   3%  4.4MB"
       ]
      },
      {
       "output_type": "stream",
       "stream": "stdout",
       "text": [
        "\r",
        "  Downloading basemap-1.0.7.tar.gz (129.7MB):   3%  4.4MB\r",
        "  Downloading basemap-1.0.7.tar.gz (129.7MB):   3%  4.4MB\r",
        "  Downloading basemap-1.0.7.tar.gz (129.7MB):   3%  4.4MB\r",
        "  Downloading basemap-1.0.7.tar.gz (129.7MB):   3%  4.4MB\r",
        "  Downloading basemap-1.0.7.tar.gz (129.7MB):   3%  4.5MB\r",
        "  Downloading basemap-1.0.7.tar.gz (129.7MB):   3%  4.5MB\r",
        "  Downloading basemap-1.0.7.tar.gz (129.7MB):   3%  4.5MB\r",
        "  Downloading basemap-1.0.7.tar.gz (129.7MB):   3%  4.5MB\r",
        "  Downloading basemap-1.0.7.tar.gz (129.7MB):   3%  4.5MB\r",
        "  Downloading basemap-1.0.7.tar.gz (129.7MB):   3%  4.5MB"
       ]
      },
      {
       "output_type": "stream",
       "stream": "stdout",
       "text": [
        "\r",
        "  Downloading basemap-1.0.7.tar.gz (129.7MB):   3%  4.5MB\r",
        "  Downloading basemap-1.0.7.tar.gz (129.7MB):   3%  4.5MB\r",
        "  Downloading basemap-1.0.7.tar.gz (129.7MB):   3%  4.5MB\r",
        "  Downloading basemap-1.0.7.tar.gz (129.7MB):   3%  4.5MB\r",
        "  Downloading basemap-1.0.7.tar.gz (129.7MB):   3%  4.5MB\r",
        "  Downloading basemap-1.0.7.tar.gz (129.7MB):   3%  4.5MB\r",
        "  Downloading basemap-1.0.7.tar.gz (129.7MB):   3%  4.5MB\r",
        "  Downloading basemap-1.0.7.tar.gz (129.7MB):   3%  4.5MB\r",
        "  Downloading basemap-1.0.7.tar.gz (129.7MB):   3%  4.5MB\r",
        "  Downloading basemap-1.0.7.tar.gz (129.7MB):   3%  4.5MB\r",
        "  Downloading basemap-1.0.7.tar.gz (129.7MB):   3%  4.5MB\r",
        "  Downloading basemap-1.0.7.tar.gz (129.7MB):   3%  4.5MB\r",
        "  Downloading basemap-1.0.7.tar.gz (129.7MB):   3%  4.5MB\r",
        "  Downloading basemap-1.0.7.tar.gz (129.7MB):   3%  4.5MB\r",
        "  Downloading basemap-1.0.7.tar.gz (129.7MB):   3%  4.5MB"
       ]
      },
      {
       "output_type": "stream",
       "stream": "stdout",
       "text": [
        "\r",
        "  Downloading basemap-1.0.7.tar.gz (129.7MB):   3%  4.5MB"
       ]
      },
      {
       "output_type": "stream",
       "stream": "stdout",
       "text": [
        "\r",
        "  Downloading basemap-1.0.7.tar.gz (129.7MB):   3%  4.5MB\r",
        "  Downloading basemap-1.0.7.tar.gz (129.7MB):   3%  4.5MB\r",
        "  Downloading basemap-1.0.7.tar.gz (129.7MB):   3%  4.6MB\r",
        "  Downloading basemap-1.0.7.tar.gz (129.7MB):   3%  4.6MB\r",
        "  Downloading basemap-1.0.7.tar.gz (129.7MB):   3%  4.6MB\r",
        "  Downloading basemap-1.0.7.tar.gz (129.7MB):   3%  4.6MB\r",
        "  Downloading basemap-1.0.7.tar.gz (129.7MB):   3%  4.6MB\r",
        "  Downloading basemap-1.0.7.tar.gz (129.7MB):   3%  4.6MB\r",
        "  Downloading basemap-1.0.7.tar.gz (129.7MB):   3%  4.6MB\r",
        "  Downloading basemap-1.0.7.tar.gz (129.7MB):   3%  4.6MB\r",
        "  Downloading basemap-1.0.7.tar.gz (129.7MB):   3%  4.6MB\r",
        "  Downloading basemap-1.0.7.tar.gz (129.7MB):   3%  4.6MB\r",
        "  Downloading basemap-1.0.7.tar.gz (129.7MB):   3%  4.6MB\r",
        "  Downloading basemap-1.0.7.tar.gz (129.7MB):   3%  4.6MB\r",
        "  Downloading basemap-1.0.7.tar.gz (129.7MB):   3%  4.6MB"
       ]
      },
      {
       "output_type": "stream",
       "stream": "stdout",
       "text": [
        "\r",
        "  Downloading basemap-1.0.7.tar.gz (129.7MB):   3%  4.6MB\r",
        "  Downloading basemap-1.0.7.tar.gz (129.7MB):   3%  4.6MB\r",
        "  Downloading basemap-1.0.7.tar.gz (129.7MB):   3%  4.6MB\r",
        "  Downloading basemap-1.0.7.tar.gz (129.7MB):   3%  4.6MB\r",
        "  Downloading basemap-1.0.7.tar.gz (129.7MB):   3%  4.6MB\r",
        "  Downloading basemap-1.0.7.tar.gz (129.7MB):   3%  4.6MB\r",
        "  Downloading basemap-1.0.7.tar.gz (129.7MB):   3%  4.6MB\r",
        "  Downloading basemap-1.0.7.tar.gz (129.7MB):   3%  4.6MB\r",
        "  Downloading basemap-1.0.7.tar.gz (129.7MB):   3%  4.6MB\r",
        "  Downloading basemap-1.0.7.tar.gz (129.7MB):   3%  4.6MB\r",
        "  Downloading basemap-1.0.7.tar.gz (129.7MB):   3%  4.6MB\r",
        "  Downloading basemap-1.0.7.tar.gz (129.7MB):   3%  4.6MB\r",
        "  Downloading basemap-1.0.7.tar.gz (129.7MB):   3%  4.7MB\r",
        "  Downloading basemap-1.0.7.tar.gz (129.7MB):   3%  4.7MB\r",
        "  Downloading basemap-1.0.7.tar.gz (129.7MB):   3%  4.7MB\r",
        "  Downloading basemap-1.0.7.tar.gz (129.7MB):   3%  4.7MB"
       ]
      },
      {
       "output_type": "stream",
       "stream": "stdout",
       "text": [
        "\r",
        "  Downloading basemap-1.0.7.tar.gz (129.7MB):   3%  4.7MB\r",
        "  Downloading basemap-1.0.7.tar.gz (129.7MB):   3%  4.7MB\r",
        "  Downloading basemap-1.0.7.tar.gz (129.7MB):   3%  4.7MB\r",
        "  Downloading basemap-1.0.7.tar.gz (129.7MB):   3%  4.7MB\r",
        "  Downloading basemap-1.0.7.tar.gz (129.7MB):   3%  4.7MB\r",
        "  Downloading basemap-1.0.7.tar.gz (129.7MB):   3%  4.7MB\r",
        "  Downloading basemap-1.0.7.tar.gz (129.7MB):   3%  4.7MB\r",
        "  Downloading basemap-1.0.7.tar.gz (129.7MB):   3%  4.7MB\r",
        "  Downloading basemap-1.0.7.tar.gz (129.7MB):   3%  4.7MB\r",
        "  Downloading basemap-1.0.7.tar.gz (129.7MB):   3%  4.7MB\r",
        "  Downloading basemap-1.0.7.tar.gz (129.7MB):   3%  4.7MB\r",
        "  Downloading basemap-1.0.7.tar.gz (129.7MB):   3%  4.7MB\r",
        "  Downloading basemap-1.0.7.tar.gz (129.7MB):   3%  4.7MB\r",
        "  Downloading basemap-1.0.7.tar.gz (129.7MB):   3%  4.7MB\r",
        "  Downloading basemap-1.0.7.tar.gz (129.7MB):   3%  4.7MB\r",
        "  Downloading basemap-1.0.7.tar.gz (129.7MB):   3%  4.7MB\r",
        "  Downloading basemap-1.0.7.tar.gz (129.7MB):   3%  4.7MB"
       ]
      },
      {
       "output_type": "stream",
       "stream": "stdout",
       "text": [
        "\r",
        "  Downloading basemap-1.0.7.tar.gz (129.7MB):   3%  4.7MB\r",
        "  Downloading basemap-1.0.7.tar.gz (129.7MB):   3%  4.7MB"
       ]
      },
      {
       "output_type": "stream",
       "stream": "stdout",
       "text": [
        "\r",
        "  Downloading basemap-1.0.7.tar.gz (129.7MB):   3%  4.7MB\r",
        "  Downloading basemap-1.0.7.tar.gz (129.7MB):   3%  4.8MB\r",
        "  Downloading basemap-1.0.7.tar.gz (129.7MB):   3%  4.8MB\r",
        "  Downloading basemap-1.0.7.tar.gz (129.7MB):   3%  4.8MB\r",
        "  Downloading basemap-1.0.7.tar.gz (129.7MB):   3%  4.8MB\r",
        "  Downloading basemap-1.0.7.tar.gz (129.7MB):   3%  4.8MB\r",
        "  Downloading basemap-1.0.7.tar.gz (129.7MB):   3%  4.8MB\r",
        "  Downloading basemap-1.0.7.tar.gz (129.7MB):   3%  4.8MB\r",
        "  Downloading basemap-1.0.7.tar.gz (129.7MB):   3%  4.8MB\r",
        "  Downloading basemap-1.0.7.tar.gz (129.7MB):   3%  4.8MB\r",
        "  Downloading basemap-1.0.7.tar.gz (129.7MB):   3%  4.8MB\r",
        "  Downloading basemap-1.0.7.tar.gz (129.7MB):   3%  4.8MB\r",
        "  Downloading basemap-1.0.7.tar.gz (129.7MB):   3%  4.8MB\r",
        "  Downloading basemap-1.0.7.tar.gz (129.7MB):   3%  4.8MB\r",
        "  Downloading basemap-1.0.7.tar.gz (129.7MB):   3%  4.8MB\r",
        "  Downloading basemap-1.0.7.tar.gz (129.7MB):   3%  4.8MB"
       ]
      },
      {
       "output_type": "stream",
       "stream": "stdout",
       "text": [
        "\r",
        "  Downloading basemap-1.0.7.tar.gz (129.7MB):   3%  4.8MB\r",
        "  Downloading basemap-1.0.7.tar.gz (129.7MB):   3%  4.8MB\r",
        "  Downloading basemap-1.0.7.tar.gz (129.7MB):   3%  4.8MB\r",
        "  Downloading basemap-1.0.7.tar.gz (129.7MB):   3%  4.8MB\r",
        "  Downloading basemap-1.0.7.tar.gz (129.7MB):   3%  4.8MB\r",
        "  Downloading basemap-1.0.7.tar.gz (129.7MB):   3%  4.8MB\r",
        "  Downloading basemap-1.0.7.tar.gz (129.7MB):   3%  4.8MB\r",
        "  Downloading basemap-1.0.7.tar.gz (129.7MB):   3%  4.8MB\r",
        "  Downloading basemap-1.0.7.tar.gz (129.7MB):   3%  4.8MB\r",
        "  Downloading basemap-1.0.7.tar.gz (129.7MB):   3%  4.8MB\r",
        "  Downloading basemap-1.0.7.tar.gz (129.7MB):   3%  4.9MB\r",
        "  Downloading basemap-1.0.7.tar.gz (129.7MB):   3%  4.9MB\r",
        "  Downloading basemap-1.0.7.tar.gz (129.7MB):   3%  4.9MB\r",
        "  Downloading basemap-1.0.7.tar.gz (129.7MB):   3%  4.9MB\r",
        "  Downloading basemap-1.0.7.tar.gz (129.7MB):   3%  4.9MB\r",
        "  Downloading basemap-1.0.7.tar.gz (129.7MB):   3%  4.9MB\r",
        "  Downloading basemap-1.0.7.tar.gz (129.7MB):   3%  4.9MB"
       ]
      },
      {
       "output_type": "stream",
       "stream": "stdout",
       "text": [
        "\r",
        "  Downloading basemap-1.0.7.tar.gz (129.7MB):   3%  4.9MB\r",
        "  Downloading basemap-1.0.7.tar.gz (129.7MB):   3%  4.9MB\r",
        "  Downloading basemap-1.0.7.tar.gz (129.7MB):   3%  4.9MB\r",
        "  Downloading basemap-1.0.7.tar.gz (129.7MB):   3%  4.9MB\r",
        "  Downloading basemap-1.0.7.tar.gz (129.7MB):   3%  4.9MB\r",
        "  Downloading basemap-1.0.7.tar.gz (129.7MB):   3%  4.9MB\r",
        "  Downloading basemap-1.0.7.tar.gz (129.7MB):   3%  4.9MB\r",
        "  Downloading basemap-1.0.7.tar.gz (129.7MB):   3%  4.9MB\r",
        "  Downloading basemap-1.0.7.tar.gz (129.7MB):   3%  4.9MB\r",
        "  Downloading basemap-1.0.7.tar.gz (129.7MB):   3%  4.9MB\r",
        "  Downloading basemap-1.0.7.tar.gz (129.7MB):   3%  4.9MB\r",
        "  Downloading basemap-1.0.7.tar.gz (129.7MB):   3%  4.9MB\r",
        "  Downloading basemap-1.0.7.tar.gz (129.7MB):   3%  4.9MB\r",
        "  Downloading basemap-1.0.7.tar.gz (129.7MB):   3%  4.9MB\r",
        "  Downloading basemap-1.0.7.tar.gz (129.7MB):   3%  4.9MB"
       ]
      },
      {
       "output_type": "stream",
       "stream": "stdout",
       "text": [
        "\r",
        "  Downloading basemap-1.0.7.tar.gz (129.7MB):   3%  4.9MB\r",
        "  Downloading basemap-1.0.7.tar.gz (129.7MB):   3%  4.9MB"
       ]
      },
      {
       "output_type": "stream",
       "stream": "stdout",
       "text": [
        "\r",
        "  Downloading basemap-1.0.7.tar.gz (129.7MB):   3%  5.0MB\r",
        "  Downloading basemap-1.0.7.tar.gz (129.7MB):   3%  5.0MB\r",
        "  Downloading basemap-1.0.7.tar.gz (129.7MB):   3%  5.0MB\r",
        "  Downloading basemap-1.0.7.tar.gz (129.7MB):   3%  5.0MB\r",
        "  Downloading basemap-1.0.7.tar.gz (129.7MB):   3%  5.0MB"
       ]
      },
      {
       "output_type": "stream",
       "stream": "stdout",
       "text": [
        "\r",
        "  Downloading basemap-1.0.7.tar.gz (129.7MB):   3%  5.0MB\r",
        "  Downloading basemap-1.0.7.tar.gz (129.7MB):   3%  5.0MB\r",
        "  Downloading basemap-1.0.7.tar.gz (129.7MB):   3%  5.0MB\r",
        "  Downloading basemap-1.0.7.tar.gz (129.7MB):   3%  5.0MB\r",
        "  Downloading basemap-1.0.7.tar.gz (129.7MB):   3%  5.0MB\r",
        "  Downloading basemap-1.0.7.tar.gz (129.7MB):   3%  5.0MB\r",
        "  Downloading basemap-1.0.7.tar.gz (129.7MB):   3%  5.0MB\r",
        "  Downloading basemap-1.0.7.tar.gz (129.7MB):   3%  5.0MB\r",
        "  Downloading basemap-1.0.7.tar.gz (129.7MB):   3%  5.0MB\r",
        "  Downloading basemap-1.0.7.tar.gz (129.7MB):   3%  5.0MB\r",
        "  Downloading basemap-1.0.7.tar.gz (129.7MB):   3%  5.0MB\r",
        "  Downloading basemap-1.0.7.tar.gz (129.7MB):   3%  5.0MB\r",
        "  Downloading basemap-1.0.7.tar.gz (129.7MB):   3%  5.0MB"
       ]
      },
      {
       "output_type": "stream",
       "stream": "stdout",
       "text": [
        "\r",
        "  Downloading basemap-1.0.7.tar.gz (129.7MB):   3%  5.0MB\r",
        "  Downloading basemap-1.0.7.tar.gz (129.7MB):   3%  5.0MB\r",
        "  Downloading basemap-1.0.7.tar.gz (129.7MB):   3%  5.0MB\r",
        "  Downloading basemap-1.0.7.tar.gz (129.7MB):   3%  5.0MB\r",
        "  Downloading basemap-1.0.7.tar.gz (129.7MB):   3%  5.0MB\r",
        "  Downloading basemap-1.0.7.tar.gz (129.7MB):   3%  5.0MB\r",
        "  Downloading basemap-1.0.7.tar.gz (129.7MB):   3%  5.1MB\r",
        "  Downloading basemap-1.0.7.tar.gz (129.7MB):   3%  5.1MB\r",
        "  Downloading basemap-1.0.7.tar.gz (129.7MB):   3%  5.1MB\r",
        "  Downloading basemap-1.0.7.tar.gz (129.7MB):   3%  5.1MB\r",
        "  Downloading basemap-1.0.7.tar.gz (129.7MB):   3%  5.1MB\r",
        "  Downloading basemap-1.0.7.tar.gz (129.7MB):   3%  5.1MB\r",
        "  Downloading basemap-1.0.7.tar.gz (129.7MB):   3%  5.1MB\r",
        "  Downloading basemap-1.0.7.tar.gz (129.7MB):   3%  5.1MB\r",
        "  Downloading basemap-1.0.7.tar.gz (129.7MB):   3%  5.1MB\r",
        "  Downloading basemap-1.0.7.tar.gz (129.7MB):   3%  5.1MB\r",
        "  Downloading basemap-1.0.7.tar.gz (129.7MB):   3%  5.1MB\r",
        "  Downloading basemap-1.0.7.tar.gz (129.7MB):   3%  5.1MB"
       ]
      },
      {
       "output_type": "stream",
       "stream": "stdout",
       "text": [
        "\r",
        "  Downloading basemap-1.0.7.tar.gz (129.7MB):   3%  5.1MB\r",
        "  Downloading basemap-1.0.7.tar.gz (129.7MB):   3%  5.1MB\r",
        "  Downloading basemap-1.0.7.tar.gz (129.7MB):   3%  5.1MB\r",
        "  Downloading basemap-1.0.7.tar.gz (129.7MB):   3%  5.1MB\r",
        "  Downloading basemap-1.0.7.tar.gz (129.7MB):   3%  5.1MB\r",
        "  Downloading basemap-1.0.7.tar.gz (129.7MB):   3%  5.1MB\r",
        "  Downloading basemap-1.0.7.tar.gz (129.7MB):   3%  5.1MB\r",
        "  Downloading basemap-1.0.7.tar.gz (129.7MB):   3%  5.1MB\r",
        "  Downloading basemap-1.0.7.tar.gz (129.7MB):   3%  5.1MB\r",
        "  Downloading basemap-1.0.7.tar.gz (129.7MB):   3%  5.1MB\r",
        "  Downloading basemap-1.0.7.tar.gz (129.7MB):   3%  5.1MB\r",
        "  Downloading basemap-1.0.7.tar.gz (129.7MB):   3%  5.1MB\r",
        "  Downloading basemap-1.0.7.tar.gz (129.7MB):   3%  5.1MB\r",
        "  Downloading basemap-1.0.7.tar.gz (129.7MB):   3%  5.2MB\r",
        "  Downloading basemap-1.0.7.tar.gz (129.7MB):   3%  5.2MB\r",
        "  Downloading basemap-1.0.7.tar.gz (129.7MB):   3%  5.2MB"
       ]
      },
      {
       "output_type": "stream",
       "stream": "stdout",
       "text": [
        "\r",
        "  Downloading basemap-1.0.7.tar.gz (129.7MB):   3%  5.2MB\r",
        "  Downloading basemap-1.0.7.tar.gz (129.7MB):   3%  5.2MB"
       ]
      },
      {
       "output_type": "stream",
       "stream": "stdout",
       "text": [
        "\r",
        "  Downloading basemap-1.0.7.tar.gz (129.7MB):   3%  5.2MB\r",
        "  Downloading basemap-1.0.7.tar.gz (129.7MB):   3%  5.2MB\r",
        "  Downloading basemap-1.0.7.tar.gz (129.7MB):   3%  5.2MB\r",
        "  Downloading basemap-1.0.7.tar.gz (129.7MB):   3%  5.2MB\r",
        "  Downloading basemap-1.0.7.tar.gz (129.7MB):   4%  5.2MB\r",
        "  Downloading basemap-1.0.7.tar.gz (129.7MB):   4%  5.2MB"
       ]
      },
      {
       "output_type": "stream",
       "stream": "stdout",
       "text": [
        "\r",
        "  Downloading basemap-1.0.7.tar.gz (129.7MB):   4%  5.2MB\r",
        "  Downloading basemap-1.0.7.tar.gz (129.7MB):   4%  5.2MB\r",
        "  Downloading basemap-1.0.7.tar.gz (129.7MB):   4%  5.2MB\r",
        "  Downloading basemap-1.0.7.tar.gz (129.7MB):   4%  5.2MB\r",
        "  Downloading basemap-1.0.7.tar.gz (129.7MB):   4%  5.2MB\r",
        "  Downloading basemap-1.0.7.tar.gz (129.7MB):   4%  5.2MB\r",
        "  Downloading basemap-1.0.7.tar.gz (129.7MB):   4%  5.2MB\r",
        "  Downloading basemap-1.0.7.tar.gz (129.7MB):   4%  5.2MB\r",
        "  Downloading basemap-1.0.7.tar.gz (129.7MB):   4%  5.2MB\r",
        "  Downloading basemap-1.0.7.tar.gz (129.7MB):   4%  5.2MB\r",
        "  Downloading basemap-1.0.7.tar.gz (129.7MB):   4%  5.2MB\r",
        "  Downloading basemap-1.0.7.tar.gz (129.7MB):   4%  5.2MB\r",
        "  Downloading basemap-1.0.7.tar.gz (129.7MB):   4%  5.2MB"
       ]
      },
      {
       "output_type": "stream",
       "stream": "stdout",
       "text": [
        "\r",
        "  Downloading basemap-1.0.7.tar.gz (129.7MB):   4%  5.3MB\r",
        "  Downloading basemap-1.0.7.tar.gz (129.7MB):   4%  5.3MB\r",
        "  Downloading basemap-1.0.7.tar.gz (129.7MB):   4%  5.3MB\r",
        "  Downloading basemap-1.0.7.tar.gz (129.7MB):   4%  5.3MB\r",
        "  Downloading basemap-1.0.7.tar.gz (129.7MB):   4%  5.3MB\r",
        "  Downloading basemap-1.0.7.tar.gz (129.7MB):   4%  5.3MB\r",
        "  Downloading basemap-1.0.7.tar.gz (129.7MB):   4%  5.3MB\r",
        "  Downloading basemap-1.0.7.tar.gz (129.7MB):   4%  5.3MB\r",
        "  Downloading basemap-1.0.7.tar.gz (129.7MB):   4%  5.3MB\r",
        "  Downloading basemap-1.0.7.tar.gz (129.7MB):   4%  5.3MB\r",
        "  Downloading basemap-1.0.7.tar.gz (129.7MB):   4%  5.3MB\r",
        "  Downloading basemap-1.0.7.tar.gz (129.7MB):   4%  5.3MB\r",
        "  Downloading basemap-1.0.7.tar.gz (129.7MB):   4%  5.3MB\r",
        "  Downloading basemap-1.0.7.tar.gz (129.7MB):   4%  5.3MB\r",
        "  Downloading basemap-1.0.7.tar.gz (129.7MB):   4%  5.3MB\r",
        "  Downloading basemap-1.0.7.tar.gz (129.7MB):   4%  5.3MB\r",
        "  Downloading basemap-1.0.7.tar.gz (129.7MB):   4%  5.3MB\r",
        "  Downloading basemap-1.0.7.tar.gz (129.7MB):   4%  5.3MB\r",
        "  Downloading basemap-1.0.7.tar.gz (129.7MB):   4%  5.3MB"
       ]
      },
      {
       "output_type": "stream",
       "stream": "stdout",
       "text": [
        "\r",
        "  Downloading basemap-1.0.7.tar.gz (129.7MB):   4%  5.3MB\r",
        "  Downloading basemap-1.0.7.tar.gz (129.7MB):   4%  5.3MB\r",
        "  Downloading basemap-1.0.7.tar.gz (129.7MB):   4%  5.3MB\r",
        "  Downloading basemap-1.0.7.tar.gz (129.7MB):   4%  5.3MB\r",
        "  Downloading basemap-1.0.7.tar.gz (129.7MB):   4%  5.3MB\r",
        "  Downloading basemap-1.0.7.tar.gz (129.7MB):   4%  5.3MB\r",
        "  Downloading basemap-1.0.7.tar.gz (129.7MB):   4%  5.4MB\r",
        "  Downloading basemap-1.0.7.tar.gz (129.7MB):   4%  5.4MB\r",
        "  Downloading basemap-1.0.7.tar.gz (129.7MB):   4%  5.4MB\r",
        "  Downloading basemap-1.0.7.tar.gz (129.7MB):   4%  5.4MB\r",
        "  Downloading basemap-1.0.7.tar.gz (129.7MB):   4%  5.4MB\r",
        "  Downloading basemap-1.0.7.tar.gz (129.7MB):   4%  5.4MB\r",
        "  Downloading basemap-1.0.7.tar.gz (129.7MB):   4%  5.4MB\r",
        "  Downloading basemap-1.0.7.tar.gz (129.7MB):   4%  5.4MB\r",
        "  Downloading basemap-1.0.7.tar.gz (129.7MB):   4%  5.4MB\r",
        "  Downloading basemap-1.0.7.tar.gz (129.7MB):   4%  5.4MB\r",
        "  Downloading basemap-1.0.7.tar.gz (129.7MB):   4%  5.4MB"
       ]
      },
      {
       "output_type": "stream",
       "stream": "stdout",
       "text": [
        "\r",
        "  Downloading basemap-1.0.7.tar.gz (129.7MB):   4%  5.4MB"
       ]
      },
      {
       "output_type": "stream",
       "stream": "stdout",
       "text": [
        "\r",
        "  Downloading basemap-1.0.7.tar.gz (129.7MB):   4%  5.4MB\r",
        "  Downloading basemap-1.0.7.tar.gz (129.7MB):   4%  5.4MB\r",
        "  Downloading basemap-1.0.7.tar.gz (129.7MB):   4%  5.4MB\r",
        "  Downloading basemap-1.0.7.tar.gz (129.7MB):   4%  5.4MB\r",
        "  Downloading basemap-1.0.7.tar.gz (129.7MB):   4%  5.4MB\r",
        "  Downloading basemap-1.0.7.tar.gz (129.7MB):   4%  5.4MB\r",
        "  Downloading basemap-1.0.7.tar.gz (129.7MB):   4%  5.4MB\r",
        "  Downloading basemap-1.0.7.tar.gz (129.7MB):   4%  5.4MB\r",
        "  Downloading basemap-1.0.7.tar.gz (129.7MB):   4%  5.4MB\r",
        "  Downloading basemap-1.0.7.tar.gz (129.7MB):   4%  5.4MB"
       ]
      },
      {
       "output_type": "stream",
       "stream": "stdout",
       "text": [
        "\r",
        "  Downloading basemap-1.0.7.tar.gz (129.7MB):   4%  5.4MB\r",
        "  Downloading basemap-1.0.7.tar.gz (129.7MB):   4%  5.4MB\r",
        "  Downloading basemap-1.0.7.tar.gz (129.7MB):   4%  5.5MB\r",
        "  Downloading basemap-1.0.7.tar.gz (129.7MB):   4%  5.5MB\r",
        "  Downloading basemap-1.0.7.tar.gz (129.7MB):   4%  5.5MB\r",
        "  Downloading basemap-1.0.7.tar.gz (129.7MB):   4%  5.5MB\r",
        "  Downloading basemap-1.0.7.tar.gz (129.7MB):   4%  5.5MB\r",
        "  Downloading basemap-1.0.7.tar.gz (129.7MB):   4%  5.5MB\r",
        "  Downloading basemap-1.0.7.tar.gz (129.7MB):   4%  5.5MB\r",
        "  Downloading basemap-1.0.7.tar.gz (129.7MB):   4%  5.5MB"
       ]
      },
      {
       "output_type": "stream",
       "stream": "stdout",
       "text": [
        "\r",
        "  Downloading basemap-1.0.7.tar.gz (129.7MB):   4%  5.5MB\r",
        "  Downloading basemap-1.0.7.tar.gz (129.7MB):   4%  5.5MB\r",
        "  Downloading basemap-1.0.7.tar.gz (129.7MB):   4%  5.5MB\r",
        "  Downloading basemap-1.0.7.tar.gz (129.7MB):   4%  5.5MB\r",
        "  Downloading basemap-1.0.7.tar.gz (129.7MB):   4%  5.5MB\r",
        "  Downloading basemap-1.0.7.tar.gz (129.7MB):   4%  5.5MB\r",
        "  Downloading basemap-1.0.7.tar.gz (129.7MB):   4%  5.5MB\r",
        "  Downloading basemap-1.0.7.tar.gz (129.7MB):   4%  5.5MB\r",
        "  Downloading basemap-1.0.7.tar.gz (129.7MB):   4%  5.5MB\r",
        "  Downloading basemap-1.0.7.tar.gz (129.7MB):   4%  5.5MB\r",
        "  Downloading basemap-1.0.7.tar.gz (129.7MB):   4%  5.5MB\r",
        "  Downloading basemap-1.0.7.tar.gz (129.7MB):   4%  5.5MB\r",
        "  Downloading basemap-1.0.7.tar.gz (129.7MB):   4%  5.5MB\r",
        "  Downloading basemap-1.0.7.tar.gz (129.7MB):   4%  5.5MB\r",
        "  Downloading basemap-1.0.7.tar.gz (129.7MB):   4%  5.5MB\r",
        "  Downloading basemap-1.0.7.tar.gz (129.7MB):   4%  5.5MB\r",
        "  Downloading basemap-1.0.7.tar.gz (129.7MB):   4%  5.6MB\r",
        "  Downloading basemap-1.0.7.tar.gz (129.7MB):   4%  5.6MB\r",
        "  Downloading basemap-1.0.7.tar.gz (129.7MB):   4%  5.6MB"
       ]
      },
      {
       "output_type": "stream",
       "stream": "stdout",
       "text": [
        "\r",
        "  Downloading basemap-1.0.7.tar.gz (129.7MB):   4%  5.6MB\r",
        "  Downloading basemap-1.0.7.tar.gz (129.7MB):   4%  5.6MB\r",
        "  Downloading basemap-1.0.7.tar.gz (129.7MB):   4%  5.6MB\r",
        "  Downloading basemap-1.0.7.tar.gz (129.7MB):   4%  5.6MB\r",
        "  Downloading basemap-1.0.7.tar.gz (129.7MB):   4%  5.6MB\r",
        "  Downloading basemap-1.0.7.tar.gz (129.7MB):   4%  5.6MB\r",
        "  Downloading basemap-1.0.7.tar.gz (129.7MB):   4%  5.6MB\r",
        "  Downloading basemap-1.0.7.tar.gz (129.7MB):   4%  5.6MB\r",
        "  Downloading basemap-1.0.7.tar.gz (129.7MB):   4%  5.6MB\r",
        "  Downloading basemap-1.0.7.tar.gz (129.7MB):   4%  5.6MB\r",
        "  Downloading basemap-1.0.7.tar.gz (129.7MB):   4%  5.6MB\r",
        "  Downloading basemap-1.0.7.tar.gz (129.7MB):   4%  5.6MB\r",
        "  Downloading basemap-1.0.7.tar.gz (129.7MB):   4%  5.6MB\r",
        "  Downloading basemap-1.0.7.tar.gz (129.7MB):   4%  5.6MB\r",
        "  Downloading basemap-1.0.7.tar.gz (129.7MB):   4%  5.6MB\r",
        "  Downloading basemap-1.0.7.tar.gz (129.7MB):   4%  5.6MB\r",
        "  Downloading basemap-1.0.7.tar.gz (129.7MB):   4%  5.6MB\r",
        "  Downloading basemap-1.0.7.tar.gz (129.7MB):   4%  5.6MB\r",
        "  Downloading basemap-1.0.7.tar.gz (129.7MB):   4%  5.6MB\r",
        "  Downloading basemap-1.0.7.tar.gz (129.7MB):   4%  5.6MB"
       ]
      },
      {
       "output_type": "stream",
       "stream": "stdout",
       "text": [
        "\r",
        "  Downloading basemap-1.0.7.tar.gz (129.7MB):   4%  5.6MB\r",
        "  Downloading basemap-1.0.7.tar.gz (129.7MB):   4%  5.6MB\r",
        "  Downloading basemap-1.0.7.tar.gz (129.7MB):   4%  5.7MB\r",
        "  Downloading basemap-1.0.7.tar.gz (129.7MB):   4%  5.7MB\r",
        "  Downloading basemap-1.0.7.tar.gz (129.7MB):   4%  5.7MB\r",
        "  Downloading basemap-1.0.7.tar.gz (129.7MB):   4%  5.7MB\r",
        "  Downloading basemap-1.0.7.tar.gz (129.7MB):   4%  5.7MB\r",
        "  Downloading basemap-1.0.7.tar.gz (129.7MB):   4%  5.7MB\r",
        "  Downloading basemap-1.0.7.tar.gz (129.7MB):   4%  5.7MB\r",
        "  Downloading basemap-1.0.7.tar.gz (129.7MB):   4%  5.7MB"
       ]
      },
      {
       "output_type": "stream",
       "stream": "stdout",
       "text": [
        "\r",
        "  Downloading basemap-1.0.7.tar.gz (129.7MB):   4%  5.7MB\r",
        "  Downloading basemap-1.0.7.tar.gz (129.7MB):   4%  5.7MB\r",
        "  Downloading basemap-1.0.7.tar.gz (129.7MB):   4%  5.7MB\r",
        "  Downloading basemap-1.0.7.tar.gz (129.7MB):   4%  5.7MB\r",
        "  Downloading basemap-1.0.7.tar.gz (129.7MB):   4%  5.7MB\r",
        "  Downloading basemap-1.0.7.tar.gz (129.7MB):   4%  5.7MB\r",
        "  Downloading basemap-1.0.7.tar.gz (129.7MB):   4%  5.7MB\r",
        "  Downloading basemap-1.0.7.tar.gz (129.7MB):   4%  5.7MB\r",
        "  Downloading basemap-1.0.7.tar.gz (129.7MB):   4%  5.7MB\r",
        "  Downloading basemap-1.0.7.tar.gz (129.7MB):   4%  5.7MB"
       ]
      },
      {
       "output_type": "stream",
       "stream": "stdout",
       "text": [
        "\r",
        "  Downloading basemap-1.0.7.tar.gz (129.7MB):   4%  5.7MB"
       ]
      },
      {
       "output_type": "stream",
       "stream": "stdout",
       "text": [
        "\r",
        "  Downloading basemap-1.0.7.tar.gz (129.7MB):   4%  5.7MB\r",
        "  Downloading basemap-1.0.7.tar.gz (129.7MB):   4%  5.7MB\r",
        "  Downloading basemap-1.0.7.tar.gz (129.7MB):   4%  5.7MB\r",
        "  Downloading basemap-1.0.7.tar.gz (129.7MB):   4%  5.7MB\r",
        "  Downloading basemap-1.0.7.tar.gz (129.7MB):   4%  5.7MB\r",
        "  Downloading basemap-1.0.7.tar.gz (129.7MB):   4%  5.8MB\r",
        "  Downloading basemap-1.0.7.tar.gz (129.7MB):   4%  5.8MB\r",
        "  Downloading basemap-1.0.7.tar.gz (129.7MB):   4%  5.8MB\r",
        "  Downloading basemap-1.0.7.tar.gz (129.7MB):   4%  5.8MB\r",
        "  Downloading basemap-1.0.7.tar.gz (129.7MB):   4%  5.8MB\r",
        "  Downloading basemap-1.0.7.tar.gz (129.7MB):   4%  5.8MB\r",
        "  Downloading basemap-1.0.7.tar.gz (129.7MB):   4%  5.8MB\r",
        "  Downloading basemap-1.0.7.tar.gz (129.7MB):   4%  5.8MB\r",
        "  Downloading basemap-1.0.7.tar.gz (129.7MB):   4%  5.8MB\r",
        "  Downloading basemap-1.0.7.tar.gz (129.7MB):   4%  5.8MB\r",
        "  Downloading basemap-1.0.7.tar.gz (129.7MB):   4%  5.8MB\r",
        "  Downloading basemap-1.0.7.tar.gz (129.7MB):   4%  5.8MB\r",
        "  Downloading basemap-1.0.7.tar.gz (129.7MB):   4%  5.8MB\r",
        "  Downloading basemap-1.0.7.tar.gz (129.7MB):   4%  5.8MB\r",
        "  Downloading basemap-1.0.7.tar.gz (129.7MB):   4%  5.8MB"
       ]
      },
      {
       "output_type": "stream",
       "stream": "stdout",
       "text": [
        "\r",
        "  Downloading basemap-1.0.7.tar.gz (129.7MB):   4%  5.8MB\r",
        "  Downloading basemap-1.0.7.tar.gz (129.7MB):   4%  5.8MB\r",
        "  Downloading basemap-1.0.7.tar.gz (129.7MB):   4%  5.8MB\r",
        "  Downloading basemap-1.0.7.tar.gz (129.7MB):   4%  5.8MB\r",
        "  Downloading basemap-1.0.7.tar.gz (129.7MB):   4%  5.8MB\r",
        "  Downloading basemap-1.0.7.tar.gz (129.7MB):   4%  5.8MB\r",
        "  Downloading basemap-1.0.7.tar.gz (129.7MB):   4%  5.8MB\r",
        "  Downloading basemap-1.0.7.tar.gz (129.7MB):   4%  5.8MB\r",
        "  Downloading basemap-1.0.7.tar.gz (129.7MB):   4%  5.8MB\r",
        "  Downloading basemap-1.0.7.tar.gz (129.7MB):   4%  5.8MB\r",
        "  Downloading basemap-1.0.7.tar.gz (129.7MB):   4%  5.9MB\r",
        "  Downloading basemap-1.0.7.tar.gz (129.7MB):   4%  5.9MB\r",
        "  Downloading basemap-1.0.7.tar.gz (129.7MB):   4%  5.9MB\r",
        "  Downloading basemap-1.0.7.tar.gz (129.7MB):   4%  5.9MB\r",
        "  Downloading basemap-1.0.7.tar.gz (129.7MB):   4%  5.9MB\r",
        "  Downloading basemap-1.0.7.tar.gz (129.7MB):   4%  5.9MB\r",
        "  Downloading basemap-1.0.7.tar.gz (129.7MB):   4%  5.9MB\r",
        "  Downloading basemap-1.0.7.tar.gz (129.7MB):   4%  5.9MB\r",
        "  Downloading basemap-1.0.7.tar.gz (129.7MB):   4%  5.9MB\r",
        "  Downloading basemap-1.0.7.tar.gz (129.7MB):   4%  5.9MB\r",
        "  Downloading basemap-1.0.7.tar.gz (129.7MB):   4%  5.9MB"
       ]
      },
      {
       "output_type": "stream",
       "stream": "stdout",
       "text": [
        "\r",
        "  Downloading basemap-1.0.7.tar.gz (129.7MB):   4%  5.9MB\r",
        "  Downloading basemap-1.0.7.tar.gz (129.7MB):   4%  5.9MB\r",
        "  Downloading basemap-1.0.7.tar.gz (129.7MB):   4%  5.9MB\r",
        "  Downloading basemap-1.0.7.tar.gz (129.7MB):   4%  5.9MB\r",
        "  Downloading basemap-1.0.7.tar.gz (129.7MB):   4%  5.9MB\r",
        "  Downloading basemap-1.0.7.tar.gz (129.7MB):   4%  5.9MB\r",
        "  Downloading basemap-1.0.7.tar.gz (129.7MB):   4%  5.9MB\r",
        "  Downloading basemap-1.0.7.tar.gz (129.7MB):   4%  5.9MB\r",
        "  Downloading basemap-1.0.7.tar.gz (129.7MB):   4%  5.9MB"
       ]
      },
      {
       "output_type": "stream",
       "stream": "stdout",
       "text": [
        "\r",
        "  Downloading basemap-1.0.7.tar.gz (129.7MB):   4%  5.9MB\r",
        "  Downloading basemap-1.0.7.tar.gz (129.7MB):   4%  5.9MB\r",
        "  Downloading basemap-1.0.7.tar.gz (129.7MB):   4%  5.9MB\r",
        "  Downloading basemap-1.0.7.tar.gz (129.7MB):   4%  5.9MB\r",
        "  Downloading basemap-1.0.7.tar.gz (129.7MB):   4%  6.0MB\r",
        "  Downloading basemap-1.0.7.tar.gz (129.7MB):   4%  6.0MB\r",
        "  Downloading basemap-1.0.7.tar.gz (129.7MB):   4%  6.0MB\r",
        "  Downloading basemap-1.0.7.tar.gz (129.7MB):   4%  6.0MB\r",
        "  Downloading basemap-1.0.7.tar.gz (129.7MB):   4%  6.0MB\r",
        "  Downloading basemap-1.0.7.tar.gz (129.7MB):   4%  6.0MB\r",
        "  Downloading basemap-1.0.7.tar.gz (129.7MB):   4%  6.0MB\r",
        "  Downloading basemap-1.0.7.tar.gz (129.7MB):   4%  6.0MB"
       ]
      },
      {
       "output_type": "stream",
       "stream": "stdout",
       "text": [
        "\r",
        "  Downloading basemap-1.0.7.tar.gz (129.7MB):   4%  6.0MB\r",
        "  Downloading basemap-1.0.7.tar.gz (129.7MB):   4%  6.0MB\r",
        "  Downloading basemap-1.0.7.tar.gz (129.7MB):   4%  6.0MB"
       ]
      },
      {
       "output_type": "stream",
       "stream": "stdout",
       "text": [
        "\r",
        "  Downloading basemap-1.0.7.tar.gz (129.7MB):   4%  6.0MB\r",
        "  Downloading basemap-1.0.7.tar.gz (129.7MB):   4%  6.0MB\r",
        "  Downloading basemap-1.0.7.tar.gz (129.7MB):   4%  6.0MB\r",
        "  Downloading basemap-1.0.7.tar.gz (129.7MB):   4%  6.0MB\r",
        "  Downloading basemap-1.0.7.tar.gz (129.7MB):   4%  6.0MB\r",
        "  Downloading basemap-1.0.7.tar.gz (129.7MB):   4%  6.0MB\r",
        "  Downloading basemap-1.0.7.tar.gz (129.7MB):   4%  6.0MB\r",
        "  Downloading basemap-1.0.7.tar.gz (129.7MB):   4%  6.0MB\r",
        "  Downloading basemap-1.0.7.tar.gz (129.7MB):   4%  6.0MB\r",
        "  Downloading basemap-1.0.7.tar.gz (129.7MB):   4%  6.0MB\r",
        "  Downloading basemap-1.0.7.tar.gz (129.7MB):   4%  6.0MB\r",
        "  Downloading basemap-1.0.7.tar.gz (129.7MB):   4%  6.0MB\r",
        "  Downloading basemap-1.0.7.tar.gz (129.7MB):   4%  6.0MB\r",
        "  Downloading basemap-1.0.7.tar.gz (129.7MB):   4%  6.0MB\r",
        "  Downloading basemap-1.0.7.tar.gz (129.7MB):   4%  6.1MB\r",
        "  Downloading basemap-1.0.7.tar.gz (129.7MB):   4%  6.1MB\r",
        "  Downloading basemap-1.0.7.tar.gz (129.7MB):   4%  6.1MB\r",
        "  Downloading basemap-1.0.7.tar.gz (129.7MB):   4%  6.1MB"
       ]
      },
      {
       "output_type": "stream",
       "stream": "stdout",
       "text": [
        "\r",
        "  Downloading basemap-1.0.7.tar.gz (129.7MB):   4%  6.1MB\r",
        "  Downloading basemap-1.0.7.tar.gz (129.7MB):   4%  6.1MB\r",
        "  Downloading basemap-1.0.7.tar.gz (129.7MB):   4%  6.1MB\r",
        "  Downloading basemap-1.0.7.tar.gz (129.7MB):   4%  6.1MB\r",
        "  Downloading basemap-1.0.7.tar.gz (129.7MB):   4%  6.1MB\r",
        "  Downloading basemap-1.0.7.tar.gz (129.7MB):   4%  6.1MB\r",
        "  Downloading basemap-1.0.7.tar.gz (129.7MB):   4%  6.1MB\r",
        "  Downloading basemap-1.0.7.tar.gz (129.7MB):   4%  6.1MB\r",
        "  Downloading basemap-1.0.7.tar.gz (129.7MB):   4%  6.1MB\r",
        "  Downloading basemap-1.0.7.tar.gz (129.7MB):   4%  6.1MB\r",
        "  Downloading basemap-1.0.7.tar.gz (129.7MB):   4%  6.1MB\r",
        "  Downloading basemap-1.0.7.tar.gz (129.7MB):   4%  6.1MB\r",
        "  Downloading basemap-1.0.7.tar.gz (129.7MB):   4%  6.1MB\r",
        "  Downloading basemap-1.0.7.tar.gz (129.7MB):   4%  6.1MB\r",
        "  Downloading basemap-1.0.7.tar.gz (129.7MB):   4%  6.1MB\r",
        "  Downloading basemap-1.0.7.tar.gz (129.7MB):   4%  6.1MB\r",
        "  Downloading basemap-1.0.7.tar.gz (129.7MB):   4%  6.1MB\r",
        "  Downloading basemap-1.0.7.tar.gz (129.7MB):   4%  6.1MB\r",
        "  Downloading basemap-1.0.7.tar.gz (129.7MB):   4%  6.1MB\r",
        "  Downloading basemap-1.0.7.tar.gz (129.7MB):   4%  6.1MB\r",
        "  Downloading basemap-1.0.7.tar.gz (129.7MB):   4%  6.2MB\r",
        "  Downloading basemap-1.0.7.tar.gz (129.7MB):   4%  6.2MB"
       ]
      },
      {
       "output_type": "stream",
       "stream": "stdout",
       "text": [
        "\r",
        "  Downloading basemap-1.0.7.tar.gz (129.7MB):   4%  6.2MB\r",
        "  Downloading basemap-1.0.7.tar.gz (129.7MB):   4%  6.2MB\r",
        "  Downloading basemap-1.0.7.tar.gz (129.7MB):   4%  6.2MB\r",
        "  Downloading basemap-1.0.7.tar.gz (129.7MB):   4%  6.2MB\r",
        "  Downloading basemap-1.0.7.tar.gz (129.7MB):   4%  6.2MB\r",
        "  Downloading basemap-1.0.7.tar.gz (129.7MB):   4%  6.2MB\r",
        "  Downloading basemap-1.0.7.tar.gz (129.7MB):   4%  6.2MB\r",
        "  Downloading basemap-1.0.7.tar.gz (129.7MB):   4%  6.2MB\r",
        "  Downloading basemap-1.0.7.tar.gz (129.7MB):   4%  6.2MB\r",
        "  Downloading basemap-1.0.7.tar.gz (129.7MB):   4%  6.2MB"
       ]
      },
      {
       "output_type": "stream",
       "stream": "stdout",
       "text": [
        "\r",
        "  Downloading basemap-1.0.7.tar.gz (129.7MB):   4%  6.2MB\r",
        "  Downloading basemap-1.0.7.tar.gz (129.7MB):   4%  6.2MB\r",
        "  Downloading basemap-1.0.7.tar.gz (129.7MB):   4%  6.2MB\r",
        "  Downloading basemap-1.0.7.tar.gz (129.7MB):   4%  6.2MB\r",
        "  Downloading basemap-1.0.7.tar.gz (129.7MB):   4%  6.2MB\r",
        "  Downloading basemap-1.0.7.tar.gz (129.7MB):   4%  6.2MB\r",
        "  Downloading basemap-1.0.7.tar.gz (129.7MB):   4%  6.2MB\r",
        "  Downloading basemap-1.0.7.tar.gz (129.7MB):   4%  6.2MB\r",
        "  Downloading basemap-1.0.7.tar.gz (129.7MB):   4%  6.2MB\r",
        "  Downloading basemap-1.0.7.tar.gz (129.7MB):   4%  6.2MB\r",
        "  Downloading basemap-1.0.7.tar.gz (129.7MB):   4%  6.2MB\r",
        "  Downloading basemap-1.0.7.tar.gz (129.7MB):   4%  6.2MB\r",
        "  Downloading basemap-1.0.7.tar.gz (129.7MB):   4%  6.3MB"
       ]
      },
      {
       "output_type": "stream",
       "stream": "stdout",
       "text": [
        "\r",
        "  Downloading basemap-1.0.7.tar.gz (129.7MB):   4%  6.3MB\r",
        "  Downloading basemap-1.0.7.tar.gz (129.7MB):   4%  6.3MB\r",
        "  Downloading basemap-1.0.7.tar.gz (129.7MB):   4%  6.3MB"
       ]
      },
      {
       "output_type": "stream",
       "stream": "stdout",
       "text": [
        "\r",
        "  Downloading basemap-1.0.7.tar.gz (129.7MB):   4%  6.3MB\r",
        "  Downloading basemap-1.0.7.tar.gz (129.7MB):   4%  6.3MB\r",
        "  Downloading basemap-1.0.7.tar.gz (129.7MB):   4%  6.3MB\r",
        "  Downloading basemap-1.0.7.tar.gz (129.7MB):   4%  6.3MB\r",
        "  Downloading basemap-1.0.7.tar.gz (129.7MB):   4%  6.3MB\r",
        "  Downloading basemap-1.0.7.tar.gz (129.7MB):   4%  6.3MB\r",
        "  Downloading basemap-1.0.7.tar.gz (129.7MB):   4%  6.3MB\r",
        "  Downloading basemap-1.0.7.tar.gz (129.7MB):   4%  6.3MB\r",
        "  Downloading basemap-1.0.7.tar.gz (129.7MB):   4%  6.3MB\r",
        "  Downloading basemap-1.0.7.tar.gz (129.7MB):   4%  6.3MB\r",
        "  Downloading basemap-1.0.7.tar.gz (129.7MB):   4%  6.3MB\r",
        "  Downloading basemap-1.0.7.tar.gz (129.7MB):   4%  6.3MB\r",
        "  Downloading basemap-1.0.7.tar.gz (129.7MB):   4%  6.3MB\r",
        "  Downloading basemap-1.0.7.tar.gz (129.7MB):   4%  6.3MB\r",
        "  Downloading basemap-1.0.7.tar.gz (129.7MB):   4%  6.3MB\r",
        "  Downloading basemap-1.0.7.tar.gz (129.7MB):   4%  6.3MB\r",
        "  Downloading basemap-1.0.7.tar.gz (129.7MB):   4%  6.3MB\r",
        "  Downloading basemap-1.0.7.tar.gz (129.7MB):   4%  6.3MB\r",
        "  Downloading basemap-1.0.7.tar.gz (129.7MB):   4%  6.3MB"
       ]
      },
      {
       "output_type": "stream",
       "stream": "stdout",
       "text": [
        "\r",
        "  Downloading basemap-1.0.7.tar.gz (129.7MB):   4%  6.3MB\r",
        "  Downloading basemap-1.0.7.tar.gz (129.7MB):   4%  6.3MB\r",
        "  Downloading basemap-1.0.7.tar.gz (129.7MB):   4%  6.4MB\r",
        "  Downloading basemap-1.0.7.tar.gz (129.7MB):   4%  6.4MB\r",
        "  Downloading basemap-1.0.7.tar.gz (129.7MB):   4%  6.4MB\r",
        "  Downloading basemap-1.0.7.tar.gz (129.7MB):   4%  6.4MB\r",
        "  Downloading basemap-1.0.7.tar.gz (129.7MB):   4%  6.4MB\r",
        "  Downloading basemap-1.0.7.tar.gz (129.7MB):   4%  6.4MB\r",
        "  Downloading basemap-1.0.7.tar.gz (129.7MB):   4%  6.4MB\r",
        "  Downloading basemap-1.0.7.tar.gz (129.7MB):   4%  6.4MB\r",
        "  Downloading basemap-1.0.7.tar.gz (129.7MB):   4%  6.4MB\r",
        "  Downloading basemap-1.0.7.tar.gz (129.7MB):   4%  6.4MB\r",
        "  Downloading basemap-1.0.7.tar.gz (129.7MB):   4%  6.4MB\r",
        "  Downloading basemap-1.0.7.tar.gz (129.7MB):   4%  6.4MB\r",
        "  Downloading basemap-1.0.7.tar.gz (129.7MB):   4%  6.4MB\r",
        "  Downloading basemap-1.0.7.tar.gz (129.7MB):   4%  6.4MB\r",
        "  Downloading basemap-1.0.7.tar.gz (129.7MB):   4%  6.4MB\r",
        "  Downloading basemap-1.0.7.tar.gz (129.7MB):   4%  6.4MB\r",
        "  Downloading basemap-1.0.7.tar.gz (129.7MB):   4%  6.4MB\r",
        "  Downloading basemap-1.0.7.tar.gz (129.7MB):   4%  6.4MB\r",
        "  Downloading basemap-1.0.7.tar.gz (129.7MB):   4%  6.4MB\r",
        "  Downloading basemap-1.0.7.tar.gz (129.7MB):   4%  6.4MB\r",
        "  Downloading basemap-1.0.7.tar.gz (129.7MB):   4%  6.4MB"
       ]
      },
      {
       "output_type": "stream",
       "stream": "stdout",
       "text": [
        "\r",
        "  Downloading basemap-1.0.7.tar.gz (129.7MB):   4%  6.4MB\r",
        "  Downloading basemap-1.0.7.tar.gz (129.7MB):   4%  6.4MB\r",
        "  Downloading basemap-1.0.7.tar.gz (129.7MB):   4%  6.4MB\r",
        "  Downloading basemap-1.0.7.tar.gz (129.7MB):   4%  6.5MB\r",
        "  Downloading basemap-1.0.7.tar.gz (129.7MB):   4%  6.5MB\r",
        "  Downloading basemap-1.0.7.tar.gz (129.7MB):   4%  6.5MB\r",
        "  Downloading basemap-1.0.7.tar.gz (129.7MB):   4%  6.5MB\r",
        "  Downloading basemap-1.0.7.tar.gz (129.7MB):   4%  6.5MB\r",
        "  Downloading basemap-1.0.7.tar.gz (129.7MB):   4%  6.5MB\r",
        "  Downloading basemap-1.0.7.tar.gz (129.7MB):   4%  6.5MB\r",
        "  Downloading basemap-1.0.7.tar.gz (129.7MB):   4%  6.5MB\r",
        "  Downloading basemap-1.0.7.tar.gz (129.7MB):   4%  6.5MB"
       ]
      },
      {
       "output_type": "stream",
       "stream": "stdout",
       "text": [
        "\r",
        "  Downloading basemap-1.0.7.tar.gz (129.7MB):   5%  6.5MB\r",
        "  Downloading basemap-1.0.7.tar.gz (129.7MB):   5%  6.5MB\r",
        "  Downloading basemap-1.0.7.tar.gz (129.7MB):   5%  6.5MB\r",
        "  Downloading basemap-1.0.7.tar.gz (129.7MB):   5%  6.5MB\r",
        "  Downloading basemap-1.0.7.tar.gz (129.7MB):   5%  6.5MB\r",
        "  Downloading basemap-1.0.7.tar.gz (129.7MB):   5%  6.5MB\r",
        "  Downloading basemap-1.0.7.tar.gz (129.7MB):   5%  6.5MB\r",
        "  Downloading basemap-1.0.7.tar.gz (129.7MB):   5%  6.5MB\r",
        "  Downloading basemap-1.0.7.tar.gz (129.7MB):   5%  6.5MB\r",
        "  Downloading basemap-1.0.7.tar.gz (129.7MB):   5%  6.5MB\r",
        "  Downloading basemap-1.0.7.tar.gz (129.7MB):   5%  6.5MB"
       ]
      },
      {
       "output_type": "stream",
       "stream": "stdout",
       "text": [
        "\r",
        "  Downloading basemap-1.0.7.tar.gz (129.7MB):   5%  6.5MB\r",
        "  Downloading basemap-1.0.7.tar.gz (129.7MB):   5%  6.5MB\r",
        "  Downloading basemap-1.0.7.tar.gz (129.7MB):   5%  6.5MB\r",
        "  Downloading basemap-1.0.7.tar.gz (129.7MB):   5%  6.5MB\r",
        "  Downloading basemap-1.0.7.tar.gz (129.7MB):   5%  6.5MB"
       ]
      },
      {
       "output_type": "stream",
       "stream": "stdout",
       "text": [
        "\r",
        "  Downloading basemap-1.0.7.tar.gz (129.7MB):   5%  6.6MB\r",
        "  Downloading basemap-1.0.7.tar.gz (129.7MB):   5%  6.6MB\r",
        "  Downloading basemap-1.0.7.tar.gz (129.7MB):   5%  6.6MB\r",
        "  Downloading basemap-1.0.7.tar.gz (129.7MB):   5%  6.6MB\r",
        "  Downloading basemap-1.0.7.tar.gz (129.7MB):   5%  6.6MB\r",
        "  Downloading basemap-1.0.7.tar.gz (129.7MB):   5%  6.6MB\r",
        "  Downloading basemap-1.0.7.tar.gz (129.7MB):   5%  6.6MB\r",
        "  Downloading basemap-1.0.7.tar.gz (129.7MB):   5%  6.6MB\r",
        "  Downloading basemap-1.0.7.tar.gz (129.7MB):   5%  6.6MB\r",
        "  Downloading basemap-1.0.7.tar.gz (129.7MB):   5%  6.6MB\r",
        "  Downloading basemap-1.0.7.tar.gz (129.7MB):   5%  6.6MB\r",
        "  Downloading basemap-1.0.7.tar.gz (129.7MB):   5%  6.6MB\r",
        "  Downloading basemap-1.0.7.tar.gz (129.7MB):   5%  6.6MB\r",
        "  Downloading basemap-1.0.7.tar.gz (129.7MB):   5%  6.6MB\r",
        "  Downloading basemap-1.0.7.tar.gz (129.7MB):   5%  6.6MB\r",
        "  Downloading basemap-1.0.7.tar.gz (129.7MB):   5%  6.6MB\r",
        "  Downloading basemap-1.0.7.tar.gz (129.7MB):   5%  6.6MB\r",
        "  Downloading basemap-1.0.7.tar.gz (129.7MB):   5%  6.6MB\r",
        "  Downloading basemap-1.0.7.tar.gz (129.7MB):   5%  6.6MB"
       ]
      },
      {
       "output_type": "stream",
       "stream": "stdout",
       "text": [
        "\r",
        "  Downloading basemap-1.0.7.tar.gz (129.7MB):   5%  6.6MB\r",
        "  Downloading basemap-1.0.7.tar.gz (129.7MB):   5%  6.6MB\r",
        "  Downloading basemap-1.0.7.tar.gz (129.7MB):   5%  6.6MB\r",
        "  Downloading basemap-1.0.7.tar.gz (129.7MB):   5%  6.6MB\r",
        "  Downloading basemap-1.0.7.tar.gz (129.7MB):   5%  6.6MB\r",
        "  Downloading basemap-1.0.7.tar.gz (129.7MB):   5%  6.7MB\r",
        "  Downloading basemap-1.0.7.tar.gz (129.7MB):   5%  6.7MB\r",
        "  Downloading basemap-1.0.7.tar.gz (129.7MB):   5%  6.7MB\r",
        "  Downloading basemap-1.0.7.tar.gz (129.7MB):   5%  6.7MB\r",
        "  Downloading basemap-1.0.7.tar.gz (129.7MB):   5%  6.7MB\r",
        "  Downloading basemap-1.0.7.tar.gz (129.7MB):   5%  6.7MB\r",
        "  Downloading basemap-1.0.7.tar.gz (129.7MB):   5%  6.7MB\r",
        "  Downloading basemap-1.0.7.tar.gz (129.7MB):   5%  6.7MB\r",
        "  Downloading basemap-1.0.7.tar.gz (129.7MB):   5%  6.7MB\r",
        "  Downloading basemap-1.0.7.tar.gz (129.7MB):   5%  6.7MB\r",
        "  Downloading basemap-1.0.7.tar.gz (129.7MB):   5%  6.7MB\r",
        "  Downloading basemap-1.0.7.tar.gz (129.7MB):   5%  6.7MB\r",
        "  Downloading basemap-1.0.7.tar.gz (129.7MB):   5%  6.7MB\r",
        "  Downloading basemap-1.0.7.tar.gz (129.7MB):   5%  6.7MB\r",
        "  Downloading basemap-1.0.7.tar.gz (129.7MB):   5%  6.7MB\r",
        "  Downloading basemap-1.0.7.tar.gz (129.7MB):   5%  6.7MB\r",
        "  Downloading basemap-1.0.7.tar.gz (129.7MB):   5%  6.7MB\r",
        "  Downloading basemap-1.0.7.tar.gz (129.7MB):   5%  6.7MB"
       ]
      },
      {
       "output_type": "stream",
       "stream": "stdout",
       "text": [
        "\r",
        "  Downloading basemap-1.0.7.tar.gz (129.7MB):   5%  6.7MB\r",
        "  Downloading basemap-1.0.7.tar.gz (129.7MB):   5%  6.7MB\r",
        "  Downloading basemap-1.0.7.tar.gz (129.7MB):   5%  6.7MB\r",
        "  Downloading basemap-1.0.7.tar.gz (129.7MB):   5%  6.7MB\r",
        "  Downloading basemap-1.0.7.tar.gz (129.7MB):   5%  6.7MB\r",
        "  Downloading basemap-1.0.7.tar.gz (129.7MB):   5%  6.7MB\r",
        "  Downloading basemap-1.0.7.tar.gz (129.7MB):   5%  6.8MB\r",
        "  Downloading basemap-1.0.7.tar.gz (129.7MB):   5%  6.8MB\r",
        "  Downloading basemap-1.0.7.tar.gz (129.7MB):   5%  6.8MB\r",
        "  Downloading basemap-1.0.7.tar.gz (129.7MB):   5%  6.8MB\r",
        "  Downloading basemap-1.0.7.tar.gz (129.7MB):   5%  6.8MB\r",
        "  Downloading basemap-1.0.7.tar.gz (129.7MB):   5%  6.8MB\r",
        "  Downloading basemap-1.0.7.tar.gz (129.7MB):   5%  6.8MB"
       ]
      },
      {
       "output_type": "stream",
       "stream": "stdout",
       "text": [
        "\r",
        "  Downloading basemap-1.0.7.tar.gz (129.7MB):   5%  6.8MB\r",
        "  Downloading basemap-1.0.7.tar.gz (129.7MB):   5%  6.8MB\r",
        "  Downloading basemap-1.0.7.tar.gz (129.7MB):   5%  6.8MB\r",
        "  Downloading basemap-1.0.7.tar.gz (129.7MB):   5%  6.8MB\r",
        "  Downloading basemap-1.0.7.tar.gz (129.7MB):   5%  6.8MB\r",
        "  Downloading basemap-1.0.7.tar.gz (129.7MB):   5%  6.8MB\r",
        "  Downloading basemap-1.0.7.tar.gz (129.7MB):   5%  6.8MB\r",
        "  Downloading basemap-1.0.7.tar.gz (129.7MB):   5%  6.8MB\r",
        "  Downloading basemap-1.0.7.tar.gz (129.7MB):   5%  6.8MB\r",
        "  Downloading basemap-1.0.7.tar.gz (129.7MB):   5%  6.8MB\r",
        "  Downloading basemap-1.0.7.tar.gz (129.7MB):   5%  6.8MB"
       ]
      },
      {
       "output_type": "stream",
       "stream": "stdout",
       "text": [
        "\r",
        "  Downloading basemap-1.0.7.tar.gz (129.7MB):   5%  6.8MB\r",
        "  Downloading basemap-1.0.7.tar.gz (129.7MB):   5%  6.8MB\r",
        "  Downloading basemap-1.0.7.tar.gz (129.7MB):   5%  6.8MB\r",
        "  Downloading basemap-1.0.7.tar.gz (129.7MB):   5%  6.8MB\r",
        "  Downloading basemap-1.0.7.tar.gz (129.7MB):   5%  6.8MB"
       ]
      },
      {
       "output_type": "stream",
       "stream": "stdout",
       "text": [
        "\r",
        "  Downloading basemap-1.0.7.tar.gz (129.7MB):   5%  6.8MB\r",
        "  Downloading basemap-1.0.7.tar.gz (129.7MB):   5%  6.8MB\r",
        "  Downloading basemap-1.0.7.tar.gz (129.7MB):   5%  6.9MB\r",
        "  Downloading basemap-1.0.7.tar.gz (129.7MB):   5%  6.9MB\r",
        "  Downloading basemap-1.0.7.tar.gz (129.7MB):   5%  6.9MB\r",
        "  Downloading basemap-1.0.7.tar.gz (129.7MB):   5%  6.9MB\r",
        "  Downloading basemap-1.0.7.tar.gz (129.7MB):   5%  6.9MB\r",
        "  Downloading basemap-1.0.7.tar.gz (129.7MB):   5%  6.9MB\r",
        "  Downloading basemap-1.0.7.tar.gz (129.7MB):   5%  6.9MB\r",
        "  Downloading basemap-1.0.7.tar.gz (129.7MB):   5%  6.9MB\r",
        "  Downloading basemap-1.0.7.tar.gz (129.7MB):   5%  6.9MB\r",
        "  Downloading basemap-1.0.7.tar.gz (129.7MB):   5%  6.9MB\r",
        "  Downloading basemap-1.0.7.tar.gz (129.7MB):   5%  6.9MB\r",
        "  Downloading basemap-1.0.7.tar.gz (129.7MB):   5%  6.9MB\r",
        "  Downloading basemap-1.0.7.tar.gz (129.7MB):   5%  6.9MB\r",
        "  Downloading basemap-1.0.7.tar.gz (129.7MB):   5%  6.9MB\r",
        "  Downloading basemap-1.0.7.tar.gz (129.7MB):   5%  6.9MB\r",
        "  Downloading basemap-1.0.7.tar.gz (129.7MB):   5%  6.9MB\r",
        "  Downloading basemap-1.0.7.tar.gz (129.7MB):   5%  6.9MB"
       ]
      },
      {
       "output_type": "stream",
       "stream": "stdout",
       "text": [
        "\r",
        "  Downloading basemap-1.0.7.tar.gz (129.7MB):   5%  6.9MB\r",
        "  Downloading basemap-1.0.7.tar.gz (129.7MB):   5%  6.9MB\r",
        "  Downloading basemap-1.0.7.tar.gz (129.7MB):   5%  6.9MB\r",
        "  Downloading basemap-1.0.7.tar.gz (129.7MB):   5%  6.9MB\r",
        "  Downloading basemap-1.0.7.tar.gz (129.7MB):   5%  6.9MB\r",
        "  Downloading basemap-1.0.7.tar.gz (129.7MB):   5%  6.9MB\r",
        "  Downloading basemap-1.0.7.tar.gz (129.7MB):   5%  6.9MB\r",
        "  Downloading basemap-1.0.7.tar.gz (129.7MB):   5%  7.0MB\r",
        "  Downloading basemap-1.0.7.tar.gz (129.7MB):   5%  7.0MB\r",
        "  Downloading basemap-1.0.7.tar.gz (129.7MB):   5%  7.0MB\r",
        "  Downloading basemap-1.0.7.tar.gz (129.7MB):   5%  7.0MB\r",
        "  Downloading basemap-1.0.7.tar.gz (129.7MB):   5%  7.0MB\r",
        "  Downloading basemap-1.0.7.tar.gz (129.7MB):   5%  7.0MB\r",
        "  Downloading basemap-1.0.7.tar.gz (129.7MB):   5%  7.0MB\r",
        "  Downloading basemap-1.0.7.tar.gz (129.7MB):   5%  7.0MB\r",
        "  Downloading basemap-1.0.7.tar.gz (129.7MB):   5%  7.0MB\r",
        "  Downloading basemap-1.0.7.tar.gz (129.7MB):   5%  7.0MB\r",
        "  Downloading basemap-1.0.7.tar.gz (129.7MB):   5%  7.0MB\r",
        "  Downloading basemap-1.0.7.tar.gz (129.7MB):   5%  7.0MB\r",
        "  Downloading basemap-1.0.7.tar.gz (129.7MB):   5%  7.0MB\r",
        "  Downloading basemap-1.0.7.tar.gz (129.7MB):   5%  7.0MB\r",
        "  Downloading basemap-1.0.7.tar.gz (129.7MB):   5%  7.0MB\r",
        "  Downloading basemap-1.0.7.tar.gz (129.7MB):   5%  7.0MB\r",
        "  Downloading basemap-1.0.7.tar.gz (129.7MB):   5%  7.0MB\r",
        "  Downloading basemap-1.0.7.tar.gz (129.7MB):   5%  7.0MB"
       ]
      },
      {
       "output_type": "stream",
       "stream": "stdout",
       "text": [
        "\r",
        "  Downloading basemap-1.0.7.tar.gz (129.7MB):   5%  7.0MB\r",
        "  Downloading basemap-1.0.7.tar.gz (129.7MB):   5%  7.0MB\r",
        "  Downloading basemap-1.0.7.tar.gz (129.7MB):   5%  7.0MB\r",
        "  Downloading basemap-1.0.7.tar.gz (129.7MB):   5%  7.0MB\r",
        "  Downloading basemap-1.0.7.tar.gz (129.7MB):   5%  7.0MB\r",
        "  Downloading basemap-1.0.7.tar.gz (129.7MB):   5%  7.0MB\r",
        "  Downloading basemap-1.0.7.tar.gz (129.7MB):   5%  7.0MB\r",
        "  Downloading basemap-1.0.7.tar.gz (129.7MB):   5%  7.1MB\r",
        "  Downloading basemap-1.0.7.tar.gz (129.7MB):   5%  7.1MB\r",
        "  Downloading basemap-1.0.7.tar.gz (129.7MB):   5%  7.1MB\r",
        "  Downloading basemap-1.0.7.tar.gz (129.7MB):   5%  7.1MB\r",
        "  Downloading basemap-1.0.7.tar.gz (129.7MB):   5%  7.1MB\r",
        "  Downloading basemap-1.0.7.tar.gz (129.7MB):   5%  7.1MB\r",
        "  Downloading basemap-1.0.7.tar.gz (129.7MB):   5%  7.1MB\r",
        "  Downloading basemap-1.0.7.tar.gz (129.7MB):   5%  7.1MB"
       ]
      },
      {
       "output_type": "stream",
       "stream": "stdout",
       "text": [
        "\r",
        "  Downloading basemap-1.0.7.tar.gz (129.7MB):   5%  7.1MB\r",
        "  Downloading basemap-1.0.7.tar.gz (129.7MB):   5%  7.1MB\r",
        "  Downloading basemap-1.0.7.tar.gz (129.7MB):   5%  7.1MB\r",
        "  Downloading basemap-1.0.7.tar.gz (129.7MB):   5%  7.1MB\r",
        "  Downloading basemap-1.0.7.tar.gz (129.7MB):   5%  7.1MB\r",
        "  Downloading basemap-1.0.7.tar.gz (129.7MB):   5%  7.1MB\r",
        "  Downloading basemap-1.0.7.tar.gz (129.7MB):   5%  7.1MB\r",
        "  Downloading basemap-1.0.7.tar.gz (129.7MB):   5%  7.1MB\r",
        "  Downloading basemap-1.0.7.tar.gz (129.7MB):   5%  7.1MB\r",
        "  Downloading basemap-1.0.7.tar.gz (129.7MB):   5%  7.1MB"
       ]
      },
      {
       "output_type": "stream",
       "stream": "stdout",
       "text": [
        "\r",
        "  Downloading basemap-1.0.7.tar.gz (129.7MB):   5%  7.1MB\r",
        "  Downloading basemap-1.0.7.tar.gz (129.7MB):   5%  7.1MB\r",
        "  Downloading basemap-1.0.7.tar.gz (129.7MB):   5%  7.1MB"
       ]
      },
      {
       "output_type": "stream",
       "stream": "stdout",
       "text": [
        "\r",
        "  Downloading basemap-1.0.7.tar.gz (129.7MB):   5%  7.1MB\r",
        "  Downloading basemap-1.0.7.tar.gz (129.7MB):   5%  7.1MB\r",
        "  Downloading basemap-1.0.7.tar.gz (129.7MB):   5%  7.1MB\r",
        "  Downloading basemap-1.0.7.tar.gz (129.7MB):   5%  7.2MB\r",
        "  Downloading basemap-1.0.7.tar.gz (129.7MB):   5%  7.2MB\r",
        "  Downloading basemap-1.0.7.tar.gz (129.7MB):   5%  7.2MB\r",
        "  Downloading basemap-1.0.7.tar.gz (129.7MB):   5%  7.2MB\r",
        "  Downloading basemap-1.0.7.tar.gz (129.7MB):   5%  7.2MB\r",
        "  Downloading basemap-1.0.7.tar.gz (129.7MB):   5%  7.2MB\r",
        "  Downloading basemap-1.0.7.tar.gz (129.7MB):   5%  7.2MB\r",
        "  Downloading basemap-1.0.7.tar.gz (129.7MB):   5%  7.2MB\r",
        "  Downloading basemap-1.0.7.tar.gz (129.7MB):   5%  7.2MB\r",
        "  Downloading basemap-1.0.7.tar.gz (129.7MB):   5%  7.2MB\r",
        "  Downloading basemap-1.0.7.tar.gz (129.7MB):   5%  7.2MB\r",
        "  Downloading basemap-1.0.7.tar.gz (129.7MB):   5%  7.2MB\r",
        "  Downloading basemap-1.0.7.tar.gz (129.7MB):   5%  7.2MB\r",
        "  Downloading basemap-1.0.7.tar.gz (129.7MB):   5%  7.2MB\r",
        "  Downloading basemap-1.0.7.tar.gz (129.7MB):   5%  7.2MB\r",
        "  Downloading basemap-1.0.7.tar.gz (129.7MB):   5%  7.2MB\r",
        "  Downloading basemap-1.0.7.tar.gz (129.7MB):   5%  7.2MB\r",
        "  Downloading basemap-1.0.7.tar.gz (129.7MB):   5%  7.2MB\r",
        "  Downloading basemap-1.0.7.tar.gz (129.7MB):   5%  7.2MB"
       ]
      },
      {
       "output_type": "stream",
       "stream": "stdout",
       "text": [
        "\r",
        "  Downloading basemap-1.0.7.tar.gz (129.7MB):   5%  7.2MB\r",
        "  Downloading basemap-1.0.7.tar.gz (129.7MB):   5%  7.2MB\r",
        "  Downloading basemap-1.0.7.tar.gz (129.7MB):   5%  7.2MB\r",
        "  Downloading basemap-1.0.7.tar.gz (129.7MB):   5%  7.2MB\r",
        "  Downloading basemap-1.0.7.tar.gz (129.7MB):   5%  7.2MB\r",
        "  Downloading basemap-1.0.7.tar.gz (129.7MB):   5%  7.2MB\r",
        "  Downloading basemap-1.0.7.tar.gz (129.7MB):   5%  7.3MB\r",
        "  Downloading basemap-1.0.7.tar.gz (129.7MB):   5%  7.3MB\r",
        "  Downloading basemap-1.0.7.tar.gz (129.7MB):   5%  7.3MB\r",
        "  Downloading basemap-1.0.7.tar.gz (129.7MB):   5%  7.3MB\r",
        "  Downloading basemap-1.0.7.tar.gz (129.7MB):   5%  7.3MB\r",
        "  Downloading basemap-1.0.7.tar.gz (129.7MB):   5%  7.3MB\r",
        "  Downloading basemap-1.0.7.tar.gz (129.7MB):   5%  7.3MB\r",
        "  Downloading basemap-1.0.7.tar.gz (129.7MB):   5%  7.3MB\r",
        "  Downloading basemap-1.0.7.tar.gz (129.7MB):   5%  7.3MB\r",
        "  Downloading basemap-1.0.7.tar.gz (129.7MB):   5%  7.3MB\r",
        "  Downloading basemap-1.0.7.tar.gz (129.7MB):   5%  7.3MB\r",
        "  Downloading basemap-1.0.7.tar.gz (129.7MB):   5%  7.3MB\r",
        "  Downloading basemap-1.0.7.tar.gz (129.7MB):   5%  7.3MB\r",
        "  Downloading basemap-1.0.7.tar.gz (129.7MB):   5%  7.3MB\r",
        "  Downloading basemap-1.0.7.tar.gz (129.7MB):   5%  7.3MB\r",
        "  Downloading basemap-1.0.7.tar.gz (129.7MB):   5%  7.3MB\r",
        "  Downloading basemap-1.0.7.tar.gz (129.7MB):   5%  7.3MB\r",
        "  Downloading basemap-1.0.7.tar.gz (129.7MB):   5%  7.3MB"
       ]
      },
      {
       "output_type": "stream",
       "stream": "stdout",
       "text": [
        "\r",
        "  Downloading basemap-1.0.7.tar.gz (129.7MB):   5%  7.3MB\r",
        "  Downloading basemap-1.0.7.tar.gz (129.7MB):   5%  7.3MB"
       ]
      },
      {
       "output_type": "stream",
       "stream": "stdout",
       "text": [
        "\r",
        "  Downloading basemap-1.0.7.tar.gz (129.7MB):   5%  7.3MB\r",
        "  Downloading basemap-1.0.7.tar.gz (129.7MB):   5%  7.3MB\r",
        "  Downloading basemap-1.0.7.tar.gz (129.7MB):   5%  7.3MB\r",
        "  Downloading basemap-1.0.7.tar.gz (129.7MB):   5%  7.3MB\r",
        "  Downloading basemap-1.0.7.tar.gz (129.7MB):   5%  7.4MB\r",
        "  Downloading basemap-1.0.7.tar.gz (129.7MB):   5%  7.4MB\r",
        "  Downloading basemap-1.0.7.tar.gz (129.7MB):   5%  7.4MB\r",
        "  Downloading basemap-1.0.7.tar.gz (129.7MB):   5%  7.4MB\r",
        "  Downloading basemap-1.0.7.tar.gz (129.7MB):   5%  7.4MB\r",
        "  Downloading basemap-1.0.7.tar.gz (129.7MB):   5%  7.4MB\r",
        "  Downloading basemap-1.0.7.tar.gz (129.7MB):   5%  7.4MB"
       ]
      },
      {
       "output_type": "stream",
       "stream": "stdout",
       "text": [
        "\r",
        "  Downloading basemap-1.0.7.tar.gz (129.7MB):   5%  7.4MB\r",
        "  Downloading basemap-1.0.7.tar.gz (129.7MB):   5%  7.4MB\r",
        "  Downloading basemap-1.0.7.tar.gz (129.7MB):   5%  7.4MB\r",
        "  Downloading basemap-1.0.7.tar.gz (129.7MB):   5%  7.4MB\r",
        "  Downloading basemap-1.0.7.tar.gz (129.7MB):   5%  7.4MB\r",
        "  Downloading basemap-1.0.7.tar.gz (129.7MB):   5%  7.4MB\r",
        "  Downloading basemap-1.0.7.tar.gz (129.7MB):   5%  7.4MB\r",
        "  Downloading basemap-1.0.7.tar.gz (129.7MB):   5%  7.4MB\r",
        "  Downloading basemap-1.0.7.tar.gz (129.7MB):   5%  7.4MB\r",
        "  Downloading basemap-1.0.7.tar.gz (129.7MB):   5%  7.4MB\r",
        "  Downloading basemap-1.0.7.tar.gz (129.7MB):   5%  7.4MB\r",
        "  Downloading basemap-1.0.7.tar.gz (129.7MB):   5%  7.4MB\r",
        "  Downloading basemap-1.0.7.tar.gz (129.7MB):   5%  7.4MB\r",
        "  Downloading basemap-1.0.7.tar.gz (129.7MB):   5%  7.4MB\r",
        "  Downloading basemap-1.0.7.tar.gz (129.7MB):   5%  7.4MB"
       ]
      },
      {
       "output_type": "stream",
       "stream": "stdout",
       "text": [
        "\r",
        "  Downloading basemap-1.0.7.tar.gz (129.7MB):   5%  7.4MB\r",
        "  Downloading basemap-1.0.7.tar.gz (129.7MB):   5%  7.4MB\r",
        "  Downloading basemap-1.0.7.tar.gz (129.7MB):   5%  7.5MB"
       ]
      },
      {
       "output_type": "stream",
       "stream": "stdout",
       "text": [
        "\r",
        "  Downloading basemap-1.0.7.tar.gz (129.7MB):   5%  7.5MB\r",
        "  Downloading basemap-1.0.7.tar.gz (129.7MB):   5%  7.5MB\r",
        "  Downloading basemap-1.0.7.tar.gz (129.7MB):   5%  7.5MB\r",
        "  Downloading basemap-1.0.7.tar.gz (129.7MB):   5%  7.5MB\r",
        "  Downloading basemap-1.0.7.tar.gz (129.7MB):   5%  7.5MB\r",
        "  Downloading basemap-1.0.7.tar.gz (129.7MB):   5%  7.5MB\r",
        "  Downloading basemap-1.0.7.tar.gz (129.7MB):   5%  7.5MB\r",
        "  Downloading basemap-1.0.7.tar.gz (129.7MB):   5%  7.5MB\r",
        "  Downloading basemap-1.0.7.tar.gz (129.7MB):   5%  7.5MB\r",
        "  Downloading basemap-1.0.7.tar.gz (129.7MB):   5%  7.5MB\r",
        "  Downloading basemap-1.0.7.tar.gz (129.7MB):   5%  7.5MB\r",
        "  Downloading basemap-1.0.7.tar.gz (129.7MB):   5%  7.5MB\r",
        "  Downloading basemap-1.0.7.tar.gz (129.7MB):   5%  7.5MB\r",
        "  Downloading basemap-1.0.7.tar.gz (129.7MB):   5%  7.5MB\r",
        "  Downloading basemap-1.0.7.tar.gz (129.7MB):   5%  7.5MB\r",
        "  Downloading basemap-1.0.7.tar.gz (129.7MB):   5%  7.5MB\r",
        "  Downloading basemap-1.0.7.tar.gz (129.7MB):   5%  7.5MB\r",
        "  Downloading basemap-1.0.7.tar.gz (129.7MB):   5%  7.5MB\r",
        "  Downloading basemap-1.0.7.tar.gz (129.7MB):   5%  7.5MB\r",
        "  Downloading basemap-1.0.7.tar.gz (129.7MB):   5%  7.5MB\r",
        "  Downloading basemap-1.0.7.tar.gz (129.7MB):   5%  7.5MB\r",
        "  Downloading basemap-1.0.7.tar.gz (129.7MB):   5%  7.5MB\r",
        "  Downloading basemap-1.0.7.tar.gz (129.7MB):   5%  7.5MB"
       ]
      },
      {
       "output_type": "stream",
       "stream": "stdout",
       "text": [
        "\r",
        "  Downloading basemap-1.0.7.tar.gz (129.7MB):   5%  7.5MB\r",
        "  Downloading basemap-1.0.7.tar.gz (129.7MB):   5%  7.6MB\r",
        "  Downloading basemap-1.0.7.tar.gz (129.7MB):   5%  7.6MB\r",
        "  Downloading basemap-1.0.7.tar.gz (129.7MB):   5%  7.6MB\r",
        "  Downloading basemap-1.0.7.tar.gz (129.7MB):   5%  7.6MB\r",
        "  Downloading basemap-1.0.7.tar.gz (129.7MB):   5%  7.6MB\r",
        "  Downloading basemap-1.0.7.tar.gz (129.7MB):   5%  7.6MB\r",
        "  Downloading basemap-1.0.7.tar.gz (129.7MB):   5%  7.6MB\r",
        "  Downloading basemap-1.0.7.tar.gz (129.7MB):   5%  7.6MB\r",
        "  Downloading basemap-1.0.7.tar.gz (129.7MB):   5%  7.6MB\r",
        "  Downloading basemap-1.0.7.tar.gz (129.7MB):   5%  7.6MB\r",
        "  Downloading basemap-1.0.7.tar.gz (129.7MB):   5%  7.6MB\r",
        "  Downloading basemap-1.0.7.tar.gz (129.7MB):   5%  7.6MB\r",
        "  Downloading basemap-1.0.7.tar.gz (129.7MB):   5%  7.6MB\r",
        "  Downloading basemap-1.0.7.tar.gz (129.7MB):   5%  7.6MB\r",
        "  Downloading basemap-1.0.7.tar.gz (129.7MB):   5%  7.6MB\r",
        "  Downloading basemap-1.0.7.tar.gz (129.7MB):   5%  7.6MB\r",
        "  Downloading basemap-1.0.7.tar.gz (129.7MB):   5%  7.6MB\r",
        "  Downloading basemap-1.0.7.tar.gz (129.7MB):   5%  7.6MB\r",
        "  Downloading basemap-1.0.7.tar.gz (129.7MB):   5%  7.6MB\r",
        "  Downloading basemap-1.0.7.tar.gz (129.7MB):   5%  7.6MB\r",
        "  Downloading basemap-1.0.7.tar.gz (129.7MB):   5%  7.6MB\r",
        "  Downloading basemap-1.0.7.tar.gz (129.7MB):   5%  7.6MB\r",
        "  Downloading basemap-1.0.7.tar.gz (129.7MB):   5%  7.6MB\r",
        "  Downloading basemap-1.0.7.tar.gz (129.7MB):   5%  7.6MB\r",
        "  Downloading basemap-1.0.7.tar.gz (129.7MB):   5%  7.7MB"
       ]
      },
      {
       "output_type": "stream",
       "stream": "stdout",
       "text": [
        "\r",
        "  Downloading basemap-1.0.7.tar.gz (129.7MB):   5%  7.7MB\r",
        "  Downloading basemap-1.0.7.tar.gz (129.7MB):   5%  7.7MB\r",
        "  Downloading basemap-1.0.7.tar.gz (129.7MB):   5%  7.7MB\r",
        "  Downloading basemap-1.0.7.tar.gz (129.7MB):   5%  7.7MB\r",
        "  Downloading basemap-1.0.7.tar.gz (129.7MB):   5%  7.7MB\r",
        "  Downloading basemap-1.0.7.tar.gz (129.7MB):   5%  7.7MB\r",
        "  Downloading basemap-1.0.7.tar.gz (129.7MB):   5%  7.7MB\r",
        "  Downloading basemap-1.0.7.tar.gz (129.7MB):   5%  7.7MB\r",
        "  Downloading basemap-1.0.7.tar.gz (129.7MB):   5%  7.7MB\r",
        "  Downloading basemap-1.0.7.tar.gz (129.7MB):   5%  7.7MB\r",
        "  Downloading basemap-1.0.7.tar.gz (129.7MB):   5%  7.7MB\r",
        "  Downloading basemap-1.0.7.tar.gz (129.7MB):   5%  7.7MB\r",
        "  Downloading basemap-1.0.7.tar.gz (129.7MB):   5%  7.7MB"
       ]
      },
      {
       "output_type": "stream",
       "stream": "stdout",
       "text": [
        "\r",
        "  Downloading basemap-1.0.7.tar.gz (129.7MB):   5%  7.7MB\r",
        "  Downloading basemap-1.0.7.tar.gz (129.7MB):   5%  7.7MB\r",
        "  Downloading basemap-1.0.7.tar.gz (129.7MB):   5%  7.7MB\r",
        "  Downloading basemap-1.0.7.tar.gz (129.7MB):   5%  7.7MB\r",
        "  Downloading basemap-1.0.7.tar.gz (129.7MB):   5%  7.7MB\r",
        "  Downloading basemap-1.0.7.tar.gz (129.7MB):   5%  7.7MB\r",
        "  Downloading basemap-1.0.7.tar.gz (129.7MB):   5%  7.7MB\r",
        "  Downloading basemap-1.0.7.tar.gz (129.7MB):   5%  7.7MB\r",
        "  Downloading basemap-1.0.7.tar.gz (129.7MB):   5%  7.7MB\r",
        "  Downloading basemap-1.0.7.tar.gz (129.7MB):   5%  7.7MB\r",
        "  Downloading basemap-1.0.7.tar.gz (129.7MB):   5%  7.7MB\r",
        "  Downloading basemap-1.0.7.tar.gz (129.7MB):   5%  7.8MB\r",
        "  Downloading basemap-1.0.7.tar.gz (129.7MB):   5%  7.8MB\r",
        "  Downloading basemap-1.0.7.tar.gz (129.7MB):   5%  7.8MB"
       ]
      },
      {
       "output_type": "stream",
       "stream": "stdout",
       "text": [
        "\r",
        "  Downloading basemap-1.0.7.tar.gz (129.7MB):   5%  7.8MB\r",
        "  Downloading basemap-1.0.7.tar.gz (129.7MB):   5%  7.8MB\r",
        "  Downloading basemap-1.0.7.tar.gz (129.7MB):   5%  7.8MB"
       ]
      },
      {
       "output_type": "stream",
       "stream": "stdout",
       "text": [
        "\r",
        "  Downloading basemap-1.0.7.tar.gz (129.7MB):   5%  7.8MB\r",
        "  Downloading basemap-1.0.7.tar.gz (129.7MB):   6%  7.8MB\r",
        "  Downloading basemap-1.0.7.tar.gz (129.7MB):   6%  7.8MB\r",
        "  Downloading basemap-1.0.7.tar.gz (129.7MB):   6%  7.8MB\r",
        "  Downloading basemap-1.0.7.tar.gz (129.7MB):   6%  7.8MB\r",
        "  Downloading basemap-1.0.7.tar.gz (129.7MB):   6%  7.8MB\r",
        "  Downloading basemap-1.0.7.tar.gz (129.7MB):   6%  7.8MB\r",
        "  Downloading basemap-1.0.7.tar.gz (129.7MB):   6%  7.8MB\r",
        "  Downloading basemap-1.0.7.tar.gz (129.7MB):   6%  7.8MB\r",
        "  Downloading basemap-1.0.7.tar.gz (129.7MB):   6%  7.8MB\r",
        "  Downloading basemap-1.0.7.tar.gz (129.7MB):   6%  7.8MB\r",
        "  Downloading basemap-1.0.7.tar.gz (129.7MB):   6%  7.8MB\r",
        "  Downloading basemap-1.0.7.tar.gz (129.7MB):   6%  7.8MB\r",
        "  Downloading basemap-1.0.7.tar.gz (129.7MB):   6%  7.8MB\r",
        "  Downloading basemap-1.0.7.tar.gz (129.7MB):   6%  7.8MB\r",
        "  Downloading basemap-1.0.7.tar.gz (129.7MB):   6%  7.8MB\r",
        "  Downloading basemap-1.0.7.tar.gz (129.7MB):   6%  7.8MB\r",
        "  Downloading basemap-1.0.7.tar.gz (129.7MB):   6%  7.8MB\r",
        "  Downloading basemap-1.0.7.tar.gz (129.7MB):   6%  7.9MB\r",
        "  Downloading basemap-1.0.7.tar.gz (129.7MB):   6%  7.9MB\r",
        "  Downloading basemap-1.0.7.tar.gz (129.7MB):   6%  7.9MB\r",
        "  Downloading basemap-1.0.7.tar.gz (129.7MB):   6%  7.9MB\r",
        "  Downloading basemap-1.0.7.tar.gz (129.7MB):   6%  7.9MB\r",
        "  Downloading basemap-1.0.7.tar.gz (129.7MB):   6%  7.9MB"
       ]
      },
      {
       "output_type": "stream",
       "stream": "stdout",
       "text": [
        "\r",
        "  Downloading basemap-1.0.7.tar.gz (129.7MB):   6%  7.9MB\r",
        "  Downloading basemap-1.0.7.tar.gz (129.7MB):   6%  7.9MB\r",
        "  Downloading basemap-1.0.7.tar.gz (129.7MB):   6%  7.9MB\r",
        "  Downloading basemap-1.0.7.tar.gz (129.7MB):   6%  7.9MB\r",
        "  Downloading basemap-1.0.7.tar.gz (129.7MB):   6%  7.9MB\r",
        "  Downloading basemap-1.0.7.tar.gz (129.7MB):   6%  7.9MB\r",
        "  Downloading basemap-1.0.7.tar.gz (129.7MB):   6%  7.9MB\r",
        "  Downloading basemap-1.0.7.tar.gz (129.7MB):   6%  7.9MB\r",
        "  Downloading basemap-1.0.7.tar.gz (129.7MB):   6%  7.9MB\r",
        "  Downloading basemap-1.0.7.tar.gz (129.7MB):   6%  7.9MB\r",
        "  Downloading basemap-1.0.7.tar.gz (129.7MB):   6%  7.9MB\r",
        "  Downloading basemap-1.0.7.tar.gz (129.7MB):   6%  7.9MB\r",
        "  Downloading basemap-1.0.7.tar.gz (129.7MB):   6%  7.9MB\r",
        "  Downloading basemap-1.0.7.tar.gz (129.7MB):   6%  7.9MB\r",
        "  Downloading basemap-1.0.7.tar.gz (129.7MB):   6%  7.9MB\r",
        "  Downloading basemap-1.0.7.tar.gz (129.7MB):   6%  7.9MB\r",
        "  Downloading basemap-1.0.7.tar.gz (129.7MB):   6%  7.9MB\r",
        "  Downloading basemap-1.0.7.tar.gz (129.7MB):   6%  7.9MB\r",
        "  Downloading basemap-1.0.7.tar.gz (129.7MB):   6%  8.0MB\r",
        "  Downloading basemap-1.0.7.tar.gz (129.7MB):   6%  8.0MB\r",
        "  Downloading basemap-1.0.7.tar.gz (129.7MB):   6%  8.0MB\r",
        "  Downloading basemap-1.0.7.tar.gz (129.7MB):   6%  8.0MB\r",
        "  Downloading basemap-1.0.7.tar.gz (129.7MB):   6%  8.0MB"
       ]
      },
      {
       "output_type": "stream",
       "stream": "stdout",
       "text": [
        "\r",
        "  Downloading basemap-1.0.7.tar.gz (129.7MB):   6%  8.0MB\r",
        "  Downloading basemap-1.0.7.tar.gz (129.7MB):   6%  8.0MB\r",
        "  Downloading basemap-1.0.7.tar.gz (129.7MB):   6%  8.0MB\r",
        "  Downloading basemap-1.0.7.tar.gz (129.7MB):   6%  8.0MB"
       ]
      },
      {
       "output_type": "stream",
       "stream": "stdout",
       "text": [
        "\r",
        "  Downloading basemap-1.0.7.tar.gz (129.7MB):   6%  8.0MB\r",
        "  Downloading basemap-1.0.7.tar.gz (129.7MB):   6%  8.0MB\r",
        "  Downloading basemap-1.0.7.tar.gz (129.7MB):   6%  8.0MB\r",
        "  Downloading basemap-1.0.7.tar.gz (129.7MB):   6%  8.0MB\r",
        "  Downloading basemap-1.0.7.tar.gz (129.7MB):   6%  8.0MB\r",
        "  Downloading basemap-1.0.7.tar.gz (129.7MB):   6%  8.0MB\r",
        "  Downloading basemap-1.0.7.tar.gz (129.7MB):   6%  8.0MB\r",
        "  Downloading basemap-1.0.7.tar.gz (129.7MB):   6%  8.0MB\r",
        "  Downloading basemap-1.0.7.tar.gz (129.7MB):   6%  8.0MB\r",
        "  Downloading basemap-1.0.7.tar.gz (129.7MB):   6%  8.0MB\r",
        "  Downloading basemap-1.0.7.tar.gz (129.7MB):   6%  8.0MB\r",
        "  Downloading basemap-1.0.7.tar.gz (129.7MB):   6%  8.0MB\r",
        "  Downloading basemap-1.0.7.tar.gz (129.7MB):   6%  8.0MB"
       ]
      },
      {
       "output_type": "stream",
       "stream": "stdout",
       "text": [
        "\r",
        "  Downloading basemap-1.0.7.tar.gz (129.7MB):   6%  8.0MB\r",
        "  Downloading basemap-1.0.7.tar.gz (129.7MB):   6%  8.0MB\r",
        "  Downloading basemap-1.0.7.tar.gz (129.7MB):   6%  8.0MB\r",
        "  Downloading basemap-1.0.7.tar.gz (129.7MB):   6%  8.1MB\r",
        "  Downloading basemap-1.0.7.tar.gz (129.7MB):   6%  8.1MB\r",
        "  Downloading basemap-1.0.7.tar.gz (129.7MB):   6%  8.1MB\r",
        "  Downloading basemap-1.0.7.tar.gz (129.7MB):   6%  8.1MB\r",
        "  Downloading basemap-1.0.7.tar.gz (129.7MB):   6%  8.1MB\r",
        "  Downloading basemap-1.0.7.tar.gz (129.7MB):   6%  8.1MB\r",
        "  Downloading basemap-1.0.7.tar.gz (129.7MB):   6%  8.1MB\r",
        "  Downloading basemap-1.0.7.tar.gz (129.7MB):   6%  8.1MB\r",
        "  Downloading basemap-1.0.7.tar.gz (129.7MB):   6%  8.1MB\r",
        "  Downloading basemap-1.0.7.tar.gz (129.7MB):   6%  8.1MB\r",
        "  Downloading basemap-1.0.7.tar.gz (129.7MB):   6%  8.1MB"
       ]
      },
      {
       "output_type": "stream",
       "stream": "stdout",
       "text": [
        "\r",
        "  Downloading basemap-1.0.7.tar.gz (129.7MB):   6%  8.1MB\r",
        "  Downloading basemap-1.0.7.tar.gz (129.7MB):   6%  8.1MB\r",
        "  Downloading basemap-1.0.7.tar.gz (129.7MB):   6%  8.1MB\r",
        "  Downloading basemap-1.0.7.tar.gz (129.7MB):   6%  8.1MB"
       ]
      },
      {
       "output_type": "stream",
       "stream": "stdout",
       "text": [
        "\r",
        "  Downloading basemap-1.0.7.tar.gz (129.7MB):   6%  8.1MB\r",
        "  Downloading basemap-1.0.7.tar.gz (129.7MB):   6%  8.1MB\r",
        "  Downloading basemap-1.0.7.tar.gz (129.7MB):   6%  8.1MB\r",
        "  Downloading basemap-1.0.7.tar.gz (129.7MB):   6%  8.1MB\r",
        "  Downloading basemap-1.0.7.tar.gz (129.7MB):   6%  8.1MB\r",
        "  Downloading basemap-1.0.7.tar.gz (129.7MB):   6%  8.1MB\r",
        "  Downloading basemap-1.0.7.tar.gz (129.7MB):   6%  8.1MB\r",
        "  Downloading basemap-1.0.7.tar.gz (129.7MB):   6%  8.1MB\r",
        "  Downloading basemap-1.0.7.tar.gz (129.7MB):   6%  8.1MB\r",
        "  Downloading basemap-1.0.7.tar.gz (129.7MB):   6%  8.2MB\r",
        "  Downloading basemap-1.0.7.tar.gz (129.7MB):   6%  8.2MB\r",
        "  Downloading basemap-1.0.7.tar.gz (129.7MB):   6%  8.2MB\r",
        "  Downloading basemap-1.0.7.tar.gz (129.7MB):   6%  8.2MB\r",
        "  Downloading basemap-1.0.7.tar.gz (129.7MB):   6%  8.2MB\r",
        "  Downloading basemap-1.0.7.tar.gz (129.7MB):   6%  8.2MB\r",
        "  Downloading basemap-1.0.7.tar.gz (129.7MB):   6%  8.2MB\r",
        "  Downloading basemap-1.0.7.tar.gz (129.7MB):   6%  8.2MB\r",
        "  Downloading basemap-1.0.7.tar.gz (129.7MB):   6%  8.2MB\r",
        "  Downloading basemap-1.0.7.tar.gz (129.7MB):   6%  8.2MB\r",
        "  Downloading basemap-1.0.7.tar.gz (129.7MB):   6%  8.2MB\r",
        "  Downloading basemap-1.0.7.tar.gz (129.7MB):   6%  8.2MB\r",
        "  Downloading basemap-1.0.7.tar.gz (129.7MB):   6%  8.2MB\r",
        "  Downloading basemap-1.0.7.tar.gz (129.7MB):   6%  8.2MB\r",
        "  Downloading basemap-1.0.7.tar.gz (129.7MB):   6%  8.2MB"
       ]
      },
      {
       "output_type": "stream",
       "stream": "stdout",
       "text": [
        "\r",
        "  Downloading basemap-1.0.7.tar.gz (129.7MB):   6%  8.2MB\r",
        "  Downloading basemap-1.0.7.tar.gz (129.7MB):   6%  8.2MB\r",
        "  Downloading basemap-1.0.7.tar.gz (129.7MB):   6%  8.2MB\r",
        "  Downloading basemap-1.0.7.tar.gz (129.7MB):   6%  8.2MB\r",
        "  Downloading basemap-1.0.7.tar.gz (129.7MB):   6%  8.2MB\r",
        "  Downloading basemap-1.0.7.tar.gz (129.7MB):   6%  8.2MB\r",
        "  Downloading basemap-1.0.7.tar.gz (129.7MB):   6%  8.2MB\r",
        "  Downloading basemap-1.0.7.tar.gz (129.7MB):   6%  8.2MB\r",
        "  Downloading basemap-1.0.7.tar.gz (129.7MB):   6%  8.2MB\r",
        "  Downloading basemap-1.0.7.tar.gz (129.7MB):   6%  8.2MB\r",
        "  Downloading basemap-1.0.7.tar.gz (129.7MB):   6%  8.3MB\r",
        "  Downloading basemap-1.0.7.tar.gz (129.7MB):   6%  8.3MB\r",
        "  Downloading basemap-1.0.7.tar.gz (129.7MB):   6%  8.3MB\r",
        "  Downloading basemap-1.0.7.tar.gz (129.7MB):   6%  8.3MB\r",
        "  Downloading basemap-1.0.7.tar.gz (129.7MB):   6%  8.3MB\r",
        "  Downloading basemap-1.0.7.tar.gz (129.7MB):   6%  8.3MB\r",
        "  Downloading basemap-1.0.7.tar.gz (129.7MB):   6%  8.3MB\r",
        "  Downloading basemap-1.0.7.tar.gz (129.7MB):   6%  8.3MB\r",
        "  Downloading basemap-1.0.7.tar.gz (129.7MB):   6%  8.3MB"
       ]
      },
      {
       "output_type": "stream",
       "stream": "stdout",
       "text": [
        "\r",
        "  Downloading basemap-1.0.7.tar.gz (129.7MB):   6%  8.3MB\r",
        "  Downloading basemap-1.0.7.tar.gz (129.7MB):   6%  8.3MB\r",
        "  Downloading basemap-1.0.7.tar.gz (129.7MB):   6%  8.3MB\r",
        "  Downloading basemap-1.0.7.tar.gz (129.7MB):   6%  8.3MB\r",
        "  Downloading basemap-1.0.7.tar.gz (129.7MB):   6%  8.3MB\r",
        "  Downloading basemap-1.0.7.tar.gz (129.7MB):   6%  8.3MB\r",
        "  Downloading basemap-1.0.7.tar.gz (129.7MB):   6%  8.3MB\r",
        "  Downloading basemap-1.0.7.tar.gz (129.7MB):   6%  8.3MB"
       ]
      },
      {
       "output_type": "stream",
       "stream": "stdout",
       "text": [
        "\r",
        "  Downloading basemap-1.0.7.tar.gz (129.7MB):   6%  8.3MB\r",
        "  Downloading basemap-1.0.7.tar.gz (129.7MB):   6%  8.3MB\r",
        "  Downloading basemap-1.0.7.tar.gz (129.7MB):   6%  8.3MB\r",
        "  Downloading basemap-1.0.7.tar.gz (129.7MB):   6%  8.3MB\r",
        "  Downloading basemap-1.0.7.tar.gz (129.7MB):   6%  8.3MB\r",
        "  Downloading basemap-1.0.7.tar.gz (129.7MB):   6%  8.3MB\r",
        "  Downloading basemap-1.0.7.tar.gz (129.7MB):   6%  8.3MB\r",
        "  Downloading basemap-1.0.7.tar.gz (129.7MB):   6%  8.4MB\r",
        "  Downloading basemap-1.0.7.tar.gz (129.7MB):   6%  8.4MB\r",
        "  Downloading basemap-1.0.7.tar.gz (129.7MB):   6%  8.4MB\r",
        "  Downloading basemap-1.0.7.tar.gz (129.7MB):   6%  8.4MB\r",
        "  Downloading basemap-1.0.7.tar.gz (129.7MB):   6%  8.4MB"
       ]
      },
      {
       "output_type": "stream",
       "stream": "stdout",
       "text": [
        "\r",
        "  Downloading basemap-1.0.7.tar.gz (129.7MB):   6%  8.4MB\r",
        "  Downloading basemap-1.0.7.tar.gz (129.7MB):   6%  8.4MB\r",
        "  Downloading basemap-1.0.7.tar.gz (129.7MB):   6%  8.4MB\r",
        "  Downloading basemap-1.0.7.tar.gz (129.7MB):   6%  8.4MB\r",
        "  Downloading basemap-1.0.7.tar.gz (129.7MB):   6%  8.4MB\r",
        "  Downloading basemap-1.0.7.tar.gz (129.7MB):   6%  8.4MB\r",
        "  Downloading basemap-1.0.7.tar.gz (129.7MB):   6%  8.4MB\r",
        "  Downloading basemap-1.0.7.tar.gz (129.7MB):   6%  8.4MB\r",
        "  Downloading basemap-1.0.7.tar.gz (129.7MB):   6%  8.4MB\r",
        "  Downloading basemap-1.0.7.tar.gz (129.7MB):   6%  8.4MB\r",
        "  Downloading basemap-1.0.7.tar.gz (129.7MB):   6%  8.4MB\r",
        "  Downloading basemap-1.0.7.tar.gz (129.7MB):   6%  8.4MB\r",
        "  Downloading basemap-1.0.7.tar.gz (129.7MB):   6%  8.4MB\r",
        "  Downloading basemap-1.0.7.tar.gz (129.7MB):   6%  8.4MB\r",
        "  Downloading basemap-1.0.7.tar.gz (129.7MB):   6%  8.4MB\r",
        "  Downloading basemap-1.0.7.tar.gz (129.7MB):   6%  8.4MB"
       ]
      },
      {
       "output_type": "stream",
       "stream": "stdout",
       "text": [
        "\r",
        "  Downloading basemap-1.0.7.tar.gz (129.7MB):   6%  8.4MB\r",
        "  Downloading basemap-1.0.7.tar.gz (129.7MB):   6%  8.4MB\r",
        "  Downloading basemap-1.0.7.tar.gz (129.7MB):   6%  8.4MB\r",
        "  Downloading basemap-1.0.7.tar.gz (129.7MB):   6%  8.5MB\r",
        "  Downloading basemap-1.0.7.tar.gz (129.7MB):   6%  8.5MB"
       ]
      },
      {
       "output_type": "stream",
       "stream": "stdout",
       "text": [
        "\r",
        "  Downloading basemap-1.0.7.tar.gz (129.7MB):   6%  8.5MB\r",
        "  Downloading basemap-1.0.7.tar.gz (129.7MB):   6%  8.5MB\r",
        "  Downloading basemap-1.0.7.tar.gz (129.7MB):   6%  8.5MB\r",
        "  Downloading basemap-1.0.7.tar.gz (129.7MB):   6%  8.5MB\r",
        "  Downloading basemap-1.0.7.tar.gz (129.7MB):   6%  8.5MB\r",
        "  Downloading basemap-1.0.7.tar.gz (129.7MB):   6%  8.5MB\r",
        "  Downloading basemap-1.0.7.tar.gz (129.7MB):   6%  8.5MB\r",
        "  Downloading basemap-1.0.7.tar.gz (129.7MB):   6%  8.5MB\r",
        "  Downloading basemap-1.0.7.tar.gz (129.7MB):   6%  8.5MB\r",
        "  Downloading basemap-1.0.7.tar.gz (129.7MB):   6%  8.5MB\r",
        "  Downloading basemap-1.0.7.tar.gz (129.7MB):   6%  8.5MB\r",
        "  Downloading basemap-1.0.7.tar.gz (129.7MB):   6%  8.5MB\r",
        "  Downloading basemap-1.0.7.tar.gz (129.7MB):   6%  8.5MB\r",
        "  Downloading basemap-1.0.7.tar.gz (129.7MB):   6%  8.5MB\r",
        "  Downloading basemap-1.0.7.tar.gz (129.7MB):   6%  8.5MB\r",
        "  Downloading basemap-1.0.7.tar.gz (129.7MB):   6%  8.5MB\r",
        "  Downloading basemap-1.0.7.tar.gz (129.7MB):   6%  8.5MB\r",
        "  Downloading basemap-1.0.7.tar.gz (129.7MB):   6%  8.5MB\r",
        "  Downloading basemap-1.0.7.tar.gz (129.7MB):   6%  8.5MB\r",
        "  Downloading basemap-1.0.7.tar.gz (129.7MB):   6%  8.5MB\r",
        "  Downloading basemap-1.0.7.tar.gz (129.7MB):   6%  8.5MB\r",
        "  Downloading basemap-1.0.7.tar.gz (129.7MB):   6%  8.5MB\r",
        "  Downloading basemap-1.0.7.tar.gz (129.7MB):   6%  8.5MB\r",
        "  Downloading basemap-1.0.7.tar.gz (129.7MB):   6%  8.6MB"
       ]
      },
      {
       "output_type": "stream",
       "stream": "stdout",
       "text": [
        "\r",
        "  Downloading basemap-1.0.7.tar.gz (129.7MB):   6%  8.6MB\r",
        "  Downloading basemap-1.0.7.tar.gz (129.7MB):   6%  8.6MB\r",
        "  Downloading basemap-1.0.7.tar.gz (129.7MB):   6%  8.6MB\r",
        "  Downloading basemap-1.0.7.tar.gz (129.7MB):   6%  8.6MB\r",
        "  Downloading basemap-1.0.7.tar.gz (129.7MB):   6%  8.6MB\r",
        "  Downloading basemap-1.0.7.tar.gz (129.7MB):   6%  8.6MB\r",
        "  Downloading basemap-1.0.7.tar.gz (129.7MB):   6%  8.6MB\r",
        "  Downloading basemap-1.0.7.tar.gz (129.7MB):   6%  8.6MB\r",
        "  Downloading basemap-1.0.7.tar.gz (129.7MB):   6%  8.6MB\r",
        "  Downloading basemap-1.0.7.tar.gz (129.7MB):   6%  8.6MB\r",
        "  Downloading basemap-1.0.7.tar.gz (129.7MB):   6%  8.6MB\r",
        "  Downloading basemap-1.0.7.tar.gz (129.7MB):   6%  8.6MB\r",
        "  Downloading basemap-1.0.7.tar.gz (129.7MB):   6%  8.6MB\r",
        "  Downloading basemap-1.0.7.tar.gz (129.7MB):   6%  8.6MB\r",
        "  Downloading basemap-1.0.7.tar.gz (129.7MB):   6%  8.6MB\r",
        "  Downloading basemap-1.0.7.tar.gz (129.7MB):   6%  8.6MB\r",
        "  Downloading basemap-1.0.7.tar.gz (129.7MB):   6%  8.6MB\r",
        "  Downloading basemap-1.0.7.tar.gz (129.7MB):   6%  8.6MB\r",
        "  Downloading basemap-1.0.7.tar.gz (129.7MB):   6%  8.6MB"
       ]
      },
      {
       "output_type": "stream",
       "stream": "stdout",
       "text": [
        "\r",
        "  Downloading basemap-1.0.7.tar.gz (129.7MB):   6%  8.6MB\r",
        "  Downloading basemap-1.0.7.tar.gz (129.7MB):   6%  8.6MB\r",
        "  Downloading basemap-1.0.7.tar.gz (129.7MB):   6%  8.6MB\r",
        "  Downloading basemap-1.0.7.tar.gz (129.7MB):   6%  8.6MB\r",
        "  Downloading basemap-1.0.7.tar.gz (129.7MB):   6%  8.7MB\r",
        "  Downloading basemap-1.0.7.tar.gz (129.7MB):   6%  8.7MB\r",
        "  Downloading basemap-1.0.7.tar.gz (129.7MB):   6%  8.7MB\r",
        "  Downloading basemap-1.0.7.tar.gz (129.7MB):   6%  8.7MB\r",
        "  Downloading basemap-1.0.7.tar.gz (129.7MB):   6%  8.7MB"
       ]
      },
      {
       "output_type": "stream",
       "stream": "stdout",
       "text": [
        "\r",
        "  Downloading basemap-1.0.7.tar.gz (129.7MB):   6%  8.7MB\r",
        "  Downloading basemap-1.0.7.tar.gz (129.7MB):   6%  8.7MB\r",
        "  Downloading basemap-1.0.7.tar.gz (129.7MB):   6%  8.7MB\r",
        "  Downloading basemap-1.0.7.tar.gz (129.7MB):   6%  8.7MB\r",
        "  Downloading basemap-1.0.7.tar.gz (129.7MB):   6%  8.7MB\r",
        "  Downloading basemap-1.0.7.tar.gz (129.7MB):   6%  8.7MB\r",
        "  Downloading basemap-1.0.7.tar.gz (129.7MB):   6%  8.7MB\r",
        "  Downloading basemap-1.0.7.tar.gz (129.7MB):   6%  8.7MB\r",
        "  Downloading basemap-1.0.7.tar.gz (129.7MB):   6%  8.7MB\r",
        "  Downloading basemap-1.0.7.tar.gz (129.7MB):   6%  8.7MB"
       ]
      },
      {
       "output_type": "stream",
       "stream": "stdout",
       "text": [
        "\r",
        "  Downloading basemap-1.0.7.tar.gz (129.7MB):   6%  8.7MB\r",
        "  Downloading basemap-1.0.7.tar.gz (129.7MB):   6%  8.7MB\r",
        "  Downloading basemap-1.0.7.tar.gz (129.7MB):   6%  8.7MB\r",
        "  Downloading basemap-1.0.7.tar.gz (129.7MB):   6%  8.7MB\r",
        "  Downloading basemap-1.0.7.tar.gz (129.7MB):   6%  8.7MB\r",
        "  Downloading basemap-1.0.7.tar.gz (129.7MB):   6%  8.7MB\r",
        "  Downloading basemap-1.0.7.tar.gz (129.7MB):   6%  8.7MB\r",
        "  Downloading basemap-1.0.7.tar.gz (129.7MB):   6%  8.7MB\r",
        "  Downloading basemap-1.0.7.tar.gz (129.7MB):   6%  8.7MB\r",
        "  Downloading basemap-1.0.7.tar.gz (129.7MB):   6%  8.7MB\r",
        "  Downloading basemap-1.0.7.tar.gz (129.7MB):   6%  8.8MB\r",
        "  Downloading basemap-1.0.7.tar.gz (129.7MB):   6%  8.8MB\r",
        "  Downloading basemap-1.0.7.tar.gz (129.7MB):   6%  8.8MB\r",
        "  Downloading basemap-1.0.7.tar.gz (129.7MB):   6%  8.8MB\r",
        "  Downloading basemap-1.0.7.tar.gz (129.7MB):   6%  8.8MB\r",
        "  Downloading basemap-1.0.7.tar.gz (129.7MB):   6%  8.8MB\r",
        "  Downloading basemap-1.0.7.tar.gz (129.7MB):   6%  8.8MB\r",
        "  Downloading basemap-1.0.7.tar.gz (129.7MB):   6%  8.8MB\r",
        "  Downloading basemap-1.0.7.tar.gz (129.7MB):   6%  8.8MB"
       ]
      },
      {
       "output_type": "stream",
       "stream": "stdout",
       "text": [
        "\r",
        "  Downloading basemap-1.0.7.tar.gz (129.7MB):   6%  8.8MB\r",
        "  Downloading basemap-1.0.7.tar.gz (129.7MB):   6%  8.8MB\r",
        "  Downloading basemap-1.0.7.tar.gz (129.7MB):   6%  8.8MB\r",
        "  Downloading basemap-1.0.7.tar.gz (129.7MB):   6%  8.8MB\r",
        "  Downloading basemap-1.0.7.tar.gz (129.7MB):   6%  8.8MB"
       ]
      },
      {
       "output_type": "stream",
       "stream": "stdout",
       "text": [
        "\r",
        "  Downloading basemap-1.0.7.tar.gz (129.7MB):   6%  8.8MB\r",
        "  Downloading basemap-1.0.7.tar.gz (129.7MB):   6%  8.8MB\r",
        "  Downloading basemap-1.0.7.tar.gz (129.7MB):   6%  8.8MB\r",
        "  Downloading basemap-1.0.7.tar.gz (129.7MB):   6%  8.8MB\r",
        "  Downloading basemap-1.0.7.tar.gz (129.7MB):   6%  8.8MB\r",
        "  Downloading basemap-1.0.7.tar.gz (129.7MB):   6%  8.8MB\r",
        "  Downloading basemap-1.0.7.tar.gz (129.7MB):   6%  8.8MB\r",
        "  Downloading basemap-1.0.7.tar.gz (129.7MB):   6%  8.8MB\r",
        "  Downloading basemap-1.0.7.tar.gz (129.7MB):   6%  8.8MB\r",
        "  Downloading basemap-1.0.7.tar.gz (129.7MB):   6%  8.8MB\r",
        "  Downloading basemap-1.0.7.tar.gz (129.7MB):   6%  8.9MB\r",
        "  Downloading basemap-1.0.7.tar.gz (129.7MB):   6%  8.9MB\r",
        "  Downloading basemap-1.0.7.tar.gz (129.7MB):   6%  8.9MB\r",
        "  Downloading basemap-1.0.7.tar.gz (129.7MB):   6%  8.9MB\r",
        "  Downloading basemap-1.0.7.tar.gz (129.7MB):   6%  8.9MB\r",
        "  Downloading basemap-1.0.7.tar.gz (129.7MB):   6%  8.9MB\r",
        "  Downloading basemap-1.0.7.tar.gz (129.7MB):   6%  8.9MB\r",
        "  Downloading basemap-1.0.7.tar.gz (129.7MB):   6%  8.9MB\r",
        "  Downloading basemap-1.0.7.tar.gz (129.7MB):   6%  8.9MB\r",
        "  Downloading basemap-1.0.7.tar.gz (129.7MB):   6%  8.9MB\r",
        "  Downloading basemap-1.0.7.tar.gz (129.7MB):   6%  8.9MB\r",
        "  Downloading basemap-1.0.7.tar.gz (129.7MB):   6%  8.9MB"
       ]
      },
      {
       "output_type": "stream",
       "stream": "stdout",
       "text": [
        "\r",
        "  Downloading basemap-1.0.7.tar.gz (129.7MB):   6%  8.9MB\r",
        "  Downloading basemap-1.0.7.tar.gz (129.7MB):   6%  8.9MB\r",
        "  Downloading basemap-1.0.7.tar.gz (129.7MB):   6%  8.9MB"
       ]
      },
      {
       "output_type": "stream",
       "stream": "stdout",
       "text": [
        "\r",
        "  Downloading basemap-1.0.7.tar.gz (129.7MB):   6%  8.9MB\r",
        "  Downloading basemap-1.0.7.tar.gz (129.7MB):   6%  8.9MB\r",
        "  Downloading basemap-1.0.7.tar.gz (129.7MB):   6%  8.9MB\r",
        "  Downloading basemap-1.0.7.tar.gz (129.7MB):   6%  8.9MB\r",
        "  Downloading basemap-1.0.7.tar.gz (129.7MB):   6%  8.9MB\r",
        "  Downloading basemap-1.0.7.tar.gz (129.7MB):   6%  8.9MB\r",
        "  Downloading basemap-1.0.7.tar.gz (129.7MB):   6%  8.9MB\r",
        "  Downloading basemap-1.0.7.tar.gz (129.7MB):   6%  8.9MB\r",
        "  Downloading basemap-1.0.7.tar.gz (129.7MB):   6%  8.9MB\r",
        "  Downloading basemap-1.0.7.tar.gz (129.7MB):   6%  8.9MB\r",
        "  Downloading basemap-1.0.7.tar.gz (129.7MB):   6%  9.0MB\r",
        "  Downloading basemap-1.0.7.tar.gz (129.7MB):   6%  9.0MB\r",
        "  Downloading basemap-1.0.7.tar.gz (129.7MB):   6%  9.0MB\r",
        "  Downloading basemap-1.0.7.tar.gz (129.7MB):   6%  9.0MB\r",
        "  Downloading basemap-1.0.7.tar.gz (129.7MB):   6%  9.0MB\r",
        "  Downloading basemap-1.0.7.tar.gz (129.7MB):   6%  9.0MB\r",
        "  Downloading basemap-1.0.7.tar.gz (129.7MB):   6%  9.0MB\r",
        "  Downloading basemap-1.0.7.tar.gz (129.7MB):   6%  9.0MB\r",
        "  Downloading basemap-1.0.7.tar.gz (129.7MB):   6%  9.0MB\r",
        "  Downloading basemap-1.0.7.tar.gz (129.7MB):   6%  9.0MB"
       ]
      },
      {
       "output_type": "stream",
       "stream": "stdout",
       "text": [
        "\r",
        "  Downloading basemap-1.0.7.tar.gz (129.7MB):   6%  9.0MB\r",
        "  Downloading basemap-1.0.7.tar.gz (129.7MB):   6%  9.0MB\r",
        "  Downloading basemap-1.0.7.tar.gz (129.7MB):   6%  9.0MB\r",
        "  Downloading basemap-1.0.7.tar.gz (129.7MB):   6%  9.0MB\r",
        "  Downloading basemap-1.0.7.tar.gz (129.7MB):   6%  9.0MB\r",
        "  Downloading basemap-1.0.7.tar.gz (129.7MB):   6%  9.0MB\r",
        "  Downloading basemap-1.0.7.tar.gz (129.7MB):   6%  9.0MB\r",
        "  Downloading basemap-1.0.7.tar.gz (129.7MB):   6%  9.0MB\r",
        "  Downloading basemap-1.0.7.tar.gz (129.7MB):   6%  9.0MB"
       ]
      },
      {
       "output_type": "stream",
       "stream": "stdout",
       "text": [
        "\r",
        "  Downloading basemap-1.0.7.tar.gz (129.7MB):   6%  9.0MB\r",
        "  Downloading basemap-1.0.7.tar.gz (129.7MB):   6%  9.0MB\r",
        "  Downloading basemap-1.0.7.tar.gz (129.7MB):   6%  9.0MB\r",
        "  Downloading basemap-1.0.7.tar.gz (129.7MB):   6%  9.0MB\r",
        "  Downloading basemap-1.0.7.tar.gz (129.7MB):   6%  9.0MB\r",
        "  Downloading basemap-1.0.7.tar.gz (129.7MB):   6%  9.1MB\r",
        "  Downloading basemap-1.0.7.tar.gz (129.7MB):   6%  9.1MB\r",
        "  Downloading basemap-1.0.7.tar.gz (129.7MB):   6%  9.1MB\r",
        "  Downloading basemap-1.0.7.tar.gz (129.7MB):   6%  9.1MB\r",
        "  Downloading basemap-1.0.7.tar.gz (129.7MB):   6%  9.1MB"
       ]
      },
      {
       "output_type": "stream",
       "stream": "stdout",
       "text": [
        "\r",
        "  Downloading basemap-1.0.7.tar.gz (129.7MB):   6%  9.1MB\r",
        "  Downloading basemap-1.0.7.tar.gz (129.7MB):   6%  9.1MB\r",
        "  Downloading basemap-1.0.7.tar.gz (129.7MB):   7%  9.1MB\r",
        "  Downloading basemap-1.0.7.tar.gz (129.7MB):   7%  9.1MB\r",
        "  Downloading basemap-1.0.7.tar.gz (129.7MB):   7%  9.1MB\r",
        "  Downloading basemap-1.0.7.tar.gz (129.7MB):   7%  9.1MB\r",
        "  Downloading basemap-1.0.7.tar.gz (129.7MB):   7%  9.1MB\r",
        "  Downloading basemap-1.0.7.tar.gz (129.7MB):   7%  9.1MB\r",
        "  Downloading basemap-1.0.7.tar.gz (129.7MB):   7%  9.1MB\r",
        "  Downloading basemap-1.0.7.tar.gz (129.7MB):   7%  9.1MB\r",
        "  Downloading basemap-1.0.7.tar.gz (129.7MB):   7%  9.1MB\r",
        "  Downloading basemap-1.0.7.tar.gz (129.7MB):   7%  9.1MB\r",
        "  Downloading basemap-1.0.7.tar.gz (129.7MB):   7%  9.1MB\r",
        "  Downloading basemap-1.0.7.tar.gz (129.7MB):   7%  9.1MB\r",
        "  Downloading basemap-1.0.7.tar.gz (129.7MB):   7%  9.1MB\r",
        "  Downloading basemap-1.0.7.tar.gz (129.7MB):   7%  9.1MB\r",
        "  Downloading basemap-1.0.7.tar.gz (129.7MB):   7%  9.1MB\r",
        "  Downloading basemap-1.0.7.tar.gz (129.7MB):   7%  9.1MB\r",
        "  Downloading basemap-1.0.7.tar.gz (129.7MB):   7%  9.1MB\r",
        "  Downloading basemap-1.0.7.tar.gz (129.7MB):   7%  9.2MB"
       ]
      },
      {
       "output_type": "stream",
       "stream": "stdout",
       "text": [
        "\r",
        "  Downloading basemap-1.0.7.tar.gz (129.7MB):   7%  9.2MB\r",
        "  Downloading basemap-1.0.7.tar.gz (129.7MB):   7%  9.2MB\r",
        "  Downloading basemap-1.0.7.tar.gz (129.7MB):   7%  9.2MB\r",
        "  Downloading basemap-1.0.7.tar.gz (129.7MB):   7%  9.2MB\r",
        "  Downloading basemap-1.0.7.tar.gz (129.7MB):   7%  9.2MB"
       ]
      },
      {
       "output_type": "stream",
       "stream": "stdout",
       "text": [
        "\r",
        "  Downloading basemap-1.0.7.tar.gz (129.7MB):   7%  9.2MB\r",
        "  Downloading basemap-1.0.7.tar.gz (129.7MB):   7%  9.2MB\r",
        "  Downloading basemap-1.0.7.tar.gz (129.7MB):   7%  9.2MB\r",
        "  Downloading basemap-1.0.7.tar.gz (129.7MB):   7%  9.2MB\r",
        "  Downloading basemap-1.0.7.tar.gz (129.7MB):   7%  9.2MB\r",
        "  Downloading basemap-1.0.7.tar.gz (129.7MB):   7%  9.2MB\r",
        "  Downloading basemap-1.0.7.tar.gz (129.7MB):   7%  9.2MB\r",
        "  Downloading basemap-1.0.7.tar.gz (129.7MB):   7%  9.2MB\r",
        "  Downloading basemap-1.0.7.tar.gz (129.7MB):   7%  9.2MB\r",
        "  Downloading basemap-1.0.7.tar.gz (129.7MB):   7%  9.2MB\r",
        "  Downloading basemap-1.0.7.tar.gz (129.7MB):   7%  9.2MB\r",
        "  Downloading basemap-1.0.7.tar.gz (129.7MB):   7%  9.2MB\r",
        "  Downloading basemap-1.0.7.tar.gz (129.7MB):   7%  9.2MB\r",
        "  Downloading basemap-1.0.7.tar.gz (129.7MB):   7%  9.2MB\r",
        "  Downloading basemap-1.0.7.tar.gz (129.7MB):   7%  9.2MB\r",
        "  Downloading basemap-1.0.7.tar.gz (129.7MB):   7%  9.2MB\r",
        "  Downloading basemap-1.0.7.tar.gz (129.7MB):   7%  9.2MB\r",
        "  Downloading basemap-1.0.7.tar.gz (129.7MB):   7%  9.2MB\r",
        "  Downloading basemap-1.0.7.tar.gz (129.7MB):   7%  9.2MB\r",
        "  Downloading basemap-1.0.7.tar.gz (129.7MB):   7%  9.3MB\r",
        "  Downloading basemap-1.0.7.tar.gz (129.7MB):   7%  9.3MB"
       ]
      },
      {
       "output_type": "stream",
       "stream": "stdout",
       "text": [
        "\r",
        "  Downloading basemap-1.0.7.tar.gz (129.7MB):   7%  9.3MB\r",
        "  Downloading basemap-1.0.7.tar.gz (129.7MB):   7%  9.3MB\r",
        "  Downloading basemap-1.0.7.tar.gz (129.7MB):   7%  9.3MB\r",
        "  Downloading basemap-1.0.7.tar.gz (129.7MB):   7%  9.3MB"
       ]
      },
      {
       "output_type": "stream",
       "stream": "stdout",
       "text": [
        "\r",
        "  Downloading basemap-1.0.7.tar.gz (129.7MB):   7%  9.3MB\r",
        "  Downloading basemap-1.0.7.tar.gz (129.7MB):   7%  9.3MB\r",
        "  Downloading basemap-1.0.7.tar.gz (129.7MB):   7%  9.3MB\r",
        "  Downloading basemap-1.0.7.tar.gz (129.7MB):   7%  9.3MB\r",
        "  Downloading basemap-1.0.7.tar.gz (129.7MB):   7%  9.3MB\r",
        "  Downloading basemap-1.0.7.tar.gz (129.7MB):   7%  9.3MB\r",
        "  Downloading basemap-1.0.7.tar.gz (129.7MB):   7%  9.3MB\r",
        "  Downloading basemap-1.0.7.tar.gz (129.7MB):   7%  9.3MB\r",
        "  Downloading basemap-1.0.7.tar.gz (129.7MB):   7%  9.3MB\r",
        "  Downloading basemap-1.0.7.tar.gz (129.7MB):   7%  9.3MB\r",
        "  Downloading basemap-1.0.7.tar.gz (129.7MB):   7%  9.3MB\r",
        "  Downloading basemap-1.0.7.tar.gz (129.7MB):   7%  9.3MB\r",
        "  Downloading basemap-1.0.7.tar.gz (129.7MB):   7%  9.3MB\r",
        "  Downloading basemap-1.0.7.tar.gz (129.7MB):   7%  9.3MB"
       ]
      },
      {
       "output_type": "stream",
       "stream": "stdout",
       "text": [
        "\r",
        "  Downloading basemap-1.0.7.tar.gz (129.7MB):   7%  9.3MB\r",
        "  Downloading basemap-1.0.7.tar.gz (129.7MB):   7%  9.3MB\r",
        "  Downloading basemap-1.0.7.tar.gz (129.7MB):   7%  9.3MB\r",
        "  Downloading basemap-1.0.7.tar.gz (129.7MB):   7%  9.3MB\r",
        "  Downloading basemap-1.0.7.tar.gz (129.7MB):   7%  9.4MB\r",
        "  Downloading basemap-1.0.7.tar.gz (129.7MB):   7%  9.4MB\r",
        "  Downloading basemap-1.0.7.tar.gz (129.7MB):   7%  9.4MB\r",
        "  Downloading basemap-1.0.7.tar.gz (129.7MB):   7%  9.4MB\r",
        "  Downloading basemap-1.0.7.tar.gz (129.7MB):   7%  9.4MB\r",
        "  Downloading basemap-1.0.7.tar.gz (129.7MB):   7%  9.4MB\r",
        "  Downloading basemap-1.0.7.tar.gz (129.7MB):   7%  9.4MB\r",
        "  Downloading basemap-1.0.7.tar.gz (129.7MB):   7%  9.4MB\r",
        "  Downloading basemap-1.0.7.tar.gz (129.7MB):   7%  9.4MB\r",
        "  Downloading basemap-1.0.7.tar.gz (129.7MB):   7%  9.4MB\r",
        "  Downloading basemap-1.0.7.tar.gz (129.7MB):   7%  9.4MB\r",
        "  Downloading basemap-1.0.7.tar.gz (129.7MB):   7%  9.4MB"
       ]
      },
      {
       "output_type": "stream",
       "stream": "stdout",
       "text": [
        "\r",
        "  Downloading basemap-1.0.7.tar.gz (129.7MB):   7%  9.4MB\r",
        "  Downloading basemap-1.0.7.tar.gz (129.7MB):   7%  9.4MB\r",
        "  Downloading basemap-1.0.7.tar.gz (129.7MB):   7%  9.4MB\r",
        "  Downloading basemap-1.0.7.tar.gz (129.7MB):   7%  9.4MB\r",
        "  Downloading basemap-1.0.7.tar.gz (129.7MB):   7%  9.4MB\r",
        "  Downloading basemap-1.0.7.tar.gz (129.7MB):   7%  9.4MB\r",
        "  Downloading basemap-1.0.7.tar.gz (129.7MB):   7%  9.4MB\r",
        "  Downloading basemap-1.0.7.tar.gz (129.7MB):   7%  9.4MB\r",
        "  Downloading basemap-1.0.7.tar.gz (129.7MB):   7%  9.4MB\r",
        "  Downloading basemap-1.0.7.tar.gz (129.7MB):   7%  9.4MB\r",
        "  Downloading basemap-1.0.7.tar.gz (129.7MB):   7%  9.4MB"
       ]
      },
      {
       "output_type": "stream",
       "stream": "stdout",
       "text": [
        "\r",
        "  Downloading basemap-1.0.7.tar.gz (129.7MB):   7%  9.4MB\r",
        "  Downloading basemap-1.0.7.tar.gz (129.7MB):   7%  9.4MB\r",
        "  Downloading basemap-1.0.7.tar.gz (129.7MB):   7%  9.5MB\r",
        "  Downloading basemap-1.0.7.tar.gz (129.7MB):   7%  9.5MB\r",
        "  Downloading basemap-1.0.7.tar.gz (129.7MB):   7%  9.5MB\r",
        "  Downloading basemap-1.0.7.tar.gz (129.7MB):   7%  9.5MB\r",
        "  Downloading basemap-1.0.7.tar.gz (129.7MB):   7%  9.5MB\r",
        "  Downloading basemap-1.0.7.tar.gz (129.7MB):   7%  9.5MB\r",
        "  Downloading basemap-1.0.7.tar.gz (129.7MB):   7%  9.5MB\r",
        "  Downloading basemap-1.0.7.tar.gz (129.7MB):   7%  9.5MB\r",
        "  Downloading basemap-1.0.7.tar.gz (129.7MB):   7%  9.5MB\r",
        "  Downloading basemap-1.0.7.tar.gz (129.7MB):   7%  9.5MB\r",
        "  Downloading basemap-1.0.7.tar.gz (129.7MB):   7%  9.5MB\r",
        "  Downloading basemap-1.0.7.tar.gz (129.7MB):   7%  9.5MB\r",
        "  Downloading basemap-1.0.7.tar.gz (129.7MB):   7%  9.5MB\r",
        "  Downloading basemap-1.0.7.tar.gz (129.7MB):   7%  9.5MB\r",
        "  Downloading basemap-1.0.7.tar.gz (129.7MB):   7%  9.5MB\r",
        "  Downloading basemap-1.0.7.tar.gz (129.7MB):   7%  9.5MB\r",
        "  Downloading basemap-1.0.7.tar.gz (129.7MB):   7%  9.5MB\r",
        "  Downloading basemap-1.0.7.tar.gz (129.7MB):   7%  9.5MB"
       ]
      },
      {
       "output_type": "stream",
       "stream": "stdout",
       "text": [
        "\r",
        "  Downloading basemap-1.0.7.tar.gz (129.7MB):   7%  9.5MB\r",
        "  Downloading basemap-1.0.7.tar.gz (129.7MB):   7%  9.5MB\r",
        "  Downloading basemap-1.0.7.tar.gz (129.7MB):   7%  9.5MB\r",
        "  Downloading basemap-1.0.7.tar.gz (129.7MB):   7%  9.5MB\r",
        "  Downloading basemap-1.0.7.tar.gz (129.7MB):   7%  9.5MB"
       ]
      },
      {
       "output_type": "stream",
       "stream": "stdout",
       "text": [
        "\r",
        "  Downloading basemap-1.0.7.tar.gz (129.7MB):   7%  9.5MB\r",
        "  Downloading basemap-1.0.7.tar.gz (129.7MB):   7%  9.6MB\r",
        "  Downloading basemap-1.0.7.tar.gz (129.7MB):   7%  9.6MB\r",
        "  Downloading basemap-1.0.7.tar.gz (129.7MB):   7%  9.6MB\r",
        "  Downloading basemap-1.0.7.tar.gz (129.7MB):   7%  9.6MB\r",
        "  Downloading basemap-1.0.7.tar.gz (129.7MB):   7%  9.6MB\r",
        "  Downloading basemap-1.0.7.tar.gz (129.7MB):   7%  9.6MB\r",
        "  Downloading basemap-1.0.7.tar.gz (129.7MB):   7%  9.6MB\r",
        "  Downloading basemap-1.0.7.tar.gz (129.7MB):   7%  9.6MB"
       ]
      },
      {
       "output_type": "stream",
       "stream": "stdout",
       "text": [
        "\r",
        "  Downloading basemap-1.0.7.tar.gz (129.7MB):   7%  9.6MB\r",
        "  Downloading basemap-1.0.7.tar.gz (129.7MB):   7%  9.6MB\r",
        "  Downloading basemap-1.0.7.tar.gz (129.7MB):   7%  9.6MB\r",
        "  Downloading basemap-1.0.7.tar.gz (129.7MB):   7%  9.6MB\r",
        "  Downloading basemap-1.0.7.tar.gz (129.7MB):   7%  9.6MB\r",
        "  Downloading basemap-1.0.7.tar.gz (129.7MB):   7%  9.6MB\r",
        "  Downloading basemap-1.0.7.tar.gz (129.7MB):   7%  9.6MB\r",
        "  Downloading basemap-1.0.7.tar.gz (129.7MB):   7%  9.6MB\r",
        "  Downloading basemap-1.0.7.tar.gz (129.7MB):   7%  9.6MB\r",
        "  Downloading basemap-1.0.7.tar.gz (129.7MB):   7%  9.6MB\r",
        "  Downloading basemap-1.0.7.tar.gz (129.7MB):   7%  9.6MB\r",
        "  Downloading basemap-1.0.7.tar.gz (129.7MB):   7%  9.6MB\r",
        "  Downloading basemap-1.0.7.tar.gz (129.7MB):   7%  9.6MB\r",
        "  Downloading basemap-1.0.7.tar.gz (129.7MB):   7%  9.6MB\r",
        "  Downloading basemap-1.0.7.tar.gz (129.7MB):   7%  9.6MB\r",
        "  Downloading basemap-1.0.7.tar.gz (129.7MB):   7%  9.6MB"
       ]
      },
      {
       "output_type": "stream",
       "stream": "stdout",
       "text": [
        "\r",
        "  Downloading basemap-1.0.7.tar.gz (129.7MB):   7%  9.7MB\r",
        "  Downloading basemap-1.0.7.tar.gz (129.7MB):   7%  9.7MB\r",
        "  Downloading basemap-1.0.7.tar.gz (129.7MB):   7%  9.7MB\r",
        "  Downloading basemap-1.0.7.tar.gz (129.7MB):   7%  9.7MB\r",
        "  Downloading basemap-1.0.7.tar.gz (129.7MB):   7%  9.7MB\r",
        "  Downloading basemap-1.0.7.tar.gz (129.7MB):   7%  9.7MB\r",
        "  Downloading basemap-1.0.7.tar.gz (129.7MB):   7%  9.7MB\r",
        "  Downloading basemap-1.0.7.tar.gz (129.7MB):   7%  9.7MB\r",
        "  Downloading basemap-1.0.7.tar.gz (129.7MB):   7%  9.7MB\r",
        "  Downloading basemap-1.0.7.tar.gz (129.7MB):   7%  9.7MB\r",
        "  Downloading basemap-1.0.7.tar.gz (129.7MB):   7%  9.7MB\r",
        "  Downloading basemap-1.0.7.tar.gz (129.7MB):   7%  9.7MB\r",
        "  Downloading basemap-1.0.7.tar.gz (129.7MB):   7%  9.7MB\r",
        "  Downloading basemap-1.0.7.tar.gz (129.7MB):   7%  9.7MB"
       ]
      },
      {
       "output_type": "stream",
       "stream": "stdout",
       "text": [
        "\r",
        "  Downloading basemap-1.0.7.tar.gz (129.7MB):   7%  9.7MB\r",
        "  Downloading basemap-1.0.7.tar.gz (129.7MB):   7%  9.7MB\r",
        "  Downloading basemap-1.0.7.tar.gz (129.7MB):   7%  9.7MB\r",
        "  Downloading basemap-1.0.7.tar.gz (129.7MB):   7%  9.7MB\r",
        "  Downloading basemap-1.0.7.tar.gz (129.7MB):   7%  9.7MB\r",
        "  Downloading basemap-1.0.7.tar.gz (129.7MB):   7%  9.7MB\r",
        "  Downloading basemap-1.0.7.tar.gz (129.7MB):   7%  9.7MB\r",
        "  Downloading basemap-1.0.7.tar.gz (129.7MB):   7%  9.7MB\r",
        "  Downloading basemap-1.0.7.tar.gz (129.7MB):   7%  9.7MB\r",
        "  Downloading basemap-1.0.7.tar.gz (129.7MB):   7%  9.7MB\r",
        "  Downloading basemap-1.0.7.tar.gz (129.7MB):   7%  9.7MB\r",
        "  Downloading basemap-1.0.7.tar.gz (129.7MB):   7%  9.8MB\r",
        "  Downloading basemap-1.0.7.tar.gz (129.7MB):   7%  9.8MB\r",
        "  Downloading basemap-1.0.7.tar.gz (129.7MB):   7%  9.8MB\r",
        "  Downloading basemap-1.0.7.tar.gz (129.7MB):   7%  9.8MB\r",
        "  Downloading basemap-1.0.7.tar.gz (129.7MB):   7%  9.8MB\r",
        "  Downloading basemap-1.0.7.tar.gz (129.7MB):   7%  9.8MB"
       ]
      },
      {
       "output_type": "stream",
       "stream": "stdout",
       "text": [
        "\r",
        "  Downloading basemap-1.0.7.tar.gz (129.7MB):   7%  9.8MB\r",
        "  Downloading basemap-1.0.7.tar.gz (129.7MB):   7%  9.8MB\r",
        "  Downloading basemap-1.0.7.tar.gz (129.7MB):   7%  9.8MB\r",
        "  Downloading basemap-1.0.7.tar.gz (129.7MB):   7%  9.8MB\r",
        "  Downloading basemap-1.0.7.tar.gz (129.7MB):   7%  9.8MB\r",
        "  Downloading basemap-1.0.7.tar.gz (129.7MB):   7%  9.8MB\r",
        "  Downloading basemap-1.0.7.tar.gz (129.7MB):   7%  9.8MB\r",
        "  Downloading basemap-1.0.7.tar.gz (129.7MB):   7%  9.8MB\r",
        "  Downloading basemap-1.0.7.tar.gz (129.7MB):   7%  9.8MB\r",
        "  Downloading basemap-1.0.7.tar.gz (129.7MB):   7%  9.8MB"
       ]
      },
      {
       "output_type": "stream",
       "stream": "stdout",
       "text": [
        "\r",
        "  Downloading basemap-1.0.7.tar.gz (129.7MB):   7%  9.8MB\r",
        "  Downloading basemap-1.0.7.tar.gz (129.7MB):   7%  9.8MB\r",
        "  Downloading basemap-1.0.7.tar.gz (129.7MB):   7%  9.8MB\r",
        "  Downloading basemap-1.0.7.tar.gz (129.7MB):   7%  9.8MB\r",
        "  Downloading basemap-1.0.7.tar.gz (129.7MB):   7%  9.8MB\r",
        "  Downloading basemap-1.0.7.tar.gz (129.7MB):   7%  9.8MB\r",
        "  Downloading basemap-1.0.7.tar.gz (129.7MB):   7%  9.8MB\r",
        "  Downloading basemap-1.0.7.tar.gz (129.7MB):   7%  9.8MB\r",
        "  Downloading basemap-1.0.7.tar.gz (129.7MB):   7%  9.9MB\r",
        "  Downloading basemap-1.0.7.tar.gz (129.7MB):   7%  9.9MB"
       ]
      },
      {
       "output_type": "stream",
       "stream": "stdout",
       "text": [
        "\r",
        "  Downloading basemap-1.0.7.tar.gz (129.7MB):   7%  9.9MB\r",
        "  Downloading basemap-1.0.7.tar.gz (129.7MB):   7%  9.9MB\r",
        "  Downloading basemap-1.0.7.tar.gz (129.7MB):   7%  9.9MB\r",
        "  Downloading basemap-1.0.7.tar.gz (129.7MB):   7%  9.9MB\r",
        "  Downloading basemap-1.0.7.tar.gz (129.7MB):   7%  9.9MB\r",
        "  Downloading basemap-1.0.7.tar.gz (129.7MB):   7%  9.9MB\r",
        "  Downloading basemap-1.0.7.tar.gz (129.7MB):   7%  9.9MB\r",
        "  Downloading basemap-1.0.7.tar.gz (129.7MB):   7%  9.9MB\r",
        "  Downloading basemap-1.0.7.tar.gz (129.7MB):   7%  9.9MB\r",
        "  Downloading basemap-1.0.7.tar.gz (129.7MB):   7%  9.9MB\r",
        "  Downloading basemap-1.0.7.tar.gz (129.7MB):   7%  9.9MB\r",
        "  Downloading basemap-1.0.7.tar.gz (129.7MB):   7%  9.9MB\r",
        "  Downloading basemap-1.0.7.tar.gz (129.7MB):   7%  9.9MB\r",
        "  Downloading basemap-1.0.7.tar.gz (129.7MB):   7%  9.9MB\r",
        "  Downloading basemap-1.0.7.tar.gz (129.7MB):   7%  9.9MB\r",
        "  Downloading basemap-1.0.7.tar.gz (129.7MB):   7%  9.9MB\r",
        "  Downloading basemap-1.0.7.tar.gz (129.7MB):   7%  9.9MB\r",
        "  Downloading basemap-1.0.7.tar.gz (129.7MB):   7%  9.9MB"
       ]
      },
      {
       "output_type": "stream",
       "stream": "stdout",
       "text": [
        "\r",
        "  Downloading basemap-1.0.7.tar.gz (129.7MB):   7%  9.9MB\r",
        "  Downloading basemap-1.0.7.tar.gz (129.7MB):   7%  9.9MB\r",
        "  Downloading basemap-1.0.7.tar.gz (129.7MB):   7%  9.9MB\r",
        "  Downloading basemap-1.0.7.tar.gz (129.7MB):   7%  9.9MB\r",
        "  Downloading basemap-1.0.7.tar.gz (129.7MB):   7%  9.9MB\r",
        "  Downloading basemap-1.0.7.tar.gz (129.7MB):   7%  10.0MB\r",
        "  Downloading basemap-1.0.7.tar.gz (129.7MB):   7%  10.0MB\r",
        "  Downloading basemap-1.0.7.tar.gz (129.7MB):   7%  10.0MB\r",
        "  Downloading basemap-1.0.7.tar.gz (129.7MB):   7%  10.0MB\r",
        "  Downloading basemap-1.0.7.tar.gz (129.7MB):   7%  10.0MB"
       ]
      },
      {
       "output_type": "stream",
       "stream": "stdout",
       "text": [
        "\r",
        "  Downloading basemap-1.0.7.tar.gz (129.7MB):   7%  10.0MB\r",
        "  Downloading basemap-1.0.7.tar.gz (129.7MB):   7%  10.0MB\r",
        "  Downloading basemap-1.0.7.tar.gz (129.7MB):   7%  10.0MB\r",
        "  Downloading basemap-1.0.7.tar.gz (129.7MB):   7%  10.0MB\r",
        "  Downloading basemap-1.0.7.tar.gz (129.7MB):   7%  10.0MB\r",
        "  Downloading basemap-1.0.7.tar.gz (129.7MB):   7%  10.0MB\r",
        "  Downloading basemap-1.0.7.tar.gz (129.7MB):   7%  10.0MB\r",
        "  Downloading basemap-1.0.7.tar.gz (129.7MB):   7%  10.0MB\r",
        "  Downloading basemap-1.0.7.tar.gz (129.7MB):   7%  10.0MB\r",
        "  Downloading basemap-1.0.7.tar.gz (129.7MB):   7%  10.0MB\r",
        "  Downloading basemap-1.0.7.tar.gz (129.7MB):   7%  10.0MB\r",
        "  Downloading basemap-1.0.7.tar.gz (129.7MB):   7%  10.0MB\r",
        "  Downloading basemap-1.0.7.tar.gz (129.7MB):   7%  10.0MB\r",
        "  Downloading basemap-1.0.7.tar.gz (129.7MB):   7%  10.0MB\r",
        "  Downloading basemap-1.0.7.tar.gz (129.7MB):   7%  10.0MB"
       ]
      },
      {
       "output_type": "stream",
       "stream": "stdout",
       "text": [
        "\r",
        "  Downloading basemap-1.0.7.tar.gz (129.7MB):   7%  10.0MB\r",
        "  Downloading basemap-1.0.7.tar.gz (129.7MB):   7%  10.0MB\r",
        "  Downloading basemap-1.0.7.tar.gz (129.7MB):   7%  10.0MB\r",
        "  Downloading basemap-1.0.7.tar.gz (129.7MB):   7%  10.0MB\r",
        "  Downloading basemap-1.0.7.tar.gz (129.7MB):   7%  10.1MB\r",
        "  Downloading basemap-1.0.7.tar.gz (129.7MB):   7%  10.1MB\r",
        "  Downloading basemap-1.0.7.tar.gz (129.7MB):   7%  10.1MB\r",
        "  Downloading basemap-1.0.7.tar.gz (129.7MB):   7%  10.1MB\r",
        "  Downloading basemap-1.0.7.tar.gz (129.7MB):   7%  10.1MB\r",
        "  Downloading basemap-1.0.7.tar.gz (129.7MB):   7%  10.1MB\r",
        "  Downloading basemap-1.0.7.tar.gz (129.7MB):   7%  10.1MB\r",
        "  Downloading basemap-1.0.7.tar.gz (129.7MB):   7%  10.1MB\r",
        "  Downloading basemap-1.0.7.tar.gz (129.7MB):   7%  10.1MB\r",
        "  Downloading basemap-1.0.7.tar.gz (129.7MB):   7%  10.1MB\r",
        "  Downloading basemap-1.0.7.tar.gz (129.7MB):   7%  10.1MB\r",
        "  Downloading basemap-1.0.7.tar.gz (129.7MB):   7%  10.1MB"
       ]
      },
      {
       "output_type": "stream",
       "stream": "stdout",
       "text": [
        "\r",
        "  Downloading basemap-1.0.7.tar.gz (129.7MB):   7%  10.1MB"
       ]
      },
      {
       "output_type": "stream",
       "stream": "stdout",
       "text": [
        "\r",
        "  Downloading basemap-1.0.7.tar.gz (129.7MB):   7%  10.1MB\r",
        "  Downloading basemap-1.0.7.tar.gz (129.7MB):   7%  10.1MB"
       ]
      },
      {
       "output_type": "stream",
       "stream": "stdout",
       "text": [
        "\r",
        "  Downloading basemap-1.0.7.tar.gz (129.7MB):   7%  10.1MB\r",
        "  Downloading basemap-1.0.7.tar.gz (129.7MB):   7%  10.1MB\r",
        "  Downloading basemap-1.0.7.tar.gz (129.7MB):   7%  10.1MB\r",
        "  Downloading basemap-1.0.7.tar.gz (129.7MB):   7%  10.1MB\r",
        "  Downloading basemap-1.0.7.tar.gz (129.7MB):   7%  10.1MB\r",
        "  Downloading basemap-1.0.7.tar.gz (129.7MB):   7%  10.1MB\r",
        "  Downloading basemap-1.0.7.tar.gz (129.7MB):   7%  10.1MB\r",
        "  Downloading basemap-1.0.7.tar.gz (129.7MB):   7%  10.1MB\r",
        "  Downloading basemap-1.0.7.tar.gz (129.7MB):   7%  10.1MB\r",
        "  Downloading basemap-1.0.7.tar.gz (129.7MB):   7%  10.1MB\r",
        "  Downloading basemap-1.0.7.tar.gz (129.7MB):   7%  10.2MB\r",
        "  Downloading basemap-1.0.7.tar.gz (129.7MB):   7%  10.2MB\r",
        "  Downloading basemap-1.0.7.tar.gz (129.7MB):   7%  10.2MB\r",
        "  Downloading basemap-1.0.7.tar.gz (129.7MB):   7%  10.2MB\r",
        "  Downloading basemap-1.0.7.tar.gz (129.7MB):   7%  10.2MB\r",
        "  Downloading basemap-1.0.7.tar.gz (129.7MB):   7%  10.2MB\r",
        "  Downloading basemap-1.0.7.tar.gz (129.7MB):   7%  10.2MB\r",
        "  Downloading basemap-1.0.7.tar.gz (129.7MB):   7%  10.2MB\r",
        "  Downloading basemap-1.0.7.tar.gz (129.7MB):   7%  10.2MB\r",
        "  Downloading basemap-1.0.7.tar.gz (129.7MB):   7%  10.2MB\r",
        "  Downloading basemap-1.0.7.tar.gz (129.7MB):   7%  10.2MB\r",
        "  Downloading basemap-1.0.7.tar.gz (129.7MB):   7%  10.2MB\r",
        "  Downloading basemap-1.0.7.tar.gz (129.7MB):   7%  10.2MB\r",
        "  Downloading basemap-1.0.7.tar.gz (129.7MB):   7%  10.2MB\r",
        "  Downloading basemap-1.0.7.tar.gz (129.7MB):   7%  10.2MB\r",
        "  Downloading basemap-1.0.7.tar.gz (129.7MB):   7%  10.2MB\r",
        "  Downloading basemap-1.0.7.tar.gz (129.7MB):   7%  10.2MB\r",
        "  Downloading basemap-1.0.7.tar.gz (129.7MB):   7%  10.2MB\r",
        "  Downloading basemap-1.0.7.tar.gz (129.7MB):   7%  10.2MB\r",
        "  Downloading basemap-1.0.7.tar.gz (129.7MB):   7%  10.2MB\r",
        "  Downloading basemap-1.0.7.tar.gz (129.7MB):   7%  10.2MB\r",
        "  Downloading basemap-1.0.7.tar.gz (129.7MB):   7%  10.2MB\r",
        "  Downloading basemap-1.0.7.tar.gz (129.7MB):   7%  10.2MB\r",
        "  Downloading basemap-1.0.7.tar.gz (129.7MB):   7%  10.2MB\r",
        "  Downloading basemap-1.0.7.tar.gz (129.7MB):   7%  10.3MB\r",
        "  Downloading basemap-1.0.7.tar.gz (129.7MB):   7%  10.3MB\r",
        "  Downloading basemap-1.0.7.tar.gz (129.7MB):   7%  10.3MB\r",
        "  Downloading basemap-1.0.7.tar.gz (129.7MB):   7%  10.3MB\r",
        "  Downloading basemap-1.0.7.tar.gz (129.7MB):   7%  10.3MB\r",
        "  Downloading basemap-1.0.7.tar.gz (129.7MB):   7%  10.3MB\r",
        "  Downloading basemap-1.0.7.tar.gz (129.7MB):   7%  10.3MB\r",
        "  Downloading basemap-1.0.7.tar.gz (129.7MB):   7%  10.3MB"
       ]
      },
      {
       "output_type": "stream",
       "stream": "stdout",
       "text": [
        "\r",
        "  Downloading basemap-1.0.7.tar.gz (129.7MB):   7%  10.3MB\r",
        "  Downloading basemap-1.0.7.tar.gz (129.7MB):   7%  10.3MB\r",
        "  Downloading basemap-1.0.7.tar.gz (129.7MB):   7%  10.3MB\r",
        "  Downloading basemap-1.0.7.tar.gz (129.7MB):   7%  10.3MB\r",
        "  Downloading basemap-1.0.7.tar.gz (129.7MB):   7%  10.3MB\r",
        "  Downloading basemap-1.0.7.tar.gz (129.7MB):   7%  10.3MB\r",
        "  Downloading basemap-1.0.7.tar.gz (129.7MB):   7%  10.3MB\r",
        "  Downloading basemap-1.0.7.tar.gz (129.7MB):   7%  10.3MB\r",
        "  Downloading basemap-1.0.7.tar.gz (129.7MB):   7%  10.3MB\r",
        "  Downloading basemap-1.0.7.tar.gz (129.7MB):   7%  10.3MB\r",
        "  Downloading basemap-1.0.7.tar.gz (129.7MB):   7%  10.3MB\r",
        "  Downloading basemap-1.0.7.tar.gz (129.7MB):   7%  10.3MB\r",
        "  Downloading basemap-1.0.7.tar.gz (129.7MB):   7%  10.3MB\r",
        "  Downloading basemap-1.0.7.tar.gz (129.7MB):   7%  10.3MB\r",
        "  Downloading basemap-1.0.7.tar.gz (129.7MB):   7%  10.3MB\r",
        "  Downloading basemap-1.0.7.tar.gz (129.7MB):   7%  10.3MB\r",
        "  Downloading basemap-1.0.7.tar.gz (129.7MB):   7%  10.4MB"
       ]
      },
      {
       "output_type": "stream",
       "stream": "stdout",
       "text": [
        "\r",
        "  Downloading basemap-1.0.7.tar.gz (129.7MB):   7%  10.4MB\r",
        "  Downloading basemap-1.0.7.tar.gz (129.7MB):   7%  10.4MB\r",
        "  Downloading basemap-1.0.7.tar.gz (129.7MB):   7%  10.4MB\r",
        "  Downloading basemap-1.0.7.tar.gz (129.7MB):   7%  10.4MB\r",
        "  Downloading basemap-1.0.7.tar.gz (129.7MB):   7%  10.4MB\r",
        "  Downloading basemap-1.0.7.tar.gz (129.7MB):   7%  10.4MB\r",
        "  Downloading basemap-1.0.7.tar.gz (129.7MB):   8%  10.4MB\r",
        "  Downloading basemap-1.0.7.tar.gz (129.7MB):   8%  10.4MB"
       ]
      },
      {
       "output_type": "stream",
       "stream": "stdout",
       "text": [
        "\r",
        "  Downloading basemap-1.0.7.tar.gz (129.7MB):   8%  10.4MB\r",
        "  Downloading basemap-1.0.7.tar.gz (129.7MB):   8%  10.4MB\r",
        "  Downloading basemap-1.0.7.tar.gz (129.7MB):   8%  10.4MB\r",
        "  Downloading basemap-1.0.7.tar.gz (129.7MB):   8%  10.4MB\r",
        "  Downloading basemap-1.0.7.tar.gz (129.7MB):   8%  10.4MB\r",
        "  Downloading basemap-1.0.7.tar.gz (129.7MB):   8%  10.4MB\r",
        "  Downloading basemap-1.0.7.tar.gz (129.7MB):   8%  10.4MB\r",
        "  Downloading basemap-1.0.7.tar.gz (129.7MB):   8%  10.4MB\r",
        "  Downloading basemap-1.0.7.tar.gz (129.7MB):   8%  10.4MB"
       ]
      },
      {
       "output_type": "stream",
       "stream": "stdout",
       "text": [
        "\r",
        "  Downloading basemap-1.0.7.tar.gz (129.7MB):   8%  10.4MB\r",
        "  Downloading basemap-1.0.7.tar.gz (129.7MB):   8%  10.4MB\r",
        "  Downloading basemap-1.0.7.tar.gz (129.7MB):   8%  10.4MB\r",
        "  Downloading basemap-1.0.7.tar.gz (129.7MB):   8%  10.4MB\r",
        "  Downloading basemap-1.0.7.tar.gz (129.7MB):   8%  10.4MB\r",
        "  Downloading basemap-1.0.7.tar.gz (129.7MB):   8%  10.4MB\r",
        "  Downloading basemap-1.0.7.tar.gz (129.7MB):   8%  10.4MB\r",
        "  Downloading basemap-1.0.7.tar.gz (129.7MB):   8%  10.5MB"
       ]
      },
      {
       "output_type": "stream",
       "stream": "stdout",
       "text": [
        "\r",
        "  Downloading basemap-1.0.7.tar.gz (129.7MB):   8%  10.5MB\r",
        "  Downloading basemap-1.0.7.tar.gz (129.7MB):   8%  10.5MB\r",
        "  Downloading basemap-1.0.7.tar.gz (129.7MB):   8%  10.5MB\r",
        "  Downloading basemap-1.0.7.tar.gz (129.7MB):   8%  10.5MB\r",
        "  Downloading basemap-1.0.7.tar.gz (129.7MB):   8%  10.5MB\r",
        "  Downloading basemap-1.0.7.tar.gz (129.7MB):   8%  10.5MB\r",
        "  Downloading basemap-1.0.7.tar.gz (129.7MB):   8%  10.5MB\r",
        "  Downloading basemap-1.0.7.tar.gz (129.7MB):   8%  10.5MB"
       ]
      },
      {
       "output_type": "stream",
       "stream": "stdout",
       "text": [
        "\r",
        "  Downloading basemap-1.0.7.tar.gz (129.7MB):   8%  10.5MB\r",
        "  Downloading basemap-1.0.7.tar.gz (129.7MB):   8%  10.5MB\r",
        "  Downloading basemap-1.0.7.tar.gz (129.7MB):   8%  10.5MB\r",
        "  Downloading basemap-1.0.7.tar.gz (129.7MB):   8%  10.5MB\r",
        "  Downloading basemap-1.0.7.tar.gz (129.7MB):   8%  10.5MB\r",
        "  Downloading basemap-1.0.7.tar.gz (129.7MB):   8%  10.5MB\r",
        "  Downloading basemap-1.0.7.tar.gz (129.7MB):   8%  10.5MB\r",
        "  Downloading basemap-1.0.7.tar.gz (129.7MB):   8%  10.5MB\r",
        "  Downloading basemap-1.0.7.tar.gz (129.7MB):   8%  10.5MB\r",
        "  Downloading basemap-1.0.7.tar.gz (129.7MB):   8%  10.5MB"
       ]
      },
      {
       "output_type": "stream",
       "stream": "stdout",
       "text": [
        "\r",
        "  Downloading basemap-1.0.7.tar.gz (129.7MB):   8%  10.5MB\r",
        "  Downloading basemap-1.0.7.tar.gz (129.7MB):   8%  10.5MB\r",
        "  Downloading basemap-1.0.7.tar.gz (129.7MB):   8%  10.5MB\r",
        "  Downloading basemap-1.0.7.tar.gz (129.7MB):   8%  10.5MB\r",
        "  Downloading basemap-1.0.7.tar.gz (129.7MB):   8%  10.5MB\r",
        "  Downloading basemap-1.0.7.tar.gz (129.7MB):   8%  10.6MB\r",
        "  Downloading basemap-1.0.7.tar.gz (129.7MB):   8%  10.6MB\r",
        "  Downloading basemap-1.0.7.tar.gz (129.7MB):   8%  10.6MB\r",
        "  Downloading basemap-1.0.7.tar.gz (129.7MB):   8%  10.6MB"
       ]
      },
      {
       "output_type": "stream",
       "stream": "stdout",
       "text": [
        "\r",
        "  Downloading basemap-1.0.7.tar.gz (129.7MB):   8%  10.6MB\r",
        "  Downloading basemap-1.0.7.tar.gz (129.7MB):   8%  10.6MB\r",
        "  Downloading basemap-1.0.7.tar.gz (129.7MB):   8%  10.6MB"
       ]
      },
      {
       "output_type": "stream",
       "stream": "stdout",
       "text": [
        "\r",
        "  Downloading basemap-1.0.7.tar.gz (129.7MB):   8%  10.6MB\r",
        "  Downloading basemap-1.0.7.tar.gz (129.7MB):   8%  10.6MB\r",
        "  Downloading basemap-1.0.7.tar.gz (129.7MB):   8%  10.6MB\r",
        "  Downloading basemap-1.0.7.tar.gz (129.7MB):   8%  10.6MB\r",
        "  Downloading basemap-1.0.7.tar.gz (129.7MB):   8%  10.6MB\r",
        "  Downloading basemap-1.0.7.tar.gz (129.7MB):   8%  10.6MB\r",
        "  Downloading basemap-1.0.7.tar.gz (129.7MB):   8%  10.6MB"
       ]
      },
      {
       "output_type": "stream",
       "stream": "stdout",
       "text": [
        "\r",
        "  Downloading basemap-1.0.7.tar.gz (129.7MB):   8%  10.6MB\r",
        "  Downloading basemap-1.0.7.tar.gz (129.7MB):   8%  10.6MB\r",
        "  Downloading basemap-1.0.7.tar.gz (129.7MB):   8%  10.6MB\r",
        "  Downloading basemap-1.0.7.tar.gz (129.7MB):   8%  10.6MB\r",
        "  Downloading basemap-1.0.7.tar.gz (129.7MB):   8%  10.6MB\r",
        "  Downloading basemap-1.0.7.tar.gz (129.7MB):   8%  10.6MB\r",
        "  Downloading basemap-1.0.7.tar.gz (129.7MB):   8%  10.6MB\r",
        "  Downloading basemap-1.0.7.tar.gz (129.7MB):   8%  10.6MB\r",
        "  Downloading basemap-1.0.7.tar.gz (129.7MB):   8%  10.6MB\r",
        "  Downloading basemap-1.0.7.tar.gz (129.7MB):   8%  10.6MB"
       ]
      },
      {
       "output_type": "stream",
       "stream": "stdout",
       "text": [
        "\r",
        "  Downloading basemap-1.0.7.tar.gz (129.7MB):   8%  10.6MB\r",
        "  Downloading basemap-1.0.7.tar.gz (129.7MB):   8%  10.7MB\r",
        "  Downloading basemap-1.0.7.tar.gz (129.7MB):   8%  10.7MB\r",
        "  Downloading basemap-1.0.7.tar.gz (129.7MB):   8%  10.7MB\r",
        "  Downloading basemap-1.0.7.tar.gz (129.7MB):   8%  10.7MB\r",
        "  Downloading basemap-1.0.7.tar.gz (129.7MB):   8%  10.7MB\r",
        "  Downloading basemap-1.0.7.tar.gz (129.7MB):   8%  10.7MB\r",
        "  Downloading basemap-1.0.7.tar.gz (129.7MB):   8%  10.7MB\r",
        "  Downloading basemap-1.0.7.tar.gz (129.7MB):   8%  10.7MB"
       ]
      },
      {
       "output_type": "stream",
       "stream": "stdout",
       "text": [
        "\r",
        "  Downloading basemap-1.0.7.tar.gz (129.7MB):   8%  10.7MB\r",
        "  Downloading basemap-1.0.7.tar.gz (129.7MB):   8%  10.7MB\r",
        "  Downloading basemap-1.0.7.tar.gz (129.7MB):   8%  10.7MB"
       ]
      },
      {
       "output_type": "stream",
       "stream": "stdout",
       "text": [
        "\r",
        "  Downloading basemap-1.0.7.tar.gz (129.7MB):   8%  10.7MB\r",
        "  Downloading basemap-1.0.7.tar.gz (129.7MB):   8%  10.7MB\r",
        "  Downloading basemap-1.0.7.tar.gz (129.7MB):   8%  10.7MB\r",
        "  Downloading basemap-1.0.7.tar.gz (129.7MB):   8%  10.7MB\r",
        "  Downloading basemap-1.0.7.tar.gz (129.7MB):   8%  10.7MB\r",
        "  Downloading basemap-1.0.7.tar.gz (129.7MB):   8%  10.7MB\r",
        "  Downloading basemap-1.0.7.tar.gz (129.7MB):   8%  10.7MB\r",
        "  Downloading basemap-1.0.7.tar.gz (129.7MB):   8%  10.7MB"
       ]
      },
      {
       "output_type": "stream",
       "stream": "stdout",
       "text": [
        "\r",
        "  Downloading basemap-1.0.7.tar.gz (129.7MB):   8%  10.7MB\r",
        "  Downloading basemap-1.0.7.tar.gz (129.7MB):   8%  10.7MB\r",
        "  Downloading basemap-1.0.7.tar.gz (129.7MB):   8%  10.7MB\r",
        "  Downloading basemap-1.0.7.tar.gz (129.7MB):   8%  10.7MB\r",
        "  Downloading basemap-1.0.7.tar.gz (129.7MB):   8%  10.7MB\r",
        "  Downloading basemap-1.0.7.tar.gz (129.7MB):   8%  10.8MB\r",
        "  Downloading basemap-1.0.7.tar.gz (129.7MB):   8%  10.8MB\r",
        "  Downloading basemap-1.0.7.tar.gz (129.7MB):   8%  10.8MB\r",
        "  Downloading basemap-1.0.7.tar.gz (129.7MB):   8%  10.8MB\r",
        "  Downloading basemap-1.0.7.tar.gz (129.7MB):   8%  10.8MB"
       ]
      },
      {
       "output_type": "stream",
       "stream": "stdout",
       "text": [
        "\r",
        "  Downloading basemap-1.0.7.tar.gz (129.7MB):   8%  10.8MB\r",
        "  Downloading basemap-1.0.7.tar.gz (129.7MB):   8%  10.8MB\r",
        "  Downloading basemap-1.0.7.tar.gz (129.7MB):   8%  10.8MB\r",
        "  Downloading basemap-1.0.7.tar.gz (129.7MB):   8%  10.8MB\r",
        "  Downloading basemap-1.0.7.tar.gz (129.7MB):   8%  10.8MB\r",
        "  Downloading basemap-1.0.7.tar.gz (129.7MB):   8%  10.8MB\r",
        "  Downloading basemap-1.0.7.tar.gz (129.7MB):   8%  10.8MB\r",
        "  Downloading basemap-1.0.7.tar.gz (129.7MB):   8%  10.8MB\r",
        "  Downloading basemap-1.0.7.tar.gz (129.7MB):   8%  10.8MB\r",
        "  Downloading basemap-1.0.7.tar.gz (129.7MB):   8%  10.8MB"
       ]
      },
      {
       "output_type": "stream",
       "stream": "stdout",
       "text": [
        "\r",
        "  Downloading basemap-1.0.7.tar.gz (129.7MB):   8%  10.8MB\r",
        "  Downloading basemap-1.0.7.tar.gz (129.7MB):   8%  10.8MB\r",
        "  Downloading basemap-1.0.7.tar.gz (129.7MB):   8%  10.8MB\r",
        "  Downloading basemap-1.0.7.tar.gz (129.7MB):   8%  10.8MB\r",
        "  Downloading basemap-1.0.7.tar.gz (129.7MB):   8%  10.8MB\r",
        "  Downloading basemap-1.0.7.tar.gz (129.7MB):   8%  10.8MB"
       ]
      },
      {
       "output_type": "stream",
       "stream": "stdout",
       "text": [
        "\r",
        "  Downloading basemap-1.0.7.tar.gz (129.7MB):   8%  10.8MB\r",
        "  Downloading basemap-1.0.7.tar.gz (129.7MB):   8%  10.8MB\r",
        "  Downloading basemap-1.0.7.tar.gz (129.7MB):   8%  10.8MB\r",
        "  Downloading basemap-1.0.7.tar.gz (129.7MB):   8%  10.9MB"
       ]
      },
      {
       "output_type": "stream",
       "stream": "stdout",
       "text": [
        "\r",
        "  Downloading basemap-1.0.7.tar.gz (129.7MB):   8%  10.9MB\r",
        "  Downloading basemap-1.0.7.tar.gz (129.7MB):   8%  10.9MB"
       ]
      },
      {
       "output_type": "stream",
       "stream": "stdout",
       "text": [
        "\r",
        "  Downloading basemap-1.0.7.tar.gz (129.7MB):   8%  10.9MB\r",
        "  Downloading basemap-1.0.7.tar.gz (129.7MB):   8%  10.9MB\r",
        "  Downloading basemap-1.0.7.tar.gz (129.7MB):   8%  10.9MB\r",
        "  Downloading basemap-1.0.7.tar.gz (129.7MB):   8%  10.9MB\r",
        "  Downloading basemap-1.0.7.tar.gz (129.7MB):   8%  10.9MB\r",
        "  Downloading basemap-1.0.7.tar.gz (129.7MB):   8%  10.9MB\r",
        "  Downloading basemap-1.0.7.tar.gz (129.7MB):   8%  10.9MB\r",
        "  Downloading basemap-1.0.7.tar.gz (129.7MB):   8%  10.9MB\r",
        "  Downloading basemap-1.0.7.tar.gz (129.7MB):   8%  10.9MB\r",
        "  Downloading basemap-1.0.7.tar.gz (129.7MB):   8%  10.9MB"
       ]
      },
      {
       "output_type": "stream",
       "stream": "stdout",
       "text": [
        "\r",
        "  Downloading basemap-1.0.7.tar.gz (129.7MB):   8%  10.9MB\r",
        "  Downloading basemap-1.0.7.tar.gz (129.7MB):   8%  10.9MB\r",
        "  Downloading basemap-1.0.7.tar.gz (129.7MB):   8%  10.9MB\r",
        "  Downloading basemap-1.0.7.tar.gz (129.7MB):   8%  10.9MB\r",
        "  Downloading basemap-1.0.7.tar.gz (129.7MB):   8%  10.9MB\r",
        "  Downloading basemap-1.0.7.tar.gz (129.7MB):   8%  10.9MB\r",
        "  Downloading basemap-1.0.7.tar.gz (129.7MB):   8%  10.9MB\r",
        "  Downloading basemap-1.0.7.tar.gz (129.7MB):   8%  10.9MB\r",
        "  Downloading basemap-1.0.7.tar.gz (129.7MB):   8%  10.9MB\r",
        "  Downloading basemap-1.0.7.tar.gz (129.7MB):   8%  10.9MB\r",
        "  Downloading basemap-1.0.7.tar.gz (129.7MB):   8%  10.9MB"
       ]
      },
      {
       "output_type": "stream",
       "stream": "stdout",
       "text": [
        "\r",
        "  Downloading basemap-1.0.7.tar.gz (129.7MB):   8%  10.9MB\r",
        "  Downloading basemap-1.0.7.tar.gz (129.7MB):   8%  11.0MB\r",
        "  Downloading basemap-1.0.7.tar.gz (129.7MB):   8%  11.0MB\r",
        "  Downloading basemap-1.0.7.tar.gz (129.7MB):   8%  11.0MB\r",
        "  Downloading basemap-1.0.7.tar.gz (129.7MB):   8%  11.0MB\r",
        "  Downloading basemap-1.0.7.tar.gz (129.7MB):   8%  11.0MB\r",
        "  Downloading basemap-1.0.7.tar.gz (129.7MB):   8%  11.0MB\r",
        "  Downloading basemap-1.0.7.tar.gz (129.7MB):   8%  11.0MB"
       ]
      },
      {
       "output_type": "stream",
       "stream": "stdout",
       "text": [
        "\r",
        "  Downloading basemap-1.0.7.tar.gz (129.7MB):   8%  11.0MB\r",
        "  Downloading basemap-1.0.7.tar.gz (129.7MB):   8%  11.0MB\r",
        "  Downloading basemap-1.0.7.tar.gz (129.7MB):   8%  11.0MB"
       ]
      },
      {
       "output_type": "stream",
       "stream": "stdout",
       "text": [
        "\r",
        "  Downloading basemap-1.0.7.tar.gz (129.7MB):   8%  11.0MB\r",
        "  Downloading basemap-1.0.7.tar.gz (129.7MB):   8%  11.0MB"
       ]
      },
      {
       "output_type": "stream",
       "stream": "stdout",
       "text": [
        "\r",
        "  Downloading basemap-1.0.7.tar.gz (129.7MB):   8%  11.0MB\r",
        "  Downloading basemap-1.0.7.tar.gz (129.7MB):   8%  11.0MB\r",
        "  Downloading basemap-1.0.7.tar.gz (129.7MB):   8%  11.0MB\r",
        "  Downloading basemap-1.0.7.tar.gz (129.7MB):   8%  11.0MB\r",
        "  Downloading basemap-1.0.7.tar.gz (129.7MB):   8%  11.0MB\r",
        "  Downloading basemap-1.0.7.tar.gz (129.7MB):   8%  11.0MB\r",
        "  Downloading basemap-1.0.7.tar.gz (129.7MB):   8%  11.0MB\r",
        "  Downloading basemap-1.0.7.tar.gz (129.7MB):   8%  11.0MB\r",
        "  Downloading basemap-1.0.7.tar.gz (129.7MB):   8%  11.0MB\r",
        "  Downloading basemap-1.0.7.tar.gz (129.7MB):   8%  11.0MB"
       ]
      },
      {
       "output_type": "stream",
       "stream": "stdout",
       "text": [
        "\r",
        "  Downloading basemap-1.0.7.tar.gz (129.7MB):   8%  11.0MB\r",
        "  Downloading basemap-1.0.7.tar.gz (129.7MB):   8%  11.0MB\r",
        "  Downloading basemap-1.0.7.tar.gz (129.7MB):   8%  11.1MB\r",
        "  Downloading basemap-1.0.7.tar.gz (129.7MB):   8%  11.1MB\r",
        "  Downloading basemap-1.0.7.tar.gz (129.7MB):   8%  11.1MB\r",
        "  Downloading basemap-1.0.7.tar.gz (129.7MB):   8%  11.1MB\r",
        "  Downloading basemap-1.0.7.tar.gz (129.7MB):   8%  11.1MB\r",
        "  Downloading basemap-1.0.7.tar.gz (129.7MB):   8%  11.1MB\r",
        "  Downloading basemap-1.0.7.tar.gz (129.7MB):   8%  11.1MB\r",
        "  Downloading basemap-1.0.7.tar.gz (129.7MB):   8%  11.1MB\r",
        "  Downloading basemap-1.0.7.tar.gz (129.7MB):   8%  11.1MB\r",
        "  Downloading basemap-1.0.7.tar.gz (129.7MB):   8%  11.1MB"
       ]
      },
      {
       "output_type": "stream",
       "stream": "stdout",
       "text": [
        "\r",
        "  Downloading basemap-1.0.7.tar.gz (129.7MB):   8%  11.1MB\r",
        "  Downloading basemap-1.0.7.tar.gz (129.7MB):   8%  11.1MB\r",
        "  Downloading basemap-1.0.7.tar.gz (129.7MB):   8%  11.1MB\r",
        "  Downloading basemap-1.0.7.tar.gz (129.7MB):   8%  11.1MB\r",
        "  Downloading basemap-1.0.7.tar.gz (129.7MB):   8%  11.1MB\r",
        "  Downloading basemap-1.0.7.tar.gz (129.7MB):   8%  11.1MB\r",
        "  Downloading basemap-1.0.7.tar.gz (129.7MB):   8%  11.1MB\r",
        "  Downloading basemap-1.0.7.tar.gz (129.7MB):   8%  11.1MB\r",
        "  Downloading basemap-1.0.7.tar.gz (129.7MB):   8%  11.1MB\r",
        "  Downloading basemap-1.0.7.tar.gz (129.7MB):   8%  11.1MB\r",
        "  Downloading basemap-1.0.7.tar.gz (129.7MB):   8%  11.1MB\r",
        "  Downloading basemap-1.0.7.tar.gz (129.7MB):   8%  11.1MB\r",
        "  Downloading basemap-1.0.7.tar.gz (129.7MB):   8%  11.1MB"
       ]
      },
      {
       "output_type": "stream",
       "stream": "stdout",
       "text": [
        "\r",
        "  Downloading basemap-1.0.7.tar.gz (129.7MB):   8%  11.1MB\r",
        "  Downloading basemap-1.0.7.tar.gz (129.7MB):   8%  11.1MB\r",
        "  Downloading basemap-1.0.7.tar.gz (129.7MB):   8%  11.2MB\r",
        "  Downloading basemap-1.0.7.tar.gz (129.7MB):   8%  11.2MB"
       ]
      },
      {
       "output_type": "stream",
       "stream": "stdout",
       "text": [
        "\r",
        "  Downloading basemap-1.0.7.tar.gz (129.7MB):   8%  11.2MB\r",
        "  Downloading basemap-1.0.7.tar.gz (129.7MB):   8%  11.2MB\r",
        "  Downloading basemap-1.0.7.tar.gz (129.7MB):   8%  11.2MB\r",
        "  Downloading basemap-1.0.7.tar.gz (129.7MB):   8%  11.2MB\r",
        "  Downloading basemap-1.0.7.tar.gz (129.7MB):   8%  11.2MB\r",
        "  Downloading basemap-1.0.7.tar.gz (129.7MB):   8%  11.2MB\r",
        "  Downloading basemap-1.0.7.tar.gz (129.7MB):   8%  11.2MB\r",
        "  Downloading basemap-1.0.7.tar.gz (129.7MB):   8%  11.2MB\r",
        "  Downloading basemap-1.0.7.tar.gz (129.7MB):   8%  11.2MB"
       ]
      },
      {
       "output_type": "stream",
       "stream": "stdout",
       "text": [
        "\r",
        "  Downloading basemap-1.0.7.tar.gz (129.7MB):   8%  11.2MB\r",
        "  Downloading basemap-1.0.7.tar.gz (129.7MB):   8%  11.2MB\r",
        "  Downloading basemap-1.0.7.tar.gz (129.7MB):   8%  11.2MB\r",
        "  Downloading basemap-1.0.7.tar.gz (129.7MB):   8%  11.2MB\r",
        "  Downloading basemap-1.0.7.tar.gz (129.7MB):   8%  11.2MB\r",
        "  Downloading basemap-1.0.7.tar.gz (129.7MB):   8%  11.2MB\r",
        "  Downloading basemap-1.0.7.tar.gz (129.7MB):   8%  11.2MB\r",
        "  Downloading basemap-1.0.7.tar.gz (129.7MB):   8%  11.2MB\r",
        "  Downloading basemap-1.0.7.tar.gz (129.7MB):   8%  11.2MB\r",
        "  Downloading basemap-1.0.7.tar.gz (129.7MB):   8%  11.2MB\r",
        "  Downloading basemap-1.0.7.tar.gz (129.7MB):   8%  11.2MB\r",
        "  Downloading basemap-1.0.7.tar.gz (129.7MB):   8%  11.2MB\r",
        "  Downloading basemap-1.0.7.tar.gz (129.7MB):   8%  11.2MB"
       ]
      },
      {
       "output_type": "stream",
       "stream": "stdout",
       "text": [
        "\r",
        "  Downloading basemap-1.0.7.tar.gz (129.7MB):   8%  11.3MB\r",
        "  Downloading basemap-1.0.7.tar.gz (129.7MB):   8%  11.3MB\r",
        "  Downloading basemap-1.0.7.tar.gz (129.7MB):   8%  11.3MB\r",
        "  Downloading basemap-1.0.7.tar.gz (129.7MB):   8%  11.3MB\r",
        "  Downloading basemap-1.0.7.tar.gz (129.7MB):   8%  11.3MB\r",
        "  Downloading basemap-1.0.7.tar.gz (129.7MB):   8%  11.3MB\r",
        "  Downloading basemap-1.0.7.tar.gz (129.7MB):   8%  11.3MB\r",
        "  Downloading basemap-1.0.7.tar.gz (129.7MB):   8%  11.3MB\r",
        "  Downloading basemap-1.0.7.tar.gz (129.7MB):   8%  11.3MB\r",
        "  Downloading basemap-1.0.7.tar.gz (129.7MB):   8%  11.3MB\r",
        "  Downloading basemap-1.0.7.tar.gz (129.7MB):   8%  11.3MB\r",
        "  Downloading basemap-1.0.7.tar.gz (129.7MB):   8%  11.3MB\r",
        "  Downloading basemap-1.0.7.tar.gz (129.7MB):   8%  11.3MB"
       ]
      },
      {
       "output_type": "stream",
       "stream": "stdout",
       "text": [
        "\r",
        "  Downloading basemap-1.0.7.tar.gz (129.7MB):   8%  11.3MB\r",
        "  Downloading basemap-1.0.7.tar.gz (129.7MB):   8%  11.3MB\r",
        "  Downloading basemap-1.0.7.tar.gz (129.7MB):   8%  11.3MB\r",
        "  Downloading basemap-1.0.7.tar.gz (129.7MB):   8%  11.3MB\r",
        "  Downloading basemap-1.0.7.tar.gz (129.7MB):   8%  11.3MB"
       ]
      },
      {
       "output_type": "stream",
       "stream": "stdout",
       "text": [
        "\r",
        "  Downloading basemap-1.0.7.tar.gz (129.7MB):   8%  11.3MB\r",
        "  Downloading basemap-1.0.7.tar.gz (129.7MB):   8%  11.3MB\r",
        "  Downloading basemap-1.0.7.tar.gz (129.7MB):   8%  11.3MB\r",
        "  Downloading basemap-1.0.7.tar.gz (129.7MB):   8%  11.3MB\r",
        "  Downloading basemap-1.0.7.tar.gz (129.7MB):   8%  11.3MB\r",
        "  Downloading basemap-1.0.7.tar.gz (129.7MB):   8%  11.3MB\r",
        "  Downloading basemap-1.0.7.tar.gz (129.7MB):   8%  11.4MB\r",
        "  Downloading basemap-1.0.7.tar.gz (129.7MB):   8%  11.4MB\r",
        "  Downloading basemap-1.0.7.tar.gz (129.7MB):   8%  11.4MB"
       ]
      },
      {
       "output_type": "stream",
       "stream": "stdout",
       "text": [
        "\r",
        "  Downloading basemap-1.0.7.tar.gz (129.7MB):   8%  11.4MB"
       ]
      },
      {
       "output_type": "stream",
       "stream": "stdout",
       "text": [
        "\r",
        "  Downloading basemap-1.0.7.tar.gz (129.7MB):   8%  11.4MB\r",
        "  Downloading basemap-1.0.7.tar.gz (129.7MB):   8%  11.4MB\r",
        "  Downloading basemap-1.0.7.tar.gz (129.7MB):   8%  11.4MB\r",
        "  Downloading basemap-1.0.7.tar.gz (129.7MB):   8%  11.4MB\r",
        "  Downloading basemap-1.0.7.tar.gz (129.7MB):   8%  11.4MB\r",
        "  Downloading basemap-1.0.7.tar.gz (129.7MB):   8%  11.4MB\r",
        "  Downloading basemap-1.0.7.tar.gz (129.7MB):   8%  11.4MB\r",
        "  Downloading basemap-1.0.7.tar.gz (129.7MB):   8%  11.4MB\r",
        "  Downloading basemap-1.0.7.tar.gz (129.7MB):   8%  11.4MB\r",
        "  Downloading basemap-1.0.7.tar.gz (129.7MB):   8%  11.4MB\r",
        "  Downloading basemap-1.0.7.tar.gz (129.7MB):   8%  11.4MB\r",
        "  Downloading basemap-1.0.7.tar.gz (129.7MB):   8%  11.4MB"
       ]
      },
      {
       "output_type": "stream",
       "stream": "stdout",
       "text": [
        "\r",
        "  Downloading basemap-1.0.7.tar.gz (129.7MB):   8%  11.4MB\r",
        "  Downloading basemap-1.0.7.tar.gz (129.7MB):   8%  11.4MB\r",
        "  Downloading basemap-1.0.7.tar.gz (129.7MB):   8%  11.4MB\r",
        "  Downloading basemap-1.0.7.tar.gz (129.7MB):   8%  11.4MB\r",
        "  Downloading basemap-1.0.7.tar.gz (129.7MB):   8%  11.4MB\r",
        "  Downloading basemap-1.0.7.tar.gz (129.7MB):   8%  11.4MB\r",
        "  Downloading basemap-1.0.7.tar.gz (129.7MB):   8%  11.4MB\r",
        "  Downloading basemap-1.0.7.tar.gz (129.7MB):   8%  11.4MB\r",
        "  Downloading basemap-1.0.7.tar.gz (129.7MB):   8%  11.4MB\r",
        "  Downloading basemap-1.0.7.tar.gz (129.7MB):   8%  11.5MB\r",
        "  Downloading basemap-1.0.7.tar.gz (129.7MB):   8%  11.5MB\r",
        "  Downloading basemap-1.0.7.tar.gz (129.7MB):   8%  11.5MB\r",
        "  Downloading basemap-1.0.7.tar.gz (129.7MB):   8%  11.5MB\r",
        "  Downloading basemap-1.0.7.tar.gz (129.7MB):   8%  11.5MB"
       ]
      },
      {
       "output_type": "stream",
       "stream": "stdout",
       "text": [
        "\r",
        "  Downloading basemap-1.0.7.tar.gz (129.7MB):   8%  11.5MB\r",
        "  Downloading basemap-1.0.7.tar.gz (129.7MB):   8%  11.5MB\r",
        "  Downloading basemap-1.0.7.tar.gz (129.7MB):   8%  11.5MB\r",
        "  Downloading basemap-1.0.7.tar.gz (129.7MB):   8%  11.5MB\r",
        "  Downloading basemap-1.0.7.tar.gz (129.7MB):   8%  11.5MB\r",
        "  Downloading basemap-1.0.7.tar.gz (129.7MB):   8%  11.5MB"
       ]
      },
      {
       "output_type": "stream",
       "stream": "stdout",
       "text": [
        "\r",
        "  Downloading basemap-1.0.7.tar.gz (129.7MB):   8%  11.5MB\r",
        "  Downloading basemap-1.0.7.tar.gz (129.7MB):   8%  11.5MB\r",
        "  Downloading basemap-1.0.7.tar.gz (129.7MB):   8%  11.5MB\r",
        "  Downloading basemap-1.0.7.tar.gz (129.7MB):   8%  11.5MB\r",
        "  Downloading basemap-1.0.7.tar.gz (129.7MB):   8%  11.5MB\r",
        "  Downloading basemap-1.0.7.tar.gz (129.7MB):   8%  11.5MB\r",
        "  Downloading basemap-1.0.7.tar.gz (129.7MB):   8%  11.5MB\r",
        "  Downloading basemap-1.0.7.tar.gz (129.7MB):   8%  11.5MB\r",
        "  Downloading basemap-1.0.7.tar.gz (129.7MB):   8%  11.5MB"
       ]
      },
      {
       "output_type": "stream",
       "stream": "stdout",
       "text": [
        "\r",
        "  Downloading basemap-1.0.7.tar.gz (129.7MB):   8%  11.5MB\r",
        "  Downloading basemap-1.0.7.tar.gz (129.7MB):   8%  11.5MB"
       ]
      },
      {
       "output_type": "stream",
       "stream": "stdout",
       "text": [
        "\r",
        "  Downloading basemap-1.0.7.tar.gz (129.7MB):   8%  11.5MB\r",
        "  Downloading basemap-1.0.7.tar.gz (129.7MB):   8%  11.5MB\r",
        "  Downloading basemap-1.0.7.tar.gz (129.7MB):   8%  11.6MB\r",
        "  Downloading basemap-1.0.7.tar.gz (129.7MB):   8%  11.6MB\r",
        "  Downloading basemap-1.0.7.tar.gz (129.7MB):   8%  11.6MB\r",
        "  Downloading basemap-1.0.7.tar.gz (129.7MB):   8%  11.6MB\r",
        "  Downloading basemap-1.0.7.tar.gz (129.7MB):   8%  11.6MB\r",
        "  Downloading basemap-1.0.7.tar.gz (129.7MB):   8%  11.6MB\r",
        "  Downloading basemap-1.0.7.tar.gz (129.7MB):   8%  11.6MB\r",
        "  Downloading basemap-1.0.7.tar.gz (129.7MB):   8%  11.6MB\r",
        "  Downloading basemap-1.0.7.tar.gz (129.7MB):   8%  11.6MB\r",
        "  Downloading basemap-1.0.7.tar.gz (129.7MB):   8%  11.6MB\r",
        "  Downloading basemap-1.0.7.tar.gz (129.7MB):   8%  11.6MB"
       ]
      },
      {
       "output_type": "stream",
       "stream": "stdout",
       "text": [
        "\r",
        "  Downloading basemap-1.0.7.tar.gz (129.7MB):   8%  11.6MB\r",
        "  Downloading basemap-1.0.7.tar.gz (129.7MB):   8%  11.6MB\r",
        "  Downloading basemap-1.0.7.tar.gz (129.7MB):   8%  11.6MB\r",
        "  Downloading basemap-1.0.7.tar.gz (129.7MB):   8%  11.6MB\r",
        "  Downloading basemap-1.0.7.tar.gz (129.7MB):   8%  11.6MB\r",
        "  Downloading basemap-1.0.7.tar.gz (129.7MB):   8%  11.6MB\r",
        "  Downloading basemap-1.0.7.tar.gz (129.7MB):   8%  11.6MB\r",
        "  Downloading basemap-1.0.7.tar.gz (129.7MB):   8%  11.6MB\r",
        "  Downloading basemap-1.0.7.tar.gz (129.7MB):   8%  11.6MB\r",
        "  Downloading basemap-1.0.7.tar.gz (129.7MB):   8%  11.6MB\r",
        "  Downloading basemap-1.0.7.tar.gz (129.7MB):   8%  11.6MB\r",
        "  Downloading basemap-1.0.7.tar.gz (129.7MB):   8%  11.6MB\r",
        "  Downloading basemap-1.0.7.tar.gz (129.7MB):   8%  11.6MB\r",
        "  Downloading basemap-1.0.7.tar.gz (129.7MB):   8%  11.6MB\r",
        "  Downloading basemap-1.0.7.tar.gz (129.7MB):   8%  11.7MB"
       ]
      },
      {
       "output_type": "stream",
       "stream": "stdout",
       "text": [
        "\r",
        "  Downloading basemap-1.0.7.tar.gz (129.7MB):   8%  11.7MB\r",
        "  Downloading basemap-1.0.7.tar.gz (129.7MB):   8%  11.7MB\r",
        "  Downloading basemap-1.0.7.tar.gz (129.7MB):   8%  11.7MB\r",
        "  Downloading basemap-1.0.7.tar.gz (129.7MB):   8%  11.7MB\r",
        "  Downloading basemap-1.0.7.tar.gz (129.7MB):   9%  11.7MB\r",
        "  Downloading basemap-1.0.7.tar.gz (129.7MB):   9%  11.7MB\r",
        "  Downloading basemap-1.0.7.tar.gz (129.7MB):   9%  11.7MB\r",
        "  Downloading basemap-1.0.7.tar.gz (129.7MB):   9%  11.7MB"
       ]
      },
      {
       "output_type": "stream",
       "stream": "stdout",
       "text": [
        "\r",
        "  Downloading basemap-1.0.7.tar.gz (129.7MB):   9%  11.7MB\r",
        "  Downloading basemap-1.0.7.tar.gz (129.7MB):   9%  11.7MB\r",
        "  Downloading basemap-1.0.7.tar.gz (129.7MB):   9%  11.7MB\r",
        "  Downloading basemap-1.0.7.tar.gz (129.7MB):   9%  11.7MB\r",
        "  Downloading basemap-1.0.7.tar.gz (129.7MB):   9%  11.7MB\r",
        "  Downloading basemap-1.0.7.tar.gz (129.7MB):   9%  11.7MB\r",
        "  Downloading basemap-1.0.7.tar.gz (129.7MB):   9%  11.7MB"
       ]
      },
      {
       "output_type": "stream",
       "stream": "stdout",
       "text": [
        "\r",
        "  Downloading basemap-1.0.7.tar.gz (129.7MB):   9%  11.7MB\r",
        "  Downloading basemap-1.0.7.tar.gz (129.7MB):   9%  11.7MB\r",
        "  Downloading basemap-1.0.7.tar.gz (129.7MB):   9%  11.7MB"
       ]
      },
      {
       "output_type": "stream",
       "stream": "stdout",
       "text": [
        "\r",
        "  Downloading basemap-1.0.7.tar.gz (129.7MB):   9%  11.7MB\r",
        "  Downloading basemap-1.0.7.tar.gz (129.7MB):   9%  11.7MB\r",
        "  Downloading basemap-1.0.7.tar.gz (129.7MB):   9%  11.7MB\r",
        "  Downloading basemap-1.0.7.tar.gz (129.7MB):   9%  11.7MB\r",
        "  Downloading basemap-1.0.7.tar.gz (129.7MB):   9%  11.7MB\r",
        "  Downloading basemap-1.0.7.tar.gz (129.7MB):   9%  11.8MB\r",
        "  Downloading basemap-1.0.7.tar.gz (129.7MB):   9%  11.8MB\r",
        "  Downloading basemap-1.0.7.tar.gz (129.7MB):   9%  11.8MB\r",
        "  Downloading basemap-1.0.7.tar.gz (129.7MB):   9%  11.8MB\r",
        "  Downloading basemap-1.0.7.tar.gz (129.7MB):   9%  11.8MB\r",
        "  Downloading basemap-1.0.7.tar.gz (129.7MB):   9%  11.8MB\r",
        "  Downloading basemap-1.0.7.tar.gz (129.7MB):   9%  11.8MB"
       ]
      },
      {
       "output_type": "stream",
       "stream": "stdout",
       "text": [
        "\r",
        "  Downloading basemap-1.0.7.tar.gz (129.7MB):   9%  11.8MB\r",
        "  Downloading basemap-1.0.7.tar.gz (129.7MB):   9%  11.8MB\r",
        "  Downloading basemap-1.0.7.tar.gz (129.7MB):   9%  11.8MB\r",
        "  Downloading basemap-1.0.7.tar.gz (129.7MB):   9%  11.8MB"
       ]
      },
      {
       "output_type": "stream",
       "stream": "stdout",
       "text": [
        "\r",
        "  Downloading basemap-1.0.7.tar.gz (129.7MB):   9%  11.8MB\r",
        "  Downloading basemap-1.0.7.tar.gz (129.7MB):   9%  11.8MB\r",
        "  Downloading basemap-1.0.7.tar.gz (129.7MB):   9%  11.8MB\r",
        "  Downloading basemap-1.0.7.tar.gz (129.7MB):   9%  11.8MB\r",
        "  Downloading basemap-1.0.7.tar.gz (129.7MB):   9%  11.8MB\r",
        "  Downloading basemap-1.0.7.tar.gz (129.7MB):   9%  11.8MB\r",
        "  Downloading basemap-1.0.7.tar.gz (129.7MB):   9%  11.8MB\r",
        "  Downloading basemap-1.0.7.tar.gz (129.7MB):   9%  11.8MB\r",
        "  Downloading basemap-1.0.7.tar.gz (129.7MB):   9%  11.8MB\r",
        "  Downloading basemap-1.0.7.tar.gz (129.7MB):   9%  11.8MB\r",
        "  Downloading basemap-1.0.7.tar.gz (129.7MB):   9%  11.8MB\r",
        "  Downloading basemap-1.0.7.tar.gz (129.7MB):   9%  11.8MB"
       ]
      },
      {
       "output_type": "stream",
       "stream": "stdout",
       "text": [
        "\r",
        "  Downloading basemap-1.0.7.tar.gz (129.7MB):   9%  11.8MB\r",
        "  Downloading basemap-1.0.7.tar.gz (129.7MB):   9%  11.8MB\r",
        "  Downloading basemap-1.0.7.tar.gz (129.7MB):   9%  11.9MB\r",
        "  Downloading basemap-1.0.7.tar.gz (129.7MB):   9%  11.9MB\r",
        "  Downloading basemap-1.0.7.tar.gz (129.7MB):   9%  11.9MB\r",
        "  Downloading basemap-1.0.7.tar.gz (129.7MB):   9%  11.9MB\r",
        "  Downloading basemap-1.0.7.tar.gz (129.7MB):   9%  11.9MB\r",
        "  Downloading basemap-1.0.7.tar.gz (129.7MB):   9%  11.9MB\r",
        "  Downloading basemap-1.0.7.tar.gz (129.7MB):   9%  11.9MB\r",
        "  Downloading basemap-1.0.7.tar.gz (129.7MB):   9%  11.9MB\r",
        "  Downloading basemap-1.0.7.tar.gz (129.7MB):   9%  11.9MB\r",
        "  Downloading basemap-1.0.7.tar.gz (129.7MB):   9%  11.9MB\r",
        "  Downloading basemap-1.0.7.tar.gz (129.7MB):   9%  11.9MB\r",
        "  Downloading basemap-1.0.7.tar.gz (129.7MB):   9%  11.9MB\r",
        "  Downloading basemap-1.0.7.tar.gz (129.7MB):   9%  11.9MB\r",
        "  Downloading basemap-1.0.7.tar.gz (129.7MB):   9%  11.9MB"
       ]
      },
      {
       "output_type": "stream",
       "stream": "stdout",
       "text": [
        "\r",
        "  Downloading basemap-1.0.7.tar.gz (129.7MB):   9%  11.9MB\r",
        "  Downloading basemap-1.0.7.tar.gz (129.7MB):   9%  11.9MB\r",
        "  Downloading basemap-1.0.7.tar.gz (129.7MB):   9%  11.9MB\r",
        "  Downloading basemap-1.0.7.tar.gz (129.7MB):   9%  11.9MB\r",
        "  Downloading basemap-1.0.7.tar.gz (129.7MB):   9%  11.9MB\r",
        "  Downloading basemap-1.0.7.tar.gz (129.7MB):   9%  11.9MB\r",
        "  Downloading basemap-1.0.7.tar.gz (129.7MB):   9%  11.9MB\r",
        "  Downloading basemap-1.0.7.tar.gz (129.7MB):   9%  11.9MB\r",
        "  Downloading basemap-1.0.7.tar.gz (129.7MB):   9%  11.9MB\r",
        "  Downloading basemap-1.0.7.tar.gz (129.7MB):   9%  11.9MB\r",
        "  Downloading basemap-1.0.7.tar.gz (129.7MB):   9%  12.0MB\r",
        "  Downloading basemap-1.0.7.tar.gz (129.7MB):   9%  12.0MB\r",
        "  Downloading basemap-1.0.7.tar.gz (129.7MB):   9%  12.0MB\r",
        "  Downloading basemap-1.0.7.tar.gz (129.7MB):   9%  12.0MB\r",
        "  Downloading basemap-1.0.7.tar.gz (129.7MB):   9%  12.0MB\r",
        "  Downloading basemap-1.0.7.tar.gz (129.7MB):   9%  12.0MB"
       ]
      },
      {
       "output_type": "stream",
       "stream": "stdout",
       "text": [
        "\r",
        "  Downloading basemap-1.0.7.tar.gz (129.7MB):   9%  12.0MB\r",
        "  Downloading basemap-1.0.7.tar.gz (129.7MB):   9%  12.0MB"
       ]
      },
      {
       "output_type": "stream",
       "stream": "stdout",
       "text": [
        "\r",
        "  Downloading basemap-1.0.7.tar.gz (129.7MB):   9%  12.0MB\r",
        "  Downloading basemap-1.0.7.tar.gz (129.7MB):   9%  12.0MB\r",
        "  Downloading basemap-1.0.7.tar.gz (129.7MB):   9%  12.0MB\r",
        "  Downloading basemap-1.0.7.tar.gz (129.7MB):   9%  12.0MB\r",
        "  Downloading basemap-1.0.7.tar.gz (129.7MB):   9%  12.0MB\r",
        "  Downloading basemap-1.0.7.tar.gz (129.7MB):   9%  12.0MB\r",
        "  Downloading basemap-1.0.7.tar.gz (129.7MB):   9%  12.0MB\r",
        "  Downloading basemap-1.0.7.tar.gz (129.7MB):   9%  12.0MB\r",
        "  Downloading basemap-1.0.7.tar.gz (129.7MB):   9%  12.0MB\r",
        "  Downloading basemap-1.0.7.tar.gz (129.7MB):   9%  12.0MB\r",
        "  Downloading basemap-1.0.7.tar.gz (129.7MB):   9%  12.0MB\r",
        "  Downloading basemap-1.0.7.tar.gz (129.7MB):   9%  12.0MB\r",
        "  Downloading basemap-1.0.7.tar.gz (129.7MB):   9%  12.0MB\r",
        "  Downloading basemap-1.0.7.tar.gz (129.7MB):   9%  12.0MB\r",
        "  Downloading basemap-1.0.7.tar.gz (129.7MB):   9%  12.0MB"
       ]
      },
      {
       "output_type": "stream",
       "stream": "stdout",
       "text": [
        "\r",
        "  Downloading basemap-1.0.7.tar.gz (129.7MB):   9%  12.0MB\r",
        "  Downloading basemap-1.0.7.tar.gz (129.7MB):   9%  12.1MB\r",
        "  Downloading basemap-1.0.7.tar.gz (129.7MB):   9%  12.1MB\r",
        "  Downloading basemap-1.0.7.tar.gz (129.7MB):   9%  12.1MB\r",
        "  Downloading basemap-1.0.7.tar.gz (129.7MB):   9%  12.1MB\r",
        "  Downloading basemap-1.0.7.tar.gz (129.7MB):   9%  12.1MB\r",
        "  Downloading basemap-1.0.7.tar.gz (129.7MB):   9%  12.1MB\r",
        "  Downloading basemap-1.0.7.tar.gz (129.7MB):   9%  12.1MB\r",
        "  Downloading basemap-1.0.7.tar.gz (129.7MB):   9%  12.1MB\r",
        "  Downloading basemap-1.0.7.tar.gz (129.7MB):   9%  12.1MB\r",
        "  Downloading basemap-1.0.7.tar.gz (129.7MB):   9%  12.1MB\r",
        "  Downloading basemap-1.0.7.tar.gz (129.7MB):   9%  12.1MB\r",
        "  Downloading basemap-1.0.7.tar.gz (129.7MB):   9%  12.1MB\r",
        "  Downloading basemap-1.0.7.tar.gz (129.7MB):   9%  12.1MB\r",
        "  Downloading basemap-1.0.7.tar.gz (129.7MB):   9%  12.1MB\r",
        "  Downloading basemap-1.0.7.tar.gz (129.7MB):   9%  12.1MB"
       ]
      },
      {
       "output_type": "stream",
       "stream": "stdout",
       "text": [
        "\r",
        "  Downloading basemap-1.0.7.tar.gz (129.7MB):   9%  12.1MB\r",
        "  Downloading basemap-1.0.7.tar.gz (129.7MB):   9%  12.1MB\r",
        "  Downloading basemap-1.0.7.tar.gz (129.7MB):   9%  12.1MB\r",
        "  Downloading basemap-1.0.7.tar.gz (129.7MB):   9%  12.1MB\r",
        "  Downloading basemap-1.0.7.tar.gz (129.7MB):   9%  12.1MB\r",
        "  Downloading basemap-1.0.7.tar.gz (129.7MB):   9%  12.1MB\r",
        "  Downloading basemap-1.0.7.tar.gz (129.7MB):   9%  12.1MB\r",
        "  Downloading basemap-1.0.7.tar.gz (129.7MB):   9%  12.1MB\r",
        "  Downloading basemap-1.0.7.tar.gz (129.7MB):   9%  12.1MB\r",
        "  Downloading basemap-1.0.7.tar.gz (129.7MB):   9%  12.1MB\r",
        "  Downloading basemap-1.0.7.tar.gz (129.7MB):   9%  12.2MB\r",
        "  Downloading basemap-1.0.7.tar.gz (129.7MB):   9%  12.2MB\r",
        "  Downloading basemap-1.0.7.tar.gz (129.7MB):   9%  12.2MB\r",
        "  Downloading basemap-1.0.7.tar.gz (129.7MB):   9%  12.2MB\r",
        "  Downloading basemap-1.0.7.tar.gz (129.7MB):   9%  12.2MB\r",
        "  Downloading basemap-1.0.7.tar.gz (129.7MB):   9%  12.2MB\r",
        "  Downloading basemap-1.0.7.tar.gz (129.7MB):   9%  12.2MB"
       ]
      },
      {
       "output_type": "stream",
       "stream": "stdout",
       "text": [
        "\r",
        "  Downloading basemap-1.0.7.tar.gz (129.7MB):   9%  12.2MB\r",
        "  Downloading basemap-1.0.7.tar.gz (129.7MB):   9%  12.2MB"
       ]
      },
      {
       "output_type": "stream",
       "stream": "stdout",
       "text": [
        "\r",
        "  Downloading basemap-1.0.7.tar.gz (129.7MB):   9%  12.2MB\r",
        "  Downloading basemap-1.0.7.tar.gz (129.7MB):   9%  12.2MB\r",
        "  Downloading basemap-1.0.7.tar.gz (129.7MB):   9%  12.2MB\r",
        "  Downloading basemap-1.0.7.tar.gz (129.7MB):   9%  12.2MB\r",
        "  Downloading basemap-1.0.7.tar.gz (129.7MB):   9%  12.2MB\r",
        "  Downloading basemap-1.0.7.tar.gz (129.7MB):   9%  12.2MB\r",
        "  Downloading basemap-1.0.7.tar.gz (129.7MB):   9%  12.2MB\r",
        "  Downloading basemap-1.0.7.tar.gz (129.7MB):   9%  12.2MB\r",
        "  Downloading basemap-1.0.7.tar.gz (129.7MB):   9%  12.2MB\r",
        "  Downloading basemap-1.0.7.tar.gz (129.7MB):   9%  12.2MB\r",
        "  Downloading basemap-1.0.7.tar.gz (129.7MB):   9%  12.2MB\r",
        "  Downloading basemap-1.0.7.tar.gz (129.7MB):   9%  12.2MB\r",
        "  Downloading basemap-1.0.7.tar.gz (129.7MB):   9%  12.2MB\r",
        "  Downloading basemap-1.0.7.tar.gz (129.7MB):   9%  12.2MB\r",
        "  Downloading basemap-1.0.7.tar.gz (129.7MB):   9%  12.2MB"
       ]
      },
      {
       "output_type": "stream",
       "stream": "stdout",
       "text": [
        "\r",
        "  Downloading basemap-1.0.7.tar.gz (129.7MB):   9%  12.3MB\r",
        "  Downloading basemap-1.0.7.tar.gz (129.7MB):   9%  12.3MB\r",
        "  Downloading basemap-1.0.7.tar.gz (129.7MB):   9%  12.3MB\r",
        "  Downloading basemap-1.0.7.tar.gz (129.7MB):   9%  12.3MB\r",
        "  Downloading basemap-1.0.7.tar.gz (129.7MB):   9%  12.3MB\r",
        "  Downloading basemap-1.0.7.tar.gz (129.7MB):   9%  12.3MB\r",
        "  Downloading basemap-1.0.7.tar.gz (129.7MB):   9%  12.3MB\r",
        "  Downloading basemap-1.0.7.tar.gz (129.7MB):   9%  12.3MB\r",
        "  Downloading basemap-1.0.7.tar.gz (129.7MB):   9%  12.3MB\r",
        "  Downloading basemap-1.0.7.tar.gz (129.7MB):   9%  12.3MB\r",
        "  Downloading basemap-1.0.7.tar.gz (129.7MB):   9%  12.3MB\r",
        "  Downloading basemap-1.0.7.tar.gz (129.7MB):   9%  12.3MB\r",
        "  Downloading basemap-1.0.7.tar.gz (129.7MB):   9%  12.3MB\r",
        "  Downloading basemap-1.0.7.tar.gz (129.7MB):   9%  12.3MB\r",
        "  Downloading basemap-1.0.7.tar.gz (129.7MB):   9%  12.3MB\r",
        "  Downloading basemap-1.0.7.tar.gz (129.7MB):   9%  12.3MB"
       ]
      },
      {
       "output_type": "stream",
       "stream": "stdout",
       "text": [
        "\r",
        "  Downloading basemap-1.0.7.tar.gz (129.7MB):   9%  12.3MB\r",
        "  Downloading basemap-1.0.7.tar.gz (129.7MB):   9%  12.3MB\r",
        "  Downloading basemap-1.0.7.tar.gz (129.7MB):   9%  12.3MB\r",
        "  Downloading basemap-1.0.7.tar.gz (129.7MB):   9%  12.3MB\r",
        "  Downloading basemap-1.0.7.tar.gz (129.7MB):   9%  12.3MB\r",
        "  Downloading basemap-1.0.7.tar.gz (129.7MB):   9%  12.3MB\r",
        "  Downloading basemap-1.0.7.tar.gz (129.7MB):   9%  12.3MB\r",
        "  Downloading basemap-1.0.7.tar.gz (129.7MB):   9%  12.3MB\r",
        "  Downloading basemap-1.0.7.tar.gz (129.7MB):   9%  12.3MB\r",
        "  Downloading basemap-1.0.7.tar.gz (129.7MB):   9%  12.4MB\r",
        "  Downloading basemap-1.0.7.tar.gz (129.7MB):   9%  12.4MB\r",
        "  Downloading basemap-1.0.7.tar.gz (129.7MB):   9%  12.4MB\r",
        "  Downloading basemap-1.0.7.tar.gz (129.7MB):   9%  12.4MB"
       ]
      },
      {
       "output_type": "stream",
       "stream": "stdout",
       "text": [
        "\r",
        "  Downloading basemap-1.0.7.tar.gz (129.7MB):   9%  12.4MB\r",
        "  Downloading basemap-1.0.7.tar.gz (129.7MB):   9%  12.4MB\r",
        "  Downloading basemap-1.0.7.tar.gz (129.7MB):   9%  12.4MB\r",
        "  Downloading basemap-1.0.7.tar.gz (129.7MB):   9%  12.4MB\r",
        "  Downloading basemap-1.0.7.tar.gz (129.7MB):   9%  12.4MB"
       ]
      },
      {
       "output_type": "stream",
       "stream": "stdout",
       "text": [
        "\r",
        "  Downloading basemap-1.0.7.tar.gz (129.7MB):   9%  12.4MB\r",
        "  Downloading basemap-1.0.7.tar.gz (129.7MB):   9%  12.4MB\r",
        "  Downloading basemap-1.0.7.tar.gz (129.7MB):   9%  12.4MB"
       ]
      },
      {
       "output_type": "stream",
       "stream": "stdout",
       "text": [
        "\r",
        "  Downloading basemap-1.0.7.tar.gz (129.7MB):   9%  12.4MB\r",
        "  Downloading basemap-1.0.7.tar.gz (129.7MB):   9%  12.4MB\r",
        "  Downloading basemap-1.0.7.tar.gz (129.7MB):   9%  12.4MB\r",
        "  Downloading basemap-1.0.7.tar.gz (129.7MB):   9%  12.4MB\r",
        "  Downloading basemap-1.0.7.tar.gz (129.7MB):   9%  12.4MB\r",
        "  Downloading basemap-1.0.7.tar.gz (129.7MB):   9%  12.4MB\r",
        "  Downloading basemap-1.0.7.tar.gz (129.7MB):   9%  12.4MB\r",
        "  Downloading basemap-1.0.7.tar.gz (129.7MB):   9%  12.4MB\r",
        "  Downloading basemap-1.0.7.tar.gz (129.7MB):   9%  12.4MB\r",
        "  Downloading basemap-1.0.7.tar.gz (129.7MB):   9%  12.4MB\r",
        "  Downloading basemap-1.0.7.tar.gz (129.7MB):   9%  12.4MB\r",
        "  Downloading basemap-1.0.7.tar.gz (129.7MB):   9%  12.4MB\r",
        "  Downloading basemap-1.0.7.tar.gz (129.7MB):   9%  12.5MB\r",
        "  Downloading basemap-1.0.7.tar.gz (129.7MB):   9%  12.5MB"
       ]
      },
      {
       "output_type": "stream",
       "stream": "stdout",
       "text": [
        "\r",
        "  Downloading basemap-1.0.7.tar.gz (129.7MB):   9%  12.5MB\r",
        "  Downloading basemap-1.0.7.tar.gz (129.7MB):   9%  12.5MB\r",
        "  Downloading basemap-1.0.7.tar.gz (129.7MB):   9%  12.5MB\r",
        "  Downloading basemap-1.0.7.tar.gz (129.7MB):   9%  12.5MB\r",
        "  Downloading basemap-1.0.7.tar.gz (129.7MB):   9%  12.5MB\r",
        "  Downloading basemap-1.0.7.tar.gz (129.7MB):   9%  12.5MB\r",
        "  Downloading basemap-1.0.7.tar.gz (129.7MB):   9%  12.5MB\r",
        "  Downloading basemap-1.0.7.tar.gz (129.7MB):   9%  12.5MB\r",
        "  Downloading basemap-1.0.7.tar.gz (129.7MB):   9%  12.5MB\r",
        "  Downloading basemap-1.0.7.tar.gz (129.7MB):   9%  12.5MB\r",
        "  Downloading basemap-1.0.7.tar.gz (129.7MB):   9%  12.5MB\r",
        "  Downloading basemap-1.0.7.tar.gz (129.7MB):   9%  12.5MB\r",
        "  Downloading basemap-1.0.7.tar.gz (129.7MB):   9%  12.5MB\r",
        "  Downloading basemap-1.0.7.tar.gz (129.7MB):   9%  12.5MB\r",
        "  Downloading basemap-1.0.7.tar.gz (129.7MB):   9%  12.5MB\r",
        "  Downloading basemap-1.0.7.tar.gz (129.7MB):   9%  12.5MB\r",
        "  Downloading basemap-1.0.7.tar.gz (129.7MB):   9%  12.5MB\r",
        "  Downloading basemap-1.0.7.tar.gz (129.7MB):   9%  12.5MB"
       ]
      },
      {
       "output_type": "stream",
       "stream": "stdout",
       "text": [
        "\r",
        "  Downloading basemap-1.0.7.tar.gz (129.7MB):   9%  12.5MB\r",
        "  Downloading basemap-1.0.7.tar.gz (129.7MB):   9%  12.5MB\r",
        "  Downloading basemap-1.0.7.tar.gz (129.7MB):   9%  12.5MB\r",
        "  Downloading basemap-1.0.7.tar.gz (129.7MB):   9%  12.5MB\r",
        "  Downloading basemap-1.0.7.tar.gz (129.7MB):   9%  12.6MB\r",
        "  Downloading basemap-1.0.7.tar.gz (129.7MB):   9%  12.6MB\r",
        "  Downloading basemap-1.0.7.tar.gz (129.7MB):   9%  12.6MB\r",
        "  Downloading basemap-1.0.7.tar.gz (129.7MB):   9%  12.6MB\r",
        "  Downloading basemap-1.0.7.tar.gz (129.7MB):   9%  12.6MB\r",
        "  Downloading basemap-1.0.7.tar.gz (129.7MB):   9%  12.6MB\r",
        "  Downloading basemap-1.0.7.tar.gz (129.7MB):   9%  12.6MB\r",
        "  Downloading basemap-1.0.7.tar.gz (129.7MB):   9%  12.6MB"
       ]
      },
      {
       "output_type": "stream",
       "stream": "stdout",
       "text": [
        "\r",
        "  Downloading basemap-1.0.7.tar.gz (129.7MB):   9%  12.6MB\r",
        "  Downloading basemap-1.0.7.tar.gz (129.7MB):   9%  12.6MB\r",
        "  Downloading basemap-1.0.7.tar.gz (129.7MB):   9%  12.6MB\r",
        "  Downloading basemap-1.0.7.tar.gz (129.7MB):   9%  12.6MB\r",
        "  Downloading basemap-1.0.7.tar.gz (129.7MB):   9%  12.6MB\r",
        "  Downloading basemap-1.0.7.tar.gz (129.7MB):   9%  12.6MB"
       ]
      },
      {
       "output_type": "stream",
       "stream": "stdout",
       "text": [
        "\r",
        "  Downloading basemap-1.0.7.tar.gz (129.7MB):   9%  12.6MB\r",
        "  Downloading basemap-1.0.7.tar.gz (129.7MB):   9%  12.6MB\r",
        "  Downloading basemap-1.0.7.tar.gz (129.7MB):   9%  12.6MB\r",
        "  Downloading basemap-1.0.7.tar.gz (129.7MB):   9%  12.6MB\r",
        "  Downloading basemap-1.0.7.tar.gz (129.7MB):   9%  12.6MB\r",
        "  Downloading basemap-1.0.7.tar.gz (129.7MB):   9%  12.6MB\r",
        "  Downloading basemap-1.0.7.tar.gz (129.7MB):   9%  12.6MB"
       ]
      },
      {
       "output_type": "stream",
       "stream": "stdout",
       "text": [
        "\r",
        "  Downloading basemap-1.0.7.tar.gz (129.7MB):   9%  12.6MB\r",
        "  Downloading basemap-1.0.7.tar.gz (129.7MB):   9%  12.6MB\r",
        "  Downloading basemap-1.0.7.tar.gz (129.7MB):   9%  12.6MB\r",
        "  Downloading basemap-1.0.7.tar.gz (129.7MB):   9%  12.6MB\r",
        "  Downloading basemap-1.0.7.tar.gz (129.7MB):   9%  12.7MB\r",
        "  Downloading basemap-1.0.7.tar.gz (129.7MB):   9%  12.7MB\r",
        "  Downloading basemap-1.0.7.tar.gz (129.7MB):   9%  12.7MB\r",
        "  Downloading basemap-1.0.7.tar.gz (129.7MB):   9%  12.7MB\r",
        "  Downloading basemap-1.0.7.tar.gz (129.7MB):   9%  12.7MB\r",
        "  Downloading basemap-1.0.7.tar.gz (129.7MB):   9%  12.7MB\r",
        "  Downloading basemap-1.0.7.tar.gz (129.7MB):   9%  12.7MB\r",
        "  Downloading basemap-1.0.7.tar.gz (129.7MB):   9%  12.7MB"
       ]
      },
      {
       "output_type": "stream",
       "stream": "stdout",
       "text": [
        "\r",
        "  Downloading basemap-1.0.7.tar.gz (129.7MB):   9%  12.7MB\r",
        "  Downloading basemap-1.0.7.tar.gz (129.7MB):   9%  12.7MB\r",
        "  Downloading basemap-1.0.7.tar.gz (129.7MB):   9%  12.7MB\r",
        "  Downloading basemap-1.0.7.tar.gz (129.7MB):   9%  12.7MB\r",
        "  Downloading basemap-1.0.7.tar.gz (129.7MB):   9%  12.7MB\r",
        "  Downloading basemap-1.0.7.tar.gz (129.7MB):   9%  12.7MB\r",
        "  Downloading basemap-1.0.7.tar.gz (129.7MB):   9%  12.7MB\r",
        "  Downloading basemap-1.0.7.tar.gz (129.7MB):   9%  12.7MB\r",
        "  Downloading basemap-1.0.7.tar.gz (129.7MB):   9%  12.7MB\r",
        "  Downloading basemap-1.0.7.tar.gz (129.7MB):   9%  12.7MB\r",
        "  Downloading basemap-1.0.7.tar.gz (129.7MB):   9%  12.7MB\r",
        "  Downloading basemap-1.0.7.tar.gz (129.7MB):   9%  12.7MB\r",
        "  Downloading basemap-1.0.7.tar.gz (129.7MB):   9%  12.7MB\r",
        "  Downloading basemap-1.0.7.tar.gz (129.7MB):   9%  12.7MB\r",
        "  Downloading basemap-1.0.7.tar.gz (129.7MB):   9%  12.7MB\r",
        "  Downloading basemap-1.0.7.tar.gz (129.7MB):   9%  12.7MB\r",
        "  Downloading basemap-1.0.7.tar.gz (129.7MB):   9%  12.8MB\r",
        "  Downloading basemap-1.0.7.tar.gz (129.7MB):   9%  12.8MB"
       ]
      },
      {
       "output_type": "stream",
       "stream": "stdout",
       "text": [
        "\r",
        "  Downloading basemap-1.0.7.tar.gz (129.7MB):   9%  12.8MB\r",
        "  Downloading basemap-1.0.7.tar.gz (129.7MB):   9%  12.8MB\r",
        "  Downloading basemap-1.0.7.tar.gz (129.7MB):   9%  12.8MB\r",
        "  Downloading basemap-1.0.7.tar.gz (129.7MB):   9%  12.8MB\r",
        "  Downloading basemap-1.0.7.tar.gz (129.7MB):   9%  12.8MB\r",
        "  Downloading basemap-1.0.7.tar.gz (129.7MB):   9%  12.8MB\r",
        "  Downloading basemap-1.0.7.tar.gz (129.7MB):   9%  12.8MB\r",
        "  Downloading basemap-1.0.7.tar.gz (129.7MB):   9%  12.8MB\r",
        "  Downloading basemap-1.0.7.tar.gz (129.7MB):   9%  12.8MB\r",
        "  Downloading basemap-1.0.7.tar.gz (129.7MB):   9%  12.8MB\r",
        "  Downloading basemap-1.0.7.tar.gz (129.7MB):   9%  12.8MB\r",
        "  Downloading basemap-1.0.7.tar.gz (129.7MB):   9%  12.8MB"
       ]
      },
      {
       "output_type": "stream",
       "stream": "stdout",
       "text": [
        "\r",
        "  Downloading basemap-1.0.7.tar.gz (129.7MB):   9%  12.8MB\r",
        "  Downloading basemap-1.0.7.tar.gz (129.7MB):   9%  12.8MB\r",
        "  Downloading basemap-1.0.7.tar.gz (129.7MB):   9%  12.8MB\r",
        "  Downloading basemap-1.0.7.tar.gz (129.7MB):   9%  12.8MB\r",
        "  Downloading basemap-1.0.7.tar.gz (129.7MB):   9%  12.8MB\r",
        "  Downloading basemap-1.0.7.tar.gz (129.7MB):   9%  12.8MB\r",
        "  Downloading basemap-1.0.7.tar.gz (129.7MB):   9%  12.8MB"
       ]
      },
      {
       "output_type": "stream",
       "stream": "stdout",
       "text": [
        "\r",
        "  Downloading basemap-1.0.7.tar.gz (129.7MB):   9%  12.8MB\r",
        "  Downloading basemap-1.0.7.tar.gz (129.7MB):   9%  12.8MB\r",
        "  Downloading basemap-1.0.7.tar.gz (129.7MB):   9%  12.8MB\r",
        "  Downloading basemap-1.0.7.tar.gz (129.7MB):   9%  12.8MB\r",
        "  Downloading basemap-1.0.7.tar.gz (129.7MB):   9%  12.9MB\r",
        "  Downloading basemap-1.0.7.tar.gz (129.7MB):   9%  12.9MB\r",
        "  Downloading basemap-1.0.7.tar.gz (129.7MB):   9%  12.9MB\r",
        "  Downloading basemap-1.0.7.tar.gz (129.7MB):   9%  12.9MB"
       ]
      },
      {
       "output_type": "stream",
       "stream": "stdout",
       "text": [
        "\r",
        "  Downloading basemap-1.0.7.tar.gz (129.7MB):   9%  12.9MB\r",
        "  Downloading basemap-1.0.7.tar.gz (129.7MB):   9%  12.9MB\r",
        "  Downloading basemap-1.0.7.tar.gz (129.7MB):   9%  12.9MB\r",
        "  Downloading basemap-1.0.7.tar.gz (129.7MB):   9%  12.9MB\r",
        "  Downloading basemap-1.0.7.tar.gz (129.7MB):   9%  12.9MB\r",
        "  Downloading basemap-1.0.7.tar.gz (129.7MB):   9%  12.9MB\r",
        "  Downloading basemap-1.0.7.tar.gz (129.7MB):   9%  12.9MB\r",
        "  Downloading basemap-1.0.7.tar.gz (129.7MB):   9%  12.9MB\r",
        "  Downloading basemap-1.0.7.tar.gz (129.7MB):   9%  12.9MB\r",
        "  Downloading basemap-1.0.7.tar.gz (129.7MB):   9%  12.9MB\r",
        "  Downloading basemap-1.0.7.tar.gz (129.7MB):   9%  12.9MB"
       ]
      },
      {
       "output_type": "stream",
       "stream": "stdout",
       "text": [
        "\r",
        "  Downloading basemap-1.0.7.tar.gz (129.7MB):   9%  12.9MB\r",
        "  Downloading basemap-1.0.7.tar.gz (129.7MB):   9%  12.9MB"
       ]
      },
      {
       "output_type": "stream",
       "stream": "stdout",
       "text": [
        "\r",
        "  Downloading basemap-1.0.7.tar.gz (129.7MB):   9%  12.9MB\r",
        "  Downloading basemap-1.0.7.tar.gz (129.7MB):   9%  12.9MB\r",
        "  Downloading basemap-1.0.7.tar.gz (129.7MB):   9%  12.9MB\r",
        "  Downloading basemap-1.0.7.tar.gz (129.7MB):   9%  12.9MB\r",
        "  Downloading basemap-1.0.7.tar.gz (129.7MB):   9%  12.9MB\r",
        "  Downloading basemap-1.0.7.tar.gz (129.7MB):   9%  12.9MB\r",
        "  Downloading basemap-1.0.7.tar.gz (129.7MB):   9%  12.9MB\r",
        "  Downloading basemap-1.0.7.tar.gz (129.7MB):   9%  13.0MB\r",
        "  Downloading basemap-1.0.7.tar.gz (129.7MB):   9%  13.0MB\r",
        "  Downloading basemap-1.0.7.tar.gz (129.7MB):   9%  13.0MB\r",
        "  Downloading basemap-1.0.7.tar.gz (129.7MB):   9%  13.0MB\r",
        "  Downloading basemap-1.0.7.tar.gz (129.7MB):   9%  13.0MB\r",
        "  Downloading basemap-1.0.7.tar.gz (129.7MB):  10%  13.0MB\r",
        "  Downloading basemap-1.0.7.tar.gz (129.7MB):  10%  13.0MB\r",
        "  Downloading basemap-1.0.7.tar.gz (129.7MB):  10%  13.0MB\r",
        "  Downloading basemap-1.0.7.tar.gz (129.7MB):  10%  13.0MB\r",
        "  Downloading basemap-1.0.7.tar.gz (129.7MB):  10%  13.0MB\r",
        "  Downloading basemap-1.0.7.tar.gz (129.7MB):  10%  13.0MB"
       ]
      },
      {
       "output_type": "stream",
       "stream": "stdout",
       "text": [
        "\r",
        "  Downloading basemap-1.0.7.tar.gz (129.7MB):  10%  13.0MB\r",
        "  Downloading basemap-1.0.7.tar.gz (129.7MB):  10%  13.0MB\r",
        "  Downloading basemap-1.0.7.tar.gz (129.7MB):  10%  13.0MB\r",
        "  Downloading basemap-1.0.7.tar.gz (129.7MB):  10%  13.0MB\r",
        "  Downloading basemap-1.0.7.tar.gz (129.7MB):  10%  13.0MB\r",
        "  Downloading basemap-1.0.7.tar.gz (129.7MB):  10%  13.0MB\r",
        "  Downloading basemap-1.0.7.tar.gz (129.7MB):  10%  13.0MB\r",
        "  Downloading basemap-1.0.7.tar.gz (129.7MB):  10%  13.0MB\r",
        "  Downloading basemap-1.0.7.tar.gz (129.7MB):  10%  13.0MB\r",
        "  Downloading basemap-1.0.7.tar.gz (129.7MB):  10%  13.0MB\r",
        "  Downloading basemap-1.0.7.tar.gz (129.7MB):  10%  13.0MB\r",
        "  Downloading basemap-1.0.7.tar.gz (129.7MB):  10%  13.0MB\r",
        "  Downloading basemap-1.0.7.tar.gz (129.7MB):  10%  13.0MB"
       ]
      },
      {
       "output_type": "stream",
       "stream": "stdout",
       "text": [
        "\r",
        "  Downloading basemap-1.0.7.tar.gz (129.7MB):  10%  13.0MB\r",
        "  Downloading basemap-1.0.7.tar.gz (129.7MB):  10%  13.1MB\r",
        "  Downloading basemap-1.0.7.tar.gz (129.7MB):  10%  13.1MB\r",
        "  Downloading basemap-1.0.7.tar.gz (129.7MB):  10%  13.1MB\r",
        "  Downloading basemap-1.0.7.tar.gz (129.7MB):  10%  13.1MB\r",
        "  Downloading basemap-1.0.7.tar.gz (129.7MB):  10%  13.1MB\r",
        "  Downloading basemap-1.0.7.tar.gz (129.7MB):  10%  13.1MB"
       ]
      },
      {
       "output_type": "stream",
       "stream": "stdout",
       "text": [
        "\r",
        "  Downloading basemap-1.0.7.tar.gz (129.7MB):  10%  13.1MB\r",
        "  Downloading basemap-1.0.7.tar.gz (129.7MB):  10%  13.1MB\r",
        "  Downloading basemap-1.0.7.tar.gz (129.7MB):  10%  13.1MB\r",
        "  Downloading basemap-1.0.7.tar.gz (129.7MB):  10%  13.1MB\r",
        "  Downloading basemap-1.0.7.tar.gz (129.7MB):  10%  13.1MB\r",
        "  Downloading basemap-1.0.7.tar.gz (129.7MB):  10%  13.1MB\r",
        "  Downloading basemap-1.0.7.tar.gz (129.7MB):  10%  13.1MB\r",
        "  Downloading basemap-1.0.7.tar.gz (129.7MB):  10%  13.1MB\r",
        "  Downloading basemap-1.0.7.tar.gz (129.7MB):  10%  13.1MB"
       ]
      },
      {
       "output_type": "stream",
       "stream": "stdout",
       "text": [
        "\r",
        "  Downloading basemap-1.0.7.tar.gz (129.7MB):  10%  13.1MB\r",
        "  Downloading basemap-1.0.7.tar.gz (129.7MB):  10%  13.1MB\r",
        "  Downloading basemap-1.0.7.tar.gz (129.7MB):  10%  13.1MB\r",
        "  Downloading basemap-1.0.7.tar.gz (129.7MB):  10%  13.1MB\r",
        "  Downloading basemap-1.0.7.tar.gz (129.7MB):  10%  13.1MB\r",
        "  Downloading basemap-1.0.7.tar.gz (129.7MB):  10%  13.1MB\r",
        "  Downloading basemap-1.0.7.tar.gz (129.7MB):  10%  13.1MB\r",
        "  Downloading basemap-1.0.7.tar.gz (129.7MB):  10%  13.1MB\r",
        "  Downloading basemap-1.0.7.tar.gz (129.7MB):  10%  13.1MB\r",
        "  Downloading basemap-1.0.7.tar.gz (129.7MB):  10%  13.2MB\r",
        "  Downloading basemap-1.0.7.tar.gz (129.7MB):  10%  13.2MB"
       ]
      },
      {
       "output_type": "stream",
       "stream": "stdout",
       "text": [
        "\r",
        "  Downloading basemap-1.0.7.tar.gz (129.7MB):  10%  13.2MB\r",
        "  Downloading basemap-1.0.7.tar.gz (129.7MB):  10%  13.2MB"
       ]
      },
      {
       "output_type": "stream",
       "stream": "stdout",
       "text": [
        "\r",
        "  Downloading basemap-1.0.7.tar.gz (129.7MB):  10%  13.2MB\r",
        "  Downloading basemap-1.0.7.tar.gz (129.7MB):  10%  13.2MB\r",
        "  Downloading basemap-1.0.7.tar.gz (129.7MB):  10%  13.2MB\r",
        "  Downloading basemap-1.0.7.tar.gz (129.7MB):  10%  13.2MB\r",
        "  Downloading basemap-1.0.7.tar.gz (129.7MB):  10%  13.2MB\r",
        "  Downloading basemap-1.0.7.tar.gz (129.7MB):  10%  13.2MB\r",
        "  Downloading basemap-1.0.7.tar.gz (129.7MB):  10%  13.2MB\r",
        "  Downloading basemap-1.0.7.tar.gz (129.7MB):  10%  13.2MB\r",
        "  Downloading basemap-1.0.7.tar.gz (129.7MB):  10%  13.2MB\r",
        "  Downloading basemap-1.0.7.tar.gz (129.7MB):  10%  13.2MB\r",
        "  Downloading basemap-1.0.7.tar.gz (129.7MB):  10%  13.2MB\r",
        "  Downloading basemap-1.0.7.tar.gz (129.7MB):  10%  13.2MB\r",
        "  Downloading basemap-1.0.7.tar.gz (129.7MB):  10%  13.2MB\r",
        "  Downloading basemap-1.0.7.tar.gz (129.7MB):  10%  13.2MB\r",
        "  Downloading basemap-1.0.7.tar.gz (129.7MB):  10%  13.2MB\r",
        "  Downloading basemap-1.0.7.tar.gz (129.7MB):  10%  13.2MB\r",
        "  Downloading basemap-1.0.7.tar.gz (129.7MB):  10%  13.2MB\r",
        "  Downloading basemap-1.0.7.tar.gz (129.7MB):  10%  13.2MB"
       ]
      },
      {
       "output_type": "stream",
       "stream": "stdout",
       "text": [
        "\r",
        "  Downloading basemap-1.0.7.tar.gz (129.7MB):  10%  13.2MB\r",
        "  Downloading basemap-1.0.7.tar.gz (129.7MB):  10%  13.2MB\r",
        "  Downloading basemap-1.0.7.tar.gz (129.7MB):  10%  13.3MB\r",
        "  Downloading basemap-1.0.7.tar.gz (129.7MB):  10%  13.3MB\r",
        "  Downloading basemap-1.0.7.tar.gz (129.7MB):  10%  13.3MB\r",
        "  Downloading basemap-1.0.7.tar.gz (129.7MB):  10%  13.3MB\r",
        "  Downloading basemap-1.0.7.tar.gz (129.7MB):  10%  13.3MB\r",
        "  Downloading basemap-1.0.7.tar.gz (129.7MB):  10%  13.3MB\r",
        "  Downloading basemap-1.0.7.tar.gz (129.7MB):  10%  13.3MB\r",
        "  Downloading basemap-1.0.7.tar.gz (129.7MB):  10%  13.3MB\r",
        "  Downloading basemap-1.0.7.tar.gz (129.7MB):  10%  13.3MB\r",
        "  Downloading basemap-1.0.7.tar.gz (129.7MB):  10%  13.3MB\r",
        "  Downloading basemap-1.0.7.tar.gz (129.7MB):  10%  13.3MB\r",
        "  Downloading basemap-1.0.7.tar.gz (129.7MB):  10%  13.3MB\r",
        "  Downloading basemap-1.0.7.tar.gz (129.7MB):  10%  13.3MB\r",
        "  Downloading basemap-1.0.7.tar.gz (129.7MB):  10%  13.3MB"
       ]
      },
      {
       "output_type": "stream",
       "stream": "stdout",
       "text": [
        "\r",
        "  Downloading basemap-1.0.7.tar.gz (129.7MB):  10%  13.3MB\r",
        "  Downloading basemap-1.0.7.tar.gz (129.7MB):  10%  13.3MB\r",
        "  Downloading basemap-1.0.7.tar.gz (129.7MB):  10%  13.3MB\r",
        "  Downloading basemap-1.0.7.tar.gz (129.7MB):  10%  13.3MB"
       ]
      },
      {
       "output_type": "stream",
       "stream": "stdout",
       "text": [
        "\r",
        "  Downloading basemap-1.0.7.tar.gz (129.7MB):  10%  13.3MB\r",
        "  Downloading basemap-1.0.7.tar.gz (129.7MB):  10%  13.3MB\r",
        "  Downloading basemap-1.0.7.tar.gz (129.7MB):  10%  13.3MB\r",
        "  Downloading basemap-1.0.7.tar.gz (129.7MB):  10%  13.3MB\r",
        "  Downloading basemap-1.0.7.tar.gz (129.7MB):  10%  13.3MB\r",
        "  Downloading basemap-1.0.7.tar.gz (129.7MB):  10%  13.3MB\r",
        "  Downloading basemap-1.0.7.tar.gz (129.7MB):  10%  13.3MB\r",
        "  Downloading basemap-1.0.7.tar.gz (129.7MB):  10%  13.4MB\r",
        "  Downloading basemap-1.0.7.tar.gz (129.7MB):  10%  13.4MB\r",
        "  Downloading basemap-1.0.7.tar.gz (129.7MB):  10%  13.4MB\r",
        "  Downloading basemap-1.0.7.tar.gz (129.7MB):  10%  13.4MB\r",
        "  Downloading basemap-1.0.7.tar.gz (129.7MB):  10%  13.4MB"
       ]
      },
      {
       "output_type": "stream",
       "stream": "stdout",
       "text": [
        "\r",
        "  Downloading basemap-1.0.7.tar.gz (129.7MB):  10%  13.4MB\r",
        "  Downloading basemap-1.0.7.tar.gz (129.7MB):  10%  13.4MB\r",
        "  Downloading basemap-1.0.7.tar.gz (129.7MB):  10%  13.4MB\r",
        "  Downloading basemap-1.0.7.tar.gz (129.7MB):  10%  13.4MB\r",
        "  Downloading basemap-1.0.7.tar.gz (129.7MB):  10%  13.4MB\r",
        "  Downloading basemap-1.0.7.tar.gz (129.7MB):  10%  13.4MB\r",
        "  Downloading basemap-1.0.7.tar.gz (129.7MB):  10%  13.4MB\r",
        "  Downloading basemap-1.0.7.tar.gz (129.7MB):  10%  13.4MB\r",
        "  Downloading basemap-1.0.7.tar.gz (129.7MB):  10%  13.4MB"
       ]
      },
      {
       "output_type": "stream",
       "stream": "stdout",
       "text": [
        "\r",
        "  Downloading basemap-1.0.7.tar.gz (129.7MB):  10%  13.4MB\r",
        "  Downloading basemap-1.0.7.tar.gz (129.7MB):  10%  13.4MB\r",
        "  Downloading basemap-1.0.7.tar.gz (129.7MB):  10%  13.4MB\r",
        "  Downloading basemap-1.0.7.tar.gz (129.7MB):  10%  13.4MB"
       ]
      },
      {
       "output_type": "stream",
       "stream": "stdout",
       "text": [
        "\r",
        "  Downloading basemap-1.0.7.tar.gz (129.7MB):  10%  13.4MB\r",
        "  Downloading basemap-1.0.7.tar.gz (129.7MB):  10%  13.4MB\r",
        "  Downloading basemap-1.0.7.tar.gz (129.7MB):  10%  13.4MB\r",
        "  Downloading basemap-1.0.7.tar.gz (129.7MB):  10%  13.4MB\r",
        "  Downloading basemap-1.0.7.tar.gz (129.7MB):  10%  13.4MB\r",
        "  Downloading basemap-1.0.7.tar.gz (129.7MB):  10%  13.4MB\r",
        "  Downloading basemap-1.0.7.tar.gz (129.7MB):  10%  13.5MB\r",
        "  Downloading basemap-1.0.7.tar.gz (129.7MB):  10%  13.5MB\r",
        "  Downloading basemap-1.0.7.tar.gz (129.7MB):  10%  13.5MB\r",
        "  Downloading basemap-1.0.7.tar.gz (129.7MB):  10%  13.5MB\r",
        "  Downloading basemap-1.0.7.tar.gz (129.7MB):  10%  13.5MB\r",
        "  Downloading basemap-1.0.7.tar.gz (129.7MB):  10%  13.5MB\r",
        "  Downloading basemap-1.0.7.tar.gz (129.7MB):  10%  13.5MB\r",
        "  Downloading basemap-1.0.7.tar.gz (129.7MB):  10%  13.5MB\r",
        "  Downloading basemap-1.0.7.tar.gz (129.7MB):  10%  13.5MB\r",
        "  Downloading basemap-1.0.7.tar.gz (129.7MB):  10%  13.5MB\r",
        "  Downloading basemap-1.0.7.tar.gz (129.7MB):  10%  13.5MB"
       ]
      },
      {
       "output_type": "stream",
       "stream": "stdout",
       "text": [
        "\r",
        "  Downloading basemap-1.0.7.tar.gz (129.7MB):  10%  13.5MB\r",
        "  Downloading basemap-1.0.7.tar.gz (129.7MB):  10%  13.5MB"
       ]
      },
      {
       "output_type": "stream",
       "stream": "stdout",
       "text": [
        "\r",
        "  Downloading basemap-1.0.7.tar.gz (129.7MB):  10%  13.5MB\r",
        "  Downloading basemap-1.0.7.tar.gz (129.7MB):  10%  13.5MB\r",
        "  Downloading basemap-1.0.7.tar.gz (129.7MB):  10%  13.5MB\r",
        "  Downloading basemap-1.0.7.tar.gz (129.7MB):  10%  13.5MB\r",
        "  Downloading basemap-1.0.7.tar.gz (129.7MB):  10%  13.5MB\r",
        "  Downloading basemap-1.0.7.tar.gz (129.7MB):  10%  13.5MB\r",
        "  Downloading basemap-1.0.7.tar.gz (129.7MB):  10%  13.5MB\r",
        "  Downloading basemap-1.0.7.tar.gz (129.7MB):  10%  13.5MB\r",
        "  Downloading basemap-1.0.7.tar.gz (129.7MB):  10%  13.5MB\r",
        "  Downloading basemap-1.0.7.tar.gz (129.7MB):  10%  13.5MB\r",
        "  Downloading basemap-1.0.7.tar.gz (129.7MB):  10%  13.5MB\r",
        "  Downloading basemap-1.0.7.tar.gz (129.7MB):  10%  13.5MB\r",
        "  Downloading basemap-1.0.7.tar.gz (129.7MB):  10%  13.6MB\r",
        "  Downloading basemap-1.0.7.tar.gz (129.7MB):  10%  13.6MB\r",
        "  Downloading basemap-1.0.7.tar.gz (129.7MB):  10%  13.6MB\r",
        "  Downloading basemap-1.0.7.tar.gz (129.7MB):  10%  13.6MB\r",
        "  Downloading basemap-1.0.7.tar.gz (129.7MB):  10%  13.6MB"
       ]
      },
      {
       "output_type": "stream",
       "stream": "stdout",
       "text": [
        "\r",
        "  Downloading basemap-1.0.7.tar.gz (129.7MB):  10%  13.6MB\r",
        "  Downloading basemap-1.0.7.tar.gz (129.7MB):  10%  13.6MB"
       ]
      },
      {
       "output_type": "stream",
       "stream": "stdout",
       "text": [
        "\r",
        "  Downloading basemap-1.0.7.tar.gz (129.7MB):  10%  13.6MB\r",
        "  Downloading basemap-1.0.7.tar.gz (129.7MB):  10%  13.6MB\r",
        "  Downloading basemap-1.0.7.tar.gz (129.7MB):  10%  13.6MB\r",
        "  Downloading basemap-1.0.7.tar.gz (129.7MB):  10%  13.6MB\r",
        "  Downloading basemap-1.0.7.tar.gz (129.7MB):  10%  13.6MB\r",
        "  Downloading basemap-1.0.7.tar.gz (129.7MB):  10%  13.6MB\r",
        "  Downloading basemap-1.0.7.tar.gz (129.7MB):  10%  13.6MB\r",
        "  Downloading basemap-1.0.7.tar.gz (129.7MB):  10%  13.6MB\r",
        "  Downloading basemap-1.0.7.tar.gz (129.7MB):  10%  13.6MB\r",
        "  Downloading basemap-1.0.7.tar.gz (129.7MB):  10%  13.6MB\r",
        "  Downloading basemap-1.0.7.tar.gz (129.7MB):  10%  13.6MB\r",
        "  Downloading basemap-1.0.7.tar.gz (129.7MB):  10%  13.6MB\r",
        "  Downloading basemap-1.0.7.tar.gz (129.7MB):  10%  13.6MB\r",
        "  Downloading basemap-1.0.7.tar.gz (129.7MB):  10%  13.6MB"
       ]
      },
      {
       "output_type": "stream",
       "stream": "stdout",
       "text": [
        "\r",
        "  Downloading basemap-1.0.7.tar.gz (129.7MB):  10%  13.6MB\r",
        "  Downloading basemap-1.0.7.tar.gz (129.7MB):  10%  13.6MB\r",
        "  Downloading basemap-1.0.7.tar.gz (129.7MB):  10%  13.6MB\r",
        "  Downloading basemap-1.0.7.tar.gz (129.7MB):  10%  13.7MB\r",
        "  Downloading basemap-1.0.7.tar.gz (129.7MB):  10%  13.7MB\r",
        "  Downloading basemap-1.0.7.tar.gz (129.7MB):  10%  13.7MB\r",
        "  Downloading basemap-1.0.7.tar.gz (129.7MB):  10%  13.7MB\r",
        "  Downloading basemap-1.0.7.tar.gz (129.7MB):  10%  13.7MB"
       ]
      },
      {
       "output_type": "stream",
       "stream": "stdout",
       "text": [
        "\r",
        "  Downloading basemap-1.0.7.tar.gz (129.7MB):  10%  13.7MB\r",
        "  Downloading basemap-1.0.7.tar.gz (129.7MB):  10%  13.7MB\r",
        "  Downloading basemap-1.0.7.tar.gz (129.7MB):  10%  13.7MB\r",
        "  Downloading basemap-1.0.7.tar.gz (129.7MB):  10%  13.7MB\r",
        "  Downloading basemap-1.0.7.tar.gz (129.7MB):  10%  13.7MB"
       ]
      },
      {
       "output_type": "stream",
       "stream": "stdout",
       "text": [
        "\r",
        "  Downloading basemap-1.0.7.tar.gz (129.7MB):  10%  13.7MB\r",
        "  Downloading basemap-1.0.7.tar.gz (129.7MB):  10%  13.7MB\r",
        "  Downloading basemap-1.0.7.tar.gz (129.7MB):  10%  13.7MB\r",
        "  Downloading basemap-1.0.7.tar.gz (129.7MB):  10%  13.7MB\r",
        "  Downloading basemap-1.0.7.tar.gz (129.7MB):  10%  13.7MB\r",
        "  Downloading basemap-1.0.7.tar.gz (129.7MB):  10%  13.7MB\r",
        "  Downloading basemap-1.0.7.tar.gz (129.7MB):  10%  13.7MB\r",
        "  Downloading basemap-1.0.7.tar.gz (129.7MB):  10%  13.7MB\r",
        "  Downloading basemap-1.0.7.tar.gz (129.7MB):  10%  13.7MB\r",
        "  Downloading basemap-1.0.7.tar.gz (129.7MB):  10%  13.7MB\r",
        "  Downloading basemap-1.0.7.tar.gz (129.7MB):  10%  13.7MB\r",
        "  Downloading basemap-1.0.7.tar.gz (129.7MB):  10%  13.7MB\r",
        "  Downloading basemap-1.0.7.tar.gz (129.7MB):  10%  13.7MB\r",
        "  Downloading basemap-1.0.7.tar.gz (129.7MB):  10%  13.7MB\r",
        "  Downloading basemap-1.0.7.tar.gz (129.7MB):  10%  13.8MB\r",
        "  Downloading basemap-1.0.7.tar.gz (129.7MB):  10%  13.8MB\r",
        "  Downloading basemap-1.0.7.tar.gz (129.7MB):  10%  13.8MB"
       ]
      },
      {
       "output_type": "stream",
       "stream": "stdout",
       "text": [
        "\r",
        "  Downloading basemap-1.0.7.tar.gz (129.7MB):  10%  13.8MB\r",
        "  Downloading basemap-1.0.7.tar.gz (129.7MB):  10%  13.8MB\r",
        "  Downloading basemap-1.0.7.tar.gz (129.7MB):  10%  13.8MB"
       ]
      },
      {
       "output_type": "stream",
       "stream": "stdout",
       "text": [
        "\r",
        "  Downloading basemap-1.0.7.tar.gz (129.7MB):  10%  13.8MB\r",
        "  Downloading basemap-1.0.7.tar.gz (129.7MB):  10%  13.8MB\r",
        "  Downloading basemap-1.0.7.tar.gz (129.7MB):  10%  13.8MB\r",
        "  Downloading basemap-1.0.7.tar.gz (129.7MB):  10%  13.8MB\r",
        "  Downloading basemap-1.0.7.tar.gz (129.7MB):  10%  13.8MB\r",
        "  Downloading basemap-1.0.7.tar.gz (129.7MB):  10%  13.8MB\r",
        "  Downloading basemap-1.0.7.tar.gz (129.7MB):  10%  13.8MB\r",
        "  Downloading basemap-1.0.7.tar.gz (129.7MB):  10%  13.8MB\r",
        "  Downloading basemap-1.0.7.tar.gz (129.7MB):  10%  13.8MB\r",
        "  Downloading basemap-1.0.7.tar.gz (129.7MB):  10%  13.8MB\r",
        "  Downloading basemap-1.0.7.tar.gz (129.7MB):  10%  13.8MB\r",
        "  Downloading basemap-1.0.7.tar.gz (129.7MB):  10%  13.8MB\r",
        "  Downloading basemap-1.0.7.tar.gz (129.7MB):  10%  13.8MB\r",
        "  Downloading basemap-1.0.7.tar.gz (129.7MB):  10%  13.8MB\r",
        "  Downloading basemap-1.0.7.tar.gz (129.7MB):  10%  13.8MB\r",
        "  Downloading basemap-1.0.7.tar.gz (129.7MB):  10%  13.8MB\r",
        "  Downloading basemap-1.0.7.tar.gz (129.7MB):  10%  13.8MB\r",
        "  Downloading basemap-1.0.7.tar.gz (129.7MB):  10%  13.8MB\r",
        "  Downloading basemap-1.0.7.tar.gz (129.7MB):  10%  13.8MB"
       ]
      },
      {
       "output_type": "stream",
       "stream": "stdout",
       "text": [
        "\r",
        "  Downloading basemap-1.0.7.tar.gz (129.7MB):  10%  13.9MB\r",
        "  Downloading basemap-1.0.7.tar.gz (129.7MB):  10%  13.9MB\r",
        "  Downloading basemap-1.0.7.tar.gz (129.7MB):  10%  13.9MB\r",
        "  Downloading basemap-1.0.7.tar.gz (129.7MB):  10%  13.9MB\r",
        "  Downloading basemap-1.0.7.tar.gz (129.7MB):  10%  13.9MB\r",
        "  Downloading basemap-1.0.7.tar.gz (129.7MB):  10%  13.9MB\r",
        "  Downloading basemap-1.0.7.tar.gz (129.7MB):  10%  13.9MB\r",
        "  Downloading basemap-1.0.7.tar.gz (129.7MB):  10%  13.9MB\r",
        "  Downloading basemap-1.0.7.tar.gz (129.7MB):  10%  13.9MB\r",
        "  Downloading basemap-1.0.7.tar.gz (129.7MB):  10%  13.9MB\r",
        "  Downloading basemap-1.0.7.tar.gz (129.7MB):  10%  13.9MB\r",
        "  Downloading basemap-1.0.7.tar.gz (129.7MB):  10%  13.9MB\r",
        "  Downloading basemap-1.0.7.tar.gz (129.7MB):  10%  13.9MB\r",
        "  Downloading basemap-1.0.7.tar.gz (129.7MB):  10%  13.9MB\r",
        "  Downloading basemap-1.0.7.tar.gz (129.7MB):  10%  13.9MB"
       ]
      },
      {
       "output_type": "stream",
       "stream": "stdout",
       "text": [
        "\r",
        "  Downloading basemap-1.0.7.tar.gz (129.7MB):  10%  13.9MB\r",
        "  Downloading basemap-1.0.7.tar.gz (129.7MB):  10%  13.9MB\r",
        "  Downloading basemap-1.0.7.tar.gz (129.7MB):  10%  13.9MB\r",
        "  Downloading basemap-1.0.7.tar.gz (129.7MB):  10%  13.9MB\r",
        "  Downloading basemap-1.0.7.tar.gz (129.7MB):  10%  13.9MB\r",
        "  Downloading basemap-1.0.7.tar.gz (129.7MB):  10%  13.9MB\r",
        "  Downloading basemap-1.0.7.tar.gz (129.7MB):  10%  13.9MB\r",
        "  Downloading basemap-1.0.7.tar.gz (129.7MB):  10%  13.9MB"
       ]
      },
      {
       "output_type": "stream",
       "stream": "stdout",
       "text": [
        "\r",
        "  Downloading basemap-1.0.7.tar.gz (129.7MB):  10%  13.9MB\r",
        "  Downloading basemap-1.0.7.tar.gz (129.7MB):  10%  14.0MB\r",
        "  Downloading basemap-1.0.7.tar.gz (129.7MB):  10%  14.0MB\r",
        "  Downloading basemap-1.0.7.tar.gz (129.7MB):  10%  14.0MB\r",
        "  Downloading basemap-1.0.7.tar.gz (129.7MB):  10%  14.0MB\r",
        "  Downloading basemap-1.0.7.tar.gz (129.7MB):  10%  14.0MB\r",
        "  Downloading basemap-1.0.7.tar.gz (129.7MB):  10%  14.0MB"
       ]
      },
      {
       "output_type": "stream",
       "stream": "stdout",
       "text": [
        "\r",
        "  Downloading basemap-1.0.7.tar.gz (129.7MB):  10%  14.0MB\r",
        "  Downloading basemap-1.0.7.tar.gz (129.7MB):  10%  14.0MB\r",
        "  Downloading basemap-1.0.7.tar.gz (129.7MB):  10%  14.0MB\r",
        "  Downloading basemap-1.0.7.tar.gz (129.7MB):  10%  14.0MB\r",
        "  Downloading basemap-1.0.7.tar.gz (129.7MB):  10%  14.0MB\r",
        "  Downloading basemap-1.0.7.tar.gz (129.7MB):  10%  14.0MB\r",
        "  Downloading basemap-1.0.7.tar.gz (129.7MB):  10%  14.0MB\r",
        "  Downloading basemap-1.0.7.tar.gz (129.7MB):  10%  14.0MB\r",
        "  Downloading basemap-1.0.7.tar.gz (129.7MB):  10%  14.0MB\r",
        "  Downloading basemap-1.0.7.tar.gz (129.7MB):  10%  14.0MB\r",
        "  Downloading basemap-1.0.7.tar.gz (129.7MB):  10%  14.0MB\r",
        "  Downloading basemap-1.0.7.tar.gz (129.7MB):  10%  14.0MB\r",
        "  Downloading basemap-1.0.7.tar.gz (129.7MB):  10%  14.0MB\r",
        "  Downloading basemap-1.0.7.tar.gz (129.7MB):  10%  14.0MB\r",
        "  Downloading basemap-1.0.7.tar.gz (129.7MB):  10%  14.0MB\r",
        "  Downloading basemap-1.0.7.tar.gz (129.7MB):  10%  14.0MB"
       ]
      },
      {
       "output_type": "stream",
       "stream": "stdout",
       "text": [
        "\r",
        "  Downloading basemap-1.0.7.tar.gz (129.7MB):  10%  14.0MB\r",
        "  Downloading basemap-1.0.7.tar.gz (129.7MB):  10%  14.0MB\r",
        "  Downloading basemap-1.0.7.tar.gz (129.7MB):  10%  14.0MB\r",
        "  Downloading basemap-1.0.7.tar.gz (129.7MB):  10%  14.1MB"
       ]
      },
      {
       "output_type": "stream",
       "stream": "stdout",
       "text": [
        "\r",
        "  Downloading basemap-1.0.7.tar.gz (129.7MB):  10%  14.1MB\r",
        "  Downloading basemap-1.0.7.tar.gz (129.7MB):  10%  14.1MB\r",
        "  Downloading basemap-1.0.7.tar.gz (129.7MB):  10%  14.1MB\r",
        "  Downloading basemap-1.0.7.tar.gz (129.7MB):  10%  14.1MB\r",
        "  Downloading basemap-1.0.7.tar.gz (129.7MB):  10%  14.1MB\r",
        "  Downloading basemap-1.0.7.tar.gz (129.7MB):  10%  14.1MB\r",
        "  Downloading basemap-1.0.7.tar.gz (129.7MB):  10%  14.1MB\r",
        "  Downloading basemap-1.0.7.tar.gz (129.7MB):  10%  14.1MB\r",
        "  Downloading basemap-1.0.7.tar.gz (129.7MB):  10%  14.1MB\r",
        "  Downloading basemap-1.0.7.tar.gz (129.7MB):  10%  14.1MB\r",
        "  Downloading basemap-1.0.7.tar.gz (129.7MB):  10%  14.1MB\r",
        "  Downloading basemap-1.0.7.tar.gz (129.7MB):  10%  14.1MB\r",
        "  Downloading basemap-1.0.7.tar.gz (129.7MB):  10%  14.1MB\r",
        "  Downloading basemap-1.0.7.tar.gz (129.7MB):  10%  14.1MB\r",
        "  Downloading basemap-1.0.7.tar.gz (129.7MB):  10%  14.1MB\r",
        "  Downloading basemap-1.0.7.tar.gz (129.7MB):  10%  14.1MB\r",
        "  Downloading basemap-1.0.7.tar.gz (129.7MB):  10%  14.1MB\r",
        "  Downloading basemap-1.0.7.tar.gz (129.7MB):  10%  14.1MB\r",
        "  Downloading basemap-1.0.7.tar.gz (129.7MB):  10%  14.1MB"
       ]
      },
      {
       "output_type": "stream",
       "stream": "stdout",
       "text": [
        "\r",
        "  Downloading basemap-1.0.7.tar.gz (129.7MB):  10%  14.1MB\r",
        "  Downloading basemap-1.0.7.tar.gz (129.7MB):  10%  14.1MB\r",
        "  Downloading basemap-1.0.7.tar.gz (129.7MB):  10%  14.1MB\r",
        "  Downloading basemap-1.0.7.tar.gz (129.7MB):  10%  14.1MB\r",
        "  Downloading basemap-1.0.7.tar.gz (129.7MB):  10%  14.2MB\r",
        "  Downloading basemap-1.0.7.tar.gz (129.7MB):  10%  14.2MB\r",
        "  Downloading basemap-1.0.7.tar.gz (129.7MB):  10%  14.2MB\r",
        "  Downloading basemap-1.0.7.tar.gz (129.7MB):  10%  14.2MB\r",
        "  Downloading basemap-1.0.7.tar.gz (129.7MB):  10%  14.2MB\r",
        "  Downloading basemap-1.0.7.tar.gz (129.7MB):  10%  14.2MB\r",
        "  Downloading basemap-1.0.7.tar.gz (129.7MB):  10%  14.2MB\r",
        "  Downloading basemap-1.0.7.tar.gz (129.7MB):  10%  14.2MB\r",
        "  Downloading basemap-1.0.7.tar.gz (129.7MB):  10%  14.2MB\r",
        "  Downloading basemap-1.0.7.tar.gz (129.7MB):  10%  14.2MB\r",
        "  Downloading basemap-1.0.7.tar.gz (129.7MB):  10%  14.2MB\r",
        "  Downloading basemap-1.0.7.tar.gz (129.7MB):  10%  14.2MB\r",
        "  Downloading basemap-1.0.7.tar.gz (129.7MB):  10%  14.2MB"
       ]
      },
      {
       "output_type": "stream",
       "stream": "stdout",
       "text": [
        "\r",
        "  Downloading basemap-1.0.7.tar.gz (129.7MB):  10%  14.2MB\r",
        "  Downloading basemap-1.0.7.tar.gz (129.7MB):  10%  14.2MB\r",
        "  Downloading basemap-1.0.7.tar.gz (129.7MB):  10%  14.2MB\r",
        "  Downloading basemap-1.0.7.tar.gz (129.7MB):  10%  14.2MB\r",
        "  Downloading basemap-1.0.7.tar.gz (129.7MB):  10%  14.2MB\r",
        "  Downloading basemap-1.0.7.tar.gz (129.7MB):  10%  14.2MB\r",
        "  Downloading basemap-1.0.7.tar.gz (129.7MB):  10%  14.2MB"
       ]
      },
      {
       "output_type": "stream",
       "stream": "stdout",
       "text": [
        "\r",
        "  Downloading basemap-1.0.7.tar.gz (129.7MB):  10%  14.2MB\r",
        "  Downloading basemap-1.0.7.tar.gz (129.7MB):  10%  14.2MB\r",
        "  Downloading basemap-1.0.7.tar.gz (129.7MB):  10%  14.2MB\r",
        "  Downloading basemap-1.0.7.tar.gz (129.7MB):  10%  14.2MB\r",
        "  Downloading basemap-1.0.7.tar.gz (129.7MB):  10%  14.2MB\r",
        "  Downloading basemap-1.0.7.tar.gz (129.7MB):  10%  14.3MB\r",
        "  Downloading basemap-1.0.7.tar.gz (129.7MB):  10%  14.3MB\r",
        "  Downloading basemap-1.0.7.tar.gz (129.7MB):  10%  14.3MB\r",
        "  Downloading basemap-1.0.7.tar.gz (129.7MB):  10%  14.3MB\r",
        "  Downloading basemap-1.0.7.tar.gz (129.7MB):  11%  14.3MB"
       ]
      },
      {
       "output_type": "stream",
       "stream": "stdout",
       "text": [
        "\r",
        "  Downloading basemap-1.0.7.tar.gz (129.7MB):  11%  14.3MB\r",
        "  Downloading basemap-1.0.7.tar.gz (129.7MB):  11%  14.3MB\r",
        "  Downloading basemap-1.0.7.tar.gz (129.7MB):  11%  14.3MB\r",
        "  Downloading basemap-1.0.7.tar.gz (129.7MB):  11%  14.3MB\r",
        "  Downloading basemap-1.0.7.tar.gz (129.7MB):  11%  14.3MB\r",
        "  Downloading basemap-1.0.7.tar.gz (129.7MB):  11%  14.3MB\r",
        "  Downloading basemap-1.0.7.tar.gz (129.7MB):  11%  14.3MB\r",
        "  Downloading basemap-1.0.7.tar.gz (129.7MB):  11%  14.3MB\r",
        "  Downloading basemap-1.0.7.tar.gz (129.7MB):  11%  14.3MB\r",
        "  Downloading basemap-1.0.7.tar.gz (129.7MB):  11%  14.3MB\r",
        "  Downloading basemap-1.0.7.tar.gz (129.7MB):  11%  14.3MB\r",
        "  Downloading basemap-1.0.7.tar.gz (129.7MB):  11%  14.3MB\r",
        "  Downloading basemap-1.0.7.tar.gz (129.7MB):  11%  14.3MB\r",
        "  Downloading basemap-1.0.7.tar.gz (129.7MB):  11%  14.3MB"
       ]
      },
      {
       "output_type": "stream",
       "stream": "stdout",
       "text": [
        "\r",
        "  Downloading basemap-1.0.7.tar.gz (129.7MB):  11%  14.3MB\r",
        "  Downloading basemap-1.0.7.tar.gz (129.7MB):  11%  14.3MB\r",
        "  Downloading basemap-1.0.7.tar.gz (129.7MB):  11%  14.3MB\r",
        "  Downloading basemap-1.0.7.tar.gz (129.7MB):  11%  14.3MB"
       ]
      },
      {
       "output_type": "stream",
       "stream": "stdout",
       "text": [
        "\r",
        "  Downloading basemap-1.0.7.tar.gz (129.7MB):  11%  14.3MB\r",
        "  Downloading basemap-1.0.7.tar.gz (129.7MB):  11%  14.4MB\r",
        "  Downloading basemap-1.0.7.tar.gz (129.7MB):  11%  14.4MB\r",
        "  Downloading basemap-1.0.7.tar.gz (129.7MB):  11%  14.4MB\r",
        "  Downloading basemap-1.0.7.tar.gz (129.7MB):  11%  14.4MB\r",
        "  Downloading basemap-1.0.7.tar.gz (129.7MB):  11%  14.4MB\r",
        "  Downloading basemap-1.0.7.tar.gz (129.7MB):  11%  14.4MB\r",
        "  Downloading basemap-1.0.7.tar.gz (129.7MB):  11%  14.4MB\r",
        "  Downloading basemap-1.0.7.tar.gz (129.7MB):  11%  14.4MB\r",
        "  Downloading basemap-1.0.7.tar.gz (129.7MB):  11%  14.4MB\r",
        "  Downloading basemap-1.0.7.tar.gz (129.7MB):  11%  14.4MB\r",
        "  Downloading basemap-1.0.7.tar.gz (129.7MB):  11%  14.4MB\r",
        "  Downloading basemap-1.0.7.tar.gz (129.7MB):  11%  14.4MB\r",
        "  Downloading basemap-1.0.7.tar.gz (129.7MB):  11%  14.4MB\r",
        "  Downloading basemap-1.0.7.tar.gz (129.7MB):  11%  14.4MB\r",
        "  Downloading basemap-1.0.7.tar.gz (129.7MB):  11%  14.4MB\r",
        "  Downloading basemap-1.0.7.tar.gz (129.7MB):  11%  14.4MB\r",
        "  Downloading basemap-1.0.7.tar.gz (129.7MB):  11%  14.4MB\r",
        "  Downloading basemap-1.0.7.tar.gz (129.7MB):  11%  14.4MB\r",
        "  Downloading basemap-1.0.7.tar.gz (129.7MB):  11%  14.4MB"
       ]
      },
      {
       "output_type": "stream",
       "stream": "stdout",
       "text": [
        "\r",
        "  Downloading basemap-1.0.7.tar.gz (129.7MB):  11%  14.4MB\r",
        "  Downloading basemap-1.0.7.tar.gz (129.7MB):  11%  14.4MB\r",
        "  Downloading basemap-1.0.7.tar.gz (129.7MB):  11%  14.4MB"
       ]
      },
      {
       "output_type": "stream",
       "stream": "stdout",
       "text": [
        "\r",
        "  Downloading basemap-1.0.7.tar.gz (129.7MB):  11%  14.4MB\r",
        "  Downloading basemap-1.0.7.tar.gz (129.7MB):  11%  14.4MB\r",
        "  Downloading basemap-1.0.7.tar.gz (129.7MB):  11%  14.5MB\r",
        "  Downloading basemap-1.0.7.tar.gz (129.7MB):  11%  14.5MB\r",
        "  Downloading basemap-1.0.7.tar.gz (129.7MB):  11%  14.5MB\r",
        "  Downloading basemap-1.0.7.tar.gz (129.7MB):  11%  14.5MB\r",
        "  Downloading basemap-1.0.7.tar.gz (129.7MB):  11%  14.5MB\r",
        "  Downloading basemap-1.0.7.tar.gz (129.7MB):  11%  14.5MB\r",
        "  Downloading basemap-1.0.7.tar.gz (129.7MB):  11%  14.5MB\r",
        "  Downloading basemap-1.0.7.tar.gz (129.7MB):  11%  14.5MB\r",
        "  Downloading basemap-1.0.7.tar.gz (129.7MB):  11%  14.5MB\r",
        "  Downloading basemap-1.0.7.tar.gz (129.7MB):  11%  14.5MB\r",
        "  Downloading basemap-1.0.7.tar.gz (129.7MB):  11%  14.5MB"
       ]
      },
      {
       "output_type": "stream",
       "stream": "stdout",
       "text": [
        "\r",
        "  Downloading basemap-1.0.7.tar.gz (129.7MB):  11%  14.5MB\r",
        "  Downloading basemap-1.0.7.tar.gz (129.7MB):  11%  14.5MB\r",
        "  Downloading basemap-1.0.7.tar.gz (129.7MB):  11%  14.5MB\r",
        "  Downloading basemap-1.0.7.tar.gz (129.7MB):  11%  14.5MB\r",
        "  Downloading basemap-1.0.7.tar.gz (129.7MB):  11%  14.5MB\r",
        "  Downloading basemap-1.0.7.tar.gz (129.7MB):  11%  14.5MB\r",
        "  Downloading basemap-1.0.7.tar.gz (129.7MB):  11%  14.5MB\r",
        "  Downloading basemap-1.0.7.tar.gz (129.7MB):  11%  14.5MB"
       ]
      },
      {
       "output_type": "stream",
       "stream": "stdout",
       "text": [
        "\r",
        "  Downloading basemap-1.0.7.tar.gz (129.7MB):  11%  14.5MB\r",
        "  Downloading basemap-1.0.7.tar.gz (129.7MB):  11%  14.5MB\r",
        "  Downloading basemap-1.0.7.tar.gz (129.7MB):  11%  14.5MB\r",
        "  Downloading basemap-1.0.7.tar.gz (129.7MB):  11%  14.5MB\r",
        "  Downloading basemap-1.0.7.tar.gz (129.7MB):  11%  14.5MB\r",
        "  Downloading basemap-1.0.7.tar.gz (129.7MB):  11%  14.5MB\r",
        "  Downloading basemap-1.0.7.tar.gz (129.7MB):  11%  14.6MB\r",
        "  Downloading basemap-1.0.7.tar.gz (129.7MB):  11%  14.6MB\r",
        "  Downloading basemap-1.0.7.tar.gz (129.7MB):  11%  14.6MB\r",
        "  Downloading basemap-1.0.7.tar.gz (129.7MB):  11%  14.6MB"
       ]
      },
      {
       "output_type": "stream",
       "stream": "stdout",
       "text": [
        "\r",
        "  Downloading basemap-1.0.7.tar.gz (129.7MB):  11%  14.6MB\r",
        "  Downloading basemap-1.0.7.tar.gz (129.7MB):  11%  14.6MB\r",
        "  Downloading basemap-1.0.7.tar.gz (129.7MB):  11%  14.6MB\r",
        "  Downloading basemap-1.0.7.tar.gz (129.7MB):  11%  14.6MB\r",
        "  Downloading basemap-1.0.7.tar.gz (129.7MB):  11%  14.6MB\r",
        "  Downloading basemap-1.0.7.tar.gz (129.7MB):  11%  14.6MB\r",
        "  Downloading basemap-1.0.7.tar.gz (129.7MB):  11%  14.6MB\r",
        "  Downloading basemap-1.0.7.tar.gz (129.7MB):  11%  14.6MB\r",
        "  Downloading basemap-1.0.7.tar.gz (129.7MB):  11%  14.6MB\r",
        "  Downloading basemap-1.0.7.tar.gz (129.7MB):  11%  14.6MB\r",
        "  Downloading basemap-1.0.7.tar.gz (129.7MB):  11%  14.6MB\r",
        "  Downloading basemap-1.0.7.tar.gz (129.7MB):  11%  14.6MB\r",
        "  Downloading basemap-1.0.7.tar.gz (129.7MB):  11%  14.6MB\r",
        "  Downloading basemap-1.0.7.tar.gz (129.7MB):  11%  14.6MB\r",
        "  Downloading basemap-1.0.7.tar.gz (129.7MB):  11%  14.6MB"
       ]
      },
      {
       "output_type": "stream",
       "stream": "stdout",
       "text": [
        "\r",
        "  Downloading basemap-1.0.7.tar.gz (129.7MB):  11%  14.6MB\r",
        "  Downloading basemap-1.0.7.tar.gz (129.7MB):  11%  14.6MB\r",
        "  Downloading basemap-1.0.7.tar.gz (129.7MB):  11%  14.6MB\r",
        "  Downloading basemap-1.0.7.tar.gz (129.7MB):  11%  14.6MB\r",
        "  Downloading basemap-1.0.7.tar.gz (129.7MB):  11%  14.6MB"
       ]
      },
      {
       "output_type": "stream",
       "stream": "stdout",
       "text": [
        "\r",
        "  Downloading basemap-1.0.7.tar.gz (129.7MB):  11%  14.7MB\r",
        "  Downloading basemap-1.0.7.tar.gz (129.7MB):  11%  14.7MB\r",
        "  Downloading basemap-1.0.7.tar.gz (129.7MB):  11%  14.7MB\r",
        "  Downloading basemap-1.0.7.tar.gz (129.7MB):  11%  14.7MB\r",
        "  Downloading basemap-1.0.7.tar.gz (129.7MB):  11%  14.7MB\r",
        "  Downloading basemap-1.0.7.tar.gz (129.7MB):  11%  14.7MB\r",
        "  Downloading basemap-1.0.7.tar.gz (129.7MB):  11%  14.7MB\r",
        "  Downloading basemap-1.0.7.tar.gz (129.7MB):  11%  14.7MB\r",
        "  Downloading basemap-1.0.7.tar.gz (129.7MB):  11%  14.7MB\r",
        "  Downloading basemap-1.0.7.tar.gz (129.7MB):  11%  14.7MB\r",
        "  Downloading basemap-1.0.7.tar.gz (129.7MB):  11%  14.7MB\r",
        "  Downloading basemap-1.0.7.tar.gz (129.7MB):  11%  14.7MB\r",
        "  Downloading basemap-1.0.7.tar.gz (129.7MB):  11%  14.7MB\r",
        "  Downloading basemap-1.0.7.tar.gz (129.7MB):  11%  14.7MB\r",
        "  Downloading basemap-1.0.7.tar.gz (129.7MB):  11%  14.7MB\r",
        "  Downloading basemap-1.0.7.tar.gz (129.7MB):  11%  14.7MB\r",
        "  Downloading basemap-1.0.7.tar.gz (129.7MB):  11%  14.7MB\r",
        "  Downloading basemap-1.0.7.tar.gz (129.7MB):  11%  14.7MB\r",
        "  Downloading basemap-1.0.7.tar.gz (129.7MB):  11%  14.7MB"
       ]
      },
      {
       "output_type": "stream",
       "stream": "stdout",
       "text": [
        "\r",
        "  Downloading basemap-1.0.7.tar.gz (129.7MB):  11%  14.7MB"
       ]
      },
      {
       "output_type": "stream",
       "stream": "stdout",
       "text": [
        "\r",
        "  Downloading basemap-1.0.7.tar.gz (129.7MB):  11%  14.7MB\r",
        "  Downloading basemap-1.0.7.tar.gz (129.7MB):  11%  14.7MB\r",
        "  Downloading basemap-1.0.7.tar.gz (129.7MB):  11%  14.7MB\r",
        "  Downloading basemap-1.0.7.tar.gz (129.7MB):  11%  14.7MB\r",
        "  Downloading basemap-1.0.7.tar.gz (129.7MB):  11%  14.7MB\r",
        "  Downloading basemap-1.0.7.tar.gz (129.7MB):  11%  14.8MB\r",
        "  Downloading basemap-1.0.7.tar.gz (129.7MB):  11%  14.8MB\r",
        "  Downloading basemap-1.0.7.tar.gz (129.7MB):  11%  14.8MB\r",
        "  Downloading basemap-1.0.7.tar.gz (129.7MB):  11%  14.8MB\r",
        "  Downloading basemap-1.0.7.tar.gz (129.7MB):  11%  14.8MB\r",
        "  Downloading basemap-1.0.7.tar.gz (129.7MB):  11%  14.8MB\r",
        "  Downloading basemap-1.0.7.tar.gz (129.7MB):  11%  14.8MB\r",
        "  Downloading basemap-1.0.7.tar.gz (129.7MB):  11%  14.8MB\r",
        "  Downloading basemap-1.0.7.tar.gz (129.7MB):  11%  14.8MB\r",
        "  Downloading basemap-1.0.7.tar.gz (129.7MB):  11%  14.8MB\r",
        "  Downloading basemap-1.0.7.tar.gz (129.7MB):  11%  14.8MB\r",
        "  Downloading basemap-1.0.7.tar.gz (129.7MB):  11%  14.8MB\r",
        "  Downloading basemap-1.0.7.tar.gz (129.7MB):  11%  14.8MB\r",
        "  Downloading basemap-1.0.7.tar.gz (129.7MB):  11%  14.8MB\r",
        "  Downloading basemap-1.0.7.tar.gz (129.7MB):  11%  14.8MB\r",
        "  Downloading basemap-1.0.7.tar.gz (129.7MB):  11%  14.8MB\r",
        "  Downloading basemap-1.0.7.tar.gz (129.7MB):  11%  14.8MB\r",
        "  Downloading basemap-1.0.7.tar.gz (129.7MB):  11%  14.8MB\r",
        "  Downloading basemap-1.0.7.tar.gz (129.7MB):  11%  14.8MB\r",
        "  Downloading basemap-1.0.7.tar.gz (129.7MB):  11%  14.8MB"
       ]
      },
      {
       "output_type": "stream",
       "stream": "stdout",
       "text": [
        "\r",
        "  Downloading basemap-1.0.7.tar.gz (129.7MB):  11%  14.8MB\r",
        "  Downloading basemap-1.0.7.tar.gz (129.7MB):  11%  14.8MB\r",
        "  Downloading basemap-1.0.7.tar.gz (129.7MB):  11%  14.8MB\r",
        "  Downloading basemap-1.0.7.tar.gz (129.7MB):  11%  14.8MB\r",
        "  Downloading basemap-1.0.7.tar.gz (129.7MB):  11%  14.9MB\r",
        "  Downloading basemap-1.0.7.tar.gz (129.7MB):  11%  14.9MB\r",
        "  Downloading basemap-1.0.7.tar.gz (129.7MB):  11%  14.9MB\r",
        "  Downloading basemap-1.0.7.tar.gz (129.7MB):  11%  14.9MB\r",
        "  Downloading basemap-1.0.7.tar.gz (129.7MB):  11%  14.9MB\r",
        "  Downloading basemap-1.0.7.tar.gz (129.7MB):  11%  14.9MB\r",
        "  Downloading basemap-1.0.7.tar.gz (129.7MB):  11%  14.9MB\r",
        "  Downloading basemap-1.0.7.tar.gz (129.7MB):  11%  14.9MB\r",
        "  Downloading basemap-1.0.7.tar.gz (129.7MB):  11%  14.9MB\r",
        "  Downloading basemap-1.0.7.tar.gz (129.7MB):  11%  14.9MB\r",
        "  Downloading basemap-1.0.7.tar.gz (129.7MB):  11%  14.9MB\r",
        "  Downloading basemap-1.0.7.tar.gz (129.7MB):  11%  14.9MB\r",
        "  Downloading basemap-1.0.7.tar.gz (129.7MB):  11%  14.9MB\r",
        "  Downloading basemap-1.0.7.tar.gz (129.7MB):  11%  14.9MB\r",
        "  Downloading basemap-1.0.7.tar.gz (129.7MB):  11%  14.9MB\r",
        "  Downloading basemap-1.0.7.tar.gz (129.7MB):  11%  14.9MB\r",
        "  Downloading basemap-1.0.7.tar.gz (129.7MB):  11%  14.9MB\r",
        "  Downloading basemap-1.0.7.tar.gz (129.7MB):  11%  14.9MB\r",
        "  Downloading basemap-1.0.7.tar.gz (129.7MB):  11%  14.9MB\r",
        "  Downloading basemap-1.0.7.tar.gz (129.7MB):  11%  14.9MB\r",
        "  Downloading basemap-1.0.7.tar.gz (129.7MB):  11%  14.9MB"
       ]
      },
      {
       "output_type": "stream",
       "stream": "stdout",
       "text": [
        "\r",
        "  Downloading basemap-1.0.7.tar.gz (129.7MB):  11%  14.9MB\r",
        "  Downloading basemap-1.0.7.tar.gz (129.7MB):  11%  14.9MB\r",
        "  Downloading basemap-1.0.7.tar.gz (129.7MB):  11%  14.9MB\r",
        "  Downloading basemap-1.0.7.tar.gz (129.7MB):  11%  15.0MB\r",
        "  Downloading basemap-1.0.7.tar.gz (129.7MB):  11%  15.0MB\r",
        "  Downloading basemap-1.0.7.tar.gz (129.7MB):  11%  15.0MB\r",
        "  Downloading basemap-1.0.7.tar.gz (129.7MB):  11%  15.0MB\r",
        "  Downloading basemap-1.0.7.tar.gz (129.7MB):  11%  15.0MB\r",
        "  Downloading basemap-1.0.7.tar.gz (129.7MB):  11%  15.0MB\r",
        "  Downloading basemap-1.0.7.tar.gz (129.7MB):  11%  15.0MB\r",
        "  Downloading basemap-1.0.7.tar.gz (129.7MB):  11%  15.0MB\r",
        "  Downloading basemap-1.0.7.tar.gz (129.7MB):  11%  15.0MB\r",
        "  Downloading basemap-1.0.7.tar.gz (129.7MB):  11%  15.0MB\r",
        "  Downloading basemap-1.0.7.tar.gz (129.7MB):  11%  15.0MB\r",
        "  Downloading basemap-1.0.7.tar.gz (129.7MB):  11%  15.0MB\r",
        "  Downloading basemap-1.0.7.tar.gz (129.7MB):  11%  15.0MB\r",
        "  Downloading basemap-1.0.7.tar.gz (129.7MB):  11%  15.0MB\r",
        "  Downloading basemap-1.0.7.tar.gz (129.7MB):  11%  15.0MB\r",
        "  Downloading basemap-1.0.7.tar.gz (129.7MB):  11%  15.0MB\r",
        "  Downloading basemap-1.0.7.tar.gz (129.7MB):  11%  15.0MB\r",
        "  Downloading basemap-1.0.7.tar.gz (129.7MB):  11%  15.0MB\r",
        "  Downloading basemap-1.0.7.tar.gz (129.7MB):  11%  15.0MB\r",
        "  Downloading basemap-1.0.7.tar.gz (129.7MB):  11%  15.0MB\r",
        "  Downloading basemap-1.0.7.tar.gz (129.7MB):  11%  15.0MB\r",
        "  Downloading basemap-1.0.7.tar.gz (129.7MB):  11%  15.0MB\r",
        "  Downloading basemap-1.0.7.tar.gz (129.7MB):  11%  15.0MB"
       ]
      },
      {
       "output_type": "stream",
       "stream": "stdout",
       "text": [
        "\r",
        "  Downloading basemap-1.0.7.tar.gz (129.7MB):  11%  15.0MB\r",
        "  Downloading basemap-1.0.7.tar.gz (129.7MB):  11%  15.0MB\r",
        "  Downloading basemap-1.0.7.tar.gz (129.7MB):  11%  15.1MB\r",
        "  Downloading basemap-1.0.7.tar.gz (129.7MB):  11%  15.1MB\r",
        "  Downloading basemap-1.0.7.tar.gz (129.7MB):  11%  15.1MB\r",
        "  Downloading basemap-1.0.7.tar.gz (129.7MB):  11%  15.1MB\r",
        "  Downloading basemap-1.0.7.tar.gz (129.7MB):  11%  15.1MB\r",
        "  Downloading basemap-1.0.7.tar.gz (129.7MB):  11%  15.1MB\r",
        "  Downloading basemap-1.0.7.tar.gz (129.7MB):  11%  15.1MB\r",
        "  Downloading basemap-1.0.7.tar.gz (129.7MB):  11%  15.1MB\r",
        "  Downloading basemap-1.0.7.tar.gz (129.7MB):  11%  15.1MB\r",
        "  Downloading basemap-1.0.7.tar.gz (129.7MB):  11%  15.1MB\r",
        "  Downloading basemap-1.0.7.tar.gz (129.7MB):  11%  15.1MB\r",
        "  Downloading basemap-1.0.7.tar.gz (129.7MB):  11%  15.1MB\r",
        "  Downloading basemap-1.0.7.tar.gz (129.7MB):  11%  15.1MB\r",
        "  Downloading basemap-1.0.7.tar.gz (129.7MB):  11%  15.1MB\r",
        "  Downloading basemap-1.0.7.tar.gz (129.7MB):  11%  15.1MB\r",
        "  Downloading basemap-1.0.7.tar.gz (129.7MB):  11%  15.1MB\r",
        "  Downloading basemap-1.0.7.tar.gz (129.7MB):  11%  15.1MB\r",
        "  Downloading basemap-1.0.7.tar.gz (129.7MB):  11%  15.1MB\r",
        "  Downloading basemap-1.0.7.tar.gz (129.7MB):  11%  15.1MB\r",
        "  Downloading basemap-1.0.7.tar.gz (129.7MB):  11%  15.1MB\r",
        "  Downloading basemap-1.0.7.tar.gz (129.7MB):  11%  15.1MB\r",
        "  Downloading basemap-1.0.7.tar.gz (129.7MB):  11%  15.1MB\r",
        "  Downloading basemap-1.0.7.tar.gz (129.7MB):  11%  15.1MB\r",
        "  Downloading basemap-1.0.7.tar.gz (129.7MB):  11%  15.1MB"
       ]
      },
      {
       "output_type": "stream",
       "stream": "stdout",
       "text": [
        "\r",
        "  Downloading basemap-1.0.7.tar.gz (129.7MB):  11%  15.2MB\r",
        "  Downloading basemap-1.0.7.tar.gz (129.7MB):  11%  15.2MB\r",
        "  Downloading basemap-1.0.7.tar.gz (129.7MB):  11%  15.2MB\r",
        "  Downloading basemap-1.0.7.tar.gz (129.7MB):  11%  15.2MB\r",
        "  Downloading basemap-1.0.7.tar.gz (129.7MB):  11%  15.2MB"
       ]
      },
      {
       "output_type": "stream",
       "stream": "stdout",
       "text": [
        "\r",
        "  Downloading basemap-1.0.7.tar.gz (129.7MB):  11%  15.2MB\r",
        "  Downloading basemap-1.0.7.tar.gz (129.7MB):  11%  15.2MB\r",
        "  Downloading basemap-1.0.7.tar.gz (129.7MB):  11%  15.2MB\r",
        "  Downloading basemap-1.0.7.tar.gz (129.7MB):  11%  15.2MB\r",
        "  Downloading basemap-1.0.7.tar.gz (129.7MB):  11%  15.2MB\r",
        "  Downloading basemap-1.0.7.tar.gz (129.7MB):  11%  15.2MB\r",
        "  Downloading basemap-1.0.7.tar.gz (129.7MB):  11%  15.2MB\r",
        "  Downloading basemap-1.0.7.tar.gz (129.7MB):  11%  15.2MB\r",
        "  Downloading basemap-1.0.7.tar.gz (129.7MB):  11%  15.2MB\r",
        "  Downloading basemap-1.0.7.tar.gz (129.7MB):  11%  15.2MB\r",
        "  Downloading basemap-1.0.7.tar.gz (129.7MB):  11%  15.2MB\r",
        "  Downloading basemap-1.0.7.tar.gz (129.7MB):  11%  15.2MB\r",
        "  Downloading basemap-1.0.7.tar.gz (129.7MB):  11%  15.2MB\r",
        "  Downloading basemap-1.0.7.tar.gz (129.7MB):  11%  15.2MB\r",
        "  Downloading basemap-1.0.7.tar.gz (129.7MB):  11%  15.2MB\r",
        "  Downloading basemap-1.0.7.tar.gz (129.7MB):  11%  15.2MB\r",
        "  Downloading basemap-1.0.7.tar.gz (129.7MB):  11%  15.2MB\r",
        "  Downloading basemap-1.0.7.tar.gz (129.7MB):  11%  15.2MB\r",
        "  Downloading basemap-1.0.7.tar.gz (129.7MB):  11%  15.2MB\r",
        "  Downloading basemap-1.0.7.tar.gz (129.7MB):  11%  15.2MB\r",
        "  Downloading basemap-1.0.7.tar.gz (129.7MB):  11%  15.3MB"
       ]
      },
      {
       "output_type": "stream",
       "stream": "stdout",
       "text": [
        "\r",
        "  Downloading basemap-1.0.7.tar.gz (129.7MB):  11%  15.3MB\r",
        "  Downloading basemap-1.0.7.tar.gz (129.7MB):  11%  15.3MB\r",
        "  Downloading basemap-1.0.7.tar.gz (129.7MB):  11%  15.3MB\r",
        "  Downloading basemap-1.0.7.tar.gz (129.7MB):  11%  15.3MB\r",
        "  Downloading basemap-1.0.7.tar.gz (129.7MB):  11%  15.3MB\r",
        "  Downloading basemap-1.0.7.tar.gz (129.7MB):  11%  15.3MB\r",
        "  Downloading basemap-1.0.7.tar.gz (129.7MB):  11%  15.3MB\r",
        "  Downloading basemap-1.0.7.tar.gz (129.7MB):  11%  15.3MB\r",
        "  Downloading basemap-1.0.7.tar.gz (129.7MB):  11%  15.3MB\r",
        "  Downloading basemap-1.0.7.tar.gz (129.7MB):  11%  15.3MB\r",
        "  Downloading basemap-1.0.7.tar.gz (129.7MB):  11%  15.3MB\r",
        "  Downloading basemap-1.0.7.tar.gz (129.7MB):  11%  15.3MB\r",
        "  Downloading basemap-1.0.7.tar.gz (129.7MB):  11%  15.3MB\r",
        "  Downloading basemap-1.0.7.tar.gz (129.7MB):  11%  15.3MB\r",
        "  Downloading basemap-1.0.7.tar.gz (129.7MB):  11%  15.3MB\r",
        "  Downloading basemap-1.0.7.tar.gz (129.7MB):  11%  15.3MB\r",
        "  Downloading basemap-1.0.7.tar.gz (129.7MB):  11%  15.3MB\r",
        "  Downloading basemap-1.0.7.tar.gz (129.7MB):  11%  15.3MB\r",
        "  Downloading basemap-1.0.7.tar.gz (129.7MB):  11%  15.3MB\r",
        "  Downloading basemap-1.0.7.tar.gz (129.7MB):  11%  15.3MB\r",
        "  Downloading basemap-1.0.7.tar.gz (129.7MB):  11%  15.3MB\r",
        "  Downloading basemap-1.0.7.tar.gz (129.7MB):  11%  15.3MB\r",
        "  Downloading basemap-1.0.7.tar.gz (129.7MB):  11%  15.3MB\r",
        "  Downloading basemap-1.0.7.tar.gz (129.7MB):  11%  15.4MB\r",
        "  Downloading basemap-1.0.7.tar.gz (129.7MB):  11%  15.4MB\r",
        "  Downloading basemap-1.0.7.tar.gz (129.7MB):  11%  15.4MB"
       ]
      },
      {
       "output_type": "stream",
       "stream": "stdout",
       "text": [
        "\r",
        "  Downloading basemap-1.0.7.tar.gz (129.7MB):  11%  15.4MB\r",
        "  Downloading basemap-1.0.7.tar.gz (129.7MB):  11%  15.4MB\r",
        "  Downloading basemap-1.0.7.tar.gz (129.7MB):  11%  15.4MB\r",
        "  Downloading basemap-1.0.7.tar.gz (129.7MB):  11%  15.4MB\r",
        "  Downloading basemap-1.0.7.tar.gz (129.7MB):  11%  15.4MB\r",
        "  Downloading basemap-1.0.7.tar.gz (129.7MB):  11%  15.4MB\r",
        "  Downloading basemap-1.0.7.tar.gz (129.7MB):  11%  15.4MB\r",
        "  Downloading basemap-1.0.7.tar.gz (129.7MB):  11%  15.4MB\r",
        "  Downloading basemap-1.0.7.tar.gz (129.7MB):  11%  15.4MB\r",
        "  Downloading basemap-1.0.7.tar.gz (129.7MB):  11%  15.4MB"
       ]
      },
      {
       "output_type": "stream",
       "stream": "stdout",
       "text": [
        "\r",
        "  Downloading basemap-1.0.7.tar.gz (129.7MB):  11%  15.4MB\r",
        "  Downloading basemap-1.0.7.tar.gz (129.7MB):  11%  15.4MB\r",
        "  Downloading basemap-1.0.7.tar.gz (129.7MB):  11%  15.4MB\r",
        "  Downloading basemap-1.0.7.tar.gz (129.7MB):  11%  15.4MB\r",
        "  Downloading basemap-1.0.7.tar.gz (129.7MB):  11%  15.4MB\r",
        "  Downloading basemap-1.0.7.tar.gz (129.7MB):  11%  15.4MB\r",
        "  Downloading basemap-1.0.7.tar.gz (129.7MB):  11%  15.4MB\r",
        "  Downloading basemap-1.0.7.tar.gz (129.7MB):  11%  15.4MB\r",
        "  Downloading basemap-1.0.7.tar.gz (129.7MB):  11%  15.4MB\r",
        "  Downloading basemap-1.0.7.tar.gz (129.7MB):  11%  15.4MB\r",
        "  Downloading basemap-1.0.7.tar.gz (129.7MB):  11%  15.4MB\r",
        "  Downloading basemap-1.0.7.tar.gz (129.7MB):  11%  15.5MB\r",
        "  Downloading basemap-1.0.7.tar.gz (129.7MB):  11%  15.5MB\r",
        "  Downloading basemap-1.0.7.tar.gz (129.7MB):  11%  15.5MB\r",
        "  Downloading basemap-1.0.7.tar.gz (129.7MB):  11%  15.5MB\r",
        "  Downloading basemap-1.0.7.tar.gz (129.7MB):  11%  15.5MB"
       ]
      },
      {
       "output_type": "stream",
       "stream": "stdout",
       "text": [
        "\r",
        "  Downloading basemap-1.0.7.tar.gz (129.7MB):  11%  15.5MB\r",
        "  Downloading basemap-1.0.7.tar.gz (129.7MB):  11%  15.5MB\r",
        "  Downloading basemap-1.0.7.tar.gz (129.7MB):  11%  15.5MB\r",
        "  Downloading basemap-1.0.7.tar.gz (129.7MB):  11%  15.5MB\r",
        "  Downloading basemap-1.0.7.tar.gz (129.7MB):  11%  15.5MB\r",
        "  Downloading basemap-1.0.7.tar.gz (129.7MB):  11%  15.5MB"
       ]
      },
      {
       "output_type": "stream",
       "stream": "stdout",
       "text": [
        "\r",
        "  Downloading basemap-1.0.7.tar.gz (129.7MB):  11%  15.5MB\r",
        "  Downloading basemap-1.0.7.tar.gz (129.7MB):  11%  15.5MB\r",
        "  Downloading basemap-1.0.7.tar.gz (129.7MB):  11%  15.5MB\r",
        "  Downloading basemap-1.0.7.tar.gz (129.7MB):  11%  15.5MB\r",
        "  Downloading basemap-1.0.7.tar.gz (129.7MB):  11%  15.5MB\r",
        "  Downloading basemap-1.0.7.tar.gz (129.7MB):  11%  15.5MB\r",
        "  Downloading basemap-1.0.7.tar.gz (129.7MB):  11%  15.5MB\r",
        "  Downloading basemap-1.0.7.tar.gz (129.7MB):  11%  15.5MB\r",
        "  Downloading basemap-1.0.7.tar.gz (129.7MB):  11%  15.5MB\r",
        "  Downloading basemap-1.0.7.tar.gz (129.7MB):  11%  15.5MB\r",
        "  Downloading basemap-1.0.7.tar.gz (129.7MB):  11%  15.5MB\r",
        "  Downloading basemap-1.0.7.tar.gz (129.7MB):  11%  15.5MB\r",
        "  Downloading basemap-1.0.7.tar.gz (129.7MB):  11%  15.5MB\r",
        "  Downloading basemap-1.0.7.tar.gz (129.7MB):  11%  15.5MB\r",
        "  Downloading basemap-1.0.7.tar.gz (129.7MB):  11%  15.6MB\r",
        "  Downloading basemap-1.0.7.tar.gz (129.7MB):  11%  15.6MB\r",
        "  Downloading basemap-1.0.7.tar.gz (129.7MB):  11%  15.6MB\r",
        "  Downloading basemap-1.0.7.tar.gz (129.7MB):  12%  15.6MB\r",
        "  Downloading basemap-1.0.7.tar.gz (129.7MB):  12%  15.6MB\r",
        "  Downloading basemap-1.0.7.tar.gz (129.7MB):  12%  15.6MB\r",
        "  Downloading basemap-1.0.7.tar.gz (129.7MB):  12%  15.6MB"
       ]
      },
      {
       "output_type": "stream",
       "stream": "stdout",
       "text": [
        "\r",
        "  Downloading basemap-1.0.7.tar.gz (129.7MB):  12%  15.6MB"
       ]
      },
      {
       "output_type": "stream",
       "stream": "stdout",
       "text": [
        "\r",
        "  Downloading basemap-1.0.7.tar.gz (129.7MB):  12%  15.6MB\r",
        "  Downloading basemap-1.0.7.tar.gz (129.7MB):  12%  15.6MB\r",
        "  Downloading basemap-1.0.7.tar.gz (129.7MB):  12%  15.6MB\r",
        "  Downloading basemap-1.0.7.tar.gz (129.7MB):  12%  15.6MB\r",
        "  Downloading basemap-1.0.7.tar.gz (129.7MB):  12%  15.6MB\r",
        "  Downloading basemap-1.0.7.tar.gz (129.7MB):  12%  15.6MB\r",
        "  Downloading basemap-1.0.7.tar.gz (129.7MB):  12%  15.6MB\r",
        "  Downloading basemap-1.0.7.tar.gz (129.7MB):  12%  15.6MB\r",
        "  Downloading basemap-1.0.7.tar.gz (129.7MB):  12%  15.6MB\r",
        "  Downloading basemap-1.0.7.tar.gz (129.7MB):  12%  15.6MB\r",
        "  Downloading basemap-1.0.7.tar.gz (129.7MB):  12%  15.6MB\r",
        "  Downloading basemap-1.0.7.tar.gz (129.7MB):  12%  15.6MB\r",
        "  Downloading basemap-1.0.7.tar.gz (129.7MB):  12%  15.6MB\r",
        "  Downloading basemap-1.0.7.tar.gz (129.7MB):  12%  15.6MB\r",
        "  Downloading basemap-1.0.7.tar.gz (129.7MB):  12%  15.6MB\r",
        "  Downloading basemap-1.0.7.tar.gz (129.7MB):  12%  15.6MB\r",
        "  Downloading basemap-1.0.7.tar.gz (129.7MB):  12%  15.7MB"
       ]
      },
      {
       "output_type": "stream",
       "stream": "stdout",
       "text": [
        "\r",
        "  Downloading basemap-1.0.7.tar.gz (129.7MB):  12%  15.7MB\r",
        "  Downloading basemap-1.0.7.tar.gz (129.7MB):  12%  15.7MB\r",
        "  Downloading basemap-1.0.7.tar.gz (129.7MB):  12%  15.7MB\r",
        "  Downloading basemap-1.0.7.tar.gz (129.7MB):  12%  15.7MB\r",
        "  Downloading basemap-1.0.7.tar.gz (129.7MB):  12%  15.7MB\r",
        "  Downloading basemap-1.0.7.tar.gz (129.7MB):  12%  15.7MB\r",
        "  Downloading basemap-1.0.7.tar.gz (129.7MB):  12%  15.7MB\r",
        "  Downloading basemap-1.0.7.tar.gz (129.7MB):  12%  15.7MB\r",
        "  Downloading basemap-1.0.7.tar.gz (129.7MB):  12%  15.7MB"
       ]
      },
      {
       "output_type": "stream",
       "stream": "stdout",
       "text": [
        "\r",
        "  Downloading basemap-1.0.7.tar.gz (129.7MB):  12%  15.7MB\r",
        "  Downloading basemap-1.0.7.tar.gz (129.7MB):  12%  15.7MB\r",
        "  Downloading basemap-1.0.7.tar.gz (129.7MB):  12%  15.7MB\r",
        "  Downloading basemap-1.0.7.tar.gz (129.7MB):  12%  15.7MB\r",
        "  Downloading basemap-1.0.7.tar.gz (129.7MB):  12%  15.7MB\r",
        "  Downloading basemap-1.0.7.tar.gz (129.7MB):  12%  15.7MB\r",
        "  Downloading basemap-1.0.7.tar.gz (129.7MB):  12%  15.7MB\r",
        "  Downloading basemap-1.0.7.tar.gz (129.7MB):  12%  15.7MB\r",
        "  Downloading basemap-1.0.7.tar.gz (129.7MB):  12%  15.7MB\r",
        "  Downloading basemap-1.0.7.tar.gz (129.7MB):  12%  15.7MB\r",
        "  Downloading basemap-1.0.7.tar.gz (129.7MB):  12%  15.7MB\r",
        "  Downloading basemap-1.0.7.tar.gz (129.7MB):  12%  15.7MB\r",
        "  Downloading basemap-1.0.7.tar.gz (129.7MB):  12%  15.7MB"
       ]
      },
      {
       "output_type": "stream",
       "stream": "stdout",
       "text": [
        "\r",
        "  Downloading basemap-1.0.7.tar.gz (129.7MB):  12%  15.7MB\r",
        "  Downloading basemap-1.0.7.tar.gz (129.7MB):  12%  15.7MB\r",
        "  Downloading basemap-1.0.7.tar.gz (129.7MB):  12%  15.8MB\r",
        "  Downloading basemap-1.0.7.tar.gz (129.7MB):  12%  15.8MB\r",
        "  Downloading basemap-1.0.7.tar.gz (129.7MB):  12%  15.8MB\r",
        "  Downloading basemap-1.0.7.tar.gz (129.7MB):  12%  15.8MB\r",
        "  Downloading basemap-1.0.7.tar.gz (129.7MB):  12%  15.8MB\r",
        "  Downloading basemap-1.0.7.tar.gz (129.7MB):  12%  15.8MB\r",
        "  Downloading basemap-1.0.7.tar.gz (129.7MB):  12%  15.8MB\r",
        "  Downloading basemap-1.0.7.tar.gz (129.7MB):  12%  15.8MB\r",
        "  Downloading basemap-1.0.7.tar.gz (129.7MB):  12%  15.8MB\r",
        "  Downloading basemap-1.0.7.tar.gz (129.7MB):  12%  15.8MB\r",
        "  Downloading basemap-1.0.7.tar.gz (129.7MB):  12%  15.8MB\r",
        "  Downloading basemap-1.0.7.tar.gz (129.7MB):  12%  15.8MB"
       ]
      },
      {
       "output_type": "stream",
       "stream": "stdout",
       "text": [
        "\r",
        "  Downloading basemap-1.0.7.tar.gz (129.7MB):  12%  15.8MB\r",
        "  Downloading basemap-1.0.7.tar.gz (129.7MB):  12%  15.8MB\r",
        "  Downloading basemap-1.0.7.tar.gz (129.7MB):  12%  15.8MB\r",
        "  Downloading basemap-1.0.7.tar.gz (129.7MB):  12%  15.8MB\r",
        "  Downloading basemap-1.0.7.tar.gz (129.7MB):  12%  15.8MB\r",
        "  Downloading basemap-1.0.7.tar.gz (129.7MB):  12%  15.8MB"
       ]
      },
      {
       "output_type": "stream",
       "stream": "stdout",
       "text": [
        "\r",
        "  Downloading basemap-1.0.7.tar.gz (129.7MB):  12%  15.8MB\r",
        "  Downloading basemap-1.0.7.tar.gz (129.7MB):  12%  15.8MB\r",
        "  Downloading basemap-1.0.7.tar.gz (129.7MB):  12%  15.8MB\r",
        "  Downloading basemap-1.0.7.tar.gz (129.7MB):  12%  15.8MB\r",
        "  Downloading basemap-1.0.7.tar.gz (129.7MB):  12%  15.8MB\r",
        "  Downloading basemap-1.0.7.tar.gz (129.7MB):  12%  15.8MB\r",
        "  Downloading basemap-1.0.7.tar.gz (129.7MB):  12%  15.9MB\r",
        "  Downloading basemap-1.0.7.tar.gz (129.7MB):  12%  15.9MB\r",
        "  Downloading basemap-1.0.7.tar.gz (129.7MB):  12%  15.9MB\r",
        "  Downloading basemap-1.0.7.tar.gz (129.7MB):  12%  15.9MB\r",
        "  Downloading basemap-1.0.7.tar.gz (129.7MB):  12%  15.9MB\r",
        "  Downloading basemap-1.0.7.tar.gz (129.7MB):  12%  15.9MB\r",
        "  Downloading basemap-1.0.7.tar.gz (129.7MB):  12%  15.9MB\r",
        "  Downloading basemap-1.0.7.tar.gz (129.7MB):  12%  15.9MB\r",
        "  Downloading basemap-1.0.7.tar.gz (129.7MB):  12%  15.9MB\r",
        "  Downloading basemap-1.0.7.tar.gz (129.7MB):  12%  15.9MB\r",
        "  Downloading basemap-1.0.7.tar.gz (129.7MB):  12%  15.9MB\r",
        "  Downloading basemap-1.0.7.tar.gz (129.7MB):  12%  15.9MB\r",
        "  Downloading basemap-1.0.7.tar.gz (129.7MB):  12%  15.9MB\r",
        "  Downloading basemap-1.0.7.tar.gz (129.7MB):  12%  15.9MB\r",
        "  Downloading basemap-1.0.7.tar.gz (129.7MB):  12%  15.9MB\r",
        "  Downloading basemap-1.0.7.tar.gz (129.7MB):  12%  15.9MB"
       ]
      },
      {
       "output_type": "stream",
       "stream": "stdout",
       "text": [
        "\r",
        "  Downloading basemap-1.0.7.tar.gz (129.7MB):  12%  15.9MB\r",
        "  Downloading basemap-1.0.7.tar.gz (129.7MB):  12%  15.9MB"
       ]
      },
      {
       "output_type": "stream",
       "stream": "stdout",
       "text": [
        "\r",
        "  Downloading basemap-1.0.7.tar.gz (129.7MB):  12%  15.9MB\r",
        "  Downloading basemap-1.0.7.tar.gz (129.7MB):  12%  15.9MB\r",
        "  Downloading basemap-1.0.7.tar.gz (129.7MB):  12%  15.9MB\r",
        "  Downloading basemap-1.0.7.tar.gz (129.7MB):  12%  15.9MB\r",
        "  Downloading basemap-1.0.7.tar.gz (129.7MB):  12%  15.9MB\r",
        "  Downloading basemap-1.0.7.tar.gz (129.7MB):  12%  15.9MB\r",
        "  Downloading basemap-1.0.7.tar.gz (129.7MB):  12%  15.9MB\r",
        "  Downloading basemap-1.0.7.tar.gz (129.7MB):  12%  16.0MB\r",
        "  Downloading basemap-1.0.7.tar.gz (129.7MB):  12%  16.0MB\r",
        "  Downloading basemap-1.0.7.tar.gz (129.7MB):  12%  16.0MB\r",
        "  Downloading basemap-1.0.7.tar.gz (129.7MB):  12%  16.0MB\r",
        "  Downloading basemap-1.0.7.tar.gz (129.7MB):  12%  16.0MB\r",
        "  Downloading basemap-1.0.7.tar.gz (129.7MB):  12%  16.0MB\r",
        "  Downloading basemap-1.0.7.tar.gz (129.7MB):  12%  16.0MB\r",
        "  Downloading basemap-1.0.7.tar.gz (129.7MB):  12%  16.0MB\r",
        "  Downloading basemap-1.0.7.tar.gz (129.7MB):  12%  16.0MB\r",
        "  Downloading basemap-1.0.7.tar.gz (129.7MB):  12%  16.0MB\r",
        "  Downloading basemap-1.0.7.tar.gz (129.7MB):  12%  16.0MB"
       ]
      },
      {
       "output_type": "stream",
       "stream": "stdout",
       "text": [
        "\r",
        "  Downloading basemap-1.0.7.tar.gz (129.7MB):  12%  16.0MB\r",
        "  Downloading basemap-1.0.7.tar.gz (129.7MB):  12%  16.0MB\r",
        "  Downloading basemap-1.0.7.tar.gz (129.7MB):  12%  16.0MB\r",
        "  Downloading basemap-1.0.7.tar.gz (129.7MB):  12%  16.0MB\r",
        "  Downloading basemap-1.0.7.tar.gz (129.7MB):  12%  16.0MB\r",
        "  Downloading basemap-1.0.7.tar.gz (129.7MB):  12%  16.0MB\r",
        "  Downloading basemap-1.0.7.tar.gz (129.7MB):  12%  16.0MB\r",
        "  Downloading basemap-1.0.7.tar.gz (129.7MB):  12%  16.0MB"
       ]
      },
      {
       "output_type": "stream",
       "stream": "stdout",
       "text": [
        "\r",
        "  Downloading basemap-1.0.7.tar.gz (129.7MB):  12%  16.0MB\r",
        "  Downloading basemap-1.0.7.tar.gz (129.7MB):  12%  16.0MB\r",
        "  Downloading basemap-1.0.7.tar.gz (129.7MB):  12%  16.0MB\r",
        "  Downloading basemap-1.0.7.tar.gz (129.7MB):  12%  16.0MB\r",
        "  Downloading basemap-1.0.7.tar.gz (129.7MB):  12%  16.0MB\r",
        "  Downloading basemap-1.0.7.tar.gz (129.7MB):  12%  16.1MB\r",
        "  Downloading basemap-1.0.7.tar.gz (129.7MB):  12%  16.1MB\r",
        "  Downloading basemap-1.0.7.tar.gz (129.7MB):  12%  16.1MB\r",
        "  Downloading basemap-1.0.7.tar.gz (129.7MB):  12%  16.1MB\r",
        "  Downloading basemap-1.0.7.tar.gz (129.7MB):  12%  16.1MB\r",
        "  Downloading basemap-1.0.7.tar.gz (129.7MB):  12%  16.1MB\r",
        "  Downloading basemap-1.0.7.tar.gz (129.7MB):  12%  16.1MB\r",
        "  Downloading basemap-1.0.7.tar.gz (129.7MB):  12%  16.1MB\r",
        "  Downloading basemap-1.0.7.tar.gz (129.7MB):  12%  16.1MB"
       ]
      },
      {
       "output_type": "stream",
       "stream": "stdout",
       "text": [
        "\r",
        "  Downloading basemap-1.0.7.tar.gz (129.7MB):  12%  16.1MB\r",
        "  Downloading basemap-1.0.7.tar.gz (129.7MB):  12%  16.1MB\r",
        "  Downloading basemap-1.0.7.tar.gz (129.7MB):  12%  16.1MB\r",
        "  Downloading basemap-1.0.7.tar.gz (129.7MB):  12%  16.1MB\r",
        "  Downloading basemap-1.0.7.tar.gz (129.7MB):  12%  16.1MB\r",
        "  Downloading basemap-1.0.7.tar.gz (129.7MB):  12%  16.1MB\r",
        "  Downloading basemap-1.0.7.tar.gz (129.7MB):  12%  16.1MB\r",
        "  Downloading basemap-1.0.7.tar.gz (129.7MB):  12%  16.1MB\r",
        "  Downloading basemap-1.0.7.tar.gz (129.7MB):  12%  16.1MB\r",
        "  Downloading basemap-1.0.7.tar.gz (129.7MB):  12%  16.1MB\r",
        "  Downloading basemap-1.0.7.tar.gz (129.7MB):  12%  16.1MB\r",
        "  Downloading basemap-1.0.7.tar.gz (129.7MB):  12%  16.1MB\r",
        "  Downloading basemap-1.0.7.tar.gz (129.7MB):  12%  16.1MB\r",
        "  Downloading basemap-1.0.7.tar.gz (129.7MB):  12%  16.1MB"
       ]
      },
      {
       "output_type": "stream",
       "stream": "stdout",
       "text": [
        "\r",
        "  Downloading basemap-1.0.7.tar.gz (129.7MB):  12%  16.1MB\r",
        "  Downloading basemap-1.0.7.tar.gz (129.7MB):  12%  16.2MB\r",
        "  Downloading basemap-1.0.7.tar.gz (129.7MB):  12%  16.2MB\r",
        "  Downloading basemap-1.0.7.tar.gz (129.7MB):  12%  16.2MB\r",
        "  Downloading basemap-1.0.7.tar.gz (129.7MB):  12%  16.2MB\r",
        "  Downloading basemap-1.0.7.tar.gz (129.7MB):  12%  16.2MB"
       ]
      },
      {
       "output_type": "stream",
       "stream": "stdout",
       "text": [
        "\r",
        "  Downloading basemap-1.0.7.tar.gz (129.7MB):  12%  16.2MB\r",
        "  Downloading basemap-1.0.7.tar.gz (129.7MB):  12%  16.2MB\r",
        "  Downloading basemap-1.0.7.tar.gz (129.7MB):  12%  16.2MB\r",
        "  Downloading basemap-1.0.7.tar.gz (129.7MB):  12%  16.2MB\r",
        "  Downloading basemap-1.0.7.tar.gz (129.7MB):  12%  16.2MB\r",
        "  Downloading basemap-1.0.7.tar.gz (129.7MB):  12%  16.2MB\r",
        "  Downloading basemap-1.0.7.tar.gz (129.7MB):  12%  16.2MB\r",
        "  Downloading basemap-1.0.7.tar.gz (129.7MB):  12%  16.2MB\r",
        "  Downloading basemap-1.0.7.tar.gz (129.7MB):  12%  16.2MB\r",
        "  Downloading basemap-1.0.7.tar.gz (129.7MB):  12%  16.2MB\r",
        "  Downloading basemap-1.0.7.tar.gz (129.7MB):  12%  16.2MB\r",
        "  Downloading basemap-1.0.7.tar.gz (129.7MB):  12%  16.2MB\r",
        "  Downloading basemap-1.0.7.tar.gz (129.7MB):  12%  16.2MB\r",
        "  Downloading basemap-1.0.7.tar.gz (129.7MB):  12%  16.2MB\r",
        "  Downloading basemap-1.0.7.tar.gz (129.7MB):  12%  16.2MB\r",
        "  Downloading basemap-1.0.7.tar.gz (129.7MB):  12%  16.2MB\r",
        "  Downloading basemap-1.0.7.tar.gz (129.7MB):  12%  16.2MB\r",
        "  Downloading basemap-1.0.7.tar.gz (129.7MB):  12%  16.2MB\r",
        "  Downloading basemap-1.0.7.tar.gz (129.7MB):  12%  16.2MB\r",
        "  Downloading basemap-1.0.7.tar.gz (129.7MB):  12%  16.2MB\r",
        "  Downloading basemap-1.0.7.tar.gz (129.7MB):  12%  16.3MB\r",
        "  Downloading basemap-1.0.7.tar.gz (129.7MB):  12%  16.3MB"
       ]
      },
      {
       "output_type": "stream",
       "stream": "stdout",
       "text": [
        "\r",
        "  Downloading basemap-1.0.7.tar.gz (129.7MB):  12%  16.3MB\r",
        "  Downloading basemap-1.0.7.tar.gz (129.7MB):  12%  16.3MB\r",
        "  Downloading basemap-1.0.7.tar.gz (129.7MB):  12%  16.3MB\r",
        "  Downloading basemap-1.0.7.tar.gz (129.7MB):  12%  16.3MB"
       ]
      },
      {
       "output_type": "stream",
       "stream": "stdout",
       "text": [
        "\r",
        "  Downloading basemap-1.0.7.tar.gz (129.7MB):  12%  16.3MB\r",
        "  Downloading basemap-1.0.7.tar.gz (129.7MB):  12%  16.3MB\r",
        "  Downloading basemap-1.0.7.tar.gz (129.7MB):  12%  16.3MB\r",
        "  Downloading basemap-1.0.7.tar.gz (129.7MB):  12%  16.3MB\r",
        "  Downloading basemap-1.0.7.tar.gz (129.7MB):  12%  16.3MB\r",
        "  Downloading basemap-1.0.7.tar.gz (129.7MB):  12%  16.3MB\r",
        "  Downloading basemap-1.0.7.tar.gz (129.7MB):  12%  16.3MB\r",
        "  Downloading basemap-1.0.7.tar.gz (129.7MB):  12%  16.3MB\r",
        "  Downloading basemap-1.0.7.tar.gz (129.7MB):  12%  16.3MB\r",
        "  Downloading basemap-1.0.7.tar.gz (129.7MB):  12%  16.3MB\r",
        "  Downloading basemap-1.0.7.tar.gz (129.7MB):  12%  16.3MB\r",
        "  Downloading basemap-1.0.7.tar.gz (129.7MB):  12%  16.3MB\r",
        "  Downloading basemap-1.0.7.tar.gz (129.7MB):  12%  16.3MB\r",
        "  Downloading basemap-1.0.7.tar.gz (129.7MB):  12%  16.3MB\r",
        "  Downloading basemap-1.0.7.tar.gz (129.7MB):  12%  16.3MB\r",
        "  Downloading basemap-1.0.7.tar.gz (129.7MB):  12%  16.3MB\r",
        "  Downloading basemap-1.0.7.tar.gz (129.7MB):  12%  16.3MB\r",
        "  Downloading basemap-1.0.7.tar.gz (129.7MB):  12%  16.3MB"
       ]
      },
      {
       "output_type": "stream",
       "stream": "stdout",
       "text": [
        "\r",
        "  Downloading basemap-1.0.7.tar.gz (129.7MB):  12%  16.4MB\r",
        "  Downloading basemap-1.0.7.tar.gz (129.7MB):  12%  16.4MB\r",
        "  Downloading basemap-1.0.7.tar.gz (129.7MB):  12%  16.4MB\r",
        "  Downloading basemap-1.0.7.tar.gz (129.7MB):  12%  16.4MB\r",
        "  Downloading basemap-1.0.7.tar.gz (129.7MB):  12%  16.4MB\r",
        "  Downloading basemap-1.0.7.tar.gz (129.7MB):  12%  16.4MB\r",
        "  Downloading basemap-1.0.7.tar.gz (129.7MB):  12%  16.4MB"
       ]
      },
      {
       "output_type": "stream",
       "stream": "stdout",
       "text": [
        "\r",
        "  Downloading basemap-1.0.7.tar.gz (129.7MB):  12%  16.4MB\r",
        "  Downloading basemap-1.0.7.tar.gz (129.7MB):  12%  16.4MB\r",
        "  Downloading basemap-1.0.7.tar.gz (129.7MB):  12%  16.4MB\r",
        "  Downloading basemap-1.0.7.tar.gz (129.7MB):  12%  16.4MB\r",
        "  Downloading basemap-1.0.7.tar.gz (129.7MB):  12%  16.4MB\r",
        "  Downloading basemap-1.0.7.tar.gz (129.7MB):  12%  16.4MB\r",
        "  Downloading basemap-1.0.7.tar.gz (129.7MB):  12%  16.4MB\r",
        "  Downloading basemap-1.0.7.tar.gz (129.7MB):  12%  16.4MB\r",
        "  Downloading basemap-1.0.7.tar.gz (129.7MB):  12%  16.4MB\r",
        "  Downloading basemap-1.0.7.tar.gz (129.7MB):  12%  16.4MB\r",
        "  Downloading basemap-1.0.7.tar.gz (129.7MB):  12%  16.4MB\r",
        "  Downloading basemap-1.0.7.tar.gz (129.7MB):  12%  16.4MB\r",
        "  Downloading basemap-1.0.7.tar.gz (129.7MB):  12%  16.4MB\r",
        "  Downloading basemap-1.0.7.tar.gz (129.7MB):  12%  16.4MB\r",
        "  Downloading basemap-1.0.7.tar.gz (129.7MB):  12%  16.4MB\r",
        "  Downloading basemap-1.0.7.tar.gz (129.7MB):  12%  16.4MB\r",
        "  Downloading basemap-1.0.7.tar.gz (129.7MB):  12%  16.4MB"
       ]
      },
      {
       "output_type": "stream",
       "stream": "stdout",
       "text": [
        "\r",
        "  Downloading basemap-1.0.7.tar.gz (129.7MB):  12%  16.4MB\r",
        "  Downloading basemap-1.0.7.tar.gz (129.7MB):  12%  16.5MB\r",
        "  Downloading basemap-1.0.7.tar.gz (129.7MB):  12%  16.5MB\r",
        "  Downloading basemap-1.0.7.tar.gz (129.7MB):  12%  16.5MB\r",
        "  Downloading basemap-1.0.7.tar.gz (129.7MB):  12%  16.5MB\r",
        "  Downloading basemap-1.0.7.tar.gz (129.7MB):  12%  16.5MB\r",
        "  Downloading basemap-1.0.7.tar.gz (129.7MB):  12%  16.5MB\r",
        "  Downloading basemap-1.0.7.tar.gz (129.7MB):  12%  16.5MB\r",
        "  Downloading basemap-1.0.7.tar.gz (129.7MB):  12%  16.5MB\r",
        "  Downloading basemap-1.0.7.tar.gz (129.7MB):  12%  16.5MB\r",
        "  Downloading basemap-1.0.7.tar.gz (129.7MB):  12%  16.5MB\r",
        "  Downloading basemap-1.0.7.tar.gz (129.7MB):  12%  16.5MB"
       ]
      },
      {
       "output_type": "stream",
       "stream": "stdout",
       "text": [
        "\r",
        "  Downloading basemap-1.0.7.tar.gz (129.7MB):  12%  16.5MB\r",
        "  Downloading basemap-1.0.7.tar.gz (129.7MB):  12%  16.5MB\r",
        "  Downloading basemap-1.0.7.tar.gz (129.7MB):  12%  16.5MB\r",
        "  Downloading basemap-1.0.7.tar.gz (129.7MB):  12%  16.5MB\r",
        "  Downloading basemap-1.0.7.tar.gz (129.7MB):  12%  16.5MB\r",
        "  Downloading basemap-1.0.7.tar.gz (129.7MB):  12%  16.5MB"
       ]
      },
      {
       "output_type": "stream",
       "stream": "stdout",
       "text": [
        "\r",
        "  Downloading basemap-1.0.7.tar.gz (129.7MB):  12%  16.5MB\r",
        "  Downloading basemap-1.0.7.tar.gz (129.7MB):  12%  16.5MB\r",
        "  Downloading basemap-1.0.7.tar.gz (129.7MB):  12%  16.5MB\r",
        "  Downloading basemap-1.0.7.tar.gz (129.7MB):  12%  16.5MB\r",
        "  Downloading basemap-1.0.7.tar.gz (129.7MB):  12%  16.5MB\r",
        "  Downloading basemap-1.0.7.tar.gz (129.7MB):  12%  16.5MB\r",
        "  Downloading basemap-1.0.7.tar.gz (129.7MB):  12%  16.5MB\r",
        "  Downloading basemap-1.0.7.tar.gz (129.7MB):  12%  16.6MB\r",
        "  Downloading basemap-1.0.7.tar.gz (129.7MB):  12%  16.6MB\r",
        "  Downloading basemap-1.0.7.tar.gz (129.7MB):  12%  16.6MB\r",
        "  Downloading basemap-1.0.7.tar.gz (129.7MB):  12%  16.6MB\r",
        "  Downloading basemap-1.0.7.tar.gz (129.7MB):  12%  16.6MB\r",
        "  Downloading basemap-1.0.7.tar.gz (129.7MB):  12%  16.6MB\r",
        "  Downloading basemap-1.0.7.tar.gz (129.7MB):  12%  16.6MB\r",
        "  Downloading basemap-1.0.7.tar.gz (129.7MB):  12%  16.6MB\r",
        "  Downloading basemap-1.0.7.tar.gz (129.7MB):  12%  16.6MB\r",
        "  Downloading basemap-1.0.7.tar.gz (129.7MB):  12%  16.6MB\r",
        "  Downloading basemap-1.0.7.tar.gz (129.7MB):  12%  16.6MB\r",
        "  Downloading basemap-1.0.7.tar.gz (129.7MB):  12%  16.6MB\r",
        "  Downloading basemap-1.0.7.tar.gz (129.7MB):  12%  16.6MB\r",
        "  Downloading basemap-1.0.7.tar.gz (129.7MB):  12%  16.6MB\r",
        "  Downloading basemap-1.0.7.tar.gz (129.7MB):  12%  16.6MB\r",
        "  Downloading basemap-1.0.7.tar.gz (129.7MB):  12%  16.6MB"
       ]
      },
      {
       "output_type": "stream",
       "stream": "stdout",
       "text": [
        "\r",
        "  Downloading basemap-1.0.7.tar.gz (129.7MB):  12%  16.6MB\r",
        "  Downloading basemap-1.0.7.tar.gz (129.7MB):  12%  16.6MB\r",
        "  Downloading basemap-1.0.7.tar.gz (129.7MB):  12%  16.6MB"
       ]
      },
      {
       "output_type": "stream",
       "stream": "stdout",
       "text": [
        "\r",
        "  Downloading basemap-1.0.7.tar.gz (129.7MB):  12%  16.6MB\r",
        "  Downloading basemap-1.0.7.tar.gz (129.7MB):  12%  16.6MB\r",
        "  Downloading basemap-1.0.7.tar.gz (129.7MB):  12%  16.6MB\r",
        "  Downloading basemap-1.0.7.tar.gz (129.7MB):  12%  16.6MB\r",
        "  Downloading basemap-1.0.7.tar.gz (129.7MB):  12%  16.6MB\r",
        "  Downloading basemap-1.0.7.tar.gz (129.7MB):  12%  16.7MB\r",
        "  Downloading basemap-1.0.7.tar.gz (129.7MB):  12%  16.7MB\r",
        "  Downloading basemap-1.0.7.tar.gz (129.7MB):  12%  16.7MB\r",
        "  Downloading basemap-1.0.7.tar.gz (129.7MB):  12%  16.7MB\r",
        "  Downloading basemap-1.0.7.tar.gz (129.7MB):  12%  16.7MB\r",
        "  Downloading basemap-1.0.7.tar.gz (129.7MB):  12%  16.7MB\r",
        "  Downloading basemap-1.0.7.tar.gz (129.7MB):  12%  16.7MB\r",
        "  Downloading basemap-1.0.7.tar.gz (129.7MB):  12%  16.7MB\r",
        "  Downloading basemap-1.0.7.tar.gz (129.7MB):  12%  16.7MB\r",
        "  Downloading basemap-1.0.7.tar.gz (129.7MB):  12%  16.7MB\r",
        "  Downloading basemap-1.0.7.tar.gz (129.7MB):  12%  16.7MB\r",
        "  Downloading basemap-1.0.7.tar.gz (129.7MB):  12%  16.7MB\r",
        "  Downloading basemap-1.0.7.tar.gz (129.7MB):  12%  16.7MB\r",
        "  Downloading basemap-1.0.7.tar.gz (129.7MB):  12%  16.7MB\r",
        "  Downloading basemap-1.0.7.tar.gz (129.7MB):  12%  16.7MB"
       ]
      },
      {
       "output_type": "stream",
       "stream": "stdout",
       "text": [
        "\r",
        "  Downloading basemap-1.0.7.tar.gz (129.7MB):  12%  16.7MB\r",
        "  Downloading basemap-1.0.7.tar.gz (129.7MB):  12%  16.7MB\r",
        "  Downloading basemap-1.0.7.tar.gz (129.7MB):  12%  16.7MB\r",
        "  Downloading basemap-1.0.7.tar.gz (129.7MB):  12%  16.7MB\r",
        "  Downloading basemap-1.0.7.tar.gz (129.7MB):  12%  16.7MB\r",
        "  Downloading basemap-1.0.7.tar.gz (129.7MB):  12%  16.7MB\r",
        "  Downloading basemap-1.0.7.tar.gz (129.7MB):  12%  16.7MB"
       ]
      },
      {
       "output_type": "stream",
       "stream": "stdout",
       "text": [
        "\r",
        "  Downloading basemap-1.0.7.tar.gz (129.7MB):  12%  16.7MB\r",
        "  Downloading basemap-1.0.7.tar.gz (129.7MB):  12%  16.7MB\r",
        "  Downloading basemap-1.0.7.tar.gz (129.7MB):  12%  16.7MB\r",
        "  Downloading basemap-1.0.7.tar.gz (129.7MB):  12%  16.8MB\r",
        "  Downloading basemap-1.0.7.tar.gz (129.7MB):  12%  16.8MB\r",
        "  Downloading basemap-1.0.7.tar.gz (129.7MB):  12%  16.8MB\r",
        "  Downloading basemap-1.0.7.tar.gz (129.7MB):  12%  16.8MB\r",
        "  Downloading basemap-1.0.7.tar.gz (129.7MB):  12%  16.8MB\r",
        "  Downloading basemap-1.0.7.tar.gz (129.7MB):  12%  16.8MB\r",
        "  Downloading basemap-1.0.7.tar.gz (129.7MB):  12%  16.8MB\r",
        "  Downloading basemap-1.0.7.tar.gz (129.7MB):  12%  16.8MB\r",
        "  Downloading basemap-1.0.7.tar.gz (129.7MB):  12%  16.8MB\r",
        "  Downloading basemap-1.0.7.tar.gz (129.7MB):  12%  16.8MB\r",
        "  Downloading basemap-1.0.7.tar.gz (129.7MB):  12%  16.8MB\r",
        "  Downloading basemap-1.0.7.tar.gz (129.7MB):  12%  16.8MB\r",
        "  Downloading basemap-1.0.7.tar.gz (129.7MB):  12%  16.8MB\r",
        "  Downloading basemap-1.0.7.tar.gz (129.7MB):  12%  16.8MB"
       ]
      },
      {
       "output_type": "stream",
       "stream": "stdout",
       "text": [
        "\r",
        "  Downloading basemap-1.0.7.tar.gz (129.7MB):  12%  16.8MB\r",
        "  Downloading basemap-1.0.7.tar.gz (129.7MB):  12%  16.8MB\r",
        "  Downloading basemap-1.0.7.tar.gz (129.7MB):  12%  16.8MB\r",
        "  Downloading basemap-1.0.7.tar.gz (129.7MB):  12%  16.8MB\r",
        "  Downloading basemap-1.0.7.tar.gz (129.7MB):  12%  16.8MB\r",
        "  Downloading basemap-1.0.7.tar.gz (129.7MB):  12%  16.8MB\r",
        "  Downloading basemap-1.0.7.tar.gz (129.7MB):  12%  16.8MB\r",
        "  Downloading basemap-1.0.7.tar.gz (129.7MB):  12%  16.8MB\r",
        "  Downloading basemap-1.0.7.tar.gz (129.7MB):  12%  16.8MB\r",
        "  Downloading basemap-1.0.7.tar.gz (129.7MB):  12%  16.8MB\r",
        "  Downloading basemap-1.0.7.tar.gz (129.7MB):  12%  16.9MB\r",
        "  Downloading basemap-1.0.7.tar.gz (129.7MB):  12%  16.9MB\r",
        "  Downloading basemap-1.0.7.tar.gz (129.7MB):  12%  16.9MB"
       ]
      },
      {
       "output_type": "stream",
       "stream": "stdout",
       "text": [
        "\r",
        "  Downloading basemap-1.0.7.tar.gz (129.7MB):  13%  16.9MB\r",
        "  Downloading basemap-1.0.7.tar.gz (129.7MB):  13%  16.9MB\r",
        "  Downloading basemap-1.0.7.tar.gz (129.7MB):  13%  16.9MB\r",
        "  Downloading basemap-1.0.7.tar.gz (129.7MB):  13%  16.9MB\r",
        "  Downloading basemap-1.0.7.tar.gz (129.7MB):  13%  16.9MB\r",
        "  Downloading basemap-1.0.7.tar.gz (129.7MB):  13%  16.9MB\r",
        "  Downloading basemap-1.0.7.tar.gz (129.7MB):  13%  16.9MB"
       ]
      },
      {
       "output_type": "stream",
       "stream": "stdout",
       "text": [
        "\r",
        "  Downloading basemap-1.0.7.tar.gz (129.7MB):  13%  16.9MB\r",
        "  Downloading basemap-1.0.7.tar.gz (129.7MB):  13%  16.9MB\r",
        "  Downloading basemap-1.0.7.tar.gz (129.7MB):  13%  16.9MB\r",
        "  Downloading basemap-1.0.7.tar.gz (129.7MB):  13%  16.9MB\r",
        "  Downloading basemap-1.0.7.tar.gz (129.7MB):  13%  16.9MB\r",
        "  Downloading basemap-1.0.7.tar.gz (129.7MB):  13%  16.9MB\r",
        "  Downloading basemap-1.0.7.tar.gz (129.7MB):  13%  16.9MB\r",
        "  Downloading basemap-1.0.7.tar.gz (129.7MB):  13%  16.9MB\r",
        "  Downloading basemap-1.0.7.tar.gz (129.7MB):  13%  16.9MB\r",
        "  Downloading basemap-1.0.7.tar.gz (129.7MB):  13%  16.9MB\r",
        "  Downloading basemap-1.0.7.tar.gz (129.7MB):  13%  16.9MB\r",
        "  Downloading basemap-1.0.7.tar.gz (129.7MB):  13%  16.9MB\r",
        "  Downloading basemap-1.0.7.tar.gz (129.7MB):  13%  16.9MB\r",
        "  Downloading basemap-1.0.7.tar.gz (129.7MB):  13%  16.9MB\r",
        "  Downloading basemap-1.0.7.tar.gz (129.7MB):  13%  16.9MB\r",
        "  Downloading basemap-1.0.7.tar.gz (129.7MB):  13%  17.0MB\r",
        "  Downloading basemap-1.0.7.tar.gz (129.7MB):  13%  17.0MB\r",
        "  Downloading basemap-1.0.7.tar.gz (129.7MB):  13%  17.0MB\r",
        "  Downloading basemap-1.0.7.tar.gz (129.7MB):  13%  17.0MB\r",
        "  Downloading basemap-1.0.7.tar.gz (129.7MB):  13%  17.0MB"
       ]
      },
      {
       "output_type": "stream",
       "stream": "stdout",
       "text": [
        "\r",
        "  Downloading basemap-1.0.7.tar.gz (129.7MB):  13%  17.0MB\r",
        "  Downloading basemap-1.0.7.tar.gz (129.7MB):  13%  17.0MB\r",
        "  Downloading basemap-1.0.7.tar.gz (129.7MB):  13%  17.0MB\r",
        "  Downloading basemap-1.0.7.tar.gz (129.7MB):  13%  17.0MB\r",
        "  Downloading basemap-1.0.7.tar.gz (129.7MB):  13%  17.0MB\r",
        "  Downloading basemap-1.0.7.tar.gz (129.7MB):  13%  17.0MB"
       ]
      },
      {
       "output_type": "stream",
       "stream": "stdout",
       "text": [
        "\r",
        "  Downloading basemap-1.0.7.tar.gz (129.7MB):  13%  17.0MB\r",
        "  Downloading basemap-1.0.7.tar.gz (129.7MB):  13%  17.0MB\r",
        "  Downloading basemap-1.0.7.tar.gz (129.7MB):  13%  17.0MB\r",
        "  Downloading basemap-1.0.7.tar.gz (129.7MB):  13%  17.0MB\r",
        "  Downloading basemap-1.0.7.tar.gz (129.7MB):  13%  17.0MB\r",
        "  Downloading basemap-1.0.7.tar.gz (129.7MB):  13%  17.0MB\r",
        "  Downloading basemap-1.0.7.tar.gz (129.7MB):  13%  17.0MB\r",
        "  Downloading basemap-1.0.7.tar.gz (129.7MB):  13%  17.0MB\r",
        "  Downloading basemap-1.0.7.tar.gz (129.7MB):  13%  17.0MB\r",
        "  Downloading basemap-1.0.7.tar.gz (129.7MB):  13%  17.0MB\r",
        "  Downloading basemap-1.0.7.tar.gz (129.7MB):  13%  17.0MB\r",
        "  Downloading basemap-1.0.7.tar.gz (129.7MB):  13%  17.0MB\r",
        "  Downloading basemap-1.0.7.tar.gz (129.7MB):  13%  17.0MB\r",
        "  Downloading basemap-1.0.7.tar.gz (129.7MB):  13%  17.1MB\r",
        "  Downloading basemap-1.0.7.tar.gz (129.7MB):  13%  17.1MB\r",
        "  Downloading basemap-1.0.7.tar.gz (129.7MB):  13%  17.1MB\r",
        "  Downloading basemap-1.0.7.tar.gz (129.7MB):  13%  17.1MB\r",
        "  Downloading basemap-1.0.7.tar.gz (129.7MB):  13%  17.1MB\r",
        "  Downloading basemap-1.0.7.tar.gz (129.7MB):  13%  17.1MB"
       ]
      },
      {
       "output_type": "stream",
       "stream": "stdout",
       "text": [
        "\r",
        "  Downloading basemap-1.0.7.tar.gz (129.7MB):  13%  17.1MB\r",
        "  Downloading basemap-1.0.7.tar.gz (129.7MB):  13%  17.1MB\r",
        "  Downloading basemap-1.0.7.tar.gz (129.7MB):  13%  17.1MB\r",
        "  Downloading basemap-1.0.7.tar.gz (129.7MB):  13%  17.1MB\r",
        "  Downloading basemap-1.0.7.tar.gz (129.7MB):  13%  17.1MB\r",
        "  Downloading basemap-1.0.7.tar.gz (129.7MB):  13%  17.1MB"
       ]
      },
      {
       "output_type": "stream",
       "stream": "stdout",
       "text": [
        "\r",
        "  Downloading basemap-1.0.7.tar.gz (129.7MB):  13%  17.1MB\r",
        "  Downloading basemap-1.0.7.tar.gz (129.7MB):  13%  17.1MB\r",
        "  Downloading basemap-1.0.7.tar.gz (129.7MB):  13%  17.1MB\r",
        "  Downloading basemap-1.0.7.tar.gz (129.7MB):  13%  17.1MB\r",
        "  Downloading basemap-1.0.7.tar.gz (129.7MB):  13%  17.1MB\r",
        "  Downloading basemap-1.0.7.tar.gz (129.7MB):  13%  17.1MB\r",
        "  Downloading basemap-1.0.7.tar.gz (129.7MB):  13%  17.1MB\r",
        "  Downloading basemap-1.0.7.tar.gz (129.7MB):  13%  17.1MB\r",
        "  Downloading basemap-1.0.7.tar.gz (129.7MB):  13%  17.1MB\r",
        "  Downloading basemap-1.0.7.tar.gz (129.7MB):  13%  17.1MB\r",
        "  Downloading basemap-1.0.7.tar.gz (129.7MB):  13%  17.1MB\r",
        "  Downloading basemap-1.0.7.tar.gz (129.7MB):  13%  17.1MB\r",
        "  Downloading basemap-1.0.7.tar.gz (129.7MB):  13%  17.1MB\r",
        "  Downloading basemap-1.0.7.tar.gz (129.7MB):  13%  17.2MB\r",
        "  Downloading basemap-1.0.7.tar.gz (129.7MB):  13%  17.2MB\r",
        "  Downloading basemap-1.0.7.tar.gz (129.7MB):  13%  17.2MB"
       ]
      },
      {
       "output_type": "stream",
       "stream": "stdout",
       "text": [
        "\r",
        "  Downloading basemap-1.0.7.tar.gz (129.7MB):  13%  17.2MB\r",
        "  Downloading basemap-1.0.7.tar.gz (129.7MB):  13%  17.2MB\r",
        "  Downloading basemap-1.0.7.tar.gz (129.7MB):  13%  17.2MB\r",
        "  Downloading basemap-1.0.7.tar.gz (129.7MB):  13%  17.2MB\r",
        "  Downloading basemap-1.0.7.tar.gz (129.7MB):  13%  17.2MB\r",
        "  Downloading basemap-1.0.7.tar.gz (129.7MB):  13%  17.2MB\r",
        "  Downloading basemap-1.0.7.tar.gz (129.7MB):  13%  17.2MB\r",
        "  Downloading basemap-1.0.7.tar.gz (129.7MB):  13%  17.2MB\r",
        "  Downloading basemap-1.0.7.tar.gz (129.7MB):  13%  17.2MB\r",
        "  Downloading basemap-1.0.7.tar.gz (129.7MB):  13%  17.2MB\r",
        "  Downloading basemap-1.0.7.tar.gz (129.7MB):  13%  17.2MB\r",
        "  Downloading basemap-1.0.7.tar.gz (129.7MB):  13%  17.2MB\r",
        "  Downloading basemap-1.0.7.tar.gz (129.7MB):  13%  17.2MB\r",
        "  Downloading basemap-1.0.7.tar.gz (129.7MB):  13%  17.2MB"
       ]
      },
      {
       "output_type": "stream",
       "stream": "stdout",
       "text": [
        "\r",
        "  Downloading basemap-1.0.7.tar.gz (129.7MB):  13%  17.2MB\r",
        "  Downloading basemap-1.0.7.tar.gz (129.7MB):  13%  17.2MB\r",
        "  Downloading basemap-1.0.7.tar.gz (129.7MB):  13%  17.2MB\r",
        "  Downloading basemap-1.0.7.tar.gz (129.7MB):  13%  17.2MB\r",
        "  Downloading basemap-1.0.7.tar.gz (129.7MB):  13%  17.2MB\r",
        "  Downloading basemap-1.0.7.tar.gz (129.7MB):  13%  17.2MB\r",
        "  Downloading basemap-1.0.7.tar.gz (129.7MB):  13%  17.2MB\r",
        "  Downloading basemap-1.0.7.tar.gz (129.7MB):  13%  17.3MB\r",
        "  Downloading basemap-1.0.7.tar.gz (129.7MB):  13%  17.3MB"
       ]
      },
      {
       "output_type": "stream",
       "stream": "stdout",
       "text": [
        "\r",
        "  Downloading basemap-1.0.7.tar.gz (129.7MB):  13%  17.3MB\r",
        "  Downloading basemap-1.0.7.tar.gz (129.7MB):  13%  17.3MB\r",
        "  Downloading basemap-1.0.7.tar.gz (129.7MB):  13%  17.3MB\r",
        "  Downloading basemap-1.0.7.tar.gz (129.7MB):  13%  17.3MB\r",
        "  Downloading basemap-1.0.7.tar.gz (129.7MB):  13%  17.3MB\r",
        "  Downloading basemap-1.0.7.tar.gz (129.7MB):  13%  17.3MB\r",
        "  Downloading basemap-1.0.7.tar.gz (129.7MB):  13%  17.3MB\r",
        "  Downloading basemap-1.0.7.tar.gz (129.7MB):  13%  17.3MB\r",
        "  Downloading basemap-1.0.7.tar.gz (129.7MB):  13%  17.3MB\r",
        "  Downloading basemap-1.0.7.tar.gz (129.7MB):  13%  17.3MB\r",
        "  Downloading basemap-1.0.7.tar.gz (129.7MB):  13%  17.3MB\r",
        "  Downloading basemap-1.0.7.tar.gz (129.7MB):  13%  17.3MB\r",
        "  Downloading basemap-1.0.7.tar.gz (129.7MB):  13%  17.3MB\r",
        "  Downloading basemap-1.0.7.tar.gz (129.7MB):  13%  17.3MB\r",
        "  Downloading basemap-1.0.7.tar.gz (129.7MB):  13%  17.3MB\r",
        "  Downloading basemap-1.0.7.tar.gz (129.7MB):  13%  17.3MB\r",
        "  Downloading basemap-1.0.7.tar.gz (129.7MB):  13%  17.3MB\r",
        "  Downloading basemap-1.0.7.tar.gz (129.7MB):  13%  17.3MB\r",
        "  Downloading basemap-1.0.7.tar.gz (129.7MB):  13%  17.3MB\r",
        "  Downloading basemap-1.0.7.tar.gz (129.7MB):  13%  17.3MB\r",
        "  Downloading basemap-1.0.7.tar.gz (129.7MB):  13%  17.3MB"
       ]
      },
      {
       "output_type": "stream",
       "stream": "stdout",
       "text": [
        "\r",
        "  Downloading basemap-1.0.7.tar.gz (129.7MB):  13%  17.3MB\r",
        "  Downloading basemap-1.0.7.tar.gz (129.7MB):  13%  17.4MB\r",
        "  Downloading basemap-1.0.7.tar.gz (129.7MB):  13%  17.4MB\r",
        "  Downloading basemap-1.0.7.tar.gz (129.7MB):  13%  17.4MB\r",
        "  Downloading basemap-1.0.7.tar.gz (129.7MB):  13%  17.4MB"
       ]
      },
      {
       "output_type": "stream",
       "stream": "stdout",
       "text": [
        "\r",
        "  Downloading basemap-1.0.7.tar.gz (129.7MB):  13%  17.4MB\r",
        "  Downloading basemap-1.0.7.tar.gz (129.7MB):  13%  17.4MB\r",
        "  Downloading basemap-1.0.7.tar.gz (129.7MB):  13%  17.4MB\r",
        "  Downloading basemap-1.0.7.tar.gz (129.7MB):  13%  17.4MB\r",
        "  Downloading basemap-1.0.7.tar.gz (129.7MB):  13%  17.4MB\r",
        "  Downloading basemap-1.0.7.tar.gz (129.7MB):  13%  17.4MB\r",
        "  Downloading basemap-1.0.7.tar.gz (129.7MB):  13%  17.4MB\r",
        "  Downloading basemap-1.0.7.tar.gz (129.7MB):  13%  17.4MB\r",
        "  Downloading basemap-1.0.7.tar.gz (129.7MB):  13%  17.4MB\r",
        "  Downloading basemap-1.0.7.tar.gz (129.7MB):  13%  17.4MB\r",
        "  Downloading basemap-1.0.7.tar.gz (129.7MB):  13%  17.4MB\r",
        "  Downloading basemap-1.0.7.tar.gz (129.7MB):  13%  17.4MB\r",
        "  Downloading basemap-1.0.7.tar.gz (129.7MB):  13%  17.4MB\r",
        "  Downloading basemap-1.0.7.tar.gz (129.7MB):  13%  17.4MB\r",
        "  Downloading basemap-1.0.7.tar.gz (129.7MB):  13%  17.4MB\r",
        "  Downloading basemap-1.0.7.tar.gz (129.7MB):  13%  17.4MB\r",
        "  Downloading basemap-1.0.7.tar.gz (129.7MB):  13%  17.4MB\r",
        "  Downloading basemap-1.0.7.tar.gz (129.7MB):  13%  17.4MB\r",
        "  Downloading basemap-1.0.7.tar.gz (129.7MB):  13%  17.4MB\r",
        "  Downloading basemap-1.0.7.tar.gz (129.7MB):  13%  17.4MB\r",
        "  Downloading basemap-1.0.7.tar.gz (129.7MB):  13%  17.4MB"
       ]
      },
      {
       "output_type": "stream",
       "stream": "stdout",
       "text": [
        "\r",
        "  Downloading basemap-1.0.7.tar.gz (129.7MB):  13%  17.5MB\r",
        "  Downloading basemap-1.0.7.tar.gz (129.7MB):  13%  17.5MB\r",
        "  Downloading basemap-1.0.7.tar.gz (129.7MB):  13%  17.5MB\r",
        "  Downloading basemap-1.0.7.tar.gz (129.7MB):  13%  17.5MB\r",
        "  Downloading basemap-1.0.7.tar.gz (129.7MB):  13%  17.5MB\r",
        "  Downloading basemap-1.0.7.tar.gz (129.7MB):  13%  17.5MB\r",
        "  Downloading basemap-1.0.7.tar.gz (129.7MB):  13%  17.5MB"
       ]
      },
      {
       "output_type": "stream",
       "stream": "stdout",
       "text": [
        "\r",
        "  Downloading basemap-1.0.7.tar.gz (129.7MB):  13%  17.5MB\r",
        "  Downloading basemap-1.0.7.tar.gz (129.7MB):  13%  17.5MB\r",
        "  Downloading basemap-1.0.7.tar.gz (129.7MB):  13%  17.5MB\r",
        "  Downloading basemap-1.0.7.tar.gz (129.7MB):  13%  17.5MB\r",
        "  Downloading basemap-1.0.7.tar.gz (129.7MB):  13%  17.5MB\r",
        "  Downloading basemap-1.0.7.tar.gz (129.7MB):  13%  17.5MB\r",
        "  Downloading basemap-1.0.7.tar.gz (129.7MB):  13%  17.5MB\r",
        "  Downloading basemap-1.0.7.tar.gz (129.7MB):  13%  17.5MB\r",
        "  Downloading basemap-1.0.7.tar.gz (129.7MB):  13%  17.5MB\r",
        "  Downloading basemap-1.0.7.tar.gz (129.7MB):  13%  17.5MB\r",
        "  Downloading basemap-1.0.7.tar.gz (129.7MB):  13%  17.5MB\r",
        "  Downloading basemap-1.0.7.tar.gz (129.7MB):  13%  17.5MB\r",
        "  Downloading basemap-1.0.7.tar.gz (129.7MB):  13%  17.5MB\r",
        "  Downloading basemap-1.0.7.tar.gz (129.7MB):  13%  17.5MB\r",
        "  Downloading basemap-1.0.7.tar.gz (129.7MB):  13%  17.5MB\r",
        "  Downloading basemap-1.0.7.tar.gz (129.7MB):  13%  17.5MB\r",
        "  Downloading basemap-1.0.7.tar.gz (129.7MB):  13%  17.5MB"
       ]
      },
      {
       "output_type": "stream",
       "stream": "stdout",
       "text": [
        "\r",
        "  Downloading basemap-1.0.7.tar.gz (129.7MB):  13%  17.6MB\r",
        "  Downloading basemap-1.0.7.tar.gz (129.7MB):  13%  17.6MB\r",
        "  Downloading basemap-1.0.7.tar.gz (129.7MB):  13%  17.6MB\r",
        "  Downloading basemap-1.0.7.tar.gz (129.7MB):  13%  17.6MB\r",
        "  Downloading basemap-1.0.7.tar.gz (129.7MB):  13%  17.6MB\r",
        "  Downloading basemap-1.0.7.tar.gz (129.7MB):  13%  17.6MB\r",
        "  Downloading basemap-1.0.7.tar.gz (129.7MB):  13%  17.6MB\r",
        "  Downloading basemap-1.0.7.tar.gz (129.7MB):  13%  17.6MB\r",
        "  Downloading basemap-1.0.7.tar.gz (129.7MB):  13%  17.6MB\r",
        "  Downloading basemap-1.0.7.tar.gz (129.7MB):  13%  17.6MB\r",
        "  Downloading basemap-1.0.7.tar.gz (129.7MB):  13%  17.6MB\r",
        "  Downloading basemap-1.0.7.tar.gz (129.7MB):  13%  17.6MB"
       ]
      },
      {
       "output_type": "stream",
       "stream": "stdout",
       "text": [
        "\r",
        "  Downloading basemap-1.0.7.tar.gz (129.7MB):  13%  17.6MB\r",
        "  Downloading basemap-1.0.7.tar.gz (129.7MB):  13%  17.6MB\r",
        "  Downloading basemap-1.0.7.tar.gz (129.7MB):  13%  17.6MB\r",
        "  Downloading basemap-1.0.7.tar.gz (129.7MB):  13%  17.6MB\r",
        "  Downloading basemap-1.0.7.tar.gz (129.7MB):  13%  17.6MB\r",
        "  Downloading basemap-1.0.7.tar.gz (129.7MB):  13%  17.6MB\r",
        "  Downloading basemap-1.0.7.tar.gz (129.7MB):  13%  17.6MB\r",
        "  Downloading basemap-1.0.7.tar.gz (129.7MB):  13%  17.6MB\r",
        "  Downloading basemap-1.0.7.tar.gz (129.7MB):  13%  17.6MB\r",
        "  Downloading basemap-1.0.7.tar.gz (129.7MB):  13%  17.6MB\r",
        "  Downloading basemap-1.0.7.tar.gz (129.7MB):  13%  17.6MB"
       ]
      },
      {
       "output_type": "stream",
       "stream": "stdout",
       "text": [
        "\r",
        "  Downloading basemap-1.0.7.tar.gz (129.7MB):  13%  17.6MB\r",
        "  Downloading basemap-1.0.7.tar.gz (129.7MB):  13%  17.6MB\r",
        "  Downloading basemap-1.0.7.tar.gz (129.7MB):  13%  17.7MB\r",
        "  Downloading basemap-1.0.7.tar.gz (129.7MB):  13%  17.7MB\r",
        "  Downloading basemap-1.0.7.tar.gz (129.7MB):  13%  17.7MB\r",
        "  Downloading basemap-1.0.7.tar.gz (129.7MB):  13%  17.7MB\r",
        "  Downloading basemap-1.0.7.tar.gz (129.7MB):  13%  17.7MB\r",
        "  Downloading basemap-1.0.7.tar.gz (129.7MB):  13%  17.7MB\r",
        "  Downloading basemap-1.0.7.tar.gz (129.7MB):  13%  17.7MB\r",
        "  Downloading basemap-1.0.7.tar.gz (129.7MB):  13%  17.7MB\r",
        "  Downloading basemap-1.0.7.tar.gz (129.7MB):  13%  17.7MB\r",
        "  Downloading basemap-1.0.7.tar.gz (129.7MB):  13%  17.7MB\r",
        "  Downloading basemap-1.0.7.tar.gz (129.7MB):  13%  17.7MB\r",
        "  Downloading basemap-1.0.7.tar.gz (129.7MB):  13%  17.7MB\r",
        "  Downloading basemap-1.0.7.tar.gz (129.7MB):  13%  17.7MB\r",
        "  Downloading basemap-1.0.7.tar.gz (129.7MB):  13%  17.7MB\r",
        "  Downloading basemap-1.0.7.tar.gz (129.7MB):  13%  17.7MB\r",
        "  Downloading basemap-1.0.7.tar.gz (129.7MB):  13%  17.7MB\r",
        "  Downloading basemap-1.0.7.tar.gz (129.7MB):  13%  17.7MB\r",
        "  Downloading basemap-1.0.7.tar.gz (129.7MB):  13%  17.7MB\r",
        "  Downloading basemap-1.0.7.tar.gz (129.7MB):  13%  17.7MB"
       ]
      },
      {
       "output_type": "stream",
       "stream": "stdout",
       "text": [
        "\r",
        "  Downloading basemap-1.0.7.tar.gz (129.7MB):  13%  17.7MB\r",
        "  Downloading basemap-1.0.7.tar.gz (129.7MB):  13%  17.7MB\r",
        "  Downloading basemap-1.0.7.tar.gz (129.7MB):  13%  17.7MB\r",
        "  Downloading basemap-1.0.7.tar.gz (129.7MB):  13%  17.7MB\r",
        "  Downloading basemap-1.0.7.tar.gz (129.7MB):  13%  17.7MB\r",
        "  Downloading basemap-1.0.7.tar.gz (129.7MB):  13%  17.8MB"
       ]
      },
      {
       "output_type": "stream",
       "stream": "stdout",
       "text": [
        "\r",
        "  Downloading basemap-1.0.7.tar.gz (129.7MB):  13%  17.8MB\r",
        "  Downloading basemap-1.0.7.tar.gz (129.7MB):  13%  17.8MB\r",
        "  Downloading basemap-1.0.7.tar.gz (129.7MB):  13%  17.8MB\r",
        "  Downloading basemap-1.0.7.tar.gz (129.7MB):  13%  17.8MB\r",
        "  Downloading basemap-1.0.7.tar.gz (129.7MB):  13%  17.8MB\r",
        "  Downloading basemap-1.0.7.tar.gz (129.7MB):  13%  17.8MB\r",
        "  Downloading basemap-1.0.7.tar.gz (129.7MB):  13%  17.8MB\r",
        "  Downloading basemap-1.0.7.tar.gz (129.7MB):  13%  17.8MB\r",
        "  Downloading basemap-1.0.7.tar.gz (129.7MB):  13%  17.8MB\r",
        "  Downloading basemap-1.0.7.tar.gz (129.7MB):  13%  17.8MB\r",
        "  Downloading basemap-1.0.7.tar.gz (129.7MB):  13%  17.8MB\r",
        "  Downloading basemap-1.0.7.tar.gz (129.7MB):  13%  17.8MB\r",
        "  Downloading basemap-1.0.7.tar.gz (129.7MB):  13%  17.8MB\r",
        "  Downloading basemap-1.0.7.tar.gz (129.7MB):  13%  17.8MB\r",
        "  Downloading basemap-1.0.7.tar.gz (129.7MB):  13%  17.8MB\r",
        "  Downloading basemap-1.0.7.tar.gz (129.7MB):  13%  17.8MB\r",
        "  Downloading basemap-1.0.7.tar.gz (129.7MB):  13%  17.8MB\r",
        "  Downloading basemap-1.0.7.tar.gz (129.7MB):  13%  17.8MB\r",
        "  Downloading basemap-1.0.7.tar.gz (129.7MB):  13%  17.8MB\r",
        "  Downloading basemap-1.0.7.tar.gz (129.7MB):  13%  17.8MB\r",
        "  Downloading basemap-1.0.7.tar.gz (129.7MB):  13%  17.8MB\r",
        "  Downloading basemap-1.0.7.tar.gz (129.7MB):  13%  17.8MB\r",
        "  Downloading basemap-1.0.7.tar.gz (129.7MB):  13%  17.8MB"
       ]
      },
      {
       "output_type": "stream",
       "stream": "stdout",
       "text": [
        "\r",
        "  Downloading basemap-1.0.7.tar.gz (129.7MB):  13%  17.9MB\r",
        "  Downloading basemap-1.0.7.tar.gz (129.7MB):  13%  17.9MB\r",
        "  Downloading basemap-1.0.7.tar.gz (129.7MB):  13%  17.9MB\r",
        "  Downloading basemap-1.0.7.tar.gz (129.7MB):  13%  17.9MB\r",
        "  Downloading basemap-1.0.7.tar.gz (129.7MB):  13%  17.9MB\r",
        "  Downloading basemap-1.0.7.tar.gz (129.7MB):  13%  17.9MB\r",
        "  Downloading basemap-1.0.7.tar.gz (129.7MB):  13%  17.9MB"
       ]
      },
      {
       "output_type": "stream",
       "stream": "stdout",
       "text": [
        "\r",
        "  Downloading basemap-1.0.7.tar.gz (129.7MB):  13%  17.9MB\r",
        "  Downloading basemap-1.0.7.tar.gz (129.7MB):  13%  17.9MB\r",
        "  Downloading basemap-1.0.7.tar.gz (129.7MB):  13%  17.9MB\r",
        "  Downloading basemap-1.0.7.tar.gz (129.7MB):  13%  17.9MB\r",
        "  Downloading basemap-1.0.7.tar.gz (129.7MB):  13%  17.9MB\r",
        "  Downloading basemap-1.0.7.tar.gz (129.7MB):  13%  17.9MB\r",
        "  Downloading basemap-1.0.7.tar.gz (129.7MB):  13%  17.9MB\r",
        "  Downloading basemap-1.0.7.tar.gz (129.7MB):  13%  17.9MB\r",
        "  Downloading basemap-1.0.7.tar.gz (129.7MB):  13%  17.9MB\r",
        "  Downloading basemap-1.0.7.tar.gz (129.7MB):  13%  17.9MB\r",
        "  Downloading basemap-1.0.7.tar.gz (129.7MB):  13%  17.9MB\r",
        "  Downloading basemap-1.0.7.tar.gz (129.7MB):  13%  17.9MB\r",
        "  Downloading basemap-1.0.7.tar.gz (129.7MB):  13%  17.9MB\r",
        "  Downloading basemap-1.0.7.tar.gz (129.7MB):  13%  17.9MB\r",
        "  Downloading basemap-1.0.7.tar.gz (129.7MB):  13%  17.9MB\r",
        "  Downloading basemap-1.0.7.tar.gz (129.7MB):  13%  17.9MB\r",
        "  Downloading basemap-1.0.7.tar.gz (129.7MB):  13%  17.9MB\r",
        "  Downloading basemap-1.0.7.tar.gz (129.7MB):  13%  17.9MB"
       ]
      },
      {
       "output_type": "stream",
       "stream": "stdout",
       "text": [
        "\r",
        "  Downloading basemap-1.0.7.tar.gz (129.7MB):  13%  18.0MB\r",
        "  Downloading basemap-1.0.7.tar.gz (129.7MB):  13%  18.0MB\r",
        "  Downloading basemap-1.0.7.tar.gz (129.7MB):  13%  18.0MB\r",
        "  Downloading basemap-1.0.7.tar.gz (129.7MB):  13%  18.0MB\r",
        "  Downloading basemap-1.0.7.tar.gz (129.7MB):  13%  18.0MB\r",
        "  Downloading basemap-1.0.7.tar.gz (129.7MB):  13%  18.0MB\r",
        "  Downloading basemap-1.0.7.tar.gz (129.7MB):  13%  18.0MB\r",
        "  Downloading basemap-1.0.7.tar.gz (129.7MB):  13%  18.0MB\r",
        "  Downloading basemap-1.0.7.tar.gz (129.7MB):  13%  18.0MB\r",
        "  Downloading basemap-1.0.7.tar.gz (129.7MB):  13%  18.0MB\r",
        "  Downloading basemap-1.0.7.tar.gz (129.7MB):  13%  18.0MB"
       ]
      },
      {
       "output_type": "stream",
       "stream": "stdout",
       "text": [
        "\r",
        "  Downloading basemap-1.0.7.tar.gz (129.7MB):  13%  18.0MB\r",
        "  Downloading basemap-1.0.7.tar.gz (129.7MB):  13%  18.0MB\r",
        "  Downloading basemap-1.0.7.tar.gz (129.7MB):  13%  18.0MB\r",
        "  Downloading basemap-1.0.7.tar.gz (129.7MB):  13%  18.0MB\r",
        "  Downloading basemap-1.0.7.tar.gz (129.7MB):  13%  18.0MB\r",
        "  Downloading basemap-1.0.7.tar.gz (129.7MB):  13%  18.0MB\r",
        "  Downloading basemap-1.0.7.tar.gz (129.7MB):  13%  18.0MB\r",
        "  Downloading basemap-1.0.7.tar.gz (129.7MB):  13%  18.0MB\r",
        "  Downloading basemap-1.0.7.tar.gz (129.7MB):  13%  18.0MB\r",
        "  Downloading basemap-1.0.7.tar.gz (129.7MB):  13%  18.0MB\r",
        "  Downloading basemap-1.0.7.tar.gz (129.7MB):  13%  18.0MB\r",
        "  Downloading basemap-1.0.7.tar.gz (129.7MB):  13%  18.0MB\r",
        "  Downloading basemap-1.0.7.tar.gz (129.7MB):  13%  18.0MB"
       ]
      },
      {
       "output_type": "stream",
       "stream": "stdout",
       "text": [
        "\r",
        "  Downloading basemap-1.0.7.tar.gz (129.7MB):  13%  18.1MB\r",
        "  Downloading basemap-1.0.7.tar.gz (129.7MB):  13%  18.1MB\r",
        "  Downloading basemap-1.0.7.tar.gz (129.7MB):  13%  18.1MB\r",
        "  Downloading basemap-1.0.7.tar.gz (129.7MB):  13%  18.1MB\r",
        "  Downloading basemap-1.0.7.tar.gz (129.7MB):  13%  18.1MB\r",
        "  Downloading basemap-1.0.7.tar.gz (129.7MB):  13%  18.1MB\r",
        "  Downloading basemap-1.0.7.tar.gz (129.7MB):  13%  18.1MB\r",
        "  Downloading basemap-1.0.7.tar.gz (129.7MB):  13%  18.1MB\r",
        "  Downloading basemap-1.0.7.tar.gz (129.7MB):  13%  18.1MB\r",
        "  Downloading basemap-1.0.7.tar.gz (129.7MB):  13%  18.1MB\r",
        "  Downloading basemap-1.0.7.tar.gz (129.7MB):  13%  18.1MB\r",
        "  Downloading basemap-1.0.7.tar.gz (129.7MB):  13%  18.1MB\r",
        "  Downloading basemap-1.0.7.tar.gz (129.7MB):  13%  18.1MB\r",
        "  Downloading basemap-1.0.7.tar.gz (129.7MB):  13%  18.1MB\r",
        "  Downloading basemap-1.0.7.tar.gz (129.7MB):  13%  18.1MB\r",
        "  Downloading basemap-1.0.7.tar.gz (129.7MB):  13%  18.1MB\r",
        "  Downloading basemap-1.0.7.tar.gz (129.7MB):  13%  18.1MB\r",
        "  Downloading basemap-1.0.7.tar.gz (129.7MB):  13%  18.1MB\r",
        "  Downloading basemap-1.0.7.tar.gz (129.7MB):  13%  18.1MB"
       ]
      },
      {
       "output_type": "stream",
       "stream": "stdout",
       "text": [
        "\r",
        "  Downloading basemap-1.0.7.tar.gz (129.7MB):  13%  18.1MB\r",
        "  Downloading basemap-1.0.7.tar.gz (129.7MB):  13%  18.1MB\r",
        "  Downloading basemap-1.0.7.tar.gz (129.7MB):  13%  18.1MB\r",
        "  Downloading basemap-1.0.7.tar.gz (129.7MB):  13%  18.1MB\r",
        "  Downloading basemap-1.0.7.tar.gz (129.7MB):  13%  18.1MB\r",
        "  Downloading basemap-1.0.7.tar.gz (129.7MB):  13%  18.1MB\r",
        "  Downloading basemap-1.0.7.tar.gz (129.7MB):  13%  18.2MB"
       ]
      },
      {
       "output_type": "stream",
       "stream": "stdout",
       "text": [
        "\r",
        "  Downloading basemap-1.0.7.tar.gz (129.7MB):  14%  18.2MB\r",
        "  Downloading basemap-1.0.7.tar.gz (129.7MB):  14%  18.2MB\r",
        "  Downloading basemap-1.0.7.tar.gz (129.7MB):  14%  18.2MB\r",
        "  Downloading basemap-1.0.7.tar.gz (129.7MB):  14%  18.2MB\r",
        "  Downloading basemap-1.0.7.tar.gz (129.7MB):  14%  18.2MB\r",
        "  Downloading basemap-1.0.7.tar.gz (129.7MB):  14%  18.2MB\r",
        "  Downloading basemap-1.0.7.tar.gz (129.7MB):  14%  18.2MB\r",
        "  Downloading basemap-1.0.7.tar.gz (129.7MB):  14%  18.2MB\r",
        "  Downloading basemap-1.0.7.tar.gz (129.7MB):  14%  18.2MB\r",
        "  Downloading basemap-1.0.7.tar.gz (129.7MB):  14%  18.2MB\r",
        "  Downloading basemap-1.0.7.tar.gz (129.7MB):  14%  18.2MB\r",
        "  Downloading basemap-1.0.7.tar.gz (129.7MB):  14%  18.2MB\r",
        "  Downloading basemap-1.0.7.tar.gz (129.7MB):  14%  18.2MB\r",
        "  Downloading basemap-1.0.7.tar.gz (129.7MB):  14%  18.2MB\r",
        "  Downloading basemap-1.0.7.tar.gz (129.7MB):  14%  18.2MB\r",
        "  Downloading basemap-1.0.7.tar.gz (129.7MB):  14%  18.2MB\r",
        "  Downloading basemap-1.0.7.tar.gz (129.7MB):  14%  18.2MB\r",
        "  Downloading basemap-1.0.7.tar.gz (129.7MB):  14%  18.2MB\r",
        "  Downloading basemap-1.0.7.tar.gz (129.7MB):  14%  18.2MB\r",
        "  Downloading basemap-1.0.7.tar.gz (129.7MB):  14%  18.2MB\r",
        "  Downloading basemap-1.0.7.tar.gz (129.7MB):  14%  18.2MB\r",
        "  Downloading basemap-1.0.7.tar.gz (129.7MB):  14%  18.2MB\r",
        "  Downloading basemap-1.0.7.tar.gz (129.7MB):  14%  18.2MB\r",
        "  Downloading basemap-1.0.7.tar.gz (129.7MB):  14%  18.3MB\r",
        "  Downloading basemap-1.0.7.tar.gz (129.7MB):  14%  18.3MB"
       ]
      },
      {
       "output_type": "stream",
       "stream": "stdout",
       "text": [
        "\r",
        "  Downloading basemap-1.0.7.tar.gz (129.7MB):  14%  18.3MB\r",
        "  Downloading basemap-1.0.7.tar.gz (129.7MB):  14%  18.3MB\r",
        "  Downloading basemap-1.0.7.tar.gz (129.7MB):  14%  18.3MB\r",
        "  Downloading basemap-1.0.7.tar.gz (129.7MB):  14%  18.3MB\r",
        "  Downloading basemap-1.0.7.tar.gz (129.7MB):  14%  18.3MB\r",
        "  Downloading basemap-1.0.7.tar.gz (129.7MB):  14%  18.3MB"
       ]
      },
      {
       "output_type": "stream",
       "stream": "stdout",
       "text": [
        "\r",
        "  Downloading basemap-1.0.7.tar.gz (129.7MB):  14%  18.3MB\r",
        "  Downloading basemap-1.0.7.tar.gz (129.7MB):  14%  18.3MB\r",
        "  Downloading basemap-1.0.7.tar.gz (129.7MB):  14%  18.3MB\r",
        "  Downloading basemap-1.0.7.tar.gz (129.7MB):  14%  18.3MB\r",
        "  Downloading basemap-1.0.7.tar.gz (129.7MB):  14%  18.3MB\r",
        "  Downloading basemap-1.0.7.tar.gz (129.7MB):  14%  18.3MB\r",
        "  Downloading basemap-1.0.7.tar.gz (129.7MB):  14%  18.3MB\r",
        "  Downloading basemap-1.0.7.tar.gz (129.7MB):  14%  18.3MB\r",
        "  Downloading basemap-1.0.7.tar.gz (129.7MB):  14%  18.3MB\r",
        "  Downloading basemap-1.0.7.tar.gz (129.7MB):  14%  18.3MB\r",
        "  Downloading basemap-1.0.7.tar.gz (129.7MB):  14%  18.3MB\r",
        "  Downloading basemap-1.0.7.tar.gz (129.7MB):  14%  18.3MB\r",
        "  Downloading basemap-1.0.7.tar.gz (129.7MB):  14%  18.3MB\r",
        "  Downloading basemap-1.0.7.tar.gz (129.7MB):  14%  18.3MB\r",
        "  Downloading basemap-1.0.7.tar.gz (129.7MB):  14%  18.3MB\r",
        "  Downloading basemap-1.0.7.tar.gz (129.7MB):  14%  18.3MB\r",
        "  Downloading basemap-1.0.7.tar.gz (129.7MB):  14%  18.4MB\r",
        "  Downloading basemap-1.0.7.tar.gz (129.7MB):  14%  18.4MB"
       ]
      },
      {
       "output_type": "stream",
       "stream": "stdout",
       "text": [
        "\r",
        "  Downloading basemap-1.0.7.tar.gz (129.7MB):  14%  18.4MB\r",
        "  Downloading basemap-1.0.7.tar.gz (129.7MB):  14%  18.4MB\r",
        "  Downloading basemap-1.0.7.tar.gz (129.7MB):  14%  18.4MB\r",
        "  Downloading basemap-1.0.7.tar.gz (129.7MB):  14%  18.4MB\r",
        "  Downloading basemap-1.0.7.tar.gz (129.7MB):  14%  18.4MB\r",
        "  Downloading basemap-1.0.7.tar.gz (129.7MB):  14%  18.4MB\r",
        "  Downloading basemap-1.0.7.tar.gz (129.7MB):  14%  18.4MB\r",
        "  Downloading basemap-1.0.7.tar.gz (129.7MB):  14%  18.4MB\r",
        "  Downloading basemap-1.0.7.tar.gz (129.7MB):  14%  18.4MB\r",
        "  Downloading basemap-1.0.7.tar.gz (129.7MB):  14%  18.4MB\r",
        "  Downloading basemap-1.0.7.tar.gz (129.7MB):  14%  18.4MB"
       ]
      },
      {
       "output_type": "stream",
       "stream": "stdout",
       "text": [
        "\r",
        "  Downloading basemap-1.0.7.tar.gz (129.7MB):  14%  18.4MB\r",
        "  Downloading basemap-1.0.7.tar.gz (129.7MB):  14%  18.4MB\r",
        "  Downloading basemap-1.0.7.tar.gz (129.7MB):  14%  18.4MB\r",
        "  Downloading basemap-1.0.7.tar.gz (129.7MB):  14%  18.4MB\r",
        "  Downloading basemap-1.0.7.tar.gz (129.7MB):  14%  18.4MB\r",
        "  Downloading basemap-1.0.7.tar.gz (129.7MB):  14%  18.4MB\r",
        "  Downloading basemap-1.0.7.tar.gz (129.7MB):  14%  18.4MB\r",
        "  Downloading basemap-1.0.7.tar.gz (129.7MB):  14%  18.4MB\r",
        "  Downloading basemap-1.0.7.tar.gz (129.7MB):  14%  18.4MB\r",
        "  Downloading basemap-1.0.7.tar.gz (129.7MB):  14%  18.4MB\r",
        "  Downloading basemap-1.0.7.tar.gz (129.7MB):  14%  18.4MB\r",
        "  Downloading basemap-1.0.7.tar.gz (129.7MB):  14%  18.4MB\r",
        "  Downloading basemap-1.0.7.tar.gz (129.7MB):  14%  18.5MB\r",
        "  Downloading basemap-1.0.7.tar.gz (129.7MB):  14%  18.5MB\r",
        "  Downloading basemap-1.0.7.tar.gz (129.7MB):  14%  18.5MB"
       ]
      },
      {
       "output_type": "stream",
       "stream": "stdout",
       "text": [
        "\r",
        "  Downloading basemap-1.0.7.tar.gz (129.7MB):  14%  18.5MB\r",
        "  Downloading basemap-1.0.7.tar.gz (129.7MB):  14%  18.5MB\r",
        "  Downloading basemap-1.0.7.tar.gz (129.7MB):  14%  18.5MB\r",
        "  Downloading basemap-1.0.7.tar.gz (129.7MB):  14%  18.5MB\r",
        "  Downloading basemap-1.0.7.tar.gz (129.7MB):  14%  18.5MB\r",
        "  Downloading basemap-1.0.7.tar.gz (129.7MB):  14%  18.5MB\r",
        "  Downloading basemap-1.0.7.tar.gz (129.7MB):  14%  18.5MB\r",
        "  Downloading basemap-1.0.7.tar.gz (129.7MB):  14%  18.5MB\r",
        "  Downloading basemap-1.0.7.tar.gz (129.7MB):  14%  18.5MB\r",
        "  Downloading basemap-1.0.7.tar.gz (129.7MB):  14%  18.5MB\r",
        "  Downloading basemap-1.0.7.tar.gz (129.7MB):  14%  18.5MB\r",
        "  Downloading basemap-1.0.7.tar.gz (129.7MB):  14%  18.5MB\r",
        "  Downloading basemap-1.0.7.tar.gz (129.7MB):  14%  18.5MB\r",
        "  Downloading basemap-1.0.7.tar.gz (129.7MB):  14%  18.5MB\r",
        "  Downloading basemap-1.0.7.tar.gz (129.7MB):  14%  18.5MB\r",
        "  Downloading basemap-1.0.7.tar.gz (129.7MB):  14%  18.5MB\r",
        "  Downloading basemap-1.0.7.tar.gz (129.7MB):  14%  18.5MB\r",
        "  Downloading basemap-1.0.7.tar.gz (129.7MB):  14%  18.5MB"
       ]
      },
      {
       "output_type": "stream",
       "stream": "stdout",
       "text": [
        "\r",
        "  Downloading basemap-1.0.7.tar.gz (129.7MB):  14%  18.5MB\r",
        "  Downloading basemap-1.0.7.tar.gz (129.7MB):  14%  18.5MB\r",
        "  Downloading basemap-1.0.7.tar.gz (129.7MB):  14%  18.5MB\r",
        "  Downloading basemap-1.0.7.tar.gz (129.7MB):  14%  18.6MB\r",
        "  Downloading basemap-1.0.7.tar.gz (129.7MB):  14%  18.6MB\r",
        "  Downloading basemap-1.0.7.tar.gz (129.7MB):  14%  18.6MB\r",
        "  Downloading basemap-1.0.7.tar.gz (129.7MB):  14%  18.6MB\r",
        "  Downloading basemap-1.0.7.tar.gz (129.7MB):  14%  18.6MB\r",
        "  Downloading basemap-1.0.7.tar.gz (129.7MB):  14%  18.6MB\r",
        "  Downloading basemap-1.0.7.tar.gz (129.7MB):  14%  18.6MB"
       ]
      },
      {
       "output_type": "stream",
       "stream": "stdout",
       "text": [
        "\r",
        "  Downloading basemap-1.0.7.tar.gz (129.7MB):  14%  18.6MB\r",
        "  Downloading basemap-1.0.7.tar.gz (129.7MB):  14%  18.6MB\r",
        "  Downloading basemap-1.0.7.tar.gz (129.7MB):  14%  18.6MB\r",
        "  Downloading basemap-1.0.7.tar.gz (129.7MB):  14%  18.6MB\r",
        "  Downloading basemap-1.0.7.tar.gz (129.7MB):  14%  18.6MB\r",
        "  Downloading basemap-1.0.7.tar.gz (129.7MB):  14%  18.6MB\r",
        "  Downloading basemap-1.0.7.tar.gz (129.7MB):  14%  18.6MB\r",
        "  Downloading basemap-1.0.7.tar.gz (129.7MB):  14%  18.6MB\r",
        "  Downloading basemap-1.0.7.tar.gz (129.7MB):  14%  18.6MB\r",
        "  Downloading basemap-1.0.7.tar.gz (129.7MB):  14%  18.6MB\r",
        "  Downloading basemap-1.0.7.tar.gz (129.7MB):  14%  18.6MB\r",
        "  Downloading basemap-1.0.7.tar.gz (129.7MB):  14%  18.6MB\r",
        "  Downloading basemap-1.0.7.tar.gz (129.7MB):  14%  18.6MB\r",
        "  Downloading basemap-1.0.7.tar.gz (129.7MB):  14%  18.6MB\r",
        "  Downloading basemap-1.0.7.tar.gz (129.7MB):  14%  18.6MB\r",
        "  Downloading basemap-1.0.7.tar.gz (129.7MB):  14%  18.6MB\r",
        "  Downloading basemap-1.0.7.tar.gz (129.7MB):  14%  18.6MB\r",
        "  Downloading basemap-1.0.7.tar.gz (129.7MB):  14%  18.6MB\r",
        "  Downloading basemap-1.0.7.tar.gz (129.7MB):  14%  18.7MB\r",
        "  Downloading basemap-1.0.7.tar.gz (129.7MB):  14%  18.7MB\r",
        "  Downloading basemap-1.0.7.tar.gz (129.7MB):  14%  18.7MB\r",
        "  Downloading basemap-1.0.7.tar.gz (129.7MB):  14%  18.7MB"
       ]
      },
      {
       "output_type": "stream",
       "stream": "stdout",
       "text": [
        "\r",
        "  Downloading basemap-1.0.7.tar.gz (129.7MB):  14%  18.7MB\r",
        "  Downloading basemap-1.0.7.tar.gz (129.7MB):  14%  18.7MB\r",
        "  Downloading basemap-1.0.7.tar.gz (129.7MB):  14%  18.7MB\r",
        "  Downloading basemap-1.0.7.tar.gz (129.7MB):  14%  18.7MB\r",
        "  Downloading basemap-1.0.7.tar.gz (129.7MB):  14%  18.7MB\r",
        "  Downloading basemap-1.0.7.tar.gz (129.7MB):  14%  18.7MB\r",
        "  Downloading basemap-1.0.7.tar.gz (129.7MB):  14%  18.7MB\r",
        "  Downloading basemap-1.0.7.tar.gz (129.7MB):  14%  18.7MB"
       ]
      },
      {
       "output_type": "stream",
       "stream": "stdout",
       "text": [
        "\r",
        "  Downloading basemap-1.0.7.tar.gz (129.7MB):  14%  18.7MB\r",
        "  Downloading basemap-1.0.7.tar.gz (129.7MB):  14%  18.7MB\r",
        "  Downloading basemap-1.0.7.tar.gz (129.7MB):  14%  18.7MB\r",
        "  Downloading basemap-1.0.7.tar.gz (129.7MB):  14%  18.7MB\r",
        "  Downloading basemap-1.0.7.tar.gz (129.7MB):  14%  18.7MB\r",
        "  Downloading basemap-1.0.7.tar.gz (129.7MB):  14%  18.7MB\r",
        "  Downloading basemap-1.0.7.tar.gz (129.7MB):  14%  18.7MB\r",
        "  Downloading basemap-1.0.7.tar.gz (129.7MB):  14%  18.7MB\r",
        "  Downloading basemap-1.0.7.tar.gz (129.7MB):  14%  18.7MB\r",
        "  Downloading basemap-1.0.7.tar.gz (129.7MB):  14%  18.7MB\r",
        "  Downloading basemap-1.0.7.tar.gz (129.7MB):  14%  18.7MB\r",
        "  Downloading basemap-1.0.7.tar.gz (129.7MB):  14%  18.7MB\r",
        "  Downloading basemap-1.0.7.tar.gz (129.7MB):  14%  18.8MB\r",
        "  Downloading basemap-1.0.7.tar.gz (129.7MB):  14%  18.8MB\r",
        "  Downloading basemap-1.0.7.tar.gz (129.7MB):  14%  18.8MB\r",
        "  Downloading basemap-1.0.7.tar.gz (129.7MB):  14%  18.8MB\r",
        "  Downloading basemap-1.0.7.tar.gz (129.7MB):  14%  18.8MB\r",
        "  Downloading basemap-1.0.7.tar.gz (129.7MB):  14%  18.8MB\r",
        "  Downloading basemap-1.0.7.tar.gz (129.7MB):  14%  18.8MB"
       ]
      },
      {
       "output_type": "stream",
       "stream": "stdout",
       "text": [
        "\r",
        "  Downloading basemap-1.0.7.tar.gz (129.7MB):  14%  18.8MB\r",
        "  Downloading basemap-1.0.7.tar.gz (129.7MB):  14%  18.8MB\r",
        "  Downloading basemap-1.0.7.tar.gz (129.7MB):  14%  18.8MB\r",
        "  Downloading basemap-1.0.7.tar.gz (129.7MB):  14%  18.8MB\r",
        "  Downloading basemap-1.0.7.tar.gz (129.7MB):  14%  18.8MB\r",
        "  Downloading basemap-1.0.7.tar.gz (129.7MB):  14%  18.8MB\r",
        "  Downloading basemap-1.0.7.tar.gz (129.7MB):  14%  18.8MB\r",
        "  Downloading basemap-1.0.7.tar.gz (129.7MB):  14%  18.8MB\r",
        "  Downloading basemap-1.0.7.tar.gz (129.7MB):  14%  18.8MB"
       ]
      },
      {
       "output_type": "stream",
       "stream": "stdout",
       "text": [
        "\r",
        "  Downloading basemap-1.0.7.tar.gz (129.7MB):  14%  18.8MB\r",
        "  Downloading basemap-1.0.7.tar.gz (129.7MB):  14%  18.8MB\r",
        "  Downloading basemap-1.0.7.tar.gz (129.7MB):  14%  18.8MB\r",
        "  Downloading basemap-1.0.7.tar.gz (129.7MB):  14%  18.8MB\r",
        "  Downloading basemap-1.0.7.tar.gz (129.7MB):  14%  18.8MB\r",
        "  Downloading basemap-1.0.7.tar.gz (129.7MB):  14%  18.8MB\r",
        "  Downloading basemap-1.0.7.tar.gz (129.7MB):  14%  18.8MB\r",
        "  Downloading basemap-1.0.7.tar.gz (129.7MB):  14%  18.8MB\r",
        "  Downloading basemap-1.0.7.tar.gz (129.7MB):  14%  18.8MB\r",
        "  Downloading basemap-1.0.7.tar.gz (129.7MB):  14%  18.9MB\r",
        "  Downloading basemap-1.0.7.tar.gz (129.7MB):  14%  18.9MB\r",
        "  Downloading basemap-1.0.7.tar.gz (129.7MB):  14%  18.9MB\r",
        "  Downloading basemap-1.0.7.tar.gz (129.7MB):  14%  18.9MB\r",
        "  Downloading basemap-1.0.7.tar.gz (129.7MB):  14%  18.9MB\r",
        "  Downloading basemap-1.0.7.tar.gz (129.7MB):  14%  18.9MB\r",
        "  Downloading basemap-1.0.7.tar.gz (129.7MB):  14%  18.9MB\r",
        "  Downloading basemap-1.0.7.tar.gz (129.7MB):  14%  18.9MB"
       ]
      },
      {
       "output_type": "stream",
       "stream": "stdout",
       "text": [
        "\r",
        "  Downloading basemap-1.0.7.tar.gz (129.7MB):  14%  18.9MB\r",
        "  Downloading basemap-1.0.7.tar.gz (129.7MB):  14%  18.9MB\r",
        "  Downloading basemap-1.0.7.tar.gz (129.7MB):  14%  18.9MB\r",
        "  Downloading basemap-1.0.7.tar.gz (129.7MB):  14%  18.9MB\r",
        "  Downloading basemap-1.0.7.tar.gz (129.7MB):  14%  18.9MB\r",
        "  Downloading basemap-1.0.7.tar.gz (129.7MB):  14%  18.9MB\r",
        "  Downloading basemap-1.0.7.tar.gz (129.7MB):  14%  18.9MB\r",
        "  Downloading basemap-1.0.7.tar.gz (129.7MB):  14%  18.9MB\r",
        "  Downloading basemap-1.0.7.tar.gz (129.7MB):  14%  18.9MB\r",
        "  Downloading basemap-1.0.7.tar.gz (129.7MB):  14%  18.9MB\r",
        "  Downloading basemap-1.0.7.tar.gz (129.7MB):  14%  18.9MB\r",
        "  Downloading basemap-1.0.7.tar.gz (129.7MB):  14%  18.9MB\r",
        "  Downloading basemap-1.0.7.tar.gz (129.7MB):  14%  18.9MB\r",
        "  Downloading basemap-1.0.7.tar.gz (129.7MB):  14%  18.9MB\r",
        "  Downloading basemap-1.0.7.tar.gz (129.7MB):  14%  18.9MB\r",
        "  Downloading basemap-1.0.7.tar.gz (129.7MB):  14%  18.9MB\r",
        "  Downloading basemap-1.0.7.tar.gz (129.7MB):  14%  19.0MB\r",
        "  Downloading basemap-1.0.7.tar.gz (129.7MB):  14%  19.0MB"
       ]
      },
      {
       "output_type": "stream",
       "stream": "stdout",
       "text": [
        "\r",
        "  Downloading basemap-1.0.7.tar.gz (129.7MB):  14%  19.0MB\r",
        "  Downloading basemap-1.0.7.tar.gz (129.7MB):  14%  19.0MB\r",
        "  Downloading basemap-1.0.7.tar.gz (129.7MB):  14%  19.0MB\r",
        "  Downloading basemap-1.0.7.tar.gz (129.7MB):  14%  19.0MB\r",
        "  Downloading basemap-1.0.7.tar.gz (129.7MB):  14%  19.0MB\r",
        "  Downloading basemap-1.0.7.tar.gz (129.7MB):  14%  19.0MB\r",
        "  Downloading basemap-1.0.7.tar.gz (129.7MB):  14%  19.0MB\r",
        "  Downloading basemap-1.0.7.tar.gz (129.7MB):  14%  19.0MB\r",
        "  Downloading basemap-1.0.7.tar.gz (129.7MB):  14%  19.0MB\r",
        "  Downloading basemap-1.0.7.tar.gz (129.7MB):  14%  19.0MB\r",
        "  Downloading basemap-1.0.7.tar.gz (129.7MB):  14%  19.0MB"
       ]
      },
      {
       "output_type": "stream",
       "stream": "stdout",
       "text": [
        "\r",
        "  Downloading basemap-1.0.7.tar.gz (129.7MB):  14%  19.0MB\r",
        "  Downloading basemap-1.0.7.tar.gz (129.7MB):  14%  19.0MB\r",
        "  Downloading basemap-1.0.7.tar.gz (129.7MB):  14%  19.0MB\r",
        "  Downloading basemap-1.0.7.tar.gz (129.7MB):  14%  19.0MB\r",
        "  Downloading basemap-1.0.7.tar.gz (129.7MB):  14%  19.0MB\r",
        "  Downloading basemap-1.0.7.tar.gz (129.7MB):  14%  19.0MB\r",
        "  Downloading basemap-1.0.7.tar.gz (129.7MB):  14%  19.0MB\r",
        "  Downloading basemap-1.0.7.tar.gz (129.7MB):  14%  19.0MB\r",
        "  Downloading basemap-1.0.7.tar.gz (129.7MB):  14%  19.0MB\r",
        "  Downloading basemap-1.0.7.tar.gz (129.7MB):  14%  19.0MB\r",
        "  Downloading basemap-1.0.7.tar.gz (129.7MB):  14%  19.0MB\r",
        "  Downloading basemap-1.0.7.tar.gz (129.7MB):  14%  19.1MB\r",
        "  Downloading basemap-1.0.7.tar.gz (129.7MB):  14%  19.1MB\r",
        "  Downloading basemap-1.0.7.tar.gz (129.7MB):  14%  19.1MB\r",
        "  Downloading basemap-1.0.7.tar.gz (129.7MB):  14%  19.1MB\r",
        "  Downloading basemap-1.0.7.tar.gz (129.7MB):  14%  19.1MB\r",
        "  Downloading basemap-1.0.7.tar.gz (129.7MB):  14%  19.1MB\r",
        "  Downloading basemap-1.0.7.tar.gz (129.7MB):  14%  19.1MB\r",
        "  Downloading basemap-1.0.7.tar.gz (129.7MB):  14%  19.1MB\r",
        "  Downloading basemap-1.0.7.tar.gz (129.7MB):  14%  19.1MB\r",
        "  Downloading basemap-1.0.7.tar.gz (129.7MB):  14%  19.1MB\r",
        "  Downloading basemap-1.0.7.tar.gz (129.7MB):  14%  19.1MB\r",
        "  Downloading basemap-1.0.7.tar.gz (129.7MB):  14%  19.1MB"
       ]
      },
      {
       "output_type": "stream",
       "stream": "stdout",
       "text": [
        "\r",
        "  Downloading basemap-1.0.7.tar.gz (129.7MB):  14%  19.1MB\r",
        "  Downloading basemap-1.0.7.tar.gz (129.7MB):  14%  19.1MB\r",
        "  Downloading basemap-1.0.7.tar.gz (129.7MB):  14%  19.1MB\r",
        "  Downloading basemap-1.0.7.tar.gz (129.7MB):  14%  19.1MB\r",
        "  Downloading basemap-1.0.7.tar.gz (129.7MB):  14%  19.1MB\r",
        "  Downloading basemap-1.0.7.tar.gz (129.7MB):  14%  19.1MB"
       ]
      },
      {
       "output_type": "stream",
       "stream": "stdout",
       "text": [
        "\r",
        "  Downloading basemap-1.0.7.tar.gz (129.7MB):  14%  19.1MB\r",
        "  Downloading basemap-1.0.7.tar.gz (129.7MB):  14%  19.1MB\r",
        "  Downloading basemap-1.0.7.tar.gz (129.7MB):  14%  19.1MB\r",
        "  Downloading basemap-1.0.7.tar.gz (129.7MB):  14%  19.1MB\r",
        "  Downloading basemap-1.0.7.tar.gz (129.7MB):  14%  19.1MB\r",
        "  Downloading basemap-1.0.7.tar.gz (129.7MB):  14%  19.1MB\r",
        "  Downloading basemap-1.0.7.tar.gz (129.7MB):  14%  19.1MB\r",
        "  Downloading basemap-1.0.7.tar.gz (129.7MB):  14%  19.2MB\r",
        "  Downloading basemap-1.0.7.tar.gz (129.7MB):  14%  19.2MB\r",
        "  Downloading basemap-1.0.7.tar.gz (129.7MB):  14%  19.2MB\r",
        "  Downloading basemap-1.0.7.tar.gz (129.7MB):  14%  19.2MB\r",
        "  Downloading basemap-1.0.7.tar.gz (129.7MB):  14%  19.2MB\r",
        "  Downloading basemap-1.0.7.tar.gz (129.7MB):  14%  19.2MB\r",
        "  Downloading basemap-1.0.7.tar.gz (129.7MB):  14%  19.2MB\r",
        "  Downloading basemap-1.0.7.tar.gz (129.7MB):  14%  19.2MB\r",
        "  Downloading basemap-1.0.7.tar.gz (129.7MB):  14%  19.2MB\r",
        "  Downloading basemap-1.0.7.tar.gz (129.7MB):  14%  19.2MB\r",
        "  Downloading basemap-1.0.7.tar.gz (129.7MB):  14%  19.2MB\r",
        "  Downloading basemap-1.0.7.tar.gz (129.7MB):  14%  19.2MB\r",
        "  Downloading basemap-1.0.7.tar.gz (129.7MB):  14%  19.2MB\r",
        "  Downloading basemap-1.0.7.tar.gz (129.7MB):  14%  19.2MB\r",
        "  Downloading basemap-1.0.7.tar.gz (129.7MB):  14%  19.2MB"
       ]
      },
      {
       "output_type": "stream",
       "stream": "stdout",
       "text": [
        "\r",
        "  Downloading basemap-1.0.7.tar.gz (129.7MB):  14%  19.2MB\r",
        "  Downloading basemap-1.0.7.tar.gz (129.7MB):  14%  19.2MB\r",
        "  Downloading basemap-1.0.7.tar.gz (129.7MB):  14%  19.2MB\r",
        "  Downloading basemap-1.0.7.tar.gz (129.7MB):  14%  19.2MB\r",
        "  Downloading basemap-1.0.7.tar.gz (129.7MB):  14%  19.2MB\r",
        "  Downloading basemap-1.0.7.tar.gz (129.7MB):  14%  19.2MB\r",
        "  Downloading basemap-1.0.7.tar.gz (129.7MB):  14%  19.2MB\r",
        "  Downloading basemap-1.0.7.tar.gz (129.7MB):  14%  19.2MB"
       ]
      },
      {
       "output_type": "stream",
       "stream": "stdout",
       "text": [
        "\r",
        "  Downloading basemap-1.0.7.tar.gz (129.7MB):  14%  19.2MB\r",
        "  Downloading basemap-1.0.7.tar.gz (129.7MB):  14%  19.3MB\r",
        "  Downloading basemap-1.0.7.tar.gz (129.7MB):  14%  19.3MB\r",
        "  Downloading basemap-1.0.7.tar.gz (129.7MB):  14%  19.3MB\r",
        "  Downloading basemap-1.0.7.tar.gz (129.7MB):  14%  19.3MB\r",
        "  Downloading basemap-1.0.7.tar.gz (129.7MB):  14%  19.3MB\r",
        "  Downloading basemap-1.0.7.tar.gz (129.7MB):  14%  19.3MB\r",
        "  Downloading basemap-1.0.7.tar.gz (129.7MB):  14%  19.3MB\r",
        "  Downloading basemap-1.0.7.tar.gz (129.7MB):  14%  19.3MB\r",
        "  Downloading basemap-1.0.7.tar.gz (129.7MB):  14%  19.3MB\r",
        "  Downloading basemap-1.0.7.tar.gz (129.7MB):  14%  19.3MB\r",
        "  Downloading basemap-1.0.7.tar.gz (129.7MB):  14%  19.3MB\r",
        "  Downloading basemap-1.0.7.tar.gz (129.7MB):  14%  19.3MB\r",
        "  Downloading basemap-1.0.7.tar.gz (129.7MB):  14%  19.3MB\r",
        "  Downloading basemap-1.0.7.tar.gz (129.7MB):  14%  19.3MB\r",
        "  Downloading basemap-1.0.7.tar.gz (129.7MB):  14%  19.3MB\r",
        "  Downloading basemap-1.0.7.tar.gz (129.7MB):  14%  19.3MB\r",
        "  Downloading basemap-1.0.7.tar.gz (129.7MB):  14%  19.3MB"
       ]
      },
      {
       "output_type": "stream",
       "stream": "stdout",
       "text": [
        "\r",
        "  Downloading basemap-1.0.7.tar.gz (129.7MB):  14%  19.3MB\r",
        "  Downloading basemap-1.0.7.tar.gz (129.7MB):  14%  19.3MB\r",
        "  Downloading basemap-1.0.7.tar.gz (129.7MB):  14%  19.3MB\r",
        "  Downloading basemap-1.0.7.tar.gz (129.7MB):  14%  19.3MB\r",
        "  Downloading basemap-1.0.7.tar.gz (129.7MB):  14%  19.3MB\r",
        "  Downloading basemap-1.0.7.tar.gz (129.7MB):  14%  19.3MB\r",
        "  Downloading basemap-1.0.7.tar.gz (129.7MB):  14%  19.3MB\r",
        "  Downloading basemap-1.0.7.tar.gz (129.7MB):  14%  19.3MB\r",
        "  Downloading basemap-1.0.7.tar.gz (129.7MB):  14%  19.4MB\r",
        "  Downloading basemap-1.0.7.tar.gz (129.7MB):  14%  19.4MB\r",
        "  Downloading basemap-1.0.7.tar.gz (129.7MB):  14%  19.4MB\r",
        "  Downloading basemap-1.0.7.tar.gz (129.7MB):  14%  19.4MB\r",
        "  Downloading basemap-1.0.7.tar.gz (129.7MB):  14%  19.4MB\r",
        "  Downloading basemap-1.0.7.tar.gz (129.7MB):  14%  19.4MB\r",
        "  Downloading basemap-1.0.7.tar.gz (129.7MB):  14%  19.4MB\r",
        "  Downloading basemap-1.0.7.tar.gz (129.7MB):  14%  19.4MB\r",
        "  Downloading basemap-1.0.7.tar.gz (129.7MB):  14%  19.4MB"
       ]
      },
      {
       "output_type": "stream",
       "stream": "stdout",
       "text": [
        "\r",
        "  Downloading basemap-1.0.7.tar.gz (129.7MB):  14%  19.4MB\r",
        "  Downloading basemap-1.0.7.tar.gz (129.7MB):  14%  19.4MB\r",
        "  Downloading basemap-1.0.7.tar.gz (129.7MB):  14%  19.4MB\r",
        "  Downloading basemap-1.0.7.tar.gz (129.7MB):  14%  19.4MB\r",
        "  Downloading basemap-1.0.7.tar.gz (129.7MB):  14%  19.4MB\r",
        "  Downloading basemap-1.0.7.tar.gz (129.7MB):  14%  19.4MB\r",
        "  Downloading basemap-1.0.7.tar.gz (129.7MB):  14%  19.4MB\r",
        "  Downloading basemap-1.0.7.tar.gz (129.7MB):  14%  19.4MB\r",
        "  Downloading basemap-1.0.7.tar.gz (129.7MB):  14%  19.4MB"
       ]
      },
      {
       "output_type": "stream",
       "stream": "stdout",
       "text": [
        "\r",
        "  Downloading basemap-1.0.7.tar.gz (129.7MB):  14%  19.4MB\r",
        "  Downloading basemap-1.0.7.tar.gz (129.7MB):  14%  19.4MB\r",
        "  Downloading basemap-1.0.7.tar.gz (129.7MB):  14%  19.4MB\r",
        "  Downloading basemap-1.0.7.tar.gz (129.7MB):  14%  19.4MB\r",
        "  Downloading basemap-1.0.7.tar.gz (129.7MB):  14%  19.4MB\r",
        "  Downloading basemap-1.0.7.tar.gz (129.7MB):  14%  19.4MB\r",
        "  Downloading basemap-1.0.7.tar.gz (129.7MB):  14%  19.5MB\r",
        "  Downloading basemap-1.0.7.tar.gz (129.7MB):  15%  19.5MB\r",
        "  Downloading basemap-1.0.7.tar.gz (129.7MB):  15%  19.5MB\r",
        "  Downloading basemap-1.0.7.tar.gz (129.7MB):  15%  19.5MB\r",
        "  Downloading basemap-1.0.7.tar.gz (129.7MB):  15%  19.5MB\r",
        "  Downloading basemap-1.0.7.tar.gz (129.7MB):  15%  19.5MB\r",
        "  Downloading basemap-1.0.7.tar.gz (129.7MB):  15%  19.5MB\r",
        "  Downloading basemap-1.0.7.tar.gz (129.7MB):  15%  19.5MB\r",
        "  Downloading basemap-1.0.7.tar.gz (129.7MB):  15%  19.5MB\r",
        "  Downloading basemap-1.0.7.tar.gz (129.7MB):  15%  19.5MB\r",
        "  Downloading basemap-1.0.7.tar.gz (129.7MB):  15%  19.5MB\r",
        "  Downloading basemap-1.0.7.tar.gz (129.7MB):  15%  19.5MB\r",
        "  Downloading basemap-1.0.7.tar.gz (129.7MB):  15%  19.5MB\r",
        "  Downloading basemap-1.0.7.tar.gz (129.7MB):  15%  19.5MB\r",
        "  Downloading basemap-1.0.7.tar.gz (129.7MB):  15%  19.5MB\r",
        "  Downloading basemap-1.0.7.tar.gz (129.7MB):  15%  19.5MB\r",
        "  Downloading basemap-1.0.7.tar.gz (129.7MB):  15%  19.5MB\r",
        "  Downloading basemap-1.0.7.tar.gz (129.7MB):  15%  19.5MB"
       ]
      },
      {
       "output_type": "stream",
       "stream": "stdout",
       "text": [
        "\r",
        "  Downloading basemap-1.0.7.tar.gz (129.7MB):  15%  19.5MB\r",
        "  Downloading basemap-1.0.7.tar.gz (129.7MB):  15%  19.5MB\r",
        "  Downloading basemap-1.0.7.tar.gz (129.7MB):  15%  19.5MB\r",
        "  Downloading basemap-1.0.7.tar.gz (129.7MB):  15%  19.5MB\r",
        "  Downloading basemap-1.0.7.tar.gz (129.7MB):  15%  19.5MB\r",
        "  Downloading basemap-1.0.7.tar.gz (129.7MB):  15%  19.5MB\r",
        "  Downloading basemap-1.0.7.tar.gz (129.7MB):  15%  19.6MB\r",
        "  Downloading basemap-1.0.7.tar.gz (129.7MB):  15%  19.6MB"
       ]
      },
      {
       "output_type": "stream",
       "stream": "stdout",
       "text": [
        "\r",
        "  Downloading basemap-1.0.7.tar.gz (129.7MB):  15%  19.6MB\r",
        "  Downloading basemap-1.0.7.tar.gz (129.7MB):  15%  19.6MB\r",
        "  Downloading basemap-1.0.7.tar.gz (129.7MB):  15%  19.6MB\r",
        "  Downloading basemap-1.0.7.tar.gz (129.7MB):  15%  19.6MB\r",
        "  Downloading basemap-1.0.7.tar.gz (129.7MB):  15%  19.6MB\r",
        "  Downloading basemap-1.0.7.tar.gz (129.7MB):  15%  19.6MB\r",
        "  Downloading basemap-1.0.7.tar.gz (129.7MB):  15%  19.6MB\r",
        "  Downloading basemap-1.0.7.tar.gz (129.7MB):  15%  19.6MB\r",
        "  Downloading basemap-1.0.7.tar.gz (129.7MB):  15%  19.6MB\r",
        "  Downloading basemap-1.0.7.tar.gz (129.7MB):  15%  19.6MB\r",
        "  Downloading basemap-1.0.7.tar.gz (129.7MB):  15%  19.6MB\r",
        "  Downloading basemap-1.0.7.tar.gz (129.7MB):  15%  19.6MB\r",
        "  Downloading basemap-1.0.7.tar.gz (129.7MB):  15%  19.6MB\r",
        "  Downloading basemap-1.0.7.tar.gz (129.7MB):  15%  19.6MB\r",
        "  Downloading basemap-1.0.7.tar.gz (129.7MB):  15%  19.6MB\r",
        "  Downloading basemap-1.0.7.tar.gz (129.7MB):  15%  19.6MB\r",
        "  Downloading basemap-1.0.7.tar.gz (129.7MB):  15%  19.6MB\r",
        "  Downloading basemap-1.0.7.tar.gz (129.7MB):  15%  19.6MB\r",
        "  Downloading basemap-1.0.7.tar.gz (129.7MB):  15%  19.6MB\r",
        "  Downloading basemap-1.0.7.tar.gz (129.7MB):  15%  19.6MB\r",
        "  Downloading basemap-1.0.7.tar.gz (129.7MB):  15%  19.6MB\r",
        "  Downloading basemap-1.0.7.tar.gz (129.7MB):  15%  19.6MB\r",
        "  Downloading basemap-1.0.7.tar.gz (129.7MB):  15%  19.6MB"
       ]
      },
      {
       "output_type": "stream",
       "stream": "stdout",
       "text": [
        "\r",
        "  Downloading basemap-1.0.7.tar.gz (129.7MB):  15%  19.7MB\r",
        "  Downloading basemap-1.0.7.tar.gz (129.7MB):  15%  19.7MB\r",
        "  Downloading basemap-1.0.7.tar.gz (129.7MB):  15%  19.7MB\r",
        "  Downloading basemap-1.0.7.tar.gz (129.7MB):  15%  19.7MB\r",
        "  Downloading basemap-1.0.7.tar.gz (129.7MB):  15%  19.7MB\r",
        "  Downloading basemap-1.0.7.tar.gz (129.7MB):  15%  19.7MB\r",
        "  Downloading basemap-1.0.7.tar.gz (129.7MB):  15%  19.7MB\r",
        "  Downloading basemap-1.0.7.tar.gz (129.7MB):  15%  19.7MB\r",
        "  Downloading basemap-1.0.7.tar.gz (129.7MB):  15%  19.7MB\r",
        "  Downloading basemap-1.0.7.tar.gz (129.7MB):  15%  19.7MB"
       ]
      },
      {
       "output_type": "stream",
       "stream": "stdout",
       "text": [
        "\r",
        "  Downloading basemap-1.0.7.tar.gz (129.7MB):  15%  19.7MB\r",
        "  Downloading basemap-1.0.7.tar.gz (129.7MB):  15%  19.7MB\r",
        "  Downloading basemap-1.0.7.tar.gz (129.7MB):  15%  19.7MB\r",
        "  Downloading basemap-1.0.7.tar.gz (129.7MB):  15%  19.7MB\r",
        "  Downloading basemap-1.0.7.tar.gz (129.7MB):  15%  19.7MB\r",
        "  Downloading basemap-1.0.7.tar.gz (129.7MB):  15%  19.7MB\r",
        "  Downloading basemap-1.0.7.tar.gz (129.7MB):  15%  19.7MB\r",
        "  Downloading basemap-1.0.7.tar.gz (129.7MB):  15%  19.7MB\r",
        "  Downloading basemap-1.0.7.tar.gz (129.7MB):  15%  19.7MB\r",
        "  Downloading basemap-1.0.7.tar.gz (129.7MB):  15%  19.7MB\r",
        "  Downloading basemap-1.0.7.tar.gz (129.7MB):  15%  19.7MB\r",
        "  Downloading basemap-1.0.7.tar.gz (129.7MB):  15%  19.7MB\r",
        "  Downloading basemap-1.0.7.tar.gz (129.7MB):  15%  19.7MB\r",
        "  Downloading basemap-1.0.7.tar.gz (129.7MB):  15%  19.7MB\r",
        "  Downloading basemap-1.0.7.tar.gz (129.7MB):  15%  19.8MB\r",
        "  Downloading basemap-1.0.7.tar.gz (129.7MB):  15%  19.8MB\r",
        "  Downloading basemap-1.0.7.tar.gz (129.7MB):  15%  19.8MB"
       ]
      },
      {
       "output_type": "stream",
       "stream": "stdout",
       "text": [
        "\r",
        "  Downloading basemap-1.0.7.tar.gz (129.7MB):  15%  19.8MB\r",
        "  Downloading basemap-1.0.7.tar.gz (129.7MB):  15%  19.8MB\r",
        "  Downloading basemap-1.0.7.tar.gz (129.7MB):  15%  19.8MB\r",
        "  Downloading basemap-1.0.7.tar.gz (129.7MB):  15%  19.8MB\r",
        "  Downloading basemap-1.0.7.tar.gz (129.7MB):  15%  19.8MB\r",
        "  Downloading basemap-1.0.7.tar.gz (129.7MB):  15%  19.8MB\r",
        "  Downloading basemap-1.0.7.tar.gz (129.7MB):  15%  19.8MB\r",
        "  Downloading basemap-1.0.7.tar.gz (129.7MB):  15%  19.8MB\r",
        "  Downloading basemap-1.0.7.tar.gz (129.7MB):  15%  19.8MB\r",
        "  Downloading basemap-1.0.7.tar.gz (129.7MB):  15%  19.8MB\r",
        "  Downloading basemap-1.0.7.tar.gz (129.7MB):  15%  19.8MB"
       ]
      },
      {
       "output_type": "stream",
       "stream": "stdout",
       "text": [
        "\r",
        "  Downloading basemap-1.0.7.tar.gz (129.7MB):  15%  19.8MB\r",
        "  Downloading basemap-1.0.7.tar.gz (129.7MB):  15%  19.8MB\r",
        "  Downloading basemap-1.0.7.tar.gz (129.7MB):  15%  19.8MB\r",
        "  Downloading basemap-1.0.7.tar.gz (129.7MB):  15%  19.8MB\r",
        "  Downloading basemap-1.0.7.tar.gz (129.7MB):  15%  19.8MB\r",
        "  Downloading basemap-1.0.7.tar.gz (129.7MB):  15%  19.8MB\r",
        "  Downloading basemap-1.0.7.tar.gz (129.7MB):  15%  19.8MB\r",
        "  Downloading basemap-1.0.7.tar.gz (129.7MB):  15%  19.8MB\r",
        "  Downloading basemap-1.0.7.tar.gz (129.7MB):  15%  19.8MB\r",
        "  Downloading basemap-1.0.7.tar.gz (129.7MB):  15%  19.8MB\r",
        "  Downloading basemap-1.0.7.tar.gz (129.7MB):  15%  19.8MB\r",
        "  Downloading basemap-1.0.7.tar.gz (129.7MB):  15%  19.9MB\r",
        "  Downloading basemap-1.0.7.tar.gz (129.7MB):  15%  19.9MB\r",
        "  Downloading basemap-1.0.7.tar.gz (129.7MB):  15%  19.9MB\r",
        "  Downloading basemap-1.0.7.tar.gz (129.7MB):  15%  19.9MB\r",
        "  Downloading basemap-1.0.7.tar.gz (129.7MB):  15%  19.9MB\r",
        "  Downloading basemap-1.0.7.tar.gz (129.7MB):  15%  19.9MB"
       ]
      },
      {
       "output_type": "stream",
       "stream": "stdout",
       "text": [
        "\r",
        "  Downloading basemap-1.0.7.tar.gz (129.7MB):  15%  19.9MB\r",
        "  Downloading basemap-1.0.7.tar.gz (129.7MB):  15%  19.9MB\r",
        "  Downloading basemap-1.0.7.tar.gz (129.7MB):  15%  19.9MB\r",
        "  Downloading basemap-1.0.7.tar.gz (129.7MB):  15%  19.9MB\r",
        "  Downloading basemap-1.0.7.tar.gz (129.7MB):  15%  19.9MB\r",
        "  Downloading basemap-1.0.7.tar.gz (129.7MB):  15%  19.9MB\r",
        "  Downloading basemap-1.0.7.tar.gz (129.7MB):  15%  19.9MB\r",
        "  Downloading basemap-1.0.7.tar.gz (129.7MB):  15%  19.9MB\r",
        "  Downloading basemap-1.0.7.tar.gz (129.7MB):  15%  19.9MB\r",
        "  Downloading basemap-1.0.7.tar.gz (129.7MB):  15%  19.9MB\r",
        "  Downloading basemap-1.0.7.tar.gz (129.7MB):  15%  19.9MB\r",
        "  Downloading basemap-1.0.7.tar.gz (129.7MB):  15%  19.9MB\r",
        "  Downloading basemap-1.0.7.tar.gz (129.7MB):  15%  19.9MB\r",
        "  Downloading basemap-1.0.7.tar.gz (129.7MB):  15%  19.9MB\r",
        "  Downloading basemap-1.0.7.tar.gz (129.7MB):  15%  19.9MB\r",
        "  Downloading basemap-1.0.7.tar.gz (129.7MB):  15%  19.9MB\r",
        "  Downloading basemap-1.0.7.tar.gz (129.7MB):  15%  19.9MB\r",
        "  Downloading basemap-1.0.7.tar.gz (129.7MB):  15%  19.9MB"
       ]
      },
      {
       "output_type": "stream",
       "stream": "stdout",
       "text": [
        "\r",
        "  Downloading basemap-1.0.7.tar.gz (129.7MB):  15%  20.0MB\r",
        "  Downloading basemap-1.0.7.tar.gz (129.7MB):  15%  20.0MB\r",
        "  Downloading basemap-1.0.7.tar.gz (129.7MB):  15%  20.0MB\r",
        "  Downloading basemap-1.0.7.tar.gz (129.7MB):  15%  20.0MB\r",
        "  Downloading basemap-1.0.7.tar.gz (129.7MB):  15%  20.0MB\r",
        "  Downloading basemap-1.0.7.tar.gz (129.7MB):  15%  20.0MB\r",
        "  Downloading basemap-1.0.7.tar.gz (129.7MB):  15%  20.0MB\r",
        "  Downloading basemap-1.0.7.tar.gz (129.7MB):  15%  20.0MB\r",
        "  Downloading basemap-1.0.7.tar.gz (129.7MB):  15%  20.0MB\r",
        "  Downloading basemap-1.0.7.tar.gz (129.7MB):  15%  20.0MB\r",
        "  Downloading basemap-1.0.7.tar.gz (129.7MB):  15%  20.0MB\r",
        "  Downloading basemap-1.0.7.tar.gz (129.7MB):  15%  20.0MB\r",
        "  Downloading basemap-1.0.7.tar.gz (129.7MB):  15%  20.0MB"
       ]
      },
      {
       "output_type": "stream",
       "stream": "stdout",
       "text": [
        "\r",
        "  Downloading basemap-1.0.7.tar.gz (129.7MB):  15%  20.0MB\r",
        "  Downloading basemap-1.0.7.tar.gz (129.7MB):  15%  20.0MB\r",
        "  Downloading basemap-1.0.7.tar.gz (129.7MB):  15%  20.0MB\r",
        "  Downloading basemap-1.0.7.tar.gz (129.7MB):  15%  20.0MB\r",
        "  Downloading basemap-1.0.7.tar.gz (129.7MB):  15%  20.0MB\r",
        "  Downloading basemap-1.0.7.tar.gz (129.7MB):  15%  20.0MB\r",
        "  Downloading basemap-1.0.7.tar.gz (129.7MB):  15%  20.0MB\r",
        "  Downloading basemap-1.0.7.tar.gz (129.7MB):  15%  20.0MB\r",
        "  Downloading basemap-1.0.7.tar.gz (129.7MB):  15%  20.0MB\r",
        "  Downloading basemap-1.0.7.tar.gz (129.7MB):  15%  20.0MB\r",
        "  Downloading basemap-1.0.7.tar.gz (129.7MB):  15%  20.0MB\r",
        "  Downloading basemap-1.0.7.tar.gz (129.7MB):  15%  20.0MB\r",
        "  Downloading basemap-1.0.7.tar.gz (129.7MB):  15%  20.1MB\r",
        "  Downloading basemap-1.0.7.tar.gz (129.7MB):  15%  20.1MB\r",
        "  Downloading basemap-1.0.7.tar.gz (129.7MB):  15%  20.1MB\r",
        "  Downloading basemap-1.0.7.tar.gz (129.7MB):  15%  20.1MB"
       ]
      },
      {
       "output_type": "stream",
       "stream": "stdout",
       "text": [
        "\r",
        "  Downloading basemap-1.0.7.tar.gz (129.7MB):  15%  20.1MB\r",
        "  Downloading basemap-1.0.7.tar.gz (129.7MB):  15%  20.1MB\r",
        "  Downloading basemap-1.0.7.tar.gz (129.7MB):  15%  20.1MB\r",
        "  Downloading basemap-1.0.7.tar.gz (129.7MB):  15%  20.1MB\r",
        "  Downloading basemap-1.0.7.tar.gz (129.7MB):  15%  20.1MB\r",
        "  Downloading basemap-1.0.7.tar.gz (129.7MB):  15%  20.1MB\r",
        "  Downloading basemap-1.0.7.tar.gz (129.7MB):  15%  20.1MB\r",
        "  Downloading basemap-1.0.7.tar.gz (129.7MB):  15%  20.1MB\r",
        "  Downloading basemap-1.0.7.tar.gz (129.7MB):  15%  20.1MB\r",
        "  Downloading basemap-1.0.7.tar.gz (129.7MB):  15%  20.1MB\r",
        "  Downloading basemap-1.0.7.tar.gz (129.7MB):  15%  20.1MB\r",
        "  Downloading basemap-1.0.7.tar.gz (129.7MB):  15%  20.1MB\r",
        "  Downloading basemap-1.0.7.tar.gz (129.7MB):  15%  20.1MB\r",
        "  Downloading basemap-1.0.7.tar.gz (129.7MB):  15%  20.1MB\r",
        "  Downloading basemap-1.0.7.tar.gz (129.7MB):  15%  20.1MB\r",
        "  Downloading basemap-1.0.7.tar.gz (129.7MB):  15%  20.1MB\r",
        "  Downloading basemap-1.0.7.tar.gz (129.7MB):  15%  20.1MB\r",
        "  Downloading basemap-1.0.7.tar.gz (129.7MB):  15%  20.1MB"
       ]
      },
      {
       "output_type": "stream",
       "stream": "stdout",
       "text": [
        "\r",
        "  Downloading basemap-1.0.7.tar.gz (129.7MB):  15%  20.1MB\r",
        "  Downloading basemap-1.0.7.tar.gz (129.7MB):  15%  20.1MB\r",
        "  Downloading basemap-1.0.7.tar.gz (129.7MB):  15%  20.2MB\r",
        "  Downloading basemap-1.0.7.tar.gz (129.7MB):  15%  20.2MB\r",
        "  Downloading basemap-1.0.7.tar.gz (129.7MB):  15%  20.2MB\r",
        "  Downloading basemap-1.0.7.tar.gz (129.7MB):  15%  20.2MB\r",
        "  Downloading basemap-1.0.7.tar.gz (129.7MB):  15%  20.2MB\r",
        "  Downloading basemap-1.0.7.tar.gz (129.7MB):  15%  20.2MB\r",
        "  Downloading basemap-1.0.7.tar.gz (129.7MB):  15%  20.2MB\r",
        "  Downloading basemap-1.0.7.tar.gz (129.7MB):  15%  20.2MB\r",
        "  Downloading basemap-1.0.7.tar.gz (129.7MB):  15%  20.2MB\r",
        "  Downloading basemap-1.0.7.tar.gz (129.7MB):  15%  20.2MB\r",
        "  Downloading basemap-1.0.7.tar.gz (129.7MB):  15%  20.2MB\r",
        "  Downloading basemap-1.0.7.tar.gz (129.7MB):  15%  20.2MB\r",
        "  Downloading basemap-1.0.7.tar.gz (129.7MB):  15%  20.2MB\r",
        "  Downloading basemap-1.0.7.tar.gz (129.7MB):  15%  20.2MB\r",
        "  Downloading basemap-1.0.7.tar.gz (129.7MB):  15%  20.2MB"
       ]
      },
      {
       "output_type": "stream",
       "stream": "stdout",
       "text": [
        "\r",
        "  Downloading basemap-1.0.7.tar.gz (129.7MB):  15%  20.2MB\r",
        "  Downloading basemap-1.0.7.tar.gz (129.7MB):  15%  20.2MB\r",
        "  Downloading basemap-1.0.7.tar.gz (129.7MB):  15%  20.2MB\r",
        "  Downloading basemap-1.0.7.tar.gz (129.7MB):  15%  20.2MB\r",
        "  Downloading basemap-1.0.7.tar.gz (129.7MB):  15%  20.2MB\r",
        "  Downloading basemap-1.0.7.tar.gz (129.7MB):  15%  20.2MB\r",
        "  Downloading basemap-1.0.7.tar.gz (129.7MB):  15%  20.2MB\r",
        "  Downloading basemap-1.0.7.tar.gz (129.7MB):  15%  20.2MB\r",
        "  Downloading basemap-1.0.7.tar.gz (129.7MB):  15%  20.2MB\r",
        "  Downloading basemap-1.0.7.tar.gz (129.7MB):  15%  20.3MB\r",
        "  Downloading basemap-1.0.7.tar.gz (129.7MB):  15%  20.3MB\r",
        "  Downloading basemap-1.0.7.tar.gz (129.7MB):  15%  20.3MB"
       ]
      },
      {
       "output_type": "stream",
       "stream": "stdout",
       "text": [
        "\r",
        "  Downloading basemap-1.0.7.tar.gz (129.7MB):  15%  20.3MB\r",
        "  Downloading basemap-1.0.7.tar.gz (129.7MB):  15%  20.3MB\r",
        "  Downloading basemap-1.0.7.tar.gz (129.7MB):  15%  20.3MB\r",
        "  Downloading basemap-1.0.7.tar.gz (129.7MB):  15%  20.3MB\r",
        "  Downloading basemap-1.0.7.tar.gz (129.7MB):  15%  20.3MB\r",
        "  Downloading basemap-1.0.7.tar.gz (129.7MB):  15%  20.3MB\r",
        "  Downloading basemap-1.0.7.tar.gz (129.7MB):  15%  20.3MB\r",
        "  Downloading basemap-1.0.7.tar.gz (129.7MB):  15%  20.3MB\r",
        "  Downloading basemap-1.0.7.tar.gz (129.7MB):  15%  20.3MB\r",
        "  Downloading basemap-1.0.7.tar.gz (129.7MB):  15%  20.3MB\r",
        "  Downloading basemap-1.0.7.tar.gz (129.7MB):  15%  20.3MB\r",
        "  Downloading basemap-1.0.7.tar.gz (129.7MB):  15%  20.3MB\r",
        "  Downloading basemap-1.0.7.tar.gz (129.7MB):  15%  20.3MB\r",
        "  Downloading basemap-1.0.7.tar.gz (129.7MB):  15%  20.3MB\r",
        "  Downloading basemap-1.0.7.tar.gz (129.7MB):  15%  20.3MB"
       ]
      },
      {
       "output_type": "stream",
       "stream": "stdout",
       "text": [
        "\r",
        "  Downloading basemap-1.0.7.tar.gz (129.7MB):  15%  20.3MB\r",
        "  Downloading basemap-1.0.7.tar.gz (129.7MB):  15%  20.3MB\r",
        "  Downloading basemap-1.0.7.tar.gz (129.7MB):  15%  20.3MB\r",
        "  Downloading basemap-1.0.7.tar.gz (129.7MB):  15%  20.3MB\r",
        "  Downloading basemap-1.0.7.tar.gz (129.7MB):  15%  20.3MB\r",
        "  Downloading basemap-1.0.7.tar.gz (129.7MB):  15%  20.3MB\r",
        "  Downloading basemap-1.0.7.tar.gz (129.7MB):  15%  20.3MB\r",
        "  Downloading basemap-1.0.7.tar.gz (129.7MB):  15%  20.4MB\r",
        "  Downloading basemap-1.0.7.tar.gz (129.7MB):  15%  20.4MB\r",
        "  Downloading basemap-1.0.7.tar.gz (129.7MB):  15%  20.4MB\r",
        "  Downloading basemap-1.0.7.tar.gz (129.7MB):  15%  20.4MB\r",
        "  Downloading basemap-1.0.7.tar.gz (129.7MB):  15%  20.4MB\r",
        "  Downloading basemap-1.0.7.tar.gz (129.7MB):  15%  20.4MB\r",
        "  Downloading basemap-1.0.7.tar.gz (129.7MB):  15%  20.4MB\r",
        "  Downloading basemap-1.0.7.tar.gz (129.7MB):  15%  20.4MB\r",
        "  Downloading basemap-1.0.7.tar.gz (129.7MB):  15%  20.4MB\r",
        "  Downloading basemap-1.0.7.tar.gz (129.7MB):  15%  20.4MB\r",
        "  Downloading basemap-1.0.7.tar.gz (129.7MB):  15%  20.4MB\r",
        "  Downloading basemap-1.0.7.tar.gz (129.7MB):  15%  20.4MB\r",
        "  Downloading basemap-1.0.7.tar.gz (129.7MB):  15%  20.4MB"
       ]
      },
      {
       "output_type": "stream",
       "stream": "stdout",
       "text": [
        "\r",
        "  Downloading basemap-1.0.7.tar.gz (129.7MB):  15%  20.4MB\r",
        "  Downloading basemap-1.0.7.tar.gz (129.7MB):  15%  20.4MB\r",
        "  Downloading basemap-1.0.7.tar.gz (129.7MB):  15%  20.4MB\r",
        "  Downloading basemap-1.0.7.tar.gz (129.7MB):  15%  20.4MB\r",
        "  Downloading basemap-1.0.7.tar.gz (129.7MB):  15%  20.4MB\r",
        "  Downloading basemap-1.0.7.tar.gz (129.7MB):  15%  20.4MB\r",
        "  Downloading basemap-1.0.7.tar.gz (129.7MB):  15%  20.4MB\r",
        "  Downloading basemap-1.0.7.tar.gz (129.7MB):  15%  20.4MB\r",
        "  Downloading basemap-1.0.7.tar.gz (129.7MB):  15%  20.4MB\r",
        "  Downloading basemap-1.0.7.tar.gz (129.7MB):  15%  20.4MB\r",
        "  Downloading basemap-1.0.7.tar.gz (129.7MB):  15%  20.4MB\r",
        "  Downloading basemap-1.0.7.tar.gz (129.7MB):  15%  20.5MB\r",
        "  Downloading basemap-1.0.7.tar.gz (129.7MB):  15%  20.5MB\r",
        "  Downloading basemap-1.0.7.tar.gz (129.7MB):  15%  20.5MB"
       ]
      },
      {
       "output_type": "stream",
       "stream": "stdout",
       "text": [
        "\r",
        "  Downloading basemap-1.0.7.tar.gz (129.7MB):  15%  20.5MB\r",
        "  Downloading basemap-1.0.7.tar.gz (129.7MB):  15%  20.5MB\r",
        "  Downloading basemap-1.0.7.tar.gz (129.7MB):  15%  20.5MB\r",
        "  Downloading basemap-1.0.7.tar.gz (129.7MB):  15%  20.5MB\r",
        "  Downloading basemap-1.0.7.tar.gz (129.7MB):  15%  20.5MB\r",
        "  Downloading basemap-1.0.7.tar.gz (129.7MB):  15%  20.5MB\r",
        "  Downloading basemap-1.0.7.tar.gz (129.7MB):  15%  20.5MB\r",
        "  Downloading basemap-1.0.7.tar.gz (129.7MB):  15%  20.5MB\r",
        "  Downloading basemap-1.0.7.tar.gz (129.7MB):  15%  20.5MB\r",
        "  Downloading basemap-1.0.7.tar.gz (129.7MB):  15%  20.5MB\r",
        "  Downloading basemap-1.0.7.tar.gz (129.7MB):  15%  20.5MB\r",
        "  Downloading basemap-1.0.7.tar.gz (129.7MB):  15%  20.5MB\r",
        "  Downloading basemap-1.0.7.tar.gz (129.7MB):  15%  20.5MB\r",
        "  Downloading basemap-1.0.7.tar.gz (129.7MB):  15%  20.5MB\r",
        "  Downloading basemap-1.0.7.tar.gz (129.7MB):  15%  20.5MB\r",
        "  Downloading basemap-1.0.7.tar.gz (129.7MB):  15%  20.5MB"
       ]
      },
      {
       "output_type": "stream",
       "stream": "stdout",
       "text": [
        "\r",
        "  Downloading basemap-1.0.7.tar.gz (129.7MB):  15%  20.5MB\r",
        "  Downloading basemap-1.0.7.tar.gz (129.7MB):  15%  20.5MB\r",
        "  Downloading basemap-1.0.7.tar.gz (129.7MB):  15%  20.5MB\r",
        "  Downloading basemap-1.0.7.tar.gz (129.7MB):  15%  20.5MB\r",
        "  Downloading basemap-1.0.7.tar.gz (129.7MB):  15%  20.5MB\r",
        "  Downloading basemap-1.0.7.tar.gz (129.7MB):  15%  20.5MB\r",
        "  Downloading basemap-1.0.7.tar.gz (129.7MB):  15%  20.6MB\r",
        "  Downloading basemap-1.0.7.tar.gz (129.7MB):  15%  20.6MB\r",
        "  Downloading basemap-1.0.7.tar.gz (129.7MB):  15%  20.6MB\r",
        "  Downloading basemap-1.0.7.tar.gz (129.7MB):  15%  20.6MB\r",
        "  Downloading basemap-1.0.7.tar.gz (129.7MB):  15%  20.6MB\r",
        "  Downloading basemap-1.0.7.tar.gz (129.7MB):  15%  20.6MB\r",
        "  Downloading basemap-1.0.7.tar.gz (129.7MB):  15%  20.6MB\r",
        "  Downloading basemap-1.0.7.tar.gz (129.7MB):  15%  20.6MB"
       ]
      },
      {
       "output_type": "stream",
       "stream": "stdout",
       "text": [
        "\r",
        "  Downloading basemap-1.0.7.tar.gz (129.7MB):  15%  20.6MB\r",
        "  Downloading basemap-1.0.7.tar.gz (129.7MB):  15%  20.6MB\r",
        "  Downloading basemap-1.0.7.tar.gz (129.7MB):  15%  20.6MB\r",
        "  Downloading basemap-1.0.7.tar.gz (129.7MB):  15%  20.6MB\r",
        "  Downloading basemap-1.0.7.tar.gz (129.7MB):  15%  20.6MB\r",
        "  Downloading basemap-1.0.7.tar.gz (129.7MB):  15%  20.6MB\r",
        "  Downloading basemap-1.0.7.tar.gz (129.7MB):  15%  20.6MB\r",
        "  Downloading basemap-1.0.7.tar.gz (129.7MB):  15%  20.6MB\r",
        "  Downloading basemap-1.0.7.tar.gz (129.7MB):  15%  20.6MB\r",
        "  Downloading basemap-1.0.7.tar.gz (129.7MB):  15%  20.6MB\r",
        "  Downloading basemap-1.0.7.tar.gz (129.7MB):  15%  20.6MB\r",
        "  Downloading basemap-1.0.7.tar.gz (129.7MB):  15%  20.6MB\r",
        "  Downloading basemap-1.0.7.tar.gz (129.7MB):  15%  20.6MB\r",
        "  Downloading basemap-1.0.7.tar.gz (129.7MB):  15%  20.6MB\r",
        "  Downloading basemap-1.0.7.tar.gz (129.7MB):  15%  20.6MB\r",
        "  Downloading basemap-1.0.7.tar.gz (129.7MB):  15%  20.6MB\r",
        "  Downloading basemap-1.0.7.tar.gz (129.7MB):  15%  20.7MB"
       ]
      },
      {
       "output_type": "stream",
       "stream": "stdout",
       "text": [
        "\r",
        "  Downloading basemap-1.0.7.tar.gz (129.7MB):  15%  20.7MB\r",
        "  Downloading basemap-1.0.7.tar.gz (129.7MB):  15%  20.7MB\r",
        "  Downloading basemap-1.0.7.tar.gz (129.7MB):  15%  20.7MB\r",
        "  Downloading basemap-1.0.7.tar.gz (129.7MB):  15%  20.7MB\r",
        "  Downloading basemap-1.0.7.tar.gz (129.7MB):  15%  20.7MB\r",
        "  Downloading basemap-1.0.7.tar.gz (129.7MB):  15%  20.7MB\r",
        "  Downloading basemap-1.0.7.tar.gz (129.7MB):  15%  20.7MB\r",
        "  Downloading basemap-1.0.7.tar.gz (129.7MB):  15%  20.7MB\r",
        "  Downloading basemap-1.0.7.tar.gz (129.7MB):  15%  20.7MB\r",
        "  Downloading basemap-1.0.7.tar.gz (129.7MB):  15%  20.7MB\r",
        "  Downloading basemap-1.0.7.tar.gz (129.7MB):  15%  20.7MB\r",
        "  Downloading basemap-1.0.7.tar.gz (129.7MB):  15%  20.7MB\r",
        "  Downloading basemap-1.0.7.tar.gz (129.7MB):  15%  20.7MB\r",
        "  Downloading basemap-1.0.7.tar.gz (129.7MB):  15%  20.7MB\r",
        "  Downloading basemap-1.0.7.tar.gz (129.7MB):  15%  20.7MB\r",
        "  Downloading basemap-1.0.7.tar.gz (129.7MB):  15%  20.7MB\r",
        "  Downloading basemap-1.0.7.tar.gz (129.7MB):  15%  20.7MB"
       ]
      },
      {
       "output_type": "stream",
       "stream": "stdout",
       "text": [
        "\r",
        "  Downloading basemap-1.0.7.tar.gz (129.7MB):  15%  20.7MB\r",
        "  Downloading basemap-1.0.7.tar.gz (129.7MB):  15%  20.7MB\r",
        "  Downloading basemap-1.0.7.tar.gz (129.7MB):  15%  20.7MB\r",
        "  Downloading basemap-1.0.7.tar.gz (129.7MB):  15%  20.7MB\r",
        "  Downloading basemap-1.0.7.tar.gz (129.7MB):  15%  20.7MB\r",
        "  Downloading basemap-1.0.7.tar.gz (129.7MB):  15%  20.7MB\r",
        "  Downloading basemap-1.0.7.tar.gz (129.7MB):  15%  20.8MB\r",
        "  Downloading basemap-1.0.7.tar.gz (129.7MB):  16%  20.8MB\r",
        "  Downloading basemap-1.0.7.tar.gz (129.7MB):  16%  20.8MB\r",
        "  Downloading basemap-1.0.7.tar.gz (129.7MB):  16%  20.8MB\r",
        "  Downloading basemap-1.0.7.tar.gz (129.7MB):  16%  20.8MB\r",
        "  Downloading basemap-1.0.7.tar.gz (129.7MB):  16%  20.8MB\r",
        "  Downloading basemap-1.0.7.tar.gz (129.7MB):  16%  20.8MB\r",
        "  Downloading basemap-1.0.7.tar.gz (129.7MB):  16%  20.8MB\r",
        "  Downloading basemap-1.0.7.tar.gz (129.7MB):  16%  20.8MB"
       ]
      },
      {
       "output_type": "stream",
       "stream": "stdout",
       "text": [
        "\r",
        "  Downloading basemap-1.0.7.tar.gz (129.7MB):  16%  20.8MB\r",
        "  Downloading basemap-1.0.7.tar.gz (129.7MB):  16%  20.8MB\r",
        "  Downloading basemap-1.0.7.tar.gz (129.7MB):  16%  20.8MB\r",
        "  Downloading basemap-1.0.7.tar.gz (129.7MB):  16%  20.8MB\r",
        "  Downloading basemap-1.0.7.tar.gz (129.7MB):  16%  20.8MB\r",
        "  Downloading basemap-1.0.7.tar.gz (129.7MB):  16%  20.8MB\r",
        "  Downloading basemap-1.0.7.tar.gz (129.7MB):  16%  20.8MB\r",
        "  Downloading basemap-1.0.7.tar.gz (129.7MB):  16%  20.8MB\r",
        "  Downloading basemap-1.0.7.tar.gz (129.7MB):  16%  20.8MB\r",
        "  Downloading basemap-1.0.7.tar.gz (129.7MB):  16%  20.8MB\r",
        "  Downloading basemap-1.0.7.tar.gz (129.7MB):  16%  20.8MB\r",
        "  Downloading basemap-1.0.7.tar.gz (129.7MB):  16%  20.8MB\r",
        "  Downloading basemap-1.0.7.tar.gz (129.7MB):  16%  20.8MB\r",
        "  Downloading basemap-1.0.7.tar.gz (129.7MB):  16%  20.8MB"
       ]
      },
      {
       "output_type": "stream",
       "stream": "stdout",
       "text": [
        "\r",
        "  Downloading basemap-1.0.7.tar.gz (129.7MB):  16%  20.8MB\r",
        "  Downloading basemap-1.0.7.tar.gz (129.7MB):  16%  20.8MB\r",
        "  Downloading basemap-1.0.7.tar.gz (129.7MB):  16%  20.9MB\r",
        "  Downloading basemap-1.0.7.tar.gz (129.7MB):  16%  20.9MB\r",
        "  Downloading basemap-1.0.7.tar.gz (129.7MB):  16%  20.9MB\r",
        "  Downloading basemap-1.0.7.tar.gz (129.7MB):  16%  20.9MB\r",
        "  Downloading basemap-1.0.7.tar.gz (129.7MB):  16%  20.9MB\r",
        "  Downloading basemap-1.0.7.tar.gz (129.7MB):  16%  20.9MB\r",
        "  Downloading basemap-1.0.7.tar.gz (129.7MB):  16%  20.9MB\r",
        "  Downloading basemap-1.0.7.tar.gz (129.7MB):  16%  20.9MB\r",
        "  Downloading basemap-1.0.7.tar.gz (129.7MB):  16%  20.9MB\r",
        "  Downloading basemap-1.0.7.tar.gz (129.7MB):  16%  20.9MB\r",
        "  Downloading basemap-1.0.7.tar.gz (129.7MB):  16%  20.9MB\r",
        "  Downloading basemap-1.0.7.tar.gz (129.7MB):  16%  20.9MB\r",
        "  Downloading basemap-1.0.7.tar.gz (129.7MB):  16%  20.9MB\r",
        "  Downloading basemap-1.0.7.tar.gz (129.7MB):  16%  20.9MB\r",
        "  Downloading basemap-1.0.7.tar.gz (129.7MB):  16%  20.9MB\r",
        "  Downloading basemap-1.0.7.tar.gz (129.7MB):  16%  20.9MB\r",
        "  Downloading basemap-1.0.7.tar.gz (129.7MB):  16%  20.9MB\r",
        "  Downloading basemap-1.0.7.tar.gz (129.7MB):  16%  20.9MB"
       ]
      },
      {
       "output_type": "stream",
       "stream": "stdout",
       "text": [
        "\r",
        "  Downloading basemap-1.0.7.tar.gz (129.7MB):  16%  20.9MB\r",
        "  Downloading basemap-1.0.7.tar.gz (129.7MB):  16%  20.9MB\r",
        "  Downloading basemap-1.0.7.tar.gz (129.7MB):  16%  20.9MB\r",
        "  Downloading basemap-1.0.7.tar.gz (129.7MB):  16%  20.9MB\r",
        "  Downloading basemap-1.0.7.tar.gz (129.7MB):  16%  20.9MB\r",
        "  Downloading basemap-1.0.7.tar.gz (129.7MB):  16%  20.9MB\r",
        "  Downloading basemap-1.0.7.tar.gz (129.7MB):  16%  21.0MB\r",
        "  Downloading basemap-1.0.7.tar.gz (129.7MB):  16%  21.0MB\r",
        "  Downloading basemap-1.0.7.tar.gz (129.7MB):  16%  21.0MB\r",
        "  Downloading basemap-1.0.7.tar.gz (129.7MB):  16%  21.0MB\r",
        "  Downloading basemap-1.0.7.tar.gz (129.7MB):  16%  21.0MB\r",
        "  Downloading basemap-1.0.7.tar.gz (129.7MB):  16%  21.0MB\r",
        "  Downloading basemap-1.0.7.tar.gz (129.7MB):  16%  21.0MB\r",
        "  Downloading basemap-1.0.7.tar.gz (129.7MB):  16%  21.0MB\r",
        "  Downloading basemap-1.0.7.tar.gz (129.7MB):  16%  21.0MB"
       ]
      },
      {
       "output_type": "stream",
       "stream": "stdout",
       "text": [
        "\r",
        "  Downloading basemap-1.0.7.tar.gz (129.7MB):  16%  21.0MB\r",
        "  Downloading basemap-1.0.7.tar.gz (129.7MB):  16%  21.0MB\r",
        "  Downloading basemap-1.0.7.tar.gz (129.7MB):  16%  21.0MB\r",
        "  Downloading basemap-1.0.7.tar.gz (129.7MB):  16%  21.0MB\r",
        "  Downloading basemap-1.0.7.tar.gz (129.7MB):  16%  21.0MB\r",
        "  Downloading basemap-1.0.7.tar.gz (129.7MB):  16%  21.0MB\r",
        "  Downloading basemap-1.0.7.tar.gz (129.7MB):  16%  21.0MB\r",
        "  Downloading basemap-1.0.7.tar.gz (129.7MB):  16%  21.0MB\r",
        "  Downloading basemap-1.0.7.tar.gz (129.7MB):  16%  21.0MB\r",
        "  Downloading basemap-1.0.7.tar.gz (129.7MB):  16%  21.0MB\r",
        "  Downloading basemap-1.0.7.tar.gz (129.7MB):  16%  21.0MB\r",
        "  Downloading basemap-1.0.7.tar.gz (129.7MB):  16%  21.0MB\r",
        "  Downloading basemap-1.0.7.tar.gz (129.7MB):  16%  21.0MB\r",
        "  Downloading basemap-1.0.7.tar.gz (129.7MB):  16%  21.0MB\r",
        "  Downloading basemap-1.0.7.tar.gz (129.7MB):  16%  21.0MB"
       ]
      },
      {
       "output_type": "stream",
       "stream": "stdout",
       "text": [
        "\r",
        "  Downloading basemap-1.0.7.tar.gz (129.7MB):  16%  21.0MB\r",
        "  Downloading basemap-1.0.7.tar.gz (129.7MB):  16%  21.1MB\r",
        "  Downloading basemap-1.0.7.tar.gz (129.7MB):  16%  21.1MB\r",
        "  Downloading basemap-1.0.7.tar.gz (129.7MB):  16%  21.1MB\r",
        "  Downloading basemap-1.0.7.tar.gz (129.7MB):  16%  21.1MB\r",
        "  Downloading basemap-1.0.7.tar.gz (129.7MB):  16%  21.1MB\r",
        "  Downloading basemap-1.0.7.tar.gz (129.7MB):  16%  21.1MB\r",
        "  Downloading basemap-1.0.7.tar.gz (129.7MB):  16%  21.1MB\r",
        "  Downloading basemap-1.0.7.tar.gz (129.7MB):  16%  21.1MB\r",
        "  Downloading basemap-1.0.7.tar.gz (129.7MB):  16%  21.1MB\r",
        "  Downloading basemap-1.0.7.tar.gz (129.7MB):  16%  21.1MB\r",
        "  Downloading basemap-1.0.7.tar.gz (129.7MB):  16%  21.1MB\r",
        "  Downloading basemap-1.0.7.tar.gz (129.7MB):  16%  21.1MB\r",
        "  Downloading basemap-1.0.7.tar.gz (129.7MB):  16%  21.1MB\r",
        "  Downloading basemap-1.0.7.tar.gz (129.7MB):  16%  21.1MB\r",
        "  Downloading basemap-1.0.7.tar.gz (129.7MB):  16%  21.1MB\r",
        "  Downloading basemap-1.0.7.tar.gz (129.7MB):  16%  21.1MB\r",
        "  Downloading basemap-1.0.7.tar.gz (129.7MB):  16%  21.1MB\r",
        "  Downloading basemap-1.0.7.tar.gz (129.7MB):  16%  21.1MB"
       ]
      },
      {
       "output_type": "stream",
       "stream": "stdout",
       "text": [
        "\r",
        "  Downloading basemap-1.0.7.tar.gz (129.7MB):  16%  21.1MB\r",
        "  Downloading basemap-1.0.7.tar.gz (129.7MB):  16%  21.1MB\r",
        "  Downloading basemap-1.0.7.tar.gz (129.7MB):  16%  21.1MB\r",
        "  Downloading basemap-1.0.7.tar.gz (129.7MB):  16%  21.1MB\r",
        "  Downloading basemap-1.0.7.tar.gz (129.7MB):  16%  21.1MB\r",
        "  Downloading basemap-1.0.7.tar.gz (129.7MB):  16%  21.1MB\r",
        "  Downloading basemap-1.0.7.tar.gz (129.7MB):  16%  21.2MB\r",
        "  Downloading basemap-1.0.7.tar.gz (129.7MB):  16%  21.2MB\r",
        "  Downloading basemap-1.0.7.tar.gz (129.7MB):  16%  21.2MB\r",
        "  Downloading basemap-1.0.7.tar.gz (129.7MB):  16%  21.2MB\r",
        "  Downloading basemap-1.0.7.tar.gz (129.7MB):  16%  21.2MB\r",
        "  Downloading basemap-1.0.7.tar.gz (129.7MB):  16%  21.2MB\r",
        "  Downloading basemap-1.0.7.tar.gz (129.7MB):  16%  21.2MB\r",
        "  Downloading basemap-1.0.7.tar.gz (129.7MB):  16%  21.2MB\r",
        "  Downloading basemap-1.0.7.tar.gz (129.7MB):  16%  21.2MB\r",
        "  Downloading basemap-1.0.7.tar.gz (129.7MB):  16%  21.2MB"
       ]
      },
      {
       "output_type": "stream",
       "stream": "stdout",
       "text": [
        "\r",
        "  Downloading basemap-1.0.7.tar.gz (129.7MB):  16%  21.2MB\r",
        "  Downloading basemap-1.0.7.tar.gz (129.7MB):  16%  21.2MB\r",
        "  Downloading basemap-1.0.7.tar.gz (129.7MB):  16%  21.2MB\r",
        "  Downloading basemap-1.0.7.tar.gz (129.7MB):  16%  21.2MB\r",
        "  Downloading basemap-1.0.7.tar.gz (129.7MB):  16%  21.2MB\r",
        "  Downloading basemap-1.0.7.tar.gz (129.7MB):  16%  21.2MB\r",
        "  Downloading basemap-1.0.7.tar.gz (129.7MB):  16%  21.2MB\r",
        "  Downloading basemap-1.0.7.tar.gz (129.7MB):  16%  21.2MB\r",
        "  Downloading basemap-1.0.7.tar.gz (129.7MB):  16%  21.2MB\r",
        "  Downloading basemap-1.0.7.tar.gz (129.7MB):  16%  21.2MB\r",
        "  Downloading basemap-1.0.7.tar.gz (129.7MB):  16%  21.2MB\r",
        "  Downloading basemap-1.0.7.tar.gz (129.7MB):  16%  21.2MB\r",
        "  Downloading basemap-1.0.7.tar.gz (129.7MB):  16%  21.2MB\r",
        "  Downloading basemap-1.0.7.tar.gz (129.7MB):  16%  21.2MB\r",
        "  Downloading basemap-1.0.7.tar.gz (129.7MB):  16%  21.3MB\r",
        "  Downloading basemap-1.0.7.tar.gz (129.7MB):  16%  21.3MB\r",
        "  Downloading basemap-1.0.7.tar.gz (129.7MB):  16%  21.3MB\r",
        "  Downloading basemap-1.0.7.tar.gz (129.7MB):  16%  21.3MB\r",
        "  Downloading basemap-1.0.7.tar.gz (129.7MB):  16%  21.3MB\r",
        "  Downloading basemap-1.0.7.tar.gz (129.7MB):  16%  21.3MB\r",
        "  Downloading basemap-1.0.7.tar.gz (129.7MB):  16%  21.3MB\r",
        "  Downloading basemap-1.0.7.tar.gz (129.7MB):  16%  21.3MB\r",
        "  Downloading basemap-1.0.7.tar.gz (129.7MB):  16%  21.3MB\r",
        "  Downloading basemap-1.0.7.tar.gz (129.7MB):  16%  21.3MB\r",
        "  Downloading basemap-1.0.7.tar.gz (129.7MB):  16%  21.3MB\r",
        "  Downloading basemap-1.0.7.tar.gz (129.7MB):  16%  21.3MB\r",
        "  Downloading basemap-1.0.7.tar.gz (129.7MB):  16%  21.3MB\r",
        "  Downloading basemap-1.0.7.tar.gz (129.7MB):  16%  21.3MB\r",
        "  Downloading basemap-1.0.7.tar.gz (129.7MB):  16%  21.3MB\r",
        "  Downloading basemap-1.0.7.tar.gz (129.7MB):  16%  21.3MB"
       ]
      },
      {
       "output_type": "stream",
       "stream": "stdout",
       "text": [
        "\r",
        "  Downloading basemap-1.0.7.tar.gz (129.7MB):  16%  21.3MB\r",
        "  Downloading basemap-1.0.7.tar.gz (129.7MB):  16%  21.3MB\r",
        "  Downloading basemap-1.0.7.tar.gz (129.7MB):  16%  21.3MB\r",
        "  Downloading basemap-1.0.7.tar.gz (129.7MB):  16%  21.3MB\r",
        "  Downloading basemap-1.0.7.tar.gz (129.7MB):  16%  21.3MB\r",
        "  Downloading basemap-1.0.7.tar.gz (129.7MB):  16%  21.3MB\r",
        "  Downloading basemap-1.0.7.tar.gz (129.7MB):  16%  21.3MB\r",
        "  Downloading basemap-1.0.7.tar.gz (129.7MB):  16%  21.3MB\r",
        "  Downloading basemap-1.0.7.tar.gz (129.7MB):  16%  21.3MB\r",
        "  Downloading basemap-1.0.7.tar.gz (129.7MB):  16%  21.4MB\r",
        "  Downloading basemap-1.0.7.tar.gz (129.7MB):  16%  21.4MB\r",
        "  Downloading basemap-1.0.7.tar.gz (129.7MB):  16%  21.4MB\r",
        "  Downloading basemap-1.0.7.tar.gz (129.7MB):  16%  21.4MB\r",
        "  Downloading basemap-1.0.7.tar.gz (129.7MB):  16%  21.4MB\r",
        "  Downloading basemap-1.0.7.tar.gz (129.7MB):  16%  21.4MB\r",
        "  Downloading basemap-1.0.7.tar.gz (129.7MB):  16%  21.4MB\r",
        "  Downloading basemap-1.0.7.tar.gz (129.7MB):  16%  21.4MB\r",
        "  Downloading basemap-1.0.7.tar.gz (129.7MB):  16%  21.4MB\r",
        "  Downloading basemap-1.0.7.tar.gz (129.7MB):  16%  21.4MB\r",
        "  Downloading basemap-1.0.7.tar.gz (129.7MB):  16%  21.4MB"
       ]
      },
      {
       "output_type": "stream",
       "stream": "stdout",
       "text": [
        "\r",
        "  Downloading basemap-1.0.7.tar.gz (129.7MB):  16%  21.4MB\r",
        "  Downloading basemap-1.0.7.tar.gz (129.7MB):  16%  21.4MB\r",
        "  Downloading basemap-1.0.7.tar.gz (129.7MB):  16%  21.4MB\r",
        "  Downloading basemap-1.0.7.tar.gz (129.7MB):  16%  21.4MB\r",
        "  Downloading basemap-1.0.7.tar.gz (129.7MB):  16%  21.4MB\r",
        "  Downloading basemap-1.0.7.tar.gz (129.7MB):  16%  21.4MB\r",
        "  Downloading basemap-1.0.7.tar.gz (129.7MB):  16%  21.4MB\r",
        "  Downloading basemap-1.0.7.tar.gz (129.7MB):  16%  21.4MB\r",
        "  Downloading basemap-1.0.7.tar.gz (129.7MB):  16%  21.4MB\r",
        "  Downloading basemap-1.0.7.tar.gz (129.7MB):  16%  21.4MB\r",
        "  Downloading basemap-1.0.7.tar.gz (129.7MB):  16%  21.4MB\r",
        "  Downloading basemap-1.0.7.tar.gz (129.7MB):  16%  21.4MB\r",
        "  Downloading basemap-1.0.7.tar.gz (129.7MB):  16%  21.4MB\r",
        "  Downloading basemap-1.0.7.tar.gz (129.7MB):  16%  21.5MB\r",
        "  Downloading basemap-1.0.7.tar.gz (129.7MB):  16%  21.5MB\r",
        "  Downloading basemap-1.0.7.tar.gz (129.7MB):  16%  21.5MB\r",
        "  Downloading basemap-1.0.7.tar.gz (129.7MB):  16%  21.5MB"
       ]
      },
      {
       "output_type": "stream",
       "stream": "stdout",
       "text": [
        "\r",
        "  Downloading basemap-1.0.7.tar.gz (129.7MB):  16%  21.5MB\r",
        "  Downloading basemap-1.0.7.tar.gz (129.7MB):  16%  21.5MB\r",
        "  Downloading basemap-1.0.7.tar.gz (129.7MB):  16%  21.5MB\r",
        "  Downloading basemap-1.0.7.tar.gz (129.7MB):  16%  21.5MB\r",
        "  Downloading basemap-1.0.7.tar.gz (129.7MB):  16%  21.5MB\r",
        "  Downloading basemap-1.0.7.tar.gz (129.7MB):  16%  21.5MB\r",
        "  Downloading basemap-1.0.7.tar.gz (129.7MB):  16%  21.5MB\r",
        "  Downloading basemap-1.0.7.tar.gz (129.7MB):  16%  21.5MB\r",
        "  Downloading basemap-1.0.7.tar.gz (129.7MB):  16%  21.5MB\r",
        "  Downloading basemap-1.0.7.tar.gz (129.7MB):  16%  21.5MB\r",
        "  Downloading basemap-1.0.7.tar.gz (129.7MB):  16%  21.5MB\r",
        "  Downloading basemap-1.0.7.tar.gz (129.7MB):  16%  21.5MB\r",
        "  Downloading basemap-1.0.7.tar.gz (129.7MB):  16%  21.5MB\r",
        "  Downloading basemap-1.0.7.tar.gz (129.7MB):  16%  21.5MB"
       ]
      },
      {
       "output_type": "stream",
       "stream": "stdout",
       "text": [
        "\r",
        "  Downloading basemap-1.0.7.tar.gz (129.7MB):  16%  21.5MB\r",
        "  Downloading basemap-1.0.7.tar.gz (129.7MB):  16%  21.5MB\r",
        "  Downloading basemap-1.0.7.tar.gz (129.7MB):  16%  21.5MB\r",
        "  Downloading basemap-1.0.7.tar.gz (129.7MB):  16%  21.5MB\r",
        "  Downloading basemap-1.0.7.tar.gz (129.7MB):  16%  21.5MB\r",
        "  Downloading basemap-1.0.7.tar.gz (129.7MB):  16%  21.5MB\r",
        "  Downloading basemap-1.0.7.tar.gz (129.7MB):  16%  21.5MB\r",
        "  Downloading basemap-1.0.7.tar.gz (129.7MB):  16%  21.6MB\r",
        "  Downloading basemap-1.0.7.tar.gz (129.7MB):  16%  21.6MB\r",
        "  Downloading basemap-1.0.7.tar.gz (129.7MB):  16%  21.6MB\r",
        "  Downloading basemap-1.0.7.tar.gz (129.7MB):  16%  21.6MB\r",
        "  Downloading basemap-1.0.7.tar.gz (129.7MB):  16%  21.6MB\r",
        "  Downloading basemap-1.0.7.tar.gz (129.7MB):  16%  21.6MB\r",
        "  Downloading basemap-1.0.7.tar.gz (129.7MB):  16%  21.6MB\r",
        "  Downloading basemap-1.0.7.tar.gz (129.7MB):  16%  21.6MB\r",
        "  Downloading basemap-1.0.7.tar.gz (129.7MB):  16%  21.6MB\r",
        "  Downloading basemap-1.0.7.tar.gz (129.7MB):  16%  21.6MB\r",
        "  Downloading basemap-1.0.7.tar.gz (129.7MB):  16%  21.6MB\r",
        "  Downloading basemap-1.0.7.tar.gz (129.7MB):  16%  21.6MB"
       ]
      },
      {
       "output_type": "stream",
       "stream": "stdout",
       "text": [
        "\r",
        "  Downloading basemap-1.0.7.tar.gz (129.7MB):  16%  21.6MB\r",
        "  Downloading basemap-1.0.7.tar.gz (129.7MB):  16%  21.6MB\r",
        "  Downloading basemap-1.0.7.tar.gz (129.7MB):  16%  21.6MB\r",
        "  Downloading basemap-1.0.7.tar.gz (129.7MB):  16%  21.6MB\r",
        "  Downloading basemap-1.0.7.tar.gz (129.7MB):  16%  21.6MB\r",
        "  Downloading basemap-1.0.7.tar.gz (129.7MB):  16%  21.6MB\r",
        "  Downloading basemap-1.0.7.tar.gz (129.7MB):  16%  21.6MB\r",
        "  Downloading basemap-1.0.7.tar.gz (129.7MB):  16%  21.6MB\r",
        "  Downloading basemap-1.0.7.tar.gz (129.7MB):  16%  21.6MB\r",
        "  Downloading basemap-1.0.7.tar.gz (129.7MB):  16%  21.6MB\r",
        "  Downloading basemap-1.0.7.tar.gz (129.7MB):  16%  21.6MB\r",
        "  Downloading basemap-1.0.7.tar.gz (129.7MB):  16%  21.6MB\r",
        "  Downloading basemap-1.0.7.tar.gz (129.7MB):  16%  21.7MB\r",
        "  Downloading basemap-1.0.7.tar.gz (129.7MB):  16%  21.7MB\r",
        "  Downloading basemap-1.0.7.tar.gz (129.7MB):  16%  21.7MB\r",
        "  Downloading basemap-1.0.7.tar.gz (129.7MB):  16%  21.7MB\r",
        "  Downloading basemap-1.0.7.tar.gz (129.7MB):  16%  21.7MB\r",
        "  Downloading basemap-1.0.7.tar.gz (129.7MB):  16%  21.7MB"
       ]
      },
      {
       "output_type": "stream",
       "stream": "stdout",
       "text": [
        "\r",
        "  Downloading basemap-1.0.7.tar.gz (129.7MB):  16%  21.7MB\r",
        "  Downloading basemap-1.0.7.tar.gz (129.7MB):  16%  21.7MB\r",
        "  Downloading basemap-1.0.7.tar.gz (129.7MB):  16%  21.7MB\r",
        "  Downloading basemap-1.0.7.tar.gz (129.7MB):  16%  21.7MB\r",
        "  Downloading basemap-1.0.7.tar.gz (129.7MB):  16%  21.7MB\r",
        "  Downloading basemap-1.0.7.tar.gz (129.7MB):  16%  21.7MB\r",
        "  Downloading basemap-1.0.7.tar.gz (129.7MB):  16%  21.7MB\r",
        "  Downloading basemap-1.0.7.tar.gz (129.7MB):  16%  21.7MB\r",
        "  Downloading basemap-1.0.7.tar.gz (129.7MB):  16%  21.7MB\r",
        "  Downloading basemap-1.0.7.tar.gz (129.7MB):  16%  21.7MB\r",
        "  Downloading basemap-1.0.7.tar.gz (129.7MB):  16%  21.7MB\r",
        "  Downloading basemap-1.0.7.tar.gz (129.7MB):  16%  21.7MB\r",
        "  Downloading basemap-1.0.7.tar.gz (129.7MB):  16%  21.7MB\r",
        "  Downloading basemap-1.0.7.tar.gz (129.7MB):  16%  21.7MB\r",
        "  Downloading basemap-1.0.7.tar.gz (129.7MB):  16%  21.7MB\r",
        "  Downloading basemap-1.0.7.tar.gz (129.7MB):  16%  21.7MB\r",
        "  Downloading basemap-1.0.7.tar.gz (129.7MB):  16%  21.7MB\r",
        "  Downloading basemap-1.0.7.tar.gz (129.7MB):  16%  21.7MB"
       ]
      },
      {
       "output_type": "stream",
       "stream": "stdout",
       "text": [
        "\r",
        "  Downloading basemap-1.0.7.tar.gz (129.7MB):  16%  21.7MB\r",
        "  Downloading basemap-1.0.7.tar.gz (129.7MB):  16%  21.8MB\r",
        "  Downloading basemap-1.0.7.tar.gz (129.7MB):  16%  21.8MB\r",
        "  Downloading basemap-1.0.7.tar.gz (129.7MB):  16%  21.8MB\r",
        "  Downloading basemap-1.0.7.tar.gz (129.7MB):  16%  21.8MB\r",
        "  Downloading basemap-1.0.7.tar.gz (129.7MB):  16%  21.8MB\r",
        "  Downloading basemap-1.0.7.tar.gz (129.7MB):  16%  21.8MB\r",
        "  Downloading basemap-1.0.7.tar.gz (129.7MB):  16%  21.8MB\r",
        "  Downloading basemap-1.0.7.tar.gz (129.7MB):  16%  21.8MB\r",
        "  Downloading basemap-1.0.7.tar.gz (129.7MB):  16%  21.8MB\r",
        "  Downloading basemap-1.0.7.tar.gz (129.7MB):  16%  21.8MB\r",
        "  Downloading basemap-1.0.7.tar.gz (129.7MB):  16%  21.8MB"
       ]
      },
      {
       "output_type": "stream",
       "stream": "stdout",
       "text": [
        "\r",
        "  Downloading basemap-1.0.7.tar.gz (129.7MB):  16%  21.8MB\r",
        "  Downloading basemap-1.0.7.tar.gz (129.7MB):  16%  21.8MB\r",
        "  Downloading basemap-1.0.7.tar.gz (129.7MB):  16%  21.8MB\r",
        "  Downloading basemap-1.0.7.tar.gz (129.7MB):  16%  21.8MB\r",
        "  Downloading basemap-1.0.7.tar.gz (129.7MB):  16%  21.8MB\r",
        "  Downloading basemap-1.0.7.tar.gz (129.7MB):  16%  21.8MB\r",
        "  Downloading basemap-1.0.7.tar.gz (129.7MB):  16%  21.8MB\r",
        "  Downloading basemap-1.0.7.tar.gz (129.7MB):  16%  21.8MB\r",
        "  Downloading basemap-1.0.7.tar.gz (129.7MB):  16%  21.8MB\r",
        "  Downloading basemap-1.0.7.tar.gz (129.7MB):  16%  21.8MB\r",
        "  Downloading basemap-1.0.7.tar.gz (129.7MB):  16%  21.8MB\r",
        "  Downloading basemap-1.0.7.tar.gz (129.7MB):  16%  21.8MB\r",
        "  Downloading basemap-1.0.7.tar.gz (129.7MB):  16%  21.8MB\r",
        "  Downloading basemap-1.0.7.tar.gz (129.7MB):  16%  21.9MB\r",
        "  Downloading basemap-1.0.7.tar.gz (129.7MB):  16%  21.9MB\r",
        "  Downloading basemap-1.0.7.tar.gz (129.7MB):  16%  21.9MB\r",
        "  Downloading basemap-1.0.7.tar.gz (129.7MB):  16%  21.9MB\r",
        "  Downloading basemap-1.0.7.tar.gz (129.7MB):  16%  21.9MB\r",
        "  Downloading basemap-1.0.7.tar.gz (129.7MB):  16%  21.9MB"
       ]
      },
      {
       "output_type": "stream",
       "stream": "stdout",
       "text": [
        "\r",
        "  Downloading basemap-1.0.7.tar.gz (129.7MB):  16%  21.9MB\r",
        "  Downloading basemap-1.0.7.tar.gz (129.7MB):  16%  21.9MB\r",
        "  Downloading basemap-1.0.7.tar.gz (129.7MB):  16%  21.9MB\r",
        "  Downloading basemap-1.0.7.tar.gz (129.7MB):  16%  21.9MB\r",
        "  Downloading basemap-1.0.7.tar.gz (129.7MB):  16%  21.9MB\r",
        "  Downloading basemap-1.0.7.tar.gz (129.7MB):  16%  21.9MB\r",
        "  Downloading basemap-1.0.7.tar.gz (129.7MB):  16%  21.9MB\r",
        "  Downloading basemap-1.0.7.tar.gz (129.7MB):  16%  21.9MB\r",
        "  Downloading basemap-1.0.7.tar.gz (129.7MB):  16%  21.9MB\r",
        "  Downloading basemap-1.0.7.tar.gz (129.7MB):  16%  21.9MB\r",
        "  Downloading basemap-1.0.7.tar.gz (129.7MB):  16%  21.9MB\r",
        "  Downloading basemap-1.0.7.tar.gz (129.7MB):  16%  21.9MB\r",
        "  Downloading basemap-1.0.7.tar.gz (129.7MB):  16%  21.9MB\r",
        "  Downloading basemap-1.0.7.tar.gz (129.7MB):  16%  21.9MB\r",
        "  Downloading basemap-1.0.7.tar.gz (129.7MB):  16%  21.9MB\r",
        "  Downloading basemap-1.0.7.tar.gz (129.7MB):  16%  21.9MB\r",
        "  Downloading basemap-1.0.7.tar.gz (129.7MB):  16%  21.9MB\r",
        "  Downloading basemap-1.0.7.tar.gz (129.7MB):  16%  21.9MB\r",
        "  Downloading basemap-1.0.7.tar.gz (129.7MB):  16%  22.0MB"
       ]
      },
      {
       "output_type": "stream",
       "stream": "stdout",
       "text": [
        "\r",
        "  Downloading basemap-1.0.7.tar.gz (129.7MB):  16%  22.0MB\r",
        "  Downloading basemap-1.0.7.tar.gz (129.7MB):  16%  22.0MB\r",
        "  Downloading basemap-1.0.7.tar.gz (129.7MB):  16%  22.0MB\r",
        "  Downloading basemap-1.0.7.tar.gz (129.7MB):  16%  22.0MB\r",
        "  Downloading basemap-1.0.7.tar.gz (129.7MB):  16%  22.0MB\r",
        "  Downloading basemap-1.0.7.tar.gz (129.7MB):  16%  22.0MB\r",
        "  Downloading basemap-1.0.7.tar.gz (129.7MB):  16%  22.0MB\r",
        "  Downloading basemap-1.0.7.tar.gz (129.7MB):  16%  22.0MB\r",
        "  Downloading basemap-1.0.7.tar.gz (129.7MB):  16%  22.0MB\r",
        "  Downloading basemap-1.0.7.tar.gz (129.7MB):  16%  22.0MB\r",
        "  Downloading basemap-1.0.7.tar.gz (129.7MB):  16%  22.0MB\r",
        "  Downloading basemap-1.0.7.tar.gz (129.7MB):  16%  22.0MB\r",
        "  Downloading basemap-1.0.7.tar.gz (129.7MB):  16%  22.0MB\r",
        "  Downloading basemap-1.0.7.tar.gz (129.7MB):  16%  22.0MB"
       ]
      },
      {
       "output_type": "stream",
       "stream": "stdout",
       "text": [
        "\r",
        "  Downloading basemap-1.0.7.tar.gz (129.7MB):  16%  22.0MB\r",
        "  Downloading basemap-1.0.7.tar.gz (129.7MB):  16%  22.0MB\r",
        "  Downloading basemap-1.0.7.tar.gz (129.7MB):  16%  22.0MB\r",
        "  Downloading basemap-1.0.7.tar.gz (129.7MB):  16%  22.0MB\r",
        "  Downloading basemap-1.0.7.tar.gz (129.7MB):  16%  22.0MB\r",
        "  Downloading basemap-1.0.7.tar.gz (129.7MB):  16%  22.0MB\r",
        "  Downloading basemap-1.0.7.tar.gz (129.7MB):  16%  22.0MB\r",
        "  Downloading basemap-1.0.7.tar.gz (129.7MB):  16%  22.0MB\r",
        "  Downloading basemap-1.0.7.tar.gz (129.7MB):  16%  22.0MB\r",
        "  Downloading basemap-1.0.7.tar.gz (129.7MB):  17%  22.0MB\r",
        "  Downloading basemap-1.0.7.tar.gz (129.7MB):  17%  22.1MB\r",
        "  Downloading basemap-1.0.7.tar.gz (129.7MB):  17%  22.1MB\r",
        "  Downloading basemap-1.0.7.tar.gz (129.7MB):  17%  22.1MB\r",
        "  Downloading basemap-1.0.7.tar.gz (129.7MB):  17%  22.1MB\r",
        "  Downloading basemap-1.0.7.tar.gz (129.7MB):  17%  22.1MB\r",
        "  Downloading basemap-1.0.7.tar.gz (129.7MB):  17%  22.1MB\r",
        "  Downloading basemap-1.0.7.tar.gz (129.7MB):  17%  22.1MB\r",
        "  Downloading basemap-1.0.7.tar.gz (129.7MB):  17%  22.1MB"
       ]
      },
      {
       "output_type": "stream",
       "stream": "stdout",
       "text": [
        "\r",
        "  Downloading basemap-1.0.7.tar.gz (129.7MB):  17%  22.1MB\r",
        "  Downloading basemap-1.0.7.tar.gz (129.7MB):  17%  22.1MB\r",
        "  Downloading basemap-1.0.7.tar.gz (129.7MB):  17%  22.1MB\r",
        "  Downloading basemap-1.0.7.tar.gz (129.7MB):  17%  22.1MB\r",
        "  Downloading basemap-1.0.7.tar.gz (129.7MB):  17%  22.1MB\r",
        "  Downloading basemap-1.0.7.tar.gz (129.7MB):  17%  22.1MB\r",
        "  Downloading basemap-1.0.7.tar.gz (129.7MB):  17%  22.1MB\r",
        "  Downloading basemap-1.0.7.tar.gz (129.7MB):  17%  22.1MB\r",
        "  Downloading basemap-1.0.7.tar.gz (129.7MB):  17%  22.1MB\r",
        "  Downloading basemap-1.0.7.tar.gz (129.7MB):  17%  22.1MB\r",
        "  Downloading basemap-1.0.7.tar.gz (129.7MB):  17%  22.1MB\r",
        "  Downloading basemap-1.0.7.tar.gz (129.7MB):  17%  22.1MB\r",
        "  Downloading basemap-1.0.7.tar.gz (129.7MB):  17%  22.1MB\r",
        "  Downloading basemap-1.0.7.tar.gz (129.7MB):  17%  22.1MB\r",
        "  Downloading basemap-1.0.7.tar.gz (129.7MB):  17%  22.1MB\r",
        "  Downloading basemap-1.0.7.tar.gz (129.7MB):  17%  22.1MB\r",
        "  Downloading basemap-1.0.7.tar.gz (129.7MB):  17%  22.2MB\r",
        "  Downloading basemap-1.0.7.tar.gz (129.7MB):  17%  22.2MB\r",
        "  Downloading basemap-1.0.7.tar.gz (129.7MB):  17%  22.2MB\r",
        "  Downloading basemap-1.0.7.tar.gz (129.7MB):  17%  22.2MB"
       ]
      },
      {
       "output_type": "stream",
       "stream": "stdout",
       "text": [
        "\r",
        "  Downloading basemap-1.0.7.tar.gz (129.7MB):  17%  22.2MB\r",
        "  Downloading basemap-1.0.7.tar.gz (129.7MB):  17%  22.2MB\r",
        "  Downloading basemap-1.0.7.tar.gz (129.7MB):  17%  22.2MB\r",
        "  Downloading basemap-1.0.7.tar.gz (129.7MB):  17%  22.2MB\r",
        "  Downloading basemap-1.0.7.tar.gz (129.7MB):  17%  22.2MB\r",
        "  Downloading basemap-1.0.7.tar.gz (129.7MB):  17%  22.2MB\r",
        "  Downloading basemap-1.0.7.tar.gz (129.7MB):  17%  22.2MB\r",
        "  Downloading basemap-1.0.7.tar.gz (129.7MB):  17%  22.2MB\r",
        "  Downloading basemap-1.0.7.tar.gz (129.7MB):  17%  22.2MB\r",
        "  Downloading basemap-1.0.7.tar.gz (129.7MB):  17%  22.2MB\r",
        "  Downloading basemap-1.0.7.tar.gz (129.7MB):  17%  22.2MB\r",
        "  Downloading basemap-1.0.7.tar.gz (129.7MB):  17%  22.2MB\r",
        "  Downloading basemap-1.0.7.tar.gz (129.7MB):  17%  22.2MB\r",
        "  Downloading basemap-1.0.7.tar.gz (129.7MB):  17%  22.2MB\r",
        "  Downloading basemap-1.0.7.tar.gz (129.7MB):  17%  22.2MB\r",
        "  Downloading basemap-1.0.7.tar.gz (129.7MB):  17%  22.2MB\r",
        "  Downloading basemap-1.0.7.tar.gz (129.7MB):  17%  22.2MB\r",
        "  Downloading basemap-1.0.7.tar.gz (129.7MB):  17%  22.2MB"
       ]
      },
      {
       "output_type": "stream",
       "stream": "stdout",
       "text": [
        "\r",
        "  Downloading basemap-1.0.7.tar.gz (129.7MB):  17%  22.2MB\r",
        "  Downloading basemap-1.0.7.tar.gz (129.7MB):  17%  22.2MB\r",
        "  Downloading basemap-1.0.7.tar.gz (129.7MB):  17%  22.2MB\r",
        "  Downloading basemap-1.0.7.tar.gz (129.7MB):  17%  22.3MB\r",
        "  Downloading basemap-1.0.7.tar.gz (129.7MB):  17%  22.3MB\r",
        "  Downloading basemap-1.0.7.tar.gz (129.7MB):  17%  22.3MB\r",
        "  Downloading basemap-1.0.7.tar.gz (129.7MB):  17%  22.3MB\r",
        "  Downloading basemap-1.0.7.tar.gz (129.7MB):  17%  22.3MB\r",
        "  Downloading basemap-1.0.7.tar.gz (129.7MB):  17%  22.3MB\r",
        "  Downloading basemap-1.0.7.tar.gz (129.7MB):  17%  22.3MB\r",
        "  Downloading basemap-1.0.7.tar.gz (129.7MB):  17%  22.3MB"
       ]
      },
      {
       "output_type": "stream",
       "stream": "stdout",
       "text": [
        "\r",
        "  Downloading basemap-1.0.7.tar.gz (129.7MB):  17%  22.3MB\r",
        "  Downloading basemap-1.0.7.tar.gz (129.7MB):  17%  22.3MB\r",
        "  Downloading basemap-1.0.7.tar.gz (129.7MB):  17%  22.3MB\r",
        "  Downloading basemap-1.0.7.tar.gz (129.7MB):  17%  22.3MB\r",
        "  Downloading basemap-1.0.7.tar.gz (129.7MB):  17%  22.3MB\r",
        "  Downloading basemap-1.0.7.tar.gz (129.7MB):  17%  22.3MB\r",
        "  Downloading basemap-1.0.7.tar.gz (129.7MB):  17%  22.3MB\r",
        "  Downloading basemap-1.0.7.tar.gz (129.7MB):  17%  22.3MB\r",
        "  Downloading basemap-1.0.7.tar.gz (129.7MB):  17%  22.3MB\r",
        "  Downloading basemap-1.0.7.tar.gz (129.7MB):  17%  22.3MB\r",
        "  Downloading basemap-1.0.7.tar.gz (129.7MB):  17%  22.3MB\r",
        "  Downloading basemap-1.0.7.tar.gz (129.7MB):  17%  22.3MB\r",
        "  Downloading basemap-1.0.7.tar.gz (129.7MB):  17%  22.3MB\r",
        "  Downloading basemap-1.0.7.tar.gz (129.7MB):  17%  22.3MB\r",
        "  Downloading basemap-1.0.7.tar.gz (129.7MB):  17%  22.3MB\r",
        "  Downloading basemap-1.0.7.tar.gz (129.7MB):  17%  22.3MB\r",
        "  Downloading basemap-1.0.7.tar.gz (129.7MB):  17%  22.4MB\r",
        "  Downloading basemap-1.0.7.tar.gz (129.7MB):  17%  22.4MB"
       ]
      },
      {
       "output_type": "stream",
       "stream": "stdout",
       "text": [
        "\r",
        "  Downloading basemap-1.0.7.tar.gz (129.7MB):  17%  22.4MB\r",
        "  Downloading basemap-1.0.7.tar.gz (129.7MB):  17%  22.4MB\r",
        "  Downloading basemap-1.0.7.tar.gz (129.7MB):  17%  22.4MB\r",
        "  Downloading basemap-1.0.7.tar.gz (129.7MB):  17%  22.4MB\r",
        "  Downloading basemap-1.0.7.tar.gz (129.7MB):  17%  22.4MB\r",
        "  Downloading basemap-1.0.7.tar.gz (129.7MB):  17%  22.4MB\r",
        "  Downloading basemap-1.0.7.tar.gz (129.7MB):  17%  22.4MB\r",
        "  Downloading basemap-1.0.7.tar.gz (129.7MB):  17%  22.4MB\r",
        "  Downloading basemap-1.0.7.tar.gz (129.7MB):  17%  22.4MB\r",
        "  Downloading basemap-1.0.7.tar.gz (129.7MB):  17%  22.4MB\r",
        "  Downloading basemap-1.0.7.tar.gz (129.7MB):  17%  22.4MB\r",
        "  Downloading basemap-1.0.7.tar.gz (129.7MB):  17%  22.4MB\r",
        "  Downloading basemap-1.0.7.tar.gz (129.7MB):  17%  22.4MB\r",
        "  Downloading basemap-1.0.7.tar.gz (129.7MB):  17%  22.4MB\r",
        "  Downloading basemap-1.0.7.tar.gz (129.7MB):  17%  22.4MB\r",
        "  Downloading basemap-1.0.7.tar.gz (129.7MB):  17%  22.4MB\r",
        "  Downloading basemap-1.0.7.tar.gz (129.7MB):  17%  22.4MB\r",
        "  Downloading basemap-1.0.7.tar.gz (129.7MB):  17%  22.4MB\r",
        "  Downloading basemap-1.0.7.tar.gz (129.7MB):  17%  22.4MB\r",
        "  Downloading basemap-1.0.7.tar.gz (129.7MB):  17%  22.4MB\r",
        "  Downloading basemap-1.0.7.tar.gz (129.7MB):  17%  22.4MB\r",
        "  Downloading basemap-1.0.7.tar.gz (129.7MB):  17%  22.4MB\r",
        "  Downloading basemap-1.0.7.tar.gz (129.7MB):  17%  22.5MB"
       ]
      },
      {
       "output_type": "stream",
       "stream": "stdout",
       "text": [
        "\r",
        "  Downloading basemap-1.0.7.tar.gz (129.7MB):  17%  22.5MB\r",
        "  Downloading basemap-1.0.7.tar.gz (129.7MB):  17%  22.5MB\r",
        "  Downloading basemap-1.0.7.tar.gz (129.7MB):  17%  22.5MB\r",
        "  Downloading basemap-1.0.7.tar.gz (129.7MB):  17%  22.5MB\r",
        "  Downloading basemap-1.0.7.tar.gz (129.7MB):  17%  22.5MB\r",
        "  Downloading basemap-1.0.7.tar.gz (129.7MB):  17%  22.5MB\r",
        "  Downloading basemap-1.0.7.tar.gz (129.7MB):  17%  22.5MB\r",
        "  Downloading basemap-1.0.7.tar.gz (129.7MB):  17%  22.5MB\r",
        "  Downloading basemap-1.0.7.tar.gz (129.7MB):  17%  22.5MB\r",
        "  Downloading basemap-1.0.7.tar.gz (129.7MB):  17%  22.5MB\r",
        "  Downloading basemap-1.0.7.tar.gz (129.7MB):  17%  22.5MB\r",
        "  Downloading basemap-1.0.7.tar.gz (129.7MB):  17%  22.5MB\r",
        "  Downloading basemap-1.0.7.tar.gz (129.7MB):  17%  22.5MB\r",
        "  Downloading basemap-1.0.7.tar.gz (129.7MB):  17%  22.5MB\r",
        "  Downloading basemap-1.0.7.tar.gz (129.7MB):  17%  22.5MB\r",
        "  Downloading basemap-1.0.7.tar.gz (129.7MB):  17%  22.5MB\r",
        "  Downloading basemap-1.0.7.tar.gz (129.7MB):  17%  22.5MB"
       ]
      },
      {
       "output_type": "stream",
       "stream": "stdout",
       "text": [
        "\r",
        "  Downloading basemap-1.0.7.tar.gz (129.7MB):  17%  22.5MB\r",
        "  Downloading basemap-1.0.7.tar.gz (129.7MB):  17%  22.5MB\r",
        "  Downloading basemap-1.0.7.tar.gz (129.7MB):  17%  22.5MB\r",
        "  Downloading basemap-1.0.7.tar.gz (129.7MB):  17%  22.5MB\r",
        "  Downloading basemap-1.0.7.tar.gz (129.7MB):  17%  22.5MB\r",
        "  Downloading basemap-1.0.7.tar.gz (129.7MB):  17%  22.5MB\r",
        "  Downloading basemap-1.0.7.tar.gz (129.7MB):  17%  22.5MB\r",
        "  Downloading basemap-1.0.7.tar.gz (129.7MB):  17%  22.6MB\r",
        "  Downloading basemap-1.0.7.tar.gz (129.7MB):  17%  22.6MB\r",
        "  Downloading basemap-1.0.7.tar.gz (129.7MB):  17%  22.6MB\r",
        "  Downloading basemap-1.0.7.tar.gz (129.7MB):  17%  22.6MB\r",
        "  Downloading basemap-1.0.7.tar.gz (129.7MB):  17%  22.6MB\r",
        "  Downloading basemap-1.0.7.tar.gz (129.7MB):  17%  22.6MB\r",
        "  Downloading basemap-1.0.7.tar.gz (129.7MB):  17%  22.6MB\r",
        "  Downloading basemap-1.0.7.tar.gz (129.7MB):  17%  22.6MB\r",
        "  Downloading basemap-1.0.7.tar.gz (129.7MB):  17%  22.6MB"
       ]
      },
      {
       "output_type": "stream",
       "stream": "stdout",
       "text": [
        "\r",
        "  Downloading basemap-1.0.7.tar.gz (129.7MB):  17%  22.6MB\r",
        "  Downloading basemap-1.0.7.tar.gz (129.7MB):  17%  22.6MB\r",
        "  Downloading basemap-1.0.7.tar.gz (129.7MB):  17%  22.6MB\r",
        "  Downloading basemap-1.0.7.tar.gz (129.7MB):  17%  22.6MB\r",
        "  Downloading basemap-1.0.7.tar.gz (129.7MB):  17%  22.6MB\r",
        "  Downloading basemap-1.0.7.tar.gz (129.7MB):  17%  22.6MB\r",
        "  Downloading basemap-1.0.7.tar.gz (129.7MB):  17%  22.6MB\r",
        "  Downloading basemap-1.0.7.tar.gz (129.7MB):  17%  22.6MB\r",
        "  Downloading basemap-1.0.7.tar.gz (129.7MB):  17%  22.6MB\r",
        "  Downloading basemap-1.0.7.tar.gz (129.7MB):  17%  22.6MB\r",
        "  Downloading basemap-1.0.7.tar.gz (129.7MB):  17%  22.6MB\r",
        "  Downloading basemap-1.0.7.tar.gz (129.7MB):  17%  22.6MB\r",
        "  Downloading basemap-1.0.7.tar.gz (129.7MB):  17%  22.6MB\r",
        "  Downloading basemap-1.0.7.tar.gz (129.7MB):  17%  22.6MB\r",
        "  Downloading basemap-1.0.7.tar.gz (129.7MB):  17%  22.6MB\r",
        "  Downloading basemap-1.0.7.tar.gz (129.7MB):  17%  22.7MB\r",
        "  Downloading basemap-1.0.7.tar.gz (129.7MB):  17%  22.7MB\r",
        "  Downloading basemap-1.0.7.tar.gz (129.7MB):  17%  22.7MB\r",
        "  Downloading basemap-1.0.7.tar.gz (129.7MB):  17%  22.7MB\r",
        "  Downloading basemap-1.0.7.tar.gz (129.7MB):  17%  22.7MB"
       ]
      },
      {
       "output_type": "stream",
       "stream": "stdout",
       "text": [
        "\r",
        "  Downloading basemap-1.0.7.tar.gz (129.7MB):  17%  22.7MB\r",
        "  Downloading basemap-1.0.7.tar.gz (129.7MB):  17%  22.7MB\r",
        "  Downloading basemap-1.0.7.tar.gz (129.7MB):  17%  22.7MB\r",
        "  Downloading basemap-1.0.7.tar.gz (129.7MB):  17%  22.7MB\r",
        "  Downloading basemap-1.0.7.tar.gz (129.7MB):  17%  22.7MB\r",
        "  Downloading basemap-1.0.7.tar.gz (129.7MB):  17%  22.7MB\r",
        "  Downloading basemap-1.0.7.tar.gz (129.7MB):  17%  22.7MB\r",
        "  Downloading basemap-1.0.7.tar.gz (129.7MB):  17%  22.7MB\r",
        "  Downloading basemap-1.0.7.tar.gz (129.7MB):  17%  22.7MB\r",
        "  Downloading basemap-1.0.7.tar.gz (129.7MB):  17%  22.7MB\r",
        "  Downloading basemap-1.0.7.tar.gz (129.7MB):  17%  22.7MB\r",
        "  Downloading basemap-1.0.7.tar.gz (129.7MB):  17%  22.7MB\r",
        "  Downloading basemap-1.0.7.tar.gz (129.7MB):  17%  22.7MB"
       ]
      },
      {
       "output_type": "stream",
       "stream": "stdout",
       "text": [
        "\r",
        "  Downloading basemap-1.0.7.tar.gz (129.7MB):  17%  22.7MB\r",
        "  Downloading basemap-1.0.7.tar.gz (129.7MB):  17%  22.7MB\r",
        "  Downloading basemap-1.0.7.tar.gz (129.7MB):  17%  22.7MB\r",
        "  Downloading basemap-1.0.7.tar.gz (129.7MB):  17%  22.7MB\r",
        "  Downloading basemap-1.0.7.tar.gz (129.7MB):  17%  22.7MB\r",
        "  Downloading basemap-1.0.7.tar.gz (129.7MB):  17%  22.7MB\r",
        "  Downloading basemap-1.0.7.tar.gz (129.7MB):  17%  22.7MB\r",
        "  Downloading basemap-1.0.7.tar.gz (129.7MB):  17%  22.8MB\r",
        "  Downloading basemap-1.0.7.tar.gz (129.7MB):  17%  22.8MB\r",
        "  Downloading basemap-1.0.7.tar.gz (129.7MB):  17%  22.8MB\r",
        "  Downloading basemap-1.0.7.tar.gz (129.7MB):  17%  22.8MB\r",
        "  Downloading basemap-1.0.7.tar.gz (129.7MB):  17%  22.8MB\r",
        "  Downloading basemap-1.0.7.tar.gz (129.7MB):  17%  22.8MB\r",
        "  Downloading basemap-1.0.7.tar.gz (129.7MB):  17%  22.8MB\r",
        "  Downloading basemap-1.0.7.tar.gz (129.7MB):  17%  22.8MB\r",
        "  Downloading basemap-1.0.7.tar.gz (129.7MB):  17%  22.8MB\r",
        "  Downloading basemap-1.0.7.tar.gz (129.7MB):  17%  22.8MB"
       ]
      },
      {
       "output_type": "stream",
       "stream": "stdout",
       "text": [
        "\r",
        "  Downloading basemap-1.0.7.tar.gz (129.7MB):  17%  22.8MB\r",
        "  Downloading basemap-1.0.7.tar.gz (129.7MB):  17%  22.8MB\r",
        "  Downloading basemap-1.0.7.tar.gz (129.7MB):  17%  22.8MB\r",
        "  Downloading basemap-1.0.7.tar.gz (129.7MB):  17%  22.8MB\r",
        "  Downloading basemap-1.0.7.tar.gz (129.7MB):  17%  22.8MB\r",
        "  Downloading basemap-1.0.7.tar.gz (129.7MB):  17%  22.8MB\r",
        "  Downloading basemap-1.0.7.tar.gz (129.7MB):  17%  22.8MB\r",
        "  Downloading basemap-1.0.7.tar.gz (129.7MB):  17%  22.8MB\r",
        "  Downloading basemap-1.0.7.tar.gz (129.7MB):  17%  22.8MB\r",
        "  Downloading basemap-1.0.7.tar.gz (129.7MB):  17%  22.8MB\r",
        "  Downloading basemap-1.0.7.tar.gz (129.7MB):  17%  22.8MB\r",
        "  Downloading basemap-1.0.7.tar.gz (129.7MB):  17%  22.8MB\r",
        "  Downloading basemap-1.0.7.tar.gz (129.7MB):  17%  22.8MB\r",
        "  Downloading basemap-1.0.7.tar.gz (129.7MB):  17%  22.8MB\r",
        "  Downloading basemap-1.0.7.tar.gz (129.7MB):  17%  22.9MB\r",
        "  Downloading basemap-1.0.7.tar.gz (129.7MB):  17%  22.9MB\r",
        "  Downloading basemap-1.0.7.tar.gz (129.7MB):  17%  22.9MB\r",
        "  Downloading basemap-1.0.7.tar.gz (129.7MB):  17%  22.9MB"
       ]
      },
      {
       "output_type": "stream",
       "stream": "stdout",
       "text": [
        "\r",
        "  Downloading basemap-1.0.7.tar.gz (129.7MB):  17%  22.9MB\r",
        "  Downloading basemap-1.0.7.tar.gz (129.7MB):  17%  22.9MB\r",
        "  Downloading basemap-1.0.7.tar.gz (129.7MB):  17%  22.9MB\r",
        "  Downloading basemap-1.0.7.tar.gz (129.7MB):  17%  22.9MB\r",
        "  Downloading basemap-1.0.7.tar.gz (129.7MB):  17%  22.9MB\r",
        "  Downloading basemap-1.0.7.tar.gz (129.7MB):  17%  22.9MB\r",
        "  Downloading basemap-1.0.7.tar.gz (129.7MB):  17%  22.9MB\r",
        "  Downloading basemap-1.0.7.tar.gz (129.7MB):  17%  22.9MB\r",
        "  Downloading basemap-1.0.7.tar.gz (129.7MB):  17%  22.9MB\r",
        "  Downloading basemap-1.0.7.tar.gz (129.7MB):  17%  22.9MB\r",
        "  Downloading basemap-1.0.7.tar.gz (129.7MB):  17%  22.9MB\r",
        "  Downloading basemap-1.0.7.tar.gz (129.7MB):  17%  22.9MB\r",
        "  Downloading basemap-1.0.7.tar.gz (129.7MB):  17%  22.9MB\r",
        "  Downloading basemap-1.0.7.tar.gz (129.7MB):  17%  22.9MB\r",
        "  Downloading basemap-1.0.7.tar.gz (129.7MB):  17%  22.9MB\r",
        "  Downloading basemap-1.0.7.tar.gz (129.7MB):  17%  22.9MB\r",
        "  Downloading basemap-1.0.7.tar.gz (129.7MB):  17%  22.9MB\r",
        "  Downloading basemap-1.0.7.tar.gz (129.7MB):  17%  22.9MB\r",
        "  Downloading basemap-1.0.7.tar.gz (129.7MB):  17%  22.9MB\r",
        "  Downloading basemap-1.0.7.tar.gz (129.7MB):  17%  22.9MB\r",
        "  Downloading basemap-1.0.7.tar.gz (129.7MB):  17%  22.9MB\r",
        "  Downloading basemap-1.0.7.tar.gz (129.7MB):  17%  23.0MB"
       ]
      },
      {
       "output_type": "stream",
       "stream": "stdout",
       "text": [
        "\r",
        "  Downloading basemap-1.0.7.tar.gz (129.7MB):  17%  23.0MB\r",
        "  Downloading basemap-1.0.7.tar.gz (129.7MB):  17%  23.0MB\r",
        "  Downloading basemap-1.0.7.tar.gz (129.7MB):  17%  23.0MB\r",
        "  Downloading basemap-1.0.7.tar.gz (129.7MB):  17%  23.0MB\r",
        "  Downloading basemap-1.0.7.tar.gz (129.7MB):  17%  23.0MB\r",
        "  Downloading basemap-1.0.7.tar.gz (129.7MB):  17%  23.0MB\r",
        "  Downloading basemap-1.0.7.tar.gz (129.7MB):  17%  23.0MB\r",
        "  Downloading basemap-1.0.7.tar.gz (129.7MB):  17%  23.0MB\r",
        "  Downloading basemap-1.0.7.tar.gz (129.7MB):  17%  23.0MB\r",
        "  Downloading basemap-1.0.7.tar.gz (129.7MB):  17%  23.0MB\r",
        "  Downloading basemap-1.0.7.tar.gz (129.7MB):  17%  23.0MB\r",
        "  Downloading basemap-1.0.7.tar.gz (129.7MB):  17%  23.0MB\r",
        "  Downloading basemap-1.0.7.tar.gz (129.7MB):  17%  23.0MB\r",
        "  Downloading basemap-1.0.7.tar.gz (129.7MB):  17%  23.0MB\r",
        "  Downloading basemap-1.0.7.tar.gz (129.7MB):  17%  23.0MB\r",
        "  Downloading basemap-1.0.7.tar.gz (129.7MB):  17%  23.0MB\r",
        "  Downloading basemap-1.0.7.tar.gz (129.7MB):  17%  23.0MB\r",
        "  Downloading basemap-1.0.7.tar.gz (129.7MB):  17%  23.0MB"
       ]
      },
      {
       "output_type": "stream",
       "stream": "stdout",
       "text": [
        "\r",
        "  Downloading basemap-1.0.7.tar.gz (129.7MB):  17%  23.0MB\r",
        "  Downloading basemap-1.0.7.tar.gz (129.7MB):  17%  23.0MB\r",
        "  Downloading basemap-1.0.7.tar.gz (129.7MB):  17%  23.0MB\r",
        "  Downloading basemap-1.0.7.tar.gz (129.7MB):  17%  23.0MB\r",
        "  Downloading basemap-1.0.7.tar.gz (129.7MB):  17%  23.0MB\r",
        "  Downloading basemap-1.0.7.tar.gz (129.7MB):  17%  23.1MB\r",
        "  Downloading basemap-1.0.7.tar.gz (129.7MB):  17%  23.1MB\r",
        "  Downloading basemap-1.0.7.tar.gz (129.7MB):  17%  23.1MB\r",
        "  Downloading basemap-1.0.7.tar.gz (129.7MB):  17%  23.1MB\r",
        "  Downloading basemap-1.0.7.tar.gz (129.7MB):  17%  23.1MB\r",
        "  Downloading basemap-1.0.7.tar.gz (129.7MB):  17%  23.1MB\r",
        "  Downloading basemap-1.0.7.tar.gz (129.7MB):  17%  23.1MB\r",
        "  Downloading basemap-1.0.7.tar.gz (129.7MB):  17%  23.1MB\r",
        "  Downloading basemap-1.0.7.tar.gz (129.7MB):  17%  23.1MB\r",
        "  Downloading basemap-1.0.7.tar.gz (129.7MB):  17%  23.1MB\r",
        "  Downloading basemap-1.0.7.tar.gz (129.7MB):  17%  23.1MB\r",
        "  Downloading basemap-1.0.7.tar.gz (129.7MB):  17%  23.1MB\r",
        "  Downloading basemap-1.0.7.tar.gz (129.7MB):  17%  23.1MB\r",
        "  Downloading basemap-1.0.7.tar.gz (129.7MB):  17%  23.1MB"
       ]
      },
      {
       "output_type": "stream",
       "stream": "stdout",
       "text": [
        "\r",
        "  Downloading basemap-1.0.7.tar.gz (129.7MB):  17%  23.1MB\r",
        "  Downloading basemap-1.0.7.tar.gz (129.7MB):  17%  23.1MB\r",
        "  Downloading basemap-1.0.7.tar.gz (129.7MB):  17%  23.1MB\r",
        "  Downloading basemap-1.0.7.tar.gz (129.7MB):  17%  23.1MB\r",
        "  Downloading basemap-1.0.7.tar.gz (129.7MB):  17%  23.1MB\r",
        "  Downloading basemap-1.0.7.tar.gz (129.7MB):  17%  23.1MB\r",
        "  Downloading basemap-1.0.7.tar.gz (129.7MB):  17%  23.1MB\r",
        "  Downloading basemap-1.0.7.tar.gz (129.7MB):  17%  23.1MB\r",
        "  Downloading basemap-1.0.7.tar.gz (129.7MB):  17%  23.1MB\r",
        "  Downloading basemap-1.0.7.tar.gz (129.7MB):  17%  23.1MB\r",
        "  Downloading basemap-1.0.7.tar.gz (129.7MB):  17%  23.2MB\r",
        "  Downloading basemap-1.0.7.tar.gz (129.7MB):  17%  23.2MB\r",
        "  Downloading basemap-1.0.7.tar.gz (129.7MB):  17%  23.2MB\r",
        "  Downloading basemap-1.0.7.tar.gz (129.7MB):  17%  23.2MB\r",
        "  Downloading basemap-1.0.7.tar.gz (129.7MB):  17%  23.2MB\r",
        "  Downloading basemap-1.0.7.tar.gz (129.7MB):  17%  23.2MB\r",
        "  Downloading basemap-1.0.7.tar.gz (129.7MB):  17%  23.2MB\r",
        "  Downloading basemap-1.0.7.tar.gz (129.7MB):  17%  23.2MB"
       ]
      },
      {
       "output_type": "stream",
       "stream": "stdout",
       "text": [
        "\r",
        "  Downloading basemap-1.0.7.tar.gz (129.7MB):  17%  23.2MB\r",
        "  Downloading basemap-1.0.7.tar.gz (129.7MB):  17%  23.2MB\r",
        "  Downloading basemap-1.0.7.tar.gz (129.7MB):  17%  23.2MB\r",
        "  Downloading basemap-1.0.7.tar.gz (129.7MB):  17%  23.2MB\r",
        "  Downloading basemap-1.0.7.tar.gz (129.7MB):  17%  23.2MB\r",
        "  Downloading basemap-1.0.7.tar.gz (129.7MB):  17%  23.2MB\r",
        "  Downloading basemap-1.0.7.tar.gz (129.7MB):  17%  23.2MB\r",
        "  Downloading basemap-1.0.7.tar.gz (129.7MB):  17%  23.2MB\r",
        "  Downloading basemap-1.0.7.tar.gz (129.7MB):  17%  23.2MB\r",
        "  Downloading basemap-1.0.7.tar.gz (129.7MB):  17%  23.2MB\r",
        "  Downloading basemap-1.0.7.tar.gz (129.7MB):  17%  23.2MB"
       ]
      },
      {
       "output_type": "stream",
       "stream": "stdout",
       "text": [
        "\r",
        "  Downloading basemap-1.0.7.tar.gz (129.7MB):  17%  23.2MB\r",
        "  Downloading basemap-1.0.7.tar.gz (129.7MB):  17%  23.2MB\r",
        "  Downloading basemap-1.0.7.tar.gz (129.7MB):  17%  23.2MB\r",
        "  Downloading basemap-1.0.7.tar.gz (129.7MB):  17%  23.2MB\r",
        "  Downloading basemap-1.0.7.tar.gz (129.7MB):  17%  23.2MB\r",
        "  Downloading basemap-1.0.7.tar.gz (129.7MB):  17%  23.2MB\r",
        "  Downloading basemap-1.0.7.tar.gz (129.7MB):  17%  23.3MB\r",
        "  Downloading basemap-1.0.7.tar.gz (129.7MB):  17%  23.3MB\r",
        "  Downloading basemap-1.0.7.tar.gz (129.7MB):  17%  23.3MB\r",
        "  Downloading basemap-1.0.7.tar.gz (129.7MB):  17%  23.3MB\r",
        "  Downloading basemap-1.0.7.tar.gz (129.7MB):  17%  23.3MB\r",
        "  Downloading basemap-1.0.7.tar.gz (129.7MB):  17%  23.3MB\r",
        "  Downloading basemap-1.0.7.tar.gz (129.7MB):  17%  23.3MB\r",
        "  Downloading basemap-1.0.7.tar.gz (129.7MB):  17%  23.3MB\r",
        "  Downloading basemap-1.0.7.tar.gz (129.7MB):  17%  23.3MB"
       ]
      },
      {
       "output_type": "stream",
       "stream": "stdout",
       "text": [
        "\r",
        "  Downloading basemap-1.0.7.tar.gz (129.7MB):  17%  23.3MB\r",
        "  Downloading basemap-1.0.7.tar.gz (129.7MB):  17%  23.3MB\r",
        "  Downloading basemap-1.0.7.tar.gz (129.7MB):  17%  23.3MB\r",
        "  Downloading basemap-1.0.7.tar.gz (129.7MB):  17%  23.3MB\r",
        "  Downloading basemap-1.0.7.tar.gz (129.7MB):  17%  23.3MB\r",
        "  Downloading basemap-1.0.7.tar.gz (129.7MB):  17%  23.3MB\r",
        "  Downloading basemap-1.0.7.tar.gz (129.7MB):  17%  23.3MB\r",
        "  Downloading basemap-1.0.7.tar.gz (129.7MB):  17%  23.3MB\r",
        "  Downloading basemap-1.0.7.tar.gz (129.7MB):  17%  23.3MB\r",
        "  Downloading basemap-1.0.7.tar.gz (129.7MB):  17%  23.3MB\r",
        "  Downloading basemap-1.0.7.tar.gz (129.7MB):  17%  23.3MB\r",
        "  Downloading basemap-1.0.7.tar.gz (129.7MB):  17%  23.3MB\r",
        "  Downloading basemap-1.0.7.tar.gz (129.7MB):  17%  23.3MB\r",
        "  Downloading basemap-1.0.7.tar.gz (129.7MB):  17%  23.3MB\r",
        "  Downloading basemap-1.0.7.tar.gz (129.7MB):  18%  23.3MB\r",
        "  Downloading basemap-1.0.7.tar.gz (129.7MB):  18%  23.4MB\r",
        "  Downloading basemap-1.0.7.tar.gz (129.7MB):  18%  23.4MB\r",
        "  Downloading basemap-1.0.7.tar.gz (129.7MB):  18%  23.4MB\r",
        "  Downloading basemap-1.0.7.tar.gz (129.7MB):  18%  23.4MB\r",
        "  Downloading basemap-1.0.7.tar.gz (129.7MB):  18%  23.4MB\r",
        "  Downloading basemap-1.0.7.tar.gz (129.7MB):  18%  23.4MB\r",
        "  Downloading basemap-1.0.7.tar.gz (129.7MB):  18%  23.4MB\r",
        "  Downloading basemap-1.0.7.tar.gz (129.7MB):  18%  23.4MB\r",
        "  Downloading basemap-1.0.7.tar.gz (129.7MB):  18%  23.4MB\r",
        "  Downloading basemap-1.0.7.tar.gz (129.7MB):  18%  23.4MB"
       ]
      },
      {
       "output_type": "stream",
       "stream": "stdout",
       "text": [
        "\r",
        "  Downloading basemap-1.0.7.tar.gz (129.7MB):  18%  23.4MB\r",
        "  Downloading basemap-1.0.7.tar.gz (129.7MB):  18%  23.4MB\r",
        "  Downloading basemap-1.0.7.tar.gz (129.7MB):  18%  23.4MB\r",
        "  Downloading basemap-1.0.7.tar.gz (129.7MB):  18%  23.4MB\r",
        "  Downloading basemap-1.0.7.tar.gz (129.7MB):  18%  23.4MB\r",
        "  Downloading basemap-1.0.7.tar.gz (129.7MB):  18%  23.4MB\r",
        "  Downloading basemap-1.0.7.tar.gz (129.7MB):  18%  23.4MB\r",
        "  Downloading basemap-1.0.7.tar.gz (129.7MB):  18%  23.4MB\r",
        "  Downloading basemap-1.0.7.tar.gz (129.7MB):  18%  23.4MB\r",
        "  Downloading basemap-1.0.7.tar.gz (129.7MB):  18%  23.4MB\r",
        "  Downloading basemap-1.0.7.tar.gz (129.7MB):  18%  23.4MB\r",
        "  Downloading basemap-1.0.7.tar.gz (129.7MB):  18%  23.4MB\r",
        "  Downloading basemap-1.0.7.tar.gz (129.7MB):  18%  23.4MB\r",
        "  Downloading basemap-1.0.7.tar.gz (129.7MB):  18%  23.4MB\r",
        "  Downloading basemap-1.0.7.tar.gz (129.7MB):  18%  23.4MB\r",
        "  Downloading basemap-1.0.7.tar.gz (129.7MB):  18%  23.5MB\r",
        "  Downloading basemap-1.0.7.tar.gz (129.7MB):  18%  23.5MB\r",
        "  Downloading basemap-1.0.7.tar.gz (129.7MB):  18%  23.5MB\r",
        "  Downloading basemap-1.0.7.tar.gz (129.7MB):  18%  23.5MB\r",
        "  Downloading basemap-1.0.7.tar.gz (129.7MB):  18%  23.5MB\r",
        "  Downloading basemap-1.0.7.tar.gz (129.7MB):  18%  23.5MB"
       ]
      },
      {
       "output_type": "stream",
       "stream": "stdout",
       "text": [
        "\r",
        "  Downloading basemap-1.0.7.tar.gz (129.7MB):  18%  23.5MB\r",
        "  Downloading basemap-1.0.7.tar.gz (129.7MB):  18%  23.5MB\r",
        "  Downloading basemap-1.0.7.tar.gz (129.7MB):  18%  23.5MB\r",
        "  Downloading basemap-1.0.7.tar.gz (129.7MB):  18%  23.5MB\r",
        "  Downloading basemap-1.0.7.tar.gz (129.7MB):  18%  23.5MB\r",
        "  Downloading basemap-1.0.7.tar.gz (129.7MB):  18%  23.5MB\r",
        "  Downloading basemap-1.0.7.tar.gz (129.7MB):  18%  23.5MB\r",
        "  Downloading basemap-1.0.7.tar.gz (129.7MB):  18%  23.5MB\r",
        "  Downloading basemap-1.0.7.tar.gz (129.7MB):  18%  23.5MB\r",
        "  Downloading basemap-1.0.7.tar.gz (129.7MB):  18%  23.5MB\r",
        "  Downloading basemap-1.0.7.tar.gz (129.7MB):  18%  23.5MB\r",
        "  Downloading basemap-1.0.7.tar.gz (129.7MB):  18%  23.5MB\r",
        "  Downloading basemap-1.0.7.tar.gz (129.7MB):  18%  23.5MB\r",
        "  Downloading basemap-1.0.7.tar.gz (129.7MB):  18%  23.5MB\r",
        "  Downloading basemap-1.0.7.tar.gz (129.7MB):  18%  23.5MB\r",
        "  Downloading basemap-1.0.7.tar.gz (129.7MB):  18%  23.5MB\r",
        "  Downloading basemap-1.0.7.tar.gz (129.7MB):  18%  23.5MB\r",
        "  Downloading basemap-1.0.7.tar.gz (129.7MB):  18%  23.5MB"
       ]
      },
      {
       "output_type": "stream",
       "stream": "stdout",
       "text": [
        "\r",
        "  Downloading basemap-1.0.7.tar.gz (129.7MB):  18%  23.6MB\r",
        "  Downloading basemap-1.0.7.tar.gz (129.7MB):  18%  23.6MB\r",
        "  Downloading basemap-1.0.7.tar.gz (129.7MB):  18%  23.6MB\r",
        "  Downloading basemap-1.0.7.tar.gz (129.7MB):  18%  23.6MB\r",
        "  Downloading basemap-1.0.7.tar.gz (129.7MB):  18%  23.6MB\r",
        "  Downloading basemap-1.0.7.tar.gz (129.7MB):  18%  23.6MB\r",
        "  Downloading basemap-1.0.7.tar.gz (129.7MB):  18%  23.6MB\r",
        "  Downloading basemap-1.0.7.tar.gz (129.7MB):  18%  23.6MB\r",
        "  Downloading basemap-1.0.7.tar.gz (129.7MB):  18%  23.6MB\r",
        "  Downloading basemap-1.0.7.tar.gz (129.7MB):  18%  23.6MB\r",
        "  Downloading basemap-1.0.7.tar.gz (129.7MB):  18%  23.6MB\r",
        "  Downloading basemap-1.0.7.tar.gz (129.7MB):  18%  23.6MB\r",
        "  Downloading basemap-1.0.7.tar.gz (129.7MB):  18%  23.6MB\r",
        "  Downloading basemap-1.0.7.tar.gz (129.7MB):  18%  23.6MB\r",
        "  Downloading basemap-1.0.7.tar.gz (129.7MB):  18%  23.6MB\r",
        "  Downloading basemap-1.0.7.tar.gz (129.7MB):  18%  23.6MB\r",
        "  Downloading basemap-1.0.7.tar.gz (129.7MB):  18%  23.6MB\r",
        "  Downloading basemap-1.0.7.tar.gz (129.7MB):  18%  23.6MB\r",
        "  Downloading basemap-1.0.7.tar.gz (129.7MB):  18%  23.6MB"
       ]
      },
      {
       "output_type": "stream",
       "stream": "stdout",
       "text": [
        "\r",
        "  Downloading basemap-1.0.7.tar.gz (129.7MB):  18%  23.6MB\r",
        "  Downloading basemap-1.0.7.tar.gz (129.7MB):  18%  23.6MB\r",
        "  Downloading basemap-1.0.7.tar.gz (129.7MB):  18%  23.6MB\r",
        "  Downloading basemap-1.0.7.tar.gz (129.7MB):  18%  23.6MB\r",
        "  Downloading basemap-1.0.7.tar.gz (129.7MB):  18%  23.6MB\r",
        "  Downloading basemap-1.0.7.tar.gz (129.7MB):  18%  23.7MB\r",
        "  Downloading basemap-1.0.7.tar.gz (129.7MB):  18%  23.7MB\r",
        "  Downloading basemap-1.0.7.tar.gz (129.7MB):  18%  23.7MB\r",
        "  Downloading basemap-1.0.7.tar.gz (129.7MB):  18%  23.7MB\r",
        "  Downloading basemap-1.0.7.tar.gz (129.7MB):  18%  23.7MB\r",
        "  Downloading basemap-1.0.7.tar.gz (129.7MB):  18%  23.7MB\r",
        "  Downloading basemap-1.0.7.tar.gz (129.7MB):  18%  23.7MB\r",
        "  Downloading basemap-1.0.7.tar.gz (129.7MB):  18%  23.7MB\r",
        "  Downloading basemap-1.0.7.tar.gz (129.7MB):  18%  23.7MB\r",
        "  Downloading basemap-1.0.7.tar.gz (129.7MB):  18%  23.7MB\r",
        "  Downloading basemap-1.0.7.tar.gz (129.7MB):  18%  23.7MB\r",
        "  Downloading basemap-1.0.7.tar.gz (129.7MB):  18%  23.7MB\r",
        "  Downloading basemap-1.0.7.tar.gz (129.7MB):  18%  23.7MB"
       ]
      },
      {
       "output_type": "stream",
       "stream": "stdout",
       "text": [
        "\r",
        "  Downloading basemap-1.0.7.tar.gz (129.7MB):  18%  23.7MB\r",
        "  Downloading basemap-1.0.7.tar.gz (129.7MB):  18%  23.7MB\r",
        "  Downloading basemap-1.0.7.tar.gz (129.7MB):  18%  23.7MB\r",
        "  Downloading basemap-1.0.7.tar.gz (129.7MB):  18%  23.7MB\r",
        "  Downloading basemap-1.0.7.tar.gz (129.7MB):  18%  23.7MB\r",
        "  Downloading basemap-1.0.7.tar.gz (129.7MB):  18%  23.7MB\r",
        "  Downloading basemap-1.0.7.tar.gz (129.7MB):  18%  23.7MB\r",
        "  Downloading basemap-1.0.7.tar.gz (129.7MB):  18%  23.7MB\r",
        "  Downloading basemap-1.0.7.tar.gz (129.7MB):  18%  23.7MB\r",
        "  Downloading basemap-1.0.7.tar.gz (129.7MB):  18%  23.7MB\r",
        "  Downloading basemap-1.0.7.tar.gz (129.7MB):  18%  23.7MB\r",
        "  Downloading basemap-1.0.7.tar.gz (129.7MB):  18%  23.7MB"
       ]
      },
      {
       "output_type": "stream",
       "stream": "stdout",
       "text": [
        "\r",
        "  Downloading basemap-1.0.7.tar.gz (129.7MB):  18%  23.8MB\r",
        "  Downloading basemap-1.0.7.tar.gz (129.7MB):  18%  23.8MB\r",
        "  Downloading basemap-1.0.7.tar.gz (129.7MB):  18%  23.8MB\r",
        "  Downloading basemap-1.0.7.tar.gz (129.7MB):  18%  23.8MB\r",
        "  Downloading basemap-1.0.7.tar.gz (129.7MB):  18%  23.8MB\r",
        "  Downloading basemap-1.0.7.tar.gz (129.7MB):  18%  23.8MB\r",
        "  Downloading basemap-1.0.7.tar.gz (129.7MB):  18%  23.8MB\r",
        "  Downloading basemap-1.0.7.tar.gz (129.7MB):  18%  23.8MB\r",
        "  Downloading basemap-1.0.7.tar.gz (129.7MB):  18%  23.8MB\r",
        "  Downloading basemap-1.0.7.tar.gz (129.7MB):  18%  23.8MB\r",
        "  Downloading basemap-1.0.7.tar.gz (129.7MB):  18%  23.8MB\r",
        "  Downloading basemap-1.0.7.tar.gz (129.7MB):  18%  23.8MB\r",
        "  Downloading basemap-1.0.7.tar.gz (129.7MB):  18%  23.8MB\r",
        "  Downloading basemap-1.0.7.tar.gz (129.7MB):  18%  23.8MB\r",
        "  Downloading basemap-1.0.7.tar.gz (129.7MB):  18%  23.8MB\r",
        "  Downloading basemap-1.0.7.tar.gz (129.7MB):  18%  23.8MB\r",
        "  Downloading basemap-1.0.7.tar.gz (129.7MB):  18%  23.8MB\r",
        "  Downloading basemap-1.0.7.tar.gz (129.7MB):  18%  23.8MB\r",
        "  Downloading basemap-1.0.7.tar.gz (129.7MB):  18%  23.8MB\r",
        "  Downloading basemap-1.0.7.tar.gz (129.7MB):  18%  23.8MB\r",
        "  Downloading basemap-1.0.7.tar.gz (129.7MB):  18%  23.8MB"
       ]
      },
      {
       "output_type": "stream",
       "stream": "stdout",
       "text": [
        "\r",
        "  Downloading basemap-1.0.7.tar.gz (129.7MB):  18%  23.8MB\r",
        "  Downloading basemap-1.0.7.tar.gz (129.7MB):  18%  23.8MB\r",
        "  Downloading basemap-1.0.7.tar.gz (129.7MB):  18%  23.8MB\r",
        "  Downloading basemap-1.0.7.tar.gz (129.7MB):  18%  23.9MB\r",
        "  Downloading basemap-1.0.7.tar.gz (129.7MB):  18%  23.9MB\r",
        "  Downloading basemap-1.0.7.tar.gz (129.7MB):  18%  23.9MB\r",
        "  Downloading basemap-1.0.7.tar.gz (129.7MB):  18%  23.9MB\r",
        "  Downloading basemap-1.0.7.tar.gz (129.7MB):  18%  23.9MB\r",
        "  Downloading basemap-1.0.7.tar.gz (129.7MB):  18%  23.9MB\r",
        "  Downloading basemap-1.0.7.tar.gz (129.7MB):  18%  23.9MB\r",
        "  Downloading basemap-1.0.7.tar.gz (129.7MB):  18%  23.9MB\r",
        "  Downloading basemap-1.0.7.tar.gz (129.7MB):  18%  23.9MB\r",
        "  Downloading basemap-1.0.7.tar.gz (129.7MB):  18%  23.9MB\r",
        "  Downloading basemap-1.0.7.tar.gz (129.7MB):  18%  23.9MB\r",
        "  Downloading basemap-1.0.7.tar.gz (129.7MB):  18%  23.9MB\r",
        "  Downloading basemap-1.0.7.tar.gz (129.7MB):  18%  23.9MB\r",
        "  Downloading basemap-1.0.7.tar.gz (129.7MB):  18%  23.9MB\r",
        "  Downloading basemap-1.0.7.tar.gz (129.7MB):  18%  23.9MB\r",
        "  Downloading basemap-1.0.7.tar.gz (129.7MB):  18%  23.9MB\r",
        "  Downloading basemap-1.0.7.tar.gz (129.7MB):  18%  23.9MB"
       ]
      },
      {
       "output_type": "stream",
       "stream": "stdout",
       "text": [
        "\r",
        "  Downloading basemap-1.0.7.tar.gz (129.7MB):  18%  23.9MB\r",
        "  Downloading basemap-1.0.7.tar.gz (129.7MB):  18%  23.9MB\r",
        "  Downloading basemap-1.0.7.tar.gz (129.7MB):  18%  23.9MB\r",
        "  Downloading basemap-1.0.7.tar.gz (129.7MB):  18%  23.9MB\r",
        "  Downloading basemap-1.0.7.tar.gz (129.7MB):  18%  23.9MB\r",
        "  Downloading basemap-1.0.7.tar.gz (129.7MB):  18%  23.9MB\r",
        "  Downloading basemap-1.0.7.tar.gz (129.7MB):  18%  23.9MB\r",
        "  Downloading basemap-1.0.7.tar.gz (129.7MB):  18%  23.9MB\r",
        "  Downloading basemap-1.0.7.tar.gz (129.7MB):  18%  24.0MB\r",
        "  Downloading basemap-1.0.7.tar.gz (129.7MB):  18%  24.0MB\r",
        "  Downloading basemap-1.0.7.tar.gz (129.7MB):  18%  24.0MB\r",
        "  Downloading basemap-1.0.7.tar.gz (129.7MB):  18%  24.0MB\r",
        "  Downloading basemap-1.0.7.tar.gz (129.7MB):  18%  24.0MB\r",
        "  Downloading basemap-1.0.7.tar.gz (129.7MB):  18%  24.0MB\r",
        "  Downloading basemap-1.0.7.tar.gz (129.7MB):  18%  24.0MB\r",
        "  Downloading basemap-1.0.7.tar.gz (129.7MB):  18%  24.0MB\r",
        "  Downloading basemap-1.0.7.tar.gz (129.7MB):  18%  24.0MB\r",
        "  Downloading basemap-1.0.7.tar.gz (129.7MB):  18%  24.0MB\r",
        "  Downloading basemap-1.0.7.tar.gz (129.7MB):  18%  24.0MB\r",
        "  Downloading basemap-1.0.7.tar.gz (129.7MB):  18%  24.0MB\r",
        "  Downloading basemap-1.0.7.tar.gz (129.7MB):  18%  24.0MB"
       ]
      },
      {
       "output_type": "stream",
       "stream": "stdout",
       "text": [
        "\r",
        "  Downloading basemap-1.0.7.tar.gz (129.7MB):  18%  24.0MB\r",
        "  Downloading basemap-1.0.7.tar.gz (129.7MB):  18%  24.0MB\r",
        "  Downloading basemap-1.0.7.tar.gz (129.7MB):  18%  24.0MB\r",
        "  Downloading basemap-1.0.7.tar.gz (129.7MB):  18%  24.0MB\r",
        "  Downloading basemap-1.0.7.tar.gz (129.7MB):  18%  24.0MB\r",
        "  Downloading basemap-1.0.7.tar.gz (129.7MB):  18%  24.0MB\r",
        "  Downloading basemap-1.0.7.tar.gz (129.7MB):  18%  24.0MB\r",
        "  Downloading basemap-1.0.7.tar.gz (129.7MB):  18%  24.0MB\r",
        "  Downloading basemap-1.0.7.tar.gz (129.7MB):  18%  24.0MB\r",
        "  Downloading basemap-1.0.7.tar.gz (129.7MB):  18%  24.0MB\r",
        "  Downloading basemap-1.0.7.tar.gz (129.7MB):  18%  24.0MB\r",
        "  Downloading basemap-1.0.7.tar.gz (129.7MB):  18%  24.1MB\r",
        "  Downloading basemap-1.0.7.tar.gz (129.7MB):  18%  24.1MB\r",
        "  Downloading basemap-1.0.7.tar.gz (129.7MB):  18%  24.1MB\r",
        "  Downloading basemap-1.0.7.tar.gz (129.7MB):  18%  24.1MB\r",
        "  Downloading basemap-1.0.7.tar.gz (129.7MB):  18%  24.1MB\r",
        "  Downloading basemap-1.0.7.tar.gz (129.7MB):  18%  24.1MB\r",
        "  Downloading basemap-1.0.7.tar.gz (129.7MB):  18%  24.1MB\r",
        "  Downloading basemap-1.0.7.tar.gz (129.7MB):  18%  24.1MB\r",
        "  Downloading basemap-1.0.7.tar.gz (129.7MB):  18%  24.1MB\r",
        "  Downloading basemap-1.0.7.tar.gz (129.7MB):  18%  24.1MB"
       ]
      },
      {
       "output_type": "stream",
       "stream": "stdout",
       "text": [
        "\r",
        "  Downloading basemap-1.0.7.tar.gz (129.7MB):  18%  24.1MB\r",
        "  Downloading basemap-1.0.7.tar.gz (129.7MB):  18%  24.1MB\r",
        "  Downloading basemap-1.0.7.tar.gz (129.7MB):  18%  24.1MB\r",
        "  Downloading basemap-1.0.7.tar.gz (129.7MB):  18%  24.1MB\r",
        "  Downloading basemap-1.0.7.tar.gz (129.7MB):  18%  24.1MB\r",
        "  Downloading basemap-1.0.7.tar.gz (129.7MB):  18%  24.1MB\r",
        "  Downloading basemap-1.0.7.tar.gz (129.7MB):  18%  24.1MB\r",
        "  Downloading basemap-1.0.7.tar.gz (129.7MB):  18%  24.1MB\r",
        "  Downloading basemap-1.0.7.tar.gz (129.7MB):  18%  24.1MB\r",
        "  Downloading basemap-1.0.7.tar.gz (129.7MB):  18%  24.1MB\r",
        "  Downloading basemap-1.0.7.tar.gz (129.7MB):  18%  24.1MB\r",
        "  Downloading basemap-1.0.7.tar.gz (129.7MB):  18%  24.1MB"
       ]
      },
      {
       "output_type": "stream",
       "stream": "stdout",
       "text": [
        "\r",
        "  Downloading basemap-1.0.7.tar.gz (129.7MB):  18%  24.1MB\r",
        "  Downloading basemap-1.0.7.tar.gz (129.7MB):  18%  24.1MB\r",
        "  Downloading basemap-1.0.7.tar.gz (129.7MB):  18%  24.2MB\r",
        "  Downloading basemap-1.0.7.tar.gz (129.7MB):  18%  24.2MB\r",
        "  Downloading basemap-1.0.7.tar.gz (129.7MB):  18%  24.2MB\r",
        "  Downloading basemap-1.0.7.tar.gz (129.7MB):  18%  24.2MB\r",
        "  Downloading basemap-1.0.7.tar.gz (129.7MB):  18%  24.2MB\r",
        "  Downloading basemap-1.0.7.tar.gz (129.7MB):  18%  24.2MB\r",
        "  Downloading basemap-1.0.7.tar.gz (129.7MB):  18%  24.2MB\r",
        "  Downloading basemap-1.0.7.tar.gz (129.7MB):  18%  24.2MB\r",
        "  Downloading basemap-1.0.7.tar.gz (129.7MB):  18%  24.2MB\r",
        "  Downloading basemap-1.0.7.tar.gz (129.7MB):  18%  24.2MB\r",
        "  Downloading basemap-1.0.7.tar.gz (129.7MB):  18%  24.2MB\r",
        "  Downloading basemap-1.0.7.tar.gz (129.7MB):  18%  24.2MB\r",
        "  Downloading basemap-1.0.7.tar.gz (129.7MB):  18%  24.2MB\r",
        "  Downloading basemap-1.0.7.tar.gz (129.7MB):  18%  24.2MB\r",
        "  Downloading basemap-1.0.7.tar.gz (129.7MB):  18%  24.2MB\r",
        "  Downloading basemap-1.0.7.tar.gz (129.7MB):  18%  24.2MB\r",
        "  Downloading basemap-1.0.7.tar.gz (129.7MB):  18%  24.2MB\r",
        "  Downloading basemap-1.0.7.tar.gz (129.7MB):  18%  24.2MB\r",
        "  Downloading basemap-1.0.7.tar.gz (129.7MB):  18%  24.2MB\r",
        "  Downloading basemap-1.0.7.tar.gz (129.7MB):  18%  24.2MB\r",
        "  Downloading basemap-1.0.7.tar.gz (129.7MB):  18%  24.2MB\r",
        "  Downloading basemap-1.0.7.tar.gz (129.7MB):  18%  24.2MB"
       ]
      },
      {
       "output_type": "stream",
       "stream": "stdout",
       "text": [
        "\r",
        "  Downloading basemap-1.0.7.tar.gz (129.7MB):  18%  24.2MB\r",
        "  Downloading basemap-1.0.7.tar.gz (129.7MB):  18%  24.2MB\r",
        "  Downloading basemap-1.0.7.tar.gz (129.7MB):  18%  24.2MB\r",
        "  Downloading basemap-1.0.7.tar.gz (129.7MB):  18%  24.3MB\r",
        "  Downloading basemap-1.0.7.tar.gz (129.7MB):  18%  24.3MB\r",
        "  Downloading basemap-1.0.7.tar.gz (129.7MB):  18%  24.3MB\r",
        "  Downloading basemap-1.0.7.tar.gz (129.7MB):  18%  24.3MB\r",
        "  Downloading basemap-1.0.7.tar.gz (129.7MB):  18%  24.3MB\r",
        "  Downloading basemap-1.0.7.tar.gz (129.7MB):  18%  24.3MB\r",
        "  Downloading basemap-1.0.7.tar.gz (129.7MB):  18%  24.3MB\r",
        "  Downloading basemap-1.0.7.tar.gz (129.7MB):  18%  24.3MB\r",
        "  Downloading basemap-1.0.7.tar.gz (129.7MB):  18%  24.3MB\r",
        "  Downloading basemap-1.0.7.tar.gz (129.7MB):  18%  24.3MB"
       ]
      },
      {
       "output_type": "stream",
       "stream": "stdout",
       "text": [
        "\r",
        "  Downloading basemap-1.0.7.tar.gz (129.7MB):  18%  24.3MB\r",
        "  Downloading basemap-1.0.7.tar.gz (129.7MB):  18%  24.3MB\r",
        "  Downloading basemap-1.0.7.tar.gz (129.7MB):  18%  24.3MB\r",
        "  Downloading basemap-1.0.7.tar.gz (129.7MB):  18%  24.3MB\r",
        "  Downloading basemap-1.0.7.tar.gz (129.7MB):  18%  24.3MB\r",
        "  Downloading basemap-1.0.7.tar.gz (129.7MB):  18%  24.3MB\r",
        "  Downloading basemap-1.0.7.tar.gz (129.7MB):  18%  24.3MB\r",
        "  Downloading basemap-1.0.7.tar.gz (129.7MB):  18%  24.3MB\r",
        "  Downloading basemap-1.0.7.tar.gz (129.7MB):  18%  24.3MB\r",
        "  Downloading basemap-1.0.7.tar.gz (129.7MB):  18%  24.3MB\r",
        "  Downloading basemap-1.0.7.tar.gz (129.7MB):  18%  24.3MB\r",
        "  Downloading basemap-1.0.7.tar.gz (129.7MB):  18%  24.3MB\r",
        "  Downloading basemap-1.0.7.tar.gz (129.7MB):  18%  24.3MB\r",
        "  Downloading basemap-1.0.7.tar.gz (129.7MB):  18%  24.3MB\r",
        "  Downloading basemap-1.0.7.tar.gz (129.7MB):  18%  24.4MB\r",
        "  Downloading basemap-1.0.7.tar.gz (129.7MB):  18%  24.4MB\r",
        "  Downloading basemap-1.0.7.tar.gz (129.7MB):  18%  24.4MB\r",
        "  Downloading basemap-1.0.7.tar.gz (129.7MB):  18%  24.4MB\r",
        "  Downloading basemap-1.0.7.tar.gz (129.7MB):  18%  24.4MB\r",
        "  Downloading basemap-1.0.7.tar.gz (129.7MB):  18%  24.4MB\r",
        "  Downloading basemap-1.0.7.tar.gz (129.7MB):  18%  24.4MB\r",
        "  Downloading basemap-1.0.7.tar.gz (129.7MB):  18%  24.4MB"
       ]
      },
      {
       "output_type": "stream",
       "stream": "stdout",
       "text": [
        "\r",
        "  Downloading basemap-1.0.7.tar.gz (129.7MB):  18%  24.4MB\r",
        "  Downloading basemap-1.0.7.tar.gz (129.7MB):  18%  24.4MB\r",
        "  Downloading basemap-1.0.7.tar.gz (129.7MB):  18%  24.4MB\r",
        "  Downloading basemap-1.0.7.tar.gz (129.7MB):  18%  24.4MB\r",
        "  Downloading basemap-1.0.7.tar.gz (129.7MB):  18%  24.4MB\r",
        "  Downloading basemap-1.0.7.tar.gz (129.7MB):  18%  24.4MB\r",
        "  Downloading basemap-1.0.7.tar.gz (129.7MB):  18%  24.4MB\r",
        "  Downloading basemap-1.0.7.tar.gz (129.7MB):  18%  24.4MB\r",
        "  Downloading basemap-1.0.7.tar.gz (129.7MB):  18%  24.4MB\r",
        "  Downloading basemap-1.0.7.tar.gz (129.7MB):  18%  24.4MB\r",
        "  Downloading basemap-1.0.7.tar.gz (129.7MB):  18%  24.4MB\r",
        "  Downloading basemap-1.0.7.tar.gz (129.7MB):  18%  24.4MB\r",
        "  Downloading basemap-1.0.7.tar.gz (129.7MB):  18%  24.4MB\r",
        "  Downloading basemap-1.0.7.tar.gz (129.7MB):  18%  24.4MB\r",
        "  Downloading basemap-1.0.7.tar.gz (129.7MB):  18%  24.4MB\r",
        "  Downloading basemap-1.0.7.tar.gz (129.7MB):  18%  24.4MB\r",
        "  Downloading basemap-1.0.7.tar.gz (129.7MB):  18%  24.4MB\r",
        "  Downloading basemap-1.0.7.tar.gz (129.7MB):  18%  24.5MB"
       ]
      },
      {
       "output_type": "stream",
       "stream": "stdout",
       "text": [
        "\r",
        "  Downloading basemap-1.0.7.tar.gz (129.7MB):  18%  24.5MB\r",
        "  Downloading basemap-1.0.7.tar.gz (129.7MB):  18%  24.5MB\r",
        "  Downloading basemap-1.0.7.tar.gz (129.7MB):  18%  24.5MB\r",
        "  Downloading basemap-1.0.7.tar.gz (129.7MB):  18%  24.5MB\r",
        "  Downloading basemap-1.0.7.tar.gz (129.7MB):  18%  24.5MB\r",
        "  Downloading basemap-1.0.7.tar.gz (129.7MB):  18%  24.5MB\r",
        "  Downloading basemap-1.0.7.tar.gz (129.7MB):  18%  24.5MB\r",
        "  Downloading basemap-1.0.7.tar.gz (129.7MB):  18%  24.5MB\r",
        "  Downloading basemap-1.0.7.tar.gz (129.7MB):  18%  24.5MB\r",
        "  Downloading basemap-1.0.7.tar.gz (129.7MB):  18%  24.5MB\r",
        "  Downloading basemap-1.0.7.tar.gz (129.7MB):  18%  24.5MB\r",
        "  Downloading basemap-1.0.7.tar.gz (129.7MB):  18%  24.5MB\r",
        "  Downloading basemap-1.0.7.tar.gz (129.7MB):  18%  24.5MB\r",
        "  Downloading basemap-1.0.7.tar.gz (129.7MB):  18%  24.5MB\r",
        "  Downloading basemap-1.0.7.tar.gz (129.7MB):  18%  24.5MB"
       ]
      },
      {
       "output_type": "stream",
       "stream": "stdout",
       "text": [
        "\r",
        "  Downloading basemap-1.0.7.tar.gz (129.7MB):  18%  24.5MB\r",
        "  Downloading basemap-1.0.7.tar.gz (129.7MB):  18%  24.5MB\r",
        "  Downloading basemap-1.0.7.tar.gz (129.7MB):  18%  24.5MB\r",
        "  Downloading basemap-1.0.7.tar.gz (129.7MB):  18%  24.5MB\r",
        "  Downloading basemap-1.0.7.tar.gz (129.7MB):  18%  24.5MB\r",
        "  Downloading basemap-1.0.7.tar.gz (129.7MB):  18%  24.5MB\r",
        "  Downloading basemap-1.0.7.tar.gz (129.7MB):  18%  24.5MB\r",
        "  Downloading basemap-1.0.7.tar.gz (129.7MB):  18%  24.5MB\r",
        "  Downloading basemap-1.0.7.tar.gz (129.7MB):  18%  24.6MB\r",
        "  Downloading basemap-1.0.7.tar.gz (129.7MB):  18%  24.6MB\r",
        "  Downloading basemap-1.0.7.tar.gz (129.7MB):  18%  24.6MB\r",
        "  Downloading basemap-1.0.7.tar.gz (129.7MB):  18%  24.6MB\r",
        "  Downloading basemap-1.0.7.tar.gz (129.7MB):  18%  24.6MB\r",
        "  Downloading basemap-1.0.7.tar.gz (129.7MB):  18%  24.6MB\r",
        "  Downloading basemap-1.0.7.tar.gz (129.7MB):  18%  24.6MB\r",
        "  Downloading basemap-1.0.7.tar.gz (129.7MB):  18%  24.6MB\r",
        "  Downloading basemap-1.0.7.tar.gz (129.7MB):  18%  24.6MB\r",
        "  Downloading basemap-1.0.7.tar.gz (129.7MB):  18%  24.6MB\r",
        "  Downloading basemap-1.0.7.tar.gz (129.7MB):  18%  24.6MB\r",
        "  Downloading basemap-1.0.7.tar.gz (129.7MB):  18%  24.6MB\r",
        "  Downloading basemap-1.0.7.tar.gz (129.7MB):  18%  24.6MB\r",
        "  Downloading basemap-1.0.7.tar.gz (129.7MB):  18%  24.6MB\r",
        "  Downloading basemap-1.0.7.tar.gz (129.7MB):  18%  24.6MB\r",
        "  Downloading basemap-1.0.7.tar.gz (129.7MB):  18%  24.6MB\r",
        "  Downloading basemap-1.0.7.tar.gz (129.7MB):  18%  24.6MB\r",
        "  Downloading basemap-1.0.7.tar.gz (129.7MB):  18%  24.6MB\r",
        "  Downloading basemap-1.0.7.tar.gz (129.7MB):  18%  24.6MB"
       ]
      },
      {
       "output_type": "stream",
       "stream": "stdout",
       "text": [
        "\r",
        "  Downloading basemap-1.0.7.tar.gz (129.7MB):  18%  24.6MB\r",
        "  Downloading basemap-1.0.7.tar.gz (129.7MB):  18%  24.6MB\r",
        "  Downloading basemap-1.0.7.tar.gz (129.7MB):  18%  24.6MB\r",
        "  Downloading basemap-1.0.7.tar.gz (129.7MB):  18%  24.6MB\r",
        "  Downloading basemap-1.0.7.tar.gz (129.7MB):  19%  24.6MB\r",
        "  Downloading basemap-1.0.7.tar.gz (129.7MB):  19%  24.6MB\r",
        "  Downloading basemap-1.0.7.tar.gz (129.7MB):  19%  24.7MB\r",
        "  Downloading basemap-1.0.7.tar.gz (129.7MB):  19%  24.7MB\r",
        "  Downloading basemap-1.0.7.tar.gz (129.7MB):  19%  24.7MB\r",
        "  Downloading basemap-1.0.7.tar.gz (129.7MB):  19%  24.7MB\r",
        "  Downloading basemap-1.0.7.tar.gz (129.7MB):  19%  24.7MB\r",
        "  Downloading basemap-1.0.7.tar.gz (129.7MB):  19%  24.7MB\r",
        "  Downloading basemap-1.0.7.tar.gz (129.7MB):  19%  24.7MB\r",
        "  Downloading basemap-1.0.7.tar.gz (129.7MB):  19%  24.7MB"
       ]
      },
      {
       "output_type": "stream",
       "stream": "stdout",
       "text": [
        "\r",
        "  Downloading basemap-1.0.7.tar.gz (129.7MB):  19%  24.7MB\r",
        "  Downloading basemap-1.0.7.tar.gz (129.7MB):  19%  24.7MB\r",
        "  Downloading basemap-1.0.7.tar.gz (129.7MB):  19%  24.7MB\r",
        "  Downloading basemap-1.0.7.tar.gz (129.7MB):  19%  24.7MB"
       ]
      },
      {
       "output_type": "stream",
       "stream": "stdout",
       "text": [
        "\r",
        "  Downloading basemap-1.0.7.tar.gz (129.7MB):  19%  24.7MB\r",
        "  Downloading basemap-1.0.7.tar.gz (129.7MB):  19%  24.7MB\r",
        "  Downloading basemap-1.0.7.tar.gz (129.7MB):  19%  24.7MB\r",
        "  Downloading basemap-1.0.7.tar.gz (129.7MB):  19%  24.7MB\r",
        "  Downloading basemap-1.0.7.tar.gz (129.7MB):  19%  24.7MB\r",
        "  Downloading basemap-1.0.7.tar.gz (129.7MB):  19%  24.7MB\r",
        "  Downloading basemap-1.0.7.tar.gz (129.7MB):  19%  24.7MB\r",
        "  Downloading basemap-1.0.7.tar.gz (129.7MB):  19%  24.7MB\r",
        "  Downloading basemap-1.0.7.tar.gz (129.7MB):  19%  24.7MB\r",
        "  Downloading basemap-1.0.7.tar.gz (129.7MB):  19%  24.7MB\r",
        "  Downloading basemap-1.0.7.tar.gz (129.7MB):  19%  24.7MB\r",
        "  Downloading basemap-1.0.7.tar.gz (129.7MB):  19%  24.7MB\r",
        "  Downloading basemap-1.0.7.tar.gz (129.7MB):  19%  24.8MB\r",
        "  Downloading basemap-1.0.7.tar.gz (129.7MB):  19%  24.8MB"
       ]
      },
      {
       "output_type": "stream",
       "stream": "stdout",
       "text": [
        "\r",
        "  Downloading basemap-1.0.7.tar.gz (129.7MB):  19%  24.8MB\r",
        "  Downloading basemap-1.0.7.tar.gz (129.7MB):  19%  24.8MB\r",
        "  Downloading basemap-1.0.7.tar.gz (129.7MB):  19%  24.8MB\r",
        "  Downloading basemap-1.0.7.tar.gz (129.7MB):  19%  24.8MB\r",
        "  Downloading basemap-1.0.7.tar.gz (129.7MB):  19%  24.8MB\r",
        "  Downloading basemap-1.0.7.tar.gz (129.7MB):  19%  24.8MB\r",
        "  Downloading basemap-1.0.7.tar.gz (129.7MB):  19%  24.8MB\r",
        "  Downloading basemap-1.0.7.tar.gz (129.7MB):  19%  24.8MB\r",
        "  Downloading basemap-1.0.7.tar.gz (129.7MB):  19%  24.8MB\r",
        "  Downloading basemap-1.0.7.tar.gz (129.7MB):  19%  24.8MB\r",
        "  Downloading basemap-1.0.7.tar.gz (129.7MB):  19%  24.8MB\r",
        "  Downloading basemap-1.0.7.tar.gz (129.7MB):  19%  24.8MB\r",
        "  Downloading basemap-1.0.7.tar.gz (129.7MB):  19%  24.8MB\r",
        "  Downloading basemap-1.0.7.tar.gz (129.7MB):  19%  24.8MB\r",
        "  Downloading basemap-1.0.7.tar.gz (129.7MB):  19%  24.8MB\r",
        "  Downloading basemap-1.0.7.tar.gz (129.7MB):  19%  24.8MB\r",
        "  Downloading basemap-1.0.7.tar.gz (129.7MB):  19%  24.8MB\r",
        "  Downloading basemap-1.0.7.tar.gz (129.7MB):  19%  24.8MB\r",
        "  Downloading basemap-1.0.7.tar.gz (129.7MB):  19%  24.8MB\r",
        "  Downloading basemap-1.0.7.tar.gz (129.7MB):  19%  24.8MB\r",
        "  Downloading basemap-1.0.7.tar.gz (129.7MB):  19%  24.8MB\r",
        "  Downloading basemap-1.0.7.tar.gz (129.7MB):  19%  24.8MB\r",
        "  Downloading basemap-1.0.7.tar.gz (129.7MB):  19%  24.9MB\r",
        "  Downloading basemap-1.0.7.tar.gz (129.7MB):  19%  24.9MB\r",
        "  Downloading basemap-1.0.7.tar.gz (129.7MB):  19%  24.9MB\r",
        "  Downloading basemap-1.0.7.tar.gz (129.7MB):  19%  24.9MB\r",
        "  Downloading basemap-1.0.7.tar.gz (129.7MB):  19%  24.9MB\r",
        "  Downloading basemap-1.0.7.tar.gz (129.7MB):  19%  24.9MB\r",
        "  Downloading basemap-1.0.7.tar.gz (129.7MB):  19%  24.9MB\r",
        "  Downloading basemap-1.0.7.tar.gz (129.7MB):  19%  24.9MB"
       ]
      },
      {
       "output_type": "stream",
       "stream": "stdout",
       "text": [
        "\r",
        "  Downloading basemap-1.0.7.tar.gz (129.7MB):  19%  24.9MB\r",
        "  Downloading basemap-1.0.7.tar.gz (129.7MB):  19%  24.9MB\r",
        "  Downloading basemap-1.0.7.tar.gz (129.7MB):  19%  24.9MB\r",
        "  Downloading basemap-1.0.7.tar.gz (129.7MB):  19%  24.9MB\r",
        "  Downloading basemap-1.0.7.tar.gz (129.7MB):  19%  24.9MB\r",
        "  Downloading basemap-1.0.7.tar.gz (129.7MB):  19%  24.9MB\r",
        "  Downloading basemap-1.0.7.tar.gz (129.7MB):  19%  24.9MB\r",
        "  Downloading basemap-1.0.7.tar.gz (129.7MB):  19%  24.9MB\r",
        "  Downloading basemap-1.0.7.tar.gz (129.7MB):  19%  24.9MB\r",
        "  Downloading basemap-1.0.7.tar.gz (129.7MB):  19%  24.9MB\r",
        "  Downloading basemap-1.0.7.tar.gz (129.7MB):  19%  24.9MB\r",
        "  Downloading basemap-1.0.7.tar.gz (129.7MB):  19%  24.9MB\r",
        "  Downloading basemap-1.0.7.tar.gz (129.7MB):  19%  24.9MB\r",
        "  Downloading basemap-1.0.7.tar.gz (129.7MB):  19%  24.9MB\r",
        "  Downloading basemap-1.0.7.tar.gz (129.7MB):  19%  24.9MB\r",
        "  Downloading basemap-1.0.7.tar.gz (129.7MB):  19%  24.9MB\r",
        "  Downloading basemap-1.0.7.tar.gz (129.7MB):  19%  24.9MB\r",
        "  Downloading basemap-1.0.7.tar.gz (129.7MB):  19%  25.0MB\r",
        "  Downloading basemap-1.0.7.tar.gz (129.7MB):  19%  25.0MB\r",
        "  Downloading basemap-1.0.7.tar.gz (129.7MB):  19%  25.0MB\r",
        "  Downloading basemap-1.0.7.tar.gz (129.7MB):  19%  25.0MB\r",
        "  Downloading basemap-1.0.7.tar.gz (129.7MB):  19%  25.0MB\r",
        "  Downloading basemap-1.0.7.tar.gz (129.7MB):  19%  25.0MB\r",
        "  Downloading basemap-1.0.7.tar.gz (129.7MB):  19%  25.0MB\r",
        "  Downloading basemap-1.0.7.tar.gz (129.7MB):  19%  25.0MB\r",
        "  Downloading basemap-1.0.7.tar.gz (129.7MB):  19%  25.0MB\r",
        "  Downloading basemap-1.0.7.tar.gz (129.7MB):  19%  25.0MB\r",
        "  Downloading basemap-1.0.7.tar.gz (129.7MB):  19%  25.0MB\r",
        "  Downloading basemap-1.0.7.tar.gz (129.7MB):  19%  25.0MB"
       ]
      },
      {
       "output_type": "stream",
       "stream": "stdout",
       "text": [
        "\r",
        "  Downloading basemap-1.0.7.tar.gz (129.7MB):  19%  25.0MB\r",
        "  Downloading basemap-1.0.7.tar.gz (129.7MB):  19%  25.0MB\r",
        "  Downloading basemap-1.0.7.tar.gz (129.7MB):  19%  25.0MB\r",
        "  Downloading basemap-1.0.7.tar.gz (129.7MB):  19%  25.0MB\r",
        "  Downloading basemap-1.0.7.tar.gz (129.7MB):  19%  25.0MB\r",
        "  Downloading basemap-1.0.7.tar.gz (129.7MB):  19%  25.0MB\r",
        "  Downloading basemap-1.0.7.tar.gz (129.7MB):  19%  25.0MB\r",
        "  Downloading basemap-1.0.7.tar.gz (129.7MB):  19%  25.0MB\r",
        "  Downloading basemap-1.0.7.tar.gz (129.7MB):  19%  25.0MB\r",
        "  Downloading basemap-1.0.7.tar.gz (129.7MB):  19%  25.0MB\r",
        "  Downloading basemap-1.0.7.tar.gz (129.7MB):  19%  25.0MB\r",
        "  Downloading basemap-1.0.7.tar.gz (129.7MB):  19%  25.0MB\r",
        "  Downloading basemap-1.0.7.tar.gz (129.7MB):  19%  25.1MB\r",
        "  Downloading basemap-1.0.7.tar.gz (129.7MB):  19%  25.1MB\r",
        "  Downloading basemap-1.0.7.tar.gz (129.7MB):  19%  25.1MB\r",
        "  Downloading basemap-1.0.7.tar.gz (129.7MB):  19%  25.1MB\r",
        "  Downloading basemap-1.0.7.tar.gz (129.7MB):  19%  25.1MB"
       ]
      },
      {
       "output_type": "stream",
       "stream": "stdout",
       "text": [
        "\r",
        "  Downloading basemap-1.0.7.tar.gz (129.7MB):  19%  25.1MB\r",
        "  Downloading basemap-1.0.7.tar.gz (129.7MB):  19%  25.1MB\r",
        "  Downloading basemap-1.0.7.tar.gz (129.7MB):  19%  25.1MB\r",
        "  Downloading basemap-1.0.7.tar.gz (129.7MB):  19%  25.1MB\r",
        "  Downloading basemap-1.0.7.tar.gz (129.7MB):  19%  25.1MB\r",
        "  Downloading basemap-1.0.7.tar.gz (129.7MB):  19%  25.1MB\r",
        "  Downloading basemap-1.0.7.tar.gz (129.7MB):  19%  25.1MB\r",
        "  Downloading basemap-1.0.7.tar.gz (129.7MB):  19%  25.1MB\r",
        "  Downloading basemap-1.0.7.tar.gz (129.7MB):  19%  25.1MB\r",
        "  Downloading basemap-1.0.7.tar.gz (129.7MB):  19%  25.1MB\r",
        "  Downloading basemap-1.0.7.tar.gz (129.7MB):  19%  25.1MB"
       ]
      },
      {
       "output_type": "stream",
       "stream": "stdout",
       "text": [
        "\r",
        "  Downloading basemap-1.0.7.tar.gz (129.7MB):  19%  25.1MB\r",
        "  Downloading basemap-1.0.7.tar.gz (129.7MB):  19%  25.1MB\r",
        "  Downloading basemap-1.0.7.tar.gz (129.7MB):  19%  25.1MB\r",
        "  Downloading basemap-1.0.7.tar.gz (129.7MB):  19%  25.1MB\r",
        "  Downloading basemap-1.0.7.tar.gz (129.7MB):  19%  25.1MB\r",
        "  Downloading basemap-1.0.7.tar.gz (129.7MB):  19%  25.1MB\r",
        "  Downloading basemap-1.0.7.tar.gz (129.7MB):  19%  25.1MB\r",
        "  Downloading basemap-1.0.7.tar.gz (129.7MB):  19%  25.1MB\r",
        "  Downloading basemap-1.0.7.tar.gz (129.7MB):  19%  25.1MB\r",
        "  Downloading basemap-1.0.7.tar.gz (129.7MB):  19%  25.2MB\r",
        "  Downloading basemap-1.0.7.tar.gz (129.7MB):  19%  25.2MB\r",
        "  Downloading basemap-1.0.7.tar.gz (129.7MB):  19%  25.2MB\r",
        "  Downloading basemap-1.0.7.tar.gz (129.7MB):  19%  25.2MB\r",
        "  Downloading basemap-1.0.7.tar.gz (129.7MB):  19%  25.2MB\r",
        "  Downloading basemap-1.0.7.tar.gz (129.7MB):  19%  25.2MB\r",
        "  Downloading basemap-1.0.7.tar.gz (129.7MB):  19%  25.2MB\r",
        "  Downloading basemap-1.0.7.tar.gz (129.7MB):  19%  25.2MB\r",
        "  Downloading basemap-1.0.7.tar.gz (129.7MB):  19%  25.2MB\r",
        "  Downloading basemap-1.0.7.tar.gz (129.7MB):  19%  25.2MB\r",
        "  Downloading basemap-1.0.7.tar.gz (129.7MB):  19%  25.2MB\r",
        "  Downloading basemap-1.0.7.tar.gz (129.7MB):  19%  25.2MB\r",
        "  Downloading basemap-1.0.7.tar.gz (129.7MB):  19%  25.2MB\r",
        "  Downloading basemap-1.0.7.tar.gz (129.7MB):  19%  25.2MB\r",
        "  Downloading basemap-1.0.7.tar.gz (129.7MB):  19%  25.2MB\r",
        "  Downloading basemap-1.0.7.tar.gz (129.7MB):  19%  25.2MB\r",
        "  Downloading basemap-1.0.7.tar.gz (129.7MB):  19%  25.2MB\r",
        "  Downloading basemap-1.0.7.tar.gz (129.7MB):  19%  25.2MB\r",
        "  Downloading basemap-1.0.7.tar.gz (129.7MB):  19%  25.2MB\r",
        "  Downloading basemap-1.0.7.tar.gz (129.7MB):  19%  25.2MB"
       ]
      },
      {
       "output_type": "stream",
       "stream": "stdout",
       "text": [
        "\r",
        "  Downloading basemap-1.0.7.tar.gz (129.7MB):  19%  25.2MB"
       ]
      },
      {
       "output_type": "stream",
       "stream": "stdout",
       "text": [
        "\r",
        "  Downloading basemap-1.0.7.tar.gz (129.7MB):  19%  25.2MB"
       ]
      },
      {
       "output_type": "stream",
       "stream": "stdout",
       "text": [
        "\r",
        "  Downloading basemap-1.0.7.tar.gz (129.7MB):  19%  25.2MB\r",
        "  Downloading basemap-1.0.7.tar.gz (129.7MB):  19%  25.2MB"
       ]
      },
      {
       "output_type": "stream",
       "stream": "stdout",
       "text": [
        "\r",
        "  Downloading basemap-1.0.7.tar.gz (129.7MB):  19%  25.3MB\r",
        "  Downloading basemap-1.0.7.tar.gz (129.7MB):  19%  25.3MB"
       ]
      },
      {
       "output_type": "stream",
       "stream": "stdout",
       "text": [
        "\r",
        "  Downloading basemap-1.0.7.tar.gz (129.7MB):  19%  25.3MB\r",
        "  Downloading basemap-1.0.7.tar.gz (129.7MB):  19%  25.3MB"
       ]
      },
      {
       "output_type": "stream",
       "stream": "stdout",
       "text": [
        "\r",
        "  Downloading basemap-1.0.7.tar.gz (129.7MB):  19%  25.3MB\r",
        "  Downloading basemap-1.0.7.tar.gz (129.7MB):  19%  25.3MB"
       ]
      },
      {
       "output_type": "stream",
       "stream": "stdout",
       "text": [
        "\r",
        "  Downloading basemap-1.0.7.tar.gz (129.7MB):  19%  25.3MB"
       ]
      },
      {
       "output_type": "stream",
       "stream": "stdout",
       "text": [
        "\r",
        "  Downloading basemap-1.0.7.tar.gz (129.7MB):  19%  25.3MB\r",
        "  Downloading basemap-1.0.7.tar.gz (129.7MB):  19%  25.3MB"
       ]
      },
      {
       "output_type": "stream",
       "stream": "stdout",
       "text": [
        "\r",
        "  Downloading basemap-1.0.7.tar.gz (129.7MB):  19%  25.3MB\r",
        "  Downloading basemap-1.0.7.tar.gz (129.7MB):  19%  25.3MB\r",
        "  Downloading basemap-1.0.7.tar.gz (129.7MB):  19%  25.3MB"
       ]
      },
      {
       "output_type": "stream",
       "stream": "stdout",
       "text": [
        "\r",
        "  Downloading basemap-1.0.7.tar.gz (129.7MB):  19%  25.3MB\r",
        "  Downloading basemap-1.0.7.tar.gz (129.7MB):  19%  25.3MB\r",
        "  Downloading basemap-1.0.7.tar.gz (129.7MB):  19%  25.3MB\r",
        "  Downloading basemap-1.0.7.tar.gz (129.7MB):  19%  25.3MB"
       ]
      },
      {
       "output_type": "stream",
       "stream": "stdout",
       "text": [
        "\r",
        "  Downloading basemap-1.0.7.tar.gz (129.7MB):  19%  25.3MB\r",
        "  Downloading basemap-1.0.7.tar.gz (129.7MB):  19%  25.3MB"
       ]
      },
      {
       "output_type": "stream",
       "stream": "stdout",
       "text": [
        "\r",
        "  Downloading basemap-1.0.7.tar.gz (129.7MB):  19%  25.3MB\r",
        "  Downloading basemap-1.0.7.tar.gz (129.7MB):  19%  25.3MB"
       ]
      },
      {
       "output_type": "stream",
       "stream": "stdout",
       "text": [
        "\r",
        "  Downloading basemap-1.0.7.tar.gz (129.7MB):  19%  25.3MB\r",
        "  Downloading basemap-1.0.7.tar.gz (129.7MB):  19%  25.3MB\r",
        "  Downloading basemap-1.0.7.tar.gz (129.7MB):  19%  25.3MB"
       ]
      },
      {
       "output_type": "stream",
       "stream": "stdout",
       "text": [
        "\r",
        "  Downloading basemap-1.0.7.tar.gz (129.7MB):  19%  25.3MB\r",
        "  Downloading basemap-1.0.7.tar.gz (129.7MB):  19%  25.4MB\r",
        "  Downloading basemap-1.0.7.tar.gz (129.7MB):  19%  25.4MB\r",
        "  Downloading basemap-1.0.7.tar.gz (129.7MB):  19%  25.4MB"
       ]
      },
      {
       "output_type": "stream",
       "stream": "stdout",
       "text": [
        "\r",
        "  Downloading basemap-1.0.7.tar.gz (129.7MB):  19%  25.4MB\r",
        "  Downloading basemap-1.0.7.tar.gz (129.7MB):  19%  25.4MB\r",
        "  Downloading basemap-1.0.7.tar.gz (129.7MB):  19%  25.4MB\r",
        "  Downloading basemap-1.0.7.tar.gz (129.7MB):  19%  25.4MB\r",
        "  Downloading basemap-1.0.7.tar.gz (129.7MB):  19%  25.4MB"
       ]
      },
      {
       "output_type": "stream",
       "stream": "stdout",
       "text": [
        "\r",
        "  Downloading basemap-1.0.7.tar.gz (129.7MB):  19%  25.4MB\r",
        "  Downloading basemap-1.0.7.tar.gz (129.7MB):  19%  25.4MB\r",
        "  Downloading basemap-1.0.7.tar.gz (129.7MB):  19%  25.4MB\r",
        "  Downloading basemap-1.0.7.tar.gz (129.7MB):  19%  25.4MB\r",
        "  Downloading basemap-1.0.7.tar.gz (129.7MB):  19%  25.4MB"
       ]
      },
      {
       "output_type": "stream",
       "stream": "stdout",
       "text": [
        "\r",
        "  Downloading basemap-1.0.7.tar.gz (129.7MB):  19%  25.4MB\r",
        "  Downloading basemap-1.0.7.tar.gz (129.7MB):  19%  25.4MB\r",
        "  Downloading basemap-1.0.7.tar.gz (129.7MB):  19%  25.4MB\r",
        "  Downloading basemap-1.0.7.tar.gz (129.7MB):  19%  25.4MB"
       ]
      },
      {
       "output_type": "stream",
       "stream": "stdout",
       "text": [
        "\r",
        "  Downloading basemap-1.0.7.tar.gz (129.7MB):  19%  25.4MB\r",
        "  Downloading basemap-1.0.7.tar.gz (129.7MB):  19%  25.4MB\r",
        "  Downloading basemap-1.0.7.tar.gz (129.7MB):  19%  25.4MB\r",
        "  Downloading basemap-1.0.7.tar.gz (129.7MB):  19%  25.4MB\r",
        "  Downloading basemap-1.0.7.tar.gz (129.7MB):  19%  25.4MB\r",
        "  Downloading basemap-1.0.7.tar.gz (129.7MB):  19%  25.4MB"
       ]
      },
      {
       "output_type": "stream",
       "stream": "stdout",
       "text": [
        "\r",
        "  Downloading basemap-1.0.7.tar.gz (129.7MB):  19%  25.4MB\r",
        "  Downloading basemap-1.0.7.tar.gz (129.7MB):  19%  25.4MB\r",
        "  Downloading basemap-1.0.7.tar.gz (129.7MB):  19%  25.5MB\r",
        "  Downloading basemap-1.0.7.tar.gz (129.7MB):  19%  25.5MB\r",
        "  Downloading basemap-1.0.7.tar.gz (129.7MB):  19%  25.5MB\r",
        "  Downloading basemap-1.0.7.tar.gz (129.7MB):  19%  25.5MB"
       ]
      },
      {
       "output_type": "stream",
       "stream": "stdout",
       "text": [
        "\r",
        "  Downloading basemap-1.0.7.tar.gz (129.7MB):  19%  25.5MB\r",
        "  Downloading basemap-1.0.7.tar.gz (129.7MB):  19%  25.5MB\r",
        "  Downloading basemap-1.0.7.tar.gz (129.7MB):  19%  25.5MB\r",
        "  Downloading basemap-1.0.7.tar.gz (129.7MB):  19%  25.5MB\r",
        "  Downloading basemap-1.0.7.tar.gz (129.7MB):  19%  25.5MB\r",
        "  Downloading basemap-1.0.7.tar.gz (129.7MB):  19%  25.5MB"
       ]
      },
      {
       "output_type": "stream",
       "stream": "stdout",
       "text": [
        "\r",
        "  Downloading basemap-1.0.7.tar.gz (129.7MB):  19%  25.5MB\r",
        "  Downloading basemap-1.0.7.tar.gz (129.7MB):  19%  25.5MB\r",
        "  Downloading basemap-1.0.7.tar.gz (129.7MB):  19%  25.5MB\r",
        "  Downloading basemap-1.0.7.tar.gz (129.7MB):  19%  25.5MB\r",
        "  Downloading basemap-1.0.7.tar.gz (129.7MB):  19%  25.5MB\r",
        "  Downloading basemap-1.0.7.tar.gz (129.7MB):  19%  25.5MB"
       ]
      },
      {
       "output_type": "stream",
       "stream": "stdout",
       "text": [
        "\r",
        "  Downloading basemap-1.0.7.tar.gz (129.7MB):  19%  25.5MB\r",
        "  Downloading basemap-1.0.7.tar.gz (129.7MB):  19%  25.5MB\r",
        "  Downloading basemap-1.0.7.tar.gz (129.7MB):  19%  25.5MB\r",
        "  Downloading basemap-1.0.7.tar.gz (129.7MB):  19%  25.5MB\r",
        "  Downloading basemap-1.0.7.tar.gz (129.7MB):  19%  25.5MB\r",
        "  Downloading basemap-1.0.7.tar.gz (129.7MB):  19%  25.5MB\r",
        "  Downloading basemap-1.0.7.tar.gz (129.7MB):  19%  25.5MB"
       ]
      },
      {
       "output_type": "stream",
       "stream": "stdout",
       "text": [
        "\r",
        "  Downloading basemap-1.0.7.tar.gz (129.7MB):  19%  25.5MB\r",
        "  Downloading basemap-1.0.7.tar.gz (129.7MB):  19%  25.6MB\r",
        "  Downloading basemap-1.0.7.tar.gz (129.7MB):  19%  25.6MB\r",
        "  Downloading basemap-1.0.7.tar.gz (129.7MB):  19%  25.6MB\r",
        "  Downloading basemap-1.0.7.tar.gz (129.7MB):  19%  25.6MB\r",
        "  Downloading basemap-1.0.7.tar.gz (129.7MB):  19%  25.6MB"
       ]
      },
      {
       "output_type": "stream",
       "stream": "stdout",
       "text": [
        "\r",
        "  Downloading basemap-1.0.7.tar.gz (129.7MB):  19%  25.6MB\r",
        "  Downloading basemap-1.0.7.tar.gz (129.7MB):  19%  25.6MB\r",
        "  Downloading basemap-1.0.7.tar.gz (129.7MB):  19%  25.6MB\r",
        "  Downloading basemap-1.0.7.tar.gz (129.7MB):  19%  25.6MB\r",
        "  Downloading basemap-1.0.7.tar.gz (129.7MB):  19%  25.6MB\r",
        "  Downloading basemap-1.0.7.tar.gz (129.7MB):  19%  25.6MB"
       ]
      },
      {
       "output_type": "stream",
       "stream": "stdout",
       "text": [
        "\r",
        "  Downloading basemap-1.0.7.tar.gz (129.7MB):  19%  25.6MB"
       ]
      },
      {
       "output_type": "stream",
       "stream": "stdout",
       "text": [
        "\r",
        "  Downloading basemap-1.0.7.tar.gz (129.7MB):  19%  25.6MB\r",
        "  Downloading basemap-1.0.7.tar.gz (129.7MB):  19%  25.6MB\r",
        "  Downloading basemap-1.0.7.tar.gz (129.7MB):  19%  25.6MB\r",
        "  Downloading basemap-1.0.7.tar.gz (129.7MB):  19%  25.6MB\r",
        "  Downloading basemap-1.0.7.tar.gz (129.7MB):  19%  25.6MB\r",
        "  Downloading basemap-1.0.7.tar.gz (129.7MB):  19%  25.6MB\r",
        "  Downloading basemap-1.0.7.tar.gz (129.7MB):  19%  25.6MB"
       ]
      },
      {
       "output_type": "stream",
       "stream": "stdout",
       "text": [
        "\r",
        "  Downloading basemap-1.0.7.tar.gz (129.7MB):  19%  25.6MB\r",
        "  Downloading basemap-1.0.7.tar.gz (129.7MB):  19%  25.6MB\r",
        "  Downloading basemap-1.0.7.tar.gz (129.7MB):  19%  25.6MB\r",
        "  Downloading basemap-1.0.7.tar.gz (129.7MB):  19%  25.6MB\r",
        "  Downloading basemap-1.0.7.tar.gz (129.7MB):  19%  25.6MB\r",
        "  Downloading basemap-1.0.7.tar.gz (129.7MB):  19%  25.6MB\r",
        "  Downloading basemap-1.0.7.tar.gz (129.7MB):  19%  25.7MB\r",
        "  Downloading basemap-1.0.7.tar.gz (129.7MB):  19%  25.7MB"
       ]
      },
      {
       "output_type": "stream",
       "stream": "stdout",
       "text": [
        "\r",
        "  Downloading basemap-1.0.7.tar.gz (129.7MB):  19%  25.7MB\r",
        "  Downloading basemap-1.0.7.tar.gz (129.7MB):  19%  25.7MB\r",
        "  Downloading basemap-1.0.7.tar.gz (129.7MB):  19%  25.7MB\r",
        "  Downloading basemap-1.0.7.tar.gz (129.7MB):  19%  25.7MB\r",
        "  Downloading basemap-1.0.7.tar.gz (129.7MB):  19%  25.7MB\r",
        "  Downloading basemap-1.0.7.tar.gz (129.7MB):  19%  25.7MB\r",
        "  Downloading basemap-1.0.7.tar.gz (129.7MB):  19%  25.7MB\r",
        "  Downloading basemap-1.0.7.tar.gz (129.7MB):  19%  25.7MB"
       ]
      },
      {
       "output_type": "stream",
       "stream": "stdout",
       "text": [
        "\r",
        "  Downloading basemap-1.0.7.tar.gz (129.7MB):  19%  25.7MB"
       ]
      },
      {
       "output_type": "stream",
       "stream": "stdout",
       "text": [
        "\r",
        "  Downloading basemap-1.0.7.tar.gz (129.7MB):  19%  25.7MB\r",
        "  Downloading basemap-1.0.7.tar.gz (129.7MB):  19%  25.7MB\r",
        "  Downloading basemap-1.0.7.tar.gz (129.7MB):  19%  25.7MB\r",
        "  Downloading basemap-1.0.7.tar.gz (129.7MB):  19%  25.7MB\r",
        "  Downloading basemap-1.0.7.tar.gz (129.7MB):  19%  25.7MB\r",
        "  Downloading basemap-1.0.7.tar.gz (129.7MB):  19%  25.7MB\r",
        "  Downloading basemap-1.0.7.tar.gz (129.7MB):  19%  25.7MB"
       ]
      },
      {
       "output_type": "stream",
       "stream": "stdout",
       "text": [
        "\r",
        "  Downloading basemap-1.0.7.tar.gz (129.7MB):  19%  25.7MB\r",
        "  Downloading basemap-1.0.7.tar.gz (129.7MB):  19%  25.7MB\r",
        "  Downloading basemap-1.0.7.tar.gz (129.7MB):  19%  25.7MB\r",
        "  Downloading basemap-1.0.7.tar.gz (129.7MB):  19%  25.7MB\r",
        "  Downloading basemap-1.0.7.tar.gz (129.7MB):  19%  25.7MB\r",
        "  Downloading basemap-1.0.7.tar.gz (129.7MB):  19%  25.7MB\r",
        "  Downloading basemap-1.0.7.tar.gz (129.7MB):  19%  25.8MB\r",
        "  Downloading basemap-1.0.7.tar.gz (129.7MB):  19%  25.8MB\r",
        "  Downloading basemap-1.0.7.tar.gz (129.7MB):  19%  25.8MB"
       ]
      },
      {
       "output_type": "stream",
       "stream": "stdout",
       "text": [
        "\r",
        "  Downloading basemap-1.0.7.tar.gz (129.7MB):  19%  25.8MB\r",
        "  Downloading basemap-1.0.7.tar.gz (129.7MB):  19%  25.8MB\r",
        "  Downloading basemap-1.0.7.tar.gz (129.7MB):  19%  25.8MB\r",
        "  Downloading basemap-1.0.7.tar.gz (129.7MB):  19%  25.8MB\r",
        "  Downloading basemap-1.0.7.tar.gz (129.7MB):  19%  25.8MB\r",
        "  Downloading basemap-1.0.7.tar.gz (129.7MB):  19%  25.8MB\r",
        "  Downloading basemap-1.0.7.tar.gz (129.7MB):  19%  25.8MB\r",
        "  Downloading basemap-1.0.7.tar.gz (129.7MB):  19%  25.8MB\r",
        "  Downloading basemap-1.0.7.tar.gz (129.7MB):  19%  25.8MB"
       ]
      },
      {
       "output_type": "stream",
       "stream": "stdout",
       "text": [
        "\r",
        "  Downloading basemap-1.0.7.tar.gz (129.7MB):  19%  25.8MB\r",
        "  Downloading basemap-1.0.7.tar.gz (129.7MB):  19%  25.8MB"
       ]
      },
      {
       "output_type": "stream",
       "stream": "stdout",
       "text": [
        "\r",
        "  Downloading basemap-1.0.7.tar.gz (129.7MB):  19%  25.8MB\r",
        "  Downloading basemap-1.0.7.tar.gz (129.7MB):  19%  25.8MB\r",
        "  Downloading basemap-1.0.7.tar.gz (129.7MB):  19%  25.8MB\r",
        "  Downloading basemap-1.0.7.tar.gz (129.7MB):  19%  25.8MB\r",
        "  Downloading basemap-1.0.7.tar.gz (129.7MB):  19%  25.8MB\r",
        "  Downloading basemap-1.0.7.tar.gz (129.7MB):  19%  25.8MB\r",
        "  Downloading basemap-1.0.7.tar.gz (129.7MB):  19%  25.8MB"
       ]
      },
      {
       "output_type": "stream",
       "stream": "stdout",
       "text": [
        "\r",
        "  Downloading basemap-1.0.7.tar.gz (129.7MB):  19%  25.8MB\r",
        "  Downloading basemap-1.0.7.tar.gz (129.7MB):  19%  25.8MB\r",
        "  Downloading basemap-1.0.7.tar.gz (129.7MB):  19%  25.8MB\r",
        "  Downloading basemap-1.0.7.tar.gz (129.7MB):  19%  25.8MB\r",
        "  Downloading basemap-1.0.7.tar.gz (129.7MB):  19%  25.9MB\r",
        "  Downloading basemap-1.0.7.tar.gz (129.7MB):  19%  25.9MB\r",
        "  Downloading basemap-1.0.7.tar.gz (129.7MB):  19%  25.9MB\r",
        "  Downloading basemap-1.0.7.tar.gz (129.7MB):  19%  25.9MB\r",
        "  Downloading basemap-1.0.7.tar.gz (129.7MB):  19%  25.9MB"
       ]
      },
      {
       "output_type": "stream",
       "stream": "stdout",
       "text": [
        "\r",
        "  Downloading basemap-1.0.7.tar.gz (129.7MB):  19%  25.9MB\r",
        "  Downloading basemap-1.0.7.tar.gz (129.7MB):  19%  25.9MB\r",
        "  Downloading basemap-1.0.7.tar.gz (129.7MB):  19%  25.9MB\r",
        "  Downloading basemap-1.0.7.tar.gz (129.7MB):  19%  25.9MB\r",
        "  Downloading basemap-1.0.7.tar.gz (129.7MB):  19%  25.9MB\r",
        "  Downloading basemap-1.0.7.tar.gz (129.7MB):  19%  25.9MB\r",
        "  Downloading basemap-1.0.7.tar.gz (129.7MB):  19%  25.9MB\r",
        "  Downloading basemap-1.0.7.tar.gz (129.7MB):  19%  25.9MB\r",
        "  Downloading basemap-1.0.7.tar.gz (129.7MB):  19%  25.9MB\r",
        "  Downloading basemap-1.0.7.tar.gz (129.7MB):  19%  25.9MB"
       ]
      },
      {
       "output_type": "stream",
       "stream": "stdout",
       "text": [
        "\r",
        "  Downloading basemap-1.0.7.tar.gz (129.7MB):  19%  25.9MB\r",
        "  Downloading basemap-1.0.7.tar.gz (129.7MB):  19%  25.9MB\r",
        "  Downloading basemap-1.0.7.tar.gz (129.7MB):  19%  25.9MB"
       ]
      },
      {
       "output_type": "stream",
       "stream": "stdout",
       "text": [
        "\r",
        "  Downloading basemap-1.0.7.tar.gz (129.7MB):  19%  25.9MB\r",
        "  Downloading basemap-1.0.7.tar.gz (129.7MB):  19%  25.9MB\r",
        "  Downloading basemap-1.0.7.tar.gz (129.7MB):  19%  25.9MB\r",
        "  Downloading basemap-1.0.7.tar.gz (129.7MB):  20%  25.9MB\r",
        "  Downloading basemap-1.0.7.tar.gz (129.7MB):  20%  25.9MB\r",
        "  Downloading basemap-1.0.7.tar.gz (129.7MB):  20%  25.9MB\r",
        "  Downloading basemap-1.0.7.tar.gz (129.7MB):  20%  26.0MB\r",
        "  Downloading basemap-1.0.7.tar.gz (129.7MB):  20%  26.0MB"
       ]
      },
      {
       "output_type": "stream",
       "stream": "stdout",
       "text": [
        "\r",
        "  Downloading basemap-1.0.7.tar.gz (129.7MB):  20%  26.0MB\r",
        "  Downloading basemap-1.0.7.tar.gz (129.7MB):  20%  26.0MB\r",
        "  Downloading basemap-1.0.7.tar.gz (129.7MB):  20%  26.0MB\r",
        "  Downloading basemap-1.0.7.tar.gz (129.7MB):  20%  26.0MB\r",
        "  Downloading basemap-1.0.7.tar.gz (129.7MB):  20%  26.0MB\r",
        "  Downloading basemap-1.0.7.tar.gz (129.7MB):  20%  26.0MB\r",
        "  Downloading basemap-1.0.7.tar.gz (129.7MB):  20%  26.0MB\r",
        "  Downloading basemap-1.0.7.tar.gz (129.7MB):  20%  26.0MB\r",
        "  Downloading basemap-1.0.7.tar.gz (129.7MB):  20%  26.0MB\r",
        "  Downloading basemap-1.0.7.tar.gz (129.7MB):  20%  26.0MB"
       ]
      },
      {
       "output_type": "stream",
       "stream": "stdout",
       "text": [
        "\r",
        "  Downloading basemap-1.0.7.tar.gz (129.7MB):  20%  26.0MB\r",
        "  Downloading basemap-1.0.7.tar.gz (129.7MB):  20%  26.0MB\r",
        "  Downloading basemap-1.0.7.tar.gz (129.7MB):  20%  26.0MB\r",
        "  Downloading basemap-1.0.7.tar.gz (129.7MB):  20%  26.0MB\r",
        "  Downloading basemap-1.0.7.tar.gz (129.7MB):  20%  26.0MB\r",
        "  Downloading basemap-1.0.7.tar.gz (129.7MB):  20%  26.0MB\r",
        "  Downloading basemap-1.0.7.tar.gz (129.7MB):  20%  26.0MB\r",
        "  Downloading basemap-1.0.7.tar.gz (129.7MB):  20%  26.0MB\r",
        "  Downloading basemap-1.0.7.tar.gz (129.7MB):  20%  26.0MB\r",
        "  Downloading basemap-1.0.7.tar.gz (129.7MB):  20%  26.0MB\r",
        "  Downloading basemap-1.0.7.tar.gz (129.7MB):  20%  26.0MB"
       ]
      },
      {
       "output_type": "stream",
       "stream": "stdout",
       "text": [
        "\r",
        "  Downloading basemap-1.0.7.tar.gz (129.7MB):  20%  26.0MB\r",
        "  Downloading basemap-1.0.7.tar.gz (129.7MB):  20%  26.1MB\r",
        "  Downloading basemap-1.0.7.tar.gz (129.7MB):  20%  26.1MB\r",
        "  Downloading basemap-1.0.7.tar.gz (129.7MB):  20%  26.1MB\r",
        "  Downloading basemap-1.0.7.tar.gz (129.7MB):  20%  26.1MB\r",
        "  Downloading basemap-1.0.7.tar.gz (129.7MB):  20%  26.1MB\r",
        "  Downloading basemap-1.0.7.tar.gz (129.7MB):  20%  26.1MB"
       ]
      },
      {
       "output_type": "stream",
       "stream": "stdout",
       "text": [
        "\r",
        "  Downloading basemap-1.0.7.tar.gz (129.7MB):  20%  26.1MB\r",
        "  Downloading basemap-1.0.7.tar.gz (129.7MB):  20%  26.1MB\r",
        "  Downloading basemap-1.0.7.tar.gz (129.7MB):  20%  26.1MB\r",
        "  Downloading basemap-1.0.7.tar.gz (129.7MB):  20%  26.1MB"
       ]
      },
      {
       "output_type": "stream",
       "stream": "stdout",
       "text": [
        "\r",
        "  Downloading basemap-1.0.7.tar.gz (129.7MB):  20%  26.1MB\r",
        "  Downloading basemap-1.0.7.tar.gz (129.7MB):  20%  26.1MB\r",
        "  Downloading basemap-1.0.7.tar.gz (129.7MB):  20%  26.1MB\r",
        "  Downloading basemap-1.0.7.tar.gz (129.7MB):  20%  26.1MB\r",
        "  Downloading basemap-1.0.7.tar.gz (129.7MB):  20%  26.1MB\r",
        "  Downloading basemap-1.0.7.tar.gz (129.7MB):  20%  26.1MB\r",
        "  Downloading basemap-1.0.7.tar.gz (129.7MB):  20%  26.1MB\r",
        "  Downloading basemap-1.0.7.tar.gz (129.7MB):  20%  26.1MB\r",
        "  Downloading basemap-1.0.7.tar.gz (129.7MB):  20%  26.1MB\r",
        "  Downloading basemap-1.0.7.tar.gz (129.7MB):  20%  26.1MB\r",
        "  Downloading basemap-1.0.7.tar.gz (129.7MB):  20%  26.1MB"
       ]
      },
      {
       "output_type": "stream",
       "stream": "stdout",
       "text": [
        "\r",
        "  Downloading basemap-1.0.7.tar.gz (129.7MB):  20%  26.1MB\r",
        "  Downloading basemap-1.0.7.tar.gz (129.7MB):  20%  26.1MB\r",
        "  Downloading basemap-1.0.7.tar.gz (129.7MB):  20%  26.1MB\r",
        "  Downloading basemap-1.0.7.tar.gz (129.7MB):  20%  26.1MB\r",
        "  Downloading basemap-1.0.7.tar.gz (129.7MB):  20%  26.2MB\r",
        "  Downloading basemap-1.0.7.tar.gz (129.7MB):  20%  26.2MB\r",
        "  Downloading basemap-1.0.7.tar.gz (129.7MB):  20%  26.2MB\r",
        "  Downloading basemap-1.0.7.tar.gz (129.7MB):  20%  26.2MB\r",
        "  Downloading basemap-1.0.7.tar.gz (129.7MB):  20%  26.2MB\r",
        "  Downloading basemap-1.0.7.tar.gz (129.7MB):  20%  26.2MB\r",
        "  Downloading basemap-1.0.7.tar.gz (129.7MB):  20%  26.2MB\r",
        "  Downloading basemap-1.0.7.tar.gz (129.7MB):  20%  26.2MB"
       ]
      },
      {
       "output_type": "stream",
       "stream": "stdout",
       "text": [
        "\r",
        "  Downloading basemap-1.0.7.tar.gz (129.7MB):  20%  26.2MB\r",
        "  Downloading basemap-1.0.7.tar.gz (129.7MB):  20%  26.2MB\r",
        "  Downloading basemap-1.0.7.tar.gz (129.7MB):  20%  26.2MB\r",
        "  Downloading basemap-1.0.7.tar.gz (129.7MB):  20%  26.2MB\r",
        "  Downloading basemap-1.0.7.tar.gz (129.7MB):  20%  26.2MB\r",
        "  Downloading basemap-1.0.7.tar.gz (129.7MB):  20%  26.2MB\r",
        "  Downloading basemap-1.0.7.tar.gz (129.7MB):  20%  26.2MB\r",
        "  Downloading basemap-1.0.7.tar.gz (129.7MB):  20%  26.2MB"
       ]
      },
      {
       "output_type": "stream",
       "stream": "stdout",
       "text": [
        "\r",
        "  Downloading basemap-1.0.7.tar.gz (129.7MB):  20%  26.2MB\r",
        "  Downloading basemap-1.0.7.tar.gz (129.7MB):  20%  26.2MB\r",
        "  Downloading basemap-1.0.7.tar.gz (129.7MB):  20%  26.2MB"
       ]
      },
      {
       "output_type": "stream",
       "stream": "stdout",
       "text": [
        "\r",
        "  Downloading basemap-1.0.7.tar.gz (129.7MB):  20%  26.2MB\r",
        "  Downloading basemap-1.0.7.tar.gz (129.7MB):  20%  26.2MB\r",
        "  Downloading basemap-1.0.7.tar.gz (129.7MB):  20%  26.2MB\r",
        "  Downloading basemap-1.0.7.tar.gz (129.7MB):  20%  26.2MB"
       ]
      },
      {
       "output_type": "stream",
       "stream": "stdout",
       "text": [
        "\r",
        "  Downloading basemap-1.0.7.tar.gz (129.7MB):  20%  26.2MB\r",
        "  Downloading basemap-1.0.7.tar.gz (129.7MB):  20%  26.3MB\r",
        "  Downloading basemap-1.0.7.tar.gz (129.7MB):  20%  26.3MB\r",
        "  Downloading basemap-1.0.7.tar.gz (129.7MB):  20%  26.3MB\r",
        "  Downloading basemap-1.0.7.tar.gz (129.7MB):  20%  26.3MB\r",
        "  Downloading basemap-1.0.7.tar.gz (129.7MB):  20%  26.3MB\r",
        "  Downloading basemap-1.0.7.tar.gz (129.7MB):  20%  26.3MB\r",
        "  Downloading basemap-1.0.7.tar.gz (129.7MB):  20%  26.3MB\r",
        "  Downloading basemap-1.0.7.tar.gz (129.7MB):  20%  26.3MB"
       ]
      },
      {
       "output_type": "stream",
       "stream": "stdout",
       "text": [
        "\r",
        "  Downloading basemap-1.0.7.tar.gz (129.7MB):  20%  26.3MB\r",
        "  Downloading basemap-1.0.7.tar.gz (129.7MB):  20%  26.3MB\r",
        "  Downloading basemap-1.0.7.tar.gz (129.7MB):  20%  26.3MB\r",
        "  Downloading basemap-1.0.7.tar.gz (129.7MB):  20%  26.3MB\r",
        "  Downloading basemap-1.0.7.tar.gz (129.7MB):  20%  26.3MB\r",
        "  Downloading basemap-1.0.7.tar.gz (129.7MB):  20%  26.3MB\r",
        "  Downloading basemap-1.0.7.tar.gz (129.7MB):  20%  26.3MB\r",
        "  Downloading basemap-1.0.7.tar.gz (129.7MB):  20%  26.3MB\r",
        "  Downloading basemap-1.0.7.tar.gz (129.7MB):  20%  26.3MB\r",
        "  Downloading basemap-1.0.7.tar.gz (129.7MB):  20%  26.3MB\r",
        "  Downloading basemap-1.0.7.tar.gz (129.7MB):  20%  26.3MB\r",
        "  Downloading basemap-1.0.7.tar.gz (129.7MB):  20%  26.3MB"
       ]
      },
      {
       "output_type": "stream",
       "stream": "stdout",
       "text": [
        "\r",
        "  Downloading basemap-1.0.7.tar.gz (129.7MB):  20%  26.3MB\r",
        "  Downloading basemap-1.0.7.tar.gz (129.7MB):  20%  26.3MB\r",
        "  Downloading basemap-1.0.7.tar.gz (129.7MB):  20%  26.3MB\r",
        "  Downloading basemap-1.0.7.tar.gz (129.7MB):  20%  26.3MB\r",
        "  Downloading basemap-1.0.7.tar.gz (129.7MB):  20%  26.3MB\r",
        "  Downloading basemap-1.0.7.tar.gz (129.7MB):  20%  26.4MB\r",
        "  Downloading basemap-1.0.7.tar.gz (129.7MB):  20%  26.4MB\r",
        "  Downloading basemap-1.0.7.tar.gz (129.7MB):  20%  26.4MB\r",
        "  Downloading basemap-1.0.7.tar.gz (129.7MB):  20%  26.4MB\r",
        "  Downloading basemap-1.0.7.tar.gz (129.7MB):  20%  26.4MB\r",
        "  Downloading basemap-1.0.7.tar.gz (129.7MB):  20%  26.4MB\r",
        "  Downloading basemap-1.0.7.tar.gz (129.7MB):  20%  26.4MB\r",
        "  Downloading basemap-1.0.7.tar.gz (129.7MB):  20%  26.4MB"
       ]
      },
      {
       "output_type": "stream",
       "stream": "stdout",
       "text": [
        "\r",
        "  Downloading basemap-1.0.7.tar.gz (129.7MB):  20%  26.4MB\r",
        "  Downloading basemap-1.0.7.tar.gz (129.7MB):  20%  26.4MB\r",
        "  Downloading basemap-1.0.7.tar.gz (129.7MB):  20%  26.4MB\r",
        "  Downloading basemap-1.0.7.tar.gz (129.7MB):  20%  26.4MB"
       ]
      },
      {
       "output_type": "stream",
       "stream": "stdout",
       "text": [
        "\r",
        "  Downloading basemap-1.0.7.tar.gz (129.7MB):  20%  26.4MB\r",
        "  Downloading basemap-1.0.7.tar.gz (129.7MB):  20%  26.4MB\r",
        "  Downloading basemap-1.0.7.tar.gz (129.7MB):  20%  26.4MB\r",
        "  Downloading basemap-1.0.7.tar.gz (129.7MB):  20%  26.4MB\r",
        "  Downloading basemap-1.0.7.tar.gz (129.7MB):  20%  26.4MB\r",
        "  Downloading basemap-1.0.7.tar.gz (129.7MB):  20%  26.4MB\r",
        "  Downloading basemap-1.0.7.tar.gz (129.7MB):  20%  26.4MB\r",
        "  Downloading basemap-1.0.7.tar.gz (129.7MB):  20%  26.4MB\r",
        "  Downloading basemap-1.0.7.tar.gz (129.7MB):  20%  26.4MB"
       ]
      },
      {
       "output_type": "stream",
       "stream": "stdout",
       "text": [
        "\r",
        "  Downloading basemap-1.0.7.tar.gz (129.7MB):  20%  26.4MB\r",
        "  Downloading basemap-1.0.7.tar.gz (129.7MB):  20%  26.4MB\r",
        "  Downloading basemap-1.0.7.tar.gz (129.7MB):  20%  26.4MB\r",
        "  Downloading basemap-1.0.7.tar.gz (129.7MB):  20%  26.5MB\r",
        "  Downloading basemap-1.0.7.tar.gz (129.7MB):  20%  26.5MB\r",
        "  Downloading basemap-1.0.7.tar.gz (129.7MB):  20%  26.5MB\r",
        "  Downloading basemap-1.0.7.tar.gz (129.7MB):  20%  26.5MB\r",
        "  Downloading basemap-1.0.7.tar.gz (129.7MB):  20%  26.5MB"
       ]
      },
      {
       "output_type": "stream",
       "stream": "stdout",
       "text": [
        "\r",
        "  Downloading basemap-1.0.7.tar.gz (129.7MB):  20%  26.5MB\r",
        "  Downloading basemap-1.0.7.tar.gz (129.7MB):  20%  26.5MB\r",
        "  Downloading basemap-1.0.7.tar.gz (129.7MB):  20%  26.5MB\r",
        "  Downloading basemap-1.0.7.tar.gz (129.7MB):  20%  26.5MB\r",
        "  Downloading basemap-1.0.7.tar.gz (129.7MB):  20%  26.5MB\r",
        "  Downloading basemap-1.0.7.tar.gz (129.7MB):  20%  26.5MB\r",
        "  Downloading basemap-1.0.7.tar.gz (129.7MB):  20%  26.5MB\r",
        "  Downloading basemap-1.0.7.tar.gz (129.7MB):  20%  26.5MB\r",
        "  Downloading basemap-1.0.7.tar.gz (129.7MB):  20%  26.5MB\r",
        "  Downloading basemap-1.0.7.tar.gz (129.7MB):  20%  26.5MB\r",
        "  Downloading basemap-1.0.7.tar.gz (129.7MB):  20%  26.5MB\r",
        "  Downloading basemap-1.0.7.tar.gz (129.7MB):  20%  26.5MB\r",
        "  Downloading basemap-1.0.7.tar.gz (129.7MB):  20%  26.5MB\r",
        "  Downloading basemap-1.0.7.tar.gz (129.7MB):  20%  26.5MB\r",
        "  Downloading basemap-1.0.7.tar.gz (129.7MB):  20%  26.5MB\r",
        "  Downloading basemap-1.0.7.tar.gz (129.7MB):  20%  26.5MB\r",
        "  Downloading basemap-1.0.7.tar.gz (129.7MB):  20%  26.5MB\r",
        "  Downloading basemap-1.0.7.tar.gz (129.7MB):  20%  26.5MB"
       ]
      },
      {
       "output_type": "stream",
       "stream": "stdout",
       "text": [
        "\r",
        "  Downloading basemap-1.0.7.tar.gz (129.7MB):  20%  26.5MB"
       ]
      },
      {
       "output_type": "stream",
       "stream": "stdout",
       "text": [
        "\r",
        "  Downloading basemap-1.0.7.tar.gz (129.7MB):  20%  26.6MB\r",
        "  Downloading basemap-1.0.7.tar.gz (129.7MB):  20%  26.6MB\r",
        "  Downloading basemap-1.0.7.tar.gz (129.7MB):  20%  26.6MB\r",
        "  Downloading basemap-1.0.7.tar.gz (129.7MB):  20%  26.6MB"
       ]
      },
      {
       "output_type": "stream",
       "stream": "stdout",
       "text": [
        "\r",
        "  Downloading basemap-1.0.7.tar.gz (129.7MB):  20%  26.6MB\r",
        "  Downloading basemap-1.0.7.tar.gz (129.7MB):  20%  26.6MB\r",
        "  Downloading basemap-1.0.7.tar.gz (129.7MB):  20%  26.6MB\r",
        "  Downloading basemap-1.0.7.tar.gz (129.7MB):  20%  26.6MB\r",
        "  Downloading basemap-1.0.7.tar.gz (129.7MB):  20%  26.6MB\r",
        "  Downloading basemap-1.0.7.tar.gz (129.7MB):  20%  26.6MB\r",
        "  Downloading basemap-1.0.7.tar.gz (129.7MB):  20%  26.6MB\r",
        "  Downloading basemap-1.0.7.tar.gz (129.7MB):  20%  26.6MB\r",
        "  Downloading basemap-1.0.7.tar.gz (129.7MB):  20%  26.6MB\r",
        "  Downloading basemap-1.0.7.tar.gz (129.7MB):  20%  26.6MB"
       ]
      },
      {
       "output_type": "stream",
       "stream": "stdout",
       "text": [
        "\r",
        "  Downloading basemap-1.0.7.tar.gz (129.7MB):  20%  26.6MB\r",
        "  Downloading basemap-1.0.7.tar.gz (129.7MB):  20%  26.6MB\r",
        "  Downloading basemap-1.0.7.tar.gz (129.7MB):  20%  26.6MB\r",
        "  Downloading basemap-1.0.7.tar.gz (129.7MB):  20%  26.6MB\r",
        "  Downloading basemap-1.0.7.tar.gz (129.7MB):  20%  26.6MB\r",
        "  Downloading basemap-1.0.7.tar.gz (129.7MB):  20%  26.6MB\r",
        "  Downloading basemap-1.0.7.tar.gz (129.7MB):  20%  26.6MB\r",
        "  Downloading basemap-1.0.7.tar.gz (129.7MB):  20%  26.6MB\r",
        "  Downloading basemap-1.0.7.tar.gz (129.7MB):  20%  26.6MB\r",
        "  Downloading basemap-1.0.7.tar.gz (129.7MB):  20%  26.6MB\r",
        "  Downloading basemap-1.0.7.tar.gz (129.7MB):  20%  26.6MB\r",
        "  Downloading basemap-1.0.7.tar.gz (129.7MB):  20%  26.7MB\r",
        "  Downloading basemap-1.0.7.tar.gz (129.7MB):  20%  26.7MB"
       ]
      },
      {
       "output_type": "stream",
       "stream": "stdout",
       "text": [
        "\r",
        "  Downloading basemap-1.0.7.tar.gz (129.7MB):  20%  26.7MB\r",
        "  Downloading basemap-1.0.7.tar.gz (129.7MB):  20%  26.7MB\r",
        "  Downloading basemap-1.0.7.tar.gz (129.7MB):  20%  26.7MB\r",
        "  Downloading basemap-1.0.7.tar.gz (129.7MB):  20%  26.7MB\r",
        "  Downloading basemap-1.0.7.tar.gz (129.7MB):  20%  26.7MB\r",
        "  Downloading basemap-1.0.7.tar.gz (129.7MB):  20%  26.7MB\r",
        "  Downloading basemap-1.0.7.tar.gz (129.7MB):  20%  26.7MB\r",
        "  Downloading basemap-1.0.7.tar.gz (129.7MB):  20%  26.7MB\r",
        "  Downloading basemap-1.0.7.tar.gz (129.7MB):  20%  26.7MB\r",
        "  Downloading basemap-1.0.7.tar.gz (129.7MB):  20%  26.7MB\r",
        "  Downloading basemap-1.0.7.tar.gz (129.7MB):  20%  26.7MB\r",
        "  Downloading basemap-1.0.7.tar.gz (129.7MB):  20%  26.7MB\r",
        "  Downloading basemap-1.0.7.tar.gz (129.7MB):  20%  26.7MB\r",
        "  Downloading basemap-1.0.7.tar.gz (129.7MB):  20%  26.7MB\r",
        "  Downloading basemap-1.0.7.tar.gz (129.7MB):  20%  26.7MB"
       ]
      },
      {
       "output_type": "stream",
       "stream": "stdout",
       "text": [
        "\r",
        "  Downloading basemap-1.0.7.tar.gz (129.7MB):  20%  26.7MB\r",
        "  Downloading basemap-1.0.7.tar.gz (129.7MB):  20%  26.7MB\r",
        "  Downloading basemap-1.0.7.tar.gz (129.7MB):  20%  26.7MB\r",
        "  Downloading basemap-1.0.7.tar.gz (129.7MB):  20%  26.7MB\r",
        "  Downloading basemap-1.0.7.tar.gz (129.7MB):  20%  26.7MB"
       ]
      },
      {
       "output_type": "stream",
       "stream": "stdout",
       "text": [
        "\r",
        "  Downloading basemap-1.0.7.tar.gz (129.7MB):  20%  26.7MB\r",
        "  Downloading basemap-1.0.7.tar.gz (129.7MB):  20%  26.7MB\r",
        "  Downloading basemap-1.0.7.tar.gz (129.7MB):  20%  26.8MB\r",
        "  Downloading basemap-1.0.7.tar.gz (129.7MB):  20%  26.8MB\r",
        "  Downloading basemap-1.0.7.tar.gz (129.7MB):  20%  26.8MB\r",
        "  Downloading basemap-1.0.7.tar.gz (129.7MB):  20%  26.8MB\r",
        "  Downloading basemap-1.0.7.tar.gz (129.7MB):  20%  26.8MB\r",
        "  Downloading basemap-1.0.7.tar.gz (129.7MB):  20%  26.8MB\r",
        "  Downloading basemap-1.0.7.tar.gz (129.7MB):  20%  26.8MB\r",
        "  Downloading basemap-1.0.7.tar.gz (129.7MB):  20%  26.8MB"
       ]
      },
      {
       "output_type": "stream",
       "stream": "stdout",
       "text": [
        "\r",
        "  Downloading basemap-1.0.7.tar.gz (129.7MB):  20%  26.8MB\r",
        "  Downloading basemap-1.0.7.tar.gz (129.7MB):  20%  26.8MB"
       ]
      },
      {
       "output_type": "stream",
       "stream": "stdout",
       "text": [
        "\r",
        "  Downloading basemap-1.0.7.tar.gz (129.7MB):  20%  26.8MB\r",
        "  Downloading basemap-1.0.7.tar.gz (129.7MB):  20%  26.8MB\r",
        "  Downloading basemap-1.0.7.tar.gz (129.7MB):  20%  26.8MB\r",
        "  Downloading basemap-1.0.7.tar.gz (129.7MB):  20%  26.8MB\r",
        "  Downloading basemap-1.0.7.tar.gz (129.7MB):  20%  26.8MB\r",
        "  Downloading basemap-1.0.7.tar.gz (129.7MB):  20%  26.8MB\r",
        "  Downloading basemap-1.0.7.tar.gz (129.7MB):  20%  26.8MB\r",
        "  Downloading basemap-1.0.7.tar.gz (129.7MB):  20%  26.8MB\r",
        "  Downloading basemap-1.0.7.tar.gz (129.7MB):  20%  26.8MB\r",
        "  Downloading basemap-1.0.7.tar.gz (129.7MB):  20%  26.8MB\r",
        "  Downloading basemap-1.0.7.tar.gz (129.7MB):  20%  26.8MB\r",
        "  Downloading basemap-1.0.7.tar.gz (129.7MB):  20%  26.8MB\r",
        "  Downloading basemap-1.0.7.tar.gz (129.7MB):  20%  26.8MB"
       ]
      },
      {
       "output_type": "stream",
       "stream": "stdout",
       "text": [
        "\r",
        "  Downloading basemap-1.0.7.tar.gz (129.7MB):  20%  26.8MB\r",
        "  Downloading basemap-1.0.7.tar.gz (129.7MB):  20%  26.8MB\r",
        "  Downloading basemap-1.0.7.tar.gz (129.7MB):  20%  26.9MB\r",
        "  Downloading basemap-1.0.7.tar.gz (129.7MB):  20%  26.9MB\r",
        "  Downloading basemap-1.0.7.tar.gz (129.7MB):  20%  26.9MB\r",
        "  Downloading basemap-1.0.7.tar.gz (129.7MB):  20%  26.9MB\r",
        "  Downloading basemap-1.0.7.tar.gz (129.7MB):  20%  26.9MB\r",
        "  Downloading basemap-1.0.7.tar.gz (129.7MB):  20%  26.9MB\r",
        "  Downloading basemap-1.0.7.tar.gz (129.7MB):  20%  26.9MB\r",
        "  Downloading basemap-1.0.7.tar.gz (129.7MB):  20%  26.9MB\r",
        "  Downloading basemap-1.0.7.tar.gz (129.7MB):  20%  26.9MB\r",
        "  Downloading basemap-1.0.7.tar.gz (129.7MB):  20%  26.9MB\r",
        "  Downloading basemap-1.0.7.tar.gz (129.7MB):  20%  26.9MB"
       ]
      },
      {
       "output_type": "stream",
       "stream": "stdout",
       "text": [
        "\r",
        "  Downloading basemap-1.0.7.tar.gz (129.7MB):  20%  26.9MB\r",
        "  Downloading basemap-1.0.7.tar.gz (129.7MB):  20%  26.9MB"
       ]
      },
      {
       "output_type": "stream",
       "stream": "stdout",
       "text": [
        "\r",
        "  Downloading basemap-1.0.7.tar.gz (129.7MB):  20%  26.9MB\r",
        "  Downloading basemap-1.0.7.tar.gz (129.7MB):  20%  26.9MB\r",
        "  Downloading basemap-1.0.7.tar.gz (129.7MB):  20%  26.9MB\r",
        "  Downloading basemap-1.0.7.tar.gz (129.7MB):  20%  26.9MB\r",
        "  Downloading basemap-1.0.7.tar.gz (129.7MB):  20%  26.9MB\r",
        "  Downloading basemap-1.0.7.tar.gz (129.7MB):  20%  26.9MB\r",
        "  Downloading basemap-1.0.7.tar.gz (129.7MB):  20%  26.9MB"
       ]
      },
      {
       "output_type": "stream",
       "stream": "stdout",
       "text": [
        "\r",
        "  Downloading basemap-1.0.7.tar.gz (129.7MB):  20%  26.9MB\r",
        "  Downloading basemap-1.0.7.tar.gz (129.7MB):  20%  26.9MB\r",
        "  Downloading basemap-1.0.7.tar.gz (129.7MB):  20%  26.9MB\r",
        "  Downloading basemap-1.0.7.tar.gz (129.7MB):  20%  26.9MB\r",
        "  Downloading basemap-1.0.7.tar.gz (129.7MB):  20%  27.0MB\r",
        "  Downloading basemap-1.0.7.tar.gz (129.7MB):  20%  27.0MB\r",
        "  Downloading basemap-1.0.7.tar.gz (129.7MB):  20%  27.0MB\r",
        "  Downloading basemap-1.0.7.tar.gz (129.7MB):  20%  27.0MB"
       ]
      },
      {
       "output_type": "stream",
       "stream": "stdout",
       "text": [
        "\r",
        "  Downloading basemap-1.0.7.tar.gz (129.7MB):  20%  27.0MB\r",
        "  Downloading basemap-1.0.7.tar.gz (129.7MB):  20%  27.0MB\r",
        "  Downloading basemap-1.0.7.tar.gz (129.7MB):  20%  27.0MB"
       ]
      },
      {
       "output_type": "stream",
       "stream": "stdout",
       "text": [
        "\r",
        "  Downloading basemap-1.0.7.tar.gz (129.7MB):  20%  27.0MB\r",
        "  Downloading basemap-1.0.7.tar.gz (129.7MB):  20%  27.0MB\r",
        "  Downloading basemap-1.0.7.tar.gz (129.7MB):  20%  27.0MB\r",
        "  Downloading basemap-1.0.7.tar.gz (129.7MB):  20%  27.0MB\r",
        "  Downloading basemap-1.0.7.tar.gz (129.7MB):  20%  27.0MB\r",
        "  Downloading basemap-1.0.7.tar.gz (129.7MB):  20%  27.0MB\r",
        "  Downloading basemap-1.0.7.tar.gz (129.7MB):  20%  27.0MB\r",
        "  Downloading basemap-1.0.7.tar.gz (129.7MB):  20%  27.0MB\r",
        "  Downloading basemap-1.0.7.tar.gz (129.7MB):  20%  27.0MB\r",
        "  Downloading basemap-1.0.7.tar.gz (129.7MB):  20%  27.0MB\r",
        "  Downloading basemap-1.0.7.tar.gz (129.7MB):  20%  27.0MB\r",
        "  Downloading basemap-1.0.7.tar.gz (129.7MB):  20%  27.0MB\r",
        "  Downloading basemap-1.0.7.tar.gz (129.7MB):  20%  27.0MB"
       ]
      },
      {
       "output_type": "stream",
       "stream": "stdout",
       "text": [
        "\r",
        "  Downloading basemap-1.0.7.tar.gz (129.7MB):  20%  27.0MB\r",
        "  Downloading basemap-1.0.7.tar.gz (129.7MB):  20%  27.0MB\r",
        "  Downloading basemap-1.0.7.tar.gz (129.7MB):  20%  27.0MB\r",
        "  Downloading basemap-1.0.7.tar.gz (129.7MB):  20%  27.0MB\r",
        "  Downloading basemap-1.0.7.tar.gz (129.7MB):  20%  27.0MB\r",
        "  Downloading basemap-1.0.7.tar.gz (129.7MB):  20%  27.1MB\r",
        "  Downloading basemap-1.0.7.tar.gz (129.7MB):  20%  27.1MB\r",
        "  Downloading basemap-1.0.7.tar.gz (129.7MB):  20%  27.1MB\r",
        "  Downloading basemap-1.0.7.tar.gz (129.7MB):  20%  27.1MB\r",
        "  Downloading basemap-1.0.7.tar.gz (129.7MB):  20%  27.1MB\r",
        "  Downloading basemap-1.0.7.tar.gz (129.7MB):  20%  27.1MB\r",
        "  Downloading basemap-1.0.7.tar.gz (129.7MB):  20%  27.1MB\r",
        "  Downloading basemap-1.0.7.tar.gz (129.7MB):  20%  27.1MB"
       ]
      },
      {
       "output_type": "stream",
       "stream": "stdout",
       "text": [
        "\r",
        "  Downloading basemap-1.0.7.tar.gz (129.7MB):  20%  27.1MB\r",
        "  Downloading basemap-1.0.7.tar.gz (129.7MB):  20%  27.1MB\r",
        "  Downloading basemap-1.0.7.tar.gz (129.7MB):  20%  27.1MB\r",
        "  Downloading basemap-1.0.7.tar.gz (129.7MB):  20%  27.1MB\r",
        "  Downloading basemap-1.0.7.tar.gz (129.7MB):  20%  27.1MB\r",
        "  Downloading basemap-1.0.7.tar.gz (129.7MB):  20%  27.1MB\r",
        "  Downloading basemap-1.0.7.tar.gz (129.7MB):  20%  27.1MB\r",
        "  Downloading basemap-1.0.7.tar.gz (129.7MB):  20%  27.1MB\r",
        "  Downloading basemap-1.0.7.tar.gz (129.7MB):  20%  27.1MB\r",
        "  Downloading basemap-1.0.7.tar.gz (129.7MB):  20%  27.1MB\r",
        "  Downloading basemap-1.0.7.tar.gz (129.7MB):  20%  27.1MB\r",
        "  Downloading basemap-1.0.7.tar.gz (129.7MB):  20%  27.1MB\r",
        "  Downloading basemap-1.0.7.tar.gz (129.7MB):  20%  27.1MB\r",
        "  Downloading basemap-1.0.7.tar.gz (129.7MB):  20%  27.1MB\r",
        "  Downloading basemap-1.0.7.tar.gz (129.7MB):  20%  27.1MB\r",
        "  Downloading basemap-1.0.7.tar.gz (129.7MB):  20%  27.1MB\r",
        "  Downloading basemap-1.0.7.tar.gz (129.7MB):  20%  27.2MB"
       ]
      },
      {
       "output_type": "stream",
       "stream": "stdout",
       "text": [
        "\r",
        "  Downloading basemap-1.0.7.tar.gz (129.7MB):  20%  27.2MB\r",
        "  Downloading basemap-1.0.7.tar.gz (129.7MB):  20%  27.2MB\r",
        "  Downloading basemap-1.0.7.tar.gz (129.7MB):  20%  27.2MB\r",
        "  Downloading basemap-1.0.7.tar.gz (129.7MB):  20%  27.2MB\r",
        "  Downloading basemap-1.0.7.tar.gz (129.7MB):  20%  27.2MB\r",
        "  Downloading basemap-1.0.7.tar.gz (129.7MB):  20%  27.2MB\r",
        "  Downloading basemap-1.0.7.tar.gz (129.7MB):  20%  27.2MB\r",
        "  Downloading basemap-1.0.7.tar.gz (129.7MB):  20%  27.2MB"
       ]
      },
      {
       "output_type": "stream",
       "stream": "stdout",
       "text": [
        "\r",
        "  Downloading basemap-1.0.7.tar.gz (129.7MB):  20%  27.2MB\r",
        "  Downloading basemap-1.0.7.tar.gz (129.7MB):  20%  27.2MB\r",
        "  Downloading basemap-1.0.7.tar.gz (129.7MB):  20%  27.2MB\r",
        "  Downloading basemap-1.0.7.tar.gz (129.7MB):  20%  27.2MB\r",
        "  Downloading basemap-1.0.7.tar.gz (129.7MB):  20%  27.2MB\r",
        "  Downloading basemap-1.0.7.tar.gz (129.7MB):  20%  27.2MB\r",
        "  Downloading basemap-1.0.7.tar.gz (129.7MB):  20%  27.2MB\r",
        "  Downloading basemap-1.0.7.tar.gz (129.7MB):  20%  27.2MB\r",
        "  Downloading basemap-1.0.7.tar.gz (129.7MB):  20%  27.2MB"
       ]
      },
      {
       "output_type": "stream",
       "stream": "stdout",
       "text": [
        "\r",
        "  Downloading basemap-1.0.7.tar.gz (129.7MB):  20%  27.2MB\r",
        "  Downloading basemap-1.0.7.tar.gz (129.7MB):  20%  27.2MB\r",
        "  Downloading basemap-1.0.7.tar.gz (129.7MB):  20%  27.2MB\r",
        "  Downloading basemap-1.0.7.tar.gz (129.7MB):  21%  27.2MB\r",
        "  Downloading basemap-1.0.7.tar.gz (129.7MB):  21%  27.2MB"
       ]
      },
      {
       "output_type": "stream",
       "stream": "stdout",
       "text": [
        "\r",
        "  Downloading basemap-1.0.7.tar.gz (129.7MB):  21%  27.2MB\r",
        "  Downloading basemap-1.0.7.tar.gz (129.7MB):  21%  27.3MB\r",
        "  Downloading basemap-1.0.7.tar.gz (129.7MB):  21%  27.3MB\r",
        "  Downloading basemap-1.0.7.tar.gz (129.7MB):  21%  27.3MB"
       ]
      },
      {
       "output_type": "stream",
       "stream": "stdout",
       "text": [
        "\r",
        "  Downloading basemap-1.0.7.tar.gz (129.7MB):  21%  27.3MB\r",
        "  Downloading basemap-1.0.7.tar.gz (129.7MB):  21%  27.3MB\r",
        "  Downloading basemap-1.0.7.tar.gz (129.7MB):  21%  27.3MB\r",
        "  Downloading basemap-1.0.7.tar.gz (129.7MB):  21%  27.3MB\r",
        "  Downloading basemap-1.0.7.tar.gz (129.7MB):  21%  27.3MB\r",
        "  Downloading basemap-1.0.7.tar.gz (129.7MB):  21%  27.3MB\r",
        "  Downloading basemap-1.0.7.tar.gz (129.7MB):  21%  27.3MB\r",
        "  Downloading basemap-1.0.7.tar.gz (129.7MB):  21%  27.3MB\r",
        "  Downloading basemap-1.0.7.tar.gz (129.7MB):  21%  27.3MB\r",
        "  Downloading basemap-1.0.7.tar.gz (129.7MB):  21%  27.3MB"
       ]
      },
      {
       "output_type": "stream",
       "stream": "stdout",
       "text": [
        "\r",
        "  Downloading basemap-1.0.7.tar.gz (129.7MB):  21%  27.3MB\r",
        "  Downloading basemap-1.0.7.tar.gz (129.7MB):  21%  27.3MB\r",
        "  Downloading basemap-1.0.7.tar.gz (129.7MB):  21%  27.3MB\r",
        "  Downloading basemap-1.0.7.tar.gz (129.7MB):  21%  27.3MB\r",
        "  Downloading basemap-1.0.7.tar.gz (129.7MB):  21%  27.3MB\r",
        "  Downloading basemap-1.0.7.tar.gz (129.7MB):  21%  27.3MB\r",
        "  Downloading basemap-1.0.7.tar.gz (129.7MB):  21%  27.3MB\r",
        "  Downloading basemap-1.0.7.tar.gz (129.7MB):  21%  27.3MB\r",
        "  Downloading basemap-1.0.7.tar.gz (129.7MB):  21%  27.3MB"
       ]
      },
      {
       "output_type": "stream",
       "stream": "stdout",
       "text": [
        "\r",
        "  Downloading basemap-1.0.7.tar.gz (129.7MB):  21%  27.3MB\r",
        "  Downloading basemap-1.0.7.tar.gz (129.7MB):  21%  27.3MB\r",
        "  Downloading basemap-1.0.7.tar.gz (129.7MB):  21%  27.3MB\r",
        "  Downloading basemap-1.0.7.tar.gz (129.7MB):  21%  27.4MB\r",
        "  Downloading basemap-1.0.7.tar.gz (129.7MB):  21%  27.4MB\r",
        "  Downloading basemap-1.0.7.tar.gz (129.7MB):  21%  27.4MB\r",
        "  Downloading basemap-1.0.7.tar.gz (129.7MB):  21%  27.4MB\r",
        "  Downloading basemap-1.0.7.tar.gz (129.7MB):  21%  27.4MB"
       ]
      },
      {
       "output_type": "stream",
       "stream": "stdout",
       "text": [
        "\r",
        "  Downloading basemap-1.0.7.tar.gz (129.7MB):  21%  27.4MB\r",
        "  Downloading basemap-1.0.7.tar.gz (129.7MB):  21%  27.4MB"
       ]
      },
      {
       "output_type": "stream",
       "stream": "stdout",
       "text": [
        "\r",
        "  Downloading basemap-1.0.7.tar.gz (129.7MB):  21%  27.4MB\r",
        "  Downloading basemap-1.0.7.tar.gz (129.7MB):  21%  27.4MB\r",
        "  Downloading basemap-1.0.7.tar.gz (129.7MB):  21%  27.4MB"
       ]
      },
      {
       "output_type": "stream",
       "stream": "stdout",
       "text": [
        "\r",
        "  Downloading basemap-1.0.7.tar.gz (129.7MB):  21%  27.4MB\r",
        "  Downloading basemap-1.0.7.tar.gz (129.7MB):  21%  27.4MB\r",
        "  Downloading basemap-1.0.7.tar.gz (129.7MB):  21%  27.4MB\r",
        "  Downloading basemap-1.0.7.tar.gz (129.7MB):  21%  27.4MB\r",
        "  Downloading basemap-1.0.7.tar.gz (129.7MB):  21%  27.4MB\r",
        "  Downloading basemap-1.0.7.tar.gz (129.7MB):  21%  27.4MB\r",
        "  Downloading basemap-1.0.7.tar.gz (129.7MB):  21%  27.4MB\r",
        "  Downloading basemap-1.0.7.tar.gz (129.7MB):  21%  27.4MB"
       ]
      },
      {
       "output_type": "stream",
       "stream": "stdout",
       "text": [
        "\r",
        "  Downloading basemap-1.0.7.tar.gz (129.7MB):  21%  27.4MB\r",
        "  Downloading basemap-1.0.7.tar.gz (129.7MB):  21%  27.4MB\r",
        "  Downloading basemap-1.0.7.tar.gz (129.7MB):  21%  27.4MB"
       ]
      },
      {
       "output_type": "stream",
       "stream": "stdout",
       "text": [
        "\r",
        "  Downloading basemap-1.0.7.tar.gz (129.7MB):  21%  27.4MB\r",
        "  Downloading basemap-1.0.7.tar.gz (129.7MB):  21%  27.4MB\r",
        "  Downloading basemap-1.0.7.tar.gz (129.7MB):  21%  27.4MB\r",
        "  Downloading basemap-1.0.7.tar.gz (129.7MB):  21%  27.5MB\r",
        "  Downloading basemap-1.0.7.tar.gz (129.7MB):  21%  27.5MB\r",
        "  Downloading basemap-1.0.7.tar.gz (129.7MB):  21%  27.5MB\r",
        "  Downloading basemap-1.0.7.tar.gz (129.7MB):  21%  27.5MB\r",
        "  Downloading basemap-1.0.7.tar.gz (129.7MB):  21%  27.5MB"
       ]
      },
      {
       "output_type": "stream",
       "stream": "stdout",
       "text": [
        "\r",
        "  Downloading basemap-1.0.7.tar.gz (129.7MB):  21%  27.5MB\r",
        "  Downloading basemap-1.0.7.tar.gz (129.7MB):  21%  27.5MB"
       ]
      },
      {
       "output_type": "stream",
       "stream": "stdout",
       "text": [
        "\r",
        "  Downloading basemap-1.0.7.tar.gz (129.7MB):  21%  27.5MB\r",
        "  Downloading basemap-1.0.7.tar.gz (129.7MB):  21%  27.5MB\r",
        "  Downloading basemap-1.0.7.tar.gz (129.7MB):  21%  27.5MB\r",
        "  Downloading basemap-1.0.7.tar.gz (129.7MB):  21%  27.5MB\r",
        "  Downloading basemap-1.0.7.tar.gz (129.7MB):  21%  27.5MB\r",
        "  Downloading basemap-1.0.7.tar.gz (129.7MB):  21%  27.5MB\r",
        "  Downloading basemap-1.0.7.tar.gz (129.7MB):  21%  27.5MB\r",
        "  Downloading basemap-1.0.7.tar.gz (129.7MB):  21%  27.5MB\r",
        "  Downloading basemap-1.0.7.tar.gz (129.7MB):  21%  27.5MB\r",
        "  Downloading basemap-1.0.7.tar.gz (129.7MB):  21%  27.5MB\r",
        "  Downloading basemap-1.0.7.tar.gz (129.7MB):  21%  27.5MB"
       ]
      },
      {
       "output_type": "stream",
       "stream": "stdout",
       "text": [
        "\r",
        "  Downloading basemap-1.0.7.tar.gz (129.7MB):  21%  27.5MB\r",
        "  Downloading basemap-1.0.7.tar.gz (129.7MB):  21%  27.5MB\r",
        "  Downloading basemap-1.0.7.tar.gz (129.7MB):  21%  27.5MB\r",
        "  Downloading basemap-1.0.7.tar.gz (129.7MB):  21%  27.5MB\r",
        "  Downloading basemap-1.0.7.tar.gz (129.7MB):  21%  27.5MB\r",
        "  Downloading basemap-1.0.7.tar.gz (129.7MB):  21%  27.5MB\r",
        "  Downloading basemap-1.0.7.tar.gz (129.7MB):  21%  27.5MB\r",
        "  Downloading basemap-1.0.7.tar.gz (129.7MB):  21%  27.6MB\r",
        "  Downloading basemap-1.0.7.tar.gz (129.7MB):  21%  27.6MB\r",
        "  Downloading basemap-1.0.7.tar.gz (129.7MB):  21%  27.6MB"
       ]
      },
      {
       "output_type": "stream",
       "stream": "stdout",
       "text": [
        "\r",
        "  Downloading basemap-1.0.7.tar.gz (129.7MB):  21%  27.6MB"
       ]
      },
      {
       "output_type": "stream",
       "stream": "stdout",
       "text": [
        "\r",
        "  Downloading basemap-1.0.7.tar.gz (129.7MB):  21%  27.6MB\r",
        "  Downloading basemap-1.0.7.tar.gz (129.7MB):  21%  27.6MB\r",
        "  Downloading basemap-1.0.7.tar.gz (129.7MB):  21%  27.6MB\r",
        "  Downloading basemap-1.0.7.tar.gz (129.7MB):  21%  27.6MB\r",
        "  Downloading basemap-1.0.7.tar.gz (129.7MB):  21%  27.6MB\r",
        "  Downloading basemap-1.0.7.tar.gz (129.7MB):  21%  27.6MB\r",
        "  Downloading basemap-1.0.7.tar.gz (129.7MB):  21%  27.6MB\r",
        "  Downloading basemap-1.0.7.tar.gz (129.7MB):  21%  27.6MB\r",
        "  Downloading basemap-1.0.7.tar.gz (129.7MB):  21%  27.6MB\r",
        "  Downloading basemap-1.0.7.tar.gz (129.7MB):  21%  27.6MB"
       ]
      },
      {
       "output_type": "stream",
       "stream": "stdout",
       "text": [
        "\r",
        "  Downloading basemap-1.0.7.tar.gz (129.7MB):  21%  27.6MB"
       ]
      },
      {
       "output_type": "stream",
       "stream": "stdout",
       "text": [
        "\r",
        "  Downloading basemap-1.0.7.tar.gz (129.7MB):  21%  27.6MB\r",
        "  Downloading basemap-1.0.7.tar.gz (129.7MB):  21%  27.6MB"
       ]
      },
      {
       "output_type": "stream",
       "stream": "stdout",
       "text": [
        "\r",
        "  Downloading basemap-1.0.7.tar.gz (129.7MB):  21%  27.6MB\r",
        "  Downloading basemap-1.0.7.tar.gz (129.7MB):  21%  27.6MB\r",
        "  Downloading basemap-1.0.7.tar.gz (129.7MB):  21%  27.6MB\r",
        "  Downloading basemap-1.0.7.tar.gz (129.7MB):  21%  27.6MB\r",
        "  Downloading basemap-1.0.7.tar.gz (129.7MB):  21%  27.6MB\r",
        "  Downloading basemap-1.0.7.tar.gz (129.7MB):  21%  27.6MB\r",
        "  Downloading basemap-1.0.7.tar.gz (129.7MB):  21%  27.6MB\r",
        "  Downloading basemap-1.0.7.tar.gz (129.7MB):  21%  27.7MB\r",
        "  Downloading basemap-1.0.7.tar.gz (129.7MB):  21%  27.7MB\r",
        "  Downloading basemap-1.0.7.tar.gz (129.7MB):  21%  27.7MB"
       ]
      },
      {
       "output_type": "stream",
       "stream": "stdout",
       "text": [
        "\r",
        "  Downloading basemap-1.0.7.tar.gz (129.7MB):  21%  27.7MB\r",
        "  Downloading basemap-1.0.7.tar.gz (129.7MB):  21%  27.7MB\r",
        "  Downloading basemap-1.0.7.tar.gz (129.7MB):  21%  27.7MB\r",
        "  Downloading basemap-1.0.7.tar.gz (129.7MB):  21%  27.7MB\r",
        "  Downloading basemap-1.0.7.tar.gz (129.7MB):  21%  27.7MB\r",
        "  Downloading basemap-1.0.7.tar.gz (129.7MB):  21%  27.7MB\r",
        "  Downloading basemap-1.0.7.tar.gz (129.7MB):  21%  27.7MB\r",
        "  Downloading basemap-1.0.7.tar.gz (129.7MB):  21%  27.7MB\r",
        "  Downloading basemap-1.0.7.tar.gz (129.7MB):  21%  27.7MB\r",
        "  Downloading basemap-1.0.7.tar.gz (129.7MB):  21%  27.7MB\r",
        "  Downloading basemap-1.0.7.tar.gz (129.7MB):  21%  27.7MB"
       ]
      },
      {
       "output_type": "stream",
       "stream": "stdout",
       "text": [
        "\r",
        "  Downloading basemap-1.0.7.tar.gz (129.7MB):  21%  27.7MB"
       ]
      },
      {
       "output_type": "stream",
       "stream": "stdout",
       "text": [
        "\r",
        "  Downloading basemap-1.0.7.tar.gz (129.7MB):  21%  27.7MB\r",
        "  Downloading basemap-1.0.7.tar.gz (129.7MB):  21%  27.7MB\r",
        "  Downloading basemap-1.0.7.tar.gz (129.7MB):  21%  27.7MB\r",
        "  Downloading basemap-1.0.7.tar.gz (129.7MB):  21%  27.7MB\r",
        "  Downloading basemap-1.0.7.tar.gz (129.7MB):  21%  27.7MB\r",
        "  Downloading basemap-1.0.7.tar.gz (129.7MB):  21%  27.7MB\r",
        "  Downloading basemap-1.0.7.tar.gz (129.7MB):  21%  27.7MB\r",
        "  Downloading basemap-1.0.7.tar.gz (129.7MB):  21%  27.7MB\r",
        "  Downloading basemap-1.0.7.tar.gz (129.7MB):  21%  27.7MB\r",
        "  Downloading basemap-1.0.7.tar.gz (129.7MB):  21%  27.8MB\r",
        "  Downloading basemap-1.0.7.tar.gz (129.7MB):  21%  27.8MB"
       ]
      },
      {
       "output_type": "stream",
       "stream": "stdout",
       "text": [
        "\r",
        "  Downloading basemap-1.0.7.tar.gz (129.7MB):  21%  27.8MB"
       ]
      },
      {
       "output_type": "stream",
       "stream": "stdout",
       "text": [
        "\r",
        "  Downloading basemap-1.0.7.tar.gz (129.7MB):  21%  27.8MB\r",
        "  Downloading basemap-1.0.7.tar.gz (129.7MB):  21%  27.8MB\r",
        "  Downloading basemap-1.0.7.tar.gz (129.7MB):  21%  27.8MB\r",
        "  Downloading basemap-1.0.7.tar.gz (129.7MB):  21%  27.8MB\r",
        "  Downloading basemap-1.0.7.tar.gz (129.7MB):  21%  27.8MB\r",
        "  Downloading basemap-1.0.7.tar.gz (129.7MB):  21%  27.8MB\r",
        "  Downloading basemap-1.0.7.tar.gz (129.7MB):  21%  27.8MB"
       ]
      },
      {
       "output_type": "stream",
       "stream": "stdout",
       "text": [
        "\r",
        "  Downloading basemap-1.0.7.tar.gz (129.7MB):  21%  27.8MB\r",
        "  Downloading basemap-1.0.7.tar.gz (129.7MB):  21%  27.8MB\r",
        "  Downloading basemap-1.0.7.tar.gz (129.7MB):  21%  27.8MB\r",
        "  Downloading basemap-1.0.7.tar.gz (129.7MB):  21%  27.8MB\r",
        "  Downloading basemap-1.0.7.tar.gz (129.7MB):  21%  27.8MB\r",
        "  Downloading basemap-1.0.7.tar.gz (129.7MB):  21%  27.8MB"
       ]
      },
      {
       "output_type": "stream",
       "stream": "stdout",
       "text": [
        "\r",
        "  Downloading basemap-1.0.7.tar.gz (129.7MB):  21%  27.8MB\r",
        "  Downloading basemap-1.0.7.tar.gz (129.7MB):  21%  27.8MB\r",
        "  Downloading basemap-1.0.7.tar.gz (129.7MB):  21%  27.8MB\r",
        "  Downloading basemap-1.0.7.tar.gz (129.7MB):  21%  27.8MB\r",
        "  Downloading basemap-1.0.7.tar.gz (129.7MB):  21%  27.8MB\r",
        "  Downloading basemap-1.0.7.tar.gz (129.7MB):  21%  27.8MB\r",
        "  Downloading basemap-1.0.7.tar.gz (129.7MB):  21%  27.8MB\r",
        "  Downloading basemap-1.0.7.tar.gz (129.7MB):  21%  27.8MB\r",
        "  Downloading basemap-1.0.7.tar.gz (129.7MB):  21%  27.8MB\r",
        "  Downloading basemap-1.0.7.tar.gz (129.7MB):  21%  27.9MB\r",
        "  Downloading basemap-1.0.7.tar.gz (129.7MB):  21%  27.9MB\r",
        "  Downloading basemap-1.0.7.tar.gz (129.7MB):  21%  27.9MB\r",
        "  Downloading basemap-1.0.7.tar.gz (129.7MB):  21%  27.9MB"
       ]
      },
      {
       "output_type": "stream",
       "stream": "stdout",
       "text": [
        "\r",
        "  Downloading basemap-1.0.7.tar.gz (129.7MB):  21%  27.9MB\r",
        "  Downloading basemap-1.0.7.tar.gz (129.7MB):  21%  27.9MB\r",
        "  Downloading basemap-1.0.7.tar.gz (129.7MB):  21%  27.9MB\r",
        "  Downloading basemap-1.0.7.tar.gz (129.7MB):  21%  27.9MB\r",
        "  Downloading basemap-1.0.7.tar.gz (129.7MB):  21%  27.9MB\r",
        "  Downloading basemap-1.0.7.tar.gz (129.7MB):  21%  27.9MB\r",
        "  Downloading basemap-1.0.7.tar.gz (129.7MB):  21%  27.9MB\r",
        "  Downloading basemap-1.0.7.tar.gz (129.7MB):  21%  27.9MB\r",
        "  Downloading basemap-1.0.7.tar.gz (129.7MB):  21%  27.9MB\r",
        "  Downloading basemap-1.0.7.tar.gz (129.7MB):  21%  27.9MB\r",
        "  Downloading basemap-1.0.7.tar.gz (129.7MB):  21%  27.9MB\r",
        "  Downloading basemap-1.0.7.tar.gz (129.7MB):  21%  27.9MB"
       ]
      },
      {
       "output_type": "stream",
       "stream": "stdout",
       "text": [
        "\r",
        "  Downloading basemap-1.0.7.tar.gz (129.7MB):  21%  27.9MB"
       ]
      },
      {
       "output_type": "stream",
       "stream": "stdout",
       "text": [
        "\r",
        "  Downloading basemap-1.0.7.tar.gz (129.7MB):  21%  27.9MB\r",
        "  Downloading basemap-1.0.7.tar.gz (129.7MB):  21%  27.9MB\r",
        "  Downloading basemap-1.0.7.tar.gz (129.7MB):  21%  27.9MB\r",
        "  Downloading basemap-1.0.7.tar.gz (129.7MB):  21%  27.9MB\r",
        "  Downloading basemap-1.0.7.tar.gz (129.7MB):  21%  27.9MB\r",
        "  Downloading basemap-1.0.7.tar.gz (129.7MB):  21%  27.9MB\r",
        "  Downloading basemap-1.0.7.tar.gz (129.7MB):  21%  27.9MB\r",
        "  Downloading basemap-1.0.7.tar.gz (129.7MB):  21%  28.0MB\r",
        "  Downloading basemap-1.0.7.tar.gz (129.7MB):  21%  28.0MB\r",
        "  Downloading basemap-1.0.7.tar.gz (129.7MB):  21%  28.0MB\r",
        "  Downloading basemap-1.0.7.tar.gz (129.7MB):  21%  28.0MB"
       ]
      },
      {
       "output_type": "stream",
       "stream": "stdout",
       "text": [
        "\r",
        "  Downloading basemap-1.0.7.tar.gz (129.7MB):  21%  28.0MB\r",
        "  Downloading basemap-1.0.7.tar.gz (129.7MB):  21%  28.0MB\r",
        "  Downloading basemap-1.0.7.tar.gz (129.7MB):  21%  28.0MB"
       ]
      },
      {
       "output_type": "stream",
       "stream": "stdout",
       "text": [
        "\r",
        "  Downloading basemap-1.0.7.tar.gz (129.7MB):  21%  28.0MB"
       ]
      },
      {
       "output_type": "stream",
       "stream": "stdout",
       "text": [
        "\r",
        "  Downloading basemap-1.0.7.tar.gz (129.7MB):  21%  28.0MB\r",
        "  Downloading basemap-1.0.7.tar.gz (129.7MB):  21%  28.0MB\r",
        "  Downloading basemap-1.0.7.tar.gz (129.7MB):  21%  28.0MB\r",
        "  Downloading basemap-1.0.7.tar.gz (129.7MB):  21%  28.0MB\r",
        "  Downloading basemap-1.0.7.tar.gz (129.7MB):  21%  28.0MB\r",
        "  Downloading basemap-1.0.7.tar.gz (129.7MB):  21%  28.0MB\r",
        "  Downloading basemap-1.0.7.tar.gz (129.7MB):  21%  28.0MB\r",
        "  Downloading basemap-1.0.7.tar.gz (129.7MB):  21%  28.0MB\r",
        "  Downloading basemap-1.0.7.tar.gz (129.7MB):  21%  28.0MB\r",
        "  Downloading basemap-1.0.7.tar.gz (129.7MB):  21%  28.0MB\r",
        "  Downloading basemap-1.0.7.tar.gz (129.7MB):  21%  28.0MB\r",
        "  Downloading basemap-1.0.7.tar.gz (129.7MB):  21%  28.0MB\r",
        "  Downloading basemap-1.0.7.tar.gz (129.7MB):  21%  28.0MB"
       ]
      },
      {
       "output_type": "stream",
       "stream": "stdout",
       "text": [
        "\r",
        "  Downloading basemap-1.0.7.tar.gz (129.7MB):  21%  28.0MB\r",
        "  Downloading basemap-1.0.7.tar.gz (129.7MB):  21%  28.0MB\r",
        "  Downloading basemap-1.0.7.tar.gz (129.7MB):  21%  28.0MB\r",
        "  Downloading basemap-1.0.7.tar.gz (129.7MB):  21%  28.0MB\r",
        "  Downloading basemap-1.0.7.tar.gz (129.7MB):  21%  28.1MB\r",
        "  Downloading basemap-1.0.7.tar.gz (129.7MB):  21%  28.1MB\r",
        "  Downloading basemap-1.0.7.tar.gz (129.7MB):  21%  28.1MB\r",
        "  Downloading basemap-1.0.7.tar.gz (129.7MB):  21%  28.1MB\r",
        "  Downloading basemap-1.0.7.tar.gz (129.7MB):  21%  28.1MB\r",
        "  Downloading basemap-1.0.7.tar.gz (129.7MB):  21%  28.1MB\r",
        "  Downloading basemap-1.0.7.tar.gz (129.7MB):  21%  28.1MB\r",
        "  Downloading basemap-1.0.7.tar.gz (129.7MB):  21%  28.1MB\r",
        "  Downloading basemap-1.0.7.tar.gz (129.7MB):  21%  28.1MB"
       ]
      },
      {
       "output_type": "stream",
       "stream": "stdout",
       "text": [
        "\r",
        "  Downloading basemap-1.0.7.tar.gz (129.7MB):  21%  28.1MB"
       ]
      },
      {
       "output_type": "stream",
       "stream": "stdout",
       "text": [
        "\r",
        "  Downloading basemap-1.0.7.tar.gz (129.7MB):  21%  28.1MB\r",
        "  Downloading basemap-1.0.7.tar.gz (129.7MB):  21%  28.1MB\r",
        "  Downloading basemap-1.0.7.tar.gz (129.7MB):  21%  28.1MB\r",
        "  Downloading basemap-1.0.7.tar.gz (129.7MB):  21%  28.1MB\r",
        "  Downloading basemap-1.0.7.tar.gz (129.7MB):  21%  28.1MB\r",
        "  Downloading basemap-1.0.7.tar.gz (129.7MB):  21%  28.1MB\r",
        "  Downloading basemap-1.0.7.tar.gz (129.7MB):  21%  28.1MB\r",
        "  Downloading basemap-1.0.7.tar.gz (129.7MB):  21%  28.1MB\r",
        "  Downloading basemap-1.0.7.tar.gz (129.7MB):  21%  28.1MB\r",
        "  Downloading basemap-1.0.7.tar.gz (129.7MB):  21%  28.1MB\r",
        "  Downloading basemap-1.0.7.tar.gz (129.7MB):  21%  28.1MB\r",
        "  Downloading basemap-1.0.7.tar.gz (129.7MB):  21%  28.1MB"
       ]
      },
      {
       "output_type": "stream",
       "stream": "stdout",
       "text": [
        "\r",
        "  Downloading basemap-1.0.7.tar.gz (129.7MB):  21%  28.1MB\r",
        "  Downloading basemap-1.0.7.tar.gz (129.7MB):  21%  28.1MB\r",
        "  Downloading basemap-1.0.7.tar.gz (129.7MB):  21%  28.2MB"
       ]
      },
      {
       "output_type": "stream",
       "stream": "stdout",
       "text": [
        "\r",
        "  Downloading basemap-1.0.7.tar.gz (129.7MB):  21%  28.2MB\r",
        "  Downloading basemap-1.0.7.tar.gz (129.7MB):  21%  28.2MB"
       ]
      },
      {
       "output_type": "stream",
       "stream": "stdout",
       "text": [
        "\r",
        "  Downloading basemap-1.0.7.tar.gz (129.7MB):  21%  28.2MB\r",
        "  Downloading basemap-1.0.7.tar.gz (129.7MB):  21%  28.2MB\r",
        "  Downloading basemap-1.0.7.tar.gz (129.7MB):  21%  28.2MB\r",
        "  Downloading basemap-1.0.7.tar.gz (129.7MB):  21%  28.2MB\r",
        "  Downloading basemap-1.0.7.tar.gz (129.7MB):  21%  28.2MB\r",
        "  Downloading basemap-1.0.7.tar.gz (129.7MB):  21%  28.2MB\r",
        "  Downloading basemap-1.0.7.tar.gz (129.7MB):  21%  28.2MB\r",
        "  Downloading basemap-1.0.7.tar.gz (129.7MB):  21%  28.2MB\r",
        "  Downloading basemap-1.0.7.tar.gz (129.7MB):  21%  28.2MB\r",
        "  Downloading basemap-1.0.7.tar.gz (129.7MB):  21%  28.2MB\r",
        "  Downloading basemap-1.0.7.tar.gz (129.7MB):  21%  28.2MB\r",
        "  Downloading basemap-1.0.7.tar.gz (129.7MB):  21%  28.2MB\r",
        "  Downloading basemap-1.0.7.tar.gz (129.7MB):  21%  28.2MB"
       ]
      },
      {
       "output_type": "stream",
       "stream": "stdout",
       "text": [
        "\r",
        "  Downloading basemap-1.0.7.tar.gz (129.7MB):  21%  28.2MB\r",
        "  Downloading basemap-1.0.7.tar.gz (129.7MB):  21%  28.2MB\r",
        "  Downloading basemap-1.0.7.tar.gz (129.7MB):  21%  28.2MB\r",
        "  Downloading basemap-1.0.7.tar.gz (129.7MB):  21%  28.2MB\r",
        "  Downloading basemap-1.0.7.tar.gz (129.7MB):  21%  28.2MB\r",
        "  Downloading basemap-1.0.7.tar.gz (129.7MB):  21%  28.2MB\r",
        "  Downloading basemap-1.0.7.tar.gz (129.7MB):  21%  28.2MB\r",
        "  Downloading basemap-1.0.7.tar.gz (129.7MB):  21%  28.2MB\r",
        "  Downloading basemap-1.0.7.tar.gz (129.7MB):  21%  28.3MB\r",
        "  Downloading basemap-1.0.7.tar.gz (129.7MB):  21%  28.3MB\r",
        "  Downloading basemap-1.0.7.tar.gz (129.7MB):  21%  28.3MB\r",
        "  Downloading basemap-1.0.7.tar.gz (129.7MB):  21%  28.3MB\r",
        "  Downloading basemap-1.0.7.tar.gz (129.7MB):  21%  28.3MB\r",
        "  Downloading basemap-1.0.7.tar.gz (129.7MB):  21%  28.3MB"
       ]
      },
      {
       "output_type": "stream",
       "stream": "stdout",
       "text": [
        "\r",
        "  Downloading basemap-1.0.7.tar.gz (129.7MB):  21%  28.3MB"
       ]
      },
      {
       "output_type": "stream",
       "stream": "stdout",
       "text": [
        "\r",
        "  Downloading basemap-1.0.7.tar.gz (129.7MB):  21%  28.3MB\r",
        "  Downloading basemap-1.0.7.tar.gz (129.7MB):  21%  28.3MB\r",
        "  Downloading basemap-1.0.7.tar.gz (129.7MB):  21%  28.3MB\r",
        "  Downloading basemap-1.0.7.tar.gz (129.7MB):  21%  28.3MB\r",
        "  Downloading basemap-1.0.7.tar.gz (129.7MB):  21%  28.3MB\r",
        "  Downloading basemap-1.0.7.tar.gz (129.7MB):  21%  28.3MB\r",
        "  Downloading basemap-1.0.7.tar.gz (129.7MB):  21%  28.3MB\r",
        "  Downloading basemap-1.0.7.tar.gz (129.7MB):  21%  28.3MB\r",
        "  Downloading basemap-1.0.7.tar.gz (129.7MB):  21%  28.3MB\r",
        "  Downloading basemap-1.0.7.tar.gz (129.7MB):  21%  28.3MB\r",
        "  Downloading basemap-1.0.7.tar.gz (129.7MB):  21%  28.3MB\r",
        "  Downloading basemap-1.0.7.tar.gz (129.7MB):  21%  28.3MB\r",
        "  Downloading basemap-1.0.7.tar.gz (129.7MB):  21%  28.3MB\r",
        "  Downloading basemap-1.0.7.tar.gz (129.7MB):  21%  28.3MB"
       ]
      },
      {
       "output_type": "stream",
       "stream": "stdout",
       "text": [
        "\r",
        "  Downloading basemap-1.0.7.tar.gz (129.7MB):  21%  28.3MB"
       ]
      },
      {
       "output_type": "stream",
       "stream": "stdout",
       "text": [
        "\r",
        "  Downloading basemap-1.0.7.tar.gz (129.7MB):  21%  28.3MB\r",
        "  Downloading basemap-1.0.7.tar.gz (129.7MB):  21%  28.3MB\r",
        "  Downloading basemap-1.0.7.tar.gz (129.7MB):  21%  28.3MB\r",
        "  Downloading basemap-1.0.7.tar.gz (129.7MB):  21%  28.4MB\r",
        "  Downloading basemap-1.0.7.tar.gz (129.7MB):  21%  28.4MB"
       ]
      },
      {
       "output_type": "stream",
       "stream": "stdout",
       "text": [
        "\r",
        "  Downloading basemap-1.0.7.tar.gz (129.7MB):  21%  28.4MB\r",
        "  Downloading basemap-1.0.7.tar.gz (129.7MB):  21%  28.4MB\r",
        "  Downloading basemap-1.0.7.tar.gz (129.7MB):  21%  28.4MB\r",
        "  Downloading basemap-1.0.7.tar.gz (129.7MB):  21%  28.4MB\r",
        "  Downloading basemap-1.0.7.tar.gz (129.7MB):  21%  28.4MB\r",
        "  Downloading basemap-1.0.7.tar.gz (129.7MB):  21%  28.4MB\r",
        "  Downloading basemap-1.0.7.tar.gz (129.7MB):  21%  28.4MB\r",
        "  Downloading basemap-1.0.7.tar.gz (129.7MB):  21%  28.4MB\r",
        "  Downloading basemap-1.0.7.tar.gz (129.7MB):  21%  28.4MB\r",
        "  Downloading basemap-1.0.7.tar.gz (129.7MB):  21%  28.4MB\r",
        "  Downloading basemap-1.0.7.tar.gz (129.7MB):  21%  28.4MB"
       ]
      },
      {
       "output_type": "stream",
       "stream": "stdout",
       "text": [
        "\r",
        "  Downloading basemap-1.0.7.tar.gz (129.7MB):  21%  28.4MB\r",
        "  Downloading basemap-1.0.7.tar.gz (129.7MB):  21%  28.4MB\r",
        "  Downloading basemap-1.0.7.tar.gz (129.7MB):  21%  28.4MB\r",
        "  Downloading basemap-1.0.7.tar.gz (129.7MB):  21%  28.4MB\r",
        "  Downloading basemap-1.0.7.tar.gz (129.7MB):  21%  28.4MB\r",
        "  Downloading basemap-1.0.7.tar.gz (129.7MB):  21%  28.4MB\r",
        "  Downloading basemap-1.0.7.tar.gz (129.7MB):  21%  28.4MB\r",
        "  Downloading basemap-1.0.7.tar.gz (129.7MB):  21%  28.4MB\r",
        "  Downloading basemap-1.0.7.tar.gz (129.7MB):  21%  28.4MB\r",
        "  Downloading basemap-1.0.7.tar.gz (129.7MB):  21%  28.4MB"
       ]
      },
      {
       "output_type": "stream",
       "stream": "stdout",
       "text": [
        "\r",
        "  Downloading basemap-1.0.7.tar.gz (129.7MB):  21%  28.4MB"
       ]
      },
      {
       "output_type": "stream",
       "stream": "stdout",
       "text": [
        "\r",
        "  Downloading basemap-1.0.7.tar.gz (129.7MB):  21%  28.5MB"
       ]
      },
      {
       "output_type": "stream",
       "stream": "stdout",
       "text": [
        "\r",
        "  Downloading basemap-1.0.7.tar.gz (129.7MB):  21%  28.5MB\r",
        "  Downloading basemap-1.0.7.tar.gz (129.7MB):  21%  28.5MB\r",
        "  Downloading basemap-1.0.7.tar.gz (129.7MB):  21%  28.5MB"
       ]
      },
      {
       "output_type": "stream",
       "stream": "stdout",
       "text": [
        "\r",
        "  Downloading basemap-1.0.7.tar.gz (129.7MB):  21%  28.5MB"
       ]
      },
      {
       "output_type": "stream",
       "stream": "stdout",
       "text": [
        "\r",
        "  Downloading basemap-1.0.7.tar.gz (129.7MB):  21%  28.5MB"
       ]
      },
      {
       "output_type": "stream",
       "stream": "stdout",
       "text": [
        "\r",
        "  Downloading basemap-1.0.7.tar.gz (129.7MB):  21%  28.5MB\r",
        "  Downloading basemap-1.0.7.tar.gz (129.7MB):  21%  28.5MB"
       ]
      },
      {
       "output_type": "stream",
       "stream": "stdout",
       "text": [
        "\r",
        "  Downloading basemap-1.0.7.tar.gz (129.7MB):  21%  28.5MB\r",
        "  Downloading basemap-1.0.7.tar.gz (129.7MB):  21%  28.5MB\r",
        "  Downloading basemap-1.0.7.tar.gz (129.7MB):  21%  28.5MB"
       ]
      },
      {
       "output_type": "stream",
       "stream": "stdout",
       "text": [
        "\r",
        "  Downloading basemap-1.0.7.tar.gz (129.7MB):  21%  28.5MB\r",
        "  Downloading basemap-1.0.7.tar.gz (129.7MB):  21%  28.5MB"
       ]
      },
      {
       "output_type": "stream",
       "stream": "stdout",
       "text": [
        "\r",
        "  Downloading basemap-1.0.7.tar.gz (129.7MB):  21%  28.5MB\r",
        "  Downloading basemap-1.0.7.tar.gz (129.7MB):  21%  28.5MB"
       ]
      },
      {
       "output_type": "stream",
       "stream": "stdout",
       "text": [
        "\r",
        "  Downloading basemap-1.0.7.tar.gz (129.7MB):  21%  28.5MB"
       ]
      },
      {
       "output_type": "stream",
       "stream": "stdout",
       "text": [
        "\r",
        "  Downloading basemap-1.0.7.tar.gz (129.7MB):  21%  28.5MB\r",
        "  Downloading basemap-1.0.7.tar.gz (129.7MB):  21%  28.5MB\r",
        "  Downloading basemap-1.0.7.tar.gz (129.7MB):  21%  28.5MB"
       ]
      },
      {
       "output_type": "stream",
       "stream": "stdout",
       "text": [
        "\r",
        "  Downloading basemap-1.0.7.tar.gz (129.7MB):  21%  28.5MB\r",
        "  Downloading basemap-1.0.7.tar.gz (129.7MB):  21%  28.5MB\r",
        "  Downloading basemap-1.0.7.tar.gz (129.7MB):  22%  28.5MB"
       ]
      },
      {
       "output_type": "stream",
       "stream": "stdout",
       "text": [
        "\r",
        "  Downloading basemap-1.0.7.tar.gz (129.7MB):  22%  28.5MB\r",
        "  Downloading basemap-1.0.7.tar.gz (129.7MB):  22%  28.5MB\r",
        "  Downloading basemap-1.0.7.tar.gz (129.7MB):  22%  28.5MB\r",
        "  Downloading basemap-1.0.7.tar.gz (129.7MB):  22%  28.6MB"
       ]
      },
      {
       "output_type": "stream",
       "stream": "stdout",
       "text": [
        "\r",
        "  Downloading basemap-1.0.7.tar.gz (129.7MB):  22%  28.6MB\r",
        "  Downloading basemap-1.0.7.tar.gz (129.7MB):  22%  28.6MB\r",
        "  Downloading basemap-1.0.7.tar.gz (129.7MB):  22%  28.6MB\r",
        "  Downloading basemap-1.0.7.tar.gz (129.7MB):  22%  28.6MB"
       ]
      },
      {
       "output_type": "stream",
       "stream": "stdout",
       "text": [
        "\r",
        "  Downloading basemap-1.0.7.tar.gz (129.7MB):  22%  28.6MB\r",
        "  Downloading basemap-1.0.7.tar.gz (129.7MB):  22%  28.6MB\r",
        "  Downloading basemap-1.0.7.tar.gz (129.7MB):  22%  28.6MB\r",
        "  Downloading basemap-1.0.7.tar.gz (129.7MB):  22%  28.6MB\r",
        "  Downloading basemap-1.0.7.tar.gz (129.7MB):  22%  28.6MB"
       ]
      },
      {
       "output_type": "stream",
       "stream": "stdout",
       "text": [
        "\r",
        "  Downloading basemap-1.0.7.tar.gz (129.7MB):  22%  28.6MB\r",
        "  Downloading basemap-1.0.7.tar.gz (129.7MB):  22%  28.6MB\r",
        "  Downloading basemap-1.0.7.tar.gz (129.7MB):  22%  28.6MB\r",
        "  Downloading basemap-1.0.7.tar.gz (129.7MB):  22%  28.6MB"
       ]
      },
      {
       "output_type": "stream",
       "stream": "stdout",
       "text": [
        "\r",
        "  Downloading basemap-1.0.7.tar.gz (129.7MB):  22%  28.6MB\r",
        "  Downloading basemap-1.0.7.tar.gz (129.7MB):  22%  28.6MB\r",
        "  Downloading basemap-1.0.7.tar.gz (129.7MB):  22%  28.6MB\r",
        "  Downloading basemap-1.0.7.tar.gz (129.7MB):  22%  28.6MB\r",
        "  Downloading basemap-1.0.7.tar.gz (129.7MB):  22%  28.6MB"
       ]
      },
      {
       "output_type": "stream",
       "stream": "stdout",
       "text": [
        "\r",
        "  Downloading basemap-1.0.7.tar.gz (129.7MB):  22%  28.6MB\r",
        "  Downloading basemap-1.0.7.tar.gz (129.7MB):  22%  28.6MB\r",
        "  Downloading basemap-1.0.7.tar.gz (129.7MB):  22%  28.6MB\r",
        "  Downloading basemap-1.0.7.tar.gz (129.7MB):  22%  28.6MB\r",
        "  Downloading basemap-1.0.7.tar.gz (129.7MB):  22%  28.6MB\r",
        "  Downloading basemap-1.0.7.tar.gz (129.7MB):  22%  28.7MB"
       ]
      },
      {
       "output_type": "stream",
       "stream": "stdout",
       "text": [
        "\r",
        "  Downloading basemap-1.0.7.tar.gz (129.7MB):  22%  28.7MB\r",
        "  Downloading basemap-1.0.7.tar.gz (129.7MB):  22%  28.7MB\r",
        "  Downloading basemap-1.0.7.tar.gz (129.7MB):  22%  28.7MB\r",
        "  Downloading basemap-1.0.7.tar.gz (129.7MB):  22%  28.7MB\r",
        "  Downloading basemap-1.0.7.tar.gz (129.7MB):  22%  28.7MB"
       ]
      },
      {
       "output_type": "stream",
       "stream": "stdout",
       "text": [
        "\r",
        "  Downloading basemap-1.0.7.tar.gz (129.7MB):  22%  28.7MB"
       ]
      },
      {
       "output_type": "stream",
       "stream": "stdout",
       "text": [
        "\r",
        "  Downloading basemap-1.0.7.tar.gz (129.7MB):  22%  28.7MB\r",
        "  Downloading basemap-1.0.7.tar.gz (129.7MB):  22%  28.7MB\r",
        "  Downloading basemap-1.0.7.tar.gz (129.7MB):  22%  28.7MB\r",
        "  Downloading basemap-1.0.7.tar.gz (129.7MB):  22%  28.7MB\r",
        "  Downloading basemap-1.0.7.tar.gz (129.7MB):  22%  28.7MB"
       ]
      },
      {
       "output_type": "stream",
       "stream": "stdout",
       "text": [
        "\r",
        "  Downloading basemap-1.0.7.tar.gz (129.7MB):  22%  28.7MB\r",
        "  Downloading basemap-1.0.7.tar.gz (129.7MB):  22%  28.7MB\r",
        "  Downloading basemap-1.0.7.tar.gz (129.7MB):  22%  28.7MB\r",
        "  Downloading basemap-1.0.7.tar.gz (129.7MB):  22%  28.7MB\r",
        "  Downloading basemap-1.0.7.tar.gz (129.7MB):  22%  28.7MB\r",
        "  Downloading basemap-1.0.7.tar.gz (129.7MB):  22%  28.7MB"
       ]
      },
      {
       "output_type": "stream",
       "stream": "stdout",
       "text": [
        "\r",
        "  Downloading basemap-1.0.7.tar.gz (129.7MB):  22%  28.7MB\r",
        "  Downloading basemap-1.0.7.tar.gz (129.7MB):  22%  28.7MB\r",
        "  Downloading basemap-1.0.7.tar.gz (129.7MB):  22%  28.7MB\r",
        "  Downloading basemap-1.0.7.tar.gz (129.7MB):  22%  28.7MB\r",
        "  Downloading basemap-1.0.7.tar.gz (129.7MB):  22%  28.7MB\r",
        "  Downloading basemap-1.0.7.tar.gz (129.7MB):  22%  28.7MB"
       ]
      },
      {
       "output_type": "stream",
       "stream": "stdout",
       "text": [
        "\r",
        "  Downloading basemap-1.0.7.tar.gz (129.7MB):  22%  28.7MB\r",
        "  Downloading basemap-1.0.7.tar.gz (129.7MB):  22%  28.8MB\r",
        "  Downloading basemap-1.0.7.tar.gz (129.7MB):  22%  28.8MB"
       ]
      },
      {
       "output_type": "stream",
       "stream": "stdout",
       "text": [
        "\r",
        "  Downloading basemap-1.0.7.tar.gz (129.7MB):  22%  28.8MB\r",
        "  Downloading basemap-1.0.7.tar.gz (129.7MB):  22%  28.8MB\r",
        "  Downloading basemap-1.0.7.tar.gz (129.7MB):  22%  28.8MB\r",
        "  Downloading basemap-1.0.7.tar.gz (129.7MB):  22%  28.8MB"
       ]
      },
      {
       "output_type": "stream",
       "stream": "stdout",
       "text": [
        "\r",
        "  Downloading basemap-1.0.7.tar.gz (129.7MB):  22%  28.8MB\r",
        "  Downloading basemap-1.0.7.tar.gz (129.7MB):  22%  28.8MB\r",
        "  Downloading basemap-1.0.7.tar.gz (129.7MB):  22%  28.8MB\r",
        "  Downloading basemap-1.0.7.tar.gz (129.7MB):  22%  28.8MB\r",
        "  Downloading basemap-1.0.7.tar.gz (129.7MB):  22%  28.8MB\r",
        "  Downloading basemap-1.0.7.tar.gz (129.7MB):  22%  28.8MB\r",
        "  Downloading basemap-1.0.7.tar.gz (129.7MB):  22%  28.8MB"
       ]
      },
      {
       "output_type": "stream",
       "stream": "stdout",
       "text": [
        "\r",
        "  Downloading basemap-1.0.7.tar.gz (129.7MB):  22%  28.8MB\r",
        "  Downloading basemap-1.0.7.tar.gz (129.7MB):  22%  28.8MB\r",
        "  Downloading basemap-1.0.7.tar.gz (129.7MB):  22%  28.8MB\r",
        "  Downloading basemap-1.0.7.tar.gz (129.7MB):  22%  28.8MB\r",
        "  Downloading basemap-1.0.7.tar.gz (129.7MB):  22%  28.8MB\r",
        "  Downloading basemap-1.0.7.tar.gz (129.7MB):  22%  28.8MB\r",
        "  Downloading basemap-1.0.7.tar.gz (129.7MB):  22%  28.8MB"
       ]
      },
      {
       "output_type": "stream",
       "stream": "stdout",
       "text": [
        "\r",
        "  Downloading basemap-1.0.7.tar.gz (129.7MB):  22%  28.8MB\r",
        "  Downloading basemap-1.0.7.tar.gz (129.7MB):  22%  28.8MB\r",
        "  Downloading basemap-1.0.7.tar.gz (129.7MB):  22%  28.8MB\r",
        "  Downloading basemap-1.0.7.tar.gz (129.7MB):  22%  28.8MB"
       ]
      },
      {
       "output_type": "stream",
       "stream": "stdout",
       "text": [
        "\r",
        "  Downloading basemap-1.0.7.tar.gz (129.7MB):  22%  28.9MB\r",
        "  Downloading basemap-1.0.7.tar.gz (129.7MB):  22%  28.9MB\r",
        "  Downloading basemap-1.0.7.tar.gz (129.7MB):  22%  28.9MB\r",
        "  Downloading basemap-1.0.7.tar.gz (129.7MB):  22%  28.9MB"
       ]
      },
      {
       "output_type": "stream",
       "stream": "stdout",
       "text": [
        "\r",
        "  Downloading basemap-1.0.7.tar.gz (129.7MB):  22%  28.9MB\r",
        "  Downloading basemap-1.0.7.tar.gz (129.7MB):  22%  28.9MB\r",
        "  Downloading basemap-1.0.7.tar.gz (129.7MB):  22%  28.9MB\r",
        "  Downloading basemap-1.0.7.tar.gz (129.7MB):  22%  28.9MB\r",
        "  Downloading basemap-1.0.7.tar.gz (129.7MB):  22%  28.9MB\r",
        "  Downloading basemap-1.0.7.tar.gz (129.7MB):  22%  28.9MB\r",
        "  Downloading basemap-1.0.7.tar.gz (129.7MB):  22%  28.9MB\r",
        "  Downloading basemap-1.0.7.tar.gz (129.7MB):  22%  28.9MB"
       ]
      },
      {
       "output_type": "stream",
       "stream": "stdout",
       "text": [
        "\r",
        "  Downloading basemap-1.0.7.tar.gz (129.7MB):  22%  28.9MB\r",
        "  Downloading basemap-1.0.7.tar.gz (129.7MB):  22%  28.9MB\r",
        "  Downloading basemap-1.0.7.tar.gz (129.7MB):  22%  28.9MB\r",
        "  Downloading basemap-1.0.7.tar.gz (129.7MB):  22%  28.9MB\r",
        "  Downloading basemap-1.0.7.tar.gz (129.7MB):  22%  28.9MB\r",
        "  Downloading basemap-1.0.7.tar.gz (129.7MB):  22%  28.9MB\r",
        "  Downloading basemap-1.0.7.tar.gz (129.7MB):  22%  28.9MB\r",
        "  Downloading basemap-1.0.7.tar.gz (129.7MB):  22%  28.9MB"
       ]
      },
      {
       "output_type": "stream",
       "stream": "stdout",
       "text": [
        "\r",
        "  Downloading basemap-1.0.7.tar.gz (129.7MB):  22%  28.9MB\r",
        "  Downloading basemap-1.0.7.tar.gz (129.7MB):  22%  28.9MB\r",
        "  Downloading basemap-1.0.7.tar.gz (129.7MB):  22%  28.9MB\r",
        "  Downloading basemap-1.0.7.tar.gz (129.7MB):  22%  28.9MB"
       ]
      },
      {
       "output_type": "stream",
       "stream": "stdout",
       "text": [
        "\r",
        "  Downloading basemap-1.0.7.tar.gz (129.7MB):  22%  29.0MB\r",
        "  Downloading basemap-1.0.7.tar.gz (129.7MB):  22%  29.0MB\r",
        "  Downloading basemap-1.0.7.tar.gz (129.7MB):  22%  29.0MB\r",
        "  Downloading basemap-1.0.7.tar.gz (129.7MB):  22%  29.0MB\r",
        "  Downloading basemap-1.0.7.tar.gz (129.7MB):  22%  29.0MB"
       ]
      },
      {
       "output_type": "stream",
       "stream": "stdout",
       "text": [
        "\r",
        "  Downloading basemap-1.0.7.tar.gz (129.7MB):  22%  29.0MB\r",
        "  Downloading basemap-1.0.7.tar.gz (129.7MB):  22%  29.0MB\r",
        "  Downloading basemap-1.0.7.tar.gz (129.7MB):  22%  29.0MB\r",
        "  Downloading basemap-1.0.7.tar.gz (129.7MB):  22%  29.0MB\r",
        "  Downloading basemap-1.0.7.tar.gz (129.7MB):  22%  29.0MB\r",
        "  Downloading basemap-1.0.7.tar.gz (129.7MB):  22%  29.0MB\r",
        "  Downloading basemap-1.0.7.tar.gz (129.7MB):  22%  29.0MB\r",
        "  Downloading basemap-1.0.7.tar.gz (129.7MB):  22%  29.0MB"
       ]
      },
      {
       "output_type": "stream",
       "stream": "stdout",
       "text": [
        "\r",
        "  Downloading basemap-1.0.7.tar.gz (129.7MB):  22%  29.0MB\r",
        "  Downloading basemap-1.0.7.tar.gz (129.7MB):  22%  29.0MB\r",
        "  Downloading basemap-1.0.7.tar.gz (129.7MB):  22%  29.0MB\r",
        "  Downloading basemap-1.0.7.tar.gz (129.7MB):  22%  29.0MB\r",
        "  Downloading basemap-1.0.7.tar.gz (129.7MB):  22%  29.0MB\r",
        "  Downloading basemap-1.0.7.tar.gz (129.7MB):  22%  29.0MB\r",
        "  Downloading basemap-1.0.7.tar.gz (129.7MB):  22%  29.0MB\r",
        "  Downloading basemap-1.0.7.tar.gz (129.7MB):  22%  29.0MB\r",
        "  Downloading basemap-1.0.7.tar.gz (129.7MB):  22%  29.0MB\r",
        "  Downloading basemap-1.0.7.tar.gz (129.7MB):  22%  29.0MB"
       ]
      },
      {
       "output_type": "stream",
       "stream": "stdout",
       "text": [
        "\r",
        "  Downloading basemap-1.0.7.tar.gz (129.7MB):  22%  29.0MB\r",
        "  Downloading basemap-1.0.7.tar.gz (129.7MB):  22%  29.0MB\r",
        "  Downloading basemap-1.0.7.tar.gz (129.7MB):  22%  29.1MB\r",
        "  Downloading basemap-1.0.7.tar.gz (129.7MB):  22%  29.1MB"
       ]
      },
      {
       "output_type": "stream",
       "stream": "stdout",
       "text": [
        "\r",
        "  Downloading basemap-1.0.7.tar.gz (129.7MB):  22%  29.1MB\r",
        "  Downloading basemap-1.0.7.tar.gz (129.7MB):  22%  29.1MB\r",
        "  Downloading basemap-1.0.7.tar.gz (129.7MB):  22%  29.1MB\r",
        "  Downloading basemap-1.0.7.tar.gz (129.7MB):  22%  29.1MB\r",
        "  Downloading basemap-1.0.7.tar.gz (129.7MB):  22%  29.1MB"
       ]
      },
      {
       "output_type": "stream",
       "stream": "stdout",
       "text": [
        "\r",
        "  Downloading basemap-1.0.7.tar.gz (129.7MB):  22%  29.1MB\r",
        "  Downloading basemap-1.0.7.tar.gz (129.7MB):  22%  29.1MB\r",
        "  Downloading basemap-1.0.7.tar.gz (129.7MB):  22%  29.1MB\r",
        "  Downloading basemap-1.0.7.tar.gz (129.7MB):  22%  29.1MB\r",
        "  Downloading basemap-1.0.7.tar.gz (129.7MB):  22%  29.1MB\r",
        "  Downloading basemap-1.0.7.tar.gz (129.7MB):  22%  29.1MB\r",
        "  Downloading basemap-1.0.7.tar.gz (129.7MB):  22%  29.1MB\r",
        "  Downloading basemap-1.0.7.tar.gz (129.7MB):  22%  29.1MB\r",
        "  Downloading basemap-1.0.7.tar.gz (129.7MB):  22%  29.1MB\r",
        "  Downloading basemap-1.0.7.tar.gz (129.7MB):  22%  29.1MB"
       ]
      },
      {
       "output_type": "stream",
       "stream": "stdout",
       "text": [
        "\r",
        "  Downloading basemap-1.0.7.tar.gz (129.7MB):  22%  29.1MB\r",
        "  Downloading basemap-1.0.7.tar.gz (129.7MB):  22%  29.1MB\r",
        "  Downloading basemap-1.0.7.tar.gz (129.7MB):  22%  29.1MB\r",
        "  Downloading basemap-1.0.7.tar.gz (129.7MB):  22%  29.1MB\r",
        "  Downloading basemap-1.0.7.tar.gz (129.7MB):  22%  29.1MB\r",
        "  Downloading basemap-1.0.7.tar.gz (129.7MB):  22%  29.1MB\r",
        "  Downloading basemap-1.0.7.tar.gz (129.7MB):  22%  29.1MB\r",
        "  Downloading basemap-1.0.7.tar.gz (129.7MB):  22%  29.2MB\r",
        "  Downloading basemap-1.0.7.tar.gz (129.7MB):  22%  29.2MB\r",
        "  Downloading basemap-1.0.7.tar.gz (129.7MB):  22%  29.2MB"
       ]
      },
      {
       "output_type": "stream",
       "stream": "stdout",
       "text": [
        "\r",
        "  Downloading basemap-1.0.7.tar.gz (129.7MB):  22%  29.2MB\r",
        "  Downloading basemap-1.0.7.tar.gz (129.7MB):  22%  29.2MB\r",
        "  Downloading basemap-1.0.7.tar.gz (129.7MB):  22%  29.2MB\r",
        "  Downloading basemap-1.0.7.tar.gz (129.7MB):  22%  29.2MB\r",
        "  Downloading basemap-1.0.7.tar.gz (129.7MB):  22%  29.2MB\r",
        "  Downloading basemap-1.0.7.tar.gz (129.7MB):  22%  29.2MB"
       ]
      },
      {
       "output_type": "stream",
       "stream": "stdout",
       "text": [
        "\r",
        "  Downloading basemap-1.0.7.tar.gz (129.7MB):  22%  29.2MB\r",
        "  Downloading basemap-1.0.7.tar.gz (129.7MB):  22%  29.2MB\r",
        "  Downloading basemap-1.0.7.tar.gz (129.7MB):  22%  29.2MB\r",
        "  Downloading basemap-1.0.7.tar.gz (129.7MB):  22%  29.2MB\r",
        "  Downloading basemap-1.0.7.tar.gz (129.7MB):  22%  29.2MB"
       ]
      },
      {
       "output_type": "stream",
       "stream": "stdout",
       "text": [
        "\r",
        "  Downloading basemap-1.0.7.tar.gz (129.7MB):  22%  29.2MB\r",
        "  Downloading basemap-1.0.7.tar.gz (129.7MB):  22%  29.2MB\r",
        "  Downloading basemap-1.0.7.tar.gz (129.7MB):  22%  29.2MB\r",
        "  Downloading basemap-1.0.7.tar.gz (129.7MB):  22%  29.2MB\r",
        "  Downloading basemap-1.0.7.tar.gz (129.7MB):  22%  29.2MB\r",
        "  Downloading basemap-1.0.7.tar.gz (129.7MB):  22%  29.2MB\r",
        "  Downloading basemap-1.0.7.tar.gz (129.7MB):  22%  29.2MB\r",
        "  Downloading basemap-1.0.7.tar.gz (129.7MB):  22%  29.2MB\r",
        "  Downloading basemap-1.0.7.tar.gz (129.7MB):  22%  29.2MB\r",
        "  Downloading basemap-1.0.7.tar.gz (129.7MB):  22%  29.2MB"
       ]
      },
      {
       "output_type": "stream",
       "stream": "stdout",
       "text": [
        "\r",
        "  Downloading basemap-1.0.7.tar.gz (129.7MB):  22%  29.2MB\r",
        "  Downloading basemap-1.0.7.tar.gz (129.7MB):  22%  29.3MB\r",
        "  Downloading basemap-1.0.7.tar.gz (129.7MB):  22%  29.3MB\r",
        "  Downloading basemap-1.0.7.tar.gz (129.7MB):  22%  29.3MB\r",
        "  Downloading basemap-1.0.7.tar.gz (129.7MB):  22%  29.3MB\r",
        "  Downloading basemap-1.0.7.tar.gz (129.7MB):  22%  29.3MB\r",
        "  Downloading basemap-1.0.7.tar.gz (129.7MB):  22%  29.3MB\r",
        "  Downloading basemap-1.0.7.tar.gz (129.7MB):  22%  29.3MB\r",
        "  Downloading basemap-1.0.7.tar.gz (129.7MB):  22%  29.3MB\r",
        "  Downloading basemap-1.0.7.tar.gz (129.7MB):  22%  29.3MB\r",
        "  Downloading basemap-1.0.7.tar.gz (129.7MB):  22%  29.3MB"
       ]
      },
      {
       "output_type": "stream",
       "stream": "stdout",
       "text": [
        "\r",
        "  Downloading basemap-1.0.7.tar.gz (129.7MB):  22%  29.3MB\r",
        "  Downloading basemap-1.0.7.tar.gz (129.7MB):  22%  29.3MB\r",
        "  Downloading basemap-1.0.7.tar.gz (129.7MB):  22%  29.3MB\r",
        "  Downloading basemap-1.0.7.tar.gz (129.7MB):  22%  29.3MB\r",
        "  Downloading basemap-1.0.7.tar.gz (129.7MB):  22%  29.3MB\r",
        "  Downloading basemap-1.0.7.tar.gz (129.7MB):  22%  29.3MB\r",
        "  Downloading basemap-1.0.7.tar.gz (129.7MB):  22%  29.3MB"
       ]
      },
      {
       "output_type": "stream",
       "stream": "stdout",
       "text": [
        "\r",
        "  Downloading basemap-1.0.7.tar.gz (129.7MB):  22%  29.3MB\r",
        "  Downloading basemap-1.0.7.tar.gz (129.7MB):  22%  29.3MB\r",
        "  Downloading basemap-1.0.7.tar.gz (129.7MB):  22%  29.3MB\r",
        "  Downloading basemap-1.0.7.tar.gz (129.7MB):  22%  29.3MB"
       ]
      },
      {
       "output_type": "stream",
       "stream": "stdout",
       "text": [
        "\r",
        "  Downloading basemap-1.0.7.tar.gz (129.7MB):  22%  29.3MB\r",
        "  Downloading basemap-1.0.7.tar.gz (129.7MB):  22%  29.3MB\r",
        "  Downloading basemap-1.0.7.tar.gz (129.7MB):  22%  29.3MB\r",
        "  Downloading basemap-1.0.7.tar.gz (129.7MB):  22%  29.4MB\r",
        "  Downloading basemap-1.0.7.tar.gz (129.7MB):  22%  29.4MB\r",
        "  Downloading basemap-1.0.7.tar.gz (129.7MB):  22%  29.4MB\r",
        "  Downloading basemap-1.0.7.tar.gz (129.7MB):  22%  29.4MB\r",
        "  Downloading basemap-1.0.7.tar.gz (129.7MB):  22%  29.4MB\r",
        "  Downloading basemap-1.0.7.tar.gz (129.7MB):  22%  29.4MB\r",
        "  Downloading basemap-1.0.7.tar.gz (129.7MB):  22%  29.4MB\r",
        "  Downloading basemap-1.0.7.tar.gz (129.7MB):  22%  29.4MB\r",
        "  Downloading basemap-1.0.7.tar.gz (129.7MB):  22%  29.4MB"
       ]
      },
      {
       "output_type": "stream",
       "stream": "stdout",
       "text": [
        "\r",
        "  Downloading basemap-1.0.7.tar.gz (129.7MB):  22%  29.4MB\r",
        "  Downloading basemap-1.0.7.tar.gz (129.7MB):  22%  29.4MB\r",
        "  Downloading basemap-1.0.7.tar.gz (129.7MB):  22%  29.4MB\r",
        "  Downloading basemap-1.0.7.tar.gz (129.7MB):  22%  29.4MB\r",
        "  Downloading basemap-1.0.7.tar.gz (129.7MB):  22%  29.4MB\r",
        "  Downloading basemap-1.0.7.tar.gz (129.7MB):  22%  29.4MB\r",
        "  Downloading basemap-1.0.7.tar.gz (129.7MB):  22%  29.4MB\r",
        "  Downloading basemap-1.0.7.tar.gz (129.7MB):  22%  29.4MB\r",
        "  Downloading basemap-1.0.7.tar.gz (129.7MB):  22%  29.4MB\r",
        "  Downloading basemap-1.0.7.tar.gz (129.7MB):  22%  29.4MB\r",
        "  Downloading basemap-1.0.7.tar.gz (129.7MB):  22%  29.4MB\r",
        "  Downloading basemap-1.0.7.tar.gz (129.7MB):  22%  29.4MB"
       ]
      },
      {
       "output_type": "stream",
       "stream": "stdout",
       "text": [
        "\r",
        "  Downloading basemap-1.0.7.tar.gz (129.7MB):  22%  29.4MB\r",
        "  Downloading basemap-1.0.7.tar.gz (129.7MB):  22%  29.4MB\r",
        "  Downloading basemap-1.0.7.tar.gz (129.7MB):  22%  29.4MB\r",
        "  Downloading basemap-1.0.7.tar.gz (129.7MB):  22%  29.5MB"
       ]
      },
      {
       "output_type": "stream",
       "stream": "stdout",
       "text": [
        "\r",
        "  Downloading basemap-1.0.7.tar.gz (129.7MB):  22%  29.5MB\r",
        "  Downloading basemap-1.0.7.tar.gz (129.7MB):  22%  29.5MB\r",
        "  Downloading basemap-1.0.7.tar.gz (129.7MB):  22%  29.5MB\r",
        "  Downloading basemap-1.0.7.tar.gz (129.7MB):  22%  29.5MB\r",
        "  Downloading basemap-1.0.7.tar.gz (129.7MB):  22%  29.5MB\r",
        "  Downloading basemap-1.0.7.tar.gz (129.7MB):  22%  29.5MB\r",
        "  Downloading basemap-1.0.7.tar.gz (129.7MB):  22%  29.5MB"
       ]
      },
      {
       "output_type": "stream",
       "stream": "stdout",
       "text": [
        "\r",
        "  Downloading basemap-1.0.7.tar.gz (129.7MB):  22%  29.5MB\r",
        "  Downloading basemap-1.0.7.tar.gz (129.7MB):  22%  29.5MB\r",
        "  Downloading basemap-1.0.7.tar.gz (129.7MB):  22%  29.5MB\r",
        "  Downloading basemap-1.0.7.tar.gz (129.7MB):  22%  29.5MB\r",
        "  Downloading basemap-1.0.7.tar.gz (129.7MB):  22%  29.5MB\r",
        "  Downloading basemap-1.0.7.tar.gz (129.7MB):  22%  29.5MB\r",
        "  Downloading basemap-1.0.7.tar.gz (129.7MB):  22%  29.5MB\r",
        "  Downloading basemap-1.0.7.tar.gz (129.7MB):  22%  29.5MB\r",
        "  Downloading basemap-1.0.7.tar.gz (129.7MB):  22%  29.5MB\r",
        "  Downloading basemap-1.0.7.tar.gz (129.7MB):  22%  29.5MB\r",
        "  Downloading basemap-1.0.7.tar.gz (129.7MB):  22%  29.5MB\r",
        "  Downloading basemap-1.0.7.tar.gz (129.7MB):  22%  29.5MB\r",
        "  Downloading basemap-1.0.7.tar.gz (129.7MB):  22%  29.5MB"
       ]
      },
      {
       "output_type": "stream",
       "stream": "stdout",
       "text": [
        "\r",
        "  Downloading basemap-1.0.7.tar.gz (129.7MB):  22%  29.5MB\r",
        "  Downloading basemap-1.0.7.tar.gz (129.7MB):  22%  29.5MB\r",
        "  Downloading basemap-1.0.7.tar.gz (129.7MB):  22%  29.5MB\r",
        "  Downloading basemap-1.0.7.tar.gz (129.7MB):  22%  29.5MB\r",
        "  Downloading basemap-1.0.7.tar.gz (129.7MB):  22%  29.6MB\r",
        "  Downloading basemap-1.0.7.tar.gz (129.7MB):  22%  29.6MB\r",
        "  Downloading basemap-1.0.7.tar.gz (129.7MB):  22%  29.6MB\r",
        "  Downloading basemap-1.0.7.tar.gz (129.7MB):  22%  29.6MB\r",
        "  Downloading basemap-1.0.7.tar.gz (129.7MB):  22%  29.6MB\r",
        "  Downloading basemap-1.0.7.tar.gz (129.7MB):  22%  29.6MB\r",
        "  Downloading basemap-1.0.7.tar.gz (129.7MB):  22%  29.6MB\r",
        "  Downloading basemap-1.0.7.tar.gz (129.7MB):  22%  29.6MB"
       ]
      },
      {
       "output_type": "stream",
       "stream": "stdout",
       "text": [
        "\r",
        "  Downloading basemap-1.0.7.tar.gz (129.7MB):  22%  29.6MB\r",
        "  Downloading basemap-1.0.7.tar.gz (129.7MB):  22%  29.6MB\r",
        "  Downloading basemap-1.0.7.tar.gz (129.7MB):  22%  29.6MB\r",
        "  Downloading basemap-1.0.7.tar.gz (129.7MB):  22%  29.6MB\r",
        "  Downloading basemap-1.0.7.tar.gz (129.7MB):  22%  29.6MB\r",
        "  Downloading basemap-1.0.7.tar.gz (129.7MB):  22%  29.6MB"
       ]
      },
      {
       "output_type": "stream",
       "stream": "stdout",
       "text": [
        "\r",
        "  Downloading basemap-1.0.7.tar.gz (129.7MB):  22%  29.6MB\r",
        "  Downloading basemap-1.0.7.tar.gz (129.7MB):  22%  29.6MB\r",
        "  Downloading basemap-1.0.7.tar.gz (129.7MB):  22%  29.6MB\r",
        "  Downloading basemap-1.0.7.tar.gz (129.7MB):  22%  29.6MB\r",
        "  Downloading basemap-1.0.7.tar.gz (129.7MB):  22%  29.6MB\r",
        "  Downloading basemap-1.0.7.tar.gz (129.7MB):  22%  29.6MB\r",
        "  Downloading basemap-1.0.7.tar.gz (129.7MB):  22%  29.6MB"
       ]
      },
      {
       "output_type": "stream",
       "stream": "stdout",
       "text": [
        "\r",
        "  Downloading basemap-1.0.7.tar.gz (129.7MB):  22%  29.6MB\r",
        "  Downloading basemap-1.0.7.tar.gz (129.7MB):  22%  29.6MB\r",
        "  Downloading basemap-1.0.7.tar.gz (129.7MB):  22%  29.6MB\r",
        "  Downloading basemap-1.0.7.tar.gz (129.7MB):  22%  29.7MB\r",
        "  Downloading basemap-1.0.7.tar.gz (129.7MB):  22%  29.7MB\r",
        "  Downloading basemap-1.0.7.tar.gz (129.7MB):  22%  29.7MB\r",
        "  Downloading basemap-1.0.7.tar.gz (129.7MB):  22%  29.7MB\r",
        "  Downloading basemap-1.0.7.tar.gz (129.7MB):  22%  29.7MB\r",
        "  Downloading basemap-1.0.7.tar.gz (129.7MB):  22%  29.7MB\r",
        "  Downloading basemap-1.0.7.tar.gz (129.7MB):  22%  29.7MB\r",
        "  Downloading basemap-1.0.7.tar.gz (129.7MB):  22%  29.7MB\r",
        "  Downloading basemap-1.0.7.tar.gz (129.7MB):  22%  29.7MB\r",
        "  Downloading basemap-1.0.7.tar.gz (129.7MB):  22%  29.7MB"
       ]
      },
      {
       "output_type": "stream",
       "stream": "stdout",
       "text": [
        "\r",
        "  Downloading basemap-1.0.7.tar.gz (129.7MB):  22%  29.7MB\r",
        "  Downloading basemap-1.0.7.tar.gz (129.7MB):  22%  29.7MB\r",
        "  Downloading basemap-1.0.7.tar.gz (129.7MB):  22%  29.7MB\r",
        "  Downloading basemap-1.0.7.tar.gz (129.7MB):  22%  29.7MB\r",
        "  Downloading basemap-1.0.7.tar.gz (129.7MB):  22%  29.7MB\r",
        "  Downloading basemap-1.0.7.tar.gz (129.7MB):  22%  29.7MB\r",
        "  Downloading basemap-1.0.7.tar.gz (129.7MB):  22%  29.7MB\r",
        "  Downloading basemap-1.0.7.tar.gz (129.7MB):  22%  29.7MB\r",
        "  Downloading basemap-1.0.7.tar.gz (129.7MB):  22%  29.7MB\r",
        "  Downloading basemap-1.0.7.tar.gz (129.7MB):  22%  29.7MB\r",
        "  Downloading basemap-1.0.7.tar.gz (129.7MB):  22%  29.7MB\r",
        "  Downloading basemap-1.0.7.tar.gz (129.7MB):  22%  29.7MB\r",
        "  Downloading basemap-1.0.7.tar.gz (129.7MB):  22%  29.7MB"
       ]
      },
      {
       "output_type": "stream",
       "stream": "stdout",
       "text": [
        "\r",
        "  Downloading basemap-1.0.7.tar.gz (129.7MB):  22%  29.7MB\r",
        "  Downloading basemap-1.0.7.tar.gz (129.7MB):  22%  29.7MB\r",
        "  Downloading basemap-1.0.7.tar.gz (129.7MB):  22%  29.8MB\r",
        "  Downloading basemap-1.0.7.tar.gz (129.7MB):  22%  29.8MB\r",
        "  Downloading basemap-1.0.7.tar.gz (129.7MB):  22%  29.8MB\r",
        "  Downloading basemap-1.0.7.tar.gz (129.7MB):  22%  29.8MB\r",
        "  Downloading basemap-1.0.7.tar.gz (129.7MB):  22%  29.8MB"
       ]
      },
      {
       "output_type": "stream",
       "stream": "stdout",
       "text": [
        "\r",
        "  Downloading basemap-1.0.7.tar.gz (129.7MB):  22%  29.8MB\r",
        "  Downloading basemap-1.0.7.tar.gz (129.7MB):  22%  29.8MB\r",
        "  Downloading basemap-1.0.7.tar.gz (129.7MB):  22%  29.8MB\r",
        "  Downloading basemap-1.0.7.tar.gz (129.7MB):  22%  29.8MB\r",
        "  Downloading basemap-1.0.7.tar.gz (129.7MB):  22%  29.8MB\r",
        "  Downloading basemap-1.0.7.tar.gz (129.7MB):  22%  29.8MB"
       ]
      },
      {
       "output_type": "stream",
       "stream": "stdout",
       "text": [
        "\r",
        "  Downloading basemap-1.0.7.tar.gz (129.7MB):  22%  29.8MB\r",
        "  Downloading basemap-1.0.7.tar.gz (129.7MB):  22%  29.8MB\r",
        "  Downloading basemap-1.0.7.tar.gz (129.7MB):  22%  29.8MB\r",
        "  Downloading basemap-1.0.7.tar.gz (129.7MB):  22%  29.8MB\r",
        "  Downloading basemap-1.0.7.tar.gz (129.7MB):  22%  29.8MB\r",
        "  Downloading basemap-1.0.7.tar.gz (129.7MB):  22%  29.8MB\r",
        "  Downloading basemap-1.0.7.tar.gz (129.7MB):  22%  29.8MB\r",
        "  Downloading basemap-1.0.7.tar.gz (129.7MB):  22%  29.8MB\r",
        "  Downloading basemap-1.0.7.tar.gz (129.7MB):  23%  29.8MB\r",
        "  Downloading basemap-1.0.7.tar.gz (129.7MB):  23%  29.8MB\r",
        "  Downloading basemap-1.0.7.tar.gz (129.7MB):  23%  29.8MB\r",
        "  Downloading basemap-1.0.7.tar.gz (129.7MB):  23%  29.8MB\r",
        "  Downloading basemap-1.0.7.tar.gz (129.7MB):  23%  29.8MB\r",
        "  Downloading basemap-1.0.7.tar.gz (129.7MB):  23%  29.9MB"
       ]
      },
      {
       "output_type": "stream",
       "stream": "stdout",
       "text": [
        "\r",
        "  Downloading basemap-1.0.7.tar.gz (129.7MB):  23%  29.9MB\r",
        "  Downloading basemap-1.0.7.tar.gz (129.7MB):  23%  29.9MB"
       ]
      },
      {
       "output_type": "stream",
       "stream": "stdout",
       "text": [
        "\r",
        "  Downloading basemap-1.0.7.tar.gz (129.7MB):  23%  29.9MB\r",
        "  Downloading basemap-1.0.7.tar.gz (129.7MB):  23%  29.9MB\r",
        "  Downloading basemap-1.0.7.tar.gz (129.7MB):  23%  29.9MB\r",
        "  Downloading basemap-1.0.7.tar.gz (129.7MB):  23%  29.9MB\r",
        "  Downloading basemap-1.0.7.tar.gz (129.7MB):  23%  29.9MB\r",
        "  Downloading basemap-1.0.7.tar.gz (129.7MB):  23%  29.9MB\r",
        "  Downloading basemap-1.0.7.tar.gz (129.7MB):  23%  29.9MB\r",
        "  Downloading basemap-1.0.7.tar.gz (129.7MB):  23%  29.9MB\r",
        "  Downloading basemap-1.0.7.tar.gz (129.7MB):  23%  29.9MB\r",
        "  Downloading basemap-1.0.7.tar.gz (129.7MB):  23%  29.9MB"
       ]
      },
      {
       "output_type": "stream",
       "stream": "stdout",
       "text": [
        "\r",
        "  Downloading basemap-1.0.7.tar.gz (129.7MB):  23%  29.9MB\r",
        "  Downloading basemap-1.0.7.tar.gz (129.7MB):  23%  29.9MB\r",
        "  Downloading basemap-1.0.7.tar.gz (129.7MB):  23%  29.9MB\r",
        "  Downloading basemap-1.0.7.tar.gz (129.7MB):  23%  29.9MB\r",
        "  Downloading basemap-1.0.7.tar.gz (129.7MB):  23%  29.9MB\r",
        "  Downloading basemap-1.0.7.tar.gz (129.7MB):  23%  29.9MB\r",
        "  Downloading basemap-1.0.7.tar.gz (129.7MB):  23%  29.9MB\r",
        "  Downloading basemap-1.0.7.tar.gz (129.7MB):  23%  29.9MB"
       ]
      },
      {
       "output_type": "stream",
       "stream": "stdout",
       "text": [
        "\r",
        "  Downloading basemap-1.0.7.tar.gz (129.7MB):  23%  29.9MB\r",
        "  Downloading basemap-1.0.7.tar.gz (129.7MB):  23%  29.9MB\r",
        "  Downloading basemap-1.0.7.tar.gz (129.7MB):  23%  29.9MB\r",
        "  Downloading basemap-1.0.7.tar.gz (129.7MB):  23%  29.9MB\r",
        "  Downloading basemap-1.0.7.tar.gz (129.7MB):  23%  30.0MB\r",
        "  Downloading basemap-1.0.7.tar.gz (129.7MB):  23%  30.0MB"
       ]
      },
      {
       "output_type": "stream",
       "stream": "stdout",
       "text": [
        "\r",
        "  Downloading basemap-1.0.7.tar.gz (129.7MB):  23%  30.0MB\r",
        "  Downloading basemap-1.0.7.tar.gz (129.7MB):  23%  30.0MB\r",
        "  Downloading basemap-1.0.7.tar.gz (129.7MB):  23%  30.0MB\r",
        "  Downloading basemap-1.0.7.tar.gz (129.7MB):  23%  30.0MB\r",
        "  Downloading basemap-1.0.7.tar.gz (129.7MB):  23%  30.0MB\r",
        "  Downloading basemap-1.0.7.tar.gz (129.7MB):  23%  30.0MB\r",
        "  Downloading basemap-1.0.7.tar.gz (129.7MB):  23%  30.0MB"
       ]
      },
      {
       "output_type": "stream",
       "stream": "stdout",
       "text": [
        "\r",
        "  Downloading basemap-1.0.7.tar.gz (129.7MB):  23%  30.0MB\r",
        "  Downloading basemap-1.0.7.tar.gz (129.7MB):  23%  30.0MB\r",
        "  Downloading basemap-1.0.7.tar.gz (129.7MB):  23%  30.0MB\r",
        "  Downloading basemap-1.0.7.tar.gz (129.7MB):  23%  30.0MB\r",
        "  Downloading basemap-1.0.7.tar.gz (129.7MB):  23%  30.0MB\r",
        "  Downloading basemap-1.0.7.tar.gz (129.7MB):  23%  30.0MB\r",
        "  Downloading basemap-1.0.7.tar.gz (129.7MB):  23%  30.0MB\r",
        "  Downloading basemap-1.0.7.tar.gz (129.7MB):  23%  30.0MB"
       ]
      },
      {
       "output_type": "stream",
       "stream": "stdout",
       "text": [
        "\r",
        "  Downloading basemap-1.0.7.tar.gz (129.7MB):  23%  30.0MB\r",
        "  Downloading basemap-1.0.7.tar.gz (129.7MB):  23%  30.0MB\r",
        "  Downloading basemap-1.0.7.tar.gz (129.7MB):  23%  30.0MB\r",
        "  Downloading basemap-1.0.7.tar.gz (129.7MB):  23%  30.0MB\r",
        "  Downloading basemap-1.0.7.tar.gz (129.7MB):  23%  30.0MB\r",
        "  Downloading basemap-1.0.7.tar.gz (129.7MB):  23%  30.0MB\r",
        "  Downloading basemap-1.0.7.tar.gz (129.7MB):  23%  30.0MB\r",
        "  Downloading basemap-1.0.7.tar.gz (129.7MB):  23%  30.1MB"
       ]
      },
      {
       "output_type": "stream",
       "stream": "stdout",
       "text": [
        "\r",
        "  Downloading basemap-1.0.7.tar.gz (129.7MB):  23%  30.1MB\r",
        "  Downloading basemap-1.0.7.tar.gz (129.7MB):  23%  30.1MB\r",
        "  Downloading basemap-1.0.7.tar.gz (129.7MB):  23%  30.1MB\r",
        "  Downloading basemap-1.0.7.tar.gz (129.7MB):  23%  30.1MB\r",
        "  Downloading basemap-1.0.7.tar.gz (129.7MB):  23%  30.1MB\r",
        "  Downloading basemap-1.0.7.tar.gz (129.7MB):  23%  30.1MB\r",
        "  Downloading basemap-1.0.7.tar.gz (129.7MB):  23%  30.1MB\r",
        "  Downloading basemap-1.0.7.tar.gz (129.7MB):  23%  30.1MB\r",
        "  Downloading basemap-1.0.7.tar.gz (129.7MB):  23%  30.1MB"
       ]
      },
      {
       "output_type": "stream",
       "stream": "stdout",
       "text": [
        "\r",
        "  Downloading basemap-1.0.7.tar.gz (129.7MB):  23%  30.1MB\r",
        "  Downloading basemap-1.0.7.tar.gz (129.7MB):  23%  30.1MB"
       ]
      },
      {
       "output_type": "stream",
       "stream": "stdout",
       "text": [
        "\r",
        "  Downloading basemap-1.0.7.tar.gz (129.7MB):  23%  30.1MB\r",
        "  Downloading basemap-1.0.7.tar.gz (129.7MB):  23%  30.1MB\r",
        "  Downloading basemap-1.0.7.tar.gz (129.7MB):  23%  30.1MB\r",
        "  Downloading basemap-1.0.7.tar.gz (129.7MB):  23%  30.1MB\r",
        "  Downloading basemap-1.0.7.tar.gz (129.7MB):  23%  30.1MB\r",
        "  Downloading basemap-1.0.7.tar.gz (129.7MB):  23%  30.1MB"
       ]
      },
      {
       "output_type": "stream",
       "stream": "stdout",
       "text": [
        "\r",
        "  Downloading basemap-1.0.7.tar.gz (129.7MB):  23%  30.1MB\r",
        "  Downloading basemap-1.0.7.tar.gz (129.7MB):  23%  30.1MB\r",
        "  Downloading basemap-1.0.7.tar.gz (129.7MB):  23%  30.1MB\r",
        "  Downloading basemap-1.0.7.tar.gz (129.7MB):  23%  30.1MB\r",
        "  Downloading basemap-1.0.7.tar.gz (129.7MB):  23%  30.1MB\r",
        "  Downloading basemap-1.0.7.tar.gz (129.7MB):  23%  30.1MB\r",
        "  Downloading basemap-1.0.7.tar.gz (129.7MB):  23%  30.2MB\r",
        "  Downloading basemap-1.0.7.tar.gz (129.7MB):  23%  30.2MB\r",
        "  Downloading basemap-1.0.7.tar.gz (129.7MB):  23%  30.2MB"
       ]
      },
      {
       "output_type": "stream",
       "stream": "stdout",
       "text": [
        "\r",
        "  Downloading basemap-1.0.7.tar.gz (129.7MB):  23%  30.2MB\r",
        "  Downloading basemap-1.0.7.tar.gz (129.7MB):  23%  30.2MB\r",
        "  Downloading basemap-1.0.7.tar.gz (129.7MB):  23%  30.2MB\r",
        "  Downloading basemap-1.0.7.tar.gz (129.7MB):  23%  30.2MB\r",
        "  Downloading basemap-1.0.7.tar.gz (129.7MB):  23%  30.2MB\r",
        "  Downloading basemap-1.0.7.tar.gz (129.7MB):  23%  30.2MB\r",
        "  Downloading basemap-1.0.7.tar.gz (129.7MB):  23%  30.2MB\r",
        "  Downloading basemap-1.0.7.tar.gz (129.7MB):  23%  30.2MB\r",
        "  Downloading basemap-1.0.7.tar.gz (129.7MB):  23%  30.2MB"
       ]
      },
      {
       "output_type": "stream",
       "stream": "stdout",
       "text": [
        "\r",
        "  Downloading basemap-1.0.7.tar.gz (129.7MB):  23%  30.2MB\r",
        "  Downloading basemap-1.0.7.tar.gz (129.7MB):  23%  30.2MB\r",
        "  Downloading basemap-1.0.7.tar.gz (129.7MB):  23%  30.2MB\r",
        "  Downloading basemap-1.0.7.tar.gz (129.7MB):  23%  30.2MB"
       ]
      },
      {
       "output_type": "stream",
       "stream": "stdout",
       "text": [
        "\r",
        "  Downloading basemap-1.0.7.tar.gz (129.7MB):  23%  30.2MB\r",
        "  Downloading basemap-1.0.7.tar.gz (129.7MB):  23%  30.2MB\r",
        "  Downloading basemap-1.0.7.tar.gz (129.7MB):  23%  30.2MB\r",
        "  Downloading basemap-1.0.7.tar.gz (129.7MB):  23%  30.2MB\r",
        "  Downloading basemap-1.0.7.tar.gz (129.7MB):  23%  30.2MB"
       ]
      },
      {
       "output_type": "stream",
       "stream": "stdout",
       "text": [
        "\r",
        "  Downloading basemap-1.0.7.tar.gz (129.7MB):  23%  30.2MB\r",
        "  Downloading basemap-1.0.7.tar.gz (129.7MB):  23%  30.2MB\r",
        "  Downloading basemap-1.0.7.tar.gz (129.7MB):  23%  30.2MB\r",
        "  Downloading basemap-1.0.7.tar.gz (129.7MB):  23%  30.2MB\r",
        "  Downloading basemap-1.0.7.tar.gz (129.7MB):  23%  30.3MB\r",
        "  Downloading basemap-1.0.7.tar.gz (129.7MB):  23%  30.3MB\r",
        "  Downloading basemap-1.0.7.tar.gz (129.7MB):  23%  30.3MB\r",
        "  Downloading basemap-1.0.7.tar.gz (129.7MB):  23%  30.3MB\r",
        "  Downloading basemap-1.0.7.tar.gz (129.7MB):  23%  30.3MB\r",
        "  Downloading basemap-1.0.7.tar.gz (129.7MB):  23%  30.3MB"
       ]
      },
      {
       "output_type": "stream",
       "stream": "stdout",
       "text": [
        "\r",
        "  Downloading basemap-1.0.7.tar.gz (129.7MB):  23%  30.3MB\r",
        "  Downloading basemap-1.0.7.tar.gz (129.7MB):  23%  30.3MB\r",
        "  Downloading basemap-1.0.7.tar.gz (129.7MB):  23%  30.3MB\r",
        "  Downloading basemap-1.0.7.tar.gz (129.7MB):  23%  30.3MB\r",
        "  Downloading basemap-1.0.7.tar.gz (129.7MB):  23%  30.3MB\r",
        "  Downloading basemap-1.0.7.tar.gz (129.7MB):  23%  30.3MB\r",
        "  Downloading basemap-1.0.7.tar.gz (129.7MB):  23%  30.3MB\r",
        "  Downloading basemap-1.0.7.tar.gz (129.7MB):  23%  30.3MB\r",
        "  Downloading basemap-1.0.7.tar.gz (129.7MB):  23%  30.3MB\r",
        "  Downloading basemap-1.0.7.tar.gz (129.7MB):  23%  30.3MB"
       ]
      },
      {
       "output_type": "stream",
       "stream": "stdout",
       "text": [
        "\r",
        "  Downloading basemap-1.0.7.tar.gz (129.7MB):  23%  30.3MB\r",
        "  Downloading basemap-1.0.7.tar.gz (129.7MB):  23%  30.3MB\r",
        "  Downloading basemap-1.0.7.tar.gz (129.7MB):  23%  30.3MB\r",
        "  Downloading basemap-1.0.7.tar.gz (129.7MB):  23%  30.3MB\r",
        "  Downloading basemap-1.0.7.tar.gz (129.7MB):  23%  30.3MB\r",
        "  Downloading basemap-1.0.7.tar.gz (129.7MB):  23%  30.3MB"
       ]
      },
      {
       "output_type": "stream",
       "stream": "stdout",
       "text": [
        "\r",
        "  Downloading basemap-1.0.7.tar.gz (129.7MB):  23%  30.3MB\r",
        "  Downloading basemap-1.0.7.tar.gz (129.7MB):  23%  30.3MB\r",
        "  Downloading basemap-1.0.7.tar.gz (129.7MB):  23%  30.4MB\r",
        "  Downloading basemap-1.0.7.tar.gz (129.7MB):  23%  30.4MB\r",
        "  Downloading basemap-1.0.7.tar.gz (129.7MB):  23%  30.4MB\r",
        "  Downloading basemap-1.0.7.tar.gz (129.7MB):  23%  30.4MB\r",
        "  Downloading basemap-1.0.7.tar.gz (129.7MB):  23%  30.4MB\r",
        "  Downloading basemap-1.0.7.tar.gz (129.7MB):  23%  30.4MB\r",
        "  Downloading basemap-1.0.7.tar.gz (129.7MB):  23%  30.4MB\r",
        "  Downloading basemap-1.0.7.tar.gz (129.7MB):  23%  30.4MB\r",
        "  Downloading basemap-1.0.7.tar.gz (129.7MB):  23%  30.4MB\r",
        "  Downloading basemap-1.0.7.tar.gz (129.7MB):  23%  30.4MB"
       ]
      },
      {
       "output_type": "stream",
       "stream": "stdout",
       "text": [
        "\r",
        "  Downloading basemap-1.0.7.tar.gz (129.7MB):  23%  30.4MB\r",
        "  Downloading basemap-1.0.7.tar.gz (129.7MB):  23%  30.4MB\r",
        "  Downloading basemap-1.0.7.tar.gz (129.7MB):  23%  30.4MB\r",
        "  Downloading basemap-1.0.7.tar.gz (129.7MB):  23%  30.4MB\r",
        "  Downloading basemap-1.0.7.tar.gz (129.7MB):  23%  30.4MB"
       ]
      },
      {
       "output_type": "stream",
       "stream": "stdout",
       "text": [
        "\r",
        "  Downloading basemap-1.0.7.tar.gz (129.7MB):  23%  30.4MB\r",
        "  Downloading basemap-1.0.7.tar.gz (129.7MB):  23%  30.4MB\r",
        "  Downloading basemap-1.0.7.tar.gz (129.7MB):  23%  30.4MB\r",
        "  Downloading basemap-1.0.7.tar.gz (129.7MB):  23%  30.4MB\r",
        "  Downloading basemap-1.0.7.tar.gz (129.7MB):  23%  30.4MB"
       ]
      },
      {
       "output_type": "stream",
       "stream": "stdout",
       "text": [
        "\r",
        "  Downloading basemap-1.0.7.tar.gz (129.7MB):  23%  30.4MB"
       ]
      },
      {
       "output_type": "stream",
       "stream": "stdout",
       "text": [
        "\r",
        "  Downloading basemap-1.0.7.tar.gz (129.7MB):  23%  30.4MB\r",
        "  Downloading basemap-1.0.7.tar.gz (129.7MB):  23%  30.4MB\r",
        "  Downloading basemap-1.0.7.tar.gz (129.7MB):  23%  30.4MB\r",
        "  Downloading basemap-1.0.7.tar.gz (129.7MB):  23%  30.4MB\r",
        "  Downloading basemap-1.0.7.tar.gz (129.7MB):  23%  30.5MB\r",
        "  Downloading basemap-1.0.7.tar.gz (129.7MB):  23%  30.5MB"
       ]
      },
      {
       "output_type": "stream",
       "stream": "stdout",
       "text": [
        "\r",
        "  Downloading basemap-1.0.7.tar.gz (129.7MB):  23%  30.5MB\r",
        "  Downloading basemap-1.0.7.tar.gz (129.7MB):  23%  30.5MB\r",
        "  Downloading basemap-1.0.7.tar.gz (129.7MB):  23%  30.5MB\r",
        "  Downloading basemap-1.0.7.tar.gz (129.7MB):  23%  30.5MB\r",
        "  Downloading basemap-1.0.7.tar.gz (129.7MB):  23%  30.5MB\r",
        "  Downloading basemap-1.0.7.tar.gz (129.7MB):  23%  30.5MB\r",
        "  Downloading basemap-1.0.7.tar.gz (129.7MB):  23%  30.5MB"
       ]
      },
      {
       "output_type": "stream",
       "stream": "stdout",
       "text": [
        "\r",
        "  Downloading basemap-1.0.7.tar.gz (129.7MB):  23%  30.5MB\r",
        "  Downloading basemap-1.0.7.tar.gz (129.7MB):  23%  30.5MB\r",
        "  Downloading basemap-1.0.7.tar.gz (129.7MB):  23%  30.5MB\r",
        "  Downloading basemap-1.0.7.tar.gz (129.7MB):  23%  30.5MB\r",
        "  Downloading basemap-1.0.7.tar.gz (129.7MB):  23%  30.5MB\r",
        "  Downloading basemap-1.0.7.tar.gz (129.7MB):  23%  30.5MB\r",
        "  Downloading basemap-1.0.7.tar.gz (129.7MB):  23%  30.5MB"
       ]
      },
      {
       "output_type": "stream",
       "stream": "stdout",
       "text": [
        "\r",
        "  Downloading basemap-1.0.7.tar.gz (129.7MB):  23%  30.5MB\r",
        "  Downloading basemap-1.0.7.tar.gz (129.7MB):  23%  30.5MB\r",
        "  Downloading basemap-1.0.7.tar.gz (129.7MB):  23%  30.5MB\r",
        "  Downloading basemap-1.0.7.tar.gz (129.7MB):  23%  30.5MB\r",
        "  Downloading basemap-1.0.7.tar.gz (129.7MB):  23%  30.5MB\r",
        "  Downloading basemap-1.0.7.tar.gz (129.7MB):  23%  30.5MB\r",
        "  Downloading basemap-1.0.7.tar.gz (129.7MB):  23%  30.5MB"
       ]
      },
      {
       "output_type": "stream",
       "stream": "stdout",
       "text": [
        "\r",
        "  Downloading basemap-1.0.7.tar.gz (129.7MB):  23%  30.5MB\r",
        "  Downloading basemap-1.0.7.tar.gz (129.7MB):  23%  30.6MB\r",
        "  Downloading basemap-1.0.7.tar.gz (129.7MB):  23%  30.6MB\r",
        "  Downloading basemap-1.0.7.tar.gz (129.7MB):  23%  30.6MB\r",
        "  Downloading basemap-1.0.7.tar.gz (129.7MB):  23%  30.6MB\r",
        "  Downloading basemap-1.0.7.tar.gz (129.7MB):  23%  30.6MB\r",
        "  Downloading basemap-1.0.7.tar.gz (129.7MB):  23%  30.6MB"
       ]
      },
      {
       "output_type": "stream",
       "stream": "stdout",
       "text": [
        "\r",
        "  Downloading basemap-1.0.7.tar.gz (129.7MB):  23%  30.6MB"
       ]
      },
      {
       "output_type": "stream",
       "stream": "stdout",
       "text": [
        "\r",
        "  Downloading basemap-1.0.7.tar.gz (129.7MB):  23%  30.6MB\r",
        "  Downloading basemap-1.0.7.tar.gz (129.7MB):  23%  30.6MB\r",
        "  Downloading basemap-1.0.7.tar.gz (129.7MB):  23%  30.6MB\r",
        "  Downloading basemap-1.0.7.tar.gz (129.7MB):  23%  30.6MB\r",
        "  Downloading basemap-1.0.7.tar.gz (129.7MB):  23%  30.6MB\r",
        "  Downloading basemap-1.0.7.tar.gz (129.7MB):  23%  30.6MB\r",
        "  Downloading basemap-1.0.7.tar.gz (129.7MB):  23%  30.6MB"
       ]
      },
      {
       "output_type": "stream",
       "stream": "stdout",
       "text": [
        "\r",
        "  Downloading basemap-1.0.7.tar.gz (129.7MB):  23%  30.6MB\r",
        "  Downloading basemap-1.0.7.tar.gz (129.7MB):  23%  30.6MB\r",
        "  Downloading basemap-1.0.7.tar.gz (129.7MB):  23%  30.6MB\r",
        "  Downloading basemap-1.0.7.tar.gz (129.7MB):  23%  30.6MB\r",
        "  Downloading basemap-1.0.7.tar.gz (129.7MB):  23%  30.6MB\r",
        "  Downloading basemap-1.0.7.tar.gz (129.7MB):  23%  30.6MB\r",
        "  Downloading basemap-1.0.7.tar.gz (129.7MB):  23%  30.6MB\r",
        "  Downloading basemap-1.0.7.tar.gz (129.7MB):  23%  30.6MB"
       ]
      },
      {
       "output_type": "stream",
       "stream": "stdout",
       "text": [
        "\r",
        "  Downloading basemap-1.0.7.tar.gz (129.7MB):  23%  30.6MB\r",
        "  Downloading basemap-1.0.7.tar.gz (129.7MB):  23%  30.6MB\r",
        "  Downloading basemap-1.0.7.tar.gz (129.7MB):  23%  30.7MB\r",
        "  Downloading basemap-1.0.7.tar.gz (129.7MB):  23%  30.7MB\r",
        "  Downloading basemap-1.0.7.tar.gz (129.7MB):  23%  30.7MB\r",
        "  Downloading basemap-1.0.7.tar.gz (129.7MB):  23%  30.7MB\r",
        "  Downloading basemap-1.0.7.tar.gz (129.7MB):  23%  30.7MB\r",
        "  Downloading basemap-1.0.7.tar.gz (129.7MB):  23%  30.7MB"
       ]
      },
      {
       "output_type": "stream",
       "stream": "stdout",
       "text": [
        "\r",
        "  Downloading basemap-1.0.7.tar.gz (129.7MB):  23%  30.7MB\r",
        "  Downloading basemap-1.0.7.tar.gz (129.7MB):  23%  30.7MB\r",
        "  Downloading basemap-1.0.7.tar.gz (129.7MB):  23%  30.7MB"
       ]
      },
      {
       "output_type": "stream",
       "stream": "stdout",
       "text": [
        "\r",
        "  Downloading basemap-1.0.7.tar.gz (129.7MB):  23%  30.7MB\r",
        "  Downloading basemap-1.0.7.tar.gz (129.7MB):  23%  30.7MB\r",
        "  Downloading basemap-1.0.7.tar.gz (129.7MB):  23%  30.7MB\r",
        "  Downloading basemap-1.0.7.tar.gz (129.7MB):  23%  30.7MB\r",
        "  Downloading basemap-1.0.7.tar.gz (129.7MB):  23%  30.7MB"
       ]
      },
      {
       "output_type": "stream",
       "stream": "stdout",
       "text": [
        "\r",
        "  Downloading basemap-1.0.7.tar.gz (129.7MB):  23%  30.7MB\r",
        "  Downloading basemap-1.0.7.tar.gz (129.7MB):  23%  30.7MB\r",
        "  Downloading basemap-1.0.7.tar.gz (129.7MB):  23%  30.7MB\r",
        "  Downloading basemap-1.0.7.tar.gz (129.7MB):  23%  30.7MB\r",
        "  Downloading basemap-1.0.7.tar.gz (129.7MB):  23%  30.7MB\r",
        "  Downloading basemap-1.0.7.tar.gz (129.7MB):  23%  30.7MB\r",
        "  Downloading basemap-1.0.7.tar.gz (129.7MB):  23%  30.7MB\r",
        "  Downloading basemap-1.0.7.tar.gz (129.7MB):  23%  30.7MB"
       ]
      },
      {
       "output_type": "stream",
       "stream": "stdout",
       "text": [
        "\r",
        "  Downloading basemap-1.0.7.tar.gz (129.7MB):  23%  30.7MB\r",
        "  Downloading basemap-1.0.7.tar.gz (129.7MB):  23%  30.7MB\r",
        "  Downloading basemap-1.0.7.tar.gz (129.7MB):  23%  30.7MB\r",
        "  Downloading basemap-1.0.7.tar.gz (129.7MB):  23%  30.8MB\r",
        "  Downloading basemap-1.0.7.tar.gz (129.7MB):  23%  30.8MB\r",
        "  Downloading basemap-1.0.7.tar.gz (129.7MB):  23%  30.8MB\r",
        "  Downloading basemap-1.0.7.tar.gz (129.7MB):  23%  30.8MB\r",
        "  Downloading basemap-1.0.7.tar.gz (129.7MB):  23%  30.8MB\r",
        "  Downloading basemap-1.0.7.tar.gz (129.7MB):  23%  30.8MB"
       ]
      },
      {
       "output_type": "stream",
       "stream": "stdout",
       "text": [
        "\r",
        "  Downloading basemap-1.0.7.tar.gz (129.7MB):  23%  30.8MB\r",
        "  Downloading basemap-1.0.7.tar.gz (129.7MB):  23%  30.8MB\r",
        "  Downloading basemap-1.0.7.tar.gz (129.7MB):  23%  30.8MB\r",
        "  Downloading basemap-1.0.7.tar.gz (129.7MB):  23%  30.8MB\r",
        "  Downloading basemap-1.0.7.tar.gz (129.7MB):  23%  30.8MB\r",
        "  Downloading basemap-1.0.7.tar.gz (129.7MB):  23%  30.8MB\r",
        "  Downloading basemap-1.0.7.tar.gz (129.7MB):  23%  30.8MB\r",
        "  Downloading basemap-1.0.7.tar.gz (129.7MB):  23%  30.8MB"
       ]
      },
      {
       "output_type": "stream",
       "stream": "stdout",
       "text": [
        "\r",
        "  Downloading basemap-1.0.7.tar.gz (129.7MB):  23%  30.8MB\r",
        "  Downloading basemap-1.0.7.tar.gz (129.7MB):  23%  30.8MB"
       ]
      },
      {
       "output_type": "stream",
       "stream": "stdout",
       "text": [
        "\r",
        "  Downloading basemap-1.0.7.tar.gz (129.7MB):  23%  30.8MB\r",
        "  Downloading basemap-1.0.7.tar.gz (129.7MB):  23%  30.8MB\r",
        "  Downloading basemap-1.0.7.tar.gz (129.7MB):  23%  30.8MB\r",
        "  Downloading basemap-1.0.7.tar.gz (129.7MB):  23%  30.8MB\r",
        "  Downloading basemap-1.0.7.tar.gz (129.7MB):  23%  30.8MB\r",
        "  Downloading basemap-1.0.7.tar.gz (129.7MB):  23%  30.8MB\r",
        "  Downloading basemap-1.0.7.tar.gz (129.7MB):  23%  30.8MB\r",
        "  Downloading basemap-1.0.7.tar.gz (129.7MB):  23%  30.8MB\r",
        "  Downloading basemap-1.0.7.tar.gz (129.7MB):  23%  30.9MB\r",
        "  Downloading basemap-1.0.7.tar.gz (129.7MB):  23%  30.9MB"
       ]
      },
      {
       "output_type": "stream",
       "stream": "stdout",
       "text": [
        "\r",
        "  Downloading basemap-1.0.7.tar.gz (129.7MB):  23%  30.9MB\r",
        "  Downloading basemap-1.0.7.tar.gz (129.7MB):  23%  30.9MB\r",
        "  Downloading basemap-1.0.7.tar.gz (129.7MB):  23%  30.9MB\r",
        "  Downloading basemap-1.0.7.tar.gz (129.7MB):  23%  30.9MB\r",
        "  Downloading basemap-1.0.7.tar.gz (129.7MB):  23%  30.9MB\r",
        "  Downloading basemap-1.0.7.tar.gz (129.7MB):  23%  30.9MB"
       ]
      },
      {
       "output_type": "stream",
       "stream": "stdout",
       "text": [
        "\r",
        "  Downloading basemap-1.0.7.tar.gz (129.7MB):  23%  30.9MB\r",
        "  Downloading basemap-1.0.7.tar.gz (129.7MB):  23%  30.9MB\r",
        "  Downloading basemap-1.0.7.tar.gz (129.7MB):  23%  30.9MB\r",
        "  Downloading basemap-1.0.7.tar.gz (129.7MB):  23%  30.9MB\r",
        "  Downloading basemap-1.0.7.tar.gz (129.7MB):  23%  30.9MB\r",
        "  Downloading basemap-1.0.7.tar.gz (129.7MB):  23%  30.9MB\r",
        "  Downloading basemap-1.0.7.tar.gz (129.7MB):  23%  30.9MB\r",
        "  Downloading basemap-1.0.7.tar.gz (129.7MB):  23%  30.9MB\r",
        "  Downloading basemap-1.0.7.tar.gz (129.7MB):  23%  30.9MB\r",
        "  Downloading basemap-1.0.7.tar.gz (129.7MB):  23%  30.9MB\r",
        "  Downloading basemap-1.0.7.tar.gz (129.7MB):  23%  30.9MB"
       ]
      },
      {
       "output_type": "stream",
       "stream": "stdout",
       "text": [
        "\r",
        "  Downloading basemap-1.0.7.tar.gz (129.7MB):  23%  30.9MB\r",
        "  Downloading basemap-1.0.7.tar.gz (129.7MB):  23%  30.9MB\r",
        "  Downloading basemap-1.0.7.tar.gz (129.7MB):  23%  30.9MB\r",
        "  Downloading basemap-1.0.7.tar.gz (129.7MB):  23%  30.9MB"
       ]
      },
      {
       "output_type": "stream",
       "stream": "stdout",
       "text": [
        "\r",
        "  Downloading basemap-1.0.7.tar.gz (129.7MB):  23%  30.9MB\r",
        "  Downloading basemap-1.0.7.tar.gz (129.7MB):  23%  30.9MB\r",
        "  Downloading basemap-1.0.7.tar.gz (129.7MB):  23%  31.0MB\r",
        "  Downloading basemap-1.0.7.tar.gz (129.7MB):  23%  31.0MB\r",
        "  Downloading basemap-1.0.7.tar.gz (129.7MB):  23%  31.0MB\r",
        "  Downloading basemap-1.0.7.tar.gz (129.7MB):  23%  31.0MB"
       ]
      },
      {
       "output_type": "stream",
       "stream": "stdout",
       "text": [
        "\r",
        "  Downloading basemap-1.0.7.tar.gz (129.7MB):  23%  31.0MB\r",
        "  Downloading basemap-1.0.7.tar.gz (129.7MB):  23%  31.0MB\r",
        "  Downloading basemap-1.0.7.tar.gz (129.7MB):  23%  31.0MB\r",
        "  Downloading basemap-1.0.7.tar.gz (129.7MB):  23%  31.0MB\r",
        "  Downloading basemap-1.0.7.tar.gz (129.7MB):  23%  31.0MB\r",
        "  Downloading basemap-1.0.7.tar.gz (129.7MB):  23%  31.0MB"
       ]
      },
      {
       "output_type": "stream",
       "stream": "stdout",
       "text": [
        "\r",
        "  Downloading basemap-1.0.7.tar.gz (129.7MB):  23%  31.0MB\r",
        "  Downloading basemap-1.0.7.tar.gz (129.7MB):  23%  31.0MB\r",
        "  Downloading basemap-1.0.7.tar.gz (129.7MB):  23%  31.0MB\r",
        "  Downloading basemap-1.0.7.tar.gz (129.7MB):  23%  31.0MB\r",
        "  Downloading basemap-1.0.7.tar.gz (129.7MB):  23%  31.0MB\r",
        "  Downloading basemap-1.0.7.tar.gz (129.7MB):  23%  31.0MB"
       ]
      },
      {
       "output_type": "stream",
       "stream": "stdout",
       "text": [
        "\r",
        "  Downloading basemap-1.0.7.tar.gz (129.7MB):  23%  31.0MB\r",
        "  Downloading basemap-1.0.7.tar.gz (129.7MB):  23%  31.0MB\r",
        "  Downloading basemap-1.0.7.tar.gz (129.7MB):  23%  31.0MB\r",
        "  Downloading basemap-1.0.7.tar.gz (129.7MB):  23%  31.0MB\r",
        "  Downloading basemap-1.0.7.tar.gz (129.7MB):  23%  31.0MB\r",
        "  Downloading basemap-1.0.7.tar.gz (129.7MB):  23%  31.0MB"
       ]
      },
      {
       "output_type": "stream",
       "stream": "stdout",
       "text": [
        "\r",
        "  Downloading basemap-1.0.7.tar.gz (129.7MB):  23%  31.0MB\r",
        "  Downloading basemap-1.0.7.tar.gz (129.7MB):  23%  31.0MB\r",
        "  Downloading basemap-1.0.7.tar.gz (129.7MB):  23%  31.1MB\r",
        "  Downloading basemap-1.0.7.tar.gz (129.7MB):  23%  31.1MB\r",
        "  Downloading basemap-1.0.7.tar.gz (129.7MB):  23%  31.1MB\r",
        "  Downloading basemap-1.0.7.tar.gz (129.7MB):  23%  31.1MB\r",
        "  Downloading basemap-1.0.7.tar.gz (129.7MB):  23%  31.1MB"
       ]
      },
      {
       "output_type": "stream",
       "stream": "stdout",
       "text": [
        "\r",
        "  Downloading basemap-1.0.7.tar.gz (129.7MB):  23%  31.1MB\r",
        "  Downloading basemap-1.0.7.tar.gz (129.7MB):  23%  31.1MB\r",
        "  Downloading basemap-1.0.7.tar.gz (129.7MB):  23%  31.1MB\r",
        "  Downloading basemap-1.0.7.tar.gz (129.7MB):  23%  31.1MB\r",
        "  Downloading basemap-1.0.7.tar.gz (129.7MB):  23%  31.1MB\r",
        "  Downloading basemap-1.0.7.tar.gz (129.7MB):  23%  31.1MB"
       ]
      },
      {
       "output_type": "stream",
       "stream": "stdout",
       "text": [
        "\r",
        "  Downloading basemap-1.0.7.tar.gz (129.7MB):  23%  31.1MB\r",
        "  Downloading basemap-1.0.7.tar.gz (129.7MB):  23%  31.1MB\r",
        "  Downloading basemap-1.0.7.tar.gz (129.7MB):  23%  31.1MB\r",
        "  Downloading basemap-1.0.7.tar.gz (129.7MB):  23%  31.1MB\r",
        "  Downloading basemap-1.0.7.tar.gz (129.7MB):  23%  31.1MB\r",
        "  Downloading basemap-1.0.7.tar.gz (129.7MB):  23%  31.1MB\r",
        "  Downloading basemap-1.0.7.tar.gz (129.7MB):  23%  31.1MB"
       ]
      },
      {
       "output_type": "stream",
       "stream": "stdout",
       "text": [
        "\r",
        "  Downloading basemap-1.0.7.tar.gz (129.7MB):  23%  31.1MB\r",
        "  Downloading basemap-1.0.7.tar.gz (129.7MB):  24%  31.1MB\r",
        "  Downloading basemap-1.0.7.tar.gz (129.7MB):  24%  31.1MB\r",
        "  Downloading basemap-1.0.7.tar.gz (129.7MB):  24%  31.1MB\r",
        "  Downloading basemap-1.0.7.tar.gz (129.7MB):  24%  31.1MB\r",
        "  Downloading basemap-1.0.7.tar.gz (129.7MB):  24%  31.1MB\r",
        "  Downloading basemap-1.0.7.tar.gz (129.7MB):  24%  31.2MB\r",
        "  Downloading basemap-1.0.7.tar.gz (129.7MB):  24%  31.2MB"
       ]
      },
      {
       "output_type": "stream",
       "stream": "stdout",
       "text": [
        "\r",
        "  Downloading basemap-1.0.7.tar.gz (129.7MB):  24%  31.2MB\r",
        "  Downloading basemap-1.0.7.tar.gz (129.7MB):  24%  31.2MB\r",
        "  Downloading basemap-1.0.7.tar.gz (129.7MB):  24%  31.2MB\r",
        "  Downloading basemap-1.0.7.tar.gz (129.7MB):  24%  31.2MB\r",
        "  Downloading basemap-1.0.7.tar.gz (129.7MB):  24%  31.2MB\r",
        "  Downloading basemap-1.0.7.tar.gz (129.7MB):  24%  31.2MB\r",
        "  Downloading basemap-1.0.7.tar.gz (129.7MB):  24%  31.2MB\r",
        "  Downloading basemap-1.0.7.tar.gz (129.7MB):  24%  31.2MB"
       ]
      },
      {
       "output_type": "stream",
       "stream": "stdout",
       "text": [
        "\r",
        "  Downloading basemap-1.0.7.tar.gz (129.7MB):  24%  31.2MB\r",
        "  Downloading basemap-1.0.7.tar.gz (129.7MB):  24%  31.2MB\r",
        "  Downloading basemap-1.0.7.tar.gz (129.7MB):  24%  31.2MB\r",
        "  Downloading basemap-1.0.7.tar.gz (129.7MB):  24%  31.2MB\r",
        "  Downloading basemap-1.0.7.tar.gz (129.7MB):  24%  31.2MB\r",
        "  Downloading basemap-1.0.7.tar.gz (129.7MB):  24%  31.2MB\r",
        "  Downloading basemap-1.0.7.tar.gz (129.7MB):  24%  31.2MB\r",
        "  Downloading basemap-1.0.7.tar.gz (129.7MB):  24%  31.2MB"
       ]
      },
      {
       "output_type": "stream",
       "stream": "stdout",
       "text": [
        "\r",
        "  Downloading basemap-1.0.7.tar.gz (129.7MB):  24%  31.2MB\r",
        "  Downloading basemap-1.0.7.tar.gz (129.7MB):  24%  31.2MB\r",
        "  Downloading basemap-1.0.7.tar.gz (129.7MB):  24%  31.2MB\r",
        "  Downloading basemap-1.0.7.tar.gz (129.7MB):  24%  31.2MB\r",
        "  Downloading basemap-1.0.7.tar.gz (129.7MB):  24%  31.2MB\r",
        "  Downloading basemap-1.0.7.tar.gz (129.7MB):  24%  31.2MB\r",
        "  Downloading basemap-1.0.7.tar.gz (129.7MB):  24%  31.2MB\r",
        "  Downloading basemap-1.0.7.tar.gz (129.7MB):  24%  31.3MB"
       ]
      },
      {
       "output_type": "stream",
       "stream": "stdout",
       "text": [
        "\r",
        "  Downloading basemap-1.0.7.tar.gz (129.7MB):  24%  31.3MB\r",
        "  Downloading basemap-1.0.7.tar.gz (129.7MB):  24%  31.3MB\r",
        "  Downloading basemap-1.0.7.tar.gz (129.7MB):  24%  31.3MB"
       ]
      },
      {
       "output_type": "stream",
       "stream": "stdout",
       "text": [
        "\r",
        "  Downloading basemap-1.0.7.tar.gz (129.7MB):  24%  31.3MB\r",
        "  Downloading basemap-1.0.7.tar.gz (129.7MB):  24%  31.3MB\r",
        "  Downloading basemap-1.0.7.tar.gz (129.7MB):  24%  31.3MB\r",
        "  Downloading basemap-1.0.7.tar.gz (129.7MB):  24%  31.3MB\r",
        "  Downloading basemap-1.0.7.tar.gz (129.7MB):  24%  31.3MB\r",
        "  Downloading basemap-1.0.7.tar.gz (129.7MB):  24%  31.3MB"
       ]
      },
      {
       "output_type": "stream",
       "stream": "stdout",
       "text": [
        "\r",
        "  Downloading basemap-1.0.7.tar.gz (129.7MB):  24%  31.3MB\r",
        "  Downloading basemap-1.0.7.tar.gz (129.7MB):  24%  31.3MB\r",
        "  Downloading basemap-1.0.7.tar.gz (129.7MB):  24%  31.3MB\r",
        "  Downloading basemap-1.0.7.tar.gz (129.7MB):  24%  31.3MB\r",
        "  Downloading basemap-1.0.7.tar.gz (129.7MB):  24%  31.3MB\r",
        "  Downloading basemap-1.0.7.tar.gz (129.7MB):  24%  31.3MB\r",
        "  Downloading basemap-1.0.7.tar.gz (129.7MB):  24%  31.3MB\r",
        "  Downloading basemap-1.0.7.tar.gz (129.7MB):  24%  31.3MB\r",
        "  Downloading basemap-1.0.7.tar.gz (129.7MB):  24%  31.3MB"
       ]
      },
      {
       "output_type": "stream",
       "stream": "stdout",
       "text": [
        "\r",
        "  Downloading basemap-1.0.7.tar.gz (129.7MB):  24%  31.3MB\r",
        "  Downloading basemap-1.0.7.tar.gz (129.7MB):  24%  31.3MB\r",
        "  Downloading basemap-1.0.7.tar.gz (129.7MB):  24%  31.3MB\r",
        "  Downloading basemap-1.0.7.tar.gz (129.7MB):  24%  31.3MB\r",
        "  Downloading basemap-1.0.7.tar.gz (129.7MB):  24%  31.3MB\r",
        "  Downloading basemap-1.0.7.tar.gz (129.7MB):  24%  31.4MB\r",
        "  Downloading basemap-1.0.7.tar.gz (129.7MB):  24%  31.4MB\r",
        "  Downloading basemap-1.0.7.tar.gz (129.7MB):  24%  31.4MB\r",
        "  Downloading basemap-1.0.7.tar.gz (129.7MB):  24%  31.4MB"
       ]
      },
      {
       "output_type": "stream",
       "stream": "stdout",
       "text": [
        "\r",
        "  Downloading basemap-1.0.7.tar.gz (129.7MB):  24%  31.4MB\r",
        "  Downloading basemap-1.0.7.tar.gz (129.7MB):  24%  31.4MB\r",
        "  Downloading basemap-1.0.7.tar.gz (129.7MB):  24%  31.4MB\r",
        "  Downloading basemap-1.0.7.tar.gz (129.7MB):  24%  31.4MB"
       ]
      },
      {
       "output_type": "stream",
       "stream": "stdout",
       "text": [
        "\r",
        "  Downloading basemap-1.0.7.tar.gz (129.7MB):  24%  31.4MB\r",
        "  Downloading basemap-1.0.7.tar.gz (129.7MB):  24%  31.4MB\r",
        "  Downloading basemap-1.0.7.tar.gz (129.7MB):  24%  31.4MB\r",
        "  Downloading basemap-1.0.7.tar.gz (129.7MB):  24%  31.4MB\r",
        "  Downloading basemap-1.0.7.tar.gz (129.7MB):  24%  31.4MB\r",
        "  Downloading basemap-1.0.7.tar.gz (129.7MB):  24%  31.4MB"
       ]
      },
      {
       "output_type": "stream",
       "stream": "stdout",
       "text": [
        "\r",
        "  Downloading basemap-1.0.7.tar.gz (129.7MB):  24%  31.4MB\r",
        "  Downloading basemap-1.0.7.tar.gz (129.7MB):  24%  31.4MB\r",
        "  Downloading basemap-1.0.7.tar.gz (129.7MB):  24%  31.4MB\r",
        "  Downloading basemap-1.0.7.tar.gz (129.7MB):  24%  31.4MB\r",
        "  Downloading basemap-1.0.7.tar.gz (129.7MB):  24%  31.4MB\r",
        "  Downloading basemap-1.0.7.tar.gz (129.7MB):  24%  31.4MB\r",
        "  Downloading basemap-1.0.7.tar.gz (129.7MB):  24%  31.4MB\r",
        "  Downloading basemap-1.0.7.tar.gz (129.7MB):  24%  31.4MB\r",
        "  Downloading basemap-1.0.7.tar.gz (129.7MB):  24%  31.4MB"
       ]
      },
      {
       "output_type": "stream",
       "stream": "stdout",
       "text": [
        "\r",
        "  Downloading basemap-1.0.7.tar.gz (129.7MB):  24%  31.4MB\r",
        "  Downloading basemap-1.0.7.tar.gz (129.7MB):  24%  31.4MB\r",
        "  Downloading basemap-1.0.7.tar.gz (129.7MB):  24%  31.5MB\r",
        "  Downloading basemap-1.0.7.tar.gz (129.7MB):  24%  31.5MB\r",
        "  Downloading basemap-1.0.7.tar.gz (129.7MB):  24%  31.5MB\r",
        "  Downloading basemap-1.0.7.tar.gz (129.7MB):  24%  31.5MB\r",
        "  Downloading basemap-1.0.7.tar.gz (129.7MB):  24%  31.5MB\r",
        "  Downloading basemap-1.0.7.tar.gz (129.7MB):  24%  31.5MB\r",
        "  Downloading basemap-1.0.7.tar.gz (129.7MB):  24%  31.5MB\r",
        "  Downloading basemap-1.0.7.tar.gz (129.7MB):  24%  31.5MB"
       ]
      },
      {
       "output_type": "stream",
       "stream": "stdout",
       "text": [
        "\r",
        "  Downloading basemap-1.0.7.tar.gz (129.7MB):  24%  31.5MB\r",
        "  Downloading basemap-1.0.7.tar.gz (129.7MB):  24%  31.5MB\r",
        "  Downloading basemap-1.0.7.tar.gz (129.7MB):  24%  31.5MB\r",
        "  Downloading basemap-1.0.7.tar.gz (129.7MB):  24%  31.5MB\r",
        "  Downloading basemap-1.0.7.tar.gz (129.7MB):  24%  31.5MB\r",
        "  Downloading basemap-1.0.7.tar.gz (129.7MB):  24%  31.5MB\r",
        "  Downloading basemap-1.0.7.tar.gz (129.7MB):  24%  31.5MB\r",
        "  Downloading basemap-1.0.7.tar.gz (129.7MB):  24%  31.5MB\r",
        "  Downloading basemap-1.0.7.tar.gz (129.7MB):  24%  31.5MB"
       ]
      },
      {
       "output_type": "stream",
       "stream": "stdout",
       "text": [
        "\r",
        "  Downloading basemap-1.0.7.tar.gz (129.7MB):  24%  31.5MB\r",
        "  Downloading basemap-1.0.7.tar.gz (129.7MB):  24%  31.5MB"
       ]
      },
      {
       "output_type": "stream",
       "stream": "stdout",
       "text": [
        "\r",
        "  Downloading basemap-1.0.7.tar.gz (129.7MB):  24%  31.5MB\r",
        "  Downloading basemap-1.0.7.tar.gz (129.7MB):  24%  31.5MB\r",
        "  Downloading basemap-1.0.7.tar.gz (129.7MB):  24%  31.5MB\r",
        "  Downloading basemap-1.0.7.tar.gz (129.7MB):  24%  31.5MB\r",
        "  Downloading basemap-1.0.7.tar.gz (129.7MB):  24%  31.5MB\r",
        "  Downloading basemap-1.0.7.tar.gz (129.7MB):  24%  31.6MB\r",
        "  Downloading basemap-1.0.7.tar.gz (129.7MB):  24%  31.6MB\r",
        "  Downloading basemap-1.0.7.tar.gz (129.7MB):  24%  31.6MB\r",
        "  Downloading basemap-1.0.7.tar.gz (129.7MB):  24%  31.6MB\r",
        "  Downloading basemap-1.0.7.tar.gz (129.7MB):  24%  31.6MB\r",
        "  Downloading basemap-1.0.7.tar.gz (129.7MB):  24%  31.6MB"
       ]
      },
      {
       "output_type": "stream",
       "stream": "stdout",
       "text": [
        "\r",
        "  Downloading basemap-1.0.7.tar.gz (129.7MB):  24%  31.6MB\r",
        "  Downloading basemap-1.0.7.tar.gz (129.7MB):  24%  31.6MB\r",
        "  Downloading basemap-1.0.7.tar.gz (129.7MB):  24%  31.6MB\r",
        "  Downloading basemap-1.0.7.tar.gz (129.7MB):  24%  31.6MB\r",
        "  Downloading basemap-1.0.7.tar.gz (129.7MB):  24%  31.6MB\r",
        "  Downloading basemap-1.0.7.tar.gz (129.7MB):  24%  31.6MB\r",
        "  Downloading basemap-1.0.7.tar.gz (129.7MB):  24%  31.6MB\r",
        "  Downloading basemap-1.0.7.tar.gz (129.7MB):  24%  31.6MB\r",
        "  Downloading basemap-1.0.7.tar.gz (129.7MB):  24%  31.6MB\r",
        "  Downloading basemap-1.0.7.tar.gz (129.7MB):  24%  31.6MB\r",
        "  Downloading basemap-1.0.7.tar.gz (129.7MB):  24%  31.6MB"
       ]
      },
      {
       "output_type": "stream",
       "stream": "stdout",
       "text": [
        "\r",
        "  Downloading basemap-1.0.7.tar.gz (129.7MB):  24%  31.6MB\r",
        "  Downloading basemap-1.0.7.tar.gz (129.7MB):  24%  31.6MB\r",
        "  Downloading basemap-1.0.7.tar.gz (129.7MB):  24%  31.6MB\r",
        "  Downloading basemap-1.0.7.tar.gz (129.7MB):  24%  31.6MB\r",
        "  Downloading basemap-1.0.7.tar.gz (129.7MB):  24%  31.6MB\r",
        "  Downloading basemap-1.0.7.tar.gz (129.7MB):  24%  31.6MB\r",
        "  Downloading basemap-1.0.7.tar.gz (129.7MB):  24%  31.6MB\r",
        "  Downloading basemap-1.0.7.tar.gz (129.7MB):  24%  31.6MB\r",
        "  Downloading basemap-1.0.7.tar.gz (129.7MB):  24%  31.7MB\r",
        "  Downloading basemap-1.0.7.tar.gz (129.7MB):  24%  31.7MB\r",
        "  Downloading basemap-1.0.7.tar.gz (129.7MB):  24%  31.7MB"
       ]
      },
      {
       "output_type": "stream",
       "stream": "stdout",
       "text": [
        "\r",
        "  Downloading basemap-1.0.7.tar.gz (129.7MB):  24%  31.7MB\r",
        "  Downloading basemap-1.0.7.tar.gz (129.7MB):  24%  31.7MB"
       ]
      },
      {
       "output_type": "stream",
       "stream": "stdout",
       "text": [
        "\r",
        "  Downloading basemap-1.0.7.tar.gz (129.7MB):  24%  31.7MB\r",
        "  Downloading basemap-1.0.7.tar.gz (129.7MB):  24%  31.7MB\r",
        "  Downloading basemap-1.0.7.tar.gz (129.7MB):  24%  31.7MB\r",
        "  Downloading basemap-1.0.7.tar.gz (129.7MB):  24%  31.7MB\r",
        "  Downloading basemap-1.0.7.tar.gz (129.7MB):  24%  31.7MB\r",
        "  Downloading basemap-1.0.7.tar.gz (129.7MB):  24%  31.7MB\r",
        "  Downloading basemap-1.0.7.tar.gz (129.7MB):  24%  31.7MB\r",
        "  Downloading basemap-1.0.7.tar.gz (129.7MB):  24%  31.7MB\r",
        "  Downloading basemap-1.0.7.tar.gz (129.7MB):  24%  31.7MB\r",
        "  Downloading basemap-1.0.7.tar.gz (129.7MB):  24%  31.7MB"
       ]
      },
      {
       "output_type": "stream",
       "stream": "stdout",
       "text": [
        "\r",
        "  Downloading basemap-1.0.7.tar.gz (129.7MB):  24%  31.7MB\r",
        "  Downloading basemap-1.0.7.tar.gz (129.7MB):  24%  31.7MB\r",
        "  Downloading basemap-1.0.7.tar.gz (129.7MB):  24%  31.7MB\r",
        "  Downloading basemap-1.0.7.tar.gz (129.7MB):  24%  31.7MB\r",
        "  Downloading basemap-1.0.7.tar.gz (129.7MB):  24%  31.7MB\r",
        "  Downloading basemap-1.0.7.tar.gz (129.7MB):  24%  31.7MB\r",
        "  Downloading basemap-1.0.7.tar.gz (129.7MB):  24%  31.7MB\r",
        "  Downloading basemap-1.0.7.tar.gz (129.7MB):  24%  31.7MB\r",
        "  Downloading basemap-1.0.7.tar.gz (129.7MB):  24%  31.7MB\r",
        "  Downloading basemap-1.0.7.tar.gz (129.7MB):  24%  31.8MB\r",
        "  Downloading basemap-1.0.7.tar.gz (129.7MB):  24%  31.8MB\r",
        "  Downloading basemap-1.0.7.tar.gz (129.7MB):  24%  31.8MB"
       ]
      },
      {
       "output_type": "stream",
       "stream": "stdout",
       "text": [
        "\r",
        "  Downloading basemap-1.0.7.tar.gz (129.7MB):  24%  31.8MB\r",
        "  Downloading basemap-1.0.7.tar.gz (129.7MB):  24%  31.8MB\r",
        "  Downloading basemap-1.0.7.tar.gz (129.7MB):  24%  31.8MB\r",
        "  Downloading basemap-1.0.7.tar.gz (129.7MB):  24%  31.8MB\r",
        "  Downloading basemap-1.0.7.tar.gz (129.7MB):  24%  31.8MB\r",
        "  Downloading basemap-1.0.7.tar.gz (129.7MB):  24%  31.8MB\r",
        "  Downloading basemap-1.0.7.tar.gz (129.7MB):  24%  31.8MB\r",
        "  Downloading basemap-1.0.7.tar.gz (129.7MB):  24%  31.8MB\r",
        "  Downloading basemap-1.0.7.tar.gz (129.7MB):  24%  31.8MB\r",
        "  Downloading basemap-1.0.7.tar.gz (129.7MB):  24%  31.8MB\r",
        "  Downloading basemap-1.0.7.tar.gz (129.7MB):  24%  31.8MB\r",
        "  Downloading basemap-1.0.7.tar.gz (129.7MB):  24%  31.8MB"
       ]
      },
      {
       "output_type": "stream",
       "stream": "stdout",
       "text": [
        "\r",
        "  Downloading basemap-1.0.7.tar.gz (129.7MB):  24%  31.8MB\r",
        "  Downloading basemap-1.0.7.tar.gz (129.7MB):  24%  31.8MB\r",
        "  Downloading basemap-1.0.7.tar.gz (129.7MB):  24%  31.8MB"
       ]
      },
      {
       "output_type": "stream",
       "stream": "stdout",
       "text": [
        "\r",
        "  Downloading basemap-1.0.7.tar.gz (129.7MB):  24%  31.8MB\r",
        "  Downloading basemap-1.0.7.tar.gz (129.7MB):  24%  31.8MB\r",
        "  Downloading basemap-1.0.7.tar.gz (129.7MB):  24%  31.8MB\r",
        "  Downloading basemap-1.0.7.tar.gz (129.7MB):  24%  31.8MB\r",
        "  Downloading basemap-1.0.7.tar.gz (129.7MB):  24%  31.8MB\r",
        "  Downloading basemap-1.0.7.tar.gz (129.7MB):  24%  31.8MB\r",
        "  Downloading basemap-1.0.7.tar.gz (129.7MB):  24%  31.9MB\r",
        "  Downloading basemap-1.0.7.tar.gz (129.7MB):  24%  31.9MB\r",
        "  Downloading basemap-1.0.7.tar.gz (129.7MB):  24%  31.9MB"
       ]
      },
      {
       "output_type": "stream",
       "stream": "stdout",
       "text": [
        "\r",
        "  Downloading basemap-1.0.7.tar.gz (129.7MB):  24%  31.9MB\r",
        "  Downloading basemap-1.0.7.tar.gz (129.7MB):  24%  31.9MB\r",
        "  Downloading basemap-1.0.7.tar.gz (129.7MB):  24%  31.9MB\r",
        "  Downloading basemap-1.0.7.tar.gz (129.7MB):  24%  31.9MB\r",
        "  Downloading basemap-1.0.7.tar.gz (129.7MB):  24%  31.9MB\r",
        "  Downloading basemap-1.0.7.tar.gz (129.7MB):  24%  31.9MB\r",
        "  Downloading basemap-1.0.7.tar.gz (129.7MB):  24%  31.9MB\r",
        "  Downloading basemap-1.0.7.tar.gz (129.7MB):  24%  31.9MB\r",
        "  Downloading basemap-1.0.7.tar.gz (129.7MB):  24%  31.9MB\r",
        "  Downloading basemap-1.0.7.tar.gz (129.7MB):  24%  31.9MB\r",
        "  Downloading basemap-1.0.7.tar.gz (129.7MB):  24%  31.9MB\r",
        "  Downloading basemap-1.0.7.tar.gz (129.7MB):  24%  31.9MB\r",
        "  Downloading basemap-1.0.7.tar.gz (129.7MB):  24%  31.9MB"
       ]
      },
      {
       "output_type": "stream",
       "stream": "stdout",
       "text": [
        "\r",
        "  Downloading basemap-1.0.7.tar.gz (129.7MB):  24%  31.9MB\r",
        "  Downloading basemap-1.0.7.tar.gz (129.7MB):  24%  31.9MB\r",
        "  Downloading basemap-1.0.7.tar.gz (129.7MB):  24%  31.9MB\r",
        "  Downloading basemap-1.0.7.tar.gz (129.7MB):  24%  31.9MB\r",
        "  Downloading basemap-1.0.7.tar.gz (129.7MB):  24%  31.9MB\r",
        "  Downloading basemap-1.0.7.tar.gz (129.7MB):  24%  31.9MB\r",
        "  Downloading basemap-1.0.7.tar.gz (129.7MB):  24%  31.9MB\r",
        "  Downloading basemap-1.0.7.tar.gz (129.7MB):  24%  31.9MB\r",
        "  Downloading basemap-1.0.7.tar.gz (129.7MB):  24%  31.9MB\r",
        "  Downloading basemap-1.0.7.tar.gz (129.7MB):  24%  32.0MB\r",
        "  Downloading basemap-1.0.7.tar.gz (129.7MB):  24%  32.0MB\r",
        "  Downloading basemap-1.0.7.tar.gz (129.7MB):  24%  32.0MB"
       ]
      },
      {
       "output_type": "stream",
       "stream": "stdout",
       "text": [
        "\r",
        "  Downloading basemap-1.0.7.tar.gz (129.7MB):  24%  32.0MB\r",
        "  Downloading basemap-1.0.7.tar.gz (129.7MB):  24%  32.0MB"
       ]
      },
      {
       "output_type": "stream",
       "stream": "stdout",
       "text": [
        "\r",
        "  Downloading basemap-1.0.7.tar.gz (129.7MB):  24%  32.0MB\r",
        "  Downloading basemap-1.0.7.tar.gz (129.7MB):  24%  32.0MB\r",
        "  Downloading basemap-1.0.7.tar.gz (129.7MB):  24%  32.0MB\r",
        "  Downloading basemap-1.0.7.tar.gz (129.7MB):  24%  32.0MB"
       ]
      },
      {
       "output_type": "stream",
       "stream": "stdout",
       "text": [
        "\r",
        "  Downloading basemap-1.0.7.tar.gz (129.7MB):  24%  32.0MB\r",
        "  Downloading basemap-1.0.7.tar.gz (129.7MB):  24%  32.0MB"
       ]
      },
      {
       "output_type": "stream",
       "stream": "stdout",
       "text": [
        "\r",
        "  Downloading basemap-1.0.7.tar.gz (129.7MB):  24%  32.0MB\r",
        "  Downloading basemap-1.0.7.tar.gz (129.7MB):  24%  32.0MB\r",
        "  Downloading basemap-1.0.7.tar.gz (129.7MB):  24%  32.0MB\r",
        "  Downloading basemap-1.0.7.tar.gz (129.7MB):  24%  32.0MB\r",
        "  Downloading basemap-1.0.7.tar.gz (129.7MB):  24%  32.0MB\r",
        "  Downloading basemap-1.0.7.tar.gz (129.7MB):  24%  32.0MB\r",
        "  Downloading basemap-1.0.7.tar.gz (129.7MB):  24%  32.0MB\r",
        "  Downloading basemap-1.0.7.tar.gz (129.7MB):  24%  32.0MB\r",
        "  Downloading basemap-1.0.7.tar.gz (129.7MB):  24%  32.0MB\r",
        "  Downloading basemap-1.0.7.tar.gz (129.7MB):  24%  32.0MB\r",
        "  Downloading basemap-1.0.7.tar.gz (129.7MB):  24%  32.0MB\r",
        "  Downloading basemap-1.0.7.tar.gz (129.7MB):  24%  32.0MB\r",
        "  Downloading basemap-1.0.7.tar.gz (129.7MB):  24%  32.0MB\r",
        "  Downloading basemap-1.0.7.tar.gz (129.7MB):  24%  32.1MB\r",
        "  Downloading basemap-1.0.7.tar.gz (129.7MB):  24%  32.1MB"
       ]
      },
      {
       "output_type": "stream",
       "stream": "stdout",
       "text": [
        "\r",
        "  Downloading basemap-1.0.7.tar.gz (129.7MB):  24%  32.1MB"
       ]
      },
      {
       "output_type": "stream",
       "stream": "stdout",
       "text": [
        "\r",
        "  Downloading basemap-1.0.7.tar.gz (129.7MB):  24%  32.1MB\r",
        "  Downloading basemap-1.0.7.tar.gz (129.7MB):  24%  32.1MB\r",
        "  Downloading basemap-1.0.7.tar.gz (129.7MB):  24%  32.1MB\r",
        "  Downloading basemap-1.0.7.tar.gz (129.7MB):  24%  32.1MB\r",
        "  Downloading basemap-1.0.7.tar.gz (129.7MB):  24%  32.1MB"
       ]
      },
      {
       "output_type": "stream",
       "stream": "stdout",
       "text": [
        "\r",
        "  Downloading basemap-1.0.7.tar.gz (129.7MB):  24%  32.1MB\r",
        "  Downloading basemap-1.0.7.tar.gz (129.7MB):  24%  32.1MB\r",
        "  Downloading basemap-1.0.7.tar.gz (129.7MB):  24%  32.1MB"
       ]
      },
      {
       "output_type": "stream",
       "stream": "stdout",
       "text": [
        "\r",
        "  Downloading basemap-1.0.7.tar.gz (129.7MB):  24%  32.1MB\r",
        "  Downloading basemap-1.0.7.tar.gz (129.7MB):  24%  32.1MB\r",
        "  Downloading basemap-1.0.7.tar.gz (129.7MB):  24%  32.1MB\r",
        "  Downloading basemap-1.0.7.tar.gz (129.7MB):  24%  32.1MB\r",
        "  Downloading basemap-1.0.7.tar.gz (129.7MB):  24%  32.1MB"
       ]
      },
      {
       "output_type": "stream",
       "stream": "stdout",
       "text": [
        "\r",
        "  Downloading basemap-1.0.7.tar.gz (129.7MB):  24%  32.1MB\r",
        "  Downloading basemap-1.0.7.tar.gz (129.7MB):  24%  32.1MB\r",
        "  Downloading basemap-1.0.7.tar.gz (129.7MB):  24%  32.1MB\r",
        "  Downloading basemap-1.0.7.tar.gz (129.7MB):  24%  32.1MB\r",
        "  Downloading basemap-1.0.7.tar.gz (129.7MB):  24%  32.1MB\r",
        "  Downloading basemap-1.0.7.tar.gz (129.7MB):  24%  32.1MB\r",
        "  Downloading basemap-1.0.7.tar.gz (129.7MB):  24%  32.1MB\r",
        "  Downloading basemap-1.0.7.tar.gz (129.7MB):  24%  32.1MB"
       ]
      },
      {
       "output_type": "stream",
       "stream": "stdout",
       "text": [
        "\r",
        "  Downloading basemap-1.0.7.tar.gz (129.7MB):  24%  32.1MB\r",
        "  Downloading basemap-1.0.7.tar.gz (129.7MB):  24%  32.2MB"
       ]
      },
      {
       "output_type": "stream",
       "stream": "stdout",
       "text": [
        "\r",
        "  Downloading basemap-1.0.7.tar.gz (129.7MB):  24%  32.2MB\r",
        "  Downloading basemap-1.0.7.tar.gz (129.7MB):  24%  32.2MB\r",
        "  Downloading basemap-1.0.7.tar.gz (129.7MB):  24%  32.2MB\r",
        "  Downloading basemap-1.0.7.tar.gz (129.7MB):  24%  32.2MB\r",
        "  Downloading basemap-1.0.7.tar.gz (129.7MB):  24%  32.2MB\r",
        "  Downloading basemap-1.0.7.tar.gz (129.7MB):  24%  32.2MB"
       ]
      },
      {
       "output_type": "stream",
       "stream": "stdout",
       "text": [
        "\r",
        "  Downloading basemap-1.0.7.tar.gz (129.7MB):  24%  32.2MB\r",
        "  Downloading basemap-1.0.7.tar.gz (129.7MB):  24%  32.2MB"
       ]
      },
      {
       "output_type": "stream",
       "stream": "stdout",
       "text": [
        "\r",
        "  Downloading basemap-1.0.7.tar.gz (129.7MB):  24%  32.2MB\r",
        "  Downloading basemap-1.0.7.tar.gz (129.7MB):  24%  32.2MB\r",
        "  Downloading basemap-1.0.7.tar.gz (129.7MB):  24%  32.2MB\r",
        "  Downloading basemap-1.0.7.tar.gz (129.7MB):  24%  32.2MB\r",
        "  Downloading basemap-1.0.7.tar.gz (129.7MB):  24%  32.2MB"
       ]
      },
      {
       "output_type": "stream",
       "stream": "stdout",
       "text": [
        "\r",
        "  Downloading basemap-1.0.7.tar.gz (129.7MB):  24%  32.2MB\r",
        "  Downloading basemap-1.0.7.tar.gz (129.7MB):  24%  32.2MB\r",
        "  Downloading basemap-1.0.7.tar.gz (129.7MB):  24%  32.2MB"
       ]
      },
      {
       "output_type": "stream",
       "stream": "stdout",
       "text": [
        "\r",
        "  Downloading basemap-1.0.7.tar.gz (129.7MB):  24%  32.2MB\r",
        "  Downloading basemap-1.0.7.tar.gz (129.7MB):  24%  32.2MB\r",
        "  Downloading basemap-1.0.7.tar.gz (129.7MB):  24%  32.2MB\r",
        "  Downloading basemap-1.0.7.tar.gz (129.7MB):  24%  32.2MB\r",
        "  Downloading basemap-1.0.7.tar.gz (129.7MB):  24%  32.2MB\r",
        "  Downloading basemap-1.0.7.tar.gz (129.7MB):  24%  32.2MB"
       ]
      },
      {
       "output_type": "stream",
       "stream": "stdout",
       "text": [
        "\r",
        "  Downloading basemap-1.0.7.tar.gz (129.7MB):  24%  32.2MB\r",
        "  Downloading basemap-1.0.7.tar.gz (129.7MB):  24%  32.3MB\r",
        "  Downloading basemap-1.0.7.tar.gz (129.7MB):  24%  32.3MB"
       ]
      },
      {
       "output_type": "stream",
       "stream": "stdout",
       "text": [
        "\r",
        "  Downloading basemap-1.0.7.tar.gz (129.7MB):  24%  32.3MB\r",
        "  Downloading basemap-1.0.7.tar.gz (129.7MB):  24%  32.3MB\r",
        "  Downloading basemap-1.0.7.tar.gz (129.7MB):  24%  32.3MB\r",
        "  Downloading basemap-1.0.7.tar.gz (129.7MB):  24%  32.3MB\r",
        "  Downloading basemap-1.0.7.tar.gz (129.7MB):  24%  32.3MB\r",
        "  Downloading basemap-1.0.7.tar.gz (129.7MB):  24%  32.3MB\r",
        "  Downloading basemap-1.0.7.tar.gz (129.7MB):  24%  32.3MB\r",
        "  Downloading basemap-1.0.7.tar.gz (129.7MB):  24%  32.3MB\r",
        "  Downloading basemap-1.0.7.tar.gz (129.7MB):  24%  32.3MB"
       ]
      },
      {
       "output_type": "stream",
       "stream": "stdout",
       "text": [
        "\r",
        "  Downloading basemap-1.0.7.tar.gz (129.7MB):  24%  32.3MB\r",
        "  Downloading basemap-1.0.7.tar.gz (129.7MB):  24%  32.3MB\r",
        "  Downloading basemap-1.0.7.tar.gz (129.7MB):  24%  32.3MB\r",
        "  Downloading basemap-1.0.7.tar.gz (129.7MB):  24%  32.3MB\r",
        "  Downloading basemap-1.0.7.tar.gz (129.7MB):  24%  32.3MB\r",
        "  Downloading basemap-1.0.7.tar.gz (129.7MB):  24%  32.3MB\r",
        "  Downloading basemap-1.0.7.tar.gz (129.7MB):  24%  32.3MB"
       ]
      },
      {
       "output_type": "stream",
       "stream": "stdout",
       "text": [
        "\r",
        "  Downloading basemap-1.0.7.tar.gz (129.7MB):  24%  32.3MB\r",
        "  Downloading basemap-1.0.7.tar.gz (129.7MB):  24%  32.3MB"
       ]
      },
      {
       "output_type": "stream",
       "stream": "stdout",
       "text": [
        "\r",
        "  Downloading basemap-1.0.7.tar.gz (129.7MB):  24%  32.3MB\r",
        "  Downloading basemap-1.0.7.tar.gz (129.7MB):  24%  32.3MB\r",
        "  Downloading basemap-1.0.7.tar.gz (129.7MB):  24%  32.3MB\r",
        "  Downloading basemap-1.0.7.tar.gz (129.7MB):  24%  32.3MB\r",
        "  Downloading basemap-1.0.7.tar.gz (129.7MB):  24%  32.4MB\r",
        "  Downloading basemap-1.0.7.tar.gz (129.7MB):  24%  32.4MB"
       ]
      },
      {
       "output_type": "stream",
       "stream": "stdout",
       "text": [
        "\r",
        "  Downloading basemap-1.0.7.tar.gz (129.7MB):  24%  32.4MB\r",
        "  Downloading basemap-1.0.7.tar.gz (129.7MB):  24%  32.4MB\r",
        "  Downloading basemap-1.0.7.tar.gz (129.7MB):  24%  32.4MB"
       ]
      },
      {
       "output_type": "stream",
       "stream": "stdout",
       "text": [
        "\r",
        "  Downloading basemap-1.0.7.tar.gz (129.7MB):  24%  32.4MB\r",
        "  Downloading basemap-1.0.7.tar.gz (129.7MB):  24%  32.4MB\r",
        "  Downloading basemap-1.0.7.tar.gz (129.7MB):  24%  32.4MB\r",
        "  Downloading basemap-1.0.7.tar.gz (129.7MB):  24%  32.4MB\r",
        "  Downloading basemap-1.0.7.tar.gz (129.7MB):  24%  32.4MB\r",
        "  Downloading basemap-1.0.7.tar.gz (129.7MB):  24%  32.4MB\r",
        "  Downloading basemap-1.0.7.tar.gz (129.7MB):  24%  32.4MB\r",
        "  Downloading basemap-1.0.7.tar.gz (129.7MB):  24%  32.4MB\r",
        "  Downloading basemap-1.0.7.tar.gz (129.7MB):  24%  32.4MB\r",
        "  Downloading basemap-1.0.7.tar.gz (129.7MB):  24%  32.4MB"
       ]
      },
      {
       "output_type": "stream",
       "stream": "stdout",
       "text": [
        "\r",
        "  Downloading basemap-1.0.7.tar.gz (129.7MB):  24%  32.4MB\r",
        "  Downloading basemap-1.0.7.tar.gz (129.7MB):  24%  32.4MB\r",
        "  Downloading basemap-1.0.7.tar.gz (129.7MB):  24%  32.4MB\r",
        "  Downloading basemap-1.0.7.tar.gz (129.7MB):  25%  32.4MB\r",
        "  Downloading basemap-1.0.7.tar.gz (129.7MB):  25%  32.4MB\r",
        "  Downloading basemap-1.0.7.tar.gz (129.7MB):  25%  32.4MB\r",
        "  Downloading basemap-1.0.7.tar.gz (129.7MB):  25%  32.4MB\r",
        "  Downloading basemap-1.0.7.tar.gz (129.7MB):  25%  32.4MB\r",
        "  Downloading basemap-1.0.7.tar.gz (129.7MB):  25%  32.4MB"
       ]
      },
      {
       "output_type": "stream",
       "stream": "stdout",
       "text": [
        "\r",
        "  Downloading basemap-1.0.7.tar.gz (129.7MB):  25%  32.4MB\r",
        "  Downloading basemap-1.0.7.tar.gz (129.7MB):  25%  32.5MB\r",
        "  Downloading basemap-1.0.7.tar.gz (129.7MB):  25%  32.5MB\r",
        "  Downloading basemap-1.0.7.tar.gz (129.7MB):  25%  32.5MB\r",
        "  Downloading basemap-1.0.7.tar.gz (129.7MB):  25%  32.5MB\r",
        "  Downloading basemap-1.0.7.tar.gz (129.7MB):  25%  32.5MB\r",
        "  Downloading basemap-1.0.7.tar.gz (129.7MB):  25%  32.5MB"
       ]
      },
      {
       "output_type": "stream",
       "stream": "stdout",
       "text": [
        "\r",
        "  Downloading basemap-1.0.7.tar.gz (129.7MB):  25%  32.5MB\r",
        "  Downloading basemap-1.0.7.tar.gz (129.7MB):  25%  32.5MB\r",
        "  Downloading basemap-1.0.7.tar.gz (129.7MB):  25%  32.5MB\r",
        "  Downloading basemap-1.0.7.tar.gz (129.7MB):  25%  32.5MB"
       ]
      },
      {
       "output_type": "stream",
       "stream": "stdout",
       "text": [
        "\r",
        "  Downloading basemap-1.0.7.tar.gz (129.7MB):  25%  32.5MB\r",
        "  Downloading basemap-1.0.7.tar.gz (129.7MB):  25%  32.5MB\r",
        "  Downloading basemap-1.0.7.tar.gz (129.7MB):  25%  32.5MB\r",
        "  Downloading basemap-1.0.7.tar.gz (129.7MB):  25%  32.5MB\r",
        "  Downloading basemap-1.0.7.tar.gz (129.7MB):  25%  32.5MB\r",
        "  Downloading basemap-1.0.7.tar.gz (129.7MB):  25%  32.5MB\r",
        "  Downloading basemap-1.0.7.tar.gz (129.7MB):  25%  32.5MB\r",
        "  Downloading basemap-1.0.7.tar.gz (129.7MB):  25%  32.5MB\r",
        "  Downloading basemap-1.0.7.tar.gz (129.7MB):  25%  32.5MB\r",
        "  Downloading basemap-1.0.7.tar.gz (129.7MB):  25%  32.5MB"
       ]
      },
      {
       "output_type": "stream",
       "stream": "stdout",
       "text": [
        "\r",
        "  Downloading basemap-1.0.7.tar.gz (129.7MB):  25%  32.5MB\r",
        "  Downloading basemap-1.0.7.tar.gz (129.7MB):  25%  32.5MB\r",
        "  Downloading basemap-1.0.7.tar.gz (129.7MB):  25%  32.5MB\r",
        "  Downloading basemap-1.0.7.tar.gz (129.7MB):  25%  32.5MB\r",
        "  Downloading basemap-1.0.7.tar.gz (129.7MB):  25%  32.6MB\r",
        "  Downloading basemap-1.0.7.tar.gz (129.7MB):  25%  32.6MB\r",
        "  Downloading basemap-1.0.7.tar.gz (129.7MB):  25%  32.6MB\r",
        "  Downloading basemap-1.0.7.tar.gz (129.7MB):  25%  32.6MB\r",
        "  Downloading basemap-1.0.7.tar.gz (129.7MB):  25%  32.6MB\r",
        "  Downloading basemap-1.0.7.tar.gz (129.7MB):  25%  32.6MB"
       ]
      },
      {
       "output_type": "stream",
       "stream": "stdout",
       "text": [
        "\r",
        "  Downloading basemap-1.0.7.tar.gz (129.7MB):  25%  32.6MB"
       ]
      },
      {
       "output_type": "stream",
       "stream": "stdout",
       "text": [
        "\r",
        "  Downloading basemap-1.0.7.tar.gz (129.7MB):  25%  32.6MB\r",
        "  Downloading basemap-1.0.7.tar.gz (129.7MB):  25%  32.6MB\r",
        "  Downloading basemap-1.0.7.tar.gz (129.7MB):  25%  32.6MB\r",
        "  Downloading basemap-1.0.7.tar.gz (129.7MB):  25%  32.6MB\r",
        "  Downloading basemap-1.0.7.tar.gz (129.7MB):  25%  32.6MB\r",
        "  Downloading basemap-1.0.7.tar.gz (129.7MB):  25%  32.6MB\r",
        "  Downloading basemap-1.0.7.tar.gz (129.7MB):  25%  32.6MB"
       ]
      },
      {
       "output_type": "stream",
       "stream": "stdout",
       "text": [
        "\r",
        "  Downloading basemap-1.0.7.tar.gz (129.7MB):  25%  32.6MB\r",
        "  Downloading basemap-1.0.7.tar.gz (129.7MB):  25%  32.6MB\r",
        "  Downloading basemap-1.0.7.tar.gz (129.7MB):  25%  32.6MB\r",
        "  Downloading basemap-1.0.7.tar.gz (129.7MB):  25%  32.6MB"
       ]
      },
      {
       "output_type": "stream",
       "stream": "stdout",
       "text": [
        "\r",
        "  Downloading basemap-1.0.7.tar.gz (129.7MB):  25%  32.6MB\r",
        "  Downloading basemap-1.0.7.tar.gz (129.7MB):  25%  32.6MB\r",
        "  Downloading basemap-1.0.7.tar.gz (129.7MB):  25%  32.6MB"
       ]
      },
      {
       "output_type": "stream",
       "stream": "stdout",
       "text": [
        "\r",
        "  Downloading basemap-1.0.7.tar.gz (129.7MB):  25%  32.6MB\r",
        "  Downloading basemap-1.0.7.tar.gz (129.7MB):  25%  32.6MB\r",
        "  Downloading basemap-1.0.7.tar.gz (129.7MB):  25%  32.6MB\r",
        "  Downloading basemap-1.0.7.tar.gz (129.7MB):  25%  32.6MB\r",
        "  Downloading basemap-1.0.7.tar.gz (129.7MB):  25%  32.7MB\r",
        "  Downloading basemap-1.0.7.tar.gz (129.7MB):  25%  32.7MB\r",
        "  Downloading basemap-1.0.7.tar.gz (129.7MB):  25%  32.7MB\r",
        "  Downloading basemap-1.0.7.tar.gz (129.7MB):  25%  32.7MB\r",
        "  Downloading basemap-1.0.7.tar.gz (129.7MB):  25%  32.7MB"
       ]
      },
      {
       "output_type": "stream",
       "stream": "stdout",
       "text": [
        "\r",
        "  Downloading basemap-1.0.7.tar.gz (129.7MB):  25%  32.7MB\r",
        "  Downloading basemap-1.0.7.tar.gz (129.7MB):  25%  32.7MB\r",
        "  Downloading basemap-1.0.7.tar.gz (129.7MB):  25%  32.7MB\r",
        "  Downloading basemap-1.0.7.tar.gz (129.7MB):  25%  32.7MB\r",
        "  Downloading basemap-1.0.7.tar.gz (129.7MB):  25%  32.7MB\r",
        "  Downloading basemap-1.0.7.tar.gz (129.7MB):  25%  32.7MB\r",
        "  Downloading basemap-1.0.7.tar.gz (129.7MB):  25%  32.7MB\r",
        "  Downloading basemap-1.0.7.tar.gz (129.7MB):  25%  32.7MB\r",
        "  Downloading basemap-1.0.7.tar.gz (129.7MB):  25%  32.7MB\r",
        "  Downloading basemap-1.0.7.tar.gz (129.7MB):  25%  32.7MB\r",
        "  Downloading basemap-1.0.7.tar.gz (129.7MB):  25%  32.7MB\r",
        "  Downloading basemap-1.0.7.tar.gz (129.7MB):  25%  32.7MB"
       ]
      },
      {
       "output_type": "stream",
       "stream": "stdout",
       "text": [
        "\r",
        "  Downloading basemap-1.0.7.tar.gz (129.7MB):  25%  32.7MB\r",
        "  Downloading basemap-1.0.7.tar.gz (129.7MB):  25%  32.7MB\r",
        "  Downloading basemap-1.0.7.tar.gz (129.7MB):  25%  32.7MB\r",
        "  Downloading basemap-1.0.7.tar.gz (129.7MB):  25%  32.7MB\r",
        "  Downloading basemap-1.0.7.tar.gz (129.7MB):  25%  32.7MB\r",
        "  Downloading basemap-1.0.7.tar.gz (129.7MB):  25%  32.7MB\r",
        "  Downloading basemap-1.0.7.tar.gz (129.7MB):  25%  32.7MB"
       ]
      },
      {
       "output_type": "stream",
       "stream": "stdout",
       "text": [
        "\r",
        "  Downloading basemap-1.0.7.tar.gz (129.7MB):  25%  32.8MB\r",
        "  Downloading basemap-1.0.7.tar.gz (129.7MB):  25%  32.8MB\r",
        "  Downloading basemap-1.0.7.tar.gz (129.7MB):  25%  32.8MB\r",
        "  Downloading basemap-1.0.7.tar.gz (129.7MB):  25%  32.8MB\r",
        "  Downloading basemap-1.0.7.tar.gz (129.7MB):  25%  32.8MB"
       ]
      },
      {
       "output_type": "stream",
       "stream": "stdout",
       "text": [
        "\r",
        "  Downloading basemap-1.0.7.tar.gz (129.7MB):  25%  32.8MB\r",
        "  Downloading basemap-1.0.7.tar.gz (129.7MB):  25%  32.8MB\r",
        "  Downloading basemap-1.0.7.tar.gz (129.7MB):  25%  32.8MB\r",
        "  Downloading basemap-1.0.7.tar.gz (129.7MB):  25%  32.8MB"
       ]
      },
      {
       "output_type": "stream",
       "stream": "stdout",
       "text": [
        "\r",
        "  Downloading basemap-1.0.7.tar.gz (129.7MB):  25%  32.8MB\r",
        "  Downloading basemap-1.0.7.tar.gz (129.7MB):  25%  32.8MB\r",
        "  Downloading basemap-1.0.7.tar.gz (129.7MB):  25%  32.8MB\r",
        "  Downloading basemap-1.0.7.tar.gz (129.7MB):  25%  32.8MB\r",
        "  Downloading basemap-1.0.7.tar.gz (129.7MB):  25%  32.8MB\r",
        "  Downloading basemap-1.0.7.tar.gz (129.7MB):  25%  32.8MB\r",
        "  Downloading basemap-1.0.7.tar.gz (129.7MB):  25%  32.8MB\r",
        "  Downloading basemap-1.0.7.tar.gz (129.7MB):  25%  32.8MB"
       ]
      },
      {
       "output_type": "stream",
       "stream": "stdout",
       "text": [
        "\r",
        "  Downloading basemap-1.0.7.tar.gz (129.7MB):  25%  32.8MB\r",
        "  Downloading basemap-1.0.7.tar.gz (129.7MB):  25%  32.8MB\r",
        "  Downloading basemap-1.0.7.tar.gz (129.7MB):  25%  32.8MB\r",
        "  Downloading basemap-1.0.7.tar.gz (129.7MB):  25%  32.8MB\r",
        "  Downloading basemap-1.0.7.tar.gz (129.7MB):  25%  32.8MB\r",
        "  Downloading basemap-1.0.7.tar.gz (129.7MB):  25%  32.8MB\r",
        "  Downloading basemap-1.0.7.tar.gz (129.7MB):  25%  32.8MB\r",
        "  Downloading basemap-1.0.7.tar.gz (129.7MB):  25%  32.8MB\r",
        "  Downloading basemap-1.0.7.tar.gz (129.7MB):  25%  32.9MB\r",
        "  Downloading basemap-1.0.7.tar.gz (129.7MB):  25%  32.9MB\r",
        "  Downloading basemap-1.0.7.tar.gz (129.7MB):  25%  32.9MB\r",
        "  Downloading basemap-1.0.7.tar.gz (129.7MB):  25%  32.9MB"
       ]
      },
      {
       "output_type": "stream",
       "stream": "stdout",
       "text": [
        "\r",
        "  Downloading basemap-1.0.7.tar.gz (129.7MB):  25%  32.9MB\r",
        "  Downloading basemap-1.0.7.tar.gz (129.7MB):  25%  32.9MB\r",
        "  Downloading basemap-1.0.7.tar.gz (129.7MB):  25%  32.9MB\r",
        "  Downloading basemap-1.0.7.tar.gz (129.7MB):  25%  32.9MB\r",
        "  Downloading basemap-1.0.7.tar.gz (129.7MB):  25%  32.9MB\r",
        "  Downloading basemap-1.0.7.tar.gz (129.7MB):  25%  32.9MB\r",
        "  Downloading basemap-1.0.7.tar.gz (129.7MB):  25%  32.9MB\r",
        "  Downloading basemap-1.0.7.tar.gz (129.7MB):  25%  32.9MB\r",
        "  Downloading basemap-1.0.7.tar.gz (129.7MB):  25%  32.9MB"
       ]
      },
      {
       "output_type": "stream",
       "stream": "stdout",
       "text": [
        "\r",
        "  Downloading basemap-1.0.7.tar.gz (129.7MB):  25%  32.9MB\r",
        "  Downloading basemap-1.0.7.tar.gz (129.7MB):  25%  32.9MB\r",
        "  Downloading basemap-1.0.7.tar.gz (129.7MB):  25%  32.9MB\r",
        "  Downloading basemap-1.0.7.tar.gz (129.7MB):  25%  32.9MB"
       ]
      },
      {
       "output_type": "stream",
       "stream": "stdout",
       "text": [
        "\r",
        "  Downloading basemap-1.0.7.tar.gz (129.7MB):  25%  32.9MB\r",
        "  Downloading basemap-1.0.7.tar.gz (129.7MB):  25%  32.9MB\r",
        "  Downloading basemap-1.0.7.tar.gz (129.7MB):  25%  32.9MB\r",
        "  Downloading basemap-1.0.7.tar.gz (129.7MB):  25%  32.9MB\r",
        "  Downloading basemap-1.0.7.tar.gz (129.7MB):  25%  32.9MB\r",
        "  Downloading basemap-1.0.7.tar.gz (129.7MB):  25%  32.9MB\r",
        "  Downloading basemap-1.0.7.tar.gz (129.7MB):  25%  32.9MB"
       ]
      },
      {
       "output_type": "stream",
       "stream": "stdout",
       "text": [
        "\r",
        "  Downloading basemap-1.0.7.tar.gz (129.7MB):  25%  33.0MB\r",
        "  Downloading basemap-1.0.7.tar.gz (129.7MB):  25%  33.0MB\r",
        "  Downloading basemap-1.0.7.tar.gz (129.7MB):  25%  33.0MB\r",
        "  Downloading basemap-1.0.7.tar.gz (129.7MB):  25%  33.0MB\r",
        "  Downloading basemap-1.0.7.tar.gz (129.7MB):  25%  33.0MB\r",
        "  Downloading basemap-1.0.7.tar.gz (129.7MB):  25%  33.0MB\r",
        "  Downloading basemap-1.0.7.tar.gz (129.7MB):  25%  33.0MB"
       ]
      },
      {
       "output_type": "stream",
       "stream": "stdout",
       "text": [
        "\r",
        "  Downloading basemap-1.0.7.tar.gz (129.7MB):  25%  33.0MB\r",
        "  Downloading basemap-1.0.7.tar.gz (129.7MB):  25%  33.0MB\r",
        "  Downloading basemap-1.0.7.tar.gz (129.7MB):  25%  33.0MB\r",
        "  Downloading basemap-1.0.7.tar.gz (129.7MB):  25%  33.0MB\r",
        "  Downloading basemap-1.0.7.tar.gz (129.7MB):  25%  33.0MB\r",
        "  Downloading basemap-1.0.7.tar.gz (129.7MB):  25%  33.0MB\r",
        "  Downloading basemap-1.0.7.tar.gz (129.7MB):  25%  33.0MB\r",
        "  Downloading basemap-1.0.7.tar.gz (129.7MB):  25%  33.0MB\r",
        "  Downloading basemap-1.0.7.tar.gz (129.7MB):  25%  33.0MB\r",
        "  Downloading basemap-1.0.7.tar.gz (129.7MB):  25%  33.0MB\r",
        "  Downloading basemap-1.0.7.tar.gz (129.7MB):  25%  33.0MB\r",
        "  Downloading basemap-1.0.7.tar.gz (129.7MB):  25%  33.0MB\r",
        "  Downloading basemap-1.0.7.tar.gz (129.7MB):  25%  33.0MB"
       ]
      },
      {
       "output_type": "stream",
       "stream": "stdout",
       "text": [
        "\r",
        "  Downloading basemap-1.0.7.tar.gz (129.7MB):  25%  33.0MB\r",
        "  Downloading basemap-1.0.7.tar.gz (129.7MB):  25%  33.0MB\r",
        "  Downloading basemap-1.0.7.tar.gz (129.7MB):  25%  33.0MB\r",
        "  Downloading basemap-1.0.7.tar.gz (129.7MB):  25%  33.0MB\r",
        "  Downloading basemap-1.0.7.tar.gz (129.7MB):  25%  33.1MB\r",
        "  Downloading basemap-1.0.7.tar.gz (129.7MB):  25%  33.1MB\r",
        "  Downloading basemap-1.0.7.tar.gz (129.7MB):  25%  33.1MB\r",
        "  Downloading basemap-1.0.7.tar.gz (129.7MB):  25%  33.1MB\r",
        "  Downloading basemap-1.0.7.tar.gz (129.7MB):  25%  33.1MB"
       ]
      },
      {
       "output_type": "stream",
       "stream": "stdout",
       "text": [
        "\r",
        "  Downloading basemap-1.0.7.tar.gz (129.7MB):  25%  33.1MB\r",
        "  Downloading basemap-1.0.7.tar.gz (129.7MB):  25%  33.1MB\r",
        "  Downloading basemap-1.0.7.tar.gz (129.7MB):  25%  33.1MB\r",
        "  Downloading basemap-1.0.7.tar.gz (129.7MB):  25%  33.1MB\r",
        "  Downloading basemap-1.0.7.tar.gz (129.7MB):  25%  33.1MB"
       ]
      },
      {
       "output_type": "stream",
       "stream": "stdout",
       "text": [
        "\r",
        "  Downloading basemap-1.0.7.tar.gz (129.7MB):  25%  33.1MB\r",
        "  Downloading basemap-1.0.7.tar.gz (129.7MB):  25%  33.1MB\r",
        "  Downloading basemap-1.0.7.tar.gz (129.7MB):  25%  33.1MB\r",
        "  Downloading basemap-1.0.7.tar.gz (129.7MB):  25%  33.1MB\r",
        "  Downloading basemap-1.0.7.tar.gz (129.7MB):  25%  33.1MB\r",
        "  Downloading basemap-1.0.7.tar.gz (129.7MB):  25%  33.1MB\r",
        "  Downloading basemap-1.0.7.tar.gz (129.7MB):  25%  33.1MB\r",
        "  Downloading basemap-1.0.7.tar.gz (129.7MB):  25%  33.1MB"
       ]
      },
      {
       "output_type": "stream",
       "stream": "stdout",
       "text": [
        "\r",
        "  Downloading basemap-1.0.7.tar.gz (129.7MB):  25%  33.1MB\r",
        "  Downloading basemap-1.0.7.tar.gz (129.7MB):  25%  33.1MB\r",
        "  Downloading basemap-1.0.7.tar.gz (129.7MB):  25%  33.1MB\r",
        "  Downloading basemap-1.0.7.tar.gz (129.7MB):  25%  33.1MB\r",
        "  Downloading basemap-1.0.7.tar.gz (129.7MB):  25%  33.1MB"
       ]
      },
      {
       "output_type": "stream",
       "stream": "stdout",
       "text": [
        "\r",
        "  Downloading basemap-1.0.7.tar.gz (129.7MB):  25%  33.1MB"
       ]
      },
      {
       "output_type": "stream",
       "stream": "stdout",
       "text": [
        "\r",
        "  Downloading basemap-1.0.7.tar.gz (129.7MB):  25%  33.1MB\r",
        "  Downloading basemap-1.0.7.tar.gz (129.7MB):  25%  33.2MB\r",
        "  Downloading basemap-1.0.7.tar.gz (129.7MB):  25%  33.2MB\r",
        "  Downloading basemap-1.0.7.tar.gz (129.7MB):  25%  33.2MB\r",
        "  Downloading basemap-1.0.7.tar.gz (129.7MB):  25%  33.2MB\r",
        "  Downloading basemap-1.0.7.tar.gz (129.7MB):  25%  33.2MB\r",
        "  Downloading basemap-1.0.7.tar.gz (129.7MB):  25%  33.2MB\r",
        "  Downloading basemap-1.0.7.tar.gz (129.7MB):  25%  33.2MB\r",
        "  Downloading basemap-1.0.7.tar.gz (129.7MB):  25%  33.2MB\r",
        "  Downloading basemap-1.0.7.tar.gz (129.7MB):  25%  33.2MB\r",
        "  Downloading basemap-1.0.7.tar.gz (129.7MB):  25%  33.2MB\r",
        "  Downloading basemap-1.0.7.tar.gz (129.7MB):  25%  33.2MB\r",
        "  Downloading basemap-1.0.7.tar.gz (129.7MB):  25%  33.2MB\r",
        "  Downloading basemap-1.0.7.tar.gz (129.7MB):  25%  33.2MB"
       ]
      },
      {
       "output_type": "stream",
       "stream": "stdout",
       "text": [
        "\r",
        "  Downloading basemap-1.0.7.tar.gz (129.7MB):  25%  33.2MB\r",
        "  Downloading basemap-1.0.7.tar.gz (129.7MB):  25%  33.2MB\r",
        "  Downloading basemap-1.0.7.tar.gz (129.7MB):  25%  33.2MB\r",
        "  Downloading basemap-1.0.7.tar.gz (129.7MB):  25%  33.2MB\r",
        "  Downloading basemap-1.0.7.tar.gz (129.7MB):  25%  33.2MB\r",
        "  Downloading basemap-1.0.7.tar.gz (129.7MB):  25%  33.2MB\r",
        "  Downloading basemap-1.0.7.tar.gz (129.7MB):  25%  33.2MB\r",
        "  Downloading basemap-1.0.7.tar.gz (129.7MB):  25%  33.2MB\r",
        "  Downloading basemap-1.0.7.tar.gz (129.7MB):  25%  33.2MB\r",
        "  Downloading basemap-1.0.7.tar.gz (129.7MB):  25%  33.2MB\r",
        "  Downloading basemap-1.0.7.tar.gz (129.7MB):  25%  33.2MB"
       ]
      },
      {
       "output_type": "stream",
       "stream": "stdout",
       "text": [
        "\r",
        "  Downloading basemap-1.0.7.tar.gz (129.7MB):  25%  33.3MB\r",
        "  Downloading basemap-1.0.7.tar.gz (129.7MB):  25%  33.3MB\r",
        "  Downloading basemap-1.0.7.tar.gz (129.7MB):  25%  33.3MB"
       ]
      },
      {
       "output_type": "stream",
       "stream": "stdout",
       "text": [
        "\r",
        "  Downloading basemap-1.0.7.tar.gz (129.7MB):  25%  33.3MB\r",
        "  Downloading basemap-1.0.7.tar.gz (129.7MB):  25%  33.3MB\r",
        "  Downloading basemap-1.0.7.tar.gz (129.7MB):  25%  33.3MB\r",
        "  Downloading basemap-1.0.7.tar.gz (129.7MB):  25%  33.3MB\r",
        "  Downloading basemap-1.0.7.tar.gz (129.7MB):  25%  33.3MB\r",
        "  Downloading basemap-1.0.7.tar.gz (129.7MB):  25%  33.3MB\r",
        "  Downloading basemap-1.0.7.tar.gz (129.7MB):  25%  33.3MB\r",
        "  Downloading basemap-1.0.7.tar.gz (129.7MB):  25%  33.3MB\r",
        "  Downloading basemap-1.0.7.tar.gz (129.7MB):  25%  33.3MB\r",
        "  Downloading basemap-1.0.7.tar.gz (129.7MB):  25%  33.3MB"
       ]
      },
      {
       "output_type": "stream",
       "stream": "stdout",
       "text": [
        "\r",
        "  Downloading basemap-1.0.7.tar.gz (129.7MB):  25%  33.3MB\r",
        "  Downloading basemap-1.0.7.tar.gz (129.7MB):  25%  33.3MB\r",
        "  Downloading basemap-1.0.7.tar.gz (129.7MB):  25%  33.3MB\r",
        "  Downloading basemap-1.0.7.tar.gz (129.7MB):  25%  33.3MB\r",
        "  Downloading basemap-1.0.7.tar.gz (129.7MB):  25%  33.3MB\r",
        "  Downloading basemap-1.0.7.tar.gz (129.7MB):  25%  33.3MB"
       ]
      },
      {
       "output_type": "stream",
       "stream": "stdout",
       "text": [
        "\r",
        "  Downloading basemap-1.0.7.tar.gz (129.7MB):  25%  33.3MB\r",
        "  Downloading basemap-1.0.7.tar.gz (129.7MB):  25%  33.3MB\r",
        "  Downloading basemap-1.0.7.tar.gz (129.7MB):  25%  33.3MB\r",
        "  Downloading basemap-1.0.7.tar.gz (129.7MB):  25%  33.3MB"
       ]
      },
      {
       "output_type": "stream",
       "stream": "stdout",
       "text": [
        "\r",
        "  Downloading basemap-1.0.7.tar.gz (129.7MB):  25%  33.3MB\r",
        "  Downloading basemap-1.0.7.tar.gz (129.7MB):  25%  33.3MB\r",
        "  Downloading basemap-1.0.7.tar.gz (129.7MB):  25%  33.4MB\r",
        "  Downloading basemap-1.0.7.tar.gz (129.7MB):  25%  33.4MB\r",
        "  Downloading basemap-1.0.7.tar.gz (129.7MB):  25%  33.4MB\r",
        "  Downloading basemap-1.0.7.tar.gz (129.7MB):  25%  33.4MB\r",
        "  Downloading basemap-1.0.7.tar.gz (129.7MB):  25%  33.4MB\r",
        "  Downloading basemap-1.0.7.tar.gz (129.7MB):  25%  33.4MB\r",
        "  Downloading basemap-1.0.7.tar.gz (129.7MB):  25%  33.4MB\r",
        "  Downloading basemap-1.0.7.tar.gz (129.7MB):  25%  33.4MB\r",
        "  Downloading basemap-1.0.7.tar.gz (129.7MB):  25%  33.4MB"
       ]
      },
      {
       "output_type": "stream",
       "stream": "stdout",
       "text": [
        "\r",
        "  Downloading basemap-1.0.7.tar.gz (129.7MB):  25%  33.4MB\r",
        "  Downloading basemap-1.0.7.tar.gz (129.7MB):  25%  33.4MB\r",
        "  Downloading basemap-1.0.7.tar.gz (129.7MB):  25%  33.4MB\r",
        "  Downloading basemap-1.0.7.tar.gz (129.7MB):  25%  33.4MB\r",
        "  Downloading basemap-1.0.7.tar.gz (129.7MB):  25%  33.4MB\r",
        "  Downloading basemap-1.0.7.tar.gz (129.7MB):  25%  33.4MB\r",
        "  Downloading basemap-1.0.7.tar.gz (129.7MB):  25%  33.4MB\r",
        "  Downloading basemap-1.0.7.tar.gz (129.7MB):  25%  33.4MB\r",
        "  Downloading basemap-1.0.7.tar.gz (129.7MB):  25%  33.4MB\r",
        "  Downloading basemap-1.0.7.tar.gz (129.7MB):  25%  33.4MB\r",
        "  Downloading basemap-1.0.7.tar.gz (129.7MB):  25%  33.4MB\r",
        "  Downloading basemap-1.0.7.tar.gz (129.7MB):  25%  33.4MB\r",
        "  Downloading basemap-1.0.7.tar.gz (129.7MB):  25%  33.4MB\r",
        "  Downloading basemap-1.0.7.tar.gz (129.7MB):  25%  33.4MB\r",
        "  Downloading basemap-1.0.7.tar.gz (129.7MB):  25%  33.4MB"
       ]
      },
      {
       "output_type": "stream",
       "stream": "stdout",
       "text": [
        "\r",
        "  Downloading basemap-1.0.7.tar.gz (129.7MB):  25%  33.5MB"
       ]
      },
      {
       "output_type": "stream",
       "stream": "stdout",
       "text": [
        "\r",
        "  Downloading basemap-1.0.7.tar.gz (129.7MB):  25%  33.5MB\r",
        "  Downloading basemap-1.0.7.tar.gz (129.7MB):  25%  33.5MB\r",
        "  Downloading basemap-1.0.7.tar.gz (129.7MB):  25%  33.5MB\r",
        "  Downloading basemap-1.0.7.tar.gz (129.7MB):  25%  33.5MB\r",
        "  Downloading basemap-1.0.7.tar.gz (129.7MB):  25%  33.5MB\r",
        "  Downloading basemap-1.0.7.tar.gz (129.7MB):  25%  33.5MB\r",
        "  Downloading basemap-1.0.7.tar.gz (129.7MB):  25%  33.5MB\r",
        "  Downloading basemap-1.0.7.tar.gz (129.7MB):  25%  33.5MB\r",
        "  Downloading basemap-1.0.7.tar.gz (129.7MB):  25%  33.5MB\r",
        "  Downloading basemap-1.0.7.tar.gz (129.7MB):  25%  33.5MB"
       ]
      },
      {
       "output_type": "stream",
       "stream": "stdout",
       "text": [
        "\r",
        "  Downloading basemap-1.0.7.tar.gz (129.7MB):  25%  33.5MB\r",
        "  Downloading basemap-1.0.7.tar.gz (129.7MB):  25%  33.5MB\r",
        "  Downloading basemap-1.0.7.tar.gz (129.7MB):  25%  33.5MB\r",
        "  Downloading basemap-1.0.7.tar.gz (129.7MB):  25%  33.5MB\r",
        "  Downloading basemap-1.0.7.tar.gz (129.7MB):  25%  33.5MB\r",
        "  Downloading basemap-1.0.7.tar.gz (129.7MB):  25%  33.5MB"
       ]
      },
      {
       "output_type": "stream",
       "stream": "stdout",
       "text": [
        "\r",
        "  Downloading basemap-1.0.7.tar.gz (129.7MB):  25%  33.5MB\r",
        "  Downloading basemap-1.0.7.tar.gz (129.7MB):  25%  33.5MB\r",
        "  Downloading basemap-1.0.7.tar.gz (129.7MB):  25%  33.5MB\r",
        "  Downloading basemap-1.0.7.tar.gz (129.7MB):  25%  33.5MB\r",
        "  Downloading basemap-1.0.7.tar.gz (129.7MB):  25%  33.5MB"
       ]
      },
      {
       "output_type": "stream",
       "stream": "stdout",
       "text": [
        "\r",
        "  Downloading basemap-1.0.7.tar.gz (129.7MB):  25%  33.5MB\r",
        "  Downloading basemap-1.0.7.tar.gz (129.7MB):  25%  33.5MB\r",
        "  Downloading basemap-1.0.7.tar.gz (129.7MB):  25%  33.6MB\r",
        "  Downloading basemap-1.0.7.tar.gz (129.7MB):  25%  33.6MB\r",
        "  Downloading basemap-1.0.7.tar.gz (129.7MB):  25%  33.6MB\r",
        "  Downloading basemap-1.0.7.tar.gz (129.7MB):  25%  33.6MB\r",
        "  Downloading basemap-1.0.7.tar.gz (129.7MB):  25%  33.6MB\r",
        "  Downloading basemap-1.0.7.tar.gz (129.7MB):  25%  33.6MB\r",
        "  Downloading basemap-1.0.7.tar.gz (129.7MB):  25%  33.6MB\r",
        "  Downloading basemap-1.0.7.tar.gz (129.7MB):  25%  33.6MB\r",
        "  Downloading basemap-1.0.7.tar.gz (129.7MB):  25%  33.6MB"
       ]
      },
      {
       "output_type": "stream",
       "stream": "stdout",
       "text": [
        "\r",
        "  Downloading basemap-1.0.7.tar.gz (129.7MB):  25%  33.6MB"
       ]
      },
      {
       "output_type": "stream",
       "stream": "stdout",
       "text": [
        "\r",
        "  Downloading basemap-1.0.7.tar.gz (129.7MB):  25%  33.6MB\r",
        "  Downloading basemap-1.0.7.tar.gz (129.7MB):  25%  33.6MB\r",
        "  Downloading basemap-1.0.7.tar.gz (129.7MB):  25%  33.6MB\r",
        "  Downloading basemap-1.0.7.tar.gz (129.7MB):  25%  33.6MB\r",
        "  Downloading basemap-1.0.7.tar.gz (129.7MB):  25%  33.6MB\r",
        "  Downloading basemap-1.0.7.tar.gz (129.7MB):  25%  33.6MB\r",
        "  Downloading basemap-1.0.7.tar.gz (129.7MB):  25%  33.6MB\r",
        "  Downloading basemap-1.0.7.tar.gz (129.7MB):  25%  33.6MB\r",
        "  Downloading basemap-1.0.7.tar.gz (129.7MB):  25%  33.6MB\r",
        "  Downloading basemap-1.0.7.tar.gz (129.7MB):  25%  33.6MB\r",
        "  Downloading basemap-1.0.7.tar.gz (129.7MB):  25%  33.6MB\r",
        "  Downloading basemap-1.0.7.tar.gz (129.7MB):  25%  33.6MB\r",
        "  Downloading basemap-1.0.7.tar.gz (129.7MB):  25%  33.6MB\r",
        "  Downloading basemap-1.0.7.tar.gz (129.7MB):  25%  33.6MB\r",
        "  Downloading basemap-1.0.7.tar.gz (129.7MB):  25%  33.6MB\r",
        "  Downloading basemap-1.0.7.tar.gz (129.7MB):  25%  33.7MB"
       ]
      },
      {
       "output_type": "stream",
       "stream": "stdout",
       "text": [
        "\r",
        "  Downloading basemap-1.0.7.tar.gz (129.7MB):  25%  33.7MB\r",
        "  Downloading basemap-1.0.7.tar.gz (129.7MB):  25%  33.7MB\r",
        "  Downloading basemap-1.0.7.tar.gz (129.7MB):  25%  33.7MB\r",
        "  Downloading basemap-1.0.7.tar.gz (129.7MB):  25%  33.7MB\r",
        "  Downloading basemap-1.0.7.tar.gz (129.7MB):  25%  33.7MB\r",
        "  Downloading basemap-1.0.7.tar.gz (129.7MB):  25%  33.7MB\r",
        "  Downloading basemap-1.0.7.tar.gz (129.7MB):  25%  33.7MB\r",
        "  Downloading basemap-1.0.7.tar.gz (129.7MB):  25%  33.7MB\r",
        "  Downloading basemap-1.0.7.tar.gz (129.7MB):  25%  33.7MB\r",
        "  Downloading basemap-1.0.7.tar.gz (129.7MB):  25%  33.7MB\r",
        "  Downloading basemap-1.0.7.tar.gz (129.7MB):  25%  33.7MB"
       ]
      },
      {
       "output_type": "stream",
       "stream": "stdout",
       "text": [
        "\r",
        "  Downloading basemap-1.0.7.tar.gz (129.7MB):  25%  33.7MB\r",
        "  Downloading basemap-1.0.7.tar.gz (129.7MB):  25%  33.7MB\r",
        "  Downloading basemap-1.0.7.tar.gz (129.7MB):  25%  33.7MB\r",
        "  Downloading basemap-1.0.7.tar.gz (129.7MB):  25%  33.7MB\r",
        "  Downloading basemap-1.0.7.tar.gz (129.7MB):  25%  33.7MB"
       ]
      },
      {
       "output_type": "stream",
       "stream": "stdout",
       "text": [
        "\r",
        "  Downloading basemap-1.0.7.tar.gz (129.7MB):  26%  33.7MB\r",
        "  Downloading basemap-1.0.7.tar.gz (129.7MB):  26%  33.7MB\r",
        "  Downloading basemap-1.0.7.tar.gz (129.7MB):  26%  33.7MB\r",
        "  Downloading basemap-1.0.7.tar.gz (129.7MB):  26%  33.7MB\r",
        "  Downloading basemap-1.0.7.tar.gz (129.7MB):  26%  33.7MB\r",
        "  Downloading basemap-1.0.7.tar.gz (129.7MB):  26%  33.7MB\r",
        "  Downloading basemap-1.0.7.tar.gz (129.7MB):  26%  33.7MB\r",
        "  Downloading basemap-1.0.7.tar.gz (129.7MB):  26%  33.8MB\r",
        "  Downloading basemap-1.0.7.tar.gz (129.7MB):  26%  33.8MB\r",
        "  Downloading basemap-1.0.7.tar.gz (129.7MB):  26%  33.8MB"
       ]
      },
      {
       "output_type": "stream",
       "stream": "stdout",
       "text": [
        "\r",
        "  Downloading basemap-1.0.7.tar.gz (129.7MB):  26%  33.8MB\r",
        "  Downloading basemap-1.0.7.tar.gz (129.7MB):  26%  33.8MB\r",
        "  Downloading basemap-1.0.7.tar.gz (129.7MB):  26%  33.8MB\r",
        "  Downloading basemap-1.0.7.tar.gz (129.7MB):  26%  33.8MB\r",
        "  Downloading basemap-1.0.7.tar.gz (129.7MB):  26%  33.8MB\r",
        "  Downloading basemap-1.0.7.tar.gz (129.7MB):  26%  33.8MB\r",
        "  Downloading basemap-1.0.7.tar.gz (129.7MB):  26%  33.8MB"
       ]
      },
      {
       "output_type": "stream",
       "stream": "stdout",
       "text": [
        "\r",
        "  Downloading basemap-1.0.7.tar.gz (129.7MB):  26%  33.8MB\r",
        "  Downloading basemap-1.0.7.tar.gz (129.7MB):  26%  33.8MB\r",
        "  Downloading basemap-1.0.7.tar.gz (129.7MB):  26%  33.8MB\r",
        "  Downloading basemap-1.0.7.tar.gz (129.7MB):  26%  33.8MB\r",
        "  Downloading basemap-1.0.7.tar.gz (129.7MB):  26%  33.8MB"
       ]
      },
      {
       "output_type": "stream",
       "stream": "stdout",
       "text": [
        "\r",
        "  Downloading basemap-1.0.7.tar.gz (129.7MB):  26%  33.8MB\r",
        "  Downloading basemap-1.0.7.tar.gz (129.7MB):  26%  33.8MB\r",
        "  Downloading basemap-1.0.7.tar.gz (129.7MB):  26%  33.8MB\r",
        "  Downloading basemap-1.0.7.tar.gz (129.7MB):  26%  33.8MB"
       ]
      },
      {
       "output_type": "stream",
       "stream": "stdout",
       "text": [
        "\r",
        "  Downloading basemap-1.0.7.tar.gz (129.7MB):  26%  33.8MB\r",
        "  Downloading basemap-1.0.7.tar.gz (129.7MB):  26%  33.8MB\r",
        "  Downloading basemap-1.0.7.tar.gz (129.7MB):  26%  33.8MB\r",
        "  Downloading basemap-1.0.7.tar.gz (129.7MB):  26%  33.8MB\r",
        "  Downloading basemap-1.0.7.tar.gz (129.7MB):  26%  33.8MB\r",
        "  Downloading basemap-1.0.7.tar.gz (129.7MB):  26%  33.8MB\r",
        "  Downloading basemap-1.0.7.tar.gz (129.7MB):  26%  33.9MB\r",
        "  Downloading basemap-1.0.7.tar.gz (129.7MB):  26%  33.9MB\r",
        "  Downloading basemap-1.0.7.tar.gz (129.7MB):  26%  33.9MB\r",
        "  Downloading basemap-1.0.7.tar.gz (129.7MB):  26%  33.9MB\r",
        "  Downloading basemap-1.0.7.tar.gz (129.7MB):  26%  33.9MB\r",
        "  Downloading basemap-1.0.7.tar.gz (129.7MB):  26%  33.9MB\r",
        "  Downloading basemap-1.0.7.tar.gz (129.7MB):  26%  33.9MB\r",
        "  Downloading basemap-1.0.7.tar.gz (129.7MB):  26%  33.9MB\r",
        "  Downloading basemap-1.0.7.tar.gz (129.7MB):  26%  33.9MB\r",
        "  Downloading basemap-1.0.7.tar.gz (129.7MB):  26%  33.9MB\r",
        "  Downloading basemap-1.0.7.tar.gz (129.7MB):  26%  33.9MB\r",
        "  Downloading basemap-1.0.7.tar.gz (129.7MB):  26%  33.9MB"
       ]
      },
      {
       "output_type": "stream",
       "stream": "stdout",
       "text": [
        "\r",
        "  Downloading basemap-1.0.7.tar.gz (129.7MB):  26%  33.9MB\r",
        "  Downloading basemap-1.0.7.tar.gz (129.7MB):  26%  33.9MB\r",
        "  Downloading basemap-1.0.7.tar.gz (129.7MB):  26%  33.9MB\r",
        "  Downloading basemap-1.0.7.tar.gz (129.7MB):  26%  33.9MB\r",
        "  Downloading basemap-1.0.7.tar.gz (129.7MB):  26%  33.9MB\r",
        "  Downloading basemap-1.0.7.tar.gz (129.7MB):  26%  33.9MB\r",
        "  Downloading basemap-1.0.7.tar.gz (129.7MB):  26%  33.9MB\r",
        "  Downloading basemap-1.0.7.tar.gz (129.7MB):  26%  33.9MB\r",
        "  Downloading basemap-1.0.7.tar.gz (129.7MB):  26%  33.9MB"
       ]
      },
      {
       "output_type": "stream",
       "stream": "stdout",
       "text": [
        "\r",
        "  Downloading basemap-1.0.7.tar.gz (129.7MB):  26%  33.9MB\r",
        "  Downloading basemap-1.0.7.tar.gz (129.7MB):  26%  33.9MB\r",
        "  Downloading basemap-1.0.7.tar.gz (129.7MB):  26%  33.9MB\r",
        "  Downloading basemap-1.0.7.tar.gz (129.7MB):  26%  34.0MB\r",
        "  Downloading basemap-1.0.7.tar.gz (129.7MB):  26%  34.0MB\r",
        "  Downloading basemap-1.0.7.tar.gz (129.7MB):  26%  34.0MB"
       ]
      },
      {
       "output_type": "stream",
       "stream": "stdout",
       "text": [
        "\r",
        "  Downloading basemap-1.0.7.tar.gz (129.7MB):  26%  34.0MB\r",
        "  Downloading basemap-1.0.7.tar.gz (129.7MB):  26%  34.0MB\r",
        "  Downloading basemap-1.0.7.tar.gz (129.7MB):  26%  34.0MB\r",
        "  Downloading basemap-1.0.7.tar.gz (129.7MB):  26%  34.0MB"
       ]
      },
      {
       "output_type": "stream",
       "stream": "stdout",
       "text": [
        "\r",
        "  Downloading basemap-1.0.7.tar.gz (129.7MB):  26%  34.0MB\r",
        "  Downloading basemap-1.0.7.tar.gz (129.7MB):  26%  34.0MB\r",
        "  Downloading basemap-1.0.7.tar.gz (129.7MB):  26%  34.0MB\r",
        "  Downloading basemap-1.0.7.tar.gz (129.7MB):  26%  34.0MB\r",
        "  Downloading basemap-1.0.7.tar.gz (129.7MB):  26%  34.0MB\r",
        "  Downloading basemap-1.0.7.tar.gz (129.7MB):  26%  34.0MB\r",
        "  Downloading basemap-1.0.7.tar.gz (129.7MB):  26%  34.0MB\r",
        "  Downloading basemap-1.0.7.tar.gz (129.7MB):  26%  34.0MB\r",
        "  Downloading basemap-1.0.7.tar.gz (129.7MB):  26%  34.0MB\r",
        "  Downloading basemap-1.0.7.tar.gz (129.7MB):  26%  34.0MB"
       ]
      },
      {
       "output_type": "stream",
       "stream": "stdout",
       "text": [
        "\r",
        "  Downloading basemap-1.0.7.tar.gz (129.7MB):  26%  34.0MB\r",
        "  Downloading basemap-1.0.7.tar.gz (129.7MB):  26%  34.0MB\r",
        "  Downloading basemap-1.0.7.tar.gz (129.7MB):  26%  34.0MB\r",
        "  Downloading basemap-1.0.7.tar.gz (129.7MB):  26%  34.0MB\r",
        "  Downloading basemap-1.0.7.tar.gz (129.7MB):  26%  34.0MB\r",
        "  Downloading basemap-1.0.7.tar.gz (129.7MB):  26%  34.0MB\r",
        "  Downloading basemap-1.0.7.tar.gz (129.7MB):  26%  34.0MB\r",
        "  Downloading basemap-1.0.7.tar.gz (129.7MB):  26%  34.1MB\r",
        "  Downloading basemap-1.0.7.tar.gz (129.7MB):  26%  34.1MB\r",
        "  Downloading basemap-1.0.7.tar.gz (129.7MB):  26%  34.1MB"
       ]
      },
      {
       "output_type": "stream",
       "stream": "stdout",
       "text": [
        "\r",
        "  Downloading basemap-1.0.7.tar.gz (129.7MB):  26%  34.1MB\r",
        "  Downloading basemap-1.0.7.tar.gz (129.7MB):  26%  34.1MB\r",
        "  Downloading basemap-1.0.7.tar.gz (129.7MB):  26%  34.1MB\r",
        "  Downloading basemap-1.0.7.tar.gz (129.7MB):  26%  34.1MB\r",
        "  Downloading basemap-1.0.7.tar.gz (129.7MB):  26%  34.1MB\r",
        "  Downloading basemap-1.0.7.tar.gz (129.7MB):  26%  34.1MB"
       ]
      },
      {
       "output_type": "stream",
       "stream": "stdout",
       "text": [
        "\r",
        "  Downloading basemap-1.0.7.tar.gz (129.7MB):  26%  34.1MB\r",
        "  Downloading basemap-1.0.7.tar.gz (129.7MB):  26%  34.1MB\r",
        "  Downloading basemap-1.0.7.tar.gz (129.7MB):  26%  34.1MB\r",
        "  Downloading basemap-1.0.7.tar.gz (129.7MB):  26%  34.1MB"
       ]
      },
      {
       "output_type": "stream",
       "stream": "stdout",
       "text": [
        "\r",
        "  Downloading basemap-1.0.7.tar.gz (129.7MB):  26%  34.1MB\r",
        "  Downloading basemap-1.0.7.tar.gz (129.7MB):  26%  34.1MB\r",
        "  Downloading basemap-1.0.7.tar.gz (129.7MB):  26%  34.1MB\r",
        "  Downloading basemap-1.0.7.tar.gz (129.7MB):  26%  34.1MB\r",
        "  Downloading basemap-1.0.7.tar.gz (129.7MB):  26%  34.1MB\r",
        "  Downloading basemap-1.0.7.tar.gz (129.7MB):  26%  34.1MB\r",
        "  Downloading basemap-1.0.7.tar.gz (129.7MB):  26%  34.1MB\r",
        "  Downloading basemap-1.0.7.tar.gz (129.7MB):  26%  34.1MB\r",
        "  Downloading basemap-1.0.7.tar.gz (129.7MB):  26%  34.1MB\r",
        "  Downloading basemap-1.0.7.tar.gz (129.7MB):  26%  34.1MB\r",
        "  Downloading basemap-1.0.7.tar.gz (129.7MB):  26%  34.1MB"
       ]
      },
      {
       "output_type": "stream",
       "stream": "stdout",
       "text": [
        "\r",
        "  Downloading basemap-1.0.7.tar.gz (129.7MB):  26%  34.1MB\r",
        "  Downloading basemap-1.0.7.tar.gz (129.7MB):  26%  34.2MB\r",
        "  Downloading basemap-1.0.7.tar.gz (129.7MB):  26%  34.2MB\r",
        "  Downloading basemap-1.0.7.tar.gz (129.7MB):  26%  34.2MB\r",
        "  Downloading basemap-1.0.7.tar.gz (129.7MB):  26%  34.2MB\r",
        "  Downloading basemap-1.0.7.tar.gz (129.7MB):  26%  34.2MB\r",
        "  Downloading basemap-1.0.7.tar.gz (129.7MB):  26%  34.2MB\r",
        "  Downloading basemap-1.0.7.tar.gz (129.7MB):  26%  34.2MB\r",
        "  Downloading basemap-1.0.7.tar.gz (129.7MB):  26%  34.2MB\r",
        "  Downloading basemap-1.0.7.tar.gz (129.7MB):  26%  34.2MB\r",
        "  Downloading basemap-1.0.7.tar.gz (129.7MB):  26%  34.2MB"
       ]
      },
      {
       "output_type": "stream",
       "stream": "stdout",
       "text": [
        "\r",
        "  Downloading basemap-1.0.7.tar.gz (129.7MB):  26%  34.2MB\r",
        "  Downloading basemap-1.0.7.tar.gz (129.7MB):  26%  34.2MB\r",
        "  Downloading basemap-1.0.7.tar.gz (129.7MB):  26%  34.2MB\r",
        "  Downloading basemap-1.0.7.tar.gz (129.7MB):  26%  34.2MB\r",
        "  Downloading basemap-1.0.7.tar.gz (129.7MB):  26%  34.2MB\r",
        "  Downloading basemap-1.0.7.tar.gz (129.7MB):  26%  34.2MB\r",
        "  Downloading basemap-1.0.7.tar.gz (129.7MB):  26%  34.2MB\r",
        "  Downloading basemap-1.0.7.tar.gz (129.7MB):  26%  34.2MB"
       ]
      },
      {
       "output_type": "stream",
       "stream": "stdout",
       "text": [
        "\r",
        "  Downloading basemap-1.0.7.tar.gz (129.7MB):  26%  34.2MB\r",
        "  Downloading basemap-1.0.7.tar.gz (129.7MB):  26%  34.2MB\r",
        "  Downloading basemap-1.0.7.tar.gz (129.7MB):  26%  34.2MB"
       ]
      },
      {
       "output_type": "stream",
       "stream": "stdout",
       "text": [
        "\r",
        "  Downloading basemap-1.0.7.tar.gz (129.7MB):  26%  34.2MB"
       ]
      },
      {
       "output_type": "stream",
       "stream": "stdout",
       "text": [
        "\r",
        "  Downloading basemap-1.0.7.tar.gz (129.7MB):  26%  34.2MB\r",
        "  Downloading basemap-1.0.7.tar.gz (129.7MB):  26%  34.2MB\r",
        "  Downloading basemap-1.0.7.tar.gz (129.7MB):  26%  34.3MB\r",
        "  Downloading basemap-1.0.7.tar.gz (129.7MB):  26%  34.3MB\r",
        "  Downloading basemap-1.0.7.tar.gz (129.7MB):  26%  34.3MB\r",
        "  Downloading basemap-1.0.7.tar.gz (129.7MB):  26%  34.3MB\r",
        "  Downloading basemap-1.0.7.tar.gz (129.7MB):  26%  34.3MB\r",
        "  Downloading basemap-1.0.7.tar.gz (129.7MB):  26%  34.3MB\r",
        "  Downloading basemap-1.0.7.tar.gz (129.7MB):  26%  34.3MB\r",
        "  Downloading basemap-1.0.7.tar.gz (129.7MB):  26%  34.3MB\r",
        "  Downloading basemap-1.0.7.tar.gz (129.7MB):  26%  34.3MB"
       ]
      },
      {
       "output_type": "stream",
       "stream": "stdout",
       "text": [
        "\r",
        "  Downloading basemap-1.0.7.tar.gz (129.7MB):  26%  34.3MB\r",
        "  Downloading basemap-1.0.7.tar.gz (129.7MB):  26%  34.3MB\r",
        "  Downloading basemap-1.0.7.tar.gz (129.7MB):  26%  34.3MB\r",
        "  Downloading basemap-1.0.7.tar.gz (129.7MB):  26%  34.3MB\r",
        "  Downloading basemap-1.0.7.tar.gz (129.7MB):  26%  34.3MB\r",
        "  Downloading basemap-1.0.7.tar.gz (129.7MB):  26%  34.3MB\r",
        "  Downloading basemap-1.0.7.tar.gz (129.7MB):  26%  34.3MB\r",
        "  Downloading basemap-1.0.7.tar.gz (129.7MB):  26%  34.3MB\r",
        "  Downloading basemap-1.0.7.tar.gz (129.7MB):  26%  34.3MB\r",
        "  Downloading basemap-1.0.7.tar.gz (129.7MB):  26%  34.3MB\r",
        "  Downloading basemap-1.0.7.tar.gz (129.7MB):  26%  34.3MB\r",
        "  Downloading basemap-1.0.7.tar.gz (129.7MB):  26%  34.3MB"
       ]
      },
      {
       "output_type": "stream",
       "stream": "stdout",
       "text": [
        "\r",
        "  Downloading basemap-1.0.7.tar.gz (129.7MB):  26%  34.3MB\r",
        "  Downloading basemap-1.0.7.tar.gz (129.7MB):  26%  34.3MB\r",
        "  Downloading basemap-1.0.7.tar.gz (129.7MB):  26%  34.3MB\r",
        "  Downloading basemap-1.0.7.tar.gz (129.7MB):  26%  34.3MB\r",
        "  Downloading basemap-1.0.7.tar.gz (129.7MB):  26%  34.4MB\r",
        "  Downloading basemap-1.0.7.tar.gz (129.7MB):  26%  34.4MB\r",
        "  Downloading basemap-1.0.7.tar.gz (129.7MB):  26%  34.4MB\r",
        "  Downloading basemap-1.0.7.tar.gz (129.7MB):  26%  34.4MB\r",
        "  Downloading basemap-1.0.7.tar.gz (129.7MB):  26%  34.4MB"
       ]
      },
      {
       "output_type": "stream",
       "stream": "stdout",
       "text": [
        "\r",
        "  Downloading basemap-1.0.7.tar.gz (129.7MB):  26%  34.4MB\r",
        "  Downloading basemap-1.0.7.tar.gz (129.7MB):  26%  34.4MB\r",
        "  Downloading basemap-1.0.7.tar.gz (129.7MB):  26%  34.4MB"
       ]
      },
      {
       "output_type": "stream",
       "stream": "stdout",
       "text": [
        "\r",
        "  Downloading basemap-1.0.7.tar.gz (129.7MB):  26%  34.4MB"
       ]
      },
      {
       "output_type": "stream",
       "stream": "stdout",
       "text": [
        "\r",
        "  Downloading basemap-1.0.7.tar.gz (129.7MB):  26%  34.4MB\r",
        "  Downloading basemap-1.0.7.tar.gz (129.7MB):  26%  34.4MB\r",
        "  Downloading basemap-1.0.7.tar.gz (129.7MB):  26%  34.4MB\r",
        "  Downloading basemap-1.0.7.tar.gz (129.7MB):  26%  34.4MB\r",
        "  Downloading basemap-1.0.7.tar.gz (129.7MB):  26%  34.4MB\r",
        "  Downloading basemap-1.0.7.tar.gz (129.7MB):  26%  34.4MB\r",
        "  Downloading basemap-1.0.7.tar.gz (129.7MB):  26%  34.4MB\r",
        "  Downloading basemap-1.0.7.tar.gz (129.7MB):  26%  34.4MB\r",
        "  Downloading basemap-1.0.7.tar.gz (129.7MB):  26%  34.4MB\r",
        "  Downloading basemap-1.0.7.tar.gz (129.7MB):  26%  34.4MB\r",
        "  Downloading basemap-1.0.7.tar.gz (129.7MB):  26%  34.4MB"
       ]
      },
      {
       "output_type": "stream",
       "stream": "stdout",
       "text": [
        "\r",
        "  Downloading basemap-1.0.7.tar.gz (129.7MB):  26%  34.4MB\r",
        "  Downloading basemap-1.0.7.tar.gz (129.7MB):  26%  34.4MB\r",
        "  Downloading basemap-1.0.7.tar.gz (129.7MB):  26%  34.4MB\r",
        "  Downloading basemap-1.0.7.tar.gz (129.7MB):  26%  34.4MB\r",
        "  Downloading basemap-1.0.7.tar.gz (129.7MB):  26%  34.5MB\r",
        "  Downloading basemap-1.0.7.tar.gz (129.7MB):  26%  34.5MB\r",
        "  Downloading basemap-1.0.7.tar.gz (129.7MB):  26%  34.5MB\r",
        "  Downloading basemap-1.0.7.tar.gz (129.7MB):  26%  34.5MB\r",
        "  Downloading basemap-1.0.7.tar.gz (129.7MB):  26%  34.5MB\r",
        "  Downloading basemap-1.0.7.tar.gz (129.7MB):  26%  34.5MB\r",
        "  Downloading basemap-1.0.7.tar.gz (129.7MB):  26%  34.5MB\r",
        "  Downloading basemap-1.0.7.tar.gz (129.7MB):  26%  34.5MB\r",
        "  Downloading basemap-1.0.7.tar.gz (129.7MB):  26%  34.5MB"
       ]
      },
      {
       "output_type": "stream",
       "stream": "stdout",
       "text": [
        "\r",
        "  Downloading basemap-1.0.7.tar.gz (129.7MB):  26%  34.5MB\r",
        "  Downloading basemap-1.0.7.tar.gz (129.7MB):  26%  34.5MB\r",
        "  Downloading basemap-1.0.7.tar.gz (129.7MB):  26%  34.5MB\r",
        "  Downloading basemap-1.0.7.tar.gz (129.7MB):  26%  34.5MB\r",
        "  Downloading basemap-1.0.7.tar.gz (129.7MB):  26%  34.5MB\r",
        "  Downloading basemap-1.0.7.tar.gz (129.7MB):  26%  34.5MB\r",
        "  Downloading basemap-1.0.7.tar.gz (129.7MB):  26%  34.5MB\r",
        "  Downloading basemap-1.0.7.tar.gz (129.7MB):  26%  34.5MB\r",
        "  Downloading basemap-1.0.7.tar.gz (129.7MB):  26%  34.5MB\r",
        "  Downloading basemap-1.0.7.tar.gz (129.7MB):  26%  34.5MB"
       ]
      },
      {
       "output_type": "stream",
       "stream": "stdout",
       "text": [
        "\r",
        "  Downloading basemap-1.0.7.tar.gz (129.7MB):  26%  34.5MB\r",
        "  Downloading basemap-1.0.7.tar.gz (129.7MB):  26%  34.5MB\r",
        "  Downloading basemap-1.0.7.tar.gz (129.7MB):  26%  34.5MB"
       ]
      },
      {
       "output_type": "stream",
       "stream": "stdout",
       "text": [
        "\r",
        "  Downloading basemap-1.0.7.tar.gz (129.7MB):  26%  34.5MB"
       ]
      },
      {
       "output_type": "stream",
       "stream": "stdout",
       "text": [
        "\r",
        "  Downloading basemap-1.0.7.tar.gz (129.7MB):  26%  34.5MB\r",
        "  Downloading basemap-1.0.7.tar.gz (129.7MB):  26%  34.5MB\r",
        "  Downloading basemap-1.0.7.tar.gz (129.7MB):  26%  34.6MB\r",
        "  Downloading basemap-1.0.7.tar.gz (129.7MB):  26%  34.6MB\r",
        "  Downloading basemap-1.0.7.tar.gz (129.7MB):  26%  34.6MB\r",
        "  Downloading basemap-1.0.7.tar.gz (129.7MB):  26%  34.6MB\r",
        "  Downloading basemap-1.0.7.tar.gz (129.7MB):  26%  34.6MB\r",
        "  Downloading basemap-1.0.7.tar.gz (129.7MB):  26%  34.6MB\r",
        "  Downloading basemap-1.0.7.tar.gz (129.7MB):  26%  34.6MB\r",
        "  Downloading basemap-1.0.7.tar.gz (129.7MB):  26%  34.6MB\r",
        "  Downloading basemap-1.0.7.tar.gz (129.7MB):  26%  34.6MB\r",
        "  Downloading basemap-1.0.7.tar.gz (129.7MB):  26%  34.6MB\r",
        "  Downloading basemap-1.0.7.tar.gz (129.7MB):  26%  34.6MB"
       ]
      },
      {
       "output_type": "stream",
       "stream": "stdout",
       "text": [
        "\r",
        "  Downloading basemap-1.0.7.tar.gz (129.7MB):  26%  34.6MB\r",
        "  Downloading basemap-1.0.7.tar.gz (129.7MB):  26%  34.6MB\r",
        "  Downloading basemap-1.0.7.tar.gz (129.7MB):  26%  34.6MB\r",
        "  Downloading basemap-1.0.7.tar.gz (129.7MB):  26%  34.6MB\r",
        "  Downloading basemap-1.0.7.tar.gz (129.7MB):  26%  34.6MB\r",
        "  Downloading basemap-1.0.7.tar.gz (129.7MB):  26%  34.6MB\r",
        "  Downloading basemap-1.0.7.tar.gz (129.7MB):  26%  34.6MB\r",
        "  Downloading basemap-1.0.7.tar.gz (129.7MB):  26%  34.6MB\r",
        "  Downloading basemap-1.0.7.tar.gz (129.7MB):  26%  34.6MB\r",
        "  Downloading basemap-1.0.7.tar.gz (129.7MB):  26%  34.6MB\r",
        "  Downloading basemap-1.0.7.tar.gz (129.7MB):  26%  34.6MB\r",
        "  Downloading basemap-1.0.7.tar.gz (129.7MB):  26%  34.6MB\r",
        "  Downloading basemap-1.0.7.tar.gz (129.7MB):  26%  34.6MB"
       ]
      },
      {
       "output_type": "stream",
       "stream": "stdout",
       "text": [
        "\r",
        "  Downloading basemap-1.0.7.tar.gz (129.7MB):  26%  34.7MB\r",
        "  Downloading basemap-1.0.7.tar.gz (129.7MB):  26%  34.7MB\r",
        "  Downloading basemap-1.0.7.tar.gz (129.7MB):  26%  34.7MB\r",
        "  Downloading basemap-1.0.7.tar.gz (129.7MB):  26%  34.7MB\r",
        "  Downloading basemap-1.0.7.tar.gz (129.7MB):  26%  34.7MB\r",
        "  Downloading basemap-1.0.7.tar.gz (129.7MB):  26%  34.7MB\r",
        "  Downloading basemap-1.0.7.tar.gz (129.7MB):  26%  34.7MB\r",
        "  Downloading basemap-1.0.7.tar.gz (129.7MB):  26%  34.7MB\r",
        "  Downloading basemap-1.0.7.tar.gz (129.7MB):  26%  34.7MB\r",
        "  Downloading basemap-1.0.7.tar.gz (129.7MB):  26%  34.7MB\r",
        "  Downloading basemap-1.0.7.tar.gz (129.7MB):  26%  34.7MB\r",
        "  Downloading basemap-1.0.7.tar.gz (129.7MB):  26%  34.7MB"
       ]
      },
      {
       "output_type": "stream",
       "stream": "stdout",
       "text": [
        "\r",
        "  Downloading basemap-1.0.7.tar.gz (129.7MB):  26%  34.7MB\r",
        "  Downloading basemap-1.0.7.tar.gz (129.7MB):  26%  34.7MB"
       ]
      },
      {
       "output_type": "stream",
       "stream": "stdout",
       "text": [
        "\r",
        "  Downloading basemap-1.0.7.tar.gz (129.7MB):  26%  34.7MB\r",
        "  Downloading basemap-1.0.7.tar.gz (129.7MB):  26%  34.7MB\r",
        "  Downloading basemap-1.0.7.tar.gz (129.7MB):  26%  34.7MB"
       ]
      },
      {
       "output_type": "stream",
       "stream": "stdout",
       "text": [
        "\r",
        "  Downloading basemap-1.0.7.tar.gz (129.7MB):  26%  34.7MB\r",
        "  Downloading basemap-1.0.7.tar.gz (129.7MB):  26%  34.7MB\r",
        "  Downloading basemap-1.0.7.tar.gz (129.7MB):  26%  34.7MB\r",
        "  Downloading basemap-1.0.7.tar.gz (129.7MB):  26%  34.7MB\r",
        "  Downloading basemap-1.0.7.tar.gz (129.7MB):  26%  34.7MB\r",
        "  Downloading basemap-1.0.7.tar.gz (129.7MB):  26%  34.7MB\r",
        "  Downloading basemap-1.0.7.tar.gz (129.7MB):  26%  34.7MB\r",
        "  Downloading basemap-1.0.7.tar.gz (129.7MB):  26%  34.8MB\r",
        "  Downloading basemap-1.0.7.tar.gz (129.7MB):  26%  34.8MB\r",
        "  Downloading basemap-1.0.7.tar.gz (129.7MB):  26%  34.8MB\r",
        "  Downloading basemap-1.0.7.tar.gz (129.7MB):  26%  34.8MB"
       ]
      },
      {
       "output_type": "stream",
       "stream": "stdout",
       "text": [
        "\r",
        "  Downloading basemap-1.0.7.tar.gz (129.7MB):  26%  34.8MB\r",
        "  Downloading basemap-1.0.7.tar.gz (129.7MB):  26%  34.8MB\r",
        "  Downloading basemap-1.0.7.tar.gz (129.7MB):  26%  34.8MB\r",
        "  Downloading basemap-1.0.7.tar.gz (129.7MB):  26%  34.8MB\r",
        "  Downloading basemap-1.0.7.tar.gz (129.7MB):  26%  34.8MB\r",
        "  Downloading basemap-1.0.7.tar.gz (129.7MB):  26%  34.8MB\r",
        "  Downloading basemap-1.0.7.tar.gz (129.7MB):  26%  34.8MB\r",
        "  Downloading basemap-1.0.7.tar.gz (129.7MB):  26%  34.8MB\r",
        "  Downloading basemap-1.0.7.tar.gz (129.7MB):  26%  34.8MB\r",
        "  Downloading basemap-1.0.7.tar.gz (129.7MB):  26%  34.8MB\r",
        "  Downloading basemap-1.0.7.tar.gz (129.7MB):  26%  34.8MB\r",
        "  Downloading basemap-1.0.7.tar.gz (129.7MB):  26%  34.8MB\r",
        "  Downloading basemap-1.0.7.tar.gz (129.7MB):  26%  34.8MB\r",
        "  Downloading basemap-1.0.7.tar.gz (129.7MB):  26%  34.8MB"
       ]
      },
      {
       "output_type": "stream",
       "stream": "stdout",
       "text": [
        "\r",
        "  Downloading basemap-1.0.7.tar.gz (129.7MB):  26%  34.8MB\r",
        "  Downloading basemap-1.0.7.tar.gz (129.7MB):  26%  34.8MB\r",
        "  Downloading basemap-1.0.7.tar.gz (129.7MB):  26%  34.8MB\r",
        "  Downloading basemap-1.0.7.tar.gz (129.7MB):  26%  34.8MB\r",
        "  Downloading basemap-1.0.7.tar.gz (129.7MB):  26%  34.8MB\r",
        "  Downloading basemap-1.0.7.tar.gz (129.7MB):  26%  34.8MB\r",
        "  Downloading basemap-1.0.7.tar.gz (129.7MB):  26%  34.8MB\r",
        "  Downloading basemap-1.0.7.tar.gz (129.7MB):  26%  34.9MB\r",
        "  Downloading basemap-1.0.7.tar.gz (129.7MB):  26%  34.9MB\r",
        "  Downloading basemap-1.0.7.tar.gz (129.7MB):  26%  34.9MB\r",
        "  Downloading basemap-1.0.7.tar.gz (129.7MB):  26%  34.9MB\r",
        "  Downloading basemap-1.0.7.tar.gz (129.7MB):  26%  34.9MB\r",
        "  Downloading basemap-1.0.7.tar.gz (129.7MB):  26%  34.9MB"
       ]
      },
      {
       "output_type": "stream",
       "stream": "stdout",
       "text": [
        "\r",
        "  Downloading basemap-1.0.7.tar.gz (129.7MB):  26%  34.9MB\r",
        "  Downloading basemap-1.0.7.tar.gz (129.7MB):  26%  34.9MB"
       ]
      },
      {
       "output_type": "stream",
       "stream": "stdout",
       "text": [
        "\r",
        "  Downloading basemap-1.0.7.tar.gz (129.7MB):  26%  34.9MB\r",
        "  Downloading basemap-1.0.7.tar.gz (129.7MB):  26%  34.9MB\r",
        "  Downloading basemap-1.0.7.tar.gz (129.7MB):  26%  34.9MB\r",
        "  Downloading basemap-1.0.7.tar.gz (129.7MB):  26%  34.9MB\r",
        "  Downloading basemap-1.0.7.tar.gz (129.7MB):  26%  34.9MB"
       ]
      },
      {
       "output_type": "stream",
       "stream": "stdout",
       "text": [
        "\r",
        "  Downloading basemap-1.0.7.tar.gz (129.7MB):  26%  34.9MB\r",
        "  Downloading basemap-1.0.7.tar.gz (129.7MB):  26%  34.9MB\r",
        "  Downloading basemap-1.0.7.tar.gz (129.7MB):  26%  34.9MB\r",
        "  Downloading basemap-1.0.7.tar.gz (129.7MB):  26%  34.9MB\r",
        "  Downloading basemap-1.0.7.tar.gz (129.7MB):  26%  34.9MB\r",
        "  Downloading basemap-1.0.7.tar.gz (129.7MB):  26%  34.9MB\r",
        "  Downloading basemap-1.0.7.tar.gz (129.7MB):  26%  34.9MB\r",
        "  Downloading basemap-1.0.7.tar.gz (129.7MB):  26%  34.9MB\r",
        "  Downloading basemap-1.0.7.tar.gz (129.7MB):  26%  34.9MB\r",
        "  Downloading basemap-1.0.7.tar.gz (129.7MB):  26%  34.9MB"
       ]
      },
      {
       "output_type": "stream",
       "stream": "stdout",
       "text": [
        "\r",
        "  Downloading basemap-1.0.7.tar.gz (129.7MB):  26%  34.9MB\r",
        "  Downloading basemap-1.0.7.tar.gz (129.7MB):  26%  35.0MB"
       ]
      },
      {
       "output_type": "stream",
       "stream": "stdout",
       "text": [
        "\r",
        "  Downloading basemap-1.0.7.tar.gz (129.7MB):  26%  35.0MB\r",
        "  Downloading basemap-1.0.7.tar.gz (129.7MB):  26%  35.0MB\r",
        "  Downloading basemap-1.0.7.tar.gz (129.7MB):  26%  35.0MB\r",
        "  Downloading basemap-1.0.7.tar.gz (129.7MB):  26%  35.0MB\r",
        "  Downloading basemap-1.0.7.tar.gz (129.7MB):  26%  35.0MB\r",
        "  Downloading basemap-1.0.7.tar.gz (129.7MB):  26%  35.0MB\r",
        "  Downloading basemap-1.0.7.tar.gz (129.7MB):  26%  35.0MB\r",
        "  Downloading basemap-1.0.7.tar.gz (129.7MB):  26%  35.0MB\r",
        "  Downloading basemap-1.0.7.tar.gz (129.7MB):  26%  35.0MB\r",
        "  Downloading basemap-1.0.7.tar.gz (129.7MB):  26%  35.0MB\r",
        "  Downloading basemap-1.0.7.tar.gz (129.7MB):  26%  35.0MB\r",
        "  Downloading basemap-1.0.7.tar.gz (129.7MB):  26%  35.0MB\r",
        "  Downloading basemap-1.0.7.tar.gz (129.7MB):  26%  35.0MB"
       ]
      },
      {
       "output_type": "stream",
       "stream": "stdout",
       "text": [
        "\r",
        "  Downloading basemap-1.0.7.tar.gz (129.7MB):  26%  35.0MB\r",
        "  Downloading basemap-1.0.7.tar.gz (129.7MB):  26%  35.0MB\r",
        "  Downloading basemap-1.0.7.tar.gz (129.7MB):  26%  35.0MB\r",
        "  Downloading basemap-1.0.7.tar.gz (129.7MB):  27%  35.0MB\r",
        "  Downloading basemap-1.0.7.tar.gz (129.7MB):  27%  35.0MB\r",
        "  Downloading basemap-1.0.7.tar.gz (129.7MB):  27%  35.0MB\r",
        "  Downloading basemap-1.0.7.tar.gz (129.7MB):  27%  35.0MB\r",
        "  Downloading basemap-1.0.7.tar.gz (129.7MB):  27%  35.0MB\r",
        "  Downloading basemap-1.0.7.tar.gz (129.7MB):  27%  35.0MB\r",
        "  Downloading basemap-1.0.7.tar.gz (129.7MB):  27%  35.0MB\r",
        "  Downloading basemap-1.0.7.tar.gz (129.7MB):  27%  35.0MB\r",
        "  Downloading basemap-1.0.7.tar.gz (129.7MB):  27%  35.1MB"
       ]
      },
      {
       "output_type": "stream",
       "stream": "stdout",
       "text": [
        "\r",
        "  Downloading basemap-1.0.7.tar.gz (129.7MB):  27%  35.1MB\r",
        "  Downloading basemap-1.0.7.tar.gz (129.7MB):  27%  35.1MB\r",
        "  Downloading basemap-1.0.7.tar.gz (129.7MB):  27%  35.1MB\r",
        "  Downloading basemap-1.0.7.tar.gz (129.7MB):  27%  35.1MB"
       ]
      },
      {
       "output_type": "stream",
       "stream": "stdout",
       "text": [
        "\r",
        "  Downloading basemap-1.0.7.tar.gz (129.7MB):  27%  35.1MB\r",
        "  Downloading basemap-1.0.7.tar.gz (129.7MB):  27%  35.1MB\r",
        "  Downloading basemap-1.0.7.tar.gz (129.7MB):  27%  35.1MB\r",
        "  Downloading basemap-1.0.7.tar.gz (129.7MB):  27%  35.1MB\r",
        "  Downloading basemap-1.0.7.tar.gz (129.7MB):  27%  35.1MB\r",
        "  Downloading basemap-1.0.7.tar.gz (129.7MB):  27%  35.1MB\r",
        "  Downloading basemap-1.0.7.tar.gz (129.7MB):  27%  35.1MB"
       ]
      },
      {
       "output_type": "stream",
       "stream": "stdout",
       "text": [
        "\r",
        "  Downloading basemap-1.0.7.tar.gz (129.7MB):  27%  35.1MB\r",
        "  Downloading basemap-1.0.7.tar.gz (129.7MB):  27%  35.1MB\r",
        "  Downloading basemap-1.0.7.tar.gz (129.7MB):  27%  35.1MB\r",
        "  Downloading basemap-1.0.7.tar.gz (129.7MB):  27%  35.1MB\r",
        "  Downloading basemap-1.0.7.tar.gz (129.7MB):  27%  35.1MB\r",
        "  Downloading basemap-1.0.7.tar.gz (129.7MB):  27%  35.1MB\r",
        "  Downloading basemap-1.0.7.tar.gz (129.7MB):  27%  35.1MB\r",
        "  Downloading basemap-1.0.7.tar.gz (129.7MB):  27%  35.1MB\r",
        "  Downloading basemap-1.0.7.tar.gz (129.7MB):  27%  35.1MB"
       ]
      },
      {
       "output_type": "stream",
       "stream": "stdout",
       "text": [
        "\r",
        "  Downloading basemap-1.0.7.tar.gz (129.7MB):  27%  35.1MB\r",
        "  Downloading basemap-1.0.7.tar.gz (129.7MB):  27%  35.1MB"
       ]
      },
      {
       "output_type": "stream",
       "stream": "stdout",
       "text": [
        "\r",
        "  Downloading basemap-1.0.7.tar.gz (129.7MB):  27%  35.1MB\r",
        "  Downloading basemap-1.0.7.tar.gz (129.7MB):  27%  35.2MB\r",
        "  Downloading basemap-1.0.7.tar.gz (129.7MB):  27%  35.2MB\r",
        "  Downloading basemap-1.0.7.tar.gz (129.7MB):  27%  35.2MB\r",
        "  Downloading basemap-1.0.7.tar.gz (129.7MB):  27%  35.2MB\r",
        "  Downloading basemap-1.0.7.tar.gz (129.7MB):  27%  35.2MB\r",
        "  Downloading basemap-1.0.7.tar.gz (129.7MB):  27%  35.2MB\r",
        "  Downloading basemap-1.0.7.tar.gz (129.7MB):  27%  35.2MB\r",
        "  Downloading basemap-1.0.7.tar.gz (129.7MB):  27%  35.2MB\r",
        "  Downloading basemap-1.0.7.tar.gz (129.7MB):  27%  35.2MB\r",
        "  Downloading basemap-1.0.7.tar.gz (129.7MB):  27%  35.2MB\r",
        "  Downloading basemap-1.0.7.tar.gz (129.7MB):  27%  35.2MB\r",
        "  Downloading basemap-1.0.7.tar.gz (129.7MB):  27%  35.2MB"
       ]
      },
      {
       "output_type": "stream",
       "stream": "stdout",
       "text": [
        "\r",
        "  Downloading basemap-1.0.7.tar.gz (129.7MB):  27%  35.2MB\r",
        "  Downloading basemap-1.0.7.tar.gz (129.7MB):  27%  35.2MB\r",
        "  Downloading basemap-1.0.7.tar.gz (129.7MB):  27%  35.2MB\r",
        "  Downloading basemap-1.0.7.tar.gz (129.7MB):  27%  35.2MB\r",
        "  Downloading basemap-1.0.7.tar.gz (129.7MB):  27%  35.2MB\r",
        "  Downloading basemap-1.0.7.tar.gz (129.7MB):  27%  35.2MB\r",
        "  Downloading basemap-1.0.7.tar.gz (129.7MB):  27%  35.2MB\r",
        "  Downloading basemap-1.0.7.tar.gz (129.7MB):  27%  35.2MB\r",
        "  Downloading basemap-1.0.7.tar.gz (129.7MB):  27%  35.2MB\r",
        "  Downloading basemap-1.0.7.tar.gz (129.7MB):  27%  35.2MB\r",
        "  Downloading basemap-1.0.7.tar.gz (129.7MB):  27%  35.2MB\r",
        "  Downloading basemap-1.0.7.tar.gz (129.7MB):  27%  35.2MB\r",
        "  Downloading basemap-1.0.7.tar.gz (129.7MB):  27%  35.3MB\r",
        "  Downloading basemap-1.0.7.tar.gz (129.7MB):  27%  35.3MB"
       ]
      },
      {
       "output_type": "stream",
       "stream": "stdout",
       "text": [
        "\r",
        "  Downloading basemap-1.0.7.tar.gz (129.7MB):  27%  35.3MB\r",
        "  Downloading basemap-1.0.7.tar.gz (129.7MB):  27%  35.3MB\r",
        "  Downloading basemap-1.0.7.tar.gz (129.7MB):  27%  35.3MB"
       ]
      },
      {
       "output_type": "stream",
       "stream": "stdout",
       "text": [
        "\r",
        "  Downloading basemap-1.0.7.tar.gz (129.7MB):  27%  35.3MB\r",
        "  Downloading basemap-1.0.7.tar.gz (129.7MB):  27%  35.3MB\r",
        "  Downloading basemap-1.0.7.tar.gz (129.7MB):  27%  35.3MB\r",
        "  Downloading basemap-1.0.7.tar.gz (129.7MB):  27%  35.3MB\r",
        "  Downloading basemap-1.0.7.tar.gz (129.7MB):  27%  35.3MB\r",
        "  Downloading basemap-1.0.7.tar.gz (129.7MB):  27%  35.3MB\r",
        "  Downloading basemap-1.0.7.tar.gz (129.7MB):  27%  35.3MB\r",
        "  Downloading basemap-1.0.7.tar.gz (129.7MB):  27%  35.3MB"
       ]
      },
      {
       "output_type": "stream",
       "stream": "stdout",
       "text": [
        "\r",
        "  Downloading basemap-1.0.7.tar.gz (129.7MB):  27%  35.3MB\r",
        "  Downloading basemap-1.0.7.tar.gz (129.7MB):  27%  35.3MB\r",
        "  Downloading basemap-1.0.7.tar.gz (129.7MB):  27%  35.3MB\r",
        "  Downloading basemap-1.0.7.tar.gz (129.7MB):  27%  35.3MB\r",
        "  Downloading basemap-1.0.7.tar.gz (129.7MB):  27%  35.3MB\r",
        "  Downloading basemap-1.0.7.tar.gz (129.7MB):  27%  35.3MB\r",
        "  Downloading basemap-1.0.7.tar.gz (129.7MB):  27%  35.3MB\r",
        "  Downloading basemap-1.0.7.tar.gz (129.7MB):  27%  35.3MB\r",
        "  Downloading basemap-1.0.7.tar.gz (129.7MB):  27%  35.3MB"
       ]
      },
      {
       "output_type": "stream",
       "stream": "stdout",
       "text": [
        "\r",
        "  Downloading basemap-1.0.7.tar.gz (129.7MB):  27%  35.3MB\r",
        "  Downloading basemap-1.0.7.tar.gz (129.7MB):  27%  35.3MB\r",
        "  Downloading basemap-1.0.7.tar.gz (129.7MB):  27%  35.3MB\r",
        "  Downloading basemap-1.0.7.tar.gz (129.7MB):  27%  35.4MB"
       ]
      },
      {
       "output_type": "stream",
       "stream": "stdout",
       "text": [
        "\r",
        "  Downloading basemap-1.0.7.tar.gz (129.7MB):  27%  35.4MB\r",
        "  Downloading basemap-1.0.7.tar.gz (129.7MB):  27%  35.4MB\r",
        "  Downloading basemap-1.0.7.tar.gz (129.7MB):  27%  35.4MB\r",
        "  Downloading basemap-1.0.7.tar.gz (129.7MB):  27%  35.4MB\r",
        "  Downloading basemap-1.0.7.tar.gz (129.7MB):  27%  35.4MB\r",
        "  Downloading basemap-1.0.7.tar.gz (129.7MB):  27%  35.4MB\r",
        "  Downloading basemap-1.0.7.tar.gz (129.7MB):  27%  35.4MB\r",
        "  Downloading basemap-1.0.7.tar.gz (129.7MB):  27%  35.4MB\r",
        "  Downloading basemap-1.0.7.tar.gz (129.7MB):  27%  35.4MB\r",
        "  Downloading basemap-1.0.7.tar.gz (129.7MB):  27%  35.4MB\r",
        "  Downloading basemap-1.0.7.tar.gz (129.7MB):  27%  35.4MB\r",
        "  Downloading basemap-1.0.7.tar.gz (129.7MB):  27%  35.4MB\r",
        "  Downloading basemap-1.0.7.tar.gz (129.7MB):  27%  35.4MB"
       ]
      },
      {
       "output_type": "stream",
       "stream": "stdout",
       "text": [
        "\r",
        "  Downloading basemap-1.0.7.tar.gz (129.7MB):  27%  35.4MB\r",
        "  Downloading basemap-1.0.7.tar.gz (129.7MB):  27%  35.4MB\r",
        "  Downloading basemap-1.0.7.tar.gz (129.7MB):  27%  35.4MB\r",
        "  Downloading basemap-1.0.7.tar.gz (129.7MB):  27%  35.4MB\r",
        "  Downloading basemap-1.0.7.tar.gz (129.7MB):  27%  35.4MB\r",
        "  Downloading basemap-1.0.7.tar.gz (129.7MB):  27%  35.4MB\r",
        "  Downloading basemap-1.0.7.tar.gz (129.7MB):  27%  35.4MB\r",
        "  Downloading basemap-1.0.7.tar.gz (129.7MB):  27%  35.4MB\r",
        "  Downloading basemap-1.0.7.tar.gz (129.7MB):  27%  35.4MB\r",
        "  Downloading basemap-1.0.7.tar.gz (129.7MB):  27%  35.4MB\r",
        "  Downloading basemap-1.0.7.tar.gz (129.7MB):  27%  35.5MB\r",
        "  Downloading basemap-1.0.7.tar.gz (129.7MB):  27%  35.5MB\r",
        "  Downloading basemap-1.0.7.tar.gz (129.7MB):  27%  35.5MB\r",
        "  Downloading basemap-1.0.7.tar.gz (129.7MB):  27%  35.5MB\r",
        "  Downloading basemap-1.0.7.tar.gz (129.7MB):  27%  35.5MB"
       ]
      },
      {
       "output_type": "stream",
       "stream": "stdout",
       "text": [
        "\r",
        "  Downloading basemap-1.0.7.tar.gz (129.7MB):  27%  35.5MB\r",
        "  Downloading basemap-1.0.7.tar.gz (129.7MB):  27%  35.5MB"
       ]
      },
      {
       "output_type": "stream",
       "stream": "stdout",
       "text": [
        "\r",
        "  Downloading basemap-1.0.7.tar.gz (129.7MB):  27%  35.5MB\r",
        "  Downloading basemap-1.0.7.tar.gz (129.7MB):  27%  35.5MB\r",
        "  Downloading basemap-1.0.7.tar.gz (129.7MB):  27%  35.5MB\r",
        "  Downloading basemap-1.0.7.tar.gz (129.7MB):  27%  35.5MB\r",
        "  Downloading basemap-1.0.7.tar.gz (129.7MB):  27%  35.5MB\r",
        "  Downloading basemap-1.0.7.tar.gz (129.7MB):  27%  35.5MB\r",
        "  Downloading basemap-1.0.7.tar.gz (129.7MB):  27%  35.5MB\r",
        "  Downloading basemap-1.0.7.tar.gz (129.7MB):  27%  35.5MB\r",
        "  Downloading basemap-1.0.7.tar.gz (129.7MB):  27%  35.5MB\r",
        "  Downloading basemap-1.0.7.tar.gz (129.7MB):  27%  35.5MB"
       ]
      },
      {
       "output_type": "stream",
       "stream": "stdout",
       "text": [
        "\r",
        "  Downloading basemap-1.0.7.tar.gz (129.7MB):  27%  35.5MB\r",
        "  Downloading basemap-1.0.7.tar.gz (129.7MB):  27%  35.5MB\r",
        "  Downloading basemap-1.0.7.tar.gz (129.7MB):  27%  35.5MB\r",
        "  Downloading basemap-1.0.7.tar.gz (129.7MB):  27%  35.5MB\r",
        "  Downloading basemap-1.0.7.tar.gz (129.7MB):  27%  35.5MB\r",
        "  Downloading basemap-1.0.7.tar.gz (129.7MB):  27%  35.5MB\r",
        "  Downloading basemap-1.0.7.tar.gz (129.7MB):  27%  35.5MB\r",
        "  Downloading basemap-1.0.7.tar.gz (129.7MB):  27%  35.5MB"
       ]
      },
      {
       "output_type": "stream",
       "stream": "stdout",
       "text": [
        "\r",
        "  Downloading basemap-1.0.7.tar.gz (129.7MB):  27%  35.6MB\r",
        "  Downloading basemap-1.0.7.tar.gz (129.7MB):  27%  35.6MB\r",
        "  Downloading basemap-1.0.7.tar.gz (129.7MB):  27%  35.6MB\r",
        "  Downloading basemap-1.0.7.tar.gz (129.7MB):  27%  35.6MB\r",
        "  Downloading basemap-1.0.7.tar.gz (129.7MB):  27%  35.6MB\r",
        "  Downloading basemap-1.0.7.tar.gz (129.7MB):  27%  35.6MB"
       ]
      },
      {
       "output_type": "stream",
       "stream": "stdout",
       "text": [
        "\r",
        "  Downloading basemap-1.0.7.tar.gz (129.7MB):  27%  35.6MB\r",
        "  Downloading basemap-1.0.7.tar.gz (129.7MB):  27%  35.6MB\r",
        "  Downloading basemap-1.0.7.tar.gz (129.7MB):  27%  35.6MB\r",
        "  Downloading basemap-1.0.7.tar.gz (129.7MB):  27%  35.6MB\r",
        "  Downloading basemap-1.0.7.tar.gz (129.7MB):  27%  35.6MB\r",
        "  Downloading basemap-1.0.7.tar.gz (129.7MB):  27%  35.6MB\r",
        "  Downloading basemap-1.0.7.tar.gz (129.7MB):  27%  35.6MB\r",
        "  Downloading basemap-1.0.7.tar.gz (129.7MB):  27%  35.6MB\r",
        "  Downloading basemap-1.0.7.tar.gz (129.7MB):  27%  35.6MB\r",
        "  Downloading basemap-1.0.7.tar.gz (129.7MB):  27%  35.6MB\r",
        "  Downloading basemap-1.0.7.tar.gz (129.7MB):  27%  35.6MB\r",
        "  Downloading basemap-1.0.7.tar.gz (129.7MB):  27%  35.6MB"
       ]
      },
      {
       "output_type": "stream",
       "stream": "stdout",
       "text": [
        "\r",
        "  Downloading basemap-1.0.7.tar.gz (129.7MB):  27%  35.6MB\r",
        "  Downloading basemap-1.0.7.tar.gz (129.7MB):  27%  35.6MB\r",
        "  Downloading basemap-1.0.7.tar.gz (129.7MB):  27%  35.6MB\r",
        "  Downloading basemap-1.0.7.tar.gz (129.7MB):  27%  35.6MB\r",
        "  Downloading basemap-1.0.7.tar.gz (129.7MB):  27%  35.6MB\r",
        "  Downloading basemap-1.0.7.tar.gz (129.7MB):  27%  35.6MB\r",
        "  Downloading basemap-1.0.7.tar.gz (129.7MB):  27%  35.7MB\r",
        "  Downloading basemap-1.0.7.tar.gz (129.7MB):  27%  35.7MB\r",
        "  Downloading basemap-1.0.7.tar.gz (129.7MB):  27%  35.7MB\r",
        "  Downloading basemap-1.0.7.tar.gz (129.7MB):  27%  35.7MB\r",
        "  Downloading basemap-1.0.7.tar.gz (129.7MB):  27%  35.7MB\r",
        "  Downloading basemap-1.0.7.tar.gz (129.7MB):  27%  35.7MB\r",
        "  Downloading basemap-1.0.7.tar.gz (129.7MB):  27%  35.7MB\r",
        "  Downloading basemap-1.0.7.tar.gz (129.7MB):  27%  35.7MB\r",
        "  Downloading basemap-1.0.7.tar.gz (129.7MB):  27%  35.7MB"
       ]
      },
      {
       "output_type": "stream",
       "stream": "stdout",
       "text": [
        "\r",
        "  Downloading basemap-1.0.7.tar.gz (129.7MB):  27%  35.7MB\r",
        "  Downloading basemap-1.0.7.tar.gz (129.7MB):  27%  35.7MB\r",
        "  Downloading basemap-1.0.7.tar.gz (129.7MB):  27%  35.7MB"
       ]
      },
      {
       "output_type": "stream",
       "stream": "stdout",
       "text": [
        "\r",
        "  Downloading basemap-1.0.7.tar.gz (129.7MB):  27%  35.7MB\r",
        "  Downloading basemap-1.0.7.tar.gz (129.7MB):  27%  35.7MB\r",
        "  Downloading basemap-1.0.7.tar.gz (129.7MB):  27%  35.7MB\r",
        "  Downloading basemap-1.0.7.tar.gz (129.7MB):  27%  35.7MB\r",
        "  Downloading basemap-1.0.7.tar.gz (129.7MB):  27%  35.7MB\r",
        "  Downloading basemap-1.0.7.tar.gz (129.7MB):  27%  35.7MB\r",
        "  Downloading basemap-1.0.7.tar.gz (129.7MB):  27%  35.7MB\r",
        "  Downloading basemap-1.0.7.tar.gz (129.7MB):  27%  35.7MB\r",
        "  Downloading basemap-1.0.7.tar.gz (129.7MB):  27%  35.7MB\r",
        "  Downloading basemap-1.0.7.tar.gz (129.7MB):  27%  35.7MB"
       ]
      },
      {
       "output_type": "stream",
       "stream": "stdout",
       "text": [
        "\r",
        "  Downloading basemap-1.0.7.tar.gz (129.7MB):  27%  35.7MB\r",
        "  Downloading basemap-1.0.7.tar.gz (129.7MB):  27%  35.7MB\r",
        "  Downloading basemap-1.0.7.tar.gz (129.7MB):  27%  35.7MB\r",
        "  Downloading basemap-1.0.7.tar.gz (129.7MB):  27%  35.8MB\r",
        "  Downloading basemap-1.0.7.tar.gz (129.7MB):  27%  35.8MB\r",
        "  Downloading basemap-1.0.7.tar.gz (129.7MB):  27%  35.8MB\r",
        "  Downloading basemap-1.0.7.tar.gz (129.7MB):  27%  35.8MB\r",
        "  Downloading basemap-1.0.7.tar.gz (129.7MB):  27%  35.8MB\r",
        "  Downloading basemap-1.0.7.tar.gz (129.7MB):  27%  35.8MB"
       ]
      },
      {
       "output_type": "stream",
       "stream": "stdout",
       "text": [
        "\r",
        "  Downloading basemap-1.0.7.tar.gz (129.7MB):  27%  35.8MB\r",
        "  Downloading basemap-1.0.7.tar.gz (129.7MB):  27%  35.8MB\r",
        "  Downloading basemap-1.0.7.tar.gz (129.7MB):  27%  35.8MB\r",
        "  Downloading basemap-1.0.7.tar.gz (129.7MB):  27%  35.8MB\r",
        "  Downloading basemap-1.0.7.tar.gz (129.7MB):  27%  35.8MB"
       ]
      },
      {
       "output_type": "stream",
       "stream": "stdout",
       "text": [
        "\r",
        "  Downloading basemap-1.0.7.tar.gz (129.7MB):  27%  35.8MB\r",
        "  Downloading basemap-1.0.7.tar.gz (129.7MB):  27%  35.8MB\r",
        "  Downloading basemap-1.0.7.tar.gz (129.7MB):  27%  35.8MB\r",
        "  Downloading basemap-1.0.7.tar.gz (129.7MB):  27%  35.8MB\r",
        "  Downloading basemap-1.0.7.tar.gz (129.7MB):  27%  35.8MB\r",
        "  Downloading basemap-1.0.7.tar.gz (129.7MB):  27%  35.8MB\r",
        "  Downloading basemap-1.0.7.tar.gz (129.7MB):  27%  35.8MB\r",
        "  Downloading basemap-1.0.7.tar.gz (129.7MB):  27%  35.8MB\r",
        "  Downloading basemap-1.0.7.tar.gz (129.7MB):  27%  35.8MB\r",
        "  Downloading basemap-1.0.7.tar.gz (129.7MB):  27%  35.8MB\r",
        "  Downloading basemap-1.0.7.tar.gz (129.7MB):  27%  35.8MB\r",
        "  Downloading basemap-1.0.7.tar.gz (129.7MB):  27%  35.8MB\r",
        "  Downloading basemap-1.0.7.tar.gz (129.7MB):  27%  35.8MB\r",
        "  Downloading basemap-1.0.7.tar.gz (129.7MB):  27%  35.9MB"
       ]
      },
      {
       "output_type": "stream",
       "stream": "stdout",
       "text": [
        "\r",
        "  Downloading basemap-1.0.7.tar.gz (129.7MB):  27%  35.9MB\r",
        "  Downloading basemap-1.0.7.tar.gz (129.7MB):  27%  35.9MB\r",
        "  Downloading basemap-1.0.7.tar.gz (129.7MB):  27%  35.9MB\r",
        "  Downloading basemap-1.0.7.tar.gz (129.7MB):  27%  35.9MB\r",
        "  Downloading basemap-1.0.7.tar.gz (129.7MB):  27%  35.9MB\r",
        "  Downloading basemap-1.0.7.tar.gz (129.7MB):  27%  35.9MB\r",
        "  Downloading basemap-1.0.7.tar.gz (129.7MB):  27%  35.9MB\r",
        "  Downloading basemap-1.0.7.tar.gz (129.7MB):  27%  35.9MB\r",
        "  Downloading basemap-1.0.7.tar.gz (129.7MB):  27%  35.9MB\r",
        "  Downloading basemap-1.0.7.tar.gz (129.7MB):  27%  35.9MB\r",
        "  Downloading basemap-1.0.7.tar.gz (129.7MB):  27%  35.9MB\r",
        "  Downloading basemap-1.0.7.tar.gz (129.7MB):  27%  35.9MB\r",
        "  Downloading basemap-1.0.7.tar.gz (129.7MB):  27%  35.9MB\r",
        "  Downloading basemap-1.0.7.tar.gz (129.7MB):  27%  35.9MB\r",
        "  Downloading basemap-1.0.7.tar.gz (129.7MB):  27%  35.9MB\r",
        "  Downloading basemap-1.0.7.tar.gz (129.7MB):  27%  35.9MB\r",
        "  Downloading basemap-1.0.7.tar.gz (129.7MB):  27%  35.9MB"
       ]
      },
      {
       "output_type": "stream",
       "stream": "stdout",
       "text": [
        "\r",
        "  Downloading basemap-1.0.7.tar.gz (129.7MB):  27%  35.9MB\r",
        "  Downloading basemap-1.0.7.tar.gz (129.7MB):  27%  35.9MB\r",
        "  Downloading basemap-1.0.7.tar.gz (129.7MB):  27%  35.9MB"
       ]
      },
      {
       "output_type": "stream",
       "stream": "stdout",
       "text": [
        "\r",
        "  Downloading basemap-1.0.7.tar.gz (129.7MB):  27%  35.9MB\r",
        "  Downloading basemap-1.0.7.tar.gz (129.7MB):  27%  35.9MB\r",
        "  Downloading basemap-1.0.7.tar.gz (129.7MB):  27%  35.9MB\r",
        "  Downloading basemap-1.0.7.tar.gz (129.7MB):  27%  36.0MB\r",
        "  Downloading basemap-1.0.7.tar.gz (129.7MB):  27%  36.0MB\r",
        "  Downloading basemap-1.0.7.tar.gz (129.7MB):  27%  36.0MB\r",
        "  Downloading basemap-1.0.7.tar.gz (129.7MB):  27%  36.0MB\r",
        "  Downloading basemap-1.0.7.tar.gz (129.7MB):  27%  36.0MB\r",
        "  Downloading basemap-1.0.7.tar.gz (129.7MB):  27%  36.0MB\r",
        "  Downloading basemap-1.0.7.tar.gz (129.7MB):  27%  36.0MB\r",
        "  Downloading basemap-1.0.7.tar.gz (129.7MB):  27%  36.0MB"
       ]
      },
      {
       "output_type": "stream",
       "stream": "stdout",
       "text": [
        "\r",
        "  Downloading basemap-1.0.7.tar.gz (129.7MB):  27%  36.0MB\r",
        "  Downloading basemap-1.0.7.tar.gz (129.7MB):  27%  36.0MB\r",
        "  Downloading basemap-1.0.7.tar.gz (129.7MB):  27%  36.0MB\r",
        "  Downloading basemap-1.0.7.tar.gz (129.7MB):  27%  36.0MB\r",
        "  Downloading basemap-1.0.7.tar.gz (129.7MB):  27%  36.0MB\r",
        "  Downloading basemap-1.0.7.tar.gz (129.7MB):  27%  36.0MB\r",
        "  Downloading basemap-1.0.7.tar.gz (129.7MB):  27%  36.0MB\r",
        "  Downloading basemap-1.0.7.tar.gz (129.7MB):  27%  36.0MB"
       ]
      },
      {
       "output_type": "stream",
       "stream": "stdout",
       "text": [
        "\r",
        "  Downloading basemap-1.0.7.tar.gz (129.7MB):  27%  36.0MB\r",
        "  Downloading basemap-1.0.7.tar.gz (129.7MB):  27%  36.0MB\r",
        "  Downloading basemap-1.0.7.tar.gz (129.7MB):  27%  36.0MB\r",
        "  Downloading basemap-1.0.7.tar.gz (129.7MB):  27%  36.0MB\r",
        "  Downloading basemap-1.0.7.tar.gz (129.7MB):  27%  36.0MB\r",
        "  Downloading basemap-1.0.7.tar.gz (129.7MB):  27%  36.0MB\r",
        "  Downloading basemap-1.0.7.tar.gz (129.7MB):  27%  36.0MB"
       ]
      },
      {
       "output_type": "stream",
       "stream": "stdout",
       "text": [
        "\r",
        "  Downloading basemap-1.0.7.tar.gz (129.7MB):  27%  36.0MB\r",
        "  Downloading basemap-1.0.7.tar.gz (129.7MB):  27%  36.0MB\r",
        "  Downloading basemap-1.0.7.tar.gz (129.7MB):  27%  36.1MB\r",
        "  Downloading basemap-1.0.7.tar.gz (129.7MB):  27%  36.1MB\r",
        "  Downloading basemap-1.0.7.tar.gz (129.7MB):  27%  36.1MB\r",
        "  Downloading basemap-1.0.7.tar.gz (129.7MB):  27%  36.1MB\r",
        "  Downloading basemap-1.0.7.tar.gz (129.7MB):  27%  36.1MB\r",
        "  Downloading basemap-1.0.7.tar.gz (129.7MB):  27%  36.1MB\r",
        "  Downloading basemap-1.0.7.tar.gz (129.7MB):  27%  36.1MB\r",
        "  Downloading basemap-1.0.7.tar.gz (129.7MB):  27%  36.1MB\r",
        "  Downloading basemap-1.0.7.tar.gz (129.7MB):  27%  36.1MB\r",
        "  Downloading basemap-1.0.7.tar.gz (129.7MB):  27%  36.1MB\r",
        "  Downloading basemap-1.0.7.tar.gz (129.7MB):  27%  36.1MB"
       ]
      },
      {
       "output_type": "stream",
       "stream": "stdout",
       "text": [
        "\r",
        "  Downloading basemap-1.0.7.tar.gz (129.7MB):  27%  36.1MB\r",
        "  Downloading basemap-1.0.7.tar.gz (129.7MB):  27%  36.1MB\r",
        "  Downloading basemap-1.0.7.tar.gz (129.7MB):  27%  36.1MB\r",
        "  Downloading basemap-1.0.7.tar.gz (129.7MB):  27%  36.1MB\r",
        "  Downloading basemap-1.0.7.tar.gz (129.7MB):  27%  36.1MB\r",
        "  Downloading basemap-1.0.7.tar.gz (129.7MB):  27%  36.1MB\r",
        "  Downloading basemap-1.0.7.tar.gz (129.7MB):  27%  36.1MB\r",
        "  Downloading basemap-1.0.7.tar.gz (129.7MB):  27%  36.1MB\r",
        "  Downloading basemap-1.0.7.tar.gz (129.7MB):  27%  36.1MB\r",
        "  Downloading basemap-1.0.7.tar.gz (129.7MB):  27%  36.1MB\r",
        "  Downloading basemap-1.0.7.tar.gz (129.7MB):  27%  36.1MB\r",
        "  Downloading basemap-1.0.7.tar.gz (129.7MB):  27%  36.1MB\r",
        "  Downloading basemap-1.0.7.tar.gz (129.7MB):  27%  36.1MB\r",
        "  Downloading basemap-1.0.7.tar.gz (129.7MB):  27%  36.2MB\r",
        "  Downloading basemap-1.0.7.tar.gz (129.7MB):  27%  36.2MB\r",
        "  Downloading basemap-1.0.7.tar.gz (129.7MB):  27%  36.2MB\r",
        "  Downloading basemap-1.0.7.tar.gz (129.7MB):  27%  36.2MB\r",
        "  Downloading basemap-1.0.7.tar.gz (129.7MB):  27%  36.2MB\r",
        "  Downloading basemap-1.0.7.tar.gz (129.7MB):  27%  36.2MB"
       ]
      },
      {
       "output_type": "stream",
       "stream": "stdout",
       "text": [
        "\r",
        "  Downloading basemap-1.0.7.tar.gz (129.7MB):  27%  36.2MB\r",
        "  Downloading basemap-1.0.7.tar.gz (129.7MB):  27%  36.2MB"
       ]
      },
      {
       "output_type": "stream",
       "stream": "stdout",
       "text": [
        "\r",
        "  Downloading basemap-1.0.7.tar.gz (129.7MB):  27%  36.2MB\r",
        "  Downloading basemap-1.0.7.tar.gz (129.7MB):  27%  36.2MB\r",
        "  Downloading basemap-1.0.7.tar.gz (129.7MB):  27%  36.2MB\r",
        "  Downloading basemap-1.0.7.tar.gz (129.7MB):  27%  36.2MB\r",
        "  Downloading basemap-1.0.7.tar.gz (129.7MB):  27%  36.2MB\r",
        "  Downloading basemap-1.0.7.tar.gz (129.7MB):  27%  36.2MB\r",
        "  Downloading basemap-1.0.7.tar.gz (129.7MB):  27%  36.2MB\r",
        "  Downloading basemap-1.0.7.tar.gz (129.7MB):  27%  36.2MB\r",
        "  Downloading basemap-1.0.7.tar.gz (129.7MB):  27%  36.2MB\r",
        "  Downloading basemap-1.0.7.tar.gz (129.7MB):  27%  36.2MB\r",
        "  Downloading basemap-1.0.7.tar.gz (129.7MB):  27%  36.2MB"
       ]
      },
      {
       "output_type": "stream",
       "stream": "stdout",
       "text": [
        "\r",
        "  Downloading basemap-1.0.7.tar.gz (129.7MB):  27%  36.2MB\r",
        "  Downloading basemap-1.0.7.tar.gz (129.7MB):  27%  36.2MB"
       ]
      },
      {
       "output_type": "stream",
       "stream": "stdout",
       "text": [
        "\r",
        "  Downloading basemap-1.0.7.tar.gz (129.7MB):  27%  36.2MB\r",
        "  Downloading basemap-1.0.7.tar.gz (129.7MB):  27%  36.2MB\r",
        "  Downloading basemap-1.0.7.tar.gz (129.7MB):  27%  36.2MB\r",
        "  Downloading basemap-1.0.7.tar.gz (129.7MB):  27%  36.2MB\r",
        "  Downloading basemap-1.0.7.tar.gz (129.7MB):  27%  36.3MB\r",
        "  Downloading basemap-1.0.7.tar.gz (129.7MB):  27%  36.3MB\r",
        "  Downloading basemap-1.0.7.tar.gz (129.7MB):  27%  36.3MB\r",
        "  Downloading basemap-1.0.7.tar.gz (129.7MB):  27%  36.3MB\r",
        "  Downloading basemap-1.0.7.tar.gz (129.7MB):  27%  36.3MB\r",
        "  Downloading basemap-1.0.7.tar.gz (129.7MB):  27%  36.3MB\r",
        "  Downloading basemap-1.0.7.tar.gz (129.7MB):  27%  36.3MB\r",
        "  Downloading basemap-1.0.7.tar.gz (129.7MB):  27%  36.3MB\r",
        "  Downloading basemap-1.0.7.tar.gz (129.7MB):  27%  36.3MB\r",
        "  Downloading basemap-1.0.7.tar.gz (129.7MB):  27%  36.3MB\r",
        "  Downloading basemap-1.0.7.tar.gz (129.7MB):  27%  36.3MB\r",
        "  Downloading basemap-1.0.7.tar.gz (129.7MB):  27%  36.3MB\r",
        "  Downloading basemap-1.0.7.tar.gz (129.7MB):  27%  36.3MB\r",
        "  Downloading basemap-1.0.7.tar.gz (129.7MB):  27%  36.3MB\r",
        "  Downloading basemap-1.0.7.tar.gz (129.7MB):  27%  36.3MB\r",
        "  Downloading basemap-1.0.7.tar.gz (129.7MB):  28%  36.3MB\r",
        "  Downloading basemap-1.0.7.tar.gz (129.7MB):  28%  36.3MB\r",
        "  Downloading basemap-1.0.7.tar.gz (129.7MB):  28%  36.3MB"
       ]
      },
      {
       "output_type": "stream",
       "stream": "stdout",
       "text": [
        "\r",
        "  Downloading basemap-1.0.7.tar.gz (129.7MB):  28%  36.3MB\r",
        "  Downloading basemap-1.0.7.tar.gz (129.7MB):  28%  36.3MB\r",
        "  Downloading basemap-1.0.7.tar.gz (129.7MB):  28%  36.3MB\r",
        "  Downloading basemap-1.0.7.tar.gz (129.7MB):  28%  36.3MB\r",
        "  Downloading basemap-1.0.7.tar.gz (129.7MB):  28%  36.3MB\r",
        "  Downloading basemap-1.0.7.tar.gz (129.7MB):  28%  36.3MB\r",
        "  Downloading basemap-1.0.7.tar.gz (129.7MB):  28%  36.4MB\r",
        "  Downloading basemap-1.0.7.tar.gz (129.7MB):  28%  36.4MB\r",
        "  Downloading basemap-1.0.7.tar.gz (129.7MB):  28%  36.4MB\r",
        "  Downloading basemap-1.0.7.tar.gz (129.7MB):  28%  36.4MB"
       ]
      },
      {
       "output_type": "stream",
       "stream": "stdout",
       "text": [
        "\r",
        "  Downloading basemap-1.0.7.tar.gz (129.7MB):  28%  36.4MB\r",
        "  Downloading basemap-1.0.7.tar.gz (129.7MB):  28%  36.4MB\r",
        "  Downloading basemap-1.0.7.tar.gz (129.7MB):  28%  36.4MB\r",
        "  Downloading basemap-1.0.7.tar.gz (129.7MB):  28%  36.4MB\r",
        "  Downloading basemap-1.0.7.tar.gz (129.7MB):  28%  36.4MB\r",
        "  Downloading basemap-1.0.7.tar.gz (129.7MB):  28%  36.4MB\r",
        "  Downloading basemap-1.0.7.tar.gz (129.7MB):  28%  36.4MB\r",
        "  Downloading basemap-1.0.7.tar.gz (129.7MB):  28%  36.4MB\r",
        "  Downloading basemap-1.0.7.tar.gz (129.7MB):  28%  36.4MB\r",
        "  Downloading basemap-1.0.7.tar.gz (129.7MB):  28%  36.4MB\r",
        "  Downloading basemap-1.0.7.tar.gz (129.7MB):  28%  36.4MB"
       ]
      },
      {
       "output_type": "stream",
       "stream": "stdout",
       "text": [
        "\r",
        "  Downloading basemap-1.0.7.tar.gz (129.7MB):  28%  36.4MB\r",
        "  Downloading basemap-1.0.7.tar.gz (129.7MB):  28%  36.4MB\r",
        "  Downloading basemap-1.0.7.tar.gz (129.7MB):  28%  36.4MB\r",
        "  Downloading basemap-1.0.7.tar.gz (129.7MB):  28%  36.4MB\r",
        "  Downloading basemap-1.0.7.tar.gz (129.7MB):  28%  36.4MB\r",
        "  Downloading basemap-1.0.7.tar.gz (129.7MB):  28%  36.4MB\r",
        "  Downloading basemap-1.0.7.tar.gz (129.7MB):  28%  36.4MB\r",
        "  Downloading basemap-1.0.7.tar.gz (129.7MB):  28%  36.4MB\r",
        "  Downloading basemap-1.0.7.tar.gz (129.7MB):  28%  36.4MB\r",
        "  Downloading basemap-1.0.7.tar.gz (129.7MB):  28%  36.5MB\r",
        "  Downloading basemap-1.0.7.tar.gz (129.7MB):  28%  36.5MB"
       ]
      },
      {
       "output_type": "stream",
       "stream": "stdout",
       "text": [
        "\r",
        "  Downloading basemap-1.0.7.tar.gz (129.7MB):  28%  36.5MB\r",
        "  Downloading basemap-1.0.7.tar.gz (129.7MB):  28%  36.5MB\r",
        "  Downloading basemap-1.0.7.tar.gz (129.7MB):  28%  36.5MB\r",
        "  Downloading basemap-1.0.7.tar.gz (129.7MB):  28%  36.5MB\r",
        "  Downloading basemap-1.0.7.tar.gz (129.7MB):  28%  36.5MB\r",
        "  Downloading basemap-1.0.7.tar.gz (129.7MB):  28%  36.5MB\r",
        "  Downloading basemap-1.0.7.tar.gz (129.7MB):  28%  36.5MB\r",
        "  Downloading basemap-1.0.7.tar.gz (129.7MB):  28%  36.5MB\r",
        "  Downloading basemap-1.0.7.tar.gz (129.7MB):  28%  36.5MB\r",
        "  Downloading basemap-1.0.7.tar.gz (129.7MB):  28%  36.5MB\r",
        "  Downloading basemap-1.0.7.tar.gz (129.7MB):  28%  36.5MB"
       ]
      },
      {
       "output_type": "stream",
       "stream": "stdout",
       "text": [
        "\r",
        "  Downloading basemap-1.0.7.tar.gz (129.7MB):  28%  36.5MB\r",
        "  Downloading basemap-1.0.7.tar.gz (129.7MB):  28%  36.5MB"
       ]
      },
      {
       "output_type": "stream",
       "stream": "stdout",
       "text": [
        "\r",
        "  Downloading basemap-1.0.7.tar.gz (129.7MB):  28%  36.5MB\r",
        "  Downloading basemap-1.0.7.tar.gz (129.7MB):  28%  36.5MB\r",
        "  Downloading basemap-1.0.7.tar.gz (129.7MB):  28%  36.5MB\r",
        "  Downloading basemap-1.0.7.tar.gz (129.7MB):  28%  36.5MB\r",
        "  Downloading basemap-1.0.7.tar.gz (129.7MB):  28%  36.5MB\r",
        "  Downloading basemap-1.0.7.tar.gz (129.7MB):  28%  36.5MB\r",
        "  Downloading basemap-1.0.7.tar.gz (129.7MB):  28%  36.5MB\r",
        "  Downloading basemap-1.0.7.tar.gz (129.7MB):  28%  36.5MB\r",
        "  Downloading basemap-1.0.7.tar.gz (129.7MB):  28%  36.5MB\r",
        "  Downloading basemap-1.0.7.tar.gz (129.7MB):  28%  36.5MB"
       ]
      },
      {
       "output_type": "stream",
       "stream": "stdout",
       "text": [
        "\r",
        "  Downloading basemap-1.0.7.tar.gz (129.7MB):  28%  36.6MB\r",
        "  Downloading basemap-1.0.7.tar.gz (129.7MB):  28%  36.6MB\r",
        "  Downloading basemap-1.0.7.tar.gz (129.7MB):  28%  36.6MB\r",
        "  Downloading basemap-1.0.7.tar.gz (129.7MB):  28%  36.6MB\r",
        "  Downloading basemap-1.0.7.tar.gz (129.7MB):  28%  36.6MB\r",
        "  Downloading basemap-1.0.7.tar.gz (129.7MB):  28%  36.6MB\r",
        "  Downloading basemap-1.0.7.tar.gz (129.7MB):  28%  36.6MB\r",
        "  Downloading basemap-1.0.7.tar.gz (129.7MB):  28%  36.6MB\r",
        "  Downloading basemap-1.0.7.tar.gz (129.7MB):  28%  36.6MB\r",
        "  Downloading basemap-1.0.7.tar.gz (129.7MB):  28%  36.6MB\r",
        "  Downloading basemap-1.0.7.tar.gz (129.7MB):  28%  36.6MB"
       ]
      },
      {
       "output_type": "stream",
       "stream": "stdout",
       "text": [
        "\r",
        "  Downloading basemap-1.0.7.tar.gz (129.7MB):  28%  36.6MB\r",
        "  Downloading basemap-1.0.7.tar.gz (129.7MB):  28%  36.6MB\r",
        "  Downloading basemap-1.0.7.tar.gz (129.7MB):  28%  36.6MB\r",
        "  Downloading basemap-1.0.7.tar.gz (129.7MB):  28%  36.6MB\r",
        "  Downloading basemap-1.0.7.tar.gz (129.7MB):  28%  36.6MB\r",
        "  Downloading basemap-1.0.7.tar.gz (129.7MB):  28%  36.6MB\r",
        "  Downloading basemap-1.0.7.tar.gz (129.7MB):  28%  36.6MB\r",
        "  Downloading basemap-1.0.7.tar.gz (129.7MB):  28%  36.6MB\r",
        "  Downloading basemap-1.0.7.tar.gz (129.7MB):  28%  36.6MB\r",
        "  Downloading basemap-1.0.7.tar.gz (129.7MB):  28%  36.6MB\r",
        "  Downloading basemap-1.0.7.tar.gz (129.7MB):  28%  36.6MB\r",
        "  Downloading basemap-1.0.7.tar.gz (129.7MB):  28%  36.6MB"
       ]
      },
      {
       "output_type": "stream",
       "stream": "stdout",
       "text": [
        "\r",
        "  Downloading basemap-1.0.7.tar.gz (129.7MB):  28%  36.6MB\r",
        "  Downloading basemap-1.0.7.tar.gz (129.7MB):  28%  36.7MB\r",
        "  Downloading basemap-1.0.7.tar.gz (129.7MB):  28%  36.7MB\r",
        "  Downloading basemap-1.0.7.tar.gz (129.7MB):  28%  36.7MB\r",
        "  Downloading basemap-1.0.7.tar.gz (129.7MB):  28%  36.7MB\r",
        "  Downloading basemap-1.0.7.tar.gz (129.7MB):  28%  36.7MB\r",
        "  Downloading basemap-1.0.7.tar.gz (129.7MB):  28%  36.7MB\r",
        "  Downloading basemap-1.0.7.tar.gz (129.7MB):  28%  36.7MB\r",
        "  Downloading basemap-1.0.7.tar.gz (129.7MB):  28%  36.7MB\r",
        "  Downloading basemap-1.0.7.tar.gz (129.7MB):  28%  36.7MB\r",
        "  Downloading basemap-1.0.7.tar.gz (129.7MB):  28%  36.7MB\r",
        "  Downloading basemap-1.0.7.tar.gz (129.7MB):  28%  36.7MB"
       ]
      },
      {
       "output_type": "stream",
       "stream": "stdout",
       "text": [
        "\r",
        "  Downloading basemap-1.0.7.tar.gz (129.7MB):  28%  36.7MB\r",
        "  Downloading basemap-1.0.7.tar.gz (129.7MB):  28%  36.7MB\r",
        "  Downloading basemap-1.0.7.tar.gz (129.7MB):  28%  36.7MB\r",
        "  Downloading basemap-1.0.7.tar.gz (129.7MB):  28%  36.7MB\r",
        "  Downloading basemap-1.0.7.tar.gz (129.7MB):  28%  36.7MB\r",
        "  Downloading basemap-1.0.7.tar.gz (129.7MB):  28%  36.7MB\r",
        "  Downloading basemap-1.0.7.tar.gz (129.7MB):  28%  36.7MB\r",
        "  Downloading basemap-1.0.7.tar.gz (129.7MB):  28%  36.7MB\r",
        "  Downloading basemap-1.0.7.tar.gz (129.7MB):  28%  36.7MB\r",
        "  Downloading basemap-1.0.7.tar.gz (129.7MB):  28%  36.7MB\r",
        "  Downloading basemap-1.0.7.tar.gz (129.7MB):  28%  36.7MB\r",
        "  Downloading basemap-1.0.7.tar.gz (129.7MB):  28%  36.7MB\r",
        "  Downloading basemap-1.0.7.tar.gz (129.7MB):  28%  36.7MB"
       ]
      },
      {
       "output_type": "stream",
       "stream": "stdout",
       "text": [
        "\r",
        "  Downloading basemap-1.0.7.tar.gz (129.7MB):  28%  36.7MB\r",
        "  Downloading basemap-1.0.7.tar.gz (129.7MB):  28%  36.8MB\r",
        "  Downloading basemap-1.0.7.tar.gz (129.7MB):  28%  36.8MB\r",
        "  Downloading basemap-1.0.7.tar.gz (129.7MB):  28%  36.8MB\r",
        "  Downloading basemap-1.0.7.tar.gz (129.7MB):  28%  36.8MB\r",
        "  Downloading basemap-1.0.7.tar.gz (129.7MB):  28%  36.8MB\r",
        "  Downloading basemap-1.0.7.tar.gz (129.7MB):  28%  36.8MB\r",
        "  Downloading basemap-1.0.7.tar.gz (129.7MB):  28%  36.8MB\r",
        "  Downloading basemap-1.0.7.tar.gz (129.7MB):  28%  36.8MB"
       ]
      },
      {
       "output_type": "stream",
       "stream": "stdout",
       "text": [
        "\r",
        "  Downloading basemap-1.0.7.tar.gz (129.7MB):  28%  36.8MB\r",
        "  Downloading basemap-1.0.7.tar.gz (129.7MB):  28%  36.8MB\r",
        "  Downloading basemap-1.0.7.tar.gz (129.7MB):  28%  36.8MB"
       ]
      },
      {
       "output_type": "stream",
       "stream": "stdout",
       "text": [
        "\r",
        "  Downloading basemap-1.0.7.tar.gz (129.7MB):  28%  36.8MB"
       ]
      },
      {
       "output_type": "stream",
       "stream": "stdout",
       "text": [
        "\r",
        "  Downloading basemap-1.0.7.tar.gz (129.7MB):  28%  36.8MB\r",
        "  Downloading basemap-1.0.7.tar.gz (129.7MB):  28%  36.8MB\r",
        "  Downloading basemap-1.0.7.tar.gz (129.7MB):  28%  36.8MB\r",
        "  Downloading basemap-1.0.7.tar.gz (129.7MB):  28%  36.8MB\r",
        "  Downloading basemap-1.0.7.tar.gz (129.7MB):  28%  36.8MB\r",
        "  Downloading basemap-1.0.7.tar.gz (129.7MB):  28%  36.8MB\r",
        "  Downloading basemap-1.0.7.tar.gz (129.7MB):  28%  36.8MB\r",
        "  Downloading basemap-1.0.7.tar.gz (129.7MB):  28%  36.8MB\r",
        "  Downloading basemap-1.0.7.tar.gz (129.7MB):  28%  36.8MB\r",
        "  Downloading basemap-1.0.7.tar.gz (129.7MB):  28%  36.8MB\r",
        "  Downloading basemap-1.0.7.tar.gz (129.7MB):  28%  36.8MB\r",
        "  Downloading basemap-1.0.7.tar.gz (129.7MB):  28%  36.8MB"
       ]
      },
      {
       "output_type": "stream",
       "stream": "stdout",
       "text": [
        "\r",
        "  Downloading basemap-1.0.7.tar.gz (129.7MB):  28%  36.9MB\r",
        "  Downloading basemap-1.0.7.tar.gz (129.7MB):  28%  36.9MB\r",
        "  Downloading basemap-1.0.7.tar.gz (129.7MB):  28%  36.9MB\r",
        "  Downloading basemap-1.0.7.tar.gz (129.7MB):  28%  36.9MB\r",
        "  Downloading basemap-1.0.7.tar.gz (129.7MB):  28%  36.9MB\r",
        "  Downloading basemap-1.0.7.tar.gz (129.7MB):  28%  36.9MB\r",
        "  Downloading basemap-1.0.7.tar.gz (129.7MB):  28%  36.9MB\r",
        "  Downloading basemap-1.0.7.tar.gz (129.7MB):  28%  36.9MB\r",
        "  Downloading basemap-1.0.7.tar.gz (129.7MB):  28%  36.9MB\r",
        "  Downloading basemap-1.0.7.tar.gz (129.7MB):  28%  36.9MB\r",
        "  Downloading basemap-1.0.7.tar.gz (129.7MB):  28%  36.9MB\r",
        "  Downloading basemap-1.0.7.tar.gz (129.7MB):  28%  36.9MB"
       ]
      },
      {
       "output_type": "stream",
       "stream": "stdout",
       "text": [
        "\r",
        "  Downloading basemap-1.0.7.tar.gz (129.7MB):  28%  36.9MB\r",
        "  Downloading basemap-1.0.7.tar.gz (129.7MB):  28%  36.9MB\r",
        "  Downloading basemap-1.0.7.tar.gz (129.7MB):  28%  36.9MB\r",
        "  Downloading basemap-1.0.7.tar.gz (129.7MB):  28%  36.9MB\r",
        "  Downloading basemap-1.0.7.tar.gz (129.7MB):  28%  36.9MB\r",
        "  Downloading basemap-1.0.7.tar.gz (129.7MB):  28%  36.9MB\r",
        "  Downloading basemap-1.0.7.tar.gz (129.7MB):  28%  36.9MB\r",
        "  Downloading basemap-1.0.7.tar.gz (129.7MB):  28%  36.9MB\r",
        "  Downloading basemap-1.0.7.tar.gz (129.7MB):  28%  36.9MB\r",
        "  Downloading basemap-1.0.7.tar.gz (129.7MB):  28%  36.9MB"
       ]
      },
      {
       "output_type": "stream",
       "stream": "stdout",
       "text": [
        "\r",
        "  Downloading basemap-1.0.7.tar.gz (129.7MB):  28%  36.9MB\r",
        "  Downloading basemap-1.0.7.tar.gz (129.7MB):  28%  36.9MB\r",
        "  Downloading basemap-1.0.7.tar.gz (129.7MB):  28%  37.0MB"
       ]
      },
      {
       "output_type": "stream",
       "stream": "stdout",
       "text": [
        "\r",
        "  Downloading basemap-1.0.7.tar.gz (129.7MB):  28%  37.0MB\r",
        "  Downloading basemap-1.0.7.tar.gz (129.7MB):  28%  37.0MB\r",
        "  Downloading basemap-1.0.7.tar.gz (129.7MB):  28%  37.0MB"
       ]
      },
      {
       "output_type": "stream",
       "stream": "stdout",
       "text": [
        "\r",
        "  Downloading basemap-1.0.7.tar.gz (129.7MB):  28%  37.0MB\r",
        "  Downloading basemap-1.0.7.tar.gz (129.7MB):  28%  37.0MB\r",
        "  Downloading basemap-1.0.7.tar.gz (129.7MB):  28%  37.0MB\r",
        "  Downloading basemap-1.0.7.tar.gz (129.7MB):  28%  37.0MB\r",
        "  Downloading basemap-1.0.7.tar.gz (129.7MB):  28%  37.0MB\r",
        "  Downloading basemap-1.0.7.tar.gz (129.7MB):  28%  37.0MB\r",
        "  Downloading basemap-1.0.7.tar.gz (129.7MB):  28%  37.0MB\r",
        "  Downloading basemap-1.0.7.tar.gz (129.7MB):  28%  37.0MB\r",
        "  Downloading basemap-1.0.7.tar.gz (129.7MB):  28%  37.0MB\r",
        "  Downloading basemap-1.0.7.tar.gz (129.7MB):  28%  37.0MB\r",
        "  Downloading basemap-1.0.7.tar.gz (129.7MB):  28%  37.0MB"
       ]
      },
      {
       "output_type": "stream",
       "stream": "stdout",
       "text": [
        "\r",
        "  Downloading basemap-1.0.7.tar.gz (129.7MB):  28%  37.0MB\r",
        "  Downloading basemap-1.0.7.tar.gz (129.7MB):  28%  37.0MB\r",
        "  Downloading basemap-1.0.7.tar.gz (129.7MB):  28%  37.0MB\r",
        "  Downloading basemap-1.0.7.tar.gz (129.7MB):  28%  37.0MB\r",
        "  Downloading basemap-1.0.7.tar.gz (129.7MB):  28%  37.0MB\r",
        "  Downloading basemap-1.0.7.tar.gz (129.7MB):  28%  37.0MB\r",
        "  Downloading basemap-1.0.7.tar.gz (129.7MB):  28%  37.0MB\r",
        "  Downloading basemap-1.0.7.tar.gz (129.7MB):  28%  37.0MB\r",
        "  Downloading basemap-1.0.7.tar.gz (129.7MB):  28%  37.0MB\r",
        "  Downloading basemap-1.0.7.tar.gz (129.7MB):  28%  37.0MB\r",
        "  Downloading basemap-1.0.7.tar.gz (129.7MB):  28%  37.1MB\r",
        "  Downloading basemap-1.0.7.tar.gz (129.7MB):  28%  37.1MB\r",
        "  Downloading basemap-1.0.7.tar.gz (129.7MB):  28%  37.1MB"
       ]
      },
      {
       "output_type": "stream",
       "stream": "stdout",
       "text": [
        "\r",
        "  Downloading basemap-1.0.7.tar.gz (129.7MB):  28%  37.1MB\r",
        "  Downloading basemap-1.0.7.tar.gz (129.7MB):  28%  37.1MB\r",
        "  Downloading basemap-1.0.7.tar.gz (129.7MB):  28%  37.1MB\r",
        "  Downloading basemap-1.0.7.tar.gz (129.7MB):  28%  37.1MB\r",
        "  Downloading basemap-1.0.7.tar.gz (129.7MB):  28%  37.1MB\r",
        "  Downloading basemap-1.0.7.tar.gz (129.7MB):  28%  37.1MB\r",
        "  Downloading basemap-1.0.7.tar.gz (129.7MB):  28%  37.1MB\r",
        "  Downloading basemap-1.0.7.tar.gz (129.7MB):  28%  37.1MB\r",
        "  Downloading basemap-1.0.7.tar.gz (129.7MB):  28%  37.1MB\r",
        "  Downloading basemap-1.0.7.tar.gz (129.7MB):  28%  37.1MB\r",
        "  Downloading basemap-1.0.7.tar.gz (129.7MB):  28%  37.1MB\r",
        "  Downloading basemap-1.0.7.tar.gz (129.7MB):  28%  37.1MB"
       ]
      },
      {
       "output_type": "stream",
       "stream": "stdout",
       "text": [
        "\r",
        "  Downloading basemap-1.0.7.tar.gz (129.7MB):  28%  37.1MB\r",
        "  Downloading basemap-1.0.7.tar.gz (129.7MB):  28%  37.1MB\r",
        "  Downloading basemap-1.0.7.tar.gz (129.7MB):  28%  37.1MB"
       ]
      },
      {
       "output_type": "stream",
       "stream": "stdout",
       "text": [
        "\r",
        "  Downloading basemap-1.0.7.tar.gz (129.7MB):  28%  37.1MB"
       ]
      },
      {
       "output_type": "stream",
       "stream": "stdout",
       "text": [
        "\r",
        "  Downloading basemap-1.0.7.tar.gz (129.7MB):  28%  37.1MB\r",
        "  Downloading basemap-1.0.7.tar.gz (129.7MB):  28%  37.1MB\r",
        "  Downloading basemap-1.0.7.tar.gz (129.7MB):  28%  37.1MB\r",
        "  Downloading basemap-1.0.7.tar.gz (129.7MB):  28%  37.1MB\r",
        "  Downloading basemap-1.0.7.tar.gz (129.7MB):  28%  37.1MB\r",
        "  Downloading basemap-1.0.7.tar.gz (129.7MB):  28%  37.2MB\r",
        "  Downloading basemap-1.0.7.tar.gz (129.7MB):  28%  37.2MB\r",
        "  Downloading basemap-1.0.7.tar.gz (129.7MB):  28%  37.2MB\r",
        "  Downloading basemap-1.0.7.tar.gz (129.7MB):  28%  37.2MB\r",
        "  Downloading basemap-1.0.7.tar.gz (129.7MB):  28%  37.2MB\r",
        "  Downloading basemap-1.0.7.tar.gz (129.7MB):  28%  37.2MB\r",
        "  Downloading basemap-1.0.7.tar.gz (129.7MB):  28%  37.2MB\r",
        "  Downloading basemap-1.0.7.tar.gz (129.7MB):  28%  37.2MB"
       ]
      },
      {
       "output_type": "stream",
       "stream": "stdout",
       "text": [
        "\r",
        "  Downloading basemap-1.0.7.tar.gz (129.7MB):  28%  37.2MB\r",
        "  Downloading basemap-1.0.7.tar.gz (129.7MB):  28%  37.2MB\r",
        "  Downloading basemap-1.0.7.tar.gz (129.7MB):  28%  37.2MB\r",
        "  Downloading basemap-1.0.7.tar.gz (129.7MB):  28%  37.2MB\r",
        "  Downloading basemap-1.0.7.tar.gz (129.7MB):  28%  37.2MB\r",
        "  Downloading basemap-1.0.7.tar.gz (129.7MB):  28%  37.2MB\r",
        "  Downloading basemap-1.0.7.tar.gz (129.7MB):  28%  37.2MB\r",
        "  Downloading basemap-1.0.7.tar.gz (129.7MB):  28%  37.2MB\r",
        "  Downloading basemap-1.0.7.tar.gz (129.7MB):  28%  37.2MB\r",
        "  Downloading basemap-1.0.7.tar.gz (129.7MB):  28%  37.2MB\r",
        "  Downloading basemap-1.0.7.tar.gz (129.7MB):  28%  37.2MB\r",
        "  Downloading basemap-1.0.7.tar.gz (129.7MB):  28%  37.2MB\r",
        "  Downloading basemap-1.0.7.tar.gz (129.7MB):  28%  37.2MB\r",
        "  Downloading basemap-1.0.7.tar.gz (129.7MB):  28%  37.2MB"
       ]
      },
      {
       "output_type": "stream",
       "stream": "stdout",
       "text": [
        "\r",
        "  Downloading basemap-1.0.7.tar.gz (129.7MB):  28%  37.2MB\r",
        "  Downloading basemap-1.0.7.tar.gz (129.7MB):  28%  37.2MB\r",
        "  Downloading basemap-1.0.7.tar.gz (129.7MB):  28%  37.2MB\r",
        "  Downloading basemap-1.0.7.tar.gz (129.7MB):  28%  37.3MB\r",
        "  Downloading basemap-1.0.7.tar.gz (129.7MB):  28%  37.3MB\r",
        "  Downloading basemap-1.0.7.tar.gz (129.7MB):  28%  37.3MB"
       ]
      },
      {
       "output_type": "stream",
       "stream": "stdout",
       "text": [
        "\r",
        "  Downloading basemap-1.0.7.tar.gz (129.7MB):  28%  37.3MB\r",
        "  Downloading basemap-1.0.7.tar.gz (129.7MB):  28%  37.3MB\r",
        "  Downloading basemap-1.0.7.tar.gz (129.7MB):  28%  37.3MB\r",
        "  Downloading basemap-1.0.7.tar.gz (129.7MB):  28%  37.3MB"
       ]
      },
      {
       "output_type": "stream",
       "stream": "stdout",
       "text": [
        "\r",
        "  Downloading basemap-1.0.7.tar.gz (129.7MB):  28%  37.3MB\r",
        "  Downloading basemap-1.0.7.tar.gz (129.7MB):  28%  37.3MB\r",
        "  Downloading basemap-1.0.7.tar.gz (129.7MB):  28%  37.3MB\r",
        "  Downloading basemap-1.0.7.tar.gz (129.7MB):  28%  37.3MB\r",
        "  Downloading basemap-1.0.7.tar.gz (129.7MB):  28%  37.3MB\r",
        "  Downloading basemap-1.0.7.tar.gz (129.7MB):  28%  37.3MB\r",
        "  Downloading basemap-1.0.7.tar.gz (129.7MB):  28%  37.3MB\r",
        "  Downloading basemap-1.0.7.tar.gz (129.7MB):  28%  37.3MB\r",
        "  Downloading basemap-1.0.7.tar.gz (129.7MB):  28%  37.3MB\r",
        "  Downloading basemap-1.0.7.tar.gz (129.7MB):  28%  37.3MB\r",
        "  Downloading basemap-1.0.7.tar.gz (129.7MB):  28%  37.3MB\r",
        "  Downloading basemap-1.0.7.tar.gz (129.7MB):  28%  37.3MB\r",
        "  Downloading basemap-1.0.7.tar.gz (129.7MB):  28%  37.3MB\r",
        "  Downloading basemap-1.0.7.tar.gz (129.7MB):  28%  37.3MB\r",
        "  Downloading basemap-1.0.7.tar.gz (129.7MB):  28%  37.3MB\r",
        "  Downloading basemap-1.0.7.tar.gz (129.7MB):  28%  37.3MB"
       ]
      },
      {
       "output_type": "stream",
       "stream": "stdout",
       "text": [
        "\r",
        "  Downloading basemap-1.0.7.tar.gz (129.7MB):  28%  37.3MB\r",
        "  Downloading basemap-1.0.7.tar.gz (129.7MB):  28%  37.4MB\r",
        "  Downloading basemap-1.0.7.tar.gz (129.7MB):  28%  37.4MB\r",
        "  Downloading basemap-1.0.7.tar.gz (129.7MB):  28%  37.4MB\r",
        "  Downloading basemap-1.0.7.tar.gz (129.7MB):  28%  37.4MB\r",
        "  Downloading basemap-1.0.7.tar.gz (129.7MB):  28%  37.4MB"
       ]
      },
      {
       "output_type": "stream",
       "stream": "stdout",
       "text": [
        "\r",
        "  Downloading basemap-1.0.7.tar.gz (129.7MB):  28%  37.4MB"
       ]
      },
      {
       "output_type": "stream",
       "stream": "stdout",
       "text": [
        "\r",
        "  Downloading basemap-1.0.7.tar.gz (129.7MB):  28%  37.4MB\r",
        "  Downloading basemap-1.0.7.tar.gz (129.7MB):  28%  37.4MB"
       ]
      },
      {
       "output_type": "stream",
       "stream": "stdout",
       "text": [
        "\r",
        "  Downloading basemap-1.0.7.tar.gz (129.7MB):  28%  37.4MB\r",
        "  Downloading basemap-1.0.7.tar.gz (129.7MB):  28%  37.4MB"
       ]
      },
      {
       "output_type": "stream",
       "stream": "stdout",
       "text": [
        "\r",
        "  Downloading basemap-1.0.7.tar.gz (129.7MB):  28%  37.4MB\r",
        "  Downloading basemap-1.0.7.tar.gz (129.7MB):  28%  37.4MB\r",
        "  Downloading basemap-1.0.7.tar.gz (129.7MB):  28%  37.4MB\r",
        "  Downloading basemap-1.0.7.tar.gz (129.7MB):  28%  37.4MB"
       ]
      },
      {
       "output_type": "stream",
       "stream": "stdout",
       "text": [
        "\r",
        "  Downloading basemap-1.0.7.tar.gz (129.7MB):  28%  37.4MB\r",
        "  Downloading basemap-1.0.7.tar.gz (129.7MB):  28%  37.4MB\r",
        "  Downloading basemap-1.0.7.tar.gz (129.7MB):  28%  37.4MB"
       ]
      },
      {
       "output_type": "stream",
       "stream": "stdout",
       "text": [
        "\r",
        "  Downloading basemap-1.0.7.tar.gz (129.7MB):  28%  37.4MB\r",
        "  Downloading basemap-1.0.7.tar.gz (129.7MB):  28%  37.4MB\r",
        "  Downloading basemap-1.0.7.tar.gz (129.7MB):  28%  37.4MB\r",
        "  Downloading basemap-1.0.7.tar.gz (129.7MB):  28%  37.4MB"
       ]
      },
      {
       "output_type": "stream",
       "stream": "stdout",
       "text": [
        "\r",
        "  Downloading basemap-1.0.7.tar.gz (129.7MB):  28%  37.4MB\r",
        "  Downloading basemap-1.0.7.tar.gz (129.7MB):  28%  37.4MB\r",
        "  Downloading basemap-1.0.7.tar.gz (129.7MB):  28%  37.4MB\r",
        "  Downloading basemap-1.0.7.tar.gz (129.7MB):  28%  37.4MB"
       ]
      },
      {
       "output_type": "stream",
       "stream": "stdout",
       "text": [
        "\r",
        "  Downloading basemap-1.0.7.tar.gz (129.7MB):  28%  37.5MB"
       ]
      },
      {
       "output_type": "stream",
       "stream": "stdout",
       "text": [
        "\r",
        "  Downloading basemap-1.0.7.tar.gz (129.7MB):  28%  37.5MB\r",
        "  Downloading basemap-1.0.7.tar.gz (129.7MB):  28%  37.5MB\r",
        "  Downloading basemap-1.0.7.tar.gz (129.7MB):  28%  37.5MB\r",
        "  Downloading basemap-1.0.7.tar.gz (129.7MB):  28%  37.5MB"
       ]
      },
      {
       "output_type": "stream",
       "stream": "stdout",
       "text": [
        "\r",
        "  Downloading basemap-1.0.7.tar.gz (129.7MB):  28%  37.5MB\r",
        "  Downloading basemap-1.0.7.tar.gz (129.7MB):  28%  37.5MB\r",
        "  Downloading basemap-1.0.7.tar.gz (129.7MB):  28%  37.5MB\r",
        "  Downloading basemap-1.0.7.tar.gz (129.7MB):  28%  37.5MB\r",
        "  Downloading basemap-1.0.7.tar.gz (129.7MB):  28%  37.5MB"
       ]
      },
      {
       "output_type": "stream",
       "stream": "stdout",
       "text": [
        "\r",
        "  Downloading basemap-1.0.7.tar.gz (129.7MB):  28%  37.5MB\r",
        "  Downloading basemap-1.0.7.tar.gz (129.7MB):  28%  37.5MB\r",
        "  Downloading basemap-1.0.7.tar.gz (129.7MB):  28%  37.5MB\r",
        "  Downloading basemap-1.0.7.tar.gz (129.7MB):  28%  37.5MB"
       ]
      },
      {
       "output_type": "stream",
       "stream": "stdout",
       "text": [
        "\r",
        "  Downloading basemap-1.0.7.tar.gz (129.7MB):  28%  37.5MB\r",
        "  Downloading basemap-1.0.7.tar.gz (129.7MB):  28%  37.5MB"
       ]
      },
      {
       "output_type": "stream",
       "stream": "stdout",
       "text": [
        "\r",
        "  Downloading basemap-1.0.7.tar.gz (129.7MB):  28%  37.5MB\r",
        "  Downloading basemap-1.0.7.tar.gz (129.7MB):  28%  37.5MB\r",
        "  Downloading basemap-1.0.7.tar.gz (129.7MB):  28%  37.5MB\r",
        "  Downloading basemap-1.0.7.tar.gz (129.7MB):  28%  37.5MB"
       ]
      },
      {
       "output_type": "stream",
       "stream": "stdout",
       "text": [
        "\r",
        "  Downloading basemap-1.0.7.tar.gz (129.7MB):  28%  37.5MB\r",
        "  Downloading basemap-1.0.7.tar.gz (129.7MB):  28%  37.5MB\r",
        "  Downloading basemap-1.0.7.tar.gz (129.7MB):  28%  37.5MB\r",
        "  Downloading basemap-1.0.7.tar.gz (129.7MB):  28%  37.5MB\r",
        "  Downloading basemap-1.0.7.tar.gz (129.7MB):  28%  37.6MB"
       ]
      },
      {
       "output_type": "stream",
       "stream": "stdout",
       "text": [
        "\r",
        "  Downloading basemap-1.0.7.tar.gz (129.7MB):  28%  37.6MB\r",
        "  Downloading basemap-1.0.7.tar.gz (129.7MB):  28%  37.6MB\r",
        "  Downloading basemap-1.0.7.tar.gz (129.7MB):  28%  37.6MB\r",
        "  Downloading basemap-1.0.7.tar.gz (129.7MB):  28%  37.6MB\r",
        "  Downloading basemap-1.0.7.tar.gz (129.7MB):  28%  37.6MB\r",
        "  Downloading basemap-1.0.7.tar.gz (129.7MB):  28%  37.6MB"
       ]
      },
      {
       "output_type": "stream",
       "stream": "stdout",
       "text": [
        "\r",
        "  Downloading basemap-1.0.7.tar.gz (129.7MB):  28%  37.6MB\r",
        "  Downloading basemap-1.0.7.tar.gz (129.7MB):  28%  37.6MB\r",
        "  Downloading basemap-1.0.7.tar.gz (129.7MB):  28%  37.6MB\r",
        "  Downloading basemap-1.0.7.tar.gz (129.7MB):  28%  37.6MB"
       ]
      },
      {
       "output_type": "stream",
       "stream": "stdout",
       "text": [
        "\r",
        "  Downloading basemap-1.0.7.tar.gz (129.7MB):  28%  37.6MB\r",
        "  Downloading basemap-1.0.7.tar.gz (129.7MB):  28%  37.6MB"
       ]
      },
      {
       "output_type": "stream",
       "stream": "stdout",
       "text": [
        "\r",
        "  Downloading basemap-1.0.7.tar.gz (129.7MB):  28%  37.6MB\r",
        "  Downloading basemap-1.0.7.tar.gz (129.7MB):  28%  37.6MB\r",
        "  Downloading basemap-1.0.7.tar.gz (129.7MB):  29%  37.6MB\r",
        "  Downloading basemap-1.0.7.tar.gz (129.7MB):  29%  37.6MB\r",
        "  Downloading basemap-1.0.7.tar.gz (129.7MB):  29%  37.6MB\r",
        "  Downloading basemap-1.0.7.tar.gz (129.7MB):  29%  37.6MB\r",
        "  Downloading basemap-1.0.7.tar.gz (129.7MB):  29%  37.6MB"
       ]
      },
      {
       "output_type": "stream",
       "stream": "stdout",
       "text": [
        "\r",
        "  Downloading basemap-1.0.7.tar.gz (129.7MB):  29%  37.6MB\r",
        "  Downloading basemap-1.0.7.tar.gz (129.7MB):  29%  37.6MB\r",
        "  Downloading basemap-1.0.7.tar.gz (129.7MB):  29%  37.6MB\r",
        "  Downloading basemap-1.0.7.tar.gz (129.7MB):  29%  37.6MB\r",
        "  Downloading basemap-1.0.7.tar.gz (129.7MB):  29%  37.7MB\r",
        "  Downloading basemap-1.0.7.tar.gz (129.7MB):  29%  37.7MB\r",
        "  Downloading basemap-1.0.7.tar.gz (129.7MB):  29%  37.7MB"
       ]
      },
      {
       "output_type": "stream",
       "stream": "stdout",
       "text": [
        "\r",
        "  Downloading basemap-1.0.7.tar.gz (129.7MB):  29%  37.7MB\r",
        "  Downloading basemap-1.0.7.tar.gz (129.7MB):  29%  37.7MB\r",
        "  Downloading basemap-1.0.7.tar.gz (129.7MB):  29%  37.7MB\r",
        "  Downloading basemap-1.0.7.tar.gz (129.7MB):  29%  37.7MB\r",
        "  Downloading basemap-1.0.7.tar.gz (129.7MB):  29%  37.7MB"
       ]
      },
      {
       "output_type": "stream",
       "stream": "stdout",
       "text": [
        "\r",
        "  Downloading basemap-1.0.7.tar.gz (129.7MB):  29%  37.7MB\r",
        "  Downloading basemap-1.0.7.tar.gz (129.7MB):  29%  37.7MB"
       ]
      },
      {
       "output_type": "stream",
       "stream": "stdout",
       "text": [
        "\r",
        "  Downloading basemap-1.0.7.tar.gz (129.7MB):  29%  37.7MB"
       ]
      },
      {
       "output_type": "stream",
       "stream": "stdout",
       "text": [
        "\r",
        "  Downloading basemap-1.0.7.tar.gz (129.7MB):  29%  37.7MB\r",
        "  Downloading basemap-1.0.7.tar.gz (129.7MB):  29%  37.7MB\r",
        "  Downloading basemap-1.0.7.tar.gz (129.7MB):  29%  37.7MB\r",
        "  Downloading basemap-1.0.7.tar.gz (129.7MB):  29%  37.7MB\r",
        "  Downloading basemap-1.0.7.tar.gz (129.7MB):  29%  37.7MB\r",
        "  Downloading basemap-1.0.7.tar.gz (129.7MB):  29%  37.7MB"
       ]
      },
      {
       "output_type": "stream",
       "stream": "stdout",
       "text": [
        "\r",
        "  Downloading basemap-1.0.7.tar.gz (129.7MB):  29%  37.7MB\r",
        "  Downloading basemap-1.0.7.tar.gz (129.7MB):  29%  37.7MB\r",
        "  Downloading basemap-1.0.7.tar.gz (129.7MB):  29%  37.7MB\r",
        "  Downloading basemap-1.0.7.tar.gz (129.7MB):  29%  37.7MB\r",
        "  Downloading basemap-1.0.7.tar.gz (129.7MB):  29%  37.7MB\r",
        "  Downloading basemap-1.0.7.tar.gz (129.7MB):  29%  37.7MB\r",
        "  Downloading basemap-1.0.7.tar.gz (129.7MB):  29%  37.7MB\r",
        "  Downloading basemap-1.0.7.tar.gz (129.7MB):  29%  37.7MB"
       ]
      },
      {
       "output_type": "stream",
       "stream": "stdout",
       "text": [
        "\r",
        "  Downloading basemap-1.0.7.tar.gz (129.7MB):  29%  37.8MB\r",
        "  Downloading basemap-1.0.7.tar.gz (129.7MB):  29%  37.8MB\r",
        "  Downloading basemap-1.0.7.tar.gz (129.7MB):  29%  37.8MB\r",
        "  Downloading basemap-1.0.7.tar.gz (129.7MB):  29%  37.8MB"
       ]
      },
      {
       "output_type": "stream",
       "stream": "stdout",
       "text": [
        "\r",
        "  Downloading basemap-1.0.7.tar.gz (129.7MB):  29%  37.8MB\r",
        "  Downloading basemap-1.0.7.tar.gz (129.7MB):  29%  37.8MB\r",
        "  Downloading basemap-1.0.7.tar.gz (129.7MB):  29%  37.8MB\r",
        "  Downloading basemap-1.0.7.tar.gz (129.7MB):  29%  37.8MB"
       ]
      },
      {
       "output_type": "stream",
       "stream": "stdout",
       "text": [
        "\r",
        "  Downloading basemap-1.0.7.tar.gz (129.7MB):  29%  37.8MB"
       ]
      },
      {
       "output_type": "stream",
       "stream": "stdout",
       "text": [
        "\r",
        "  Downloading basemap-1.0.7.tar.gz (129.7MB):  29%  37.8MB\r",
        "  Downloading basemap-1.0.7.tar.gz (129.7MB):  29%  37.8MB\r",
        "  Downloading basemap-1.0.7.tar.gz (129.7MB):  29%  37.8MB\r",
        "  Downloading basemap-1.0.7.tar.gz (129.7MB):  29%  37.8MB\r",
        "  Downloading basemap-1.0.7.tar.gz (129.7MB):  29%  37.8MB\r",
        "  Downloading basemap-1.0.7.tar.gz (129.7MB):  29%  37.8MB\r",
        "  Downloading basemap-1.0.7.tar.gz (129.7MB):  29%  37.8MB\r",
        "  Downloading basemap-1.0.7.tar.gz (129.7MB):  29%  37.8MB"
       ]
      },
      {
       "output_type": "stream",
       "stream": "stdout",
       "text": [
        "\r",
        "  Downloading basemap-1.0.7.tar.gz (129.7MB):  29%  37.8MB\r",
        "  Downloading basemap-1.0.7.tar.gz (129.7MB):  29%  37.8MB\r",
        "  Downloading basemap-1.0.7.tar.gz (129.7MB):  29%  37.8MB\r",
        "  Downloading basemap-1.0.7.tar.gz (129.7MB):  29%  37.8MB\r",
        "  Downloading basemap-1.0.7.tar.gz (129.7MB):  29%  37.8MB\r",
        "  Downloading basemap-1.0.7.tar.gz (129.7MB):  29%  37.8MB\r",
        "  Downloading basemap-1.0.7.tar.gz (129.7MB):  29%  37.8MB\r",
        "  Downloading basemap-1.0.7.tar.gz (129.7MB):  29%  37.9MB"
       ]
      },
      {
       "output_type": "stream",
       "stream": "stdout",
       "text": [
        "\r",
        "  Downloading basemap-1.0.7.tar.gz (129.7MB):  29%  37.9MB\r",
        "  Downloading basemap-1.0.7.tar.gz (129.7MB):  29%  37.9MB\r",
        "  Downloading basemap-1.0.7.tar.gz (129.7MB):  29%  37.9MB\r",
        "  Downloading basemap-1.0.7.tar.gz (129.7MB):  29%  37.9MB\r",
        "  Downloading basemap-1.0.7.tar.gz (129.7MB):  29%  37.9MB\r",
        "  Downloading basemap-1.0.7.tar.gz (129.7MB):  29%  37.9MB\r",
        "  Downloading basemap-1.0.7.tar.gz (129.7MB):  29%  37.9MB"
       ]
      },
      {
       "output_type": "stream",
       "stream": "stdout",
       "text": [
        "\r",
        "  Downloading basemap-1.0.7.tar.gz (129.7MB):  29%  37.9MB\r",
        "  Downloading basemap-1.0.7.tar.gz (129.7MB):  29%  37.9MB"
       ]
      },
      {
       "output_type": "stream",
       "stream": "stdout",
       "text": [
        "\r",
        "  Downloading basemap-1.0.7.tar.gz (129.7MB):  29%  37.9MB\r",
        "  Downloading basemap-1.0.7.tar.gz (129.7MB):  29%  37.9MB\r",
        "  Downloading basemap-1.0.7.tar.gz (129.7MB):  29%  37.9MB"
       ]
      },
      {
       "output_type": "stream",
       "stream": "stdout",
       "text": [
        "\r",
        "  Downloading basemap-1.0.7.tar.gz (129.7MB):  29%  37.9MB\r",
        "  Downloading basemap-1.0.7.tar.gz (129.7MB):  29%  37.9MB\r",
        "  Downloading basemap-1.0.7.tar.gz (129.7MB):  29%  37.9MB\r",
        "  Downloading basemap-1.0.7.tar.gz (129.7MB):  29%  37.9MB\r",
        "  Downloading basemap-1.0.7.tar.gz (129.7MB):  29%  37.9MB\r",
        "  Downloading basemap-1.0.7.tar.gz (129.7MB):  29%  37.9MB\r",
        "  Downloading basemap-1.0.7.tar.gz (129.7MB):  29%  37.9MB"
       ]
      },
      {
       "output_type": "stream",
       "stream": "stdout",
       "text": [
        "\r",
        "  Downloading basemap-1.0.7.tar.gz (129.7MB):  29%  37.9MB\r",
        "  Downloading basemap-1.0.7.tar.gz (129.7MB):  29%  37.9MB\r",
        "  Downloading basemap-1.0.7.tar.gz (129.7MB):  29%  37.9MB\r",
        "  Downloading basemap-1.0.7.tar.gz (129.7MB):  29%  37.9MB\r",
        "  Downloading basemap-1.0.7.tar.gz (129.7MB):  29%  37.9MB\r",
        "  Downloading basemap-1.0.7.tar.gz (129.7MB):  29%  38.0MB\r",
        "  Downloading basemap-1.0.7.tar.gz (129.7MB):  29%  38.0MB\r",
        "  Downloading basemap-1.0.7.tar.gz (129.7MB):  29%  38.0MB\r",
        "  Downloading basemap-1.0.7.tar.gz (129.7MB):  29%  38.0MB\r",
        "  Downloading basemap-1.0.7.tar.gz (129.7MB):  29%  38.0MB"
       ]
      },
      {
       "output_type": "stream",
       "stream": "stdout",
       "text": [
        "\r",
        "  Downloading basemap-1.0.7.tar.gz (129.7MB):  29%  38.0MB\r",
        "  Downloading basemap-1.0.7.tar.gz (129.7MB):  29%  38.0MB\r",
        "  Downloading basemap-1.0.7.tar.gz (129.7MB):  29%  38.0MB\r",
        "  Downloading basemap-1.0.7.tar.gz (129.7MB):  29%  38.0MB\r",
        "  Downloading basemap-1.0.7.tar.gz (129.7MB):  29%  38.0MB\r",
        "  Downloading basemap-1.0.7.tar.gz (129.7MB):  29%  38.0MB"
       ]
      },
      {
       "output_type": "stream",
       "stream": "stdout",
       "text": [
        "\r",
        "  Downloading basemap-1.0.7.tar.gz (129.7MB):  29%  38.0MB\r",
        "  Downloading basemap-1.0.7.tar.gz (129.7MB):  29%  38.0MB\r",
        "  Downloading basemap-1.0.7.tar.gz (129.7MB):  29%  38.0MB\r",
        "  Downloading basemap-1.0.7.tar.gz (129.7MB):  29%  38.0MB"
       ]
      },
      {
       "output_type": "stream",
       "stream": "stdout",
       "text": [
        "\r",
        "  Downloading basemap-1.0.7.tar.gz (129.7MB):  29%  38.0MB\r",
        "  Downloading basemap-1.0.7.tar.gz (129.7MB):  29%  38.0MB\r",
        "  Downloading basemap-1.0.7.tar.gz (129.7MB):  29%  38.0MB"
       ]
      },
      {
       "output_type": "stream",
       "stream": "stdout",
       "text": [
        "\r",
        "  Downloading basemap-1.0.7.tar.gz (129.7MB):  29%  38.0MB\r",
        "  Downloading basemap-1.0.7.tar.gz (129.7MB):  29%  38.0MB\r",
        "  Downloading basemap-1.0.7.tar.gz (129.7MB):  29%  38.0MB\r",
        "  Downloading basemap-1.0.7.tar.gz (129.7MB):  29%  38.0MB\r",
        "  Downloading basemap-1.0.7.tar.gz (129.7MB):  29%  38.0MB\r",
        "  Downloading basemap-1.0.7.tar.gz (129.7MB):  29%  38.0MB\r",
        "  Downloading basemap-1.0.7.tar.gz (129.7MB):  29%  38.1MB"
       ]
      },
      {
       "output_type": "stream",
       "stream": "stdout",
       "text": [
        "\r",
        "  Downloading basemap-1.0.7.tar.gz (129.7MB):  29%  38.1MB\r",
        "  Downloading basemap-1.0.7.tar.gz (129.7MB):  29%  38.1MB\r",
        "  Downloading basemap-1.0.7.tar.gz (129.7MB):  29%  38.1MB\r",
        "  Downloading basemap-1.0.7.tar.gz (129.7MB):  29%  38.1MB\r",
        "  Downloading basemap-1.0.7.tar.gz (129.7MB):  29%  38.1MB\r",
        "  Downloading basemap-1.0.7.tar.gz (129.7MB):  29%  38.1MB\r",
        "  Downloading basemap-1.0.7.tar.gz (129.7MB):  29%  38.1MB\r",
        "  Downloading basemap-1.0.7.tar.gz (129.7MB):  29%  38.1MB\r",
        "  Downloading basemap-1.0.7.tar.gz (129.7MB):  29%  38.1MB\r",
        "  Downloading basemap-1.0.7.tar.gz (129.7MB):  29%  38.1MB"
       ]
      },
      {
       "output_type": "stream",
       "stream": "stdout",
       "text": [
        "\r",
        "  Downloading basemap-1.0.7.tar.gz (129.7MB):  29%  38.1MB\r",
        "  Downloading basemap-1.0.7.tar.gz (129.7MB):  29%  38.1MB\r",
        "  Downloading basemap-1.0.7.tar.gz (129.7MB):  29%  38.1MB\r",
        "  Downloading basemap-1.0.7.tar.gz (129.7MB):  29%  38.1MB\r",
        "  Downloading basemap-1.0.7.tar.gz (129.7MB):  29%  38.1MB\r",
        "  Downloading basemap-1.0.7.tar.gz (129.7MB):  29%  38.1MB\r",
        "  Downloading basemap-1.0.7.tar.gz (129.7MB):  29%  38.1MB\r",
        "  Downloading basemap-1.0.7.tar.gz (129.7MB):  29%  38.1MB\r",
        "  Downloading basemap-1.0.7.tar.gz (129.7MB):  29%  38.1MB"
       ]
      },
      {
       "output_type": "stream",
       "stream": "stdout",
       "text": [
        "\r",
        "  Downloading basemap-1.0.7.tar.gz (129.7MB):  29%  38.1MB\r",
        "  Downloading basemap-1.0.7.tar.gz (129.7MB):  29%  38.1MB\r",
        "  Downloading basemap-1.0.7.tar.gz (129.7MB):  29%  38.1MB\r",
        "  Downloading basemap-1.0.7.tar.gz (129.7MB):  29%  38.1MB\r",
        "  Downloading basemap-1.0.7.tar.gz (129.7MB):  29%  38.2MB\r",
        "  Downloading basemap-1.0.7.tar.gz (129.7MB):  29%  38.2MB\r",
        "  Downloading basemap-1.0.7.tar.gz (129.7MB):  29%  38.2MB\r",
        "  Downloading basemap-1.0.7.tar.gz (129.7MB):  29%  38.2MB\r",
        "  Downloading basemap-1.0.7.tar.gz (129.7MB):  29%  38.2MB\r",
        "  Downloading basemap-1.0.7.tar.gz (129.7MB):  29%  38.2MB\r",
        "  Downloading basemap-1.0.7.tar.gz (129.7MB):  29%  38.2MB\r",
        "  Downloading basemap-1.0.7.tar.gz (129.7MB):  29%  38.2MB"
       ]
      },
      {
       "output_type": "stream",
       "stream": "stdout",
       "text": [
        "\r",
        "  Downloading basemap-1.0.7.tar.gz (129.7MB):  29%  38.2MB\r",
        "  Downloading basemap-1.0.7.tar.gz (129.7MB):  29%  38.2MB\r",
        "  Downloading basemap-1.0.7.tar.gz (129.7MB):  29%  38.2MB\r",
        "  Downloading basemap-1.0.7.tar.gz (129.7MB):  29%  38.2MB\r",
        "  Downloading basemap-1.0.7.tar.gz (129.7MB):  29%  38.2MB"
       ]
      },
      {
       "output_type": "stream",
       "stream": "stdout",
       "text": [
        "\r",
        "  Downloading basemap-1.0.7.tar.gz (129.7MB):  29%  38.2MB\r",
        "  Downloading basemap-1.0.7.tar.gz (129.7MB):  29%  38.2MB\r",
        "  Downloading basemap-1.0.7.tar.gz (129.7MB):  29%  38.2MB\r",
        "  Downloading basemap-1.0.7.tar.gz (129.7MB):  29%  38.2MB\r",
        "  Downloading basemap-1.0.7.tar.gz (129.7MB):  29%  38.2MB\r",
        "  Downloading basemap-1.0.7.tar.gz (129.7MB):  29%  38.2MB"
       ]
      },
      {
       "output_type": "stream",
       "stream": "stdout",
       "text": [
        "\r",
        "  Downloading basemap-1.0.7.tar.gz (129.7MB):  29%  38.2MB"
       ]
      },
      {
       "output_type": "stream",
       "stream": "stdout",
       "text": [
        "\r",
        "  Downloading basemap-1.0.7.tar.gz (129.7MB):  29%  38.2MB\r",
        "  Downloading basemap-1.0.7.tar.gz (129.7MB):  29%  38.2MB\r",
        "  Downloading basemap-1.0.7.tar.gz (129.7MB):  29%  38.2MB\r",
        "  Downloading basemap-1.0.7.tar.gz (129.7MB):  29%  38.2MB\r",
        "  Downloading basemap-1.0.7.tar.gz (129.7MB):  29%  38.2MB\r",
        "  Downloading basemap-1.0.7.tar.gz (129.7MB):  29%  38.3MB"
       ]
      },
      {
       "output_type": "stream",
       "stream": "stdout",
       "text": [
        "\r",
        "  Downloading basemap-1.0.7.tar.gz (129.7MB):  29%  38.3MB\r",
        "  Downloading basemap-1.0.7.tar.gz (129.7MB):  29%  38.3MB\r",
        "  Downloading basemap-1.0.7.tar.gz (129.7MB):  29%  38.3MB\r",
        "  Downloading basemap-1.0.7.tar.gz (129.7MB):  29%  38.3MB\r",
        "  Downloading basemap-1.0.7.tar.gz (129.7MB):  29%  38.3MB\r",
        "  Downloading basemap-1.0.7.tar.gz (129.7MB):  29%  38.3MB\r",
        "  Downloading basemap-1.0.7.tar.gz (129.7MB):  29%  38.3MB"
       ]
      },
      {
       "output_type": "stream",
       "stream": "stdout",
       "text": [
        "\r",
        "  Downloading basemap-1.0.7.tar.gz (129.7MB):  29%  38.3MB\r",
        "  Downloading basemap-1.0.7.tar.gz (129.7MB):  29%  38.3MB\r",
        "  Downloading basemap-1.0.7.tar.gz (129.7MB):  29%  38.3MB\r",
        "  Downloading basemap-1.0.7.tar.gz (129.7MB):  29%  38.3MB\r",
        "  Downloading basemap-1.0.7.tar.gz (129.7MB):  29%  38.3MB\r",
        "  Downloading basemap-1.0.7.tar.gz (129.7MB):  29%  38.3MB\r",
        "  Downloading basemap-1.0.7.tar.gz (129.7MB):  29%  38.3MB"
       ]
      },
      {
       "output_type": "stream",
       "stream": "stdout",
       "text": [
        "\r",
        "  Downloading basemap-1.0.7.tar.gz (129.7MB):  29%  38.3MB\r",
        "  Downloading basemap-1.0.7.tar.gz (129.7MB):  29%  38.3MB\r",
        "  Downloading basemap-1.0.7.tar.gz (129.7MB):  29%  38.3MB"
       ]
      },
      {
       "output_type": "stream",
       "stream": "stdout",
       "text": [
        "\r",
        "  Downloading basemap-1.0.7.tar.gz (129.7MB):  29%  38.3MB\r",
        "  Downloading basemap-1.0.7.tar.gz (129.7MB):  29%  38.3MB\r",
        "  Downloading basemap-1.0.7.tar.gz (129.7MB):  29%  38.3MB\r",
        "  Downloading basemap-1.0.7.tar.gz (129.7MB):  29%  38.3MB\r",
        "  Downloading basemap-1.0.7.tar.gz (129.7MB):  29%  38.3MB"
       ]
      },
      {
       "output_type": "stream",
       "stream": "stdout",
       "text": [
        "\r",
        "  Downloading basemap-1.0.7.tar.gz (129.7MB):  29%  38.3MB\r",
        "  Downloading basemap-1.0.7.tar.gz (129.7MB):  29%  38.4MB\r",
        "  Downloading basemap-1.0.7.tar.gz (129.7MB):  29%  38.4MB\r",
        "  Downloading basemap-1.0.7.tar.gz (129.7MB):  29%  38.4MB\r",
        "  Downloading basemap-1.0.7.tar.gz (129.7MB):  29%  38.4MB\r",
        "  Downloading basemap-1.0.7.tar.gz (129.7MB):  29%  38.4MB\r",
        "  Downloading basemap-1.0.7.tar.gz (129.7MB):  29%  38.4MB\r",
        "  Downloading basemap-1.0.7.tar.gz (129.7MB):  29%  38.4MB"
       ]
      },
      {
       "output_type": "stream",
       "stream": "stdout",
       "text": [
        "\r",
        "  Downloading basemap-1.0.7.tar.gz (129.7MB):  29%  38.4MB\r",
        "  Downloading basemap-1.0.7.tar.gz (129.7MB):  29%  38.4MB\r",
        "  Downloading basemap-1.0.7.tar.gz (129.7MB):  29%  38.4MB\r",
        "  Downloading basemap-1.0.7.tar.gz (129.7MB):  29%  38.4MB\r",
        "  Downloading basemap-1.0.7.tar.gz (129.7MB):  29%  38.4MB\r",
        "  Downloading basemap-1.0.7.tar.gz (129.7MB):  29%  38.4MB\r",
        "  Downloading basemap-1.0.7.tar.gz (129.7MB):  29%  38.4MB\r",
        "  Downloading basemap-1.0.7.tar.gz (129.7MB):  29%  38.4MB\r",
        "  Downloading basemap-1.0.7.tar.gz (129.7MB):  29%  38.4MB"
       ]
      },
      {
       "output_type": "stream",
       "stream": "stdout",
       "text": [
        "\r",
        "  Downloading basemap-1.0.7.tar.gz (129.7MB):  29%  38.4MB\r",
        "  Downloading basemap-1.0.7.tar.gz (129.7MB):  29%  38.4MB\r",
        "  Downloading basemap-1.0.7.tar.gz (129.7MB):  29%  38.4MB\r",
        "  Downloading basemap-1.0.7.tar.gz (129.7MB):  29%  38.4MB\r",
        "  Downloading basemap-1.0.7.tar.gz (129.7MB):  29%  38.4MB"
       ]
      },
      {
       "output_type": "stream",
       "stream": "stdout",
       "text": [
        "\r",
        "  Downloading basemap-1.0.7.tar.gz (129.7MB):  29%  38.4MB\r",
        "  Downloading basemap-1.0.7.tar.gz (129.7MB):  29%  38.4MB\r",
        "  Downloading basemap-1.0.7.tar.gz (129.7MB):  29%  38.4MB"
       ]
      },
      {
       "output_type": "stream",
       "stream": "stdout",
       "text": [
        "\r",
        "  Downloading basemap-1.0.7.tar.gz (129.7MB):  29%  38.4MB\r",
        "  Downloading basemap-1.0.7.tar.gz (129.7MB):  29%  38.5MB\r",
        "  Downloading basemap-1.0.7.tar.gz (129.7MB):  29%  38.5MB\r",
        "  Downloading basemap-1.0.7.tar.gz (129.7MB):  29%  38.5MB\r",
        "  Downloading basemap-1.0.7.tar.gz (129.7MB):  29%  38.5MB\r",
        "  Downloading basemap-1.0.7.tar.gz (129.7MB):  29%  38.5MB\r",
        "  Downloading basemap-1.0.7.tar.gz (129.7MB):  29%  38.5MB\r",
        "  Downloading basemap-1.0.7.tar.gz (129.7MB):  29%  38.5MB"
       ]
      },
      {
       "output_type": "stream",
       "stream": "stdout",
       "text": [
        "\r",
        "  Downloading basemap-1.0.7.tar.gz (129.7MB):  29%  38.5MB\r",
        "  Downloading basemap-1.0.7.tar.gz (129.7MB):  29%  38.5MB\r",
        "  Downloading basemap-1.0.7.tar.gz (129.7MB):  29%  38.5MB\r",
        "  Downloading basemap-1.0.7.tar.gz (129.7MB):  29%  38.5MB\r",
        "  Downloading basemap-1.0.7.tar.gz (129.7MB):  29%  38.5MB\r",
        "  Downloading basemap-1.0.7.tar.gz (129.7MB):  29%  38.5MB\r",
        "  Downloading basemap-1.0.7.tar.gz (129.7MB):  29%  38.5MB\r",
        "  Downloading basemap-1.0.7.tar.gz (129.7MB):  29%  38.5MB\r",
        "  Downloading basemap-1.0.7.tar.gz (129.7MB):  29%  38.5MB"
       ]
      },
      {
       "output_type": "stream",
       "stream": "stdout",
       "text": [
        "\r",
        "  Downloading basemap-1.0.7.tar.gz (129.7MB):  29%  38.5MB\r",
        "  Downloading basemap-1.0.7.tar.gz (129.7MB):  29%  38.5MB\r",
        "  Downloading basemap-1.0.7.tar.gz (129.7MB):  29%  38.5MB\r",
        "  Downloading basemap-1.0.7.tar.gz (129.7MB):  29%  38.5MB\r",
        "  Downloading basemap-1.0.7.tar.gz (129.7MB):  29%  38.5MB\r",
        "  Downloading basemap-1.0.7.tar.gz (129.7MB):  29%  38.5MB\r",
        "  Downloading basemap-1.0.7.tar.gz (129.7MB):  29%  38.5MB"
       ]
      },
      {
       "output_type": "stream",
       "stream": "stdout",
       "text": [
        "\r",
        "  Downloading basemap-1.0.7.tar.gz (129.7MB):  29%  38.5MB\r",
        "  Downloading basemap-1.0.7.tar.gz (129.7MB):  29%  38.6MB"
       ]
      },
      {
       "output_type": "stream",
       "stream": "stdout",
       "text": [
        "\r",
        "  Downloading basemap-1.0.7.tar.gz (129.7MB):  29%  38.6MB\r",
        "  Downloading basemap-1.0.7.tar.gz (129.7MB):  29%  38.6MB\r",
        "  Downloading basemap-1.0.7.tar.gz (129.7MB):  29%  38.6MB\r",
        "  Downloading basemap-1.0.7.tar.gz (129.7MB):  29%  38.6MB\r",
        "  Downloading basemap-1.0.7.tar.gz (129.7MB):  29%  38.6MB\r",
        "  Downloading basemap-1.0.7.tar.gz (129.7MB):  29%  38.6MB\r",
        "  Downloading basemap-1.0.7.tar.gz (129.7MB):  29%  38.6MB\r",
        "  Downloading basemap-1.0.7.tar.gz (129.7MB):  29%  38.6MB\r",
        "  Downloading basemap-1.0.7.tar.gz (129.7MB):  29%  38.6MB\r",
        "  Downloading basemap-1.0.7.tar.gz (129.7MB):  29%  38.6MB"
       ]
      },
      {
       "output_type": "stream",
       "stream": "stdout",
       "text": [
        "\r",
        "  Downloading basemap-1.0.7.tar.gz (129.7MB):  29%  38.6MB\r",
        "  Downloading basemap-1.0.7.tar.gz (129.7MB):  29%  38.6MB\r",
        "  Downloading basemap-1.0.7.tar.gz (129.7MB):  29%  38.6MB\r",
        "  Downloading basemap-1.0.7.tar.gz (129.7MB):  29%  38.6MB\r",
        "  Downloading basemap-1.0.7.tar.gz (129.7MB):  29%  38.6MB\r",
        "  Downloading basemap-1.0.7.tar.gz (129.7MB):  29%  38.6MB\r",
        "  Downloading basemap-1.0.7.tar.gz (129.7MB):  29%  38.6MB\r",
        "  Downloading basemap-1.0.7.tar.gz (129.7MB):  29%  38.6MB\r",
        "  Downloading basemap-1.0.7.tar.gz (129.7MB):  29%  38.6MB\r",
        "  Downloading basemap-1.0.7.tar.gz (129.7MB):  29%  38.6MB"
       ]
      },
      {
       "output_type": "stream",
       "stream": "stdout",
       "text": [
        "\r",
        "  Downloading basemap-1.0.7.tar.gz (129.7MB):  29%  38.6MB\r",
        "  Downloading basemap-1.0.7.tar.gz (129.7MB):  29%  38.6MB\r",
        "  Downloading basemap-1.0.7.tar.gz (129.7MB):  29%  38.6MB\r",
        "  Downloading basemap-1.0.7.tar.gz (129.7MB):  29%  38.6MB\r",
        "  Downloading basemap-1.0.7.tar.gz (129.7MB):  29%  38.7MB\r",
        "  Downloading basemap-1.0.7.tar.gz (129.7MB):  29%  38.7MB\r",
        "  Downloading basemap-1.0.7.tar.gz (129.7MB):  29%  38.7MB\r",
        "  Downloading basemap-1.0.7.tar.gz (129.7MB):  29%  38.7MB\r",
        "  Downloading basemap-1.0.7.tar.gz (129.7MB):  29%  38.7MB\r",
        "  Downloading basemap-1.0.7.tar.gz (129.7MB):  29%  38.7MB"
       ]
      },
      {
       "output_type": "stream",
       "stream": "stdout",
       "text": [
        "\r",
        "  Downloading basemap-1.0.7.tar.gz (129.7MB):  29%  38.7MB\r",
        "  Downloading basemap-1.0.7.tar.gz (129.7MB):  29%  38.7MB\r",
        "  Downloading basemap-1.0.7.tar.gz (129.7MB):  29%  38.7MB\r",
        "  Downloading basemap-1.0.7.tar.gz (129.7MB):  29%  38.7MB\r",
        "  Downloading basemap-1.0.7.tar.gz (129.7MB):  29%  38.7MB\r",
        "  Downloading basemap-1.0.7.tar.gz (129.7MB):  29%  38.7MB\r",
        "  Downloading basemap-1.0.7.tar.gz (129.7MB):  29%  38.7MB\r",
        "  Downloading basemap-1.0.7.tar.gz (129.7MB):  29%  38.7MB\r",
        "  Downloading basemap-1.0.7.tar.gz (129.7MB):  29%  38.7MB\r",
        "  Downloading basemap-1.0.7.tar.gz (129.7MB):  29%  38.7MB\r",
        "  Downloading basemap-1.0.7.tar.gz (129.7MB):  29%  38.7MB"
       ]
      },
      {
       "output_type": "stream",
       "stream": "stdout",
       "text": [
        "\r",
        "  Downloading basemap-1.0.7.tar.gz (129.7MB):  29%  38.7MB\r",
        "  Downloading basemap-1.0.7.tar.gz (129.7MB):  29%  38.7MB\r",
        "  Downloading basemap-1.0.7.tar.gz (129.7MB):  29%  38.7MB\r",
        "  Downloading basemap-1.0.7.tar.gz (129.7MB):  29%  38.7MB\r",
        "  Downloading basemap-1.0.7.tar.gz (129.7MB):  29%  38.7MB\r",
        "  Downloading basemap-1.0.7.tar.gz (129.7MB):  29%  38.7MB\r",
        "  Downloading basemap-1.0.7.tar.gz (129.7MB):  29%  38.7MB\r",
        "  Downloading basemap-1.0.7.tar.gz (129.7MB):  29%  38.8MB\r",
        "  Downloading basemap-1.0.7.tar.gz (129.7MB):  29%  38.8MB\r",
        "  Downloading basemap-1.0.7.tar.gz (129.7MB):  29%  38.8MB\r",
        "  Downloading basemap-1.0.7.tar.gz (129.7MB):  29%  38.8MB\r",
        "  Downloading basemap-1.0.7.tar.gz (129.7MB):  29%  38.8MB"
       ]
      },
      {
       "output_type": "stream",
       "stream": "stdout",
       "text": [
        "\r",
        "  Downloading basemap-1.0.7.tar.gz (129.7MB):  29%  38.8MB\r",
        "  Downloading basemap-1.0.7.tar.gz (129.7MB):  29%  38.8MB\r",
        "  Downloading basemap-1.0.7.tar.gz (129.7MB):  29%  38.8MB"
       ]
      },
      {
       "output_type": "stream",
       "stream": "stdout",
       "text": [
        "\r",
        "  Downloading basemap-1.0.7.tar.gz (129.7MB):  29%  38.8MB"
       ]
      },
      {
       "output_type": "stream",
       "stream": "stdout",
       "text": [
        "\r",
        "  Downloading basemap-1.0.7.tar.gz (129.7MB):  29%  38.8MB\r",
        "  Downloading basemap-1.0.7.tar.gz (129.7MB):  29%  38.8MB\r",
        "  Downloading basemap-1.0.7.tar.gz (129.7MB):  29%  38.8MB\r",
        "  Downloading basemap-1.0.7.tar.gz (129.7MB):  29%  38.8MB\r",
        "  Downloading basemap-1.0.7.tar.gz (129.7MB):  29%  38.8MB"
       ]
      },
      {
       "output_type": "stream",
       "stream": "stdout",
       "text": [
        "\r",
        "  Downloading basemap-1.0.7.tar.gz (129.7MB):  29%  38.8MB\r",
        "  Downloading basemap-1.0.7.tar.gz (129.7MB):  29%  38.8MB\r",
        "  Downloading basemap-1.0.7.tar.gz (129.7MB):  29%  38.8MB\r",
        "  Downloading basemap-1.0.7.tar.gz (129.7MB):  29%  38.8MB\r",
        "  Downloading basemap-1.0.7.tar.gz (129.7MB):  29%  38.8MB\r",
        "  Downloading basemap-1.0.7.tar.gz (129.7MB):  29%  38.8MB"
       ]
      },
      {
       "output_type": "stream",
       "stream": "stdout",
       "text": [
        "\r",
        "  Downloading basemap-1.0.7.tar.gz (129.7MB):  29%  38.8MB\r",
        "  Downloading basemap-1.0.7.tar.gz (129.7MB):  29%  38.8MB\r",
        "  Downloading basemap-1.0.7.tar.gz (129.7MB):  29%  38.8MB\r",
        "  Downloading basemap-1.0.7.tar.gz (129.7MB):  29%  38.8MB\r",
        "  Downloading basemap-1.0.7.tar.gz (129.7MB):  29%  38.9MB"
       ]
      },
      {
       "output_type": "stream",
       "stream": "stdout",
       "text": [
        "\r",
        "  Downloading basemap-1.0.7.tar.gz (129.7MB):  29%  38.9MB\r",
        "  Downloading basemap-1.0.7.tar.gz (129.7MB):  29%  38.9MB"
       ]
      },
      {
       "output_type": "stream",
       "stream": "stdout",
       "text": [
        "\r",
        "  Downloading basemap-1.0.7.tar.gz (129.7MB):  29%  38.9MB\r",
        "  Downloading basemap-1.0.7.tar.gz (129.7MB):  29%  38.9MB\r",
        "  Downloading basemap-1.0.7.tar.gz (129.7MB):  29%  38.9MB\r",
        "  Downloading basemap-1.0.7.tar.gz (129.7MB):  29%  38.9MB\r",
        "  Downloading basemap-1.0.7.tar.gz (129.7MB):  29%  38.9MB"
       ]
      },
      {
       "output_type": "stream",
       "stream": "stdout",
       "text": [
        "\r",
        "  Downloading basemap-1.0.7.tar.gz (129.7MB):  29%  38.9MB\r",
        "  Downloading basemap-1.0.7.tar.gz (129.7MB):  29%  38.9MB\r",
        "  Downloading basemap-1.0.7.tar.gz (129.7MB):  29%  38.9MB\r",
        "  Downloading basemap-1.0.7.tar.gz (129.7MB):  29%  38.9MB\r",
        "  Downloading basemap-1.0.7.tar.gz (129.7MB):  29%  38.9MB\r",
        "  Downloading basemap-1.0.7.tar.gz (129.7MB):  29%  38.9MB"
       ]
      },
      {
       "output_type": "stream",
       "stream": "stdout",
       "text": [
        "\r",
        "  Downloading basemap-1.0.7.tar.gz (129.7MB):  29%  38.9MB\r",
        "  Downloading basemap-1.0.7.tar.gz (129.7MB):  30%  38.9MB\r",
        "  Downloading basemap-1.0.7.tar.gz (129.7MB):  30%  38.9MB\r",
        "  Downloading basemap-1.0.7.tar.gz (129.7MB):  30%  38.9MB\r",
        "  Downloading basemap-1.0.7.tar.gz (129.7MB):  30%  38.9MB\r",
        "  Downloading basemap-1.0.7.tar.gz (129.7MB):  30%  38.9MB\r",
        "  Downloading basemap-1.0.7.tar.gz (129.7MB):  30%  38.9MB"
       ]
      },
      {
       "output_type": "stream",
       "stream": "stdout",
       "text": [
        "\r",
        "  Downloading basemap-1.0.7.tar.gz (129.7MB):  30%  38.9MB\r",
        "  Downloading basemap-1.0.7.tar.gz (129.7MB):  30%  38.9MB"
       ]
      },
      {
       "output_type": "stream",
       "stream": "stdout",
       "text": [
        "\r",
        "  Downloading basemap-1.0.7.tar.gz (129.7MB):  30%  38.9MB\r",
        "  Downloading basemap-1.0.7.tar.gz (129.7MB):  30%  38.9MB\r",
        "  Downloading basemap-1.0.7.tar.gz (129.7MB):  30%  39.0MB\r",
        "  Downloading basemap-1.0.7.tar.gz (129.7MB):  30%  39.0MB\r",
        "  Downloading basemap-1.0.7.tar.gz (129.7MB):  30%  39.0MB"
       ]
      },
      {
       "output_type": "stream",
       "stream": "stdout",
       "text": [
        "\r",
        "  Downloading basemap-1.0.7.tar.gz (129.7MB):  30%  39.0MB\r",
        "  Downloading basemap-1.0.7.tar.gz (129.7MB):  30%  39.0MB\r",
        "  Downloading basemap-1.0.7.tar.gz (129.7MB):  30%  39.0MB\r",
        "  Downloading basemap-1.0.7.tar.gz (129.7MB):  30%  39.0MB\r",
        "  Downloading basemap-1.0.7.tar.gz (129.7MB):  30%  39.0MB\r",
        "  Downloading basemap-1.0.7.tar.gz (129.7MB):  30%  39.0MB\r",
        "  Downloading basemap-1.0.7.tar.gz (129.7MB):  30%  39.0MB"
       ]
      },
      {
       "output_type": "stream",
       "stream": "stdout",
       "text": [
        "\r",
        "  Downloading basemap-1.0.7.tar.gz (129.7MB):  30%  39.0MB\r",
        "  Downloading basemap-1.0.7.tar.gz (129.7MB):  30%  39.0MB\r",
        "  Downloading basemap-1.0.7.tar.gz (129.7MB):  30%  39.0MB\r",
        "  Downloading basemap-1.0.7.tar.gz (129.7MB):  30%  39.0MB\r",
        "  Downloading basemap-1.0.7.tar.gz (129.7MB):  30%  39.0MB\r",
        "  Downloading basemap-1.0.7.tar.gz (129.7MB):  30%  39.0MB\r",
        "  Downloading basemap-1.0.7.tar.gz (129.7MB):  30%  39.0MB\r",
        "  Downloading basemap-1.0.7.tar.gz (129.7MB):  30%  39.0MB"
       ]
      },
      {
       "output_type": "stream",
       "stream": "stdout",
       "text": [
        "\r",
        "  Downloading basemap-1.0.7.tar.gz (129.7MB):  30%  39.0MB\r",
        "  Downloading basemap-1.0.7.tar.gz (129.7MB):  30%  39.0MB\r",
        "  Downloading basemap-1.0.7.tar.gz (129.7MB):  30%  39.0MB\r",
        "  Downloading basemap-1.0.7.tar.gz (129.7MB):  30%  39.0MB"
       ]
      },
      {
       "output_type": "stream",
       "stream": "stdout",
       "text": [
        "\r",
        "  Downloading basemap-1.0.7.tar.gz (129.7MB):  30%  39.0MB\r",
        "  Downloading basemap-1.0.7.tar.gz (129.7MB):  30%  39.0MB\r",
        "  Downloading basemap-1.0.7.tar.gz (129.7MB):  30%  39.1MB\r",
        "  Downloading basemap-1.0.7.tar.gz (129.7MB):  30%  39.1MB"
       ]
      },
      {
       "output_type": "stream",
       "stream": "stdout",
       "text": [
        "\r",
        "  Downloading basemap-1.0.7.tar.gz (129.7MB):  30%  39.1MB\r",
        "  Downloading basemap-1.0.7.tar.gz (129.7MB):  30%  39.1MB\r",
        "  Downloading basemap-1.0.7.tar.gz (129.7MB):  30%  39.1MB\r",
        "  Downloading basemap-1.0.7.tar.gz (129.7MB):  30%  39.1MB\r",
        "  Downloading basemap-1.0.7.tar.gz (129.7MB):  30%  39.1MB\r",
        "  Downloading basemap-1.0.7.tar.gz (129.7MB):  30%  39.1MB\r",
        "  Downloading basemap-1.0.7.tar.gz (129.7MB):  30%  39.1MB\r",
        "  Downloading basemap-1.0.7.tar.gz (129.7MB):  30%  39.1MB\r",
        "  Downloading basemap-1.0.7.tar.gz (129.7MB):  30%  39.1MB"
       ]
      },
      {
       "output_type": "stream",
       "stream": "stdout",
       "text": [
        "\r",
        "  Downloading basemap-1.0.7.tar.gz (129.7MB):  30%  39.1MB\r",
        "  Downloading basemap-1.0.7.tar.gz (129.7MB):  30%  39.1MB\r",
        "  Downloading basemap-1.0.7.tar.gz (129.7MB):  30%  39.1MB\r",
        "  Downloading basemap-1.0.7.tar.gz (129.7MB):  30%  39.1MB\r",
        "  Downloading basemap-1.0.7.tar.gz (129.7MB):  30%  39.1MB\r",
        "  Downloading basemap-1.0.7.tar.gz (129.7MB):  30%  39.1MB\r",
        "  Downloading basemap-1.0.7.tar.gz (129.7MB):  30%  39.1MB\r",
        "  Downloading basemap-1.0.7.tar.gz (129.7MB):  30%  39.1MB"
       ]
      },
      {
       "output_type": "stream",
       "stream": "stdout",
       "text": [
        "\r",
        "  Downloading basemap-1.0.7.tar.gz (129.7MB):  30%  39.1MB\r",
        "  Downloading basemap-1.0.7.tar.gz (129.7MB):  30%  39.1MB\r",
        "  Downloading basemap-1.0.7.tar.gz (129.7MB):  30%  39.1MB\r",
        "  Downloading basemap-1.0.7.tar.gz (129.7MB):  30%  39.1MB\r",
        "  Downloading basemap-1.0.7.tar.gz (129.7MB):  30%  39.1MB"
       ]
      },
      {
       "output_type": "stream",
       "stream": "stdout",
       "text": [
        "\r",
        "  Downloading basemap-1.0.7.tar.gz (129.7MB):  30%  39.1MB\r",
        "  Downloading basemap-1.0.7.tar.gz (129.7MB):  30%  39.2MB\r",
        "  Downloading basemap-1.0.7.tar.gz (129.7MB):  30%  39.2MB\r",
        "  Downloading basemap-1.0.7.tar.gz (129.7MB):  30%  39.2MB"
       ]
      },
      {
       "output_type": "stream",
       "stream": "stdout",
       "text": [
        "\r",
        "  Downloading basemap-1.0.7.tar.gz (129.7MB):  30%  39.2MB"
       ]
      },
      {
       "output_type": "stream",
       "stream": "stdout",
       "text": [
        "\r",
        "  Downloading basemap-1.0.7.tar.gz (129.7MB):  30%  39.2MB\r",
        "  Downloading basemap-1.0.7.tar.gz (129.7MB):  30%  39.2MB\r",
        "  Downloading basemap-1.0.7.tar.gz (129.7MB):  30%  39.2MB\r",
        "  Downloading basemap-1.0.7.tar.gz (129.7MB):  30%  39.2MB\r",
        "  Downloading basemap-1.0.7.tar.gz (129.7MB):  30%  39.2MB\r",
        "  Downloading basemap-1.0.7.tar.gz (129.7MB):  30%  39.2MB\r",
        "  Downloading basemap-1.0.7.tar.gz (129.7MB):  30%  39.2MB\r",
        "  Downloading basemap-1.0.7.tar.gz (129.7MB):  30%  39.2MB\r",
        "  Downloading basemap-1.0.7.tar.gz (129.7MB):  30%  39.2MB"
       ]
      },
      {
       "output_type": "stream",
       "stream": "stdout",
       "text": [
        "\r",
        "  Downloading basemap-1.0.7.tar.gz (129.7MB):  30%  39.2MB\r",
        "  Downloading basemap-1.0.7.tar.gz (129.7MB):  30%  39.2MB\r",
        "  Downloading basemap-1.0.7.tar.gz (129.7MB):  30%  39.2MB\r",
        "  Downloading basemap-1.0.7.tar.gz (129.7MB):  30%  39.2MB\r",
        "  Downloading basemap-1.0.7.tar.gz (129.7MB):  30%  39.2MB\r",
        "  Downloading basemap-1.0.7.tar.gz (129.7MB):  30%  39.2MB\r",
        "  Downloading basemap-1.0.7.tar.gz (129.7MB):  30%  39.2MB\r",
        "  Downloading basemap-1.0.7.tar.gz (129.7MB):  30%  39.2MB\r",
        "  Downloading basemap-1.0.7.tar.gz (129.7MB):  30%  39.2MB\r",
        "  Downloading basemap-1.0.7.tar.gz (129.7MB):  30%  39.2MB"
       ]
      },
      {
       "output_type": "stream",
       "stream": "stdout",
       "text": [
        "\r",
        "  Downloading basemap-1.0.7.tar.gz (129.7MB):  30%  39.2MB\r",
        "  Downloading basemap-1.0.7.tar.gz (129.7MB):  30%  39.3MB\r",
        "  Downloading basemap-1.0.7.tar.gz (129.7MB):  30%  39.3MB\r",
        "  Downloading basemap-1.0.7.tar.gz (129.7MB):  30%  39.3MB\r",
        "  Downloading basemap-1.0.7.tar.gz (129.7MB):  30%  39.3MB"
       ]
      },
      {
       "output_type": "stream",
       "stream": "stdout",
       "text": [
        "\r",
        "  Downloading basemap-1.0.7.tar.gz (129.7MB):  30%  39.3MB\r",
        "  Downloading basemap-1.0.7.tar.gz (129.7MB):  30%  39.3MB\r",
        "  Downloading basemap-1.0.7.tar.gz (129.7MB):  30%  39.3MB\r",
        "  Downloading basemap-1.0.7.tar.gz (129.7MB):  30%  39.3MB\r",
        "  Downloading basemap-1.0.7.tar.gz (129.7MB):  30%  39.3MB"
       ]
      },
      {
       "output_type": "stream",
       "stream": "stdout",
       "text": [
        "\r",
        "  Downloading basemap-1.0.7.tar.gz (129.7MB):  30%  39.3MB\r",
        "  Downloading basemap-1.0.7.tar.gz (129.7MB):  30%  39.3MB\r",
        "  Downloading basemap-1.0.7.tar.gz (129.7MB):  30%  39.3MB"
       ]
      },
      {
       "output_type": "stream",
       "stream": "stdout",
       "text": [
        "\r",
        "  Downloading basemap-1.0.7.tar.gz (129.7MB):  30%  39.3MB\r",
        "  Downloading basemap-1.0.7.tar.gz (129.7MB):  30%  39.3MB\r",
        "  Downloading basemap-1.0.7.tar.gz (129.7MB):  30%  39.3MB\r",
        "  Downloading basemap-1.0.7.tar.gz (129.7MB):  30%  39.3MB\r",
        "  Downloading basemap-1.0.7.tar.gz (129.7MB):  30%  39.3MB\r",
        "  Downloading basemap-1.0.7.tar.gz (129.7MB):  30%  39.3MB\r",
        "  Downloading basemap-1.0.7.tar.gz (129.7MB):  30%  39.3MB"
       ]
      },
      {
       "output_type": "stream",
       "stream": "stdout",
       "text": [
        "\r",
        "  Downloading basemap-1.0.7.tar.gz (129.7MB):  30%  39.3MB\r",
        "  Downloading basemap-1.0.7.tar.gz (129.7MB):  30%  39.3MB\r",
        "  Downloading basemap-1.0.7.tar.gz (129.7MB):  30%  39.3MB\r",
        "  Downloading basemap-1.0.7.tar.gz (129.7MB):  30%  39.3MB\r",
        "  Downloading basemap-1.0.7.tar.gz (129.7MB):  30%  39.3MB\r",
        "  Downloading basemap-1.0.7.tar.gz (129.7MB):  30%  39.4MB\r",
        "  Downloading basemap-1.0.7.tar.gz (129.7MB):  30%  39.4MB\r",
        "  Downloading basemap-1.0.7.tar.gz (129.7MB):  30%  39.4MB\r",
        "  Downloading basemap-1.0.7.tar.gz (129.7MB):  30%  39.4MB\r",
        "  Downloading basemap-1.0.7.tar.gz (129.7MB):  30%  39.4MB"
       ]
      },
      {
       "output_type": "stream",
       "stream": "stdout",
       "text": [
        "\r",
        "  Downloading basemap-1.0.7.tar.gz (129.7MB):  30%  39.4MB\r",
        "  Downloading basemap-1.0.7.tar.gz (129.7MB):  30%  39.4MB\r",
        "  Downloading basemap-1.0.7.tar.gz (129.7MB):  30%  39.4MB\r",
        "  Downloading basemap-1.0.7.tar.gz (129.7MB):  30%  39.4MB\r",
        "  Downloading basemap-1.0.7.tar.gz (129.7MB):  30%  39.4MB\r",
        "  Downloading basemap-1.0.7.tar.gz (129.7MB):  30%  39.4MB\r",
        "  Downloading basemap-1.0.7.tar.gz (129.7MB):  30%  39.4MB\r",
        "  Downloading basemap-1.0.7.tar.gz (129.7MB):  30%  39.4MB"
       ]
      },
      {
       "output_type": "stream",
       "stream": "stdout",
       "text": [
        "\r",
        "  Downloading basemap-1.0.7.tar.gz (129.7MB):  30%  39.4MB\r",
        "  Downloading basemap-1.0.7.tar.gz (129.7MB):  30%  39.4MB\r",
        "  Downloading basemap-1.0.7.tar.gz (129.7MB):  30%  39.4MB"
       ]
      },
      {
       "output_type": "stream",
       "stream": "stdout",
       "text": [
        "\r",
        "  Downloading basemap-1.0.7.tar.gz (129.7MB):  30%  39.4MB\r",
        "  Downloading basemap-1.0.7.tar.gz (129.7MB):  30%  39.4MB\r",
        "  Downloading basemap-1.0.7.tar.gz (129.7MB):  30%  39.4MB\r",
        "  Downloading basemap-1.0.7.tar.gz (129.7MB):  30%  39.4MB"
       ]
      },
      {
       "output_type": "stream",
       "stream": "stdout",
       "text": [
        "\r",
        "  Downloading basemap-1.0.7.tar.gz (129.7MB):  30%  39.4MB\r",
        "  Downloading basemap-1.0.7.tar.gz (129.7MB):  30%  39.4MB\r",
        "  Downloading basemap-1.0.7.tar.gz (129.7MB):  30%  39.4MB\r",
        "  Downloading basemap-1.0.7.tar.gz (129.7MB):  30%  39.4MB\r",
        "  Downloading basemap-1.0.7.tar.gz (129.7MB):  30%  39.4MB\r",
        "  Downloading basemap-1.0.7.tar.gz (129.7MB):  30%  39.5MB\r",
        "  Downloading basemap-1.0.7.tar.gz (129.7MB):  30%  39.5MB"
       ]
      },
      {
       "output_type": "stream",
       "stream": "stdout",
       "text": [
        "\r",
        "  Downloading basemap-1.0.7.tar.gz (129.7MB):  30%  39.5MB\r",
        "  Downloading basemap-1.0.7.tar.gz (129.7MB):  30%  39.5MB\r",
        "  Downloading basemap-1.0.7.tar.gz (129.7MB):  30%  39.5MB\r",
        "  Downloading basemap-1.0.7.tar.gz (129.7MB):  30%  39.5MB\r",
        "  Downloading basemap-1.0.7.tar.gz (129.7MB):  30%  39.5MB\r",
        "  Downloading basemap-1.0.7.tar.gz (129.7MB):  30%  39.5MB\r",
        "  Downloading basemap-1.0.7.tar.gz (129.7MB):  30%  39.5MB\r",
        "  Downloading basemap-1.0.7.tar.gz (129.7MB):  30%  39.5MB\r",
        "  Downloading basemap-1.0.7.tar.gz (129.7MB):  30%  39.5MB\r",
        "  Downloading basemap-1.0.7.tar.gz (129.7MB):  30%  39.5MB\r",
        "  Downloading basemap-1.0.7.tar.gz (129.7MB):  30%  39.5MB\r",
        "  Downloading basemap-1.0.7.tar.gz (129.7MB):  30%  39.5MB"
       ]
      },
      {
       "output_type": "stream",
       "stream": "stdout",
       "text": [
        "\r",
        "  Downloading basemap-1.0.7.tar.gz (129.7MB):  30%  39.5MB\r",
        "  Downloading basemap-1.0.7.tar.gz (129.7MB):  30%  39.5MB\r",
        "  Downloading basemap-1.0.7.tar.gz (129.7MB):  30%  39.5MB\r",
        "  Downloading basemap-1.0.7.tar.gz (129.7MB):  30%  39.5MB\r",
        "  Downloading basemap-1.0.7.tar.gz (129.7MB):  30%  39.5MB\r",
        "  Downloading basemap-1.0.7.tar.gz (129.7MB):  30%  39.5MB\r",
        "  Downloading basemap-1.0.7.tar.gz (129.7MB):  30%  39.5MB\r",
        "  Downloading basemap-1.0.7.tar.gz (129.7MB):  30%  39.5MB\r",
        "  Downloading basemap-1.0.7.tar.gz (129.7MB):  30%  39.5MB\r",
        "  Downloading basemap-1.0.7.tar.gz (129.7MB):  30%  39.5MB\r",
        "  Downloading basemap-1.0.7.tar.gz (129.7MB):  30%  39.6MB"
       ]
      },
      {
       "output_type": "stream",
       "stream": "stdout",
       "text": [
        "\r",
        "  Downloading basemap-1.0.7.tar.gz (129.7MB):  30%  39.6MB\r",
        "  Downloading basemap-1.0.7.tar.gz (129.7MB):  30%  39.6MB\r",
        "  Downloading basemap-1.0.7.tar.gz (129.7MB):  30%  39.6MB\r",
        "  Downloading basemap-1.0.7.tar.gz (129.7MB):  30%  39.6MB\r",
        "  Downloading basemap-1.0.7.tar.gz (129.7MB):  30%  39.6MB\r",
        "  Downloading basemap-1.0.7.tar.gz (129.7MB):  30%  39.6MB\r",
        "  Downloading basemap-1.0.7.tar.gz (129.7MB):  30%  39.6MB"
       ]
      },
      {
       "output_type": "stream",
       "stream": "stdout",
       "text": [
        "\r",
        "  Downloading basemap-1.0.7.tar.gz (129.7MB):  30%  39.6MB\r",
        "  Downloading basemap-1.0.7.tar.gz (129.7MB):  30%  39.6MB\r",
        "  Downloading basemap-1.0.7.tar.gz (129.7MB):  30%  39.6MB\r",
        "  Downloading basemap-1.0.7.tar.gz (129.7MB):  30%  39.6MB\r",
        "  Downloading basemap-1.0.7.tar.gz (129.7MB):  30%  39.6MB"
       ]
      },
      {
       "output_type": "stream",
       "stream": "stdout",
       "text": [
        "\r",
        "  Downloading basemap-1.0.7.tar.gz (129.7MB):  30%  39.6MB\r",
        "  Downloading basemap-1.0.7.tar.gz (129.7MB):  30%  39.6MB"
       ]
      },
      {
       "output_type": "stream",
       "stream": "stdout",
       "text": [
        "\r",
        "  Downloading basemap-1.0.7.tar.gz (129.7MB):  30%  39.6MB\r",
        "  Downloading basemap-1.0.7.tar.gz (129.7MB):  30%  39.6MB\r",
        "  Downloading basemap-1.0.7.tar.gz (129.7MB):  30%  39.6MB\r",
        "  Downloading basemap-1.0.7.tar.gz (129.7MB):  30%  39.6MB\r",
        "  Downloading basemap-1.0.7.tar.gz (129.7MB):  30%  39.6MB\r",
        "  Downloading basemap-1.0.7.tar.gz (129.7MB):  30%  39.6MB\r",
        "  Downloading basemap-1.0.7.tar.gz (129.7MB):  30%  39.6MB\r",
        "  Downloading basemap-1.0.7.tar.gz (129.7MB):  30%  39.6MB\r",
        "  Downloading basemap-1.0.7.tar.gz (129.7MB):  30%  39.6MB\r",
        "  Downloading basemap-1.0.7.tar.gz (129.7MB):  30%  39.6MB\r",
        "  Downloading basemap-1.0.7.tar.gz (129.7MB):  30%  39.7MB"
       ]
      },
      {
       "output_type": "stream",
       "stream": "stdout",
       "text": [
        "\r",
        "  Downloading basemap-1.0.7.tar.gz (129.7MB):  30%  39.7MB\r",
        "  Downloading basemap-1.0.7.tar.gz (129.7MB):  30%  39.7MB\r",
        "  Downloading basemap-1.0.7.tar.gz (129.7MB):  30%  39.7MB\r",
        "  Downloading basemap-1.0.7.tar.gz (129.7MB):  30%  39.7MB\r",
        "  Downloading basemap-1.0.7.tar.gz (129.7MB):  30%  39.7MB\r",
        "  Downloading basemap-1.0.7.tar.gz (129.7MB):  30%  39.7MB\r",
        "  Downloading basemap-1.0.7.tar.gz (129.7MB):  30%  39.7MB\r",
        "  Downloading basemap-1.0.7.tar.gz (129.7MB):  30%  39.7MB\r",
        "  Downloading basemap-1.0.7.tar.gz (129.7MB):  30%  39.7MB\r",
        "  Downloading basemap-1.0.7.tar.gz (129.7MB):  30%  39.7MB\r",
        "  Downloading basemap-1.0.7.tar.gz (129.7MB):  30%  39.7MB\r",
        "  Downloading basemap-1.0.7.tar.gz (129.7MB):  30%  39.7MB\r",
        "  Downloading basemap-1.0.7.tar.gz (129.7MB):  30%  39.7MB"
       ]
      },
      {
       "output_type": "stream",
       "stream": "stdout",
       "text": [
        "\r",
        "  Downloading basemap-1.0.7.tar.gz (129.7MB):  30%  39.7MB\r",
        "  Downloading basemap-1.0.7.tar.gz (129.7MB):  30%  39.7MB\r",
        "  Downloading basemap-1.0.7.tar.gz (129.7MB):  30%  39.7MB\r",
        "  Downloading basemap-1.0.7.tar.gz (129.7MB):  30%  39.7MB\r",
        "  Downloading basemap-1.0.7.tar.gz (129.7MB):  30%  39.7MB\r",
        "  Downloading basemap-1.0.7.tar.gz (129.7MB):  30%  39.7MB\r",
        "  Downloading basemap-1.0.7.tar.gz (129.7MB):  30%  39.7MB"
       ]
      },
      {
       "output_type": "stream",
       "stream": "stdout",
       "text": [
        "\r",
        "  Downloading basemap-1.0.7.tar.gz (129.7MB):  30%  39.7MB\r",
        "  Downloading basemap-1.0.7.tar.gz (129.7MB):  30%  39.7MB\r",
        "  Downloading basemap-1.0.7.tar.gz (129.7MB):  30%  39.7MB"
       ]
      },
      {
       "output_type": "stream",
       "stream": "stdout",
       "text": [
        "\r",
        "  Downloading basemap-1.0.7.tar.gz (129.7MB):  30%  39.8MB\r",
        "  Downloading basemap-1.0.7.tar.gz (129.7MB):  30%  39.8MB\r",
        "  Downloading basemap-1.0.7.tar.gz (129.7MB):  30%  39.8MB\r",
        "  Downloading basemap-1.0.7.tar.gz (129.7MB):  30%  39.8MB\r",
        "  Downloading basemap-1.0.7.tar.gz (129.7MB):  30%  39.8MB\r",
        "  Downloading basemap-1.0.7.tar.gz (129.7MB):  30%  39.8MB\r",
        "  Downloading basemap-1.0.7.tar.gz (129.7MB):  30%  39.8MB\r",
        "  Downloading basemap-1.0.7.tar.gz (129.7MB):  30%  39.8MB\r",
        "  Downloading basemap-1.0.7.tar.gz (129.7MB):  30%  39.8MB\r",
        "  Downloading basemap-1.0.7.tar.gz (129.7MB):  30%  39.8MB\r",
        "  Downloading basemap-1.0.7.tar.gz (129.7MB):  30%  39.8MB\r",
        "  Downloading basemap-1.0.7.tar.gz (129.7MB):  30%  39.8MB\r",
        "  Downloading basemap-1.0.7.tar.gz (129.7MB):  30%  39.8MB\r",
        "  Downloading basemap-1.0.7.tar.gz (129.7MB):  30%  39.8MB"
       ]
      },
      {
       "output_type": "stream",
       "stream": "stdout",
       "text": [
        "\r",
        "  Downloading basemap-1.0.7.tar.gz (129.7MB):  30%  39.8MB\r",
        "  Downloading basemap-1.0.7.tar.gz (129.7MB):  30%  39.8MB\r",
        "  Downloading basemap-1.0.7.tar.gz (129.7MB):  30%  39.8MB\r",
        "  Downloading basemap-1.0.7.tar.gz (129.7MB):  30%  39.8MB\r",
        "  Downloading basemap-1.0.7.tar.gz (129.7MB):  30%  39.8MB\r",
        "  Downloading basemap-1.0.7.tar.gz (129.7MB):  30%  39.8MB\r",
        "  Downloading basemap-1.0.7.tar.gz (129.7MB):  30%  39.8MB"
       ]
      },
      {
       "output_type": "stream",
       "stream": "stdout",
       "text": [
        "\r",
        "  Downloading basemap-1.0.7.tar.gz (129.7MB):  30%  39.8MB\r",
        "  Downloading basemap-1.0.7.tar.gz (129.7MB):  30%  39.8MB\r",
        "  Downloading basemap-1.0.7.tar.gz (129.7MB):  30%  39.8MB"
       ]
      },
      {
       "output_type": "stream",
       "stream": "stdout",
       "text": [
        "\r",
        "  Downloading basemap-1.0.7.tar.gz (129.7MB):  30%  39.8MB\r",
        "  Downloading basemap-1.0.7.tar.gz (129.7MB):  30%  39.9MB\r",
        "  Downloading basemap-1.0.7.tar.gz (129.7MB):  30%  39.9MB"
       ]
      },
      {
       "output_type": "stream",
       "stream": "stdout",
       "text": [
        "\r",
        "  Downloading basemap-1.0.7.tar.gz (129.7MB):  30%  39.9MB\r",
        "  Downloading basemap-1.0.7.tar.gz (129.7MB):  30%  39.9MB\r",
        "  Downloading basemap-1.0.7.tar.gz (129.7MB):  30%  39.9MB\r",
        "  Downloading basemap-1.0.7.tar.gz (129.7MB):  30%  39.9MB\r",
        "  Downloading basemap-1.0.7.tar.gz (129.7MB):  30%  39.9MB\r",
        "  Downloading basemap-1.0.7.tar.gz (129.7MB):  30%  39.9MB\r",
        "  Downloading basemap-1.0.7.tar.gz (129.7MB):  30%  39.9MB\r",
        "  Downloading basemap-1.0.7.tar.gz (129.7MB):  30%  39.9MB"
       ]
      },
      {
       "output_type": "stream",
       "stream": "stdout",
       "text": [
        "\r",
        "  Downloading basemap-1.0.7.tar.gz (129.7MB):  30%  39.9MB\r",
        "  Downloading basemap-1.0.7.tar.gz (129.7MB):  30%  39.9MB\r",
        "  Downloading basemap-1.0.7.tar.gz (129.7MB):  30%  39.9MB\r",
        "  Downloading basemap-1.0.7.tar.gz (129.7MB):  30%  39.9MB\r",
        "  Downloading basemap-1.0.7.tar.gz (129.7MB):  30%  39.9MB\r",
        "  Downloading basemap-1.0.7.tar.gz (129.7MB):  30%  39.9MB\r",
        "  Downloading basemap-1.0.7.tar.gz (129.7MB):  30%  39.9MB"
       ]
      },
      {
       "output_type": "stream",
       "stream": "stdout",
       "text": [
        "\r",
        "  Downloading basemap-1.0.7.tar.gz (129.7MB):  30%  39.9MB\r",
        "  Downloading basemap-1.0.7.tar.gz (129.7MB):  30%  39.9MB\r",
        "  Downloading basemap-1.0.7.tar.gz (129.7MB):  30%  39.9MB\r",
        "  Downloading basemap-1.0.7.tar.gz (129.7MB):  30%  39.9MB\r",
        "  Downloading basemap-1.0.7.tar.gz (129.7MB):  30%  39.9MB"
       ]
      },
      {
       "output_type": "stream",
       "stream": "stdout",
       "text": [
        "\r",
        "  Downloading basemap-1.0.7.tar.gz (129.7MB):  30%  39.9MB\r",
        "  Downloading basemap-1.0.7.tar.gz (129.7MB):  30%  39.9MB\r",
        "  Downloading basemap-1.0.7.tar.gz (129.7MB):  30%  40.0MB"
       ]
      },
      {
       "output_type": "stream",
       "stream": "stdout",
       "text": [
        "\r",
        "  Downloading basemap-1.0.7.tar.gz (129.7MB):  30%  40.0MB\r",
        "  Downloading basemap-1.0.7.tar.gz (129.7MB):  30%  40.0MB"
       ]
      },
      {
       "output_type": "stream",
       "stream": "stdout",
       "text": [
        "\r",
        "  Downloading basemap-1.0.7.tar.gz (129.7MB):  30%  40.0MB\r",
        "  Downloading basemap-1.0.7.tar.gz (129.7MB):  30%  40.0MB\r",
        "  Downloading basemap-1.0.7.tar.gz (129.7MB):  30%  40.0MB\r",
        "  Downloading basemap-1.0.7.tar.gz (129.7MB):  30%  40.0MB\r",
        "  Downloading basemap-1.0.7.tar.gz (129.7MB):  30%  40.0MB\r",
        "  Downloading basemap-1.0.7.tar.gz (129.7MB):  30%  40.0MB\r",
        "  Downloading basemap-1.0.7.tar.gz (129.7MB):  30%  40.0MB"
       ]
      },
      {
       "output_type": "stream",
       "stream": "stdout",
       "text": [
        "\r",
        "  Downloading basemap-1.0.7.tar.gz (129.7MB):  30%  40.0MB\r",
        "  Downloading basemap-1.0.7.tar.gz (129.7MB):  30%  40.0MB\r",
        "  Downloading basemap-1.0.7.tar.gz (129.7MB):  30%  40.0MB\r",
        "  Downloading basemap-1.0.7.tar.gz (129.7MB):  30%  40.0MB\r",
        "  Downloading basemap-1.0.7.tar.gz (129.7MB):  30%  40.0MB\r",
        "  Downloading basemap-1.0.7.tar.gz (129.7MB):  30%  40.0MB\r",
        "  Downloading basemap-1.0.7.tar.gz (129.7MB):  30%  40.0MB\r",
        "  Downloading basemap-1.0.7.tar.gz (129.7MB):  30%  40.0MB"
       ]
      },
      {
       "output_type": "stream",
       "stream": "stdout",
       "text": [
        "\r",
        "  Downloading basemap-1.0.7.tar.gz (129.7MB):  30%  40.0MB\r",
        "  Downloading basemap-1.0.7.tar.gz (129.7MB):  30%  40.0MB\r",
        "  Downloading basemap-1.0.7.tar.gz (129.7MB):  30%  40.0MB\r",
        "  Downloading basemap-1.0.7.tar.gz (129.7MB):  30%  40.0MB\r",
        "  Downloading basemap-1.0.7.tar.gz (129.7MB):  30%  40.0MB\r",
        "  Downloading basemap-1.0.7.tar.gz (129.7MB):  30%  40.0MB"
       ]
      },
      {
       "output_type": "stream",
       "stream": "stdout",
       "text": [
        "\r",
        "  Downloading basemap-1.0.7.tar.gz (129.7MB):  30%  40.1MB\r",
        "  Downloading basemap-1.0.7.tar.gz (129.7MB):  30%  40.1MB\r",
        "  Downloading basemap-1.0.7.tar.gz (129.7MB):  30%  40.1MB"
       ]
      },
      {
       "output_type": "stream",
       "stream": "stdout",
       "text": [
        "\r",
        "  Downloading basemap-1.0.7.tar.gz (129.7MB):  30%  40.1MB\r",
        "  Downloading basemap-1.0.7.tar.gz (129.7MB):  30%  40.1MB\r",
        "  Downloading basemap-1.0.7.tar.gz (129.7MB):  30%  40.1MB"
       ]
      },
      {
       "output_type": "stream",
       "stream": "stdout",
       "text": [
        "\r",
        "  Downloading basemap-1.0.7.tar.gz (129.7MB):  30%  40.1MB\r",
        "  Downloading basemap-1.0.7.tar.gz (129.7MB):  30%  40.1MB\r",
        "  Downloading basemap-1.0.7.tar.gz (129.7MB):  30%  40.1MB\r",
        "  Downloading basemap-1.0.7.tar.gz (129.7MB):  30%  40.1MB\r",
        "  Downloading basemap-1.0.7.tar.gz (129.7MB):  30%  40.1MB\r",
        "  Downloading basemap-1.0.7.tar.gz (129.7MB):  30%  40.1MB"
       ]
      },
      {
       "output_type": "stream",
       "stream": "stdout",
       "text": [
        "\r",
        "  Downloading basemap-1.0.7.tar.gz (129.7MB):  30%  40.1MB\r",
        "  Downloading basemap-1.0.7.tar.gz (129.7MB):  30%  40.1MB\r",
        "  Downloading basemap-1.0.7.tar.gz (129.7MB):  30%  40.1MB\r",
        "  Downloading basemap-1.0.7.tar.gz (129.7MB):  30%  40.1MB\r",
        "  Downloading basemap-1.0.7.tar.gz (129.7MB):  30%  40.1MB\r",
        "  Downloading basemap-1.0.7.tar.gz (129.7MB):  30%  40.1MB\r",
        "  Downloading basemap-1.0.7.tar.gz (129.7MB):  30%  40.1MB\r",
        "  Downloading basemap-1.0.7.tar.gz (129.7MB):  30%  40.1MB\r",
        "  Downloading basemap-1.0.7.tar.gz (129.7MB):  30%  40.1MB\r",
        "  Downloading basemap-1.0.7.tar.gz (129.7MB):  30%  40.1MB"
       ]
      },
      {
       "output_type": "stream",
       "stream": "stdout",
       "text": [
        "\r",
        "  Downloading basemap-1.0.7.tar.gz (129.7MB):  30%  40.1MB\r",
        "  Downloading basemap-1.0.7.tar.gz (129.7MB):  30%  40.1MB\r",
        "  Downloading basemap-1.0.7.tar.gz (129.7MB):  30%  40.1MB\r",
        "  Downloading basemap-1.0.7.tar.gz (129.7MB):  30%  40.2MB\r",
        "  Downloading basemap-1.0.7.tar.gz (129.7MB):  30%  40.2MB\r",
        "  Downloading basemap-1.0.7.tar.gz (129.7MB):  30%  40.2MB\r",
        "  Downloading basemap-1.0.7.tar.gz (129.7MB):  30%  40.2MB\r",
        "  Downloading basemap-1.0.7.tar.gz (129.7MB):  30%  40.2MB"
       ]
      },
      {
       "output_type": "stream",
       "stream": "stdout",
       "text": [
        "\r",
        "  Downloading basemap-1.0.7.tar.gz (129.7MB):  30%  40.2MB"
       ]
      },
      {
       "output_type": "stream",
       "stream": "stdout",
       "text": [
        "\r",
        "  Downloading basemap-1.0.7.tar.gz (129.7MB):  30%  40.2MB"
       ]
      },
      {
       "output_type": "stream",
       "stream": "stdout",
       "text": [
        "\r",
        "  Downloading basemap-1.0.7.tar.gz (129.7MB):  30%  40.2MB\r",
        "  Downloading basemap-1.0.7.tar.gz (129.7MB):  30%  40.2MB\r",
        "  Downloading basemap-1.0.7.tar.gz (129.7MB):  30%  40.2MB\r",
        "  Downloading basemap-1.0.7.tar.gz (129.7MB):  30%  40.2MB\r",
        "  Downloading basemap-1.0.7.tar.gz (129.7MB):  30%  40.2MB\r",
        "  Downloading basemap-1.0.7.tar.gz (129.7MB):  30%  40.2MB\r",
        "  Downloading basemap-1.0.7.tar.gz (129.7MB):  31%  40.2MB\r",
        "  Downloading basemap-1.0.7.tar.gz (129.7MB):  31%  40.2MB\r",
        "  Downloading basemap-1.0.7.tar.gz (129.7MB):  31%  40.2MB"
       ]
      },
      {
       "output_type": "stream",
       "stream": "stdout",
       "text": [
        "\r",
        "  Downloading basemap-1.0.7.tar.gz (129.7MB):  31%  40.2MB\r",
        "  Downloading basemap-1.0.7.tar.gz (129.7MB):  31%  40.2MB\r",
        "  Downloading basemap-1.0.7.tar.gz (129.7MB):  31%  40.2MB\r",
        "  Downloading basemap-1.0.7.tar.gz (129.7MB):  31%  40.2MB\r",
        "  Downloading basemap-1.0.7.tar.gz (129.7MB):  31%  40.2MB\r",
        "  Downloading basemap-1.0.7.tar.gz (129.7MB):  31%  40.2MB\r",
        "  Downloading basemap-1.0.7.tar.gz (129.7MB):  31%  40.2MB\r",
        "  Downloading basemap-1.0.7.tar.gz (129.7MB):  31%  40.2MB\r",
        "  Downloading basemap-1.0.7.tar.gz (129.7MB):  31%  40.3MB\r",
        "  Downloading basemap-1.0.7.tar.gz (129.7MB):  31%  40.3MB"
       ]
      },
      {
       "output_type": "stream",
       "stream": "stdout",
       "text": [
        "\r",
        "  Downloading basemap-1.0.7.tar.gz (129.7MB):  31%  40.3MB\r",
        "  Downloading basemap-1.0.7.tar.gz (129.7MB):  31%  40.3MB\r",
        "  Downloading basemap-1.0.7.tar.gz (129.7MB):  31%  40.3MB\r",
        "  Downloading basemap-1.0.7.tar.gz (129.7MB):  31%  40.3MB"
       ]
      },
      {
       "output_type": "stream",
       "stream": "stdout",
       "text": [
        "\r",
        "  Downloading basemap-1.0.7.tar.gz (129.7MB):  31%  40.3MB\r",
        "  Downloading basemap-1.0.7.tar.gz (129.7MB):  31%  40.3MB\r",
        "  Downloading basemap-1.0.7.tar.gz (129.7MB):  31%  40.3MB\r",
        "  Downloading basemap-1.0.7.tar.gz (129.7MB):  31%  40.3MB\r",
        "  Downloading basemap-1.0.7.tar.gz (129.7MB):  31%  40.3MB\r",
        "  Downloading basemap-1.0.7.tar.gz (129.7MB):  31%  40.3MB\r",
        "  Downloading basemap-1.0.7.tar.gz (129.7MB):  31%  40.3MB"
       ]
      },
      {
       "output_type": "stream",
       "stream": "stdout",
       "text": [
        "\r",
        "  Downloading basemap-1.0.7.tar.gz (129.7MB):  31%  40.3MB"
       ]
      },
      {
       "output_type": "stream",
       "stream": "stdout",
       "text": [
        "\r",
        "  Downloading basemap-1.0.7.tar.gz (129.7MB):  31%  40.3MB\r",
        "  Downloading basemap-1.0.7.tar.gz (129.7MB):  31%  40.3MB\r",
        "  Downloading basemap-1.0.7.tar.gz (129.7MB):  31%  40.3MB\r",
        "  Downloading basemap-1.0.7.tar.gz (129.7MB):  31%  40.3MB\r",
        "  Downloading basemap-1.0.7.tar.gz (129.7MB):  31%  40.3MB\r",
        "  Downloading basemap-1.0.7.tar.gz (129.7MB):  31%  40.3MB\r",
        "  Downloading basemap-1.0.7.tar.gz (129.7MB):  31%  40.3MB\r",
        "  Downloading basemap-1.0.7.tar.gz (129.7MB):  31%  40.3MB\r",
        "  Downloading basemap-1.0.7.tar.gz (129.7MB):  31%  40.3MB"
       ]
      },
      {
       "output_type": "stream",
       "stream": "stdout",
       "text": [
        "\r",
        "  Downloading basemap-1.0.7.tar.gz (129.7MB):  31%  40.3MB"
       ]
      },
      {
       "output_type": "stream",
       "stream": "stdout",
       "text": [
        "\r",
        "  Downloading basemap-1.0.7.tar.gz (129.7MB):  31%  40.3MB\r",
        "  Downloading basemap-1.0.7.tar.gz (129.7MB):  31%  40.4MB\r",
        "  Downloading basemap-1.0.7.tar.gz (129.7MB):  31%  40.4MB\r",
        "  Downloading basemap-1.0.7.tar.gz (129.7MB):  31%  40.4MB\r",
        "  Downloading basemap-1.0.7.tar.gz (129.7MB):  31%  40.4MB\r",
        "  Downloading basemap-1.0.7.tar.gz (129.7MB):  31%  40.4MB\r",
        "  Downloading basemap-1.0.7.tar.gz (129.7MB):  31%  40.4MB\r",
        "  Downloading basemap-1.0.7.tar.gz (129.7MB):  31%  40.4MB\r",
        "  Downloading basemap-1.0.7.tar.gz (129.7MB):  31%  40.4MB\r",
        "  Downloading basemap-1.0.7.tar.gz (129.7MB):  31%  40.4MB"
       ]
      },
      {
       "output_type": "stream",
       "stream": "stdout",
       "text": [
        "\r",
        "  Downloading basemap-1.0.7.tar.gz (129.7MB):  31%  40.4MB\r",
        "  Downloading basemap-1.0.7.tar.gz (129.7MB):  31%  40.4MB\r",
        "  Downloading basemap-1.0.7.tar.gz (129.7MB):  31%  40.4MB\r",
        "  Downloading basemap-1.0.7.tar.gz (129.7MB):  31%  40.4MB\r",
        "  Downloading basemap-1.0.7.tar.gz (129.7MB):  31%  40.4MB\r",
        "  Downloading basemap-1.0.7.tar.gz (129.7MB):  31%  40.4MB"
       ]
      },
      {
       "output_type": "stream",
       "stream": "stdout",
       "text": [
        "\r",
        "  Downloading basemap-1.0.7.tar.gz (129.7MB):  31%  40.4MB\r",
        "  Downloading basemap-1.0.7.tar.gz (129.7MB):  31%  40.4MB\r",
        "  Downloading basemap-1.0.7.tar.gz (129.7MB):  31%  40.4MB\r",
        "  Downloading basemap-1.0.7.tar.gz (129.7MB):  31%  40.4MB\r",
        "  Downloading basemap-1.0.7.tar.gz (129.7MB):  31%  40.4MB\r",
        "  Downloading basemap-1.0.7.tar.gz (129.7MB):  31%  40.4MB"
       ]
      },
      {
       "output_type": "stream",
       "stream": "stdout",
       "text": [
        "\r",
        "  Downloading basemap-1.0.7.tar.gz (129.7MB):  31%  40.4MB\r",
        "  Downloading basemap-1.0.7.tar.gz (129.7MB):  31%  40.4MB"
       ]
      },
      {
       "output_type": "stream",
       "stream": "stdout",
       "text": [
        "\r",
        "  Downloading basemap-1.0.7.tar.gz (129.7MB):  31%  40.4MB\r",
        "  Downloading basemap-1.0.7.tar.gz (129.7MB):  31%  40.5MB\r",
        "  Downloading basemap-1.0.7.tar.gz (129.7MB):  31%  40.5MB\r",
        "  Downloading basemap-1.0.7.tar.gz (129.7MB):  31%  40.5MB\r",
        "  Downloading basemap-1.0.7.tar.gz (129.7MB):  31%  40.5MB\r",
        "  Downloading basemap-1.0.7.tar.gz (129.7MB):  31%  40.5MB\r",
        "  Downloading basemap-1.0.7.tar.gz (129.7MB):  31%  40.5MB\r",
        "  Downloading basemap-1.0.7.tar.gz (129.7MB):  31%  40.5MB\r",
        "  Downloading basemap-1.0.7.tar.gz (129.7MB):  31%  40.5MB"
       ]
      },
      {
       "output_type": "stream",
       "stream": "stdout",
       "text": [
        "\r",
        "  Downloading basemap-1.0.7.tar.gz (129.7MB):  31%  40.5MB\r",
        "  Downloading basemap-1.0.7.tar.gz (129.7MB):  31%  40.5MB"
       ]
      },
      {
       "output_type": "stream",
       "stream": "stdout",
       "text": [
        "\r",
        "  Downloading basemap-1.0.7.tar.gz (129.7MB):  31%  40.5MB\r",
        "  Downloading basemap-1.0.7.tar.gz (129.7MB):  31%  40.5MB\r",
        "  Downloading basemap-1.0.7.tar.gz (129.7MB):  31%  40.5MB\r",
        "  Downloading basemap-1.0.7.tar.gz (129.7MB):  31%  40.5MB\r",
        "  Downloading basemap-1.0.7.tar.gz (129.7MB):  31%  40.5MB\r",
        "  Downloading basemap-1.0.7.tar.gz (129.7MB):  31%  40.5MB\r",
        "  Downloading basemap-1.0.7.tar.gz (129.7MB):  31%  40.5MB\r",
        "  Downloading basemap-1.0.7.tar.gz (129.7MB):  31%  40.5MB\r",
        "  Downloading basemap-1.0.7.tar.gz (129.7MB):  31%  40.5MB\r",
        "  Downloading basemap-1.0.7.tar.gz (129.7MB):  31%  40.5MB"
       ]
      },
      {
       "output_type": "stream",
       "stream": "stdout",
       "text": [
        "\r",
        "  Downloading basemap-1.0.7.tar.gz (129.7MB):  31%  40.5MB\r",
        "  Downloading basemap-1.0.7.tar.gz (129.7MB):  31%  40.5MB\r",
        "  Downloading basemap-1.0.7.tar.gz (129.7MB):  31%  40.5MB\r",
        "  Downloading basemap-1.0.7.tar.gz (129.7MB):  31%  40.5MB\r",
        "  Downloading basemap-1.0.7.tar.gz (129.7MB):  31%  40.6MB\r",
        "  Downloading basemap-1.0.7.tar.gz (129.7MB):  31%  40.6MB\r",
        "  Downloading basemap-1.0.7.tar.gz (129.7MB):  31%  40.6MB"
       ]
      },
      {
       "output_type": "stream",
       "stream": "stdout",
       "text": [
        "\r",
        "  Downloading basemap-1.0.7.tar.gz (129.7MB):  31%  40.6MB\r",
        "  Downloading basemap-1.0.7.tar.gz (129.7MB):  31%  40.6MB\r",
        "  Downloading basemap-1.0.7.tar.gz (129.7MB):  31%  40.6MB\r",
        "  Downloading basemap-1.0.7.tar.gz (129.7MB):  31%  40.6MB"
       ]
      },
      {
       "output_type": "stream",
       "stream": "stdout",
       "text": [
        "\r",
        "  Downloading basemap-1.0.7.tar.gz (129.7MB):  31%  40.6MB\r",
        "  Downloading basemap-1.0.7.tar.gz (129.7MB):  31%  40.6MB\r",
        "  Downloading basemap-1.0.7.tar.gz (129.7MB):  31%  40.6MB\r",
        "  Downloading basemap-1.0.7.tar.gz (129.7MB):  31%  40.6MB\r",
        "  Downloading basemap-1.0.7.tar.gz (129.7MB):  31%  40.6MB"
       ]
      },
      {
       "output_type": "stream",
       "stream": "stdout",
       "text": [
        "\r",
        "  Downloading basemap-1.0.7.tar.gz (129.7MB):  31%  40.6MB\r",
        "  Downloading basemap-1.0.7.tar.gz (129.7MB):  31%  40.6MB\r",
        "  Downloading basemap-1.0.7.tar.gz (129.7MB):  31%  40.6MB\r",
        "  Downloading basemap-1.0.7.tar.gz (129.7MB):  31%  40.6MB\r",
        "  Downloading basemap-1.0.7.tar.gz (129.7MB):  31%  40.6MB"
       ]
      },
      {
       "output_type": "stream",
       "stream": "stdout",
       "text": [
        "\r",
        "  Downloading basemap-1.0.7.tar.gz (129.7MB):  31%  40.6MB\r",
        "  Downloading basemap-1.0.7.tar.gz (129.7MB):  31%  40.6MB\r",
        "  Downloading basemap-1.0.7.tar.gz (129.7MB):  31%  40.6MB\r",
        "  Downloading basemap-1.0.7.tar.gz (129.7MB):  31%  40.6MB\r",
        "  Downloading basemap-1.0.7.tar.gz (129.7MB):  31%  40.6MB\r",
        "  Downloading basemap-1.0.7.tar.gz (129.7MB):  31%  40.6MB"
       ]
      },
      {
       "output_type": "stream",
       "stream": "stdout",
       "text": [
        "\r",
        "  Downloading basemap-1.0.7.tar.gz (129.7MB):  31%  40.6MB\r",
        "  Downloading basemap-1.0.7.tar.gz (129.7MB):  31%  40.6MB\r",
        "  Downloading basemap-1.0.7.tar.gz (129.7MB):  31%  40.7MB\r",
        "  Downloading basemap-1.0.7.tar.gz (129.7MB):  31%  40.7MB\r",
        "  Downloading basemap-1.0.7.tar.gz (129.7MB):  31%  40.7MB\r",
        "  Downloading basemap-1.0.7.tar.gz (129.7MB):  31%  40.7MB"
       ]
      },
      {
       "output_type": "stream",
       "stream": "stdout",
       "text": [
        "\r",
        "  Downloading basemap-1.0.7.tar.gz (129.7MB):  31%  40.7MB"
       ]
      },
      {
       "output_type": "stream",
       "stream": "stdout",
       "text": [
        "\r",
        "  Downloading basemap-1.0.7.tar.gz (129.7MB):  31%  40.7MB\r",
        "  Downloading basemap-1.0.7.tar.gz (129.7MB):  31%  40.7MB\r",
        "  Downloading basemap-1.0.7.tar.gz (129.7MB):  31%  40.7MB\r",
        "  Downloading basemap-1.0.7.tar.gz (129.7MB):  31%  40.7MB\r",
        "  Downloading basemap-1.0.7.tar.gz (129.7MB):  31%  40.7MB\r",
        "  Downloading basemap-1.0.7.tar.gz (129.7MB):  31%  40.7MB\r",
        "  Downloading basemap-1.0.7.tar.gz (129.7MB):  31%  40.7MB\r",
        "  Downloading basemap-1.0.7.tar.gz (129.7MB):  31%  40.7MB\r",
        "  Downloading basemap-1.0.7.tar.gz (129.7MB):  31%  40.7MB\r",
        "  Downloading basemap-1.0.7.tar.gz (129.7MB):  31%  40.7MB\r",
        "  Downloading basemap-1.0.7.tar.gz (129.7MB):  31%  40.7MB"
       ]
      },
      {
       "output_type": "stream",
       "stream": "stdout",
       "text": [
        "\r",
        "  Downloading basemap-1.0.7.tar.gz (129.7MB):  31%  40.7MB\r",
        "  Downloading basemap-1.0.7.tar.gz (129.7MB):  31%  40.7MB\r",
        "  Downloading basemap-1.0.7.tar.gz (129.7MB):  31%  40.7MB\r",
        "  Downloading basemap-1.0.7.tar.gz (129.7MB):  31%  40.7MB\r",
        "  Downloading basemap-1.0.7.tar.gz (129.7MB):  31%  40.7MB"
       ]
      },
      {
       "output_type": "stream",
       "stream": "stdout",
       "text": [
        "\r",
        "  Downloading basemap-1.0.7.tar.gz (129.7MB):  31%  40.7MB\r",
        "  Downloading basemap-1.0.7.tar.gz (129.7MB):  31%  40.7MB\r",
        "  Downloading basemap-1.0.7.tar.gz (129.7MB):  31%  40.7MB\r",
        "  Downloading basemap-1.0.7.tar.gz (129.7MB):  31%  40.8MB\r",
        "  Downloading basemap-1.0.7.tar.gz (129.7MB):  31%  40.8MB\r",
        "  Downloading basemap-1.0.7.tar.gz (129.7MB):  31%  40.8MB"
       ]
      },
      {
       "output_type": "stream",
       "stream": "stdout",
       "text": [
        "\r",
        "  Downloading basemap-1.0.7.tar.gz (129.7MB):  31%  40.8MB\r",
        "  Downloading basemap-1.0.7.tar.gz (129.7MB):  31%  40.8MB\r",
        "  Downloading basemap-1.0.7.tar.gz (129.7MB):  31%  40.8MB\r",
        "  Downloading basemap-1.0.7.tar.gz (129.7MB):  31%  40.8MB\r",
        "  Downloading basemap-1.0.7.tar.gz (129.7MB):  31%  40.8MB\r",
        "  Downloading basemap-1.0.7.tar.gz (129.7MB):  31%  40.8MB\r",
        "  Downloading basemap-1.0.7.tar.gz (129.7MB):  31%  40.8MB"
       ]
      },
      {
       "output_type": "stream",
       "stream": "stdout",
       "text": [
        "\r",
        "  Downloading basemap-1.0.7.tar.gz (129.7MB):  31%  40.8MB\r",
        "  Downloading basemap-1.0.7.tar.gz (129.7MB):  31%  40.8MB"
       ]
      },
      {
       "output_type": "stream",
       "stream": "stdout",
       "text": [
        "\r",
        "  Downloading basemap-1.0.7.tar.gz (129.7MB):  31%  40.8MB\r",
        "  Downloading basemap-1.0.7.tar.gz (129.7MB):  31%  40.8MB\r",
        "  Downloading basemap-1.0.7.tar.gz (129.7MB):  31%  40.8MB\r",
        "  Downloading basemap-1.0.7.tar.gz (129.7MB):  31%  40.8MB\r",
        "  Downloading basemap-1.0.7.tar.gz (129.7MB):  31%  40.8MB\r",
        "  Downloading basemap-1.0.7.tar.gz (129.7MB):  31%  40.8MB\r",
        "  Downloading basemap-1.0.7.tar.gz (129.7MB):  31%  40.8MB\r",
        "  Downloading basemap-1.0.7.tar.gz (129.7MB):  31%  40.8MB\r",
        "  Downloading basemap-1.0.7.tar.gz (129.7MB):  31%  40.8MB\r",
        "  Downloading basemap-1.0.7.tar.gz (129.7MB):  31%  40.8MB\r",
        "  Downloading basemap-1.0.7.tar.gz (129.7MB):  31%  40.8MB"
       ]
      },
      {
       "output_type": "stream",
       "stream": "stdout",
       "text": [
        "\r",
        "  Downloading basemap-1.0.7.tar.gz (129.7MB):  31%  40.8MB"
       ]
      },
      {
       "output_type": "stream",
       "stream": "stdout",
       "text": [
        "\r",
        "  Downloading basemap-1.0.7.tar.gz (129.7MB):  31%  40.8MB\r",
        "  Downloading basemap-1.0.7.tar.gz (129.7MB):  31%  40.9MB\r",
        "  Downloading basemap-1.0.7.tar.gz (129.7MB):  31%  40.9MB\r",
        "  Downloading basemap-1.0.7.tar.gz (129.7MB):  31%  40.9MB\r",
        "  Downloading basemap-1.0.7.tar.gz (129.7MB):  31%  40.9MB\r",
        "  Downloading basemap-1.0.7.tar.gz (129.7MB):  31%  40.9MB\r",
        "  Downloading basemap-1.0.7.tar.gz (129.7MB):  31%  40.9MB\r",
        "  Downloading basemap-1.0.7.tar.gz (129.7MB):  31%  40.9MB\r",
        "  Downloading basemap-1.0.7.tar.gz (129.7MB):  31%  40.9MB\r",
        "  Downloading basemap-1.0.7.tar.gz (129.7MB):  31%  40.9MB"
       ]
      },
      {
       "output_type": "stream",
       "stream": "stdout",
       "text": [
        "\r",
        "  Downloading basemap-1.0.7.tar.gz (129.7MB):  31%  40.9MB\r",
        "  Downloading basemap-1.0.7.tar.gz (129.7MB):  31%  40.9MB"
       ]
      },
      {
       "output_type": "stream",
       "stream": "stdout",
       "text": [
        "\r",
        "  Downloading basemap-1.0.7.tar.gz (129.7MB):  31%  40.9MB\r",
        "  Downloading basemap-1.0.7.tar.gz (129.7MB):  31%  40.9MB\r",
        "  Downloading basemap-1.0.7.tar.gz (129.7MB):  31%  40.9MB\r",
        "  Downloading basemap-1.0.7.tar.gz (129.7MB):  31%  40.9MB\r",
        "  Downloading basemap-1.0.7.tar.gz (129.7MB):  31%  40.9MB\r",
        "  Downloading basemap-1.0.7.tar.gz (129.7MB):  31%  40.9MB\r",
        "  Downloading basemap-1.0.7.tar.gz (129.7MB):  31%  40.9MB\r",
        "  Downloading basemap-1.0.7.tar.gz (129.7MB):  31%  40.9MB\r",
        "  Downloading basemap-1.0.7.tar.gz (129.7MB):  31%  40.9MB"
       ]
      },
      {
       "output_type": "stream",
       "stream": "stdout",
       "text": [
        "\r",
        "  Downloading basemap-1.0.7.tar.gz (129.7MB):  31%  40.9MB\r",
        "  Downloading basemap-1.0.7.tar.gz (129.7MB):  31%  40.9MB\r",
        "  Downloading basemap-1.0.7.tar.gz (129.7MB):  31%  40.9MB\r",
        "  Downloading basemap-1.0.7.tar.gz (129.7MB):  31%  40.9MB\r",
        "  Downloading basemap-1.0.7.tar.gz (129.7MB):  31%  41.0MB"
       ]
      },
      {
       "output_type": "stream",
       "stream": "stdout",
       "text": [
        "\r",
        "  Downloading basemap-1.0.7.tar.gz (129.7MB):  31%  41.0MB\r",
        "  Downloading basemap-1.0.7.tar.gz (129.7MB):  31%  41.0MB\r",
        "  Downloading basemap-1.0.7.tar.gz (129.7MB):  31%  41.0MB\r",
        "  Downloading basemap-1.0.7.tar.gz (129.7MB):  31%  41.0MB\r",
        "  Downloading basemap-1.0.7.tar.gz (129.7MB):  31%  41.0MB\r",
        "  Downloading basemap-1.0.7.tar.gz (129.7MB):  31%  41.0MB"
       ]
      },
      {
       "output_type": "stream",
       "stream": "stdout",
       "text": [
        "\r",
        "  Downloading basemap-1.0.7.tar.gz (129.7MB):  31%  41.0MB\r",
        "  Downloading basemap-1.0.7.tar.gz (129.7MB):  31%  41.0MB\r",
        "  Downloading basemap-1.0.7.tar.gz (129.7MB):  31%  41.0MB\r",
        "  Downloading basemap-1.0.7.tar.gz (129.7MB):  31%  41.0MB\r",
        "  Downloading basemap-1.0.7.tar.gz (129.7MB):  31%  41.0MB\r",
        "  Downloading basemap-1.0.7.tar.gz (129.7MB):  31%  41.0MB\r",
        "  Downloading basemap-1.0.7.tar.gz (129.7MB):  31%  41.0MB\r",
        "  Downloading basemap-1.0.7.tar.gz (129.7MB):  31%  41.0MB"
       ]
      },
      {
       "output_type": "stream",
       "stream": "stdout",
       "text": [
        "\r",
        "  Downloading basemap-1.0.7.tar.gz (129.7MB):  31%  41.0MB\r",
        "  Downloading basemap-1.0.7.tar.gz (129.7MB):  31%  41.0MB\r",
        "  Downloading basemap-1.0.7.tar.gz (129.7MB):  31%  41.0MB"
       ]
      },
      {
       "output_type": "stream",
       "stream": "stdout",
       "text": [
        "\r",
        "  Downloading basemap-1.0.7.tar.gz (129.7MB):  31%  41.0MB\r",
        "  Downloading basemap-1.0.7.tar.gz (129.7MB):  31%  41.0MB\r",
        "  Downloading basemap-1.0.7.tar.gz (129.7MB):  31%  41.0MB\r",
        "  Downloading basemap-1.0.7.tar.gz (129.7MB):  31%  41.0MB\r",
        "  Downloading basemap-1.0.7.tar.gz (129.7MB):  31%  41.0MB\r",
        "  Downloading basemap-1.0.7.tar.gz (129.7MB):  31%  41.0MB\r",
        "  Downloading basemap-1.0.7.tar.gz (129.7MB):  31%  41.1MB\r",
        "  Downloading basemap-1.0.7.tar.gz (129.7MB):  31%  41.1MB\r",
        "  Downloading basemap-1.0.7.tar.gz (129.7MB):  31%  41.1MB"
       ]
      },
      {
       "output_type": "stream",
       "stream": "stdout",
       "text": [
        "\r",
        "  Downloading basemap-1.0.7.tar.gz (129.7MB):  31%  41.1MB"
       ]
      },
      {
       "output_type": "stream",
       "stream": "stdout",
       "text": [
        "\r",
        "  Downloading basemap-1.0.7.tar.gz (129.7MB):  31%  41.1MB\r",
        "  Downloading basemap-1.0.7.tar.gz (129.7MB):  31%  41.1MB\r",
        "  Downloading basemap-1.0.7.tar.gz (129.7MB):  31%  41.1MB\r",
        "  Downloading basemap-1.0.7.tar.gz (129.7MB):  31%  41.1MB\r",
        "  Downloading basemap-1.0.7.tar.gz (129.7MB):  31%  41.1MB\r",
        "  Downloading basemap-1.0.7.tar.gz (129.7MB):  31%  41.1MB\r",
        "  Downloading basemap-1.0.7.tar.gz (129.7MB):  31%  41.1MB\r",
        "  Downloading basemap-1.0.7.tar.gz (129.7MB):  31%  41.1MB\r",
        "  Downloading basemap-1.0.7.tar.gz (129.7MB):  31%  41.1MB\r",
        "  Downloading basemap-1.0.7.tar.gz (129.7MB):  31%  41.1MB\r",
        "  Downloading basemap-1.0.7.tar.gz (129.7MB):  31%  41.1MB\r",
        "  Downloading basemap-1.0.7.tar.gz (129.7MB):  31%  41.1MB\r",
        "  Downloading basemap-1.0.7.tar.gz (129.7MB):  31%  41.1MB\r",
        "  Downloading basemap-1.0.7.tar.gz (129.7MB):  31%  41.1MB\r",
        "  Downloading basemap-1.0.7.tar.gz (129.7MB):  31%  41.1MB"
       ]
      },
      {
       "output_type": "stream",
       "stream": "stdout",
       "text": [
        "\r",
        "  Downloading basemap-1.0.7.tar.gz (129.7MB):  31%  41.1MB\r",
        "  Downloading basemap-1.0.7.tar.gz (129.7MB):  31%  41.1MB\r",
        "  Downloading basemap-1.0.7.tar.gz (129.7MB):  31%  41.1MB\r",
        "  Downloading basemap-1.0.7.tar.gz (129.7MB):  31%  41.1MB\r",
        "  Downloading basemap-1.0.7.tar.gz (129.7MB):  31%  41.1MB\r",
        "  Downloading basemap-1.0.7.tar.gz (129.7MB):  31%  41.1MB\r",
        "  Downloading basemap-1.0.7.tar.gz (129.7MB):  31%  41.2MB"
       ]
      },
      {
       "output_type": "stream",
       "stream": "stdout",
       "text": [
        "\r",
        "  Downloading basemap-1.0.7.tar.gz (129.7MB):  31%  41.2MB\r",
        "  Downloading basemap-1.0.7.tar.gz (129.7MB):  31%  41.2MB\r",
        "  Downloading basemap-1.0.7.tar.gz (129.7MB):  31%  41.2MB\r",
        "  Downloading basemap-1.0.7.tar.gz (129.7MB):  31%  41.2MB\r",
        "  Downloading basemap-1.0.7.tar.gz (129.7MB):  31%  41.2MB\r",
        "  Downloading basemap-1.0.7.tar.gz (129.7MB):  31%  41.2MB"
       ]
      },
      {
       "output_type": "stream",
       "stream": "stdout",
       "text": [
        "\r",
        "  Downloading basemap-1.0.7.tar.gz (129.7MB):  31%  41.2MB\r",
        "  Downloading basemap-1.0.7.tar.gz (129.7MB):  31%  41.2MB"
       ]
      },
      {
       "output_type": "stream",
       "stream": "stdout",
       "text": [
        "\r",
        "  Downloading basemap-1.0.7.tar.gz (129.7MB):  31%  41.2MB"
       ]
      },
      {
       "output_type": "stream",
       "stream": "stdout",
       "text": [
        "\r",
        "  Downloading basemap-1.0.7.tar.gz (129.7MB):  31%  41.2MB\r",
        "  Downloading basemap-1.0.7.tar.gz (129.7MB):  31%  41.2MB\r",
        "  Downloading basemap-1.0.7.tar.gz (129.7MB):  31%  41.2MB"
       ]
      },
      {
       "output_type": "stream",
       "stream": "stdout",
       "text": [
        "\r",
        "  Downloading basemap-1.0.7.tar.gz (129.7MB):  31%  41.2MB\r",
        "  Downloading basemap-1.0.7.tar.gz (129.7MB):  31%  41.2MB\r",
        "  Downloading basemap-1.0.7.tar.gz (129.7MB):  31%  41.2MB\r",
        "  Downloading basemap-1.0.7.tar.gz (129.7MB):  31%  41.2MB\r",
        "  Downloading basemap-1.0.7.tar.gz (129.7MB):  31%  41.2MB"
       ]
      },
      {
       "output_type": "stream",
       "stream": "stdout",
       "text": [
        "\r",
        "  Downloading basemap-1.0.7.tar.gz (129.7MB):  31%  41.2MB\r",
        "  Downloading basemap-1.0.7.tar.gz (129.7MB):  31%  41.2MB"
       ]
      },
      {
       "output_type": "stream",
       "stream": "stdout",
       "text": [
        "\r",
        "  Downloading basemap-1.0.7.tar.gz (129.7MB):  31%  41.2MB\r",
        "  Downloading basemap-1.0.7.tar.gz (129.7MB):  31%  41.2MB\r",
        "  Downloading basemap-1.0.7.tar.gz (129.7MB):  31%  41.2MB\r",
        "  Downloading basemap-1.0.7.tar.gz (129.7MB):  31%  41.2MB\r",
        "  Downloading basemap-1.0.7.tar.gz (129.7MB):  31%  41.3MB\r",
        "  Downloading basemap-1.0.7.tar.gz (129.7MB):  31%  41.3MB\r",
        "  Downloading basemap-1.0.7.tar.gz (129.7MB):  31%  41.3MB"
       ]
      },
      {
       "output_type": "stream",
       "stream": "stdout",
       "text": [
        "\r",
        "  Downloading basemap-1.0.7.tar.gz (129.7MB):  31%  41.3MB"
       ]
      },
      {
       "output_type": "stream",
       "stream": "stdout",
       "text": [
        "\r",
        "  Downloading basemap-1.0.7.tar.gz (129.7MB):  31%  41.3MB\r",
        "  Downloading basemap-1.0.7.tar.gz (129.7MB):  31%  41.3MB\r",
        "  Downloading basemap-1.0.7.tar.gz (129.7MB):  31%  41.3MB\r",
        "  Downloading basemap-1.0.7.tar.gz (129.7MB):  31%  41.3MB\r",
        "  Downloading basemap-1.0.7.tar.gz (129.7MB):  31%  41.3MB\r",
        "  Downloading basemap-1.0.7.tar.gz (129.7MB):  31%  41.3MB\r",
        "  Downloading basemap-1.0.7.tar.gz (129.7MB):  31%  41.3MB"
       ]
      },
      {
       "output_type": "stream",
       "stream": "stdout",
       "text": [
        "\r",
        "  Downloading basemap-1.0.7.tar.gz (129.7MB):  31%  41.3MB\r",
        "  Downloading basemap-1.0.7.tar.gz (129.7MB):  31%  41.3MB\r",
        "  Downloading basemap-1.0.7.tar.gz (129.7MB):  31%  41.3MB\r",
        "  Downloading basemap-1.0.7.tar.gz (129.7MB):  31%  41.3MB\r",
        "  Downloading basemap-1.0.7.tar.gz (129.7MB):  31%  41.3MB\r",
        "  Downloading basemap-1.0.7.tar.gz (129.7MB):  31%  41.3MB"
       ]
      },
      {
       "output_type": "stream",
       "stream": "stdout",
       "text": [
        "\r",
        "  Downloading basemap-1.0.7.tar.gz (129.7MB):  31%  41.3MB\r",
        "  Downloading basemap-1.0.7.tar.gz (129.7MB):  31%  41.3MB\r",
        "  Downloading basemap-1.0.7.tar.gz (129.7MB):  31%  41.3MB\r",
        "  Downloading basemap-1.0.7.tar.gz (129.7MB):  31%  41.3MB"
       ]
      },
      {
       "output_type": "stream",
       "stream": "stdout",
       "text": [
        "\r",
        "  Downloading basemap-1.0.7.tar.gz (129.7MB):  31%  41.3MB"
       ]
      },
      {
       "output_type": "stream",
       "stream": "stdout",
       "text": [
        "\r",
        "  Downloading basemap-1.0.7.tar.gz (129.7MB):  31%  41.3MB\r",
        "  Downloading basemap-1.0.7.tar.gz (129.7MB):  31%  41.3MB\r",
        "  Downloading basemap-1.0.7.tar.gz (129.7MB):  31%  41.3MB\r",
        "  Downloading basemap-1.0.7.tar.gz (129.7MB):  31%  41.4MB\r",
        "  Downloading basemap-1.0.7.tar.gz (129.7MB):  31%  41.4MB\r",
        "  Downloading basemap-1.0.7.tar.gz (129.7MB):  31%  41.4MB\r",
        "  Downloading basemap-1.0.7.tar.gz (129.7MB):  31%  41.4MB\r",
        "  Downloading basemap-1.0.7.tar.gz (129.7MB):  31%  41.4MB\r",
        "  Downloading basemap-1.0.7.tar.gz (129.7MB):  31%  41.4MB\r",
        "  Downloading basemap-1.0.7.tar.gz (129.7MB):  31%  41.4MB\r",
        "  Downloading basemap-1.0.7.tar.gz (129.7MB):  31%  41.4MB\r",
        "  Downloading basemap-1.0.7.tar.gz (129.7MB):  31%  41.4MB"
       ]
      },
      {
       "output_type": "stream",
       "stream": "stdout",
       "text": [
        "\r",
        "  Downloading basemap-1.0.7.tar.gz (129.7MB):  31%  41.4MB\r",
        "  Downloading basemap-1.0.7.tar.gz (129.7MB):  31%  41.4MB\r",
        "  Downloading basemap-1.0.7.tar.gz (129.7MB):  31%  41.4MB\r",
        "  Downloading basemap-1.0.7.tar.gz (129.7MB):  31%  41.4MB\r",
        "  Downloading basemap-1.0.7.tar.gz (129.7MB):  31%  41.4MB"
       ]
      },
      {
       "output_type": "stream",
       "stream": "stdout",
       "text": [
        "\r",
        "  Downloading basemap-1.0.7.tar.gz (129.7MB):  31%  41.4MB\r",
        "  Downloading basemap-1.0.7.tar.gz (129.7MB):  31%  41.4MB\r",
        "  Downloading basemap-1.0.7.tar.gz (129.7MB):  31%  41.4MB\r",
        "  Downloading basemap-1.0.7.tar.gz (129.7MB):  31%  41.4MB\r",
        "  Downloading basemap-1.0.7.tar.gz (129.7MB):  31%  41.4MB"
       ]
      },
      {
       "output_type": "stream",
       "stream": "stdout",
       "text": [
        "\r",
        "  Downloading basemap-1.0.7.tar.gz (129.7MB):  31%  41.4MB\r",
        "  Downloading basemap-1.0.7.tar.gz (129.7MB):  31%  41.4MB\r",
        "  Downloading basemap-1.0.7.tar.gz (129.7MB):  31%  41.4MB\r",
        "  Downloading basemap-1.0.7.tar.gz (129.7MB):  31%  41.4MB\r",
        "  Downloading basemap-1.0.7.tar.gz (129.7MB):  31%  41.4MB\r",
        "  Downloading basemap-1.0.7.tar.gz (129.7MB):  31%  41.5MB"
       ]
      },
      {
       "output_type": "stream",
       "stream": "stdout",
       "text": [
        "\r",
        "  Downloading basemap-1.0.7.tar.gz (129.7MB):  31%  41.5MB\r",
        "  Downloading basemap-1.0.7.tar.gz (129.7MB):  31%  41.5MB\r",
        "  Downloading basemap-1.0.7.tar.gz (129.7MB):  31%  41.5MB\r",
        "  Downloading basemap-1.0.7.tar.gz (129.7MB):  31%  41.5MB\r",
        "  Downloading basemap-1.0.7.tar.gz (129.7MB):  31%  41.5MB\r",
        "  Downloading basemap-1.0.7.tar.gz (129.7MB):  31%  41.5MB"
       ]
      },
      {
       "output_type": "stream",
       "stream": "stdout",
       "text": [
        "\r",
        "  Downloading basemap-1.0.7.tar.gz (129.7MB):  31%  41.5MB\r",
        "  Downloading basemap-1.0.7.tar.gz (129.7MB):  31%  41.5MB\r",
        "  Downloading basemap-1.0.7.tar.gz (129.7MB):  31%  41.5MB\r",
        "  Downloading basemap-1.0.7.tar.gz (129.7MB):  31%  41.5MB\r",
        "  Downloading basemap-1.0.7.tar.gz (129.7MB):  31%  41.5MB\r",
        "  Downloading basemap-1.0.7.tar.gz (129.7MB):  31%  41.5MB"
       ]
      },
      {
       "output_type": "stream",
       "stream": "stdout",
       "text": [
        "\r",
        "  Downloading basemap-1.0.7.tar.gz (129.7MB):  32%  41.5MB\r",
        "  Downloading basemap-1.0.7.tar.gz (129.7MB):  32%  41.5MB\r",
        "  Downloading basemap-1.0.7.tar.gz (129.7MB):  32%  41.5MB\r",
        "  Downloading basemap-1.0.7.tar.gz (129.7MB):  32%  41.5MB\r",
        "  Downloading basemap-1.0.7.tar.gz (129.7MB):  32%  41.5MB\r",
        "  Downloading basemap-1.0.7.tar.gz (129.7MB):  32%  41.5MB"
       ]
      },
      {
       "output_type": "stream",
       "stream": "stdout",
       "text": [
        "\r",
        "  Downloading basemap-1.0.7.tar.gz (129.7MB):  32%  41.5MB"
       ]
      },
      {
       "output_type": "stream",
       "stream": "stdout",
       "text": [
        "\r",
        "  Downloading basemap-1.0.7.tar.gz (129.7MB):  32%  41.5MB\r",
        "  Downloading basemap-1.0.7.tar.gz (129.7MB):  32%  41.5MB\r",
        "  Downloading basemap-1.0.7.tar.gz (129.7MB):  32%  41.5MB\r",
        "  Downloading basemap-1.0.7.tar.gz (129.7MB):  32%  41.5MB\r",
        "  Downloading basemap-1.0.7.tar.gz (129.7MB):  32%  41.5MB\r",
        "  Downloading basemap-1.0.7.tar.gz (129.7MB):  32%  41.6MB"
       ]
      },
      {
       "output_type": "stream",
       "stream": "stdout",
       "text": [
        "\r",
        "  Downloading basemap-1.0.7.tar.gz (129.7MB):  32%  41.6MB"
       ]
      },
      {
       "output_type": "stream",
       "stream": "stdout",
       "text": [
        "\r",
        "  Downloading basemap-1.0.7.tar.gz (129.7MB):  32%  41.6MB\r",
        "  Downloading basemap-1.0.7.tar.gz (129.7MB):  32%  41.6MB\r",
        "  Downloading basemap-1.0.7.tar.gz (129.7MB):  32%  41.6MB\r",
        "  Downloading basemap-1.0.7.tar.gz (129.7MB):  32%  41.6MB\r",
        "  Downloading basemap-1.0.7.tar.gz (129.7MB):  32%  41.6MB\r",
        "  Downloading basemap-1.0.7.tar.gz (129.7MB):  32%  41.6MB"
       ]
      },
      {
       "output_type": "stream",
       "stream": "stdout",
       "text": [
        "\r",
        "  Downloading basemap-1.0.7.tar.gz (129.7MB):  32%  41.6MB\r",
        "  Downloading basemap-1.0.7.tar.gz (129.7MB):  32%  41.6MB"
       ]
      },
      {
       "output_type": "stream",
       "stream": "stdout",
       "text": [
        "\r",
        "  Downloading basemap-1.0.7.tar.gz (129.7MB):  32%  41.6MB\r",
        "  Downloading basemap-1.0.7.tar.gz (129.7MB):  32%  41.6MB\r",
        "  Downloading basemap-1.0.7.tar.gz (129.7MB):  32%  41.6MB\r",
        "  Downloading basemap-1.0.7.tar.gz (129.7MB):  32%  41.6MB\r",
        "  Downloading basemap-1.0.7.tar.gz (129.7MB):  32%  41.6MB\r",
        "  Downloading basemap-1.0.7.tar.gz (129.7MB):  32%  41.6MB"
       ]
      },
      {
       "output_type": "stream",
       "stream": "stdout",
       "text": [
        "\r",
        "  Downloading basemap-1.0.7.tar.gz (129.7MB):  32%  41.6MB"
       ]
      },
      {
       "output_type": "stream",
       "stream": "stdout",
       "text": [
        "\r",
        "  Downloading basemap-1.0.7.tar.gz (129.7MB):  32%  41.6MB\r",
        "  Downloading basemap-1.0.7.tar.gz (129.7MB):  32%  41.6MB\r",
        "  Downloading basemap-1.0.7.tar.gz (129.7MB):  32%  41.6MB\r",
        "  Downloading basemap-1.0.7.tar.gz (129.7MB):  32%  41.6MB\r",
        "  Downloading basemap-1.0.7.tar.gz (129.7MB):  32%  41.6MB\r",
        "  Downloading basemap-1.0.7.tar.gz (129.7MB):  32%  41.6MB\r",
        "  Downloading basemap-1.0.7.tar.gz (129.7MB):  32%  41.6MB\r",
        "  Downloading basemap-1.0.7.tar.gz (129.7MB):  32%  41.7MB"
       ]
      },
      {
       "output_type": "stream",
       "stream": "stdout",
       "text": [
        "\r",
        "  Downloading basemap-1.0.7.tar.gz (129.7MB):  32%  41.7MB\r",
        "  Downloading basemap-1.0.7.tar.gz (129.7MB):  32%  41.7MB\r",
        "  Downloading basemap-1.0.7.tar.gz (129.7MB):  32%  41.7MB\r",
        "  Downloading basemap-1.0.7.tar.gz (129.7MB):  32%  41.7MB\r",
        "  Downloading basemap-1.0.7.tar.gz (129.7MB):  32%  41.7MB\r",
        "  Downloading basemap-1.0.7.tar.gz (129.7MB):  32%  41.7MB\r",
        "  Downloading basemap-1.0.7.tar.gz (129.7MB):  32%  41.7MB\r",
        "  Downloading basemap-1.0.7.tar.gz (129.7MB):  32%  41.7MB"
       ]
      },
      {
       "output_type": "stream",
       "stream": "stdout",
       "text": [
        "\r",
        "  Downloading basemap-1.0.7.tar.gz (129.7MB):  32%  41.7MB"
       ]
      },
      {
       "output_type": "stream",
       "stream": "stdout",
       "text": [
        "\r",
        "  Downloading basemap-1.0.7.tar.gz (129.7MB):  32%  41.7MB\r",
        "  Downloading basemap-1.0.7.tar.gz (129.7MB):  32%  41.7MB\r",
        "  Downloading basemap-1.0.7.tar.gz (129.7MB):  32%  41.7MB\r",
        "  Downloading basemap-1.0.7.tar.gz (129.7MB):  32%  41.7MB\r",
        "  Downloading basemap-1.0.7.tar.gz (129.7MB):  32%  41.7MB\r",
        "  Downloading basemap-1.0.7.tar.gz (129.7MB):  32%  41.7MB\r",
        "  Downloading basemap-1.0.7.tar.gz (129.7MB):  32%  41.7MB\r",
        "  Downloading basemap-1.0.7.tar.gz (129.7MB):  32%  41.7MB\r",
        "  Downloading basemap-1.0.7.tar.gz (129.7MB):  32%  41.7MB"
       ]
      },
      {
       "output_type": "stream",
       "stream": "stdout",
       "text": [
        "\r",
        "  Downloading basemap-1.0.7.tar.gz (129.7MB):  32%  41.7MB\r",
        "  Downloading basemap-1.0.7.tar.gz (129.7MB):  32%  41.7MB\r",
        "  Downloading basemap-1.0.7.tar.gz (129.7MB):  32%  41.7MB\r",
        "  Downloading basemap-1.0.7.tar.gz (129.7MB):  32%  41.7MB\r",
        "  Downloading basemap-1.0.7.tar.gz (129.7MB):  32%  41.7MB\r",
        "  Downloading basemap-1.0.7.tar.gz (129.7MB):  32%  41.8MB\r",
        "  Downloading basemap-1.0.7.tar.gz (129.7MB):  32%  41.8MB\r",
        "  Downloading basemap-1.0.7.tar.gz (129.7MB):  32%  41.8MB"
       ]
      },
      {
       "output_type": "stream",
       "stream": "stdout",
       "text": [
        "\r",
        "  Downloading basemap-1.0.7.tar.gz (129.7MB):  32%  41.8MB"
       ]
      },
      {
       "output_type": "stream",
       "stream": "stdout",
       "text": [
        "\r",
        "  Downloading basemap-1.0.7.tar.gz (129.7MB):  32%  41.8MB\r",
        "  Downloading basemap-1.0.7.tar.gz (129.7MB):  32%  41.8MB\r",
        "  Downloading basemap-1.0.7.tar.gz (129.7MB):  32%  41.8MB\r",
        "  Downloading basemap-1.0.7.tar.gz (129.7MB):  32%  41.8MB\r",
        "  Downloading basemap-1.0.7.tar.gz (129.7MB):  32%  41.8MB\r",
        "  Downloading basemap-1.0.7.tar.gz (129.7MB):  32%  41.8MB\r",
        "  Downloading basemap-1.0.7.tar.gz (129.7MB):  32%  41.8MB"
       ]
      },
      {
       "output_type": "stream",
       "stream": "stdout",
       "text": [
        "\r",
        "  Downloading basemap-1.0.7.tar.gz (129.7MB):  32%  41.8MB\r",
        "  Downloading basemap-1.0.7.tar.gz (129.7MB):  32%  41.8MB"
       ]
      },
      {
       "output_type": "stream",
       "stream": "stdout",
       "text": [
        "\r",
        "  Downloading basemap-1.0.7.tar.gz (129.7MB):  32%  41.8MB\r",
        "  Downloading basemap-1.0.7.tar.gz (129.7MB):  32%  41.8MB\r",
        "  Downloading basemap-1.0.7.tar.gz (129.7MB):  32%  41.8MB\r",
        "  Downloading basemap-1.0.7.tar.gz (129.7MB):  32%  41.8MB\r",
        "  Downloading basemap-1.0.7.tar.gz (129.7MB):  32%  41.8MB"
       ]
      },
      {
       "output_type": "stream",
       "stream": "stdout",
       "text": [
        "\r",
        "  Downloading basemap-1.0.7.tar.gz (129.7MB):  32%  41.8MB\r",
        "  Downloading basemap-1.0.7.tar.gz (129.7MB):  32%  41.8MB\r",
        "  Downloading basemap-1.0.7.tar.gz (129.7MB):  32%  41.8MB\r",
        "  Downloading basemap-1.0.7.tar.gz (129.7MB):  32%  41.8MB\r",
        "  Downloading basemap-1.0.7.tar.gz (129.7MB):  32%  41.8MB"
       ]
      },
      {
       "output_type": "stream",
       "stream": "stdout",
       "text": [
        "\r",
        "  Downloading basemap-1.0.7.tar.gz (129.7MB):  32%  41.8MB\r",
        "  Downloading basemap-1.0.7.tar.gz (129.7MB):  32%  41.8MB\r",
        "  Downloading basemap-1.0.7.tar.gz (129.7MB):  32%  41.9MB\r",
        "  Downloading basemap-1.0.7.tar.gz (129.7MB):  32%  41.9MB"
       ]
      },
      {
       "output_type": "stream",
       "stream": "stdout",
       "text": [
        "\r",
        "  Downloading basemap-1.0.7.tar.gz (129.7MB):  32%  41.9MB\r",
        "  Downloading basemap-1.0.7.tar.gz (129.7MB):  32%  41.9MB\r",
        "  Downloading basemap-1.0.7.tar.gz (129.7MB):  32%  41.9MB\r",
        "  Downloading basemap-1.0.7.tar.gz (129.7MB):  32%  41.9MB\r",
        "  Downloading basemap-1.0.7.tar.gz (129.7MB):  32%  41.9MB\r",
        "  Downloading basemap-1.0.7.tar.gz (129.7MB):  32%  41.9MB\r",
        "  Downloading basemap-1.0.7.tar.gz (129.7MB):  32%  41.9MB"
       ]
      },
      {
       "output_type": "stream",
       "stream": "stdout",
       "text": [
        "\r",
        "  Downloading basemap-1.0.7.tar.gz (129.7MB):  32%  41.9MB\r",
        "  Downloading basemap-1.0.7.tar.gz (129.7MB):  32%  41.9MB"
       ]
      },
      {
       "output_type": "stream",
       "stream": "stdout",
       "text": [
        "\r",
        "  Downloading basemap-1.0.7.tar.gz (129.7MB):  32%  41.9MB\r",
        "  Downloading basemap-1.0.7.tar.gz (129.7MB):  32%  41.9MB\r",
        "  Downloading basemap-1.0.7.tar.gz (129.7MB):  32%  41.9MB\r",
        "  Downloading basemap-1.0.7.tar.gz (129.7MB):  32%  41.9MB\r",
        "  Downloading basemap-1.0.7.tar.gz (129.7MB):  32%  41.9MB\r",
        "  Downloading basemap-1.0.7.tar.gz (129.7MB):  32%  41.9MB\r",
        "  Downloading basemap-1.0.7.tar.gz (129.7MB):  32%  41.9MB\r",
        "  Downloading basemap-1.0.7.tar.gz (129.7MB):  32%  41.9MB"
       ]
      },
      {
       "output_type": "stream",
       "stream": "stdout",
       "text": [
        "\r",
        "  Downloading basemap-1.0.7.tar.gz (129.7MB):  32%  41.9MB\r",
        "  Downloading basemap-1.0.7.tar.gz (129.7MB):  32%  41.9MB"
       ]
      },
      {
       "output_type": "stream",
       "stream": "stdout",
       "text": [
        "\r",
        "  Downloading basemap-1.0.7.tar.gz (129.7MB):  32%  41.9MB\r",
        "  Downloading basemap-1.0.7.tar.gz (129.7MB):  32%  41.9MB\r",
        "  Downloading basemap-1.0.7.tar.gz (129.7MB):  32%  41.9MB\r",
        "  Downloading basemap-1.0.7.tar.gz (129.7MB):  32%  42.0MB\r",
        "  Downloading basemap-1.0.7.tar.gz (129.7MB):  32%  42.0MB\r",
        "  Downloading basemap-1.0.7.tar.gz (129.7MB):  32%  42.0MB\r",
        "  Downloading basemap-1.0.7.tar.gz (129.7MB):  32%  42.0MB\r",
        "  Downloading basemap-1.0.7.tar.gz (129.7MB):  32%  42.0MB\r",
        "  Downloading basemap-1.0.7.tar.gz (129.7MB):  32%  42.0MB"
       ]
      },
      {
       "output_type": "stream",
       "stream": "stdout",
       "text": [
        "\r",
        "  Downloading basemap-1.0.7.tar.gz (129.7MB):  32%  42.0MB\r",
        "  Downloading basemap-1.0.7.tar.gz (129.7MB):  32%  42.0MB\r",
        "  Downloading basemap-1.0.7.tar.gz (129.7MB):  32%  42.0MB\r",
        "  Downloading basemap-1.0.7.tar.gz (129.7MB):  32%  42.0MB\r",
        "  Downloading basemap-1.0.7.tar.gz (129.7MB):  32%  42.0MB\r",
        "  Downloading basemap-1.0.7.tar.gz (129.7MB):  32%  42.0MB\r",
        "  Downloading basemap-1.0.7.tar.gz (129.7MB):  32%  42.0MB\r",
        "  Downloading basemap-1.0.7.tar.gz (129.7MB):  32%  42.0MB\r",
        "  Downloading basemap-1.0.7.tar.gz (129.7MB):  32%  42.0MB\r",
        "  Downloading basemap-1.0.7.tar.gz (129.7MB):  32%  42.0MB\r",
        "  Downloading basemap-1.0.7.tar.gz (129.7MB):  32%  42.0MB"
       ]
      },
      {
       "output_type": "stream",
       "stream": "stdout",
       "text": [
        "\r",
        "  Downloading basemap-1.0.7.tar.gz (129.7MB):  32%  42.0MB"
       ]
      },
      {
       "output_type": "stream",
       "stream": "stdout",
       "text": [
        "\r",
        "  Downloading basemap-1.0.7.tar.gz (129.7MB):  32%  42.0MB\r",
        "  Downloading basemap-1.0.7.tar.gz (129.7MB):  32%  42.0MB\r",
        "  Downloading basemap-1.0.7.tar.gz (129.7MB):  32%  42.0MB\r",
        "  Downloading basemap-1.0.7.tar.gz (129.7MB):  32%  42.0MB\r",
        "  Downloading basemap-1.0.7.tar.gz (129.7MB):  32%  42.0MB\r",
        "  Downloading basemap-1.0.7.tar.gz (129.7MB):  32%  42.0MB\r",
        "  Downloading basemap-1.0.7.tar.gz (129.7MB):  32%  42.0MB\r",
        "  Downloading basemap-1.0.7.tar.gz (129.7MB):  32%  42.1MB\r",
        "  Downloading basemap-1.0.7.tar.gz (129.7MB):  32%  42.1MB\r",
        "  Downloading basemap-1.0.7.tar.gz (129.7MB):  32%  42.1MB\r",
        "  Downloading basemap-1.0.7.tar.gz (129.7MB):  32%  42.1MB"
       ]
      },
      {
       "output_type": "stream",
       "stream": "stdout",
       "text": [
        "\r",
        "  Downloading basemap-1.0.7.tar.gz (129.7MB):  32%  42.1MB\r",
        "  Downloading basemap-1.0.7.tar.gz (129.7MB):  32%  42.1MB\r",
        "  Downloading basemap-1.0.7.tar.gz (129.7MB):  32%  42.1MB\r",
        "  Downloading basemap-1.0.7.tar.gz (129.7MB):  32%  42.1MB\r",
        "  Downloading basemap-1.0.7.tar.gz (129.7MB):  32%  42.1MB\r",
        "  Downloading basemap-1.0.7.tar.gz (129.7MB):  32%  42.1MB\r",
        "  Downloading basemap-1.0.7.tar.gz (129.7MB):  32%  42.1MB\r",
        "  Downloading basemap-1.0.7.tar.gz (129.7MB):  32%  42.1MB\r",
        "  Downloading basemap-1.0.7.tar.gz (129.7MB):  32%  42.1MB\r",
        "  Downloading basemap-1.0.7.tar.gz (129.7MB):  32%  42.1MB\r",
        "  Downloading basemap-1.0.7.tar.gz (129.7MB):  32%  42.1MB\r",
        "  Downloading basemap-1.0.7.tar.gz (129.7MB):  32%  42.1MB"
       ]
      },
      {
       "output_type": "stream",
       "stream": "stdout",
       "text": [
        "\r",
        "  Downloading basemap-1.0.7.tar.gz (129.7MB):  32%  42.1MB\r",
        "  Downloading basemap-1.0.7.tar.gz (129.7MB):  32%  42.1MB\r",
        "  Downloading basemap-1.0.7.tar.gz (129.7MB):  32%  42.1MB\r",
        "  Downloading basemap-1.0.7.tar.gz (129.7MB):  32%  42.1MB\r",
        "  Downloading basemap-1.0.7.tar.gz (129.7MB):  32%  42.1MB\r",
        "  Downloading basemap-1.0.7.tar.gz (129.7MB):  32%  42.1MB\r",
        "  Downloading basemap-1.0.7.tar.gz (129.7MB):  32%  42.1MB\r",
        "  Downloading basemap-1.0.7.tar.gz (129.7MB):  32%  42.1MB\r",
        "  Downloading basemap-1.0.7.tar.gz (129.7MB):  32%  42.2MB\r",
        "  Downloading basemap-1.0.7.tar.gz (129.7MB):  32%  42.2MB\r",
        "  Downloading basemap-1.0.7.tar.gz (129.7MB):  32%  42.2MB\r",
        "  Downloading basemap-1.0.7.tar.gz (129.7MB):  32%  42.2MB\r",
        "  Downloading basemap-1.0.7.tar.gz (129.7MB):  32%  42.2MB"
       ]
      },
      {
       "output_type": "stream",
       "stream": "stdout",
       "text": [
        "\r",
        "  Downloading basemap-1.0.7.tar.gz (129.7MB):  32%  42.2MB\r",
        "  Downloading basemap-1.0.7.tar.gz (129.7MB):  32%  42.2MB\r",
        "  Downloading basemap-1.0.7.tar.gz (129.7MB):  32%  42.2MB\r",
        "  Downloading basemap-1.0.7.tar.gz (129.7MB):  32%  42.2MB\r",
        "  Downloading basemap-1.0.7.tar.gz (129.7MB):  32%  42.2MB\r",
        "  Downloading basemap-1.0.7.tar.gz (129.7MB):  32%  42.2MB\r",
        "  Downloading basemap-1.0.7.tar.gz (129.7MB):  32%  42.2MB\r",
        "  Downloading basemap-1.0.7.tar.gz (129.7MB):  32%  42.2MB\r",
        "  Downloading basemap-1.0.7.tar.gz (129.7MB):  32%  42.2MB\r",
        "  Downloading basemap-1.0.7.tar.gz (129.7MB):  32%  42.2MB\r",
        "  Downloading basemap-1.0.7.tar.gz (129.7MB):  32%  42.2MB\r",
        "  Downloading basemap-1.0.7.tar.gz (129.7MB):  32%  42.2MB"
       ]
      },
      {
       "output_type": "stream",
       "stream": "stdout",
       "text": [
        "\r",
        "  Downloading basemap-1.0.7.tar.gz (129.7MB):  32%  42.2MB\r",
        "  Downloading basemap-1.0.7.tar.gz (129.7MB):  32%  42.2MB\r",
        "  Downloading basemap-1.0.7.tar.gz (129.7MB):  32%  42.2MB\r",
        "  Downloading basemap-1.0.7.tar.gz (129.7MB):  32%  42.2MB\r",
        "  Downloading basemap-1.0.7.tar.gz (129.7MB):  32%  42.2MB\r",
        "  Downloading basemap-1.0.7.tar.gz (129.7MB):  32%  42.2MB\r",
        "  Downloading basemap-1.0.7.tar.gz (129.7MB):  32%  42.2MB\r",
        "  Downloading basemap-1.0.7.tar.gz (129.7MB):  32%  42.3MB\r",
        "  Downloading basemap-1.0.7.tar.gz (129.7MB):  32%  42.3MB\r",
        "  Downloading basemap-1.0.7.tar.gz (129.7MB):  32%  42.3MB\r",
        "  Downloading basemap-1.0.7.tar.gz (129.7MB):  32%  42.3MB"
       ]
      },
      {
       "output_type": "stream",
       "stream": "stdout",
       "text": [
        "\r",
        "  Downloading basemap-1.0.7.tar.gz (129.7MB):  32%  42.3MB\r",
        "  Downloading basemap-1.0.7.tar.gz (129.7MB):  32%  42.3MB"
       ]
      },
      {
       "output_type": "stream",
       "stream": "stdout",
       "text": [
        "\r",
        "  Downloading basemap-1.0.7.tar.gz (129.7MB):  32%  42.3MB\r",
        "  Downloading basemap-1.0.7.tar.gz (129.7MB):  32%  42.3MB\r",
        "  Downloading basemap-1.0.7.tar.gz (129.7MB):  32%  42.3MB\r",
        "  Downloading basemap-1.0.7.tar.gz (129.7MB):  32%  42.3MB\r",
        "  Downloading basemap-1.0.7.tar.gz (129.7MB):  32%  42.3MB\r",
        "  Downloading basemap-1.0.7.tar.gz (129.7MB):  32%  42.3MB\r",
        "  Downloading basemap-1.0.7.tar.gz (129.7MB):  32%  42.3MB\r",
        "  Downloading basemap-1.0.7.tar.gz (129.7MB):  32%  42.3MB\r",
        "  Downloading basemap-1.0.7.tar.gz (129.7MB):  32%  42.3MB\r",
        "  Downloading basemap-1.0.7.tar.gz (129.7MB):  32%  42.3MB\r",
        "  Downloading basemap-1.0.7.tar.gz (129.7MB):  32%  42.3MB\r",
        "  Downloading basemap-1.0.7.tar.gz (129.7MB):  32%  42.3MB\r",
        "  Downloading basemap-1.0.7.tar.gz (129.7MB):  32%  42.3MB"
       ]
      },
      {
       "output_type": "stream",
       "stream": "stdout",
       "text": [
        "\r",
        "  Downloading basemap-1.0.7.tar.gz (129.7MB):  32%  42.3MB\r",
        "  Downloading basemap-1.0.7.tar.gz (129.7MB):  32%  42.3MB\r",
        "  Downloading basemap-1.0.7.tar.gz (129.7MB):  32%  42.3MB\r",
        "  Downloading basemap-1.0.7.tar.gz (129.7MB):  32%  42.3MB\r",
        "  Downloading basemap-1.0.7.tar.gz (129.7MB):  32%  42.3MB\r",
        "  Downloading basemap-1.0.7.tar.gz (129.7MB):  32%  42.3MB\r",
        "  Downloading basemap-1.0.7.tar.gz (129.7MB):  32%  42.4MB\r",
        "  Downloading basemap-1.0.7.tar.gz (129.7MB):  32%  42.4MB\r",
        "  Downloading basemap-1.0.7.tar.gz (129.7MB):  32%  42.4MB\r",
        "  Downloading basemap-1.0.7.tar.gz (129.7MB):  32%  42.4MB\r",
        "  Downloading basemap-1.0.7.tar.gz (129.7MB):  32%  42.4MB"
       ]
      },
      {
       "output_type": "stream",
       "stream": "stdout",
       "text": [
        "\r",
        "  Downloading basemap-1.0.7.tar.gz (129.7MB):  32%  42.4MB\r",
        "  Downloading basemap-1.0.7.tar.gz (129.7MB):  32%  42.4MB"
       ]
      },
      {
       "output_type": "stream",
       "stream": "stdout",
       "text": [
        "\r",
        "  Downloading basemap-1.0.7.tar.gz (129.7MB):  32%  42.4MB\r",
        "  Downloading basemap-1.0.7.tar.gz (129.7MB):  32%  42.4MB\r",
        "  Downloading basemap-1.0.7.tar.gz (129.7MB):  32%  42.4MB\r",
        "  Downloading basemap-1.0.7.tar.gz (129.7MB):  32%  42.4MB"
       ]
      },
      {
       "output_type": "stream",
       "stream": "stdout",
       "text": [
        "\r",
        "  Downloading basemap-1.0.7.tar.gz (129.7MB):  32%  42.4MB\r",
        "  Downloading basemap-1.0.7.tar.gz (129.7MB):  32%  42.4MB\r",
        "  Downloading basemap-1.0.7.tar.gz (129.7MB):  32%  42.4MB\r",
        "  Downloading basemap-1.0.7.tar.gz (129.7MB):  32%  42.4MB\r",
        "  Downloading basemap-1.0.7.tar.gz (129.7MB):  32%  42.4MB\r",
        "  Downloading basemap-1.0.7.tar.gz (129.7MB):  32%  42.4MB\r",
        "  Downloading basemap-1.0.7.tar.gz (129.7MB):  32%  42.4MB\r",
        "  Downloading basemap-1.0.7.tar.gz (129.7MB):  32%  42.4MB\r",
        "  Downloading basemap-1.0.7.tar.gz (129.7MB):  32%  42.4MB\r",
        "  Downloading basemap-1.0.7.tar.gz (129.7MB):  32%  42.4MB\r",
        "  Downloading basemap-1.0.7.tar.gz (129.7MB):  32%  42.4MB\r",
        "  Downloading basemap-1.0.7.tar.gz (129.7MB):  32%  42.4MB\r",
        "  Downloading basemap-1.0.7.tar.gz (129.7MB):  32%  42.4MB\r",
        "  Downloading basemap-1.0.7.tar.gz (129.7MB):  32%  42.5MB\r",
        "  Downloading basemap-1.0.7.tar.gz (129.7MB):  32%  42.5MB"
       ]
      },
      {
       "output_type": "stream",
       "stream": "stdout",
       "text": [
        "\r",
        "  Downloading basemap-1.0.7.tar.gz (129.7MB):  32%  42.5MB\r",
        "  Downloading basemap-1.0.7.tar.gz (129.7MB):  32%  42.5MB\r",
        "  Downloading basemap-1.0.7.tar.gz (129.7MB):  32%  42.5MB\r",
        "  Downloading basemap-1.0.7.tar.gz (129.7MB):  32%  42.5MB\r",
        "  Downloading basemap-1.0.7.tar.gz (129.7MB):  32%  42.5MB\r",
        "  Downloading basemap-1.0.7.tar.gz (129.7MB):  32%  42.5MB\r",
        "  Downloading basemap-1.0.7.tar.gz (129.7MB):  32%  42.5MB"
       ]
      },
      {
       "output_type": "stream",
       "stream": "stdout",
       "text": [
        "\r",
        "  Downloading basemap-1.0.7.tar.gz (129.7MB):             \r",
        "  Downloading basemap-1.0.7.tar.gz (129.7MB): 42.5MB downloaded\r\n",
        "Cleaning up...\r\n"
       ]
      },
      {
       "output_type": "stream",
       "stream": "stdout",
       "text": [
        "Exception:\r\n",
        "Traceback (most recent call last):\r\n",
        "  File \"//anaconda/lib/python2.7/site-packages/pip/basecommand.py\", line 134, in main\r\n",
        "    status = self.run(options, args)\r\n",
        "  File \"//anaconda/lib/python2.7/site-packages/pip/commands/install.py\", line 236, in run\r\n",
        "    requirement_set.prepare_files(finder, force_root_egg_info=self.bundle, bundle=self.bundle)\r\n",
        "  File \"//anaconda/lib/python2.7/site-packages/pip/req.py\", line 1092, in prepare_files\r\n",
        "    self.unpack_url(url, location, self.is_download)\r\n",
        "  File \"//anaconda/lib/python2.7/site-packages/pip/req.py\", line 1238, in unpack_url\r\n",
        "    retval = unpack_http_url(link, location, self.download_cache, self.download_dir)\r\n",
        "  File \"//anaconda/lib/python2.7/site-packages/pip/download.py\", line 622, in unpack_http_url\r\n",
        "    download_hash = _download_url(resp, link, temp_location)\r\n",
        "  File \"//anaconda/lib/python2.7/site-packages/pip/download.py\", line 495, in _download_url\r\n",
        "    chunk = resp.read(4096)\r\n",
        "  File \"//anaconda/lib/python2.7/socket.py\", line 380, in read\r\n",
        "    data = self._sock.recv(left)\r\n",
        "  File \"//anaconda/lib/python2.7/httplib.py\", line 567, in read\r\n",
        "    s = self.fp.read(amt)\r\n",
        "  File \"//anaconda/lib/python2.7/socket.py\", line 380, in read\r\n",
        "    data = self._sock.recv(left)\r\n",
        "timeout: timed out\r\n",
        "\r\n"
       ]
      },
      {
       "output_type": "stream",
       "stream": "stdout",
       "text": [
        "Storing complete log in /Users/dingmia/.pip/pip.log\r\n"
       ]
      }
     ],
     "prompt_number": 16
    },
    {
     "cell_type": "code",
     "collapsed": false,
     "input": [],
     "language": "python",
     "metadata": {},
     "outputs": []
    }
   ],
   "metadata": {}
  }
 ]
}